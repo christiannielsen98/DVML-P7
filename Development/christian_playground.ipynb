{
 "cells": [
  {
   "cell_type": "code",
   "execution_count": 14,
   "metadata": {},
   "outputs": [],
   "source": [
    "import sys\n",
    "sys.path.append(sys.path[0][:sys.path[0].find('DVML-P7') + len('DVML-P7')])\n",
    "import re\n",
    "import numpy as np\n",
    "import pandas as pd\n",
    "from Code.UtilityFunctions.run_query import run_query\n",
    "from Code.UtilityFunctions.get_data_path import get_path\n",
    "from Code.UtilityFunctions.wikidata_functions import wikidata_query, categories_dict_singular, get_city_of_location_with_long_lat\n",
    "from collections import Counter"
   ]
  },
  {
   "cell_type": "code",
   "execution_count": 5,
   "metadata": {},
   "outputs": [],
   "source": [
    "location_mappings = pd.read_csv(get_path('location_mappings.csv'))"
   ]
  },
  {
   "cell_type": "code",
   "execution_count": 11,
   "metadata": {},
   "outputs": [
    {
     "data": {
      "text/plain": [
       "array(['-119.71,34.43', '-90.34,38.55', '-110.88,32.22', ...,\n",
       "       '-90.05,30.02', '-90.23,38.66', '-75.41,40.2'], dtype=object)"
      ]
     },
     "execution_count": 11,
     "metadata": {},
     "output_type": "execute_result"
    }
   ],
   "source": [
    "biz = pd.read_json(get_path(\"yelp_academic_dataset_business.json\"), lines=True)\n",
    "\n",
    "coordinates = (biz[\"longitude\"].apply(round, args=(2,)).astype(str) + \",\" + biz[\"latitude\"].apply(round, args=(2,)).astype(str)).unique()\n",
    "coordinates"
   ]
  },
  {
   "cell_type": "code",
   "execution_count": 19,
   "metadata": {},
   "outputs": [],
   "source": [
    "coordinates_df = pd.DataFrame(coordinates, columns=['coordinates'])"
   ]
  },
  {
   "cell_type": "code",
   "execution_count": 20,
   "metadata": {},
   "outputs": [],
   "source": [
    "df = pd.DataFrame(coordinates_df['coordinates'].apply(lambda x: [x] + list(get_city_of_location_with_long_lat(x))).tolist(), columns=['coordinates','mapped_qid', 'qid_label'])\n"
   ]
  },
  {
   "cell_type": "code",
   "execution_count": 21,
   "metadata": {},
   "outputs": [
    {
     "name": "stdout",
     "output_type": "stream",
     "text": [
      "Number of unique qid's: 248\n",
      "Number of unique city names: 245\n"
     ]
    }
   ],
   "source": [
    "print(f\"Number of unique qid's: {len(df.mapped_qid.unique())}\\nNumber of unique city names: {len(df.qid_label.unique())}\")"
   ]
  },
  {
   "cell_type": "code",
   "execution_count": 16,
   "metadata": {},
   "outputs": [
    {
     "name": "stdout",
     "output_type": "stream",
     "text": [
      "Number of unique qid's: 248\n",
      "Number of unique city names: 245\n"
     ]
    }
   ],
   "source": [
    "print(f\"Number of unique qid's: {len(location_mappings.city_qid.unique())}\\nNumber of unique city names: {len(location_mappings.cityLabel.unique())}\")"
   ]
  },
  {
   "cell_type": "code",
   "execution_count": 1,
   "metadata": {},
   "outputs": [
    {
     "data": {
      "text/html": [
       "<div>\n",
       "<style scoped>\n",
       "    .dataframe tbody tr th:only-of-type {\n",
       "        vertical-align: middle;\n",
       "    }\n",
       "\n",
       "    .dataframe tbody tr th {\n",
       "        vertical-align: top;\n",
       "    }\n",
       "\n",
       "    .dataframe thead th {\n",
       "        text-align: right;\n",
       "    }\n",
       "</style>\n",
       "<table border=\"1\" class=\"dataframe\">\n",
       "  <thead>\n",
       "    <tr style=\"text-align: right;\">\n",
       "      <th></th>\n",
       "      <th>p.value</th>\n",
       "    </tr>\n",
       "  </thead>\n",
       "  <tbody>\n",
       "    <tr>\n",
       "      <th>0</th>\n",
       "      <td>http://www.w3.org/2000/01/rdf-schema#Class</td>\n",
       "    </tr>\n",
       "    <tr>\n",
       "      <th>1</th>\n",
       "      <td>https://schema.org/url</td>\n",
       "    </tr>\n",
       "    <tr>\n",
       "      <th>2</th>\n",
       "      <td>https://schema.org/aggregateRating</td>\n",
       "    </tr>\n",
       "    <tr>\n",
       "      <th>3</th>\n",
       "      <td>https://schema.org/about</td>\n",
       "    </tr>\n",
       "    <tr>\n",
       "      <th>4</th>\n",
       "      <td>https://schema.org/dateCreated</td>\n",
       "    </tr>\n",
       "    <tr>\n",
       "      <th>5</th>\n",
       "      <td>https://schema.org/description</td>\n",
       "    </tr>\n",
       "    <tr>\n",
       "      <th>6</th>\n",
       "      <td>https://purl.archive.org/purl/yelp/ontology#cool</td>\n",
       "    </tr>\n",
       "    <tr>\n",
       "      <th>7</th>\n",
       "      <td>https://purl.archive.org/purl/yelp/ontology#funny</td>\n",
       "    </tr>\n",
       "    <tr>\n",
       "      <th>8</th>\n",
       "      <td>https://purl.archive.org/purl/yelp/ontology#useful</td>\n",
       "    </tr>\n",
       "  </tbody>\n",
       "</table>\n",
       "</div>"
      ],
      "text/plain": [
       "                                              p.value\n",
       "0          http://www.w3.org/2000/01/rdf-schema#Class\n",
       "1                              https://schema.org/url\n",
       "2                  https://schema.org/aggregateRating\n",
       "3                            https://schema.org/about\n",
       "4                      https://schema.org/dateCreated\n",
       "5                      https://schema.org/description\n",
       "6    https://purl.archive.org/purl/yelp/ontology#cool\n",
       "7   https://purl.archive.org/purl/yelp/ontology#funny\n",
       "8  https://purl.archive.org/purl/yelp/ontology#useful"
      ]
     },
     "execution_count": 1,
     "metadata": {},
     "output_type": "execute_result"
    }
   ],
   "source": [
    "from Code.UtilityFunctions.run_query import run_query\n",
    "import pandas as pd\n",
    "query = \"\"\"\n",
    "SELECT DISTINCT ?p\n",
    "WHERE {\n",
    "    ?s ?p ?o .\n",
    "    ?s rdfs:Class schema:UserReview .\n",
    "}\n",
    "\"\"\"\n",
    "\n",
    "predicates = run_query(query, as_dataframe=True)\n",
    "predicates"
   ]
  },
  {
   "cell_type": "code",
   "execution_count": null,
   "metadata": {},
   "outputs": [],
   "source": [
    "pd.set_option('display.max_rows', 500)"
   ]
  },
  {
   "cell_type": "code",
   "execution_count": 74,
   "metadata": {},
   "outputs": [
    {
     "name": "stdout",
     "output_type": "stream",
     "text": [
      "rdfs:Class\n",
      "schema:url\n",
      "schema:aggregateRating\n",
      "schema:about\n",
      "schema:dateCreated\n",
      "schema:description\n",
      "yelpont:cool\n",
      "yelpont:funny\n",
      "yelpont:useful\n"
     ]
    },
    {
     "name": "stderr",
     "output_type": "stream",
     "text": [
      "/tmp/ipykernel_726841/3632575354.py:2: FutureWarning: The default value of regex will change from True to False in a future version.\n",
      "  preds = preds.str.replace('https://schema.org/', 'schema:')\n",
      "/tmp/ipykernel_726841/3632575354.py:3: FutureWarning: The default value of regex will change from True to False in a future version.\n",
      "  preds = preds.str.replace('http://www.w3.org/2000/01/rdf-schema#', 'rdfs:')\n",
      "/tmp/ipykernel_726841/3632575354.py:4: FutureWarning: The default value of regex will change from True to False in a future version.\n",
      "  preds = preds.str.replace('https://purl.archive.org/purl/yelp/ontology#', 'yelpont:')\n"
     ]
    }
   ],
   "source": [
    "preds = predicates['p.value']\n",
    "preds = preds.str.replace('https://schema.org/', 'schema:')\n",
    "preds = preds.str.replace('http://www.w3.org/2000/01/rdf-schema#', 'rdfs:')\n",
    "preds = preds.str.replace('https://purl.archive.org/purl/yelp/ontology#', 'yelpont:')\n",
    "print(\"\\n\".join(list(preds)))"
   ]
  },
  {
   "cell_type": "code",
   "execution_count": null,
   "metadata": {},
   "outputs": [],
   "source": []
  }
 ],
 "metadata": {
  "kernelspec": {
   "display_name": "Python 3",
   "language": "python",
   "name": "python3"
  },
  "language_info": {
   "codemirror_mode": {
    "name": "ipython",
    "version": 3
   },
   "file_extension": ".py",
   "mimetype": "text/x-python",
   "name": "python",
   "nbconvert_exporter": "python",
   "pygments_lexer": "ipython3",
   "version": "3.10.6"
  },
  "orig_nbformat": 4,
  "vscode": {
   "interpreter": {
    "hash": "7e1998ff7f8aa20ada591c520b972326324e5ea05489af9e422744c7c09f6dad"
   }
  }
 },
 "nbformat": 4,
 "nbformat_minor": 2
}
