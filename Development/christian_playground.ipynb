{
 "cells": [
  {
   "cell_type": "code",
   "execution_count": 16,
   "metadata": {},
   "outputs": [],
   "source": [
    "import sys\n",
    "sys.path.append(sys.path[0][:sys.path[0].find('DVML-P7') + len('DVML-P7')])\n",
    "\n",
    "import pandas as pd\n",
    "from Code.UtilityFunctions.run_query import run_query\n",
    "from Code.UtilityFunctions.get_data_path import get_path\n",
    "from Code.UtilityFunctions.wikidata_functions import get_name_of_location_with_long_lat, wikidata_query"
   ]
  },
  {
   "cell_type": "code",
   "execution_count": 2,
   "metadata": {},
   "outputs": [
    {
     "data": {
      "text/plain": [
       "array(['-119.71,34.43', '-90.34,38.55', '-110.88,32.22', ...,\n",
       "       '-90.05,30.02', '-90.23,38.66', '-75.41,40.2'], dtype=object)"
      ]
     },
     "execution_count": 2,
     "metadata": {},
     "output_type": "execute_result"
    }
   ],
   "source": [
    "biz = pd.read_json(get_path(\"yelp_academic_dataset_business.json\"), lines=True)\n",
    "\n",
    "coordinates = (biz[\"longitude\"].apply(round, args=(2,)).astype(str) + \",\" + biz[\"latitude\"].apply(round, args=(2,)).astype(str)).unique()\n",
    "coordinates"
   ]
  },
  {
   "cell_type": "code",
   "execution_count": 3,
   "metadata": {},
   "outputs": [
    {
     "data": {
      "text/plain": [
       "array(['-119.71,34.43', '-90.34,38.55', '-110.88,32.22', '-75.16,39.96',\n",
       "       '-75.47,40.34', '-87.06,36.27', '-90.34,38.63', '-82.73,27.77',\n",
       "       '-90.32,38.57', '-86.77,36.21'], dtype=object)"
      ]
     },
     "execution_count": 3,
     "metadata": {},
     "output_type": "execute_result"
    }
   ],
   "source": [
    "coordinates[0:10]"
   ]
  },
  {
   "cell_type": "code",
   "execution_count": 4,
   "metadata": {},
   "outputs": [
    {
     "data": {
      "text/plain": [
       "'-119.71,34.43'"
      ]
     },
     "execution_count": 4,
     "metadata": {},
     "output_type": "execute_result"
    }
   ],
   "source": [
    "coordinates[0:1][0]"
   ]
  },
  {
   "cell_type": "code",
   "execution_count": 47,
   "metadata": {},
   "outputs": [],
   "source": [
    "coordinates_df = pd.DataFrame(coordinates, columns=['coordinates']).head(1)"
   ]
  },
  {
   "cell_type": "code",
   "execution_count": 6,
   "metadata": {},
   "outputs": [
    {
     "data": {
      "text/plain": [
       "('Q159288', 'Santa Barbara')"
      ]
     },
     "execution_count": 6,
     "metadata": {},
     "output_type": "execute_result"
    }
   ],
   "source": [
    "get_name_of_location_with_long_lat(coordinates[0])"
   ]
  },
  {
   "cell_type": "code",
   "execution_count": 7,
   "metadata": {},
   "outputs": [],
   "source": [
    "for i in coordinates_df.itertuples():\n",
    "    if get_name_of_location_with_long_lat(i.coordinates) is None:\n",
    "        print(i.coordinates, get_name_of_location_with_long_lat(i.coordinates))"
   ]
  },
  {
   "cell_type": "code",
   "execution_count": 8,
   "metadata": {},
   "outputs": [],
   "source": [
    "df = pd.DataFrame(coordinates_df['coordinates'].apply(lambda x: [x] + list(get_name_of_location_with_long_lat(x))).tolist(), columns=['coordinates','mapped_qid', 'qid_label'])\n",
    "df.to_csv(path_or_buf='/home/ubuntu/DVML-P7/Development/location_mappings.csv',index=False)"
   ]
  },
  {
   "cell_type": "code",
   "execution_count": 9,
   "metadata": {},
   "outputs": [
    {
     "data": {
      "text/html": [
       "<div>\n",
       "<style scoped>\n",
       "    .dataframe tbody tr th:only-of-type {\n",
       "        vertical-align: middle;\n",
       "    }\n",
       "\n",
       "    .dataframe tbody tr th {\n",
       "        vertical-align: top;\n",
       "    }\n",
       "\n",
       "    .dataframe thead th {\n",
       "        text-align: right;\n",
       "    }\n",
       "</style>\n",
       "<table border=\"1\" class=\"dataframe\">\n",
       "  <thead>\n",
       "    <tr style=\"text-align: right;\">\n",
       "      <th></th>\n",
       "      <th>coordinates</th>\n",
       "      <th>mapped_qid</th>\n",
       "      <th>qid_label</th>\n",
       "    </tr>\n",
       "  </thead>\n",
       "  <tbody>\n",
       "    <tr>\n",
       "      <th>0</th>\n",
       "      <td>-119.71,34.43</td>\n",
       "      <td>Q159288</td>\n",
       "      <td>Santa Barbara</td>\n",
       "    </tr>\n",
       "  </tbody>\n",
       "</table>\n",
       "</div>"
      ],
      "text/plain": [
       "     coordinates mapped_qid      qid_label\n",
       "0  -119.71,34.43    Q159288  Santa Barbara"
      ]
     },
     "execution_count": 9,
     "metadata": {},
     "output_type": "execute_result"
    }
   ],
   "source": [
    "df"
   ]
  },
  {
   "cell_type": "code",
   "execution_count": 10,
   "metadata": {},
   "outputs": [],
   "source": [
    "location_mappings = pd.read_csv(get_path(\"location_mappings.csv\"))"
   ]
  },
  {
   "cell_type": "code",
   "execution_count": 11,
   "metadata": {},
   "outputs": [
    {
     "data": {
      "text/html": [
       "<div>\n",
       "<style scoped>\n",
       "    .dataframe tbody tr th:only-of-type {\n",
       "        vertical-align: middle;\n",
       "    }\n",
       "\n",
       "    .dataframe tbody tr th {\n",
       "        vertical-align: top;\n",
       "    }\n",
       "\n",
       "    .dataframe thead th {\n",
       "        text-align: right;\n",
       "    }\n",
       "</style>\n",
       "<table border=\"1\" class=\"dataframe\">\n",
       "  <thead>\n",
       "    <tr style=\"text-align: right;\">\n",
       "      <th></th>\n",
       "      <th>coordinates</th>\n",
       "      <th>mapped_qid</th>\n",
       "      <th>qid_label</th>\n",
       "    </tr>\n",
       "  </thead>\n",
       "  <tbody>\n",
       "    <tr>\n",
       "      <th>0</th>\n",
       "      <td>-119.71,34.43</td>\n",
       "      <td>Q159288</td>\n",
       "      <td>Santa Barbara</td>\n",
       "    </tr>\n",
       "    <tr>\n",
       "      <th>1</th>\n",
       "      <td>-90.34,38.55</td>\n",
       "      <td>Q966126</td>\n",
       "      <td>Grantwood Village</td>\n",
       "    </tr>\n",
       "    <tr>\n",
       "      <th>2</th>\n",
       "      <td>-110.88,32.22</td>\n",
       "      <td>Q18575</td>\n",
       "      <td>Tucson</td>\n",
       "    </tr>\n",
       "    <tr>\n",
       "      <th>3</th>\n",
       "      <td>-75.16,39.96</td>\n",
       "      <td>Q1345</td>\n",
       "      <td>Philadelphia</td>\n",
       "    </tr>\n",
       "    <tr>\n",
       "      <th>4</th>\n",
       "      <td>-75.47,40.34</td>\n",
       "      <td>Q1183476</td>\n",
       "      <td>Green Lane</td>\n",
       "    </tr>\n",
       "    <tr>\n",
       "      <th>...</th>\n",
       "      <td>...</td>\n",
       "      <td>...</td>\n",
       "      <td>...</td>\n",
       "    </tr>\n",
       "    <tr>\n",
       "      <th>11410</th>\n",
       "      <td>-82.68,27.87</td>\n",
       "      <td>Q2151669</td>\n",
       "      <td>Pinellas Park</td>\n",
       "    </tr>\n",
       "    <tr>\n",
       "      <th>11411</th>\n",
       "      <td>-119.8,39.32</td>\n",
       "      <td>Q7972623</td>\n",
       "      <td>Washoe Valley</td>\n",
       "    </tr>\n",
       "    <tr>\n",
       "      <th>11412</th>\n",
       "      <td>-90.05,30.02</td>\n",
       "      <td>Q34404</td>\n",
       "      <td>New Orleans</td>\n",
       "    </tr>\n",
       "    <tr>\n",
       "      <th>11413</th>\n",
       "      <td>-90.23,38.66</td>\n",
       "      <td>Q38022</td>\n",
       "      <td>St. Louis</td>\n",
       "    </tr>\n",
       "    <tr>\n",
       "      <th>11414</th>\n",
       "      <td>-75.41,40.2</td>\n",
       "      <td>Q1132200</td>\n",
       "      <td>Evansburg</td>\n",
       "    </tr>\n",
       "  </tbody>\n",
       "</table>\n",
       "<p>11415 rows × 3 columns</p>\n",
       "</div>"
      ],
      "text/plain": [
       "         coordinates mapped_qid          qid_label\n",
       "0      -119.71,34.43    Q159288      Santa Barbara\n",
       "1       -90.34,38.55    Q966126  Grantwood Village\n",
       "2      -110.88,32.22     Q18575             Tucson\n",
       "3       -75.16,39.96      Q1345       Philadelphia\n",
       "4       -75.47,40.34   Q1183476         Green Lane\n",
       "...              ...        ...                ...\n",
       "11410   -82.68,27.87   Q2151669      Pinellas Park\n",
       "11411   -119.8,39.32   Q7972623      Washoe Valley\n",
       "11412   -90.05,30.02     Q34404        New Orleans\n",
       "11413   -90.23,38.66     Q38022          St. Louis\n",
       "11414    -75.41,40.2   Q1132200          Evansburg\n",
       "\n",
       "[11415 rows x 3 columns]"
      ]
     },
     "execution_count": 11,
     "metadata": {},
     "output_type": "execute_result"
    }
   ],
   "source": [
    "location_mappings"
   ]
  },
  {
   "cell_type": "code",
   "execution_count": 17,
   "metadata": {},
   "outputs": [
    {
     "name": "stdout",
     "output_type": "stream",
     "text": [
      "Number of unique qid's: 693\n",
      "Number of unique city names: 684\n"
     ]
    }
   ],
   "source": [
    "print(f\"Number of unique qid's: {len(location_mappings.mapped_qid.unique())}\\nNumber of unique city names: {len(location_mappings.qid_label.unique())}\")"
   ]
  },
  {
   "cell_type": "code",
   "execution_count": 41,
   "metadata": {},
   "outputs": [
    {
     "data": {
      "text/html": [
       "<div>\n",
       "<style scoped>\n",
       "    .dataframe tbody tr th:only-of-type {\n",
       "        vertical-align: middle;\n",
       "    }\n",
       "\n",
       "    .dataframe tbody tr th {\n",
       "        vertical-align: top;\n",
       "    }\n",
       "\n",
       "    .dataframe thead th {\n",
       "        text-align: right;\n",
       "    }\n",
       "</style>\n",
       "<table border=\"1\" class=\"dataframe\">\n",
       "  <thead>\n",
       "    <tr style=\"text-align: right;\">\n",
       "      <th></th>\n",
       "      <th>coordinates</th>\n",
       "      <th>mapped_qid</th>\n",
       "      <th>qid_label</th>\n",
       "    </tr>\n",
       "  </thead>\n",
       "  <tbody>\n",
       "    <tr>\n",
       "      <th>745</th>\n",
       "      <td>-119.51,34.6</td>\n",
       "      <td>NaN</td>\n",
       "      <td>NaN</td>\n",
       "    </tr>\n",
       "  </tbody>\n",
       "</table>\n",
       "</div>"
      ],
      "text/plain": [
       "      coordinates mapped_qid qid_label\n",
       "745  -119.51,34.6        NaN       NaN"
      ]
     },
     "execution_count": 41,
     "metadata": {},
     "output_type": "execute_result"
    }
   ],
   "source": [
    "import numpy as np\n",
    "location_mappings[location_mappings.mapped_qid.isna()]"
   ]
  },
  {
   "cell_type": "code",
   "execution_count": 51,
   "metadata": {},
   "outputs": [],
   "source": [
    "location_mappings_df = pd.DataFrame(coordinates_df['coordinates'].apply(lambda x: [x] + list(get_name_of_location_with_long_lat(x))).tolist(), columns=['coordinates','city', 'cityLabel', 'cityPopulation', 'county', 'countyLabel', 'state', 'stateLabel', 'country', 'countryLabel'])"
   ]
  },
  {
   "cell_type": "code",
   "execution_count": 46,
   "metadata": {},
   "outputs": [
    {
     "data": {
      "text/plain": [
       "('Q159288',\n",
       " 'Santa Barbara',\n",
       " '88665',\n",
       " 'Q108106',\n",
       " 'Santa Barbara County',\n",
       " 'Q99',\n",
       " 'California',\n",
       " 'Q30',\n",
       " 'United States of America')"
      ]
     },
     "execution_count": 46,
     "metadata": {},
     "output_type": "execute_result"
    }
   ],
   "source": [
    "get_name_of_location_with_long_lat(coordinates[0])"
   ]
  },
  {
   "cell_type": "code",
   "execution_count": 52,
   "metadata": {},
   "outputs": [
    {
     "data": {
      "text/html": [
       "<div>\n",
       "<style scoped>\n",
       "    .dataframe tbody tr th:only-of-type {\n",
       "        vertical-align: middle;\n",
       "    }\n",
       "\n",
       "    .dataframe tbody tr th {\n",
       "        vertical-align: top;\n",
       "    }\n",
       "\n",
       "    .dataframe thead th {\n",
       "        text-align: right;\n",
       "    }\n",
       "</style>\n",
       "<table border=\"1\" class=\"dataframe\">\n",
       "  <thead>\n",
       "    <tr style=\"text-align: right;\">\n",
       "      <th></th>\n",
       "      <th>coordinates</th>\n",
       "      <th>city</th>\n",
       "      <th>cityLabel</th>\n",
       "      <th>cityPopulation</th>\n",
       "      <th>county</th>\n",
       "      <th>countyLabel</th>\n",
       "      <th>state</th>\n",
       "      <th>stateLabel</th>\n",
       "      <th>country</th>\n",
       "      <th>countryLabel</th>\n",
       "    </tr>\n",
       "  </thead>\n",
       "  <tbody>\n",
       "    <tr>\n",
       "      <th>0</th>\n",
       "      <td>-119.71,34.43</td>\n",
       "      <td>Q159288</td>\n",
       "      <td>Santa Barbara</td>\n",
       "      <td>88665</td>\n",
       "      <td>Q108106</td>\n",
       "      <td>Santa Barbara County</td>\n",
       "      <td>Q99</td>\n",
       "      <td>California</td>\n",
       "      <td>Q30</td>\n",
       "      <td>United States of America</td>\n",
       "    </tr>\n",
       "  </tbody>\n",
       "</table>\n",
       "</div>"
      ],
      "text/plain": [
       "     coordinates     city      cityLabel cityPopulation   county  \\\n",
       "0  -119.71,34.43  Q159288  Santa Barbara          88665  Q108106   \n",
       "\n",
       "            countyLabel state  stateLabel country              countryLabel  \n",
       "0  Santa Barbara County   Q99  California     Q30  United States of America  "
      ]
     },
     "execution_count": 52,
     "metadata": {},
     "output_type": "execute_result"
    }
   ],
   "source": [
    "location_mappings_df"
   ]
  },
  {
   "cell_type": "code",
   "execution_count": null,
   "metadata": {},
   "outputs": [],
   "source": []
  }
 ],
 "metadata": {
  "kernelspec": {
   "display_name": "Python 3.10.6 64-bit",
   "language": "python",
   "name": "python3"
  },
  "language_info": {
   "codemirror_mode": {
    "name": "ipython",
    "version": 3
   },
   "file_extension": ".py",
   "mimetype": "text/x-python",
   "name": "python",
   "nbconvert_exporter": "python",
   "pygments_lexer": "ipython3",
   "version": "3.10.6"
  },
  "orig_nbformat": 4,
  "vscode": {
   "interpreter": {
    "hash": "7e1998ff7f8aa20ada591c520b972326324e5ea05489af9e422744c7c09f6dad"
   }
  }
 },
 "nbformat": 4,
 "nbformat_minor": 2
}
