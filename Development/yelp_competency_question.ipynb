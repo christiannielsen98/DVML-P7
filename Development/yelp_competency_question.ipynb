{
 "cells": [
  {
   "cell_type": "code",
   "execution_count": 2,
   "metadata": {
    "collapsed": false,
    "pycharm": {
     "name": "#%%\n"
    }
   },
   "outputs": [],
   "source": [
    "import pandas as pd\n",
    "import numpy as np\n",
    "\n",
    "from Code.UtilityFunctions.get_data_path import get_path\n",
    "from Code.UtilityFunctions.run_query import run_query"
   ]
  },
  {
   "cell_type": "code",
   "execution_count": 3,
   "metadata": {
    "collapsed": false,
    "pycharm": {
     "name": "#%%\n"
    }
   },
   "outputs": [],
   "source": [
    "business = pd.read_json(get_path(\"yelp_academic_dataset_business.json\"), lines=True)\n",
    "business['categories'] = business['categories'].str.split(', ', expand=False)"
   ]
  },
  {
   "cell_type": "code",
   "execution_count": 3,
   "metadata": {
    "collapsed": false,
    "pycharm": {
     "name": "#%%\n"
    }
   },
   "outputs": [],
   "source": [
    "#users = pd.read_json(get_path(\"yelp_academic_dataset_user.json\"), lines=True)\n",
    "#reviews = pd.read_json(get_path(\"yelp_academic_dataset_review.json\"), lines=\n",
    "\n",
    "# checkins = pd.read_json(get_path(\"yelp_academic_dataset_checkin.json\"), lines=True)\n",
    "# checkins['date'] = checkins['date'].str.split(', ', expand=False)\n",
    "\n",
    "# tips = pd.read_json(get_path(\"yelp_academic_dataset_tip.json\"), lines=True)"
   ]
  },
  {
   "cell_type": "code",
   "execution_count": 4,
   "metadata": {},
   "outputs": [
    {
     "data": {
      "text/html": [
       "<div>\n",
       "<style scoped>\n",
       "    .dataframe tbody tr th:only-of-type {\n",
       "        vertical-align: middle;\n",
       "    }\n",
       "\n",
       "    .dataframe tbody tr th {\n",
       "        vertical-align: top;\n",
       "    }\n",
       "\n",
       "    .dataframe thead th {\n",
       "        text-align: right;\n",
       "    }\n",
       "</style>\n",
       "<table border=\"1\" class=\"dataframe\">\n",
       "  <thead>\n",
       "    <tr style=\"text-align: right;\">\n",
       "      <th></th>\n",
       "      <th>business_id</th>\n",
       "      <th>name</th>\n",
       "      <th>address</th>\n",
       "      <th>city</th>\n",
       "      <th>state</th>\n",
       "      <th>postal_code</th>\n",
       "      <th>latitude</th>\n",
       "      <th>longitude</th>\n",
       "      <th>stars</th>\n",
       "      <th>review_count</th>\n",
       "      <th>is_open</th>\n",
       "      <th>attributes</th>\n",
       "      <th>categories</th>\n",
       "      <th>hours</th>\n",
       "    </tr>\n",
       "  </thead>\n",
       "  <tbody>\n",
       "    <tr>\n",
       "      <th>0</th>\n",
       "      <td>Pns2l4eNsfO8kk83dixA6A</td>\n",
       "      <td>Abby Rappoport, LAC, CMQ</td>\n",
       "      <td>1616 Chapala St, Ste 2</td>\n",
       "      <td>Santa Barbara</td>\n",
       "      <td>CA</td>\n",
       "      <td>93101</td>\n",
       "      <td>34.426679</td>\n",
       "      <td>-119.711197</td>\n",
       "      <td>5.0</td>\n",
       "      <td>7</td>\n",
       "      <td>0</td>\n",
       "      <td>{'ByAppointmentOnly': 'True'}</td>\n",
       "      <td>[Doctors, Traditional Chinese Medicine, Naturo...</td>\n",
       "      <td>None</td>\n",
       "    </tr>\n",
       "    <tr>\n",
       "      <th>1</th>\n",
       "      <td>mpf3x-BjTdTEA3yCZrAYPw</td>\n",
       "      <td>The UPS Store</td>\n",
       "      <td>87 Grasso Plaza Shopping Center</td>\n",
       "      <td>Affton</td>\n",
       "      <td>MO</td>\n",
       "      <td>63123</td>\n",
       "      <td>38.551126</td>\n",
       "      <td>-90.335695</td>\n",
       "      <td>3.0</td>\n",
       "      <td>15</td>\n",
       "      <td>1</td>\n",
       "      <td>{'BusinessAcceptsCreditCards': 'True'}</td>\n",
       "      <td>[Shipping Centers, Local Services, Notaries, M...</td>\n",
       "      <td>{'Monday': '0:0-0:0', 'Tuesday': '8:0-18:30', ...</td>\n",
       "    </tr>\n",
       "    <tr>\n",
       "      <th>2</th>\n",
       "      <td>tUFrWirKiKi_TAnsVWINQQ</td>\n",
       "      <td>Target</td>\n",
       "      <td>5255 E Broadway Blvd</td>\n",
       "      <td>Tucson</td>\n",
       "      <td>AZ</td>\n",
       "      <td>85711</td>\n",
       "      <td>32.223236</td>\n",
       "      <td>-110.880452</td>\n",
       "      <td>3.5</td>\n",
       "      <td>22</td>\n",
       "      <td>0</td>\n",
       "      <td>{'BikeParking': 'True', 'BusinessAcceptsCredit...</td>\n",
       "      <td>[Department Stores, Shopping, Fashion, Home &amp; ...</td>\n",
       "      <td>{'Monday': '8:0-22:0', 'Tuesday': '8:0-22:0', ...</td>\n",
       "    </tr>\n",
       "    <tr>\n",
       "      <th>3</th>\n",
       "      <td>MTSW4McQd7CbVtyjqoe9mw</td>\n",
       "      <td>St Honore Pastries</td>\n",
       "      <td>935 Race St</td>\n",
       "      <td>Philadelphia</td>\n",
       "      <td>PA</td>\n",
       "      <td>19107</td>\n",
       "      <td>39.955505</td>\n",
       "      <td>-75.155564</td>\n",
       "      <td>4.0</td>\n",
       "      <td>80</td>\n",
       "      <td>1</td>\n",
       "      <td>{'RestaurantsDelivery': 'False', 'OutdoorSeati...</td>\n",
       "      <td>[Restaurants, Food, Bubble Tea, Coffee &amp; Tea, ...</td>\n",
       "      <td>{'Monday': '7:0-20:0', 'Tuesday': '7:0-20:0', ...</td>\n",
       "    </tr>\n",
       "    <tr>\n",
       "      <th>4</th>\n",
       "      <td>mWMc6_wTdE0EUBKIGXDVfA</td>\n",
       "      <td>Perkiomen Valley Brewery</td>\n",
       "      <td>101 Walnut St</td>\n",
       "      <td>Green Lane</td>\n",
       "      <td>PA</td>\n",
       "      <td>18054</td>\n",
       "      <td>40.338183</td>\n",
       "      <td>-75.471659</td>\n",
       "      <td>4.5</td>\n",
       "      <td>13</td>\n",
       "      <td>1</td>\n",
       "      <td>{'BusinessAcceptsCreditCards': 'True', 'Wheelc...</td>\n",
       "      <td>[Brewpubs, Breweries, Food]</td>\n",
       "      <td>{'Wednesday': '14:0-22:0', 'Thursday': '16:0-2...</td>\n",
       "    </tr>\n",
       "    <tr>\n",
       "      <th>...</th>\n",
       "      <td>...</td>\n",
       "      <td>...</td>\n",
       "      <td>...</td>\n",
       "      <td>...</td>\n",
       "      <td>...</td>\n",
       "      <td>...</td>\n",
       "      <td>...</td>\n",
       "      <td>...</td>\n",
       "      <td>...</td>\n",
       "      <td>...</td>\n",
       "      <td>...</td>\n",
       "      <td>...</td>\n",
       "      <td>...</td>\n",
       "      <td>...</td>\n",
       "    </tr>\n",
       "    <tr>\n",
       "      <th>150341</th>\n",
       "      <td>IUQopTMmYQG-qRtBk-8QnA</td>\n",
       "      <td>Binh's Nails</td>\n",
       "      <td>3388 Gateway Blvd</td>\n",
       "      <td>Edmonton</td>\n",
       "      <td>AB</td>\n",
       "      <td>T6J 5H2</td>\n",
       "      <td>53.468419</td>\n",
       "      <td>-113.492054</td>\n",
       "      <td>3.0</td>\n",
       "      <td>13</td>\n",
       "      <td>1</td>\n",
       "      <td>{'ByAppointmentOnly': 'False', 'RestaurantsPri...</td>\n",
       "      <td>[Nail Salons, Beauty &amp; Spas]</td>\n",
       "      <td>{'Monday': '10:0-19:30', 'Tuesday': '10:0-19:3...</td>\n",
       "    </tr>\n",
       "    <tr>\n",
       "      <th>150342</th>\n",
       "      <td>c8GjPIOTGVmIemT7j5_SyQ</td>\n",
       "      <td>Wild Birds Unlimited</td>\n",
       "      <td>2813 Bransford Ave</td>\n",
       "      <td>Nashville</td>\n",
       "      <td>TN</td>\n",
       "      <td>37204</td>\n",
       "      <td>36.115118</td>\n",
       "      <td>-86.766925</td>\n",
       "      <td>4.0</td>\n",
       "      <td>5</td>\n",
       "      <td>1</td>\n",
       "      <td>{'BusinessAcceptsCreditCards': 'True', 'Restau...</td>\n",
       "      <td>[Pets, Nurseries &amp; Gardening, Pet Stores, Hobb...</td>\n",
       "      <td>{'Monday': '9:30-17:30', 'Tuesday': '9:30-17:3...</td>\n",
       "    </tr>\n",
       "    <tr>\n",
       "      <th>150343</th>\n",
       "      <td>_QAMST-NrQobXduilWEqSw</td>\n",
       "      <td>Claire's Boutique</td>\n",
       "      <td>6020 E 82nd St, Ste 46</td>\n",
       "      <td>Indianapolis</td>\n",
       "      <td>IN</td>\n",
       "      <td>46250</td>\n",
       "      <td>39.908707</td>\n",
       "      <td>-86.065088</td>\n",
       "      <td>3.5</td>\n",
       "      <td>8</td>\n",
       "      <td>1</td>\n",
       "      <td>{'RestaurantsPriceRange2': '1', 'BusinessAccep...</td>\n",
       "      <td>[Shopping, Jewelry, Piercing, Toy Stores, Beau...</td>\n",
       "      <td>None</td>\n",
       "    </tr>\n",
       "    <tr>\n",
       "      <th>150344</th>\n",
       "      <td>mtGm22y5c2UHNXDFAjaPNw</td>\n",
       "      <td>Cyclery &amp; Fitness Center</td>\n",
       "      <td>2472 Troy Rd</td>\n",
       "      <td>Edwardsville</td>\n",
       "      <td>IL</td>\n",
       "      <td>62025</td>\n",
       "      <td>38.782351</td>\n",
       "      <td>-89.950558</td>\n",
       "      <td>4.0</td>\n",
       "      <td>24</td>\n",
       "      <td>1</td>\n",
       "      <td>{'BusinessParking': '{'garage': False, 'street...</td>\n",
       "      <td>[Fitness/Exercise Equipment, Eyewear &amp; Opticia...</td>\n",
       "      <td>{'Monday': '9:0-20:0', 'Tuesday': '9:0-20:0', ...</td>\n",
       "    </tr>\n",
       "    <tr>\n",
       "      <th>150345</th>\n",
       "      <td>jV_XOycEzSlTx-65W906pg</td>\n",
       "      <td>Sic Ink</td>\n",
       "      <td>238 Apollo Beach Blvd</td>\n",
       "      <td>Apollo beach</td>\n",
       "      <td>FL</td>\n",
       "      <td>33572</td>\n",
       "      <td>27.771002</td>\n",
       "      <td>-82.394910</td>\n",
       "      <td>4.5</td>\n",
       "      <td>9</td>\n",
       "      <td>1</td>\n",
       "      <td>{'WheelchairAccessible': 'True', 'BusinessAcce...</td>\n",
       "      <td>[Beauty &amp; Spas, Permanent Makeup, Piercing, Ta...</td>\n",
       "      <td>{'Tuesday': '12:0-19:0', 'Wednesday': '12:0-19...</td>\n",
       "    </tr>\n",
       "  </tbody>\n",
       "</table>\n",
       "<p>150346 rows × 14 columns</p>\n",
       "</div>"
      ],
      "text/plain": [
       "                   business_id                      name  \\\n",
       "0       Pns2l4eNsfO8kk83dixA6A  Abby Rappoport, LAC, CMQ   \n",
       "1       mpf3x-BjTdTEA3yCZrAYPw             The UPS Store   \n",
       "2       tUFrWirKiKi_TAnsVWINQQ                    Target   \n",
       "3       MTSW4McQd7CbVtyjqoe9mw        St Honore Pastries   \n",
       "4       mWMc6_wTdE0EUBKIGXDVfA  Perkiomen Valley Brewery   \n",
       "...                        ...                       ...   \n",
       "150341  IUQopTMmYQG-qRtBk-8QnA              Binh's Nails   \n",
       "150342  c8GjPIOTGVmIemT7j5_SyQ      Wild Birds Unlimited   \n",
       "150343  _QAMST-NrQobXduilWEqSw         Claire's Boutique   \n",
       "150344  mtGm22y5c2UHNXDFAjaPNw  Cyclery & Fitness Center   \n",
       "150345  jV_XOycEzSlTx-65W906pg                   Sic Ink   \n",
       "\n",
       "                                address           city state postal_code  \\\n",
       "0                1616 Chapala St, Ste 2  Santa Barbara    CA       93101   \n",
       "1       87 Grasso Plaza Shopping Center         Affton    MO       63123   \n",
       "2                  5255 E Broadway Blvd         Tucson    AZ       85711   \n",
       "3                           935 Race St   Philadelphia    PA       19107   \n",
       "4                         101 Walnut St     Green Lane    PA       18054   \n",
       "...                                 ...            ...   ...         ...   \n",
       "150341                3388 Gateway Blvd       Edmonton    AB     T6J 5H2   \n",
       "150342               2813 Bransford Ave      Nashville    TN       37204   \n",
       "150343           6020 E 82nd St, Ste 46   Indianapolis    IN       46250   \n",
       "150344                     2472 Troy Rd   Edwardsville    IL       62025   \n",
       "150345            238 Apollo Beach Blvd   Apollo beach    FL       33572   \n",
       "\n",
       "         latitude   longitude  stars  review_count  is_open  \\\n",
       "0       34.426679 -119.711197    5.0             7        0   \n",
       "1       38.551126  -90.335695    3.0            15        1   \n",
       "2       32.223236 -110.880452    3.5            22        0   \n",
       "3       39.955505  -75.155564    4.0            80        1   \n",
       "4       40.338183  -75.471659    4.5            13        1   \n",
       "...           ...         ...    ...           ...      ...   \n",
       "150341  53.468419 -113.492054    3.0            13        1   \n",
       "150342  36.115118  -86.766925    4.0             5        1   \n",
       "150343  39.908707  -86.065088    3.5             8        1   \n",
       "150344  38.782351  -89.950558    4.0            24        1   \n",
       "150345  27.771002  -82.394910    4.5             9        1   \n",
       "\n",
       "                                               attributes  \\\n",
       "0                           {'ByAppointmentOnly': 'True'}   \n",
       "1                  {'BusinessAcceptsCreditCards': 'True'}   \n",
       "2       {'BikeParking': 'True', 'BusinessAcceptsCredit...   \n",
       "3       {'RestaurantsDelivery': 'False', 'OutdoorSeati...   \n",
       "4       {'BusinessAcceptsCreditCards': 'True', 'Wheelc...   \n",
       "...                                                   ...   \n",
       "150341  {'ByAppointmentOnly': 'False', 'RestaurantsPri...   \n",
       "150342  {'BusinessAcceptsCreditCards': 'True', 'Restau...   \n",
       "150343  {'RestaurantsPriceRange2': '1', 'BusinessAccep...   \n",
       "150344  {'BusinessParking': '{'garage': False, 'street...   \n",
       "150345  {'WheelchairAccessible': 'True', 'BusinessAcce...   \n",
       "\n",
       "                                               categories  \\\n",
       "0       [Doctors, Traditional Chinese Medicine, Naturo...   \n",
       "1       [Shipping Centers, Local Services, Notaries, M...   \n",
       "2       [Department Stores, Shopping, Fashion, Home & ...   \n",
       "3       [Restaurants, Food, Bubble Tea, Coffee & Tea, ...   \n",
       "4                             [Brewpubs, Breweries, Food]   \n",
       "...                                                   ...   \n",
       "150341                       [Nail Salons, Beauty & Spas]   \n",
       "150342  [Pets, Nurseries & Gardening, Pet Stores, Hobb...   \n",
       "150343  [Shopping, Jewelry, Piercing, Toy Stores, Beau...   \n",
       "150344  [Fitness/Exercise Equipment, Eyewear & Opticia...   \n",
       "150345  [Beauty & Spas, Permanent Makeup, Piercing, Ta...   \n",
       "\n",
       "                                                    hours  \n",
       "0                                                    None  \n",
       "1       {'Monday': '0:0-0:0', 'Tuesday': '8:0-18:30', ...  \n",
       "2       {'Monday': '8:0-22:0', 'Tuesday': '8:0-22:0', ...  \n",
       "3       {'Monday': '7:0-20:0', 'Tuesday': '7:0-20:0', ...  \n",
       "4       {'Wednesday': '14:0-22:0', 'Thursday': '16:0-2...  \n",
       "...                                                   ...  \n",
       "150341  {'Monday': '10:0-19:30', 'Tuesday': '10:0-19:3...  \n",
       "150342  {'Monday': '9:30-17:30', 'Tuesday': '9:30-17:3...  \n",
       "150343                                               None  \n",
       "150344  {'Monday': '9:0-20:0', 'Tuesday': '9:0-20:0', ...  \n",
       "150345  {'Tuesday': '12:0-19:0', 'Wednesday': '12:0-19...  \n",
       "\n",
       "[150346 rows x 14 columns]"
      ]
     },
     "execution_count": 4,
     "metadata": {},
     "output_type": "execute_result"
    }
   ],
   "source": [
    "business"
   ]
  },
  {
   "cell_type": "code",
   "execution_count": null,
   "metadata": {
    "collapsed": false,
    "pycharm": {
     "name": "#%%\n"
    }
   },
   "outputs": [],
   "source": [
    "checkins"
   ]
  },
  {
   "cell_type": "code",
   "execution_count": null,
   "metadata": {
    "collapsed": false,
    "pycharm": {
     "name": "#%%\n"
    }
   },
   "outputs": [],
   "source": [
    "tips"
   ]
  },
  {
   "cell_type": "markdown",
   "metadata": {},
   "source": [
    " How many different types of businesses are defined in Yelp?"
   ]
  },
  {
   "cell_type": "code",
   "execution_count": 5,
   "metadata": {},
   "outputs": [
    {
     "data": {
      "text/html": [
       "<div>\n",
       "<style scoped>\n",
       "    .dataframe tbody tr th:only-of-type {\n",
       "        vertical-align: middle;\n",
       "    }\n",
       "\n",
       "    .dataframe tbody tr th {\n",
       "        vertical-align: top;\n",
       "    }\n",
       "\n",
       "    .dataframe thead th {\n",
       "        text-align: right;\n",
       "    }\n",
       "</style>\n",
       "<table border=\"1\" class=\"dataframe\">\n",
       "  <thead>\n",
       "    <tr style=\"text-align: right;\">\n",
       "      <th></th>\n",
       "      <th>callret-0.value</th>\n",
       "    </tr>\n",
       "  </thead>\n",
       "  <tbody>\n",
       "    <tr>\n",
       "      <th>0</th>\n",
       "      <td>1311</td>\n",
       "    </tr>\n",
       "  </tbody>\n",
       "</table>\n",
       "</div>"
      ],
      "text/plain": [
       "  callret-0.value\n",
       "0            1311"
      ]
     },
     "execution_count": 5,
     "metadata": {},
     "output_type": "execute_result"
    }
   ],
   "source": [
    "sparql_query = \"\"\"\n",
    "\n",
    "SELECT COUNT(DISTINCT(?category))\n",
    "WHERE {\n",
    "    ?business schema:category ?category .\n",
    "}\n",
    "\n",
    "\"\"\"\n",
    "\n",
    "run_query(query=sparql_query, as_dataframe=True)"
   ]
  },
  {
   "cell_type": "code",
   "execution_count": 3,
   "metadata": {},
   "outputs": [
    {
     "data": {
      "text/plain": [
       "1311"
      ]
     },
     "execution_count": 3,
     "metadata": {},
     "output_type": "execute_result"
    }
   ],
   "source": [
    "unique_categories = {category for sublist in business['categories'] if sublist for category in sublist}\n",
    "len(unique_categories)"
   ]
  },
  {
   "cell_type": "markdown",
   "metadata": {},
   "source": [
    "How many businesses of type \"Restaurants\" exist?"
   ]
  },
  {
   "cell_type": "code",
   "execution_count": 6,
   "metadata": {},
   "outputs": [
    {
     "data": {
      "text/html": [
       "<div>\n",
       "<style scoped>\n",
       "    .dataframe tbody tr th:only-of-type {\n",
       "        vertical-align: middle;\n",
       "    }\n",
       "\n",
       "    .dataframe tbody tr th {\n",
       "        vertical-align: top;\n",
       "    }\n",
       "\n",
       "    .dataframe thead th {\n",
       "        text-align: right;\n",
       "    }\n",
       "</style>\n",
       "<table border=\"1\" class=\"dataframe\">\n",
       "  <thead>\n",
       "    <tr style=\"text-align: right;\">\n",
       "      <th></th>\n",
       "      <th>callret-0.value</th>\n",
       "    </tr>\n",
       "  </thead>\n",
       "  <tbody>\n",
       "    <tr>\n",
       "      <th>0</th>\n",
       "      <td>52268</td>\n",
       "    </tr>\n",
       "  </tbody>\n",
       "</table>\n",
       "</div>"
      ],
      "text/plain": [
       "  callret-0.value\n",
       "0           52268"
      ]
     },
     "execution_count": 6,
     "metadata": {},
     "output_type": "execute_result"
    }
   ],
   "source": [
    "sparql_query = \"\"\"\n",
    "\n",
    "SELECT COUNT(?business)\n",
    "WHERE {\n",
    "    ?business schema:category yelp_category:Restaurants .\n",
    "}\n",
    "\n",
    "\"\"\"\n",
    "\n",
    "run_query(query=sparql_query, as_dataframe=True)"
   ]
  },
  {
   "cell_type": "code",
   "execution_count": 10,
   "metadata": {},
   "outputs": [
    {
     "data": {
      "text/plain": [
       "52268"
      ]
     },
     "execution_count": 10,
     "metadata": {},
     "output_type": "execute_result"
    }
   ],
   "source": [
    "# TO DO Python\n",
    "# def str_split(string):\n",
    "#     if isinstance(string, str):\n",
    "#         return string.split(\", \")\n",
    "#     else:\n",
    "#         return string\n",
    "#\n",
    "#\n",
    "# business[\"categories\"] = business[\"categories\"].apply(str_split)\n",
    "#\n",
    "# category_biz_count = {}\n",
    "# for i in range(len(business)):\n",
    "#     if business[\"categories\"][i]:\n",
    "#         for category in business[\"categories\"][i]:\n",
    "#             category_biz_count[category] = category_biz_count.get(category, 0) + 1\n",
    "#\n",
    "# category_biz_count[\"Restaurants\"]\n",
    "\n",
    "counter = 0\n",
    "for row in business['categories']:\n",
    "    if row is not None and \"Restaurants\" in row:\n",
    "        counter += 1\n",
    "print(counter)"
   ]
  },
  {
   "cell_type": "markdown",
   "metadata": {
    "collapsed": false,
    "pycharm": {
     "name": "#%% md\n"
    }
   },
   "source": [
    "How many businesses of type Restaurants have been reviwed?"
   ]
  },
  {
   "cell_type": "code",
   "execution_count": 6,
   "metadata": {},
   "outputs": [
    {
     "data": {
      "text/html": [
       "<div>\n",
       "<style scoped>\n",
       "    .dataframe tbody tr th:only-of-type {\n",
       "        vertical-align: middle;\n",
       "    }\n",
       "\n",
       "    .dataframe tbody tr th {\n",
       "        vertical-align: top;\n",
       "    }\n",
       "\n",
       "    .dataframe thead th {\n",
       "        text-align: right;\n",
       "    }\n",
       "</style>\n",
       "<table border=\"1\" class=\"dataframe\">\n",
       "  <thead>\n",
       "    <tr style=\"text-align: right;\">\n",
       "      <th></th>\n",
       "      <th>callret-0.value</th>\n",
       "    </tr>\n",
       "  </thead>\n",
       "  <tbody>\n",
       "    <tr>\n",
       "      <th>0</th>\n",
       "      <td>0</td>\n",
       "    </tr>\n",
       "  </tbody>\n",
       "</table>\n",
       "</div>"
      ],
      "text/plain": [
       "  callret-0.value\n",
       "0               0"
      ]
     },
     "execution_count": 6,
     "metadata": {},
     "output_type": "execute_result"
    }
   ],
   "source": [
    "sparql_query = \"\"\"\n",
    "\n",
    "SELECT COUNT(DISTINCT(?business))\n",
    "WHERE {\n",
    "    ?business schema:category yelp_category:Restaurants .\n",
    "    ?review schema:about ?business .\n",
    "}\n",
    "\n",
    "\"\"\"\n",
    "\n",
    "run_query(query=sparql_query, as_dataframe=True)"
   ]
  },
  {
   "cell_type": "code",
   "execution_count": null,
   "metadata": {
    "collapsed": false,
    "pycharm": {
     "name": "#%%\n"
    }
   },
   "outputs": [],
   "source": [
    "business_and_tips = tips.merge(business[['business_id', 'categories']])\n",
    "\n",
    "business_and_tips"
   ]
  },
  {
   "cell_type": "code",
   "execution_count": null,
   "metadata": {
    "collapsed": false,
    "pycharm": {
     "is_executing": true,
     "name": "#%%\n"
    }
   },
   "outputs": [],
   "source": [
    "indexes = business_and_tips[\"Restaurants\" in business_and_tips['categories']].index"
   ]
  },
  {
   "cell_type": "code",
   "execution_count": null,
   "metadata": {
    "collapsed": false,
    "pycharm": {
     "is_executing": true,
     "name": "#%%\n"
    }
   },
   "outputs": [],
   "source": [
    "for row in business_and_tips.itertuples():\n",
    "    idx = row.Index\n",
    "    categories = row.categories\n",
    "    if 'Restaurants' not in categories:\n",
    "        business_and_tips.drop(index=idx, inplace=True)"
   ]
  },
  {
   "cell_type": "code",
   "execution_count": null,
   "metadata": {
    "collapsed": false,
    "pycharm": {
     "is_executing": true,
     "name": "#%%\n"
    }
   },
   "outputs": [],
   "source": [
    "business_and_tips"
   ]
  },
  {
   "cell_type": "markdown",
   "metadata": {
    "collapsed": false,
    "pycharm": {
     "name": "#%% md\n"
    }
   },
   "source": [
    "How many businesses have been reviewed?"
   ]
  },
  {
   "cell_type": "code",
   "execution_count": 8,
   "metadata": {
    "collapsed": false,
    "pycharm": {
     "name": "#%%\n"
    }
   },
   "outputs": [
    {
     "data": {
      "text/html": [
       "<div>\n",
       "<style scoped>\n",
       "    .dataframe tbody tr th:only-of-type {\n",
       "        vertical-align: middle;\n",
       "    }\n",
       "\n",
       "    .dataframe tbody tr th {\n",
       "        vertical-align: top;\n",
       "    }\n",
       "\n",
       "    .dataframe thead th {\n",
       "        text-align: right;\n",
       "    }\n",
       "</style>\n",
       "<table border=\"1\" class=\"dataframe\">\n",
       "  <thead>\n",
       "    <tr style=\"text-align: right;\">\n",
       "      <th></th>\n",
       "      <th>callret-0.value</th>\n",
       "    </tr>\n",
       "  </thead>\n",
       "  <tbody>\n",
       "    <tr>\n",
       "      <th>0</th>\n",
       "      <td>0</td>\n",
       "    </tr>\n",
       "  </tbody>\n",
       "</table>\n",
       "</div>"
      ],
      "text/plain": [
       "  callret-0.value\n",
       "0               0"
      ]
     },
     "execution_count": 8,
     "metadata": {},
     "output_type": "execute_result"
    }
   ],
   "source": [
    "sparql_query = \"\"\"\n",
    "\n",
    "SELECT COUNT(?business)\n",
    "WHERE {\n",
    "    ?review schema:about ?business .\n",
    "    ?business rdfs.Class schema:LocalBusiness .\n",
    "}\n",
    "\n",
    "\"\"\"\n",
    "\n",
    "run_query(query=sparql_query, as_dataframe=True)"
   ]
  },
  {
   "cell_type": "code",
   "execution_count": null,
   "metadata": {
    "collapsed": false,
    "pycharm": {
     "name": "#%%\n"
    }
   },
   "outputs": [],
   "source": [
    "tips['business_id'].unique.count()"
   ]
  },
  {
   "cell_type": "markdown",
   "metadata": {
    "collapsed": false,
    "pycharm": {
     "name": "#%% md\n"
    }
   },
   "source": [
    "How many businesses have, on average, a rating of 4.5?"
   ]
  },
  {
   "cell_type": "code",
   "execution_count": 12,
   "metadata": {},
   "outputs": [
    {
     "data": {
      "text/html": [
       "<div>\n",
       "<style scoped>\n",
       "    .dataframe tbody tr th:only-of-type {\n",
       "        vertical-align: middle;\n",
       "    }\n",
       "\n",
       "    .dataframe tbody tr th {\n",
       "        vertical-align: top;\n",
       "    }\n",
       "\n",
       "    .dataframe thead th {\n",
       "        text-align: right;\n",
       "    }\n",
       "</style>\n",
       "<table border=\"1\" class=\"dataframe\">\n",
       "  <thead>\n",
       "    <tr style=\"text-align: right;\">\n",
       "      <th></th>\n",
       "      <th>callret-0.value</th>\n",
       "    </tr>\n",
       "  </thead>\n",
       "  <tbody>\n",
       "    <tr>\n",
       "      <th>0</th>\n",
       "      <td>27174</td>\n",
       "    </tr>\n",
       "  </tbody>\n",
       "</table>\n",
       "</div>"
      ],
      "text/plain": [
       "  callret-0.value\n",
       "0           27174"
      ]
     },
     "execution_count": 12,
     "metadata": {},
     "output_type": "execute_result"
    }
   ],
   "source": [
    "sparql_query = \"\"\"\n",
    "SELECT COUNT(DISTINCT(?business))\n",
    "WHERE {\n",
    "    ?business schema:aggregateRating ?rating .\n",
    "    FILTER (?rating = 4.5) .\n",
    "}\n",
    "\n",
    "\"\"\"\n",
    "\n",
    "run_query(query=sparql_query, as_dataframe=True)"
   ]
  },
  {
   "cell_type": "code",
   "execution_count": 47,
   "metadata": {
    "collapsed": false,
    "pycharm": {
     "name": "#%%\n"
    }
   },
   "outputs": [
    {
     "data": {
      "text/plain": [
       "stars\n",
       "1.0     1986\n",
       "1.5     4932\n",
       "2.0     9527\n",
       "2.5    14316\n",
       "3.0    18453\n",
       "3.5    26519\n",
       "4.0    31125\n",
       "4.5    27181\n",
       "5.0    16307\n",
       "Name: stars, dtype: int64"
      ]
     },
     "execution_count": 47,
     "metadata": {},
     "output_type": "execute_result"
    }
   ],
   "source": [
    "business.groupby('stars')['stars'].count()"
   ]
  },
  {
   "cell_type": "markdown",
   "metadata": {
    "collapsed": false,
    "pycharm": {
     "name": "#%% md\n"
    }
   },
   "source": [
    "What is the average rating across businesses?"
   ]
  },
  {
   "cell_type": "code",
   "execution_count": 11,
   "metadata": {
    "collapsed": false,
    "pycharm": {
     "name": "#%%\n"
    }
   },
   "outputs": [
    {
     "data": {
      "text/html": [
       "<div>\n",
       "<style scoped>\n",
       "    .dataframe tbody tr th:only-of-type {\n",
       "        vertical-align: middle;\n",
       "    }\n",
       "\n",
       "    .dataframe tbody tr th {\n",
       "        vertical-align: top;\n",
       "    }\n",
       "\n",
       "    .dataframe thead th {\n",
       "        text-align: right;\n",
       "    }\n",
       "</style>\n",
       "<table border=\"1\" class=\"dataframe\">\n",
       "  <thead>\n",
       "    <tr style=\"text-align: right;\">\n",
       "      <th></th>\n",
       "      <th>averagerating.type</th>\n",
       "      <th>averagerating.datatype</th>\n",
       "      <th>averagerating.value</th>\n",
       "    </tr>\n",
       "  </thead>\n",
       "  <tbody>\n",
       "    <tr>\n",
       "      <th>0</th>\n",
       "      <td>typed-literal</td>\n",
       "      <td>http://www.w3.org/2001/XMLSchema#decimal</td>\n",
       "      <td>3.59672355766033</td>\n",
       "    </tr>\n",
       "  </tbody>\n",
       "</table>\n",
       "</div>"
      ],
      "text/plain": [
       "  averagerating.type                    averagerating.datatype  \\\n",
       "0      typed-literal  http://www.w3.org/2001/XMLSchema#decimal   \n",
       "\n",
       "  averagerating.value  \n",
       "0    3.59672355766033  "
      ]
     },
     "execution_count": 11,
     "metadata": {},
     "output_type": "execute_result"
    }
   ],
   "source": [
    "sparql_query = \"\"\"\n",
    "SELECT AVG(?rating) as ?averagerating\n",
    "WHERE {\n",
    "    ?business schema:aggregateRating ?rating .\n",
    "}\n",
    "\n",
    "\"\"\"\n",
    "\n",
    "run_query(query=sparql_query, as_dataframe=True)"
   ]
  },
  {
   "cell_type": "code",
   "execution_count": 12,
   "metadata": {
    "collapsed": false,
    "pycharm": {
     "name": "#%%\n"
    }
   },
   "outputs": [
    {
     "data": {
      "text/plain": [
       "3.5967235576603303"
      ]
     },
     "execution_count": 12,
     "metadata": {},
     "output_type": "execute_result"
    }
   ],
   "source": [
    "business['stars'].mean()"
   ]
  },
  {
   "cell_type": "markdown",
   "metadata": {
    "collapsed": false
   },
   "source": [
    "How many businesses have been reviewed in New York, NY?"
   ]
  },
  {
   "cell_type": "code",
   "execution_count": 15,
   "metadata": {},
   "outputs": [
    {
     "name": "stdout",
     "output_type": "stream",
     "text": [
      "Empty resultset\n"
     ]
    },
    {
     "data": {
      "text/html": [
       "<div>\n",
       "<style scoped>\n",
       "    .dataframe tbody tr th:only-of-type {\n",
       "        vertical-align: middle;\n",
       "    }\n",
       "\n",
       "    .dataframe tbody tr th {\n",
       "        vertical-align: top;\n",
       "    }\n",
       "\n",
       "    .dataframe thead th {\n",
       "        text-align: right;\n",
       "    }\n",
       "</style>\n",
       "<table border=\"1\" class=\"dataframe\">\n",
       "  <thead>\n",
       "    <tr style=\"text-align: right;\">\n",
       "      <th></th>\n",
       "    </tr>\n",
       "  </thead>\n",
       "  <tbody>\n",
       "  </tbody>\n",
       "</table>\n",
       "</div>"
      ],
      "text/plain": [
       "Empty DataFrame\n",
       "Columns: []\n",
       "Index: []"
      ]
     },
     "execution_count": 15,
     "metadata": {},
     "output_type": "execute_result"
    }
   ],
   "source": [
    "sparql_query = \"\"\"\n",
    "SELECT ?state ?city COUNT(?business) AS ?count_business\n",
    "WHERE {\n",
    "    ?business schema:category ?category .\n",
    "    ?business schema:addressRegion ?state .\n",
    "    ?business schema:location ?city .\n",
    "    FILTER(?city = \"New York\")\n",
    "}\n",
    "GROUP BY ?state ?city\n",
    "ORDER BY DESC(?count_business)\n",
    "LIMIT 10\n",
    "\n",
    "\"\"\"\n",
    "\n",
    "run_query(query=sparql_query, as_dataframe=True)"
   ]
  },
  {
   "cell_type": "code",
   "execution_count": 15,
   "metadata": {
    "collapsed": false,
    "pycharm": {
     "name": "#%%\n"
    }
   },
   "outputs": [
    {
     "data": {
      "text/plain": [
       "state  city         \n",
       "PA     Philadelphia     14567\n",
       "AZ     Tucson            9249\n",
       "FL     Tampa             9048\n",
       "IN     Indianapolis      7540\n",
       "TN     Nashville         6968\n",
       "LA     New Orleans       6208\n",
       "NV     Reno              5932\n",
       "AB     Edmonton          5054\n",
       "MO     Saint Louis       4827\n",
       "CA     Santa Barbara     3829\n",
       "Name: business_id, dtype: int64"
      ]
     },
     "execution_count": 15,
     "metadata": {},
     "output_type": "execute_result"
    }
   ],
   "source": [
    "business.groupby([\"state\", \"city\"])[\"business_id\"].count().sort_values(ascending=False)[0:10]"
   ]
  },
  {
   "cell_type": "markdown",
   "metadata": {},
   "source": [
    "Which business is the most visited on day X?"
   ]
  },
  {
   "cell_type": "code",
   "execution_count": 32,
   "metadata": {},
   "outputs": [
    {
     "data": {
      "text/html": [
       "<div>\n",
       "<style scoped>\n",
       "    .dataframe tbody tr th:only-of-type {\n",
       "        vertical-align: middle;\n",
       "    }\n",
       "\n",
       "    .dataframe tbody tr th {\n",
       "        vertical-align: top;\n",
       "    }\n",
       "\n",
       "    .dataframe thead th {\n",
       "        text-align: right;\n",
       "    }\n",
       "</style>\n",
       "<table border=\"1\" class=\"dataframe\">\n",
       "  <thead>\n",
       "    <tr style=\"text-align: right;\">\n",
       "      <th></th>\n",
       "      <th>business.value</th>\n",
       "      <th>year.value</th>\n",
       "      <th>month.value</th>\n",
       "      <th>day.value</th>\n",
       "      <th>callret-4.value</th>\n",
       "    </tr>\n",
       "  </thead>\n",
       "  <tbody>\n",
       "    <tr>\n",
       "      <th>0</th>\n",
       "      <td>https://example.org/business_id/CySqUcNz8oPiQTu4EXTnig</td>\n",
       "      <td>2016</td>\n",
       "      <td>6</td>\n",
       "      <td>25</td>\n",
       "      <td>457</td>\n",
       "    </tr>\n",
       "    <tr>\n",
       "      <th>1</th>\n",
       "      <td>https://example.org/business_id/g50ImmCX3WY3koEDIzoKxg</td>\n",
       "      <td>2015</td>\n",
       "      <td>8</td>\n",
       "      <td>30</td>\n",
       "      <td>285</td>\n",
       "    </tr>\n",
       "    <tr>\n",
       "      <th>2</th>\n",
       "      <td>https://example.org/business_id/qfWWx0dVo1UuAhRfh03Dyw</td>\n",
       "      <td>2016</td>\n",
       "      <td>8</td>\n",
       "      <td>28</td>\n",
       "      <td>268</td>\n",
       "    </tr>\n",
       "    <tr>\n",
       "      <th>3</th>\n",
       "      <td>https://example.org/business_id/g50ImmCX3WY3koEDIzoKxg</td>\n",
       "      <td>2016</td>\n",
       "      <td>8</td>\n",
       "      <td>28</td>\n",
       "      <td>263</td>\n",
       "    </tr>\n",
       "    <tr>\n",
       "      <th>4</th>\n",
       "      <td>https://example.org/business_id/FBBeJO50xZiNIo3oFhAFRA</td>\n",
       "      <td>2017</td>\n",
       "      <td>7</td>\n",
       "      <td>29</td>\n",
       "      <td>251</td>\n",
       "    </tr>\n",
       "  </tbody>\n",
       "</table>\n",
       "</div>"
      ],
      "text/plain": [
       "                                           business.value year.value  \\\n",
       "0  https://example.org/business_id/CySqUcNz8oPiQTu4EXTnig       2016   \n",
       "1  https://example.org/business_id/g50ImmCX3WY3koEDIzoKxg       2015   \n",
       "2  https://example.org/business_id/qfWWx0dVo1UuAhRfh03Dyw       2016   \n",
       "3  https://example.org/business_id/g50ImmCX3WY3koEDIzoKxg       2016   \n",
       "4  https://example.org/business_id/FBBeJO50xZiNIo3oFhAFRA       2017   \n",
       "\n",
       "  month.value day.value callret-4.value  \n",
       "0           6        25             457  \n",
       "1           8        30             285  \n",
       "2           8        28             268  \n",
       "3           8        28             263  \n",
       "4           7        29             251  "
      ]
     },
     "execution_count": 32,
     "metadata": {},
     "output_type": "execute_result"
    }
   ],
   "source": [
    "sparql_query = \"\"\"\n",
    "SELECT ?business ?year ?month ?day COUNT(?visit)\n",
    "WHERE {\n",
    "    ?business schema:checkinTime ?visit .\n",
    "    BIND (day(?visit)  as ?day)\n",
    "    BIND (month(?visit) as ?month)\n",
    "    BIND (year(?visit) as ?year)\n",
    "}\n",
    "GROUP BY ?business ?year ?month ?day\n",
    "ORDER BY DESC(COUNT(?visit))\n",
    "LIMIT 5\n",
    "\n",
    "\"\"\"\n",
    "\n",
    "run_query(query=sparql_query, as_dataframe=True)"
   ]
  },
  {
   "cell_type": "code",
   "execution_count": null,
   "metadata": {},
   "outputs": [],
   "source": []
  },
  {
   "cell_type": "markdown",
   "metadata": {
    "collapsed": false,
    "pycharm": {
     "name": "#%% md\n"
    }
   },
   "source": [
    "Which are the top 10 most visisted businesses?"
   ]
  },
  {
   "cell_type": "code",
   "execution_count": 2,
   "metadata": {
    "collapsed": false,
    "pycharm": {
     "name": "#%%\n"
    }
   },
   "outputs": [
    {
     "data": {
      "text/html": [
       "<div>\n",
       "<style scoped>\n",
       "    .dataframe tbody tr th:only-of-type {\n",
       "        vertical-align: middle;\n",
       "    }\n",
       "\n",
       "    .dataframe tbody tr th {\n",
       "        vertical-align: top;\n",
       "    }\n",
       "\n",
       "    .dataframe thead th {\n",
       "        text-align: right;\n",
       "    }\n",
       "</style>\n",
       "<table border=\"1\" class=\"dataframe\">\n",
       "  <thead>\n",
       "    <tr style=\"text-align: right;\">\n",
       "      <th></th>\n",
       "      <th>business.value</th>\n",
       "      <th>url.value</th>\n",
       "      <th>callret-2.value</th>\n",
       "    </tr>\n",
       "  </thead>\n",
       "  <tbody>\n",
       "    <tr>\n",
       "      <th>0</th>\n",
       "      <td>https://example.org/business_id/-QI8Qi8XWH3D8y8ethnajA</td>\n",
       "      <td>https://www.yelp.com/biz/-QI8Qi8XWH3D8y8ethnajA</td>\n",
       "      <td>52129</td>\n",
       "    </tr>\n",
       "    <tr>\n",
       "      <th>1</th>\n",
       "      <td>https://example.org/business_id/FEXhWNCMkv22qG04E83Qjg</td>\n",
       "      <td>https://www.yelp.com/biz/FEXhWNCMkv22qG04E83Qjg</td>\n",
       "      <td>40092</td>\n",
       "    </tr>\n",
       "    <tr>\n",
       "      <th>2</th>\n",
       "      <td>https://example.org/business_id/Eb1XmmLWyt_way5NNZ7-Pw</td>\n",
       "      <td>https://www.yelp.com/biz/Eb1XmmLWyt_way5NNZ7-Pw</td>\n",
       "      <td>37553</td>\n",
       "    </tr>\n",
       "    <tr>\n",
       "      <th>3</th>\n",
       "      <td>https://example.org/business_id/c_4c5rJECZSfNgFj7frwHQ</td>\n",
       "      <td>https://www.yelp.com/biz/c_4c5rJECZSfNgFj7frwHQ</td>\n",
       "      <td>37511</td>\n",
       "    </tr>\n",
       "    <tr>\n",
       "      <th>4</th>\n",
       "      <td>https://example.org/business_id/4i4kmYm9wgSNyF1b6gKphg</td>\n",
       "      <td>https://www.yelp.com/biz/4i4kmYm9wgSNyF1b6gKphg</td>\n",
       "      <td>31163</td>\n",
       "    </tr>\n",
       "    <tr>\n",
       "      <th>5</th>\n",
       "      <td>https://example.org/business_id/8O35ji_yOMVJmZ6bl96yhQ</td>\n",
       "      <td>https://www.yelp.com/biz/8O35ji_yOMVJmZ6bl96yhQ</td>\n",
       "      <td>29599</td>\n",
       "    </tr>\n",
       "    <tr>\n",
       "      <th>6</th>\n",
       "      <td>https://example.org/business_id/VQcCL9PiNL_wkGf-uF3fjg</td>\n",
       "      <td>https://www.yelp.com/biz/VQcCL9PiNL_wkGf-uF3fjg</td>\n",
       "      <td>28917</td>\n",
       "    </tr>\n",
       "    <tr>\n",
       "      <th>7</th>\n",
       "      <td>https://example.org/business_id/ac1AeYqs8Z4_e2X5M3if2A</td>\n",
       "      <td>https://www.yelp.com/biz/ac1AeYqs8Z4_e2X5M3if2A</td>\n",
       "      <td>21527</td>\n",
       "    </tr>\n",
       "    <tr>\n",
       "      <th>8</th>\n",
       "      <td>https://example.org/business_id/QTbahs-GVuWYL5yfdjH34A</td>\n",
       "      <td>https://www.yelp.com/biz/QTbahs-GVuWYL5yfdjH34A</td>\n",
       "      <td>21478</td>\n",
       "    </tr>\n",
       "    <tr>\n",
       "      <th>9</th>\n",
       "      <td>https://example.org/business_id/ytynqOUb3hjKeJfRj5Tshw</td>\n",
       "      <td>https://www.yelp.com/biz/ytynqOUb3hjKeJfRj5Tshw</td>\n",
       "      <td>18604</td>\n",
       "    </tr>\n",
       "  </tbody>\n",
       "</table>\n",
       "</div>"
      ],
      "text/plain": [
       "                                           business.value  \\\n",
       "0  https://example.org/business_id/-QI8Qi8XWH3D8y8ethnajA   \n",
       "1  https://example.org/business_id/FEXhWNCMkv22qG04E83Qjg   \n",
       "2  https://example.org/business_id/Eb1XmmLWyt_way5NNZ7-Pw   \n",
       "3  https://example.org/business_id/c_4c5rJECZSfNgFj7frwHQ   \n",
       "4  https://example.org/business_id/4i4kmYm9wgSNyF1b6gKphg   \n",
       "5  https://example.org/business_id/8O35ji_yOMVJmZ6bl96yhQ   \n",
       "6  https://example.org/business_id/VQcCL9PiNL_wkGf-uF3fjg   \n",
       "7  https://example.org/business_id/ac1AeYqs8Z4_e2X5M3if2A   \n",
       "8  https://example.org/business_id/QTbahs-GVuWYL5yfdjH34A   \n",
       "9  https://example.org/business_id/ytynqOUb3hjKeJfRj5Tshw   \n",
       "\n",
       "                                         url.value callret-2.value  \n",
       "0  https://www.yelp.com/biz/-QI8Qi8XWH3D8y8ethnajA           52129  \n",
       "1  https://www.yelp.com/biz/FEXhWNCMkv22qG04E83Qjg           40092  \n",
       "2  https://www.yelp.com/biz/Eb1XmmLWyt_way5NNZ7-Pw           37553  \n",
       "3  https://www.yelp.com/biz/c_4c5rJECZSfNgFj7frwHQ           37511  \n",
       "4  https://www.yelp.com/biz/4i4kmYm9wgSNyF1b6gKphg           31163  \n",
       "5  https://www.yelp.com/biz/8O35ji_yOMVJmZ6bl96yhQ           29599  \n",
       "6  https://www.yelp.com/biz/VQcCL9PiNL_wkGf-uF3fjg           28917  \n",
       "7  https://www.yelp.com/biz/ac1AeYqs8Z4_e2X5M3if2A           21527  \n",
       "8  https://www.yelp.com/biz/QTbahs-GVuWYL5yfdjH34A           21478  \n",
       "9  https://www.yelp.com/biz/ytynqOUb3hjKeJfRj5Tshw           18604  "
      ]
     },
     "execution_count": 2,
     "metadata": {},
     "output_type": "execute_result"
    }
   ],
   "source": [
    "sparql_query = \"\"\"\n",
    "SELECT DISTINCT ?business ?url COUNT(?visit)\n",
    "WHERE {\n",
    "    ?business schema:checkinTime ?visit .\n",
    "    ?business schema:url ?url\n",
    "    \n",
    "}\n",
    "GROUP BY ?business ?url\n",
    "ORDER BY DESC(COUNT(?visit))\n",
    "LIMIT 10\n",
    "\n",
    "\"\"\"\n",
    "\n",
    "run_query(query=sparql_query, as_dataframe=True)"
   ]
  },
  {
   "cell_type": "code",
   "execution_count": 36,
   "metadata": {},
   "outputs": [
    {
     "data": {
      "text/html": [
       "<div>\n",
       "<style scoped>\n",
       "    .dataframe tbody tr th:only-of-type {\n",
       "        vertical-align: middle;\n",
       "    }\n",
       "\n",
       "    .dataframe tbody tr th {\n",
       "        vertical-align: top;\n",
       "    }\n",
       "\n",
       "    .dataframe thead th {\n",
       "        text-align: right;\n",
       "    }\n",
       "</style>\n",
       "<table border=\"1\" class=\"dataframe\">\n",
       "  <thead>\n",
       "    <tr style=\"text-align: right;\">\n",
       "      <th></th>\n",
       "      <th>business.value</th>\n",
       "      <th>callret-1.value</th>\n",
       "    </tr>\n",
       "  </thead>\n",
       "  <tbody>\n",
       "    <tr>\n",
       "      <th>0</th>\n",
       "      <td>https://example.org/business_id/-QI8Qi8XWH3D8y8ethnajA</td>\n",
       "      <td>52129</td>\n",
       "    </tr>\n",
       "    <tr>\n",
       "      <th>1</th>\n",
       "      <td>https://example.org/business_id/FEXhWNCMkv22qG04E83Qjg</td>\n",
       "      <td>40092</td>\n",
       "    </tr>\n",
       "    <tr>\n",
       "      <th>2</th>\n",
       "      <td>https://example.org/business_id/Eb1XmmLWyt_way5NNZ7-Pw</td>\n",
       "      <td>37553</td>\n",
       "    </tr>\n",
       "    <tr>\n",
       "      <th>3</th>\n",
       "      <td>https://example.org/business_id/c_4c5rJECZSfNgFj7frwHQ</td>\n",
       "      <td>37511</td>\n",
       "    </tr>\n",
       "    <tr>\n",
       "      <th>4</th>\n",
       "      <td>https://example.org/business_id/4i4kmYm9wgSNyF1b6gKphg</td>\n",
       "      <td>31163</td>\n",
       "    </tr>\n",
       "    <tr>\n",
       "      <th>5</th>\n",
       "      <td>https://example.org/business_id/8O35ji_yOMVJmZ6bl96yhQ</td>\n",
       "      <td>29599</td>\n",
       "    </tr>\n",
       "    <tr>\n",
       "      <th>6</th>\n",
       "      <td>https://example.org/business_id/VQcCL9PiNL_wkGf-uF3fjg</td>\n",
       "      <td>28917</td>\n",
       "    </tr>\n",
       "    <tr>\n",
       "      <th>7</th>\n",
       "      <td>https://example.org/business_id/ac1AeYqs8Z4_e2X5M3if2A</td>\n",
       "      <td>21527</td>\n",
       "    </tr>\n",
       "    <tr>\n",
       "      <th>8</th>\n",
       "      <td>https://example.org/business_id/QTbahs-GVuWYL5yfdjH34A</td>\n",
       "      <td>21478</td>\n",
       "    </tr>\n",
       "    <tr>\n",
       "      <th>9</th>\n",
       "      <td>https://example.org/business_id/ytynqOUb3hjKeJfRj5Tshw</td>\n",
       "      <td>18604</td>\n",
       "    </tr>\n",
       "  </tbody>\n",
       "</table>\n",
       "</div>"
      ],
      "text/plain": [
       "                                           business.value callret-1.value\n",
       "0  https://example.org/business_id/-QI8Qi8XWH3D8y8ethnajA           52129\n",
       "1  https://example.org/business_id/FEXhWNCMkv22qG04E83Qjg           40092\n",
       "2  https://example.org/business_id/Eb1XmmLWyt_way5NNZ7-Pw           37553\n",
       "3  https://example.org/business_id/c_4c5rJECZSfNgFj7frwHQ           37511\n",
       "4  https://example.org/business_id/4i4kmYm9wgSNyF1b6gKphg           31163\n",
       "5  https://example.org/business_id/8O35ji_yOMVJmZ6bl96yhQ           29599\n",
       "6  https://example.org/business_id/VQcCL9PiNL_wkGf-uF3fjg           28917\n",
       "7  https://example.org/business_id/ac1AeYqs8Z4_e2X5M3if2A           21527\n",
       "8  https://example.org/business_id/QTbahs-GVuWYL5yfdjH34A           21478\n",
       "9  https://example.org/business_id/ytynqOUb3hjKeJfRj5Tshw           18604"
      ]
     },
     "execution_count": 36,
     "metadata": {},
     "output_type": "execute_result"
    }
   ],
   "source": [
    "sparql_query = \"\"\"\n",
    "SELECT ?business COUNT(?visit)\n",
    "WHERE {\n",
    "    ?business schema:checkinTime ?visit .\n",
    "}\n",
    "GROUP BY ?business \n",
    "ORDER BY DESC(COUNT(?visit))\n",
    "LIMIT 10\n",
    "\n",
    "\"\"\"\n",
    "\n",
    "run_query(query=sparql_query, as_dataframe=True)"
   ]
  },
  {
   "cell_type": "code",
   "execution_count": 53,
   "metadata": {
    "collapsed": false,
    "pycharm": {
     "name": "#%%\n"
    }
   },
   "outputs": [
    {
     "data": {
      "text/html": [
       "<div>\n",
       "<style scoped>\n",
       "    .dataframe tbody tr th:only-of-type {\n",
       "        vertical-align: middle;\n",
       "    }\n",
       "\n",
       "    .dataframe tbody tr th {\n",
       "        vertical-align: top;\n",
       "    }\n",
       "\n",
       "    .dataframe thead th {\n",
       "        text-align: right;\n",
       "    }\n",
       "</style>\n",
       "<table border=\"1\" class=\"dataframe\">\n",
       "  <thead>\n",
       "    <tr style=\"text-align: right;\">\n",
       "      <th></th>\n",
       "      <th>business_id</th>\n",
       "      <th>date</th>\n",
       "    </tr>\n",
       "  </thead>\n",
       "  <tbody>\n",
       "    <tr>\n",
       "      <th>0</th>\n",
       "      <td>---kPU91CF4Lq2-WlRu9Lw</td>\n",
       "      <td>[2020-03-13 21:10:56, 2020-06-02 22:18:06, 202...</td>\n",
       "    </tr>\n",
       "    <tr>\n",
       "      <th>1</th>\n",
       "      <td>--0iUa4sNDFiZFrAdIWhZQ</td>\n",
       "      <td>[2010-09-13 21:43:09, 2011-05-04 23:08:15, 201...</td>\n",
       "    </tr>\n",
       "    <tr>\n",
       "      <th>2</th>\n",
       "      <td>--30_8IhuyMHbSOcNWd6DQ</td>\n",
       "      <td>[2013-06-14 23:29:17, 2014-08-13 23:20:22]</td>\n",
       "    </tr>\n",
       "    <tr>\n",
       "      <th>3</th>\n",
       "      <td>--7PUidqRWpRSpXebiyxTg</td>\n",
       "      <td>[2011-02-15 17:12:00, 2011-07-28 02:46:10, 201...</td>\n",
       "    </tr>\n",
       "    <tr>\n",
       "      <th>4</th>\n",
       "      <td>--7jw19RH9JKXgFohspgQw</td>\n",
       "      <td>[2014-04-21 20:42:11, 2014-04-28 21:04:46, 201...</td>\n",
       "    </tr>\n",
       "    <tr>\n",
       "      <th>...</th>\n",
       "      <td>...</td>\n",
       "      <td>...</td>\n",
       "    </tr>\n",
       "    <tr>\n",
       "      <th>131925</th>\n",
       "      <td>zznJox6-nmXlGYNWgTDwQQ</td>\n",
       "      <td>[2013-03-23 16:22:47, 2013-04-07 02:03:12, 201...</td>\n",
       "    </tr>\n",
       "    <tr>\n",
       "      <th>131926</th>\n",
       "      <td>zznZqH9CiAznbkV6fXyHWA</td>\n",
       "      <td>[2021-06-12 01:16:12]</td>\n",
       "    </tr>\n",
       "    <tr>\n",
       "      <th>131927</th>\n",
       "      <td>zzu6_r3DxBJuXcjnOYVdTw</td>\n",
       "      <td>[2011-05-24 01:35:13, 2012-01-01 23:44:33, 201...</td>\n",
       "    </tr>\n",
       "    <tr>\n",
       "      <th>131928</th>\n",
       "      <td>zzw66H6hVjXQEt0Js3Mo4A</td>\n",
       "      <td>[2016-12-03 23:33:26, 2018-12-02 19:08:45]</td>\n",
       "    </tr>\n",
       "    <tr>\n",
       "      <th>131929</th>\n",
       "      <td>zzyx5x0Z7xXWWvWnZFuxlQ</td>\n",
       "      <td>[2015-01-06 17:51:53]</td>\n",
       "    </tr>\n",
       "  </tbody>\n",
       "</table>\n",
       "<p>131930 rows × 2 columns</p>\n",
       "</div>"
      ],
      "text/plain": [
       "                   business_id  \\\n",
       "0       ---kPU91CF4Lq2-WlRu9Lw   \n",
       "1       --0iUa4sNDFiZFrAdIWhZQ   \n",
       "2       --30_8IhuyMHbSOcNWd6DQ   \n",
       "3       --7PUidqRWpRSpXebiyxTg   \n",
       "4       --7jw19RH9JKXgFohspgQw   \n",
       "...                        ...   \n",
       "131925  zznJox6-nmXlGYNWgTDwQQ   \n",
       "131926  zznZqH9CiAznbkV6fXyHWA   \n",
       "131927  zzu6_r3DxBJuXcjnOYVdTw   \n",
       "131928  zzw66H6hVjXQEt0Js3Mo4A   \n",
       "131929  zzyx5x0Z7xXWWvWnZFuxlQ   \n",
       "\n",
       "                                                     date  \n",
       "0       [2020-03-13 21:10:56, 2020-06-02 22:18:06, 202...  \n",
       "1       [2010-09-13 21:43:09, 2011-05-04 23:08:15, 201...  \n",
       "2              [2013-06-14 23:29:17, 2014-08-13 23:20:22]  \n",
       "3       [2011-02-15 17:12:00, 2011-07-28 02:46:10, 201...  \n",
       "4       [2014-04-21 20:42:11, 2014-04-28 21:04:46, 201...  \n",
       "...                                                   ...  \n",
       "131925  [2013-03-23 16:22:47, 2013-04-07 02:03:12, 201...  \n",
       "131926                              [2021-06-12 01:16:12]  \n",
       "131927  [2011-05-24 01:35:13, 2012-01-01 23:44:33, 201...  \n",
       "131928         [2016-12-03 23:33:26, 2018-12-02 19:08:45]  \n",
       "131929                              [2015-01-06 17:51:53]  \n",
       "\n",
       "[131930 rows x 2 columns]"
      ]
     },
     "execution_count": 53,
     "metadata": {},
     "output_type": "execute_result"
    }
   ],
   "source": [
    "checkins"
   ]
  },
  {
   "cell_type": "code",
   "execution_count": 55,
   "metadata": {
    "collapsed": false,
    "pycharm": {
     "name": "#%%\n"
    }
   },
   "outputs": [],
   "source": [
    "checkins = checkins.explode('date')"
   ]
  },
  {
   "cell_type": "code",
   "execution_count": 59,
   "metadata": {
    "collapsed": false,
    "pycharm": {
     "name": "#%%\n"
    }
   },
   "outputs": [
    {
     "data": {
      "text/plain": [
       "business_id\n",
       "---kPU91CF4Lq2-WlRu9Lw    11\n",
       "--0iUa4sNDFiZFrAdIWhZQ    10\n",
       "--30_8IhuyMHbSOcNWd6DQ     2\n",
       "--7PUidqRWpRSpXebiyxTg    10\n",
       "--7jw19RH9JKXgFohspgQw    26\n",
       "                          ..\n",
       "zznJox6-nmXlGYNWgTDwQQ    67\n",
       "zznZqH9CiAznbkV6fXyHWA     1\n",
       "zzu6_r3DxBJuXcjnOYVdTw    23\n",
       "zzw66H6hVjXQEt0Js3Mo4A     2\n",
       "zzyx5x0Z7xXWWvWnZFuxlQ     1\n",
       "Length: 131930, dtype: int64"
      ]
     },
     "execution_count": 59,
     "metadata": {},
     "output_type": "execute_result"
    }
   ],
   "source": [
    "checkins.groupby(['business_id']).size()"
   ]
  },
  {
   "cell_type": "markdown",
   "metadata": {
    "collapsed": false,
    "pycharm": {
     "name": "#%% md\n"
    }
   },
   "source": [
    "How many of the Yelp categories are also mapped to schema.org?"
   ]
  },
  {
   "cell_type": "code",
   "execution_count": null,
   "metadata": {
    "collapsed": false,
    "pycharm": {
     "name": "#%%\n"
    }
   },
   "outputs": [],
   "source": [
    "sparql_query = \"\"\"\n",
    "SELECT COUNT(?category)\n",
    "WHERE {\n",
    "    ?category rdfs.Class example:yelpCategory.\n",
    "    ?category skos:exactMatch ?schemacategory .\n",
    "    ?category skos:narrowMatch ?schemacategory .\n",
    "    ?schemacategory rdfs.Class example:SchemaCategory .\n",
    "\n",
    "}\n",
    "\"\"\"\n",
    "\n",
    "run_query(query=sparql_query, as_dataframe=True)"
   ]
  },
  {
   "cell_type": "code",
   "execution_count": 63,
   "metadata": {
    "collapsed": false,
    "pycharm": {
     "name": "#%%\n"
    }
   },
   "outputs": [
    {
     "data": {
      "text/plain": [
       "384"
      ]
     },
     "execution_count": 63,
     "metadata": {},
     "output_type": "execute_result"
    }
   ],
   "source": [
    "mappings = pd.read_csv(get_path(\"class_mappings.csv\"))\n",
    "len(mappings)"
   ]
  },
  {
   "cell_type": "markdown",
   "metadata": {
    "collapsed": false
   },
   "source": [
    "How many people have written a review or tip on Yelp? TO DO: review author user, user author tip giver ikke mening"
   ]
  },
  {
   "cell_type": "code",
   "execution_count": 37,
   "metadata": {
    "collapsed": false,
    "pycharm": {
     "name": "#%%\n"
    }
   },
   "outputs": [
    {
     "data": {
      "text/html": [
       "<div>\n",
       "<style scoped>\n",
       "    .dataframe tbody tr th:only-of-type {\n",
       "        vertical-align: middle;\n",
       "    }\n",
       "\n",
       "    .dataframe tbody tr th {\n",
       "        vertical-align: top;\n",
       "    }\n",
       "\n",
       "    .dataframe thead th {\n",
       "        text-align: right;\n",
       "    }\n",
       "</style>\n",
       "<table border=\"1\" class=\"dataframe\">\n",
       "  <thead>\n",
       "    <tr style=\"text-align: right;\">\n",
       "      <th></th>\n",
       "      <th>callret-0.type</th>\n",
       "      <th>callret-0.datatype</th>\n",
       "      <th>callret-0.value</th>\n",
       "    </tr>\n",
       "  </thead>\n",
       "  <tbody>\n",
       "    <tr>\n",
       "      <th>0</th>\n",
       "      <td>typed-literal</td>\n",
       "      <td>http://www.w3.org/2001/XMLSchema#integer</td>\n",
       "      <td>0</td>\n",
       "    </tr>\n",
       "  </tbody>\n",
       "</table>\n",
       "</div>"
      ],
      "text/plain": [
       "  callret-0.type                        callret-0.datatype callret-0.value\n",
       "0  typed-literal  http://www.w3.org/2001/XMLSchema#integer               0"
      ]
     },
     "execution_count": 37,
     "metadata": {},
     "output_type": "execute_result"
    }
   ],
   "source": [
    "sparql_query = \"\"\"\n",
    "SELECT COUNT(?users)\n",
    "WHERE {\n",
    "    ?user rdfs:Class schema:Person .\n",
    "    ?review schema:author ?user .\n",
    "\n",
    "\n",
    "}\n",
    "\"\"\"\n",
    "\n",
    "run_query(query=sparql_query, as_dataframe=True)"
   ]
  },
  {
   "cell_type": "code",
   "execution_count": null,
   "metadata": {
    "collapsed": false,
    "pycharm": {
     "name": "#%%\n"
    }
   },
   "outputs": [],
   "source": [
    "tips['user_id'].unique.count()"
   ]
  },
  {
   "cell_type": "markdown",
   "metadata": {
    "collapsed": false,
    "pycharm": {
     "name": "#%% md\n"
    }
   },
   "source": [
    "How many users have 10 friends?"
   ]
  },
  {
   "cell_type": "code",
   "execution_count": null,
   "metadata": {
    "collapsed": false,
    "pycharm": {
     "name": "#%%\n"
    }
   },
   "outputs": [],
   "source": [
    "sparql_query = \"\"\"\n",
    "SELECT ?user (COUNT(?friend) as ?numberOfFriends)\n",
    "WHERE {\n",
    "    ?user rdfs:Class schema:Person .\n",
    "    ?user schema:knows ?friend .\n",
    "}\n",
    "HAVING { ?numberOfFriends = 10 }\n",
    "GROUP BY ?user\n",
    "\"\"\"\n",
    "\n",
    "run_query(query=sparql_query, as_dataframe=True)"
   ]
  },
  {
   "cell_type": "code",
   "execution_count": null,
   "metadata": {
    "collapsed": false,
    "pycharm": {
     "name": "#%%\n"
    }
   },
   "outputs": [],
   "source": []
  },
  {
   "cell_type": "markdown",
   "metadata": {},
   "source": [
    "How many friends does a user have on average?"
   ]
  },
  {
   "cell_type": "code",
   "execution_count": null,
   "metadata": {},
   "outputs": [],
   "source": [
    "sparql_query = \"\"\"\n",
    "SELECT (AVG(?friend) as ?averageFriends)\n",
    "WHERE {\n",
    "    ?user rdfs:Class schema:Person .\n",
    "    ?user schema:knows ?friend .\n",
    "}\n",
    "\"\"\"\n",
    "\n",
    "run_query(query=sparql_query, as_dataframe=True)"
   ]
  },
  {
   "cell_type": "code",
   "execution_count": null,
   "metadata": {},
   "outputs": [],
   "source": []
  },
  {
   "cell_type": "markdown",
   "metadata": {
    "collapsed": false,
    "pycharm": {
     "name": "#%% md\n"
    }
   },
   "source": [
    "How many users have authored 10 reviews or tips?"
   ]
  },
  {
   "cell_type": "code",
   "execution_count": null,
   "metadata": {
    "collapsed": false,
    "pycharm": {
     "name": "#%%\n"
    }
   },
   "outputs": [],
   "source": [
    "sparql_query = \"\"\"\n",
    "SELECT ?user (COUNT(?reviews) as ?numberOfReviews)\n",
    "WHERE {\n",
    "    ?user rdfs:Class schema:Person .\n",
    "    ?user schema:knows ?friend .\n",
    "}\n",
    "HAVING { ?numberOfFriends = 10 }\n",
    "GROUP BY ?user\n",
    "\"\"\"\n",
    "\n",
    "run_query(query=sparql_query, as_dataframe=True)"
   ]
  },
  {
   "cell_type": "code",
   "execution_count": 64,
   "metadata": {
    "collapsed": false,
    "pycharm": {
     "name": "#%%\n"
    }
   },
   "outputs": [
    {
     "data": {
      "text/html": [
       "<div>\n",
       "<style scoped>\n",
       "    .dataframe tbody tr th:only-of-type {\n",
       "        vertical-align: middle;\n",
       "    }\n",
       "\n",
       "    .dataframe tbody tr th {\n",
       "        vertical-align: top;\n",
       "    }\n",
       "\n",
       "    .dataframe thead th {\n",
       "        text-align: right;\n",
       "    }\n",
       "</style>\n",
       "<table border=\"1\" class=\"dataframe\">\n",
       "  <thead>\n",
       "    <tr style=\"text-align: right;\">\n",
       "      <th></th>\n",
       "      <th>user_id</th>\n",
       "      <th>business_id</th>\n",
       "      <th>text</th>\n",
       "      <th>date</th>\n",
       "      <th>compliment_count</th>\n",
       "    </tr>\n",
       "  </thead>\n",
       "  <tbody>\n",
       "    <tr>\n",
       "      <th>0</th>\n",
       "      <td>AGNUgVwnZUey3gcPCJ76iw</td>\n",
       "      <td>3uLgwr0qeCNMjKenHJwPGQ</td>\n",
       "      <td>Avengers time with the ladies.</td>\n",
       "      <td>2012-05-18 02:17:21</td>\n",
       "      <td>0</td>\n",
       "    </tr>\n",
       "    <tr>\n",
       "      <th>1</th>\n",
       "      <td>NBN4MgHP9D3cw--SnauTkA</td>\n",
       "      <td>QoezRbYQncpRqyrLH6Iqjg</td>\n",
       "      <td>They have lots of good deserts and tasty cuban...</td>\n",
       "      <td>2013-02-05 18:35:10</td>\n",
       "      <td>0</td>\n",
       "    </tr>\n",
       "    <tr>\n",
       "      <th>2</th>\n",
       "      <td>-copOvldyKh1qr-vzkDEvw</td>\n",
       "      <td>MYoRNLb5chwjQe3c_k37Gg</td>\n",
       "      <td>It's open even when you think it isn't</td>\n",
       "      <td>2013-08-18 00:56:08</td>\n",
       "      <td>0</td>\n",
       "    </tr>\n",
       "    <tr>\n",
       "      <th>3</th>\n",
       "      <td>FjMQVZjSqY8syIO-53KFKw</td>\n",
       "      <td>hV-bABTK-glh5wj31ps_Jw</td>\n",
       "      <td>Very decent fried chicken</td>\n",
       "      <td>2017-06-27 23:05:38</td>\n",
       "      <td>0</td>\n",
       "    </tr>\n",
       "    <tr>\n",
       "      <th>4</th>\n",
       "      <td>ld0AperBXk1h6UbqmM80zw</td>\n",
       "      <td>_uN0OudeJ3Zl_tf6nxg5ww</td>\n",
       "      <td>Appetizers.. platter special for lunch</td>\n",
       "      <td>2012-10-06 19:43:09</td>\n",
       "      <td>0</td>\n",
       "    </tr>\n",
       "    <tr>\n",
       "      <th>...</th>\n",
       "      <td>...</td>\n",
       "      <td>...</td>\n",
       "      <td>...</td>\n",
       "      <td>...</td>\n",
       "      <td>...</td>\n",
       "    </tr>\n",
       "    <tr>\n",
       "      <th>908910</th>\n",
       "      <td>eYodOTF8pkqKPzHkcxZs-Q</td>\n",
       "      <td>3lHTewuKFt5IImbXJoFeDQ</td>\n",
       "      <td>Disappointed in one of your managers.</td>\n",
       "      <td>2021-09-11 19:18:57</td>\n",
       "      <td>0</td>\n",
       "    </tr>\n",
       "    <tr>\n",
       "      <th>908911</th>\n",
       "      <td>1uxtQAuJ2T5Xwa_wp7kUnA</td>\n",
       "      <td>OaGf0Dp56ARhQwIDT90w_g</td>\n",
       "      <td>Great food and service.</td>\n",
       "      <td>2021-10-30 11:54:36</td>\n",
       "      <td>0</td>\n",
       "    </tr>\n",
       "    <tr>\n",
       "      <th>908912</th>\n",
       "      <td>v48Spe6WEpqehsF2xQADpg</td>\n",
       "      <td>hYnMeAO77RGyTtIzUSKYzQ</td>\n",
       "      <td>Love their Cubans!!</td>\n",
       "      <td>2021-11-05 13:18:56</td>\n",
       "      <td>0</td>\n",
       "    </tr>\n",
       "    <tr>\n",
       "      <th>908913</th>\n",
       "      <td>ckqKGM2hl7I9Chp5IpAhkw</td>\n",
       "      <td>s2eyoTuJrcP7I_XyjdhUHQ</td>\n",
       "      <td>Great pizza great price</td>\n",
       "      <td>2021-11-20 16:11:44</td>\n",
       "      <td>0</td>\n",
       "    </tr>\n",
       "    <tr>\n",
       "      <th>908914</th>\n",
       "      <td>4tF1CWdMxvvwpUIgGsDygA</td>\n",
       "      <td>_cb1Vg1NIWry8UA0jyuXnQ</td>\n",
       "      <td>Food is good value but a bit hot!</td>\n",
       "      <td>2021-12-07 22:30:00</td>\n",
       "      <td>0</td>\n",
       "    </tr>\n",
       "  </tbody>\n",
       "</table>\n",
       "<p>908915 rows × 5 columns</p>\n",
       "</div>"
      ],
      "text/plain": [
       "                       user_id             business_id  \\\n",
       "0       AGNUgVwnZUey3gcPCJ76iw  3uLgwr0qeCNMjKenHJwPGQ   \n",
       "1       NBN4MgHP9D3cw--SnauTkA  QoezRbYQncpRqyrLH6Iqjg   \n",
       "2       -copOvldyKh1qr-vzkDEvw  MYoRNLb5chwjQe3c_k37Gg   \n",
       "3       FjMQVZjSqY8syIO-53KFKw  hV-bABTK-glh5wj31ps_Jw   \n",
       "4       ld0AperBXk1h6UbqmM80zw  _uN0OudeJ3Zl_tf6nxg5ww   \n",
       "...                        ...                     ...   \n",
       "908910  eYodOTF8pkqKPzHkcxZs-Q  3lHTewuKFt5IImbXJoFeDQ   \n",
       "908911  1uxtQAuJ2T5Xwa_wp7kUnA  OaGf0Dp56ARhQwIDT90w_g   \n",
       "908912  v48Spe6WEpqehsF2xQADpg  hYnMeAO77RGyTtIzUSKYzQ   \n",
       "908913  ckqKGM2hl7I9Chp5IpAhkw  s2eyoTuJrcP7I_XyjdhUHQ   \n",
       "908914  4tF1CWdMxvvwpUIgGsDygA  _cb1Vg1NIWry8UA0jyuXnQ   \n",
       "\n",
       "                                                     text                date  \\\n",
       "0                          Avengers time with the ladies. 2012-05-18 02:17:21   \n",
       "1       They have lots of good deserts and tasty cuban... 2013-02-05 18:35:10   \n",
       "2                  It's open even when you think it isn't 2013-08-18 00:56:08   \n",
       "3                               Very decent fried chicken 2017-06-27 23:05:38   \n",
       "4                  Appetizers.. platter special for lunch 2012-10-06 19:43:09   \n",
       "...                                                   ...                 ...   \n",
       "908910              Disappointed in one of your managers. 2021-09-11 19:18:57   \n",
       "908911                            Great food and service. 2021-10-30 11:54:36   \n",
       "908912                                Love their Cubans!! 2021-11-05 13:18:56   \n",
       "908913                            Great pizza great price 2021-11-20 16:11:44   \n",
       "908914                  Food is good value but a bit hot! 2021-12-07 22:30:00   \n",
       "\n",
       "        compliment_count  \n",
       "0                      0  \n",
       "1                      0  \n",
       "2                      0  \n",
       "3                      0  \n",
       "4                      0  \n",
       "...                  ...  \n",
       "908910                 0  \n",
       "908911                 0  \n",
       "908912                 0  \n",
       "908913                 0  \n",
       "908914                 0  \n",
       "\n",
       "[908915 rows x 5 columns]"
      ]
     },
     "execution_count": 64,
     "metadata": {},
     "output_type": "execute_result"
    }
   ],
   "source": [
    "tips"
   ]
  },
  {
   "cell_type": "code",
   "execution_count": null,
   "metadata": {
    "collapsed": false,
    "pycharm": {
     "is_executing": true,
     "name": "#%%\n"
    }
   },
   "outputs": [],
   "source": [
    "top_tippers = tips.groupby('user_id')['user_id'].count()"
   ]
  },
  {
   "cell_type": "markdown",
   "metadata": {},
   "source": [
    "How many reviews or tips does a user make on average every month?"
   ]
  },
  {
   "cell_type": "code",
   "execution_count": null,
   "metadata": {},
   "outputs": [],
   "source": [
    "# TO DO"
   ]
  },
  {
   "cell_type": "code",
   "execution_count": null,
   "metadata": {},
   "outputs": [],
   "source": []
  }
 ],
 "metadata": {
  "kernelspec": {
   "display_name": "Python 3.10.8 64-bit",
   "language": "python",
   "name": "python3"
  },
  "language_info": {
   "codemirror_mode": {
    "name": "ipython",
    "version": 3
   },
   "file_extension": ".py",
   "mimetype": "text/x-python",
   "name": "python",
   "nbconvert_exporter": "python",
   "pygments_lexer": "ipython3",
   "version": "3.10.8"
  },
  "vscode": {
   "interpreter": {
    "hash": "8a94588eda9d64d9e9a351ab8144e55b1fabf5113b54e67dd26a8c27df0381b3"
   }
  }
 },
 "nbformat": 4,
 "nbformat_minor": 0
}
