{
 "cells": [
  {
   "cell_type": "code",
   "execution_count": 2,
   "metadata": {
    "collapsed": true
   },
   "outputs": [
    {
     "ename": "ModuleNotFoundError",
     "evalue": "No module named 'rdflib'",
     "output_type": "error",
     "traceback": [
      "\u001B[0;31m---------------------------------------------------------------------------\u001B[0m",
      "\u001B[0;31mModuleNotFoundError\u001B[0m                       Traceback (most recent call last)",
      "Input \u001B[0;32mIn [2]\u001B[0m, in \u001B[0;36m<cell line: 1>\u001B[0;34m()\u001B[0m\n\u001B[0;32m----> 1\u001B[0m \u001B[38;5;28;01mfrom\u001B[39;00m \u001B[38;5;21;01mrdflib\u001B[39;00m \u001B[38;5;28;01mimport\u001B[39;00m Namespace, Graph, URIRef, Literal, XSD\n\u001B[1;32m      2\u001B[0m \u001B[38;5;28;01mimport\u001B[39;00m \u001B[38;5;21;01mjson\u001B[39;00m\n\u001B[1;32m      4\u001B[0m \u001B[38;5;28;01mfrom\u001B[39;00m \u001B[38;5;21;01mget_schema_predicate\u001B[39;00m \u001B[38;5;28;01mimport\u001B[39;00m return_predicate\n",
      "\u001B[0;31mModuleNotFoundError\u001B[0m: No module named 'rdflib'"
     ]
    }
   ],
   "source": [
    "from rdflib import Namespace, Graph, URIRef, Literal, XSD\n",
    "import json\n",
    "\n",
    "from get_schema_predicate import return_predicate"
   ]
  },
  {
   "cell_type": "code",
   "execution_count": 1,
   "outputs": [],
   "source": [
    "file_path = \"/Users/heede/Library/CloudStorage/OneDrive-AalborgUniversitet/DVML P7/Data/yelp_academic_dataset_business.json\""
   ],
   "metadata": {
    "collapsed": false,
    "pycharm": {
     "name": "#%%\n"
    }
   }
  },
  {
   "cell_type": "code",
   "execution_count": null,
   "outputs": [],
   "source": [
    "schema = Namespace(\"https://schema.org/\")\n",
    "\n",
    "yelp_business = Namespace(\"https://www.yelp.com/biz/\")\n",
    "yelp_user = Namespace(\"https://www.yelp.com/user_details?userid=\")\n",
    "yelp_review_vc = Namespace(\"https://www.yelp.com/kg/review/votes_count/\")"
   ],
   "metadata": {
    "collapsed": false,
    "pycharm": {
     "name": "#%%\n"
    }
   }
  },
  {
   "cell_type": "code",
   "execution_count": null,
   "outputs": [],
   "source": [
    "G = Graph()\n",
    "G.bind(prefix=\"biz\", namespace=yelp_business)"
   ],
   "metadata": {
    "collapsed": false,
    "pycharm": {
     "name": "#%%\n"
    }
   }
  },
  {
   "cell_type": "code",
   "execution_count": null,
   "outputs": [],
   "source": [
    "with open(file=file_path, mode=\"r\") as file:\n",
    "    for line in file:\n",
    "        try:\n",
    "            line = json.loads(line)\n",
    "\n",
    "            json_key = list(line.keys())[0]\n",
    "            subject = line[json_key]\n",
    "            del line[json_key]\n",
    "            #print(json_key, _subject)\n",
    "\n",
    "            for _predicate, _object in line.items():\n",
    "                if isinstance(_object, type(None)):\n",
    "                    pass\n",
    "                elif isinstance(_object, dict):# or _predicate in [\"categories\", \"hours\", \"attributes\"]:\n",
    "                    for key_pred, value_obj in _object.items():\n",
    "                        predicate, object_type = return_predicate(key_pred)\n",
    "                        G.add(triple=(URIRef(yelp_business + subject), # Subject\n",
    "                                      URIRef(schema + predicate), # Predicate\n",
    "                                      Literal(value_obj, datatype=object_type) # Object\n",
    "                              ))\n",
    "                else:\n",
    "                    predicate, object_type = return_predicate(_predicate)\n",
    "                    G.add(triple=(URIRef(yelp_business + subject), # Subject\n",
    "                                  URIRef(schema + predicate), # Predicate\n",
    "                                  Literal(_object, datatype=object_type) # Object\n",
    "                          ))\n",
    "        except Exception as e:\n",
    "            pass\n",
    "            # print(e)\n",
    "            # print(subject, _predicate, _object)"
   ],
   "metadata": {
    "collapsed": false,
    "pycharm": {
     "name": "#%%\n"
    }
   }
  },
  {
   "cell_type": "code",
   "execution_count": 81,
   "outputs": [
    {
     "data": {
      "text/plain": "<Graph identifier=N1f9dc0b92cc74ea2aa16d03505b861ed (<class 'rdflib.graph.Graph'>)>"
     },
     "execution_count": 81,
     "metadata": {},
     "output_type": "execute_result"
    }
   ],
   "source": [
    "G.serialize(destination=\"kg.ttl\")"
   ],
   "metadata": {
    "collapsed": false,
    "pycharm": {
     "name": "#%%\n"
    }
   }
  },
  {
   "cell_type": "code",
   "execution_count": 100,
   "outputs": [
    {
     "data": {
      "text/plain": "{'ByAppointmentOnly': 'False',\n 'BusinessAcceptsCreditCards': 'True',\n 'BikeParking': 'False',\n 'RestaurantsPriceRange2': '1',\n 'CoatCheck': 'False',\n 'RestaurantsTakeOut': 'None',\n 'RestaurantsDelivery': 'None',\n 'Caters': 'True',\n 'WiFi': \"u'free'\",\n 'BusinessParking': \"{'garage': False, 'street': False, 'validated': False, 'lot': True, 'valet': False}\",\n 'WheelchairAccessible': 'True',\n 'HappyHour': 'False',\n 'OutdoorSeating': 'False',\n 'HasTV': 'True',\n 'RestaurantsReservations': 'False',\n 'DogsAllowed': 'True',\n 'Alcohol': \"'none'\",\n 'GoodForKids': 'True',\n 'RestaurantsAttire': \"u'casual'\",\n 'Ambience': \"{'touristy': False, 'hipster': False, 'romantic': False, 'intimate': False, 'trendy': False, 'upscale': False, 'classy': False, 'casual': False}\",\n 'RestaurantsTableService': 'True',\n 'RestaurantsGoodForGroups': 'True',\n 'DriveThru': 'True',\n 'NoiseLevel': \"u'average'\",\n 'GoodForMeal': \"{'dessert': False, 'latenight': False, 'lunch': False, 'dinner': False, 'brunch': False, 'breakfast': False}\",\n 'BusinessAcceptsBitcoin': 'False',\n 'Smoking': \"u'outdoor'\",\n 'Music': \"{'dj': False, 'background_music': False, 'no_music': False, 'jukebox': False, 'live': False, 'video': False, 'karaoke': False}\",\n 'GoodForDancing': 'False',\n 'AcceptsInsurance': 'False',\n 'BestNights': \"{'monday': False, 'tuesday': False, 'friday': True, 'wednesday': False, 'thursday': True, 'sunday': False, 'saturday': True}\",\n 'BYOB': 'False',\n 'Corkage': 'True',\n 'BYOBCorkage': \"'no'\",\n 'HairSpecializesIn': \"{'straightperms': False, 'coloring': False, 'extensions': True, 'africanamerican': True, 'curly': True, 'kids': True, 'perms': False, 'asian': True}\",\n 'Open24Hours': 'True',\n 'RestaurantsCounterService': 'True',\n 'AgesAllowed': \"u'allages'\",\n 'DietaryRestrictions': \"{'dairy-free': False, 'gluten-free': True, 'vegan': False, 'kosher': False, 'halal': False, 'soy-free': False, 'vegetarian': True}\"}"
     },
     "execution_count": 100,
     "metadata": {},
     "output_type": "execute_result"
    }
   ],
   "source": [
    "dct = dict()\n",
    "with open(file=file_path, mode=\"r\") as file:\n",
    "    for line in file:\n",
    "        line = json.loads(line)\n",
    "        # print(line[\"attributes\"])\n",
    "        #\n",
    "        if isinstance(line[\"attributes\"], dict):\n",
    "            dct |= line[\"attributes\"]\n",
    "dct"
   ],
   "metadata": {
    "collapsed": false,
    "pycharm": {
     "name": "#%%\n"
    }
   }
  },
  {
   "cell_type": "code",
   "execution_count": 82,
   "outputs": [],
   "source": [],
   "metadata": {
    "collapsed": false,
    "pycharm": {
     "name": "#%%\n"
    }
   }
  },
  {
   "cell_type": "code",
   "execution_count": 82,
   "outputs": [],
   "source": [],
   "metadata": {
    "collapsed": false,
    "pycharm": {
     "name": "#%%\n"
    }
   }
  }
 ],
 "metadata": {
  "kernelspec": {
   "name": "python3",
   "language": "python",
   "display_name": "Python 3 (ipykernel)"
  },
  "language_info": {
   "codemirror_mode": {
    "name": "ipython",
    "version": 2
   },
   "file_extension": ".py",
   "mimetype": "text/x-python",
   "name": "python",
   "nbconvert_exporter": "python",
   "pygments_lexer": "ipython2",
   "version": "2.7.6"
  }
 },
 "nbformat": 4,
 "nbformat_minor": 0
}