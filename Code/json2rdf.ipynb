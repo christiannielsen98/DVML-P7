{
 "cells": [
  {
   "cell_type": "code",
   "execution_count": 4,
   "metadata": {
    "collapsed": true
   },
   "outputs": [],
   "source": [
    "from rdflib import Namespace, Graph, URIRef, Literal, XSD\n",
    "import json\n",
    "\n",
    "from get_schema_predicate import return_predicate"
   ]
  },
  {
   "cell_type": "code",
   "execution_count": 5,
   "outputs": [],
   "source": [
    "file_path = \"/Users/heede/Library/CloudStorage/OneDrive-AalborgUniversitet/DVML P7/Data/yelp_academic_dataset_business.json\""
   ],
   "metadata": {
    "collapsed": false,
    "pycharm": {
     "name": "#%%\n"
    }
   }
  },
  {
   "cell_type": "code",
   "execution_count": 19,
   "outputs": [],
   "source": [
    "schema = Namespace(\"https://schema.org/\")\n",
    "\n",
    "yelp_business = Namespace(\"https://www.yelp.com/biz/\")\n",
    "yelp_user = Namespace(\"https://www.yelp.com/user_details?userid=\")\n",
    "yelp_review_vc = Namespace(\"https://www.yelp.com/kg/review/votes_count/\")"
   ],
   "metadata": {
    "collapsed": false,
    "pycharm": {
     "name": "#%%\n"
    }
   }
  },
  {
   "cell_type": "code",
   "execution_count": 20,
   "outputs": [],
   "source": [
    "G = Graph()"
   ],
   "metadata": {
    "collapsed": false,
    "pycharm": {
     "name": "#%%\n"
    }
   }
  },
  {
   "cell_type": "code",
   "execution_count": 21,
   "outputs": [
    {
     "name": "stdout",
     "output_type": "stream",
     "text": [
      "business_id Pns2l4eNsfO8kk83dixA6A\n"
     ]
    },
    {
     "ename": "AssertionError",
     "evalue": "Predicate has_Name must be an rdflib term",
     "output_type": "error",
     "traceback": [
      "\u001B[0;31m---------------------------------------------------------------------------\u001B[0m",
      "\u001B[0;31mAssertionError\u001B[0m                            Traceback (most recent call last)",
      "\u001B[0;32m/var/folders/nt/w3ctvjn94jn89w856x4xh8zc0000gn/T/ipykernel_5676/713847826.py\u001B[0m in \u001B[0;36m<module>\u001B[0;34m\u001B[0m\n\u001B[1;32m     12\u001B[0m                 \u001B[0;32mpass\u001B[0m\u001B[0;34m\u001B[0m\u001B[0;34m\u001B[0m\u001B[0m\n\u001B[1;32m     13\u001B[0m             \u001B[0;32melse\u001B[0m\u001B[0;34m:\u001B[0m\u001B[0;34m\u001B[0m\u001B[0;34m\u001B[0m\u001B[0m\n\u001B[0;32m---> 14\u001B[0;31m                 G.add(triple=(URIRef(yelp_business + _subject),\n\u001B[0m\u001B[1;32m     15\u001B[0m                               \u001B[0;34mf\"has_{_predicate.capitalize()}\"\u001B[0m\u001B[0;34m,\u001B[0m\u001B[0;34m\u001B[0m\u001B[0;34m\u001B[0m\u001B[0m\n\u001B[1;32m     16\u001B[0m                               Literal(_object) ))\n",
      "\u001B[0;32m~/miniforge3/lib/python3.9/site-packages/rdflib/graph.py\u001B[0m in \u001B[0;36madd\u001B[0;34m(self, triple)\u001B[0m\n\u001B[1;32m    453\u001B[0m         \u001B[0ms\u001B[0m\u001B[0;34m,\u001B[0m \u001B[0mp\u001B[0m\u001B[0;34m,\u001B[0m \u001B[0mo\u001B[0m \u001B[0;34m=\u001B[0m \u001B[0mtriple\u001B[0m\u001B[0;34m\u001B[0m\u001B[0;34m\u001B[0m\u001B[0m\n\u001B[1;32m    454\u001B[0m         \u001B[0;32massert\u001B[0m \u001B[0misinstance\u001B[0m\u001B[0;34m(\u001B[0m\u001B[0ms\u001B[0m\u001B[0;34m,\u001B[0m \u001B[0mNode\u001B[0m\u001B[0;34m)\u001B[0m\u001B[0;34m,\u001B[0m \u001B[0;34m\"Subject %s must be an rdflib term\"\u001B[0m \u001B[0;34m%\u001B[0m \u001B[0;34m(\u001B[0m\u001B[0ms\u001B[0m\u001B[0;34m,\u001B[0m\u001B[0;34m)\u001B[0m\u001B[0;34m\u001B[0m\u001B[0;34m\u001B[0m\u001B[0m\n\u001B[0;32m--> 455\u001B[0;31m         \u001B[0;32massert\u001B[0m \u001B[0misinstance\u001B[0m\u001B[0;34m(\u001B[0m\u001B[0mp\u001B[0m\u001B[0;34m,\u001B[0m \u001B[0mNode\u001B[0m\u001B[0;34m)\u001B[0m\u001B[0;34m,\u001B[0m \u001B[0;34m\"Predicate %s must be an rdflib term\"\u001B[0m \u001B[0;34m%\u001B[0m \u001B[0;34m(\u001B[0m\u001B[0mp\u001B[0m\u001B[0;34m,\u001B[0m\u001B[0;34m)\u001B[0m\u001B[0;34m\u001B[0m\u001B[0;34m\u001B[0m\u001B[0m\n\u001B[0m\u001B[1;32m    456\u001B[0m         \u001B[0;32massert\u001B[0m \u001B[0misinstance\u001B[0m\u001B[0;34m(\u001B[0m\u001B[0mo\u001B[0m\u001B[0;34m,\u001B[0m \u001B[0mNode\u001B[0m\u001B[0;34m)\u001B[0m\u001B[0;34m,\u001B[0m \u001B[0;34m\"Object %s must be an rdflib term\"\u001B[0m \u001B[0;34m%\u001B[0m \u001B[0;34m(\u001B[0m\u001B[0mo\u001B[0m\u001B[0;34m,\u001B[0m\u001B[0;34m)\u001B[0m\u001B[0;34m\u001B[0m\u001B[0;34m\u001B[0m\u001B[0m\n\u001B[1;32m    457\u001B[0m         \u001B[0mself\u001B[0m\u001B[0;34m.\u001B[0m\u001B[0m__store\u001B[0m\u001B[0;34m.\u001B[0m\u001B[0madd\u001B[0m\u001B[0;34m(\u001B[0m\u001B[0;34m(\u001B[0m\u001B[0ms\u001B[0m\u001B[0;34m,\u001B[0m \u001B[0mp\u001B[0m\u001B[0;34m,\u001B[0m \u001B[0mo\u001B[0m\u001B[0;34m)\u001B[0m\u001B[0;34m,\u001B[0m \u001B[0mself\u001B[0m\u001B[0;34m,\u001B[0m \u001B[0mquoted\u001B[0m\u001B[0;34m=\u001B[0m\u001B[0;32mFalse\u001B[0m\u001B[0;34m)\u001B[0m\u001B[0;34m\u001B[0m\u001B[0;34m\u001B[0m\u001B[0m\n",
      "\u001B[0;31mAssertionError\u001B[0m: Predicate has_Name must be an rdflib term"
     ]
    }
   ],
   "source": [
    "with open(file=file_path, mode=\"r\") as file:\n",
    "    for line in file:\n",
    "        line = json.loads(line)\n",
    "\n",
    "        json_key = list(line.keys())[0]\n",
    "        _subject = line[json_key]\n",
    "        del line[json_key]\n",
    "        print(json_key, _subject)\n",
    "\n",
    "        for _predicate, _object in line.items():\n",
    "            if isinstance(_object, dict):\n",
    "                pass\n",
    "            else:\n",
    "                predicate, object_type = return_predicate(_predicate)\n",
    "                G.add(triple=(URIRef(yelp_business + _subject), # Subject\n",
    "                              URIRef(schema + predicate), # Predicate\n",
    "                              Literal(_object, datatype=object_type) # Object\n",
    "                      ))\n"
   ],
   "metadata": {
    "collapsed": false,
    "pycharm": {
     "name": "#%%\n"
    }
   }
  },
  {
   "cell_type": "code",
   "execution_count": 36,
   "outputs": [],
   "source": [
    "dct = dict()\n",
    "with open(file=file_path, mode=\"r\") as file:\n",
    "    for line in file:\n",
    "        line = json.loads(line)\n",
    "        # print(line[\"attributes\"])\n",
    "        #\n",
    "        if isinstance(line[\"attributes\"], dict):\n",
    "            dct |= line[\"attributes\"]"
   ],
   "metadata": {
    "collapsed": false,
    "pycharm": {
     "name": "#%%\n"
    }
   }
  },
  {
   "cell_type": "code",
   "execution_count": 39,
   "outputs": [
    {
     "data": {
      "text/plain": "{'ByAppointmentOnly': 'False',\n 'BusinessAcceptsCreditCards': 'True',\n 'BikeParking': 'False',\n 'RestaurantsPriceRange2': '1',\n 'CoatCheck': 'False',\n 'RestaurantsTakeOut': 'None',\n 'RestaurantsDelivery': 'None',\n 'Caters': 'True',\n 'WiFi': \"u'free'\",\n 'BusinessParking': \"{'garage': False, 'street': False, 'validated': False, 'lot': True, 'valet': False}\",\n 'WheelchairAccessible': 'True',\n 'HappyHour': 'False',\n 'OutdoorSeating': 'False',\n 'HasTV': 'True',\n 'RestaurantsReservations': 'False',\n 'DogsAllowed': 'True',\n 'Alcohol': \"'none'\",\n 'GoodForKids': 'True',\n 'RestaurantsAttire': \"u'casual'\",\n 'Ambience': \"{'touristy': False, 'hipster': False, 'romantic': False, 'intimate': False, 'trendy': False, 'upscale': False, 'classy': False, 'casual': False}\",\n 'RestaurantsTableService': 'True',\n 'RestaurantsGoodForGroups': 'True',\n 'DriveThru': 'True',\n 'NoiseLevel': \"u'average'\",\n 'GoodForMeal': \"{'dessert': False, 'latenight': False, 'lunch': False, 'dinner': False, 'brunch': False, 'breakfast': False}\",\n 'BusinessAcceptsBitcoin': 'False',\n 'Smoking': \"u'outdoor'\",\n 'Music': \"{'dj': False, 'background_music': False, 'no_music': False, 'jukebox': False, 'live': False, 'video': False, 'karaoke': False}\",\n 'GoodForDancing': 'False',\n 'AcceptsInsurance': 'False',\n 'BestNights': \"{'monday': False, 'tuesday': False, 'friday': True, 'wednesday': False, 'thursday': True, 'sunday': False, 'saturday': True}\",\n 'BYOB': 'False',\n 'Corkage': 'True',\n 'BYOBCorkage': \"'no'\",\n 'HairSpecializesIn': \"{'straightperms': False, 'coloring': False, 'extensions': True, 'africanamerican': True, 'curly': True, 'kids': True, 'perms': False, 'asian': True}\",\n 'Open24Hours': 'True',\n 'RestaurantsCounterService': 'True',\n 'AgesAllowed': \"u'allages'\",\n 'DietaryRestrictions': \"{'dairy-free': False, 'gluten-free': True, 'vegan': False, 'kosher': False, 'halal': False, 'soy-free': False, 'vegetarian': True}\"}"
     },
     "execution_count": 39,
     "metadata": {},
     "output_type": "execute_result"
    }
   ],
   "source": [
    "dct"
   ],
   "metadata": {
    "collapsed": false,
    "pycharm": {
     "name": "#%%\n"
    }
   }
  },
  {
   "cell_type": "code",
   "execution_count": null,
   "outputs": [],
   "source": [],
   "metadata": {
    "collapsed": false,
    "pycharm": {
     "name": "#%%\n"
    }
   }
  }
 ],
 "metadata": {
  "kernelspec": {
   "display_name": "Python 3",
   "language": "python",
   "name": "python3"
  },
  "language_info": {
   "codemirror_mode": {
    "name": "ipython",
    "version": 2
   },
   "file_extension": ".py",
   "mimetype": "text/x-python",
   "name": "python",
   "nbconvert_exporter": "python",
   "pygments_lexer": "ipython2",
   "version": "2.7.6"
  }
 },
 "nbformat": 4,
 "nbformat_minor": 0
}