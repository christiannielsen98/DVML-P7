{
 "cells": [
  {
   "cell_type": "code",
   "execution_count": 11,
   "metadata": {
    "collapsed": true
   },
   "outputs": [],
   "source": [
    "from rdflib import Namespace, Graph, URIRef, Literal, BNode, XSD\n",
    "import json\n",
    "\n",
    "from get_schema_predicate import return_predicate\n",
    "from flatten_dict import flatten_dictionary\n",
    "from get_data_path import get_path"
   ]
  },
  {
   "cell_type": "code",
   "execution_count": null,
   "outputs": [],
   "source": [
    "file_name = \"yelp_academic_dataset_business.json\"\n",
    "file_path = get_path(file_name)"
   ],
   "metadata": {
    "collapsed": false,
    "pycharm": {
     "name": "#%%\n"
    }
   }
  },
  {
   "cell_type": "code",
   "execution_count": null,
   "outputs": [],
   "source": [
    "schema = Namespace(\"https://schema.org/\")\n",
    "example = Namespace(\"https://example.org/\")"
   ],
   "metadata": {
    "collapsed": false,
    "pycharm": {
     "name": "#%%\n"
    }
   }
  },
  {
   "cell_type": "code",
   "execution_count": null,
   "outputs": [],
   "source": [
    "business_uri = Namespace(\"https://www.yelp.com/biz/\")\n",
    "user_uri = Namespace(\"https://www.yelp.com/user_details?userid=\")"
   ],
   "metadata": {
    "collapsed": false,
    "pycharm": {
     "name": "#%%\n"
    }
   }
  },
  {
   "cell_type": "code",
   "execution_count": null,
   "outputs": [],
   "source": [
    "G = Graph()\n",
    "\n",
    "if file_name in [\"yelp_academic_dataset_business.json\", \"yelp_academic_dataset_checkin.json\", \"yelp_academic_dataset_review.json\"]:\n",
    "    uri = business_uri\n",
    "else: # user\n",
    "    uri = user_uri\n",
    "\n",
    "\n",
    "with open(file=file_path, mode=\"r\") as file:\n",
    "    for line in file:\n",
    "        try:\n",
    "            line = json.loads(line)\n",
    "\n",
    "            json_key = list(line.keys())[0] # Key of subject\n",
    "            subject = line[json_key]\n",
    "            del line[json_key]\n",
    "\n",
    "            if file_name == \"yelp_academic_dataset_review.json\":\n",
    "                G.add(triple=(URIRef(user_uri + line[\"user_id\"]), # Subject\n",
    "                              URIRef(schema + \"author\"), # Predicate\n",
    "                              Literal(subject, datatype=XSD.anyURI))) # Object\n",
    "                del line[\"user_id\"]\n",
    "\n",
    "                uri = uri + line['business_id'] + \"?hrid=\" + subject # Other uri for review\n",
    "\n",
    "            line = flatten_dictionary(line) # Flattens the nested dictionary\n",
    "\n",
    "            for _predicate, _object in line.items():\n",
    "                if isinstance(_object, type(None)) or str(_object).lower() == \"none\":\n",
    "                    pass\n",
    "\n",
    "                elif _predicate in [\"categories\", \"date\", \"friends\", \"elite\"]: # String containing listed objects\n",
    "                    _object = str(_object)\n",
    "                    obj_lst = _object.split(\", \") if _predicate != \"elite\" else _object.split(\",\")\n",
    "\n",
    "                    predicate, object_type = return_predicate(_predicate, _object, file_name)\n",
    "                    for obj in obj_lst:\n",
    "                        if _predicate == \"date\":\n",
    "                            obj = obj.replace(\" \", \"T\")\n",
    "\n",
    "                        G.add(triple=(URIRef(uri + subject), # Subject\n",
    "                                  URIRef(predicate), # Predicate\n",
    "                                  Literal(obj, datatype=object_type))) # Object\n",
    "\n",
    "                else:\n",
    "                    if _predicate == \"yelping_since\":\n",
    "                        _object = _object.replace(\" \", \"T\")\n",
    "                    predicate, object_type = return_predicate(_predicate, _object, file_name)\n",
    "                    G.add(triple=(URIRef(uri + subject), # Subject\n",
    "                                  URIRef(predicate), # Predicate\n",
    "                                  Literal(_object, datatype=object_type))) # Object\n",
    "\n",
    "        except Exception as e:\n",
    "            print(e)\n",
    "            print(subject, _predicate, _object)"
   ],
   "metadata": {
    "collapsed": false,
    "pycharm": {
     "name": "#%%\n",
     "is_executing": true
    }
   }
  },
  {
   "cell_type": "code",
   "execution_count": null,
   "outputs": [],
   "source": [
    "G.serialize(destination=\"kg.ttl\")"
   ],
   "metadata": {
    "collapsed": false,
    "pycharm": {
     "name": "#%%\n"
    }
   }
  },
  {
   "cell_type": "markdown",
   "source": [
    "# MATTEO: No need to look further. But we might want your comment on how we have created the auxiliary node with blank nodes."
   ],
   "metadata": {
    "collapsed": false
   }
  },
  {
   "cell_type": "code",
   "execution_count": null,
   "outputs": [],
   "source": [
    "file_name = \"yelp_academic_dataset_tip.json\"\n",
    "file_path = get_path(file_name)\n",
    "\n",
    "G = Graph()\n",
    "\n",
    "with open(file=file_path, mode=\"r\") as file:\n",
    "    for line in file:\n",
    "        try:\n",
    "            line = json.loads(line)\n",
    "\n",
    "            b_node = BNode()\n",
    "\n",
    "            subject = line[\"user_id\"]\n",
    "            del line[\"user_id\"]\n",
    "\n",
    "            # user, author, b_node\n",
    "            G.add(triple=(URIRef(user_uri + subject), # Subject\n",
    "                          URIRef(schema + \"author\"), # Predicate\n",
    "                          Literal(b_node))) # Object\n",
    "\n",
    "            for _predicate, _object in line.items():\n",
    "                predicate, object_type = return_predicate(_predicate, _object, file_name)\n",
    "\n",
    "                if _predicate == \"date\":\n",
    "                    obj = _object.replace(\" \", \"T\")\n",
    "                elif _predicate == \"business_id\":\n",
    "                    obj = business_uri + _object\n",
    "                else:\n",
    "                    obj = _object\n",
    "\n",
    "                G.add(triple=(URIRef(b_node), # Subject\n",
    "                              URIRef(predicate), # Predicate\n",
    "                              Literal(obj, datatype=object_type))) # Object\n",
    "\n",
    "        except Exception as e:\n",
    "            print(e)\n",
    "            print(subject, _predicate, _object)"
   ],
   "metadata": {
    "collapsed": false,
    "pycharm": {
     "name": "#%%\n",
     "is_executing": true
    }
   }
  },
  {
   "cell_type": "code",
   "execution_count": null,
   "outputs": [],
   "source": [
    "G.serialize(destination=\"kg.ttl\")"
   ],
   "metadata": {
    "collapsed": false,
    "pycharm": {
     "name": "#%%\n",
     "is_executing": true
    }
   }
  },
  {
   "cell_type": "code",
   "execution_count": null,
   "outputs": [],
   "source": [],
   "metadata": {
    "collapsed": false,
    "pycharm": {
     "name": "#%%\n"
    }
   }
  }
 ],
 "metadata": {
  "kernelspec": {
   "name": "python3",
   "language": "python",
   "display_name": "Python 3 (ipykernel)"
  },
  "language_info": {
   "codemirror_mode": {
    "name": "ipython",
    "version": 2
   },
   "file_extension": ".py",
   "mimetype": "text/x-python",
   "name": "python",
   "nbconvert_exporter": "python",
   "pygments_lexer": "ipython2",
   "version": "2.7.6"
  }
 },
 "nbformat": 4,
 "nbformat_minor": 0
}