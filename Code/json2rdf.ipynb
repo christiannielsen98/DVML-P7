{
 "cells": [
  {
   "cell_type": "code",
   "execution_count": 8,
   "metadata": {
    "collapsed": true
   },
   "outputs": [],
   "source": [
    "from rdflib import Namespace, Graph, URIRef, Literal, XSD\n",
    "import json\n",
    "\n",
    "from get_schema_predicate import return_predicate"
   ]
  },
  {
   "cell_type": "code",
   "execution_count": 9,
   "outputs": [],
   "source": [
    "def str_split_to_lst(string):\n",
    "    return string.split(', ')"
   ],
   "metadata": {
    "collapsed": false,
    "pycharm": {
     "name": "#%%\n"
    }
   }
  },
  {
   "cell_type": "code",
   "execution_count": 10,
   "outputs": [
    {
     "name": "stdout",
     "output_type": "stream",
     "text": [
      "('https://schema.org/category', rdflib.term.URIRef('http://www.w3.org/2001/XMLSchema#string'))\n"
     ]
    }
   ],
   "source": [
    "print(return_predicate(\"categories\"))"
   ],
   "metadata": {
    "collapsed": false,
    "pycharm": {
     "name": "#%%\n"
    }
   }
  },
  {
   "cell_type": "code",
   "execution_count": 11,
   "outputs": [],
   "source": [
    "file_path = \"/Users/heede/Library/CloudStorage/OneDrive-AalborgUniversitet/DVML P7/Data/yelp_academic_dataset_business.json\""
   ],
   "metadata": {
    "collapsed": false,
    "pycharm": {
     "name": "#%%\n"
    }
   }
  },
  {
   "cell_type": "code",
   "execution_count": 12,
   "outputs": [],
   "source": [
    "schema = Namespace(\"https://schema.org/\")\n",
    "\n",
    "yelp_business = Namespace(\"https://www.yelp.com/biz/\")\n",
    "yelp_user = Namespace(\"https://www.yelp.com/user_details?userid=\")\n",
    "yelp_review_vc = Namespace(\"https://www.yelp.com/kg/review/votes_count/\")"
   ],
   "metadata": {
    "collapsed": false,
    "pycharm": {
     "name": "#%%\n"
    }
   }
  },
  {
   "cell_type": "code",
   "execution_count": 13,
   "outputs": [],
   "source": [
    "G = Graph()\n",
    "G.bind(prefix=\"biz\", namespace=yelp_business)"
   ],
   "metadata": {
    "collapsed": false,
    "pycharm": {
     "name": "#%%\n"
    }
   }
  },
  {
   "cell_type": "code",
   "execution_count": 14,
   "outputs": [
    {
     "ename": "KeyboardInterrupt",
     "evalue": "",
     "output_type": "error",
     "traceback": [
      "\u001B[0;31m---------------------------------------------------------------------------\u001B[0m",
      "\u001B[0;31mKeyboardInterrupt\u001B[0m                         Traceback (most recent call last)",
      "Input \u001B[0;32mIn [14]\u001B[0m, in \u001B[0;36m<module>\u001B[0;34m\u001B[0m\n\u001B[1;32m     31\u001B[0m         \u001B[38;5;28;01melse\u001B[39;00m:\n\u001B[1;32m     32\u001B[0m             predicate, object_type \u001B[38;5;241m=\u001B[39m return_predicate(_predicate)\n\u001B[0;32m---> 33\u001B[0m             \u001B[43mG\u001B[49m\u001B[38;5;241;43m.\u001B[39;49m\u001B[43madd\u001B[49m\u001B[43m(\u001B[49m\u001B[43mtriple\u001B[49m\u001B[38;5;241;43m=\u001B[39;49m\u001B[43m(\u001B[49m\u001B[43mURIRef\u001B[49m\u001B[43m(\u001B[49m\u001B[43myelp_business\u001B[49m\u001B[43m \u001B[49m\u001B[38;5;241;43m+\u001B[39;49m\u001B[43m \u001B[49m\u001B[43msubject\u001B[49m\u001B[43m)\u001B[49m\u001B[43m,\u001B[49m\u001B[43m \u001B[49m\u001B[38;5;66;43;03m# Subject\u001B[39;49;00m\n\u001B[1;32m     34\u001B[0m \u001B[43m                          \u001B[49m\u001B[43mURIRef\u001B[49m\u001B[43m(\u001B[49m\u001B[43mpredicate\u001B[49m\u001B[43m)\u001B[49m\u001B[43m,\u001B[49m\u001B[43m \u001B[49m\u001B[38;5;66;43;03m# Predicate\u001B[39;49;00m\n\u001B[1;32m     35\u001B[0m \u001B[43m                          \u001B[49m\u001B[43mLiteral\u001B[49m\u001B[43m(\u001B[49m\u001B[43m_object\u001B[49m\u001B[43m,\u001B[49m\u001B[43m \u001B[49m\u001B[43mdatatype\u001B[49m\u001B[38;5;241;43m=\u001B[39;49m\u001B[43mobject_type\u001B[49m\u001B[43m)\u001B[49m\u001B[43m \u001B[49m\u001B[38;5;66;43;03m# Object\u001B[39;49;00m\n\u001B[1;32m     36\u001B[0m \u001B[43m                  \u001B[49m\u001B[43m)\u001B[49m\u001B[43m)\u001B[49m\n\u001B[1;32m     37\u001B[0m \u001B[38;5;28;01mexcept\u001B[39;00m \u001B[38;5;167;01mException\u001B[39;00m \u001B[38;5;28;01mas\u001B[39;00m e:\n\u001B[1;32m     38\u001B[0m     \u001B[38;5;28;01mpass\u001B[39;00m\n",
      "File \u001B[0;32m~/miniforge3/envs/Datavidenskab-P6/lib/python3.10/site-packages/rdflib/graph.py:457\u001B[0m, in \u001B[0;36mGraph.add\u001B[0;34m(self, triple)\u001B[0m\n\u001B[1;32m    455\u001B[0m \u001B[38;5;28;01massert\u001B[39;00m \u001B[38;5;28misinstance\u001B[39m(p, Node), \u001B[38;5;124m\"\u001B[39m\u001B[38;5;124mPredicate \u001B[39m\u001B[38;5;132;01m%s\u001B[39;00m\u001B[38;5;124m must be an rdflib term\u001B[39m\u001B[38;5;124m\"\u001B[39m \u001B[38;5;241m%\u001B[39m (p,)\n\u001B[1;32m    456\u001B[0m \u001B[38;5;28;01massert\u001B[39;00m \u001B[38;5;28misinstance\u001B[39m(o, Node), \u001B[38;5;124m\"\u001B[39m\u001B[38;5;124mObject \u001B[39m\u001B[38;5;132;01m%s\u001B[39;00m\u001B[38;5;124m must be an rdflib term\u001B[39m\u001B[38;5;124m\"\u001B[39m \u001B[38;5;241m%\u001B[39m (o,)\n\u001B[0;32m--> 457\u001B[0m \u001B[38;5;28;43mself\u001B[39;49m\u001B[38;5;241;43m.\u001B[39;49m\u001B[43m__store\u001B[49m\u001B[38;5;241;43m.\u001B[39;49m\u001B[43madd\u001B[49m\u001B[43m(\u001B[49m\u001B[43m(\u001B[49m\u001B[43ms\u001B[49m\u001B[43m,\u001B[49m\u001B[43m \u001B[49m\u001B[43mp\u001B[49m\u001B[43m,\u001B[49m\u001B[43m \u001B[49m\u001B[43mo\u001B[49m\u001B[43m)\u001B[49m\u001B[43m,\u001B[49m\u001B[43m \u001B[49m\u001B[38;5;28;43mself\u001B[39;49m\u001B[43m,\u001B[49m\u001B[43m \u001B[49m\u001B[43mquoted\u001B[49m\u001B[38;5;241;43m=\u001B[39;49m\u001B[38;5;28;43;01mFalse\u001B[39;49;00m\u001B[43m)\u001B[49m\n\u001B[1;32m    458\u001B[0m \u001B[38;5;28;01mreturn\u001B[39;00m \u001B[38;5;28mself\u001B[39m\n",
      "File \u001B[0;32m~/miniforge3/envs/Datavidenskab-P6/lib/python3.10/site-packages/rdflib/plugins/stores/memory.py:240\u001B[0m, in \u001B[0;36mMemory.add\u001B[0;34m(self, triple, context, quoted)\u001B[0m\n\u001B[1;32m    234\u001B[0m \u001B[38;5;124;03m\"\"\"\\\u001B[39;00m\n\u001B[1;32m    235\u001B[0m \u001B[38;5;124;03mAdd a triple to the store of triples.\u001B[39;00m\n\u001B[1;32m    236\u001B[0m \u001B[38;5;124;03m\"\"\"\u001B[39;00m\n\u001B[1;32m    237\u001B[0m \u001B[38;5;66;03m# add dictionary entries for spo[s][p][p] = 1 and pos[p][o][s]\u001B[39;00m\n\u001B[1;32m    238\u001B[0m \u001B[38;5;66;03m# = 1, creating the nested dictionaries where they do not yet\u001B[39;00m\n\u001B[1;32m    239\u001B[0m \u001B[38;5;66;03m# exits.\u001B[39;00m\n\u001B[0;32m--> 240\u001B[0m \u001B[43mStore\u001B[49m\u001B[38;5;241;43m.\u001B[39;49m\u001B[43madd\u001B[49m\u001B[43m(\u001B[49m\u001B[38;5;28;43mself\u001B[39;49m\u001B[43m,\u001B[49m\u001B[43m \u001B[49m\u001B[43mtriple\u001B[49m\u001B[43m,\u001B[49m\u001B[43m \u001B[49m\u001B[43mcontext\u001B[49m\u001B[43m,\u001B[49m\u001B[43m \u001B[49m\u001B[43mquoted\u001B[49m\u001B[38;5;241;43m=\u001B[39;49m\u001B[43mquoted\u001B[49m\u001B[43m)\u001B[49m\n\u001B[1;32m    241\u001B[0m \u001B[38;5;28;01mif\u001B[39;00m context \u001B[38;5;129;01mis\u001B[39;00m \u001B[38;5;129;01mnot\u001B[39;00m \u001B[38;5;28;01mNone\u001B[39;00m:\n\u001B[1;32m    242\u001B[0m     \u001B[38;5;28mself\u001B[39m\u001B[38;5;241m.\u001B[39m__all_contexts\u001B[38;5;241m.\u001B[39madd(context)\n",
      "File \u001B[0;32m~/miniforge3/envs/Datavidenskab-P6/lib/python3.10/site-packages/rdflib/store.py:221\u001B[0m, in \u001B[0;36mStore.add\u001B[0;34m(self, triple, context, quoted)\u001B[0m\n\u001B[1;32m    207\u001B[0m \u001B[38;5;28;01mdef\u001B[39;00m \u001B[38;5;21madd\u001B[39m(\n\u001B[1;32m    208\u001B[0m     \u001B[38;5;28mself\u001B[39m,\n\u001B[1;32m    209\u001B[0m     triple: Tuple[\u001B[38;5;124m\"\u001B[39m\u001B[38;5;124mNode\u001B[39m\u001B[38;5;124m\"\u001B[39m, \u001B[38;5;124m\"\u001B[39m\u001B[38;5;124mNode\u001B[39m\u001B[38;5;124m\"\u001B[39m, \u001B[38;5;124m\"\u001B[39m\u001B[38;5;124mNode\u001B[39m\u001B[38;5;124m\"\u001B[39m],\n\u001B[1;32m    210\u001B[0m     context: Optional[\u001B[38;5;124m\"\u001B[39m\u001B[38;5;124mGraph\u001B[39m\u001B[38;5;124m\"\u001B[39m],\n\u001B[1;32m    211\u001B[0m     quoted: \u001B[38;5;28mbool\u001B[39m \u001B[38;5;241m=\u001B[39m \u001B[38;5;28;01mFalse\u001B[39;00m,\n\u001B[1;32m    212\u001B[0m ):\n\u001B[1;32m    213\u001B[0m     \u001B[38;5;124;03m\"\"\"\u001B[39;00m\n\u001B[1;32m    214\u001B[0m \u001B[38;5;124;03m    Adds the given statement to a specific context or to the model. The\u001B[39;00m\n\u001B[1;32m    215\u001B[0m \u001B[38;5;124;03m    quoted argument is interpreted by formula-aware stores to indicate\u001B[39;00m\n\u001B[0;32m   (...)\u001B[0m\n\u001B[1;32m    219\u001B[0m \u001B[38;5;124;03m    formula-aware.\u001B[39;00m\n\u001B[1;32m    220\u001B[0m \u001B[38;5;124;03m    \"\"\"\u001B[39;00m\n\u001B[0;32m--> 221\u001B[0m     \u001B[38;5;28mself\u001B[39m\u001B[38;5;241m.\u001B[39mdispatcher\u001B[38;5;241m.\u001B[39mdispatch(\u001B[43mTripleAddedEvent\u001B[49m\u001B[43m(\u001B[49m\u001B[43mtriple\u001B[49m\u001B[38;5;241;43m=\u001B[39;49m\u001B[43mtriple\u001B[49m\u001B[43m,\u001B[49m\u001B[43m \u001B[49m\u001B[43mcontext\u001B[49m\u001B[38;5;241;43m=\u001B[39;49m\u001B[43mcontext\u001B[49m\u001B[43m)\u001B[49m)\n",
      "File \u001B[0;32m~/miniforge3/envs/Datavidenskab-P6/lib/python3.10/site-packages/rdflib/events.py:42\u001B[0m, in \u001B[0;36mEvent.__init__\u001B[0;34m(self, **kw)\u001B[0m\n\u001B[1;32m     29\u001B[0m \u001B[38;5;28;01mclass\u001B[39;00m \u001B[38;5;21;01mEvent\u001B[39;00m(\u001B[38;5;28mobject\u001B[39m):\n\u001B[1;32m     30\u001B[0m     \u001B[38;5;124;03m\"\"\"\u001B[39;00m\n\u001B[1;32m     31\u001B[0m \u001B[38;5;124;03m    An event is a container for attributes.  The source of an event\u001B[39;00m\n\u001B[1;32m     32\u001B[0m \u001B[38;5;124;03m    creates this object, or a subclass, gives it any kind of data that\u001B[39;00m\n\u001B[0;32m   (...)\u001B[0m\n\u001B[1;32m     39\u001B[0m \u001B[38;5;124;03m    particular order.\u001B[39;00m\n\u001B[1;32m     40\u001B[0m \u001B[38;5;124;03m    \"\"\"\u001B[39;00m\n\u001B[0;32m---> 42\u001B[0m     \u001B[38;5;28;01mdef\u001B[39;00m \u001B[38;5;21m__init__\u001B[39m(\u001B[38;5;28mself\u001B[39m, \u001B[38;5;241m*\u001B[39m\u001B[38;5;241m*\u001B[39mkw):\n\u001B[1;32m     43\u001B[0m         \u001B[38;5;28mself\u001B[39m\u001B[38;5;241m.\u001B[39m\u001B[38;5;18m__dict__\u001B[39m\u001B[38;5;241m.\u001B[39mupdate(kw)\n\u001B[1;32m     45\u001B[0m     \u001B[38;5;28;01mdef\u001B[39;00m \u001B[38;5;21m__repr__\u001B[39m(\u001B[38;5;28mself\u001B[39m):\n",
      "\u001B[0;31mKeyboardInterrupt\u001B[0m: "
     ]
    }
   ],
   "source": [
    "with open(file=file_path, mode=\"r\") as file:\n",
    "    for line in file:\n",
    "        try:\n",
    "            line = json.loads(line)\n",
    "\n",
    "            json_key = list(line.keys())[0]\n",
    "            subject = line[json_key]\n",
    "            del line[json_key]\n",
    "            #print(json_key, _subject)\n",
    "\n",
    "            for _predicate, _object in line.items():\n",
    "                if isinstance(_object, type(None)):\n",
    "                    pass\n",
    "                elif isinstance(_object, dict):# or _predicate in [\"categories\", \"hours\", \"attributes\"]:\n",
    "                    for key_pred, value_obj in _object.items():\n",
    "                        predicate, object_type = return_predicate(key_pred)\n",
    "                        G.add(triple=(URIRef(yelp_business + subject), # Subject\n",
    "                                      URIRef(predicate), # Predicate\n",
    "                                      Literal(value_obj, datatype=object_type) # Object\n",
    "                              ))\n",
    "                elif _predicate == \"categories\":\n",
    "                    obj_lst = str_split_to_lst(_object)\n",
    "                    predicate, object_type = return_predicate(_predicate)\n",
    "                    # print(predicate, object_type)\n",
    "                    for obj in obj_lst:\n",
    "                        # print(obj)\n",
    "                        G.add(triple=(URIRef(yelp_business + subject), # Subject\n",
    "                                  URIRef(predicate), # Predicate\n",
    "                                  Literal(obj, datatype=object_type) # Object\n",
    "                          ))\n",
    "                else:\n",
    "                    predicate, object_type = return_predicate(_predicate)\n",
    "                    G.add(triple=(URIRef(yelp_business + subject), # Subject\n",
    "                                  URIRef(predicate), # Predicate\n",
    "                                  Literal(_object, datatype=object_type) # Object\n",
    "                          ))\n",
    "        except Exception as e:\n",
    "            pass\n",
    "            if not isinstance(_object, dict):\n",
    "                print(e)\n",
    "                # print(subject, _predicate, _object)\n",
    "                # print(type(_object))"
   ],
   "metadata": {
    "collapsed": false,
    "pycharm": {
     "name": "#%%\n"
    }
   }
  },
  {
   "cell_type": "code",
   "execution_count": 119,
   "outputs": [
    {
     "data": {
      "text/plain": "['Automotive', 'Car Rental', 'Hotels & Travel', 'Truck Rental']"
     },
     "execution_count": 119,
     "metadata": {},
     "output_type": "execute_result"
    }
   ],
   "source": [
    "string = \"Automotive, Car Rental, Hotels & Travel, Truck Rental\"\n",
    "lst = string.split(', ')\n",
    "lst"
   ],
   "metadata": {
    "collapsed": false,
    "pycharm": {
     "name": "#%%\n"
    }
   }
  },
  {
   "cell_type": "code",
   "execution_count": 81,
   "outputs": [
    {
     "data": {
      "text/plain": "<Graph identifier=N1f9dc0b92cc74ea2aa16d03505b861ed (<class 'rdflib.graph.Graph'>)>"
     },
     "execution_count": 81,
     "metadata": {},
     "output_type": "execute_result"
    }
   ],
   "source": [
    "G.serialize(destination=\"kg.ttl\")"
   ],
   "metadata": {
    "collapsed": false,
    "pycharm": {
     "name": "#%%\n"
    }
   }
  },
  {
   "cell_type": "code",
   "execution_count": 100,
   "outputs": [
    {
     "data": {
      "text/plain": "{'ByAppointmentOnly': 'False',\n 'BusinessAcceptsCreditCards': 'True',\n 'BikeParking': 'False',\n 'RestaurantsPriceRange2': '1',\n 'CoatCheck': 'False',\n 'RestaurantsTakeOut': 'None',\n 'RestaurantsDelivery': 'None',\n 'Caters': 'True',\n 'WiFi': \"u'free'\",\n 'BusinessParking': \"{'garage': False, 'street': False, 'validated': False, 'lot': True, 'valet': False}\",\n 'WheelchairAccessible': 'True',\n 'HappyHour': 'False',\n 'OutdoorSeating': 'False',\n 'HasTV': 'True',\n 'RestaurantsReservations': 'False',\n 'DogsAllowed': 'True',\n 'Alcohol': \"'none'\",\n 'GoodForKids': 'True',\n 'RestaurantsAttire': \"u'casual'\",\n 'Ambience': \"{'touristy': False, 'hipster': False, 'romantic': False, 'intimate': False, 'trendy': False, 'upscale': False, 'classy': False, 'casual': False}\",\n 'RestaurantsTableService': 'True',\n 'RestaurantsGoodForGroups': 'True',\n 'DriveThru': 'True',\n 'NoiseLevel': \"u'average'\",\n 'GoodForMeal': \"{'dessert': False, 'latenight': False, 'lunch': False, 'dinner': False, 'brunch': False, 'breakfast': False}\",\n 'BusinessAcceptsBitcoin': 'False',\n 'Smoking': \"u'outdoor'\",\n 'Music': \"{'dj': False, 'background_music': False, 'no_music': False, 'jukebox': False, 'live': False, 'video': False, 'karaoke': False}\",\n 'GoodForDancing': 'False',\n 'AcceptsInsurance': 'False',\n 'BestNights': \"{'monday': False, 'tuesday': False, 'friday': True, 'wednesday': False, 'thursday': True, 'sunday': False, 'saturday': True}\",\n 'BYOB': 'False',\n 'Corkage': 'True',\n 'BYOBCorkage': \"'no'\",\n 'HairSpecializesIn': \"{'straightperms': False, 'coloring': False, 'extensions': True, 'africanamerican': True, 'curly': True, 'kids': True, 'perms': False, 'asian': True}\",\n 'Open24Hours': 'True',\n 'RestaurantsCounterService': 'True',\n 'AgesAllowed': \"u'allages'\",\n 'DietaryRestrictions': \"{'dairy-free': False, 'gluten-free': True, 'vegan': False, 'kosher': False, 'halal': False, 'soy-free': False, 'vegetarian': True}\"}"
     },
     "execution_count": 100,
     "metadata": {},
     "output_type": "execute_result"
    }
   ],
   "source": [
    "dct = dict()\n",
    "with open(file=file_path, mode=\"r\") as file:\n",
    "    for line in file:\n",
    "        line = json.loads(line)\n",
    "        # print(line[\"attributes\"])\n",
    "        #\n",
    "        if isinstance(line[\"attributes\"], dict):\n",
    "            dct |= line[\"attributes\"]\n",
    "dct"
   ],
   "metadata": {
    "collapsed": false,
    "pycharm": {
     "name": "#%%\n"
    }
   }
  },
  {
   "cell_type": "code",
   "execution_count": 82,
   "outputs": [],
   "source": [],
   "metadata": {
    "collapsed": false,
    "pycharm": {
     "name": "#%%\n"
    }
   }
  },
  {
   "cell_type": "code",
   "execution_count": 82,
   "outputs": [],
   "source": [],
   "metadata": {
    "collapsed": false,
    "pycharm": {
     "name": "#%%\n"
    }
   }
  }
 ],
 "metadata": {
  "kernelspec": {
   "name": "python3",
   "language": "python",
   "display_name": "Python 3 (ipykernel)"
  },
  "language_info": {
   "codemirror_mode": {
    "name": "ipython",
    "version": 2
   },
   "file_extension": ".py",
   "mimetype": "text/x-python",
   "name": "python",
   "nbconvert_exporter": "python",
   "pygments_lexer": "ipython2",
   "version": "2.7.6"
  }
 },
 "nbformat": 4,
 "nbformat_minor": 0
}