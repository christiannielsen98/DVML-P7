{
 "cells": [
  {
   "cell_type": "code",
   "execution_count": 1,
   "metadata": {
    "collapsed": true
   },
   "outputs": [],
   "source": [
    "from rdflib import Namespace, Graph, URIRef, Literal, BNode, XSD\n",
    "import json\n",
    "\n",
    "from get_schema_predicate import return_predicate\n",
    "from flatten_dict import flatten_dictionary\n",
    "from get_data_path import get_path"
   ]
  },
  {
   "cell_type": "code",
   "execution_count": 2,
   "metadata": {
    "collapsed": false,
    "pycharm": {
     "name": "#%%\n"
    }
   },
   "outputs": [],
   "source": [
    "file_name = \"yelp_academic_dataset_review.json\"\n",
    "file_path = get_path(file_name)"
   ]
  },
  {
   "cell_type": "code",
   "execution_count": 3,
   "metadata": {
    "collapsed": false,
    "pycharm": {
     "name": "#%%\n"
    }
   },
   "outputs": [],
   "source": [
    "schema = Namespace(\"https://schema.org/\")\n",
    "example = Namespace(\"https://example.org/\")"
   ]
  },
  {
   "cell_type": "code",
   "execution_count": 4,
   "metadata": {
    "collapsed": false,
    "pycharm": {
     "name": "#%%\n"
    }
   },
   "outputs": [],
   "source": [
    "business_uri = Namespace(\"https://www.yelp.com/biz/\")\n",
    "user_uri = Namespace(\"https://www.yelp.com/user_details?userid=\")"
   ]
  },
  {
   "cell_type": "code",
   "execution_count": 25,
   "metadata": {},
   "outputs": [
    {
     "data": {
      "text/plain": [
       "'%3Fhrid%3D'"
      ]
     },
     "execution_count": 25,
     "metadata": {},
     "output_type": "execute_result"
    }
   ],
   "source": [
    "import urllib\n",
    "urllib.parse.quote(\"?hrid=\")"
   ]
  },
  {
   "cell_type": "code",
   "execution_count": 27,
   "metadata": {},
   "outputs": [
    {
     "data": {
      "text/plain": [
       "'XQfwVwDr-v0ZS3_CbbE5Xw?hrid=KU_O5udG6zpxOg-VcAEodg'"
      ]
     },
     "execution_count": 27,
     "metadata": {},
     "output_type": "execute_result"
    }
   ],
   "source": [
    "urllib.parse.unquote(\"XQfwVwDr-v0ZS3_CbbE5Xw%3Fhrid%3DKU_O5udG6zpxOg-VcAEodg\")"
   ]
  },
  {
   "cell_type": "code",
   "execution_count": 29,
   "metadata": {
    "collapsed": false,
    "pycharm": {
     "is_executing": true,
     "name": "#%%\n"
    }
   },
   "outputs": [
    {
     "ename": "KeyboardInterrupt",
     "evalue": "",
     "output_type": "error",
     "traceback": [
      "\u001b[0;31m---------------------------------------------------------------------------\u001b[0m",
      "\u001b[0;31mKeyboardInterrupt\u001b[0m                         Traceback (most recent call last)",
      "Cell \u001b[0;32mIn [29], line 53\u001b[0m\n\u001b[1;32m     49\u001b[0m             predicate, object_type \u001b[38;5;241m=\u001b[39m return_predicate(_predicate, _object, file_name)\n\u001b[1;32m     50\u001b[0m             G\u001b[38;5;241m.\u001b[39madd(triple\u001b[38;5;241m=\u001b[39m(URIRef(uri \u001b[38;5;241m+\u001b[39m subject), \u001b[38;5;66;03m# Subject\u001b[39;00m\n\u001b[1;32m     51\u001b[0m                           URIRef(predicate), \u001b[38;5;66;03m# Predicate\u001b[39;00m\n\u001b[1;32m     52\u001b[0m                           Literal(_object, datatype\u001b[38;5;241m=\u001b[39mobject_type))) \u001b[38;5;66;03m# Object\u001b[39;00m\n\u001b[0;32m---> 53\u001b[0m     tripe_file\u001b[38;5;241m.\u001b[39mwrite(\u001b[43mG\u001b[49m\u001b[38;5;241;43m.\u001b[39;49m\u001b[43mserialize\u001b[49m\u001b[43m(\u001b[49m\u001b[38;5;28;43mformat\u001b[39;49m\u001b[38;5;241;43m=\u001b[39;49m\u001b[38;5;124;43m'\u001b[39;49m\u001b[38;5;124;43mttl\u001b[39;49m\u001b[38;5;124;43m'\u001b[39;49m\u001b[43m)\u001b[49m)\n\u001b[1;32m     54\u001b[0m \u001b[38;5;28;01mexcept\u001b[39;00m \u001b[38;5;167;01mException\u001b[39;00m \u001b[38;5;28;01mas\u001b[39;00m e:\n\u001b[1;32m     55\u001b[0m     \u001b[38;5;28mprint\u001b[39m(e)\n",
      "File \u001b[0;32m/Library/Frameworks/Python.framework/Versions/3.10/lib/python3.10/site-packages/rdflib/graph.py:1186\u001b[0m, in \u001b[0;36mGraph.serialize\u001b[0;34m(self, destination, format, base, encoding, **args)\u001b[0m\n\u001b[1;32m   1184\u001b[0m stream \u001b[39m=\u001b[39m BytesIO()\n\u001b[1;32m   1185\u001b[0m \u001b[39mif\u001b[39;00m encoding \u001b[39mis\u001b[39;00m \u001b[39mNone\u001b[39;00m:\n\u001b[0;32m-> 1186\u001b[0m     serializer\u001b[39m.\u001b[39;49mserialize(stream, base\u001b[39m=\u001b[39;49mbase, encoding\u001b[39m=\u001b[39;49m\u001b[39m\"\u001b[39;49m\u001b[39mutf-8\u001b[39;49m\u001b[39m\"\u001b[39;49m, \u001b[39m*\u001b[39;49m\u001b[39m*\u001b[39;49margs)\n\u001b[1;32m   1187\u001b[0m     \u001b[39mreturn\u001b[39;00m stream\u001b[39m.\u001b[39mgetvalue()\u001b[39m.\u001b[39mdecode(\u001b[39m\"\u001b[39m\u001b[39mutf-8\u001b[39m\u001b[39m\"\u001b[39m)\n\u001b[1;32m   1188\u001b[0m \u001b[39melse\u001b[39;00m:\n",
      "File \u001b[0;32m/Library/Frameworks/Python.framework/Versions/3.10/lib/python3.10/site-packages/rdflib/plugins/serializers/turtle.py:238\u001b[0m, in \u001b[0;36mTurtleSerializer.serialize\u001b[0;34m(self, stream, base, encoding, spacious, **args)\u001b[0m\n\u001b[1;32m    235\u001b[0m \u001b[39mif\u001b[39;00m spacious \u001b[39mis\u001b[39;00m \u001b[39mnot\u001b[39;00m \u001b[39mNone\u001b[39;00m:\n\u001b[1;32m    236\u001b[0m     \u001b[39mself\u001b[39m\u001b[39m.\u001b[39m_spacious \u001b[39m=\u001b[39m spacious\n\u001b[0;32m--> 238\u001b[0m \u001b[39mself\u001b[39;49m\u001b[39m.\u001b[39;49mpreprocess()\n\u001b[1;32m    239\u001b[0m subjects_list \u001b[39m=\u001b[39m \u001b[39mself\u001b[39m\u001b[39m.\u001b[39morderSubjects()\n\u001b[1;32m    241\u001b[0m \u001b[39mself\u001b[39m\u001b[39m.\u001b[39mstartDocument()\n",
      "File \u001b[0;32m/Library/Frameworks/Python.framework/Versions/3.10/lib/python3.10/site-packages/rdflib/plugins/serializers/turtle.py:102\u001b[0m, in \u001b[0;36mRecursiveSerializer.preprocess\u001b[0;34m(self)\u001b[0m\n\u001b[1;32m    100\u001b[0m \u001b[39mdef\u001b[39;00m \u001b[39mpreprocess\u001b[39m(\u001b[39mself\u001b[39m):\n\u001b[1;32m    101\u001b[0m     \u001b[39mfor\u001b[39;00m triple \u001b[39min\u001b[39;00m \u001b[39mself\u001b[39m\u001b[39m.\u001b[39mstore\u001b[39m.\u001b[39mtriples((\u001b[39mNone\u001b[39;00m, \u001b[39mNone\u001b[39;00m, \u001b[39mNone\u001b[39;00m)):\n\u001b[0;32m--> 102\u001b[0m         \u001b[39mself\u001b[39;49m\u001b[39m.\u001b[39;49mpreprocessTriple(triple)\n",
      "File \u001b[0;32m/Library/Frameworks/Python.framework/Versions/3.10/lib/python3.10/site-packages/rdflib/plugins/serializers/turtle.py:266\u001b[0m, in \u001b[0;36mTurtleSerializer.preprocessTriple\u001b[0;34m(self, triple)\u001b[0m\n\u001b[1;32m    264\u001b[0m     \u001b[39mself\u001b[39m\u001b[39m.\u001b[39mgetQName(node, gen_prefix\u001b[39m=\u001b[39m(i \u001b[39m==\u001b[39m VERB))\n\u001b[1;32m    265\u001b[0m     \u001b[39mif\u001b[39;00m \u001b[39misinstance\u001b[39m(node, Literal) \u001b[39mand\u001b[39;00m node\u001b[39m.\u001b[39mdatatype:\n\u001b[0;32m--> 266\u001b[0m         \u001b[39mself\u001b[39;49m\u001b[39m.\u001b[39;49mgetQName(node\u001b[39m.\u001b[39;49mdatatype, gen_prefix\u001b[39m=\u001b[39;49m_GEN_QNAME_FOR_DT)\n\u001b[1;32m    267\u001b[0m p \u001b[39m=\u001b[39m triple[\u001b[39m1\u001b[39m]\n\u001b[1;32m    268\u001b[0m \u001b[39mif\u001b[39;00m \u001b[39misinstance\u001b[39m(p, BNode):  \u001b[39m# hmm - when is P ever a bnode?\u001b[39;00m\n",
      "File \u001b[0;32m/Library/Frameworks/Python.framework/Versions/3.10/lib/python3.10/site-packages/rdflib/plugins/serializers/turtle.py:299\u001b[0m, in \u001b[0;36mTurtleSerializer.getQName\u001b[0;34m(self, uri, gen_prefix)\u001b[0m\n\u001b[1;32m    296\u001b[0m \u001b[39mif\u001b[39;00m local\u001b[39m.\u001b[39mendswith(\u001b[39m\"\u001b[39m\u001b[39m.\u001b[39m\u001b[39m\"\u001b[39m):\n\u001b[1;32m    297\u001b[0m     \u001b[39mreturn\u001b[39;00m \u001b[39mNone\u001b[39;00m\n\u001b[0;32m--> 299\u001b[0m prefix \u001b[39m=\u001b[39m \u001b[39mself\u001b[39;49m\u001b[39m.\u001b[39;49maddNamespace(prefix, namespace)\n\u001b[1;32m    301\u001b[0m \u001b[39mreturn\u001b[39;00m \u001b[39m\"\u001b[39m\u001b[39m%s\u001b[39;00m\u001b[39m:\u001b[39m\u001b[39m%s\u001b[39;00m\u001b[39m\"\u001b[39m \u001b[39m%\u001b[39m (prefix, local)\n",
      "File \u001b[0;32m/Library/Frameworks/Python.framework/Versions/3.10/lib/python3.10/site-packages/rdflib/plugins/serializers/turtle.py:205\u001b[0m, in \u001b[0;36mTurtleSerializer.addNamespace\u001b[0;34m(self, prefix, namespace)\u001b[0m\n\u001b[1;32m    195\u001b[0m \u001b[39mdef\u001b[39;00m \u001b[39maddNamespace\u001b[39m(\u001b[39mself\u001b[39m, prefix, namespace):\n\u001b[1;32m    196\u001b[0m     \u001b[39m# Turtle does not support prefix that start with _\u001b[39;00m\n\u001b[1;32m    197\u001b[0m     \u001b[39m# if they occur in the graph, rewrite to p_blah\u001b[39;00m\n\u001b[0;32m   (...)\u001b[0m\n\u001b[1;32m    202\u001b[0m \n\u001b[1;32m    203\u001b[0m     \u001b[39m# so we need to keep track of ns rewrites we made so far.\u001b[39;00m\n\u001b[0;32m--> 205\u001b[0m     \u001b[39mif\u001b[39;00m (prefix \u001b[39m>\u001b[39m \u001b[39m\"\u001b[39m\u001b[39m\"\u001b[39m \u001b[39mand\u001b[39;00m prefix[\u001b[39m0\u001b[39m] \u001b[39m==\u001b[39m \u001b[39m\"\u001b[39m\u001b[39m_\u001b[39m\u001b[39m\"\u001b[39m) \u001b[39mor\u001b[39;00m \u001b[39mself\u001b[39m\u001b[39m.\u001b[39mnamespaces\u001b[39m.\u001b[39mget(\n\u001b[1;32m    206\u001b[0m         prefix, namespace\n\u001b[1;32m    207\u001b[0m     ) \u001b[39m!=\u001b[39m namespace:\n\u001b[1;32m    209\u001b[0m         \u001b[39mif\u001b[39;00m prefix \u001b[39mnot\u001b[39;00m \u001b[39min\u001b[39;00m \u001b[39mself\u001b[39m\u001b[39m.\u001b[39m_ns_rewrite:\n\u001b[1;32m    210\u001b[0m             p \u001b[39m=\u001b[39m \u001b[39m\"\u001b[39m\u001b[39mp\u001b[39m\u001b[39m\"\u001b[39m \u001b[39m+\u001b[39m prefix\n",
      "\u001b[0;31mKeyboardInterrupt\u001b[0m: "
     ]
    }
   ],
   "source": [
    "tripe_file = open(file=f\"{file_name[:-5]}.ttl\", mode=\"a\", encoding=\"utf-8\")\n",
    "with open(file=file_path, mode=\"r\") as file:\n",
    "    for line in file:\n",
    "        try:\n",
    "            G = Graph()\n",
    "            G.bind(\"rdfs\", schema, override=True)\n",
    "            G.bind(\"example\", example, override=True)\n",
    "            if file_name in [\"yelp_academic_dataset_business.json\", \"yelp_academic_dataset_checkin.json\", \"yelp_academic_dataset_review.json\"]:\n",
    "                uri = business_uri\n",
    "                G.bind(\"biz\", uri, override=True)\n",
    "            else: # user\n",
    "                uri = user_uri\n",
    "                G.bind(\"user\", uri, override=True)\n",
    "            line = json.loads(line)\n",
    "\n",
    "            json_key = list(line.keys())[0] # Key of subject\n",
    "            subject = line[json_key]\n",
    "            del line[json_key]\n",
    "\n",
    "            if file_name == \"yelp_academic_dataset_review.json\":\n",
    "                G.bind(\"user\", user_uri)\n",
    "                subject = line['business_id'] + urllib.parse.quote(\"?hrid=\") + subject # Other uri for review\n",
    "                G.add(triple=(URIRef(user_uri + line[\"user_id\"]), # Subject\n",
    "                              URIRef(schema + \"author\"), # Predicate\n",
    "                              URIRef(business_uri + subject))) # Object\n",
    "                del line[\"user_id\"]\n",
    "\n",
    "            line = flatten_dictionary(line) # Flattens the nested dictionary\n",
    "\n",
    "            for _predicate, _object in line.items():\n",
    "                if isinstance(_object, type(None)) or str(_object).lower() == \"none\":\n",
    "                    pass\n",
    "\n",
    "                elif _predicate in [\"categories\", \"date\", \"friends\", \"elite\"]: # String containing listed objects\n",
    "                    _object = str(_object)\n",
    "                    obj_lst = _object.split(\", \") if _predicate != \"elite\" else _object.split(\",\")\n",
    "\n",
    "                    predicate, object_type = return_predicate(_predicate, _object, file_name)\n",
    "                    for obj in obj_lst:\n",
    "                        if _predicate == \"date\":\n",
    "                            obj = obj.replace(\" \", \"T\")\n",
    "                        G.add(triple=(URIRef(uri + subject), # Subject\n",
    "                                  URIRef(predicate), # Predicate\n",
    "                                  Literal(obj, datatype=object_type))) # Object\n",
    "\n",
    "                else:\n",
    "                    if _predicate == \"yelping_since\":\n",
    "                        _object = _object.replace(\" \", \"T\")\n",
    "                    predicate, object_type = return_predicate(_predicate, _object, file_name)\n",
    "                    G.add(triple=(URIRef(uri + subject), # Subject\n",
    "                                  URIRef(predicate), # Predicate\n",
    "                                  Literal(_object, datatype=object_type))) # Object\n",
    "            tripe_file.write(G.serialize(format='ttl'))\n",
    "        except Exception as e:\n",
    "            print(e)\n",
    "            print(subject, _predicate, _object)\n",
    "tripe_file.close()"
   ]
  },
  {
   "cell_type": "code",
   "execution_count": null,
   "metadata": {
    "collapsed": false,
    "pycharm": {
     "name": "#%%\n"
    }
   },
   "outputs": [],
   "source": [
    "# G.serialize(destination=\"kg.ttl\")"
   ]
  },
  {
   "cell_type": "markdown",
   "metadata": {
    "collapsed": false
   },
   "source": [
    "# MATTEO: No need to look further. But we might want your comment on how we have created the auxiliary node with blank nodes."
   ]
  },
  {
   "cell_type": "code",
   "execution_count": null,
   "metadata": {
    "collapsed": false,
    "pycharm": {
     "is_executing": true,
     "name": "#%%\n"
    }
   },
   "outputs": [],
   "source": [
    "file_name = \"yelp_academic_dataset_tip.json\"\n",
    "file_path = get_path(file_name)\n",
    "triple_file = open(file=f\"{file_name[:-5]}.nt\", mode=\"a\")\n",
    "with open(file=file_path, mode=\"r\") as file:\n",
    "    for line in file:\n",
    "        try:\n",
    "            G = Graph()\n",
    "            G.bind(\"rdfs\", schema, override=True)\n",
    "            G.bind(\"example\", example, override=True)\n",
    "            line = json.loads(line)\n",
    "\n",
    "            b_node = BNode()\n",
    "\n",
    "            subject = line[\"user_id\"]\n",
    "            del line[\"user_id\"]\n",
    "\n",
    "            # user, author, b_node\n",
    "            G.add(triple=(URIRef(user_uri + subject), # Subject\n",
    "                          URIRef(schema + \"author\"), # Predicate\n",
    "                          Literal(b_node))) # Object\n",
    "\n",
    "            for _predicate, _object in line.items():\n",
    "                predicate, object_type = return_predicate(_predicate, _object, file_name)\n",
    "\n",
    "                if _predicate == \"date\":\n",
    "                    obj = _object.replace(\" \", \"T\")\n",
    "                elif _predicate == \"business_id\":\n",
    "                    obj = business_uri + _object\n",
    "                else:\n",
    "                    obj = _object\n",
    "\n",
    "                G.add(triple=(URIRef(b_node), # Subject\n",
    "                              URIRef(predicate), # Predicate\n",
    "                              Literal(obj, datatype=object_type))) # Object\n",
    "            triple_file.write(G.serialize(format=\"ttl\"))\n",
    "        except Exception as e:\n",
    "            print(e)\n",
    "            print(subject, _predicate, _object)\n",
    "triple_file.close()"
   ]
  },
  {
   "cell_type": "code",
   "execution_count": null,
   "metadata": {
    "collapsed": false,
    "pycharm": {
     "is_executing": true,
     "name": "#%%\n"
    }
   },
   "outputs": [],
   "source": [
    "G.serialize(destination=\"kg.ttl\")"
   ]
  },
  {
   "cell_type": "code",
   "execution_count": null,
   "metadata": {
    "collapsed": false,
    "pycharm": {
     "name": "#%%\n"
    }
   },
   "outputs": [],
   "source": []
  }
 ],
 "metadata": {
  "kernelspec": {
   "display_name": "Python 3.10.7 64-bit",
   "language": "python",
   "name": "python3"
  },
  "language_info": {
   "codemirror_mode": {
    "name": "ipython",
    "version": 3
   },
   "file_extension": ".py",
   "mimetype": "text/x-python",
   "name": "python",
   "nbconvert_exporter": "python",
   "pygments_lexer": "ipython3",
   "version": "3.10.7"
  },
  "vscode": {
   "interpreter": {
    "hash": "aee8b7b246df8f9039afb4144a1f6fd8d2ca17a180786b69acc140d282b71a49"
   }
  }
 },
 "nbformat": 4,
 "nbformat_minor": 0
}
