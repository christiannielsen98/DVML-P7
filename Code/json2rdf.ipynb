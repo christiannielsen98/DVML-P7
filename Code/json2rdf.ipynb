{
 "cells": [
  {
   "cell_type": "code",
   "execution_count": 1,
   "metadata": {
    "collapsed": true
   },
   "outputs": [],
   "source": [
    "from rdflib import Namespace, Graph, URIRef, Literal, BNode, XSD\n",
    "import json\n",
    "\n",
    "from get_schema_predicate import return_predicate\n",
    "from flatten_dict import flatten_dictionary\n",
    "from get_data_path import get_path"
   ]
  },
  {
   "cell_type": "code",
   "execution_count": null,
   "outputs": [],
   "source": [
    "file_name = \"yelp_academic_dataset_review.json\"\n",
    "file_path = get_path(file_name)"
   ],
   "metadata": {
    "collapsed": false,
    "pycharm": {
     "name": "#%%\n"
    }
   }
  },
  {
   "cell_type": "code",
   "execution_count": null,
   "outputs": [],
   "source": [
    "schema = Namespace(\"https://schema.org/\")\n",
    "example = Namespace(\"https://example.org/\")"
   ],
   "metadata": {
    "collapsed": false,
    "pycharm": {
     "name": "#%%\n"
    }
   }
  },
  {
   "cell_type": "code",
   "execution_count": null,
   "outputs": [],
   "source": [
    "business_uri = Namespace(\"https://www.yelp.com/biz/\")\n",
    "user_uri = Namespace(\"https://www.yelp.com/user_details?userid=\")"
   ],
   "metadata": {
    "collapsed": false,
    "pycharm": {
     "name": "#%%\n"
    }
   }
  },
  {
   "cell_type": "code",
   "execution_count": null,
   "outputs": [],
   "source": [
    "import urllib\n",
    "urllib.parse.quote(\"?hrid=\")"
   ],
   "metadata": {
    "collapsed": false,
    "pycharm": {
     "name": "#%%\n"
    }
   }
  },
  {
   "cell_type": "code",
   "execution_count": null,
   "outputs": [],
   "source": [
    "urllib.parse.unquote(\"XQfwVwDr-v0ZS3_CbbE5Xw%3Fhrid%3DKU_O5udG6zpxOg-VcAEodg\")"
   ],
   "metadata": {
    "collapsed": false,
    "pycharm": {
     "name": "#%%\n"
    }
   }
  },
  {
   "cell_type": "code",
   "execution_count": null,
   "outputs": [],
   "source": [
    "tripe_file = open(file=f\"{file_name[:-5]}.ttl\", mode=\"a\", encoding=\"utf-8\")\n",
    "with open(file=file_path, mode=\"r\") as file:\n",
    "    for line in file:\n",
    "        try:\n",
    "            G = Graph()\n",
    "            G.bind(\"rdfs\", schema, override=True)\n",
    "            G.bind(\"example\", example, override=True)\n",
    "            if file_name in [\"yelp_academic_dataset_business.json\", \"yelp_academic_dataset_checkin.json\", \"yelp_academic_dataset_review.json\"]:\n",
    "                uri = business_uri\n",
    "                G.bind(\"biz\", uri, override=True)\n",
    "            else: # user\n",
    "                uri = user_uri\n",
    "                G.bind(\"user\", uri, override=True)\n",
    "            line = json.loads(line)\n",
    "\n",
    "            json_key = list(line.keys())[0] # Key of subject\n",
    "            subject = line[json_key]\n",
    "            del line[json_key]\n",
    "\n",
    "            if file_name == \"yelp_academic_dataset_review.json\":\n",
    "                G.bind(\"user\", user_uri)\n",
    "                subject = line['business_id'] + urllib.parse.quote(\"?hrid=\") + subject # Other uri for review\n",
    "                G.add(triple=(URIRef(user_uri + line[\"user_id\"]), # Subject\n",
    "                              URIRef(schema + \"author\"), # Predicate\n",
    "                              URIRef(business_uri + subject))) # Object\n",
    "                del line[\"user_id\"]\n",
    "\n",
    "            line = flatten_dictionary(line) # Flattens the nested dictionary\n",
    "\n",
    "            for _predicate, _object in line.items():\n",
    "                if isinstance(_object, type(None)) or str(_object).lower() == \"none\":\n",
    "                    pass\n",
    "\n",
    "                elif _predicate in [\"categories\", \"date\", \"friends\", \"elite\"]: # String containing listed objects\n",
    "                    _object = str(_object)\n",
    "                    obj_lst = _object.split(\", \") if _predicate != \"elite\" else _object.split(\",\")\n",
    "\n",
    "                    predicate, object_type = return_predicate(_predicate, _object, file_name)\n",
    "                    for obj in obj_lst:\n",
    "                        if _predicate == \"date\":\n",
    "                            obj = obj.replace(\" \", \"T\")\n",
    "                        G.add(triple=(URIRef(uri + subject), # Subject\n",
    "                                  URIRef(predicate), # Predicate\n",
    "                                  Literal(obj, datatype=object_type))) # Object\n",
    "\n",
    "                else:\n",
    "                    if _predicate == \"yelping_since\":\n",
    "                        _object = _object.replace(\" \", \"T\")\n",
    "                    predicate, object_type = return_predicate(_predicate, _object, file_name)\n",
    "                    G.add(triple=(URIRef(uri + subject), # Subject\n",
    "                                  URIRef(predicate), # Predicate\n",
    "                                  Literal(_object, datatype=object_type))) # Object\n",
    "            tripe_file.write(G.serialize(format='ttl'))\n",
    "        except Exception as e:\n",
    "            print(e)\n",
    "            print(subject, _predicate, _object)\n",
    "tripe_file.close()"
   ],
   "metadata": {
    "collapsed": false,
    "pycharm": {
     "name": "#%%\n"
    }
   }
  },
  {
   "cell_type": "code",
   "execution_count": null,
   "outputs": [],
   "source": [
    "# G.serialize(destination=\"kg.ttl\")"
   ],
   "metadata": {
    "collapsed": false,
    "pycharm": {
     "name": "#%%\n"
    }
   }
  },
  {
   "cell_type": "markdown",
   "source": [
    "# MATTEO: No need to look further. But we might want your comment on how we have created the auxiliary node with blank nodes."
   ],
   "metadata": {
    "collapsed": false,
    "pycharm": {
     "name": "#%% md\n"
    }
   }
  },
  {
   "cell_type": "code",
   "execution_count": null,
   "outputs": [],
   "source": [
    "file_name = \"yelp_academic_dataset_tip.json\"\n",
    "file_path = get_path(file_name)\n",
    "triple_file = open(file=f\"{file_name[:-5]}.nt\", mode=\"a\")\n",
    "with open(file=file_path, mode=\"r\") as file:\n",
    "    for line in file:\n",
    "        try:\n",
    "            G = Graph()\n",
    "            G.bind(\"rdfs\", schema, override=True)\n",
    "            G.bind(\"example\", example, override=True)\n",
    "            line = json.loads(line)\n",
    "\n",
    "            b_node = BNode()\n",
    "\n",
    "            subject = line[\"user_id\"]\n",
    "            del line[\"user_id\"]\n",
    "\n",
    "            # user, author, b_node\n",
    "            G.add(triple=(URIRef(user_uri + subject), # Subject\n",
    "                          URIRef(schema + \"author\"), # Predicate\n",
    "                          Literal(b_node))) # Object\n",
    "\n",
    "            for _predicate, _object in line.items():\n",
    "                predicate, object_type = return_predicate(_predicate, _object, file_name)\n",
    "\n",
    "                if _predicate == \"date\":\n",
    "                    obj = _object.replace(\" \", \"T\")\n",
    "                elif _predicate == \"business_id\":\n",
    "                    obj = business_uri + _object\n",
    "                else:\n",
    "                    obj = _object\n",
    "\n",
    "                G.add(triple=(URIRef(b_node), # Subject\n",
    "                              URIRef(predicate), # Predicate\n",
    "                              Literal(obj, datatype=object_type))) # Object\n",
    "            triple_file.write(G.serialize(format=\"ttl\"))\n",
    "        except Exception as e:\n",
    "            print(e)\n",
    "            print(subject, _predicate, _object)\n",
    "triple_file.close()"
   ],
   "metadata": {
    "collapsed": false,
    "pycharm": {
     "name": "#%%\n"
    }
   }
  },
  {
   "cell_type": "code",
   "execution_count": null,
   "metadata": {
    "collapsed": false,
    "pycharm": {
     "name": "#%%\n"
    }
   },
   "outputs": [],
   "source": [
    "# G.serialize(destination=\"kg.ttl\")"
   ]
  },
  {
   "cell_type": "markdown",
   "metadata": {
    "collapsed": false
   },
   "source": [
    "# MATTEO: No need to look further. But we might want your comment on how we have created the auxiliary node with blank nodes."
   ]
  },
  {
   "cell_type": "code",
   "execution_count": null,
   "metadata": {
    "collapsed": false,
    "pycharm": {
     "is_executing": true,
     "name": "#%%\n"
    }
   },
   "outputs": [],
   "source": [
    "file_name = \"yelp_academic_dataset_tip.json\"\n",
    "file_path = get_path(file_name)\n",
    "triple_file = open(file=f\"{file_name[:-5]}.nt\", mode=\"a\")\n",
    "with open(file=file_path, mode=\"r\") as file:\n",
    "    for line in file:\n",
    "        try:\n",
    "            G = Graph()\n",
    "            G.bind(\"rdfs\", schema, override=True)\n",
    "            G.bind(\"example\", example, override=True)\n",
    "            line = json.loads(line)\n",
    "\n",
    "            b_node = BNode()\n",
    "\n",
    "            subject = line[\"user_id\"]\n",
    "            del line[\"user_id\"]\n",
    "\n",
    "            # user, author, b_node\n",
    "            G.add(triple=(URIRef(user_uri + subject), # Subject\n",
    "                          URIRef(schema + \"author\"), # Predicate\n",
    "                          Literal(b_node))) # Object\n",
    "\n",
    "            for _predicate, _object in line.items():\n",
    "                predicate, object_type = return_predicate(_predicate, _object, file_name)\n",
    "\n",
    "                if _predicate == \"date\":\n",
    "                    obj = _object.replace(\" \", \"T\")\n",
    "                elif _predicate == \"business_id\":\n",
    "                    obj = business_uri + _object\n",
    "                else:\n",
    "                    obj = _object\n",
    "\n",
    "                G.add(triple=(URIRef(b_node), # Subject\n",
    "                              URIRef(predicate), # Predicate\n",
    "                              Literal(obj, datatype=object_type))) # Object\n",
    "            triple_file.write(G.serialize(format=\"ttl\"))\n",
    "        except Exception as e:\n",
    "            print(e)\n",
    "            print(subject, _predicate, _object)\n",
    "triple_file.close()"
   ]
  },
  {
   "cell_type": "code",
   "execution_count": null,
   "metadata": {
    "collapsed": false,
    "pycharm": {
     "is_executing": true,
     "name": "#%%\n"
    }
   },
   "outputs": [],
   "source": [
    "G.serialize(destination=\"kg.ttl\")"
   ]
  },
  {
   "cell_type": "code",
   "execution_count": null,
   "metadata": {
    "collapsed": false,
    "pycharm": {
     "name": "#%%\n"
    }
   },
   "outputs": [],
   "source": []
  }
 ],
 "metadata": {
  "kernelspec": {
   "display_name": "Python 3.10.7 64-bit",
   "language": "python",
   "name": "python3"
  },
  "language_info": {
   "codemirror_mode": {
    "name": "ipython",
    "version": 3
   },
   "file_extension": ".py",
   "mimetype": "text/x-python",
   "name": "python",
   "nbconvert_exporter": "python",
   "pygments_lexer": "ipython3",
   "version": "3.10.7"
  },
  "vscode": {
   "interpreter": {
    "hash": "aee8b7b246df8f9039afb4144a1f6fd8d2ca17a180786b69acc140d282b71a49"
   }
  }
 },
 "nbformat": 4,
 "nbformat_minor": 0
}