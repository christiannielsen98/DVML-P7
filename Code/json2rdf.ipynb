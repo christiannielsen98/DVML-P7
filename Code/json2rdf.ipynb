{
 "cells": [
  {
   "cell_type": "code",
   "execution_count": 11,
   "metadata": {
    "collapsed": true
   },
   "outputs": [],
   "source": [
    "from rdflib import Namespace, Graph, URIRef, Literal, BNode, XSD\n",
    "import json\n",
    "\n",
    "from get_schema_predicate import return_predicate\n",
    "from flatten_dict import flatten_dictionary\n",
    "from get_data_path import get_path"
   ]
  },
  {
   "cell_type": "code",
   "execution_count": null,
   "outputs": [],
   "source": [
    "file_name = \"yelp_academic_dataset_user.json\"\n",
    "file_path = get_path(file_name)"
   ],
   "metadata": {
    "collapsed": false,
    "pycharm": {
     "name": "#%%\n"
    }
   }
  },
  {
   "cell_type": "code",
   "execution_count": null,
   "outputs": [],
   "source": [
    "schema = Namespace(\"https://schema.org/\")\n",
    "example = Namespace(\"https://example.org/\")"
   ],
   "metadata": {
    "collapsed": false,
    "pycharm": {
     "name": "#%%\n"
    }
   }
  },
  {
   "cell_type": "code",
   "execution_count": null,
   "outputs": [],
   "source": [
    "business_uri = Namespace(\"https://www.yelp.com/biz/\")\n",
    "user_uri = Namespace(\"https://www.yelp.com/user_details?userid=\")"
   ],
   "metadata": {
    "collapsed": false,
    "pycharm": {
     "name": "#%%\n"
    }
   }
  },
  {
   "cell_type": "code",
   "execution_count": null,
   "outputs": [
    {
     "ename": "KeyboardInterrupt",
     "evalue": "",
     "output_type": "error",
     "traceback": [
      "\u001B[0;31m---------------------------------------------------------------------------\u001B[0m",
      "\u001B[0;31mKeyboardInterrupt\u001B[0m                         Traceback (most recent call last)",
      "Input \u001B[0;32mIn [26]\u001B[0m, in \u001B[0;36m<module>\u001B[0;34m\u001B[0m\n\u001B[1;32m     44\u001B[0m         \u001B[38;5;28;01mif\u001B[39;00m _predicate \u001B[38;5;241m==\u001B[39m \u001B[38;5;124m\"\u001B[39m\u001B[38;5;124mdate\u001B[39m\u001B[38;5;124m\"\u001B[39m:\n\u001B[1;32m     45\u001B[0m             obj \u001B[38;5;241m=\u001B[39m obj\u001B[38;5;241m.\u001B[39mreplace(\u001B[38;5;124m\"\u001B[39m\u001B[38;5;124m \u001B[39m\u001B[38;5;124m\"\u001B[39m, \u001B[38;5;124m\"\u001B[39m\u001B[38;5;124mT\u001B[39m\u001B[38;5;124m\"\u001B[39m)\n\u001B[0;32m---> 47\u001B[0m         \u001B[43mG\u001B[49m\u001B[38;5;241;43m.\u001B[39;49m\u001B[43madd\u001B[49m\u001B[43m(\u001B[49m\u001B[43mtriple\u001B[49m\u001B[38;5;241;43m=\u001B[39;49m\u001B[43m(\u001B[49m\u001B[43mURIRef\u001B[49m\u001B[43m(\u001B[49m\u001B[43muri\u001B[49m\u001B[43m \u001B[49m\u001B[38;5;241;43m+\u001B[39;49m\u001B[43m \u001B[49m\u001B[43msubject\u001B[49m\u001B[43m)\u001B[49m\u001B[43m,\u001B[49m\u001B[43m \u001B[49m\u001B[38;5;66;43;03m# Subject\u001B[39;49;00m\n\u001B[1;32m     48\u001B[0m \u001B[43m                  \u001B[49m\u001B[43mURIRef\u001B[49m\u001B[43m(\u001B[49m\u001B[43mpredicate\u001B[49m\u001B[43m)\u001B[49m\u001B[43m,\u001B[49m\u001B[43m \u001B[49m\u001B[38;5;66;43;03m# Predicate\u001B[39;49;00m\n\u001B[1;32m     49\u001B[0m \u001B[43m                  \u001B[49m\u001B[43mLiteral\u001B[49m\u001B[43m(\u001B[49m\u001B[43mobj\u001B[49m\u001B[43m,\u001B[49m\u001B[43m \u001B[49m\u001B[43mdatatype\u001B[49m\u001B[38;5;241;43m=\u001B[39;49m\u001B[43mobject_type\u001B[49m\u001B[43m)\u001B[49m\u001B[43m)\u001B[49m\u001B[43m)\u001B[49m \u001B[38;5;66;03m# Object\u001B[39;00m\n\u001B[1;32m     51\u001B[0m \u001B[38;5;28;01melse\u001B[39;00m:\n\u001B[1;32m     52\u001B[0m     \u001B[38;5;28;01mif\u001B[39;00m _predicate \u001B[38;5;241m==\u001B[39m \u001B[38;5;124m\"\u001B[39m\u001B[38;5;124myelping_since\u001B[39m\u001B[38;5;124m\"\u001B[39m:\n",
      "File \u001B[0;32m~/miniforge3/envs/Datavidenskab-P6/lib/python3.10/site-packages/rdflib/graph.py:457\u001B[0m, in \u001B[0;36mGraph.add\u001B[0;34m(self, triple)\u001B[0m\n\u001B[1;32m    455\u001B[0m \u001B[38;5;28;01massert\u001B[39;00m \u001B[38;5;28misinstance\u001B[39m(p, Node), \u001B[38;5;124m\"\u001B[39m\u001B[38;5;124mPredicate \u001B[39m\u001B[38;5;132;01m%s\u001B[39;00m\u001B[38;5;124m must be an rdflib term\u001B[39m\u001B[38;5;124m\"\u001B[39m \u001B[38;5;241m%\u001B[39m (p,)\n\u001B[1;32m    456\u001B[0m \u001B[38;5;28;01massert\u001B[39;00m \u001B[38;5;28misinstance\u001B[39m(o, Node), \u001B[38;5;124m\"\u001B[39m\u001B[38;5;124mObject \u001B[39m\u001B[38;5;132;01m%s\u001B[39;00m\u001B[38;5;124m must be an rdflib term\u001B[39m\u001B[38;5;124m\"\u001B[39m \u001B[38;5;241m%\u001B[39m (o,)\n\u001B[0;32m--> 457\u001B[0m \u001B[38;5;28;43mself\u001B[39;49m\u001B[38;5;241;43m.\u001B[39;49m\u001B[43m__store\u001B[49m\u001B[38;5;241;43m.\u001B[39;49m\u001B[43madd\u001B[49m\u001B[43m(\u001B[49m\u001B[43m(\u001B[49m\u001B[43ms\u001B[49m\u001B[43m,\u001B[49m\u001B[43m \u001B[49m\u001B[43mp\u001B[49m\u001B[43m,\u001B[49m\u001B[43m \u001B[49m\u001B[43mo\u001B[49m\u001B[43m)\u001B[49m\u001B[43m,\u001B[49m\u001B[43m \u001B[49m\u001B[38;5;28;43mself\u001B[39;49m\u001B[43m,\u001B[49m\u001B[43m \u001B[49m\u001B[43mquoted\u001B[49m\u001B[38;5;241;43m=\u001B[39;49m\u001B[38;5;28;43;01mFalse\u001B[39;49;00m\u001B[43m)\u001B[49m\n\u001B[1;32m    458\u001B[0m \u001B[38;5;28;01mreturn\u001B[39;00m \u001B[38;5;28mself\u001B[39m\n",
      "File \u001B[0;32m~/miniforge3/envs/Datavidenskab-P6/lib/python3.10/site-packages/rdflib/plugins/stores/memory.py:240\u001B[0m, in \u001B[0;36mMemory.add\u001B[0;34m(self, triple, context, quoted)\u001B[0m\n\u001B[1;32m    234\u001B[0m \u001B[38;5;124;03m\"\"\"\\\u001B[39;00m\n\u001B[1;32m    235\u001B[0m \u001B[38;5;124;03mAdd a triple to the store of triples.\u001B[39;00m\n\u001B[1;32m    236\u001B[0m \u001B[38;5;124;03m\"\"\"\u001B[39;00m\n\u001B[1;32m    237\u001B[0m \u001B[38;5;66;03m# add dictionary entries for spo[s][p][p] = 1 and pos[p][o][s]\u001B[39;00m\n\u001B[1;32m    238\u001B[0m \u001B[38;5;66;03m# = 1, creating the nested dictionaries where they do not yet\u001B[39;00m\n\u001B[1;32m    239\u001B[0m \u001B[38;5;66;03m# exits.\u001B[39;00m\n\u001B[0;32m--> 240\u001B[0m \u001B[43mStore\u001B[49m\u001B[38;5;241;43m.\u001B[39;49m\u001B[43madd\u001B[49m\u001B[43m(\u001B[49m\u001B[38;5;28;43mself\u001B[39;49m\u001B[43m,\u001B[49m\u001B[43m \u001B[49m\u001B[43mtriple\u001B[49m\u001B[43m,\u001B[49m\u001B[43m \u001B[49m\u001B[43mcontext\u001B[49m\u001B[43m,\u001B[49m\u001B[43m \u001B[49m\u001B[43mquoted\u001B[49m\u001B[38;5;241;43m=\u001B[39;49m\u001B[43mquoted\u001B[49m\u001B[43m)\u001B[49m\n\u001B[1;32m    241\u001B[0m \u001B[38;5;28;01mif\u001B[39;00m context \u001B[38;5;129;01mis\u001B[39;00m \u001B[38;5;129;01mnot\u001B[39;00m \u001B[38;5;28;01mNone\u001B[39;00m:\n\u001B[1;32m    242\u001B[0m     \u001B[38;5;28mself\u001B[39m\u001B[38;5;241m.\u001B[39m__all_contexts\u001B[38;5;241m.\u001B[39madd(context)\n",
      "File \u001B[0;32m~/miniforge3/envs/Datavidenskab-P6/lib/python3.10/site-packages/rdflib/store.py:221\u001B[0m, in \u001B[0;36mStore.add\u001B[0;34m(self, triple, context, quoted)\u001B[0m\n\u001B[1;32m    207\u001B[0m \u001B[38;5;28;01mdef\u001B[39;00m \u001B[38;5;21madd\u001B[39m(\n\u001B[1;32m    208\u001B[0m     \u001B[38;5;28mself\u001B[39m,\n\u001B[1;32m    209\u001B[0m     triple: Tuple[\u001B[38;5;124m\"\u001B[39m\u001B[38;5;124mNode\u001B[39m\u001B[38;5;124m\"\u001B[39m, \u001B[38;5;124m\"\u001B[39m\u001B[38;5;124mNode\u001B[39m\u001B[38;5;124m\"\u001B[39m, \u001B[38;5;124m\"\u001B[39m\u001B[38;5;124mNode\u001B[39m\u001B[38;5;124m\"\u001B[39m],\n\u001B[1;32m    210\u001B[0m     context: Optional[\u001B[38;5;124m\"\u001B[39m\u001B[38;5;124mGraph\u001B[39m\u001B[38;5;124m\"\u001B[39m],\n\u001B[1;32m    211\u001B[0m     quoted: \u001B[38;5;28mbool\u001B[39m \u001B[38;5;241m=\u001B[39m \u001B[38;5;28;01mFalse\u001B[39;00m,\n\u001B[1;32m    212\u001B[0m ):\n\u001B[1;32m    213\u001B[0m     \u001B[38;5;124;03m\"\"\"\u001B[39;00m\n\u001B[1;32m    214\u001B[0m \u001B[38;5;124;03m    Adds the given statement to a specific context or to the model. The\u001B[39;00m\n\u001B[1;32m    215\u001B[0m \u001B[38;5;124;03m    quoted argument is interpreted by formula-aware stores to indicate\u001B[39;00m\n\u001B[0;32m   (...)\u001B[0m\n\u001B[1;32m    219\u001B[0m \u001B[38;5;124;03m    formula-aware.\u001B[39;00m\n\u001B[1;32m    220\u001B[0m \u001B[38;5;124;03m    \"\"\"\u001B[39;00m\n\u001B[0;32m--> 221\u001B[0m     \u001B[38;5;28mself\u001B[39m\u001B[38;5;241m.\u001B[39mdispatcher\u001B[38;5;241m.\u001B[39mdispatch(\u001B[43mTripleAddedEvent\u001B[49m\u001B[43m(\u001B[49m\u001B[43mtriple\u001B[49m\u001B[38;5;241;43m=\u001B[39;49m\u001B[43mtriple\u001B[49m\u001B[43m,\u001B[49m\u001B[43m \u001B[49m\u001B[43mcontext\u001B[49m\u001B[38;5;241;43m=\u001B[39;49m\u001B[43mcontext\u001B[49m\u001B[43m)\u001B[49m)\n",
      "File \u001B[0;32m~/miniforge3/envs/Datavidenskab-P6/lib/python3.10/site-packages/rdflib/events.py:43\u001B[0m, in \u001B[0;36mEvent.__init__\u001B[0;34m(self, **kw)\u001B[0m\n\u001B[1;32m     42\u001B[0m \u001B[38;5;28;01mdef\u001B[39;00m \u001B[38;5;21m__init__\u001B[39m(\u001B[38;5;28mself\u001B[39m, \u001B[38;5;241m*\u001B[39m\u001B[38;5;241m*\u001B[39mkw):\n\u001B[0;32m---> 43\u001B[0m     \u001B[38;5;28;43mself\u001B[39;49m\u001B[38;5;241;43m.\u001B[39;49m\u001B[38;5;18;43m__dict__\u001B[39;49m\u001B[38;5;241;43m.\u001B[39;49m\u001B[43mupdate\u001B[49m\u001B[43m(\u001B[49m\u001B[43mkw\u001B[49m\u001B[43m)\u001B[49m\n",
      "\u001B[0;31mKeyboardInterrupt\u001B[0m: "
     ]
    }
   ],
   "source": [
    "G = Graph()\n",
    "\n",
    "if file_name in [\"yelp_academic_dataset_business.json\", \"yelp_academic_dataset_checkin.json\", \"yelp_academic_dataset_review.json\"]:\n",
    "    uri = business_uri\n",
    "else: # user\n",
    "    uri = user_uri\n",
    "\n",
    "\n",
    "with open(file=file_path, mode=\"r\") as file:\n",
    "    for line in file:\n",
    "        try:\n",
    "            line = json.loads(line)\n",
    "\n",
    "            json_key = list(line.keys())[0] # Key of subject\n",
    "            subject = line[json_key]\n",
    "            del line[json_key]\n",
    "\n",
    "            if file_name == \"yelp_academic_dataset_review.json\":\n",
    "                G.add(triple=(URIRef(user_uri + line[\"user_id\"]), # Subject\n",
    "                              URIRef(schema + \"author\"), # Predicate\n",
    "                              Literal(subject, datatype=XSD.anyURI))) # Object\n",
    "                del line[\"user_id\"]\n",
    "\n",
    "                uri = uri + line['business_id'] + \"?hrid=\" + subject # Other uri for review\n",
    "\n",
    "            line = flatten_dictionary(line) # Flattens the nested dictionary\n",
    "\n",
    "            for _predicate, _object in line.items():\n",
    "                if isinstance(_object, type(None)) or str(_object).lower() == \"none\":\n",
    "                    pass\n",
    "\n",
    "                elif _predicate in [\"categories\", \"date\", \"friends\", \"elite\"]: # String containing listed objects\n",
    "                    _object = str(_object)\n",
    "                    obj_lst = _object.split(\", \") if _predicate != \"elite\" else _object.split(\",\")\n",
    "\n",
    "                    predicate, object_type = return_predicate(_predicate, _object, file_name)\n",
    "                    for obj in obj_lst:\n",
    "                        if _predicate == \"date\":\n",
    "                            obj = obj.replace(\" \", \"T\")\n",
    "\n",
    "                        G.add(triple=(URIRef(uri + subject), # Subject\n",
    "                                  URIRef(predicate), # Predicate\n",
    "                                  Literal(obj, datatype=object_type))) # Object\n",
    "\n",
    "                else:\n",
    "                    if _predicate == \"yelping_since\":\n",
    "                        _object = _object.replace(\" \", \"T\")\n",
    "                    predicate, object_type = return_predicate(_predicate, _object, file_name)\n",
    "                    G.add(triple=(URIRef(uri + subject), # Subject\n",
    "                                  URIRef(predicate), # Predicate\n",
    "                                  Literal(_object, datatype=object_type))) # Object\n",
    "\n",
    "        except Exception as e:\n",
    "            print(e)\n",
    "            print(subject, _predicate, _object)"
   ],
   "metadata": {
    "collapsed": false,
    "pycharm": {
     "name": "#%%\n"
    }
   }
  },
  {
   "cell_type": "code",
   "execution_count": null,
   "outputs": [],
   "source": [
    "G.serialize(destination=\"kg.ttl\")"
   ],
   "metadata": {
    "collapsed": false,
    "pycharm": {
     "name": "#%%\n"
    }
   }
  },
  {
   "cell_type": "code",
   "execution_count": 27,
   "outputs": [
    {
     "ename": "KeyboardInterrupt",
     "evalue": "",
     "output_type": "error",
     "traceback": [
      "\u001B[0;31m---------------------------------------------------------------------------\u001B[0m",
      "\u001B[0;31mKeyboardInterrupt\u001B[0m                         Traceback (most recent call last)",
      "Input \u001B[0;32mIn [27]\u001B[0m, in \u001B[0;36m<module>\u001B[0;34m\u001B[0m\n\u001B[1;32m     28\u001B[0m         \u001B[38;5;28;01melse\u001B[39;00m:\n\u001B[1;32m     29\u001B[0m             obj \u001B[38;5;241m=\u001B[39m _object\n\u001B[1;32m     31\u001B[0m         G\u001B[38;5;241m.\u001B[39madd(triple\u001B[38;5;241m=\u001B[39m(URIRef(b_node), \u001B[38;5;66;03m# Subject\u001B[39;00m\n\u001B[1;32m     32\u001B[0m                       URIRef(predicate), \u001B[38;5;66;03m# Predicate\u001B[39;00m\n\u001B[0;32m---> 33\u001B[0m                       \u001B[43mLiteral\u001B[49m\u001B[43m(\u001B[49m\u001B[43mobj\u001B[49m\u001B[43m,\u001B[49m\u001B[43m \u001B[49m\u001B[43mdatatype\u001B[49m\u001B[38;5;241;43m=\u001B[39;49m\u001B[43mobject_type\u001B[49m\u001B[43m)\u001B[49m)) \u001B[38;5;66;03m# Object\u001B[39;00m\n\u001B[1;32m     35\u001B[0m \u001B[38;5;28;01mexcept\u001B[39;00m \u001B[38;5;167;01mException\u001B[39;00m \u001B[38;5;28;01mas\u001B[39;00m e:\n\u001B[1;32m     36\u001B[0m     \u001B[38;5;28mprint\u001B[39m(e)\n",
      "File \u001B[0;32m~/miniforge3/envs/Datavidenskab-P6/lib/python3.10/site-packages/rdflib/term.py:646\u001B[0m, in \u001B[0;36mLiteral.__new__\u001B[0;34m(cls, lexical_or_value, lang, datatype, normalize)\u001B[0m\n\u001B[1;32m    641\u001B[0m         value \u001B[38;5;241m=\u001B[39m lexical_or_value\u001B[38;5;241m.\u001B[39mvalue\n\u001B[1;32m    643\u001B[0m \u001B[38;5;28;01melif\u001B[39;00m \u001B[38;5;28misinstance\u001B[39m(lexical_or_value, \u001B[38;5;28mstr\u001B[39m) \u001B[38;5;129;01mor\u001B[39;00m \u001B[38;5;28misinstance\u001B[39m(lexical_or_value, \u001B[38;5;28mbytes\u001B[39m):\n\u001B[1;32m    644\u001B[0m     \u001B[38;5;66;03m# passed a string\u001B[39;00m\n\u001B[1;32m    645\u001B[0m     \u001B[38;5;66;03m# try parsing lexical form of datatyped literal\u001B[39;00m\n\u001B[0;32m--> 646\u001B[0m     value \u001B[38;5;241m=\u001B[39m \u001B[43m_castLexicalToPython\u001B[49m\u001B[43m(\u001B[49m\u001B[43mlexical_or_value\u001B[49m\u001B[43m,\u001B[49m\u001B[43m \u001B[49m\u001B[43mdatatype\u001B[49m\u001B[43m)\u001B[49m\n\u001B[1;32m    647\u001B[0m     \u001B[38;5;28;01mif\u001B[39;00m datatype \u001B[38;5;129;01mand\u001B[39;00m datatype \u001B[38;5;129;01min\u001B[39;00m _toPythonMapping:\n\u001B[1;32m    648\u001B[0m         \u001B[38;5;66;03m# datatype is a recognized datatype IRI:\u001B[39;00m\n\u001B[1;32m    649\u001B[0m         \u001B[38;5;66;03m# https://www.w3.org/TR/rdf11-concepts/#dfn-recognized-datatype-iris\u001B[39;00m\n\u001B[1;32m    650\u001B[0m         dt_uri: URIRef \u001B[38;5;241m=\u001B[39m URIRef(datatype)\n",
      "File \u001B[0;32m~/miniforge3/envs/Datavidenskab-P6/lib/python3.10/site-packages/rdflib/term.py:2084\u001B[0m, in \u001B[0;36m_castLexicalToPython\u001B[0;34m(lexical, datatype)\u001B[0m\n\u001B[1;32m   2077\u001B[0m \u001B[38;5;28;01mif\u001B[39;00m conv_func \u001B[38;5;129;01mis\u001B[39;00m \u001B[38;5;129;01mnot\u001B[39;00m \u001B[38;5;28;01mNone\u001B[39;00m:\n\u001B[1;32m   2078\u001B[0m     \u001B[38;5;28;01mtry\u001B[39;00m:\n\u001B[1;32m   2079\u001B[0m         \u001B[38;5;66;03m# type error: Argument 1 has incompatible type \"Union[str, bytes]\"; expected \"str\"\u001B[39;00m\n\u001B[1;32m   2080\u001B[0m         \u001B[38;5;66;03m# NOTE for type ignore: various functions in _toPythonMapping will\u001B[39;00m\n\u001B[1;32m   2081\u001B[0m         \u001B[38;5;66;03m# only work for str, so there is some inconsistency here, the right\u001B[39;00m\n\u001B[1;32m   2082\u001B[0m         \u001B[38;5;66;03m# approach may be to change lexical to be of str type but this will\u001B[39;00m\n\u001B[1;32m   2083\u001B[0m         \u001B[38;5;66;03m# require runtime changes.\u001B[39;00m\n\u001B[0;32m-> 2084\u001B[0m         \u001B[38;5;28;01mreturn\u001B[39;00m \u001B[43mconv_func\u001B[49m\u001B[43m(\u001B[49m\u001B[43mlexical\u001B[49m\u001B[43m)\u001B[49m  \u001B[38;5;66;03m# type: ignore[arg-type]\u001B[39;00m\n\u001B[1;32m   2085\u001B[0m     \u001B[38;5;28;01mexcept\u001B[39;00m \u001B[38;5;167;01mException\u001B[39;00m:\n\u001B[1;32m   2086\u001B[0m         logger\u001B[38;5;241m.\u001B[39mwarning(\n\u001B[1;32m   2087\u001B[0m             \u001B[38;5;124m\"\u001B[39m\u001B[38;5;124mFailed to convert Literal lexical form to value. Datatype=\u001B[39m\u001B[38;5;132;01m%s\u001B[39;00m\u001B[38;5;124m, \u001B[39m\u001B[38;5;124m\"\u001B[39m\n\u001B[1;32m   2088\u001B[0m             \u001B[38;5;124m\"\u001B[39m\u001B[38;5;124mConverter=\u001B[39m\u001B[38;5;132;01m%s\u001B[39;00m\u001B[38;5;124m\"\u001B[39m,\n\u001B[0;32m   (...)\u001B[0m\n\u001B[1;32m   2091\u001B[0m             exc_info\u001B[38;5;241m=\u001B[39m\u001B[38;5;28;01mTrue\u001B[39;00m,\n\u001B[1;32m   2092\u001B[0m         )\n",
      "File \u001B[0;32m~/miniforge3/envs/Datavidenskab-P6/lib/python3.10/site-packages/isodate/isodatetime.py:55\u001B[0m, in \u001B[0;36mparse_datetime\u001B[0;34m(datetimestring)\u001B[0m\n\u001B[1;32m     52\u001B[0m \u001B[38;5;28;01mexcept\u001B[39;00m \u001B[38;5;167;01mValueError\u001B[39;00m:\n\u001B[1;32m     53\u001B[0m     \u001B[38;5;28;01mraise\u001B[39;00m ISO8601Error(\u001B[38;5;124m\"\u001B[39m\u001B[38;5;124mISO 8601 time designator \u001B[39m\u001B[38;5;124m'\u001B[39m\u001B[38;5;124mT\u001B[39m\u001B[38;5;124m'\u001B[39m\u001B[38;5;124m missing. Unable to\u001B[39m\u001B[38;5;124m\"\u001B[39m\n\u001B[1;32m     54\u001B[0m                        \u001B[38;5;124m\"\u001B[39m\u001B[38;5;124m parse datetime string \u001B[39m\u001B[38;5;132;01m%r\u001B[39;00m\u001B[38;5;124m\"\u001B[39m \u001B[38;5;241m%\u001B[39m datetimestring)\n\u001B[0;32m---> 55\u001B[0m tmpdate \u001B[38;5;241m=\u001B[39m \u001B[43mparse_date\u001B[49m\u001B[43m(\u001B[49m\u001B[43mdatestring\u001B[49m\u001B[43m)\u001B[49m\n\u001B[1;32m     56\u001B[0m tmptime \u001B[38;5;241m=\u001B[39m parse_time(timestring)\n\u001B[1;32m     57\u001B[0m \u001B[38;5;28;01mreturn\u001B[39;00m datetime\u001B[38;5;241m.\u001B[39mcombine(tmpdate, tmptime)\n",
      "File \u001B[0;32m~/miniforge3/envs/Datavidenskab-P6/lib/python3.10/site-packages/isodate/isodates.py:170\u001B[0m, in \u001B[0;36mparse_date\u001B[0;34m(datestring, yeardigits, expanded, defaultmonth, defaultday)\u001B[0m\n\u001B[1;32m    168\u001B[0m isodates \u001B[38;5;241m=\u001B[39m build_date_regexps(yeardigits, expanded)\n\u001B[1;32m    169\u001B[0m \u001B[38;5;28;01mfor\u001B[39;00m pattern \u001B[38;5;129;01min\u001B[39;00m isodates:\n\u001B[0;32m--> 170\u001B[0m     match \u001B[38;5;241m=\u001B[39m \u001B[43mpattern\u001B[49m\u001B[38;5;241;43m.\u001B[39;49m\u001B[43mmatch\u001B[49m\u001B[43m(\u001B[49m\u001B[43mdatestring\u001B[49m\u001B[43m)\u001B[49m\n\u001B[1;32m    171\u001B[0m     \u001B[38;5;28;01mif\u001B[39;00m match:\n\u001B[1;32m    172\u001B[0m         groups \u001B[38;5;241m=\u001B[39m match\u001B[38;5;241m.\u001B[39mgroupdict()\n",
      "\u001B[0;31mKeyboardInterrupt\u001B[0m: "
     ]
    }
   ],
   "source": [
    "file_name = \"yelp_academic_dataset_tip.json\"\n",
    "file_path = get_path(file_name)\n",
    "\n",
    "G = Graph()\n",
    "\n",
    "with open(file=file_path, mode=\"r\") as file:\n",
    "    for line in file:\n",
    "        try:\n",
    "            line = json.loads(line)\n",
    "\n",
    "            b_node = BNode()\n",
    "\n",
    "            subject = line[\"user_id\"]\n",
    "            del line[\"user_id\"]\n",
    "\n",
    "            # user, author, b_node\n",
    "            G.add(triple=(URIRef(user_uri + subject), # Subject\n",
    "                          URIRef(schema + \"author\"), # Predicate\n",
    "                          Literal(b_node))) # Object\n",
    "\n",
    "            for _predicate, _object in line.items():\n",
    "                predicate, object_type = return_predicate(_predicate, _object, file_name)\n",
    "\n",
    "                if _predicate == \"date\":\n",
    "                    obj = _object.replace(\" \", \"T\")\n",
    "                elif _predicate == \"business_id\":\n",
    "                    obj = business_uri + _object\n",
    "                else:\n",
    "                    obj = _object\n",
    "\n",
    "                G.add(triple=(URIRef(b_node), # Subject\n",
    "                              URIRef(predicate), # Predicate\n",
    "                              Literal(obj, datatype=object_type))) # Object\n",
    "\n",
    "        except Exception as e:\n",
    "            print(e)\n",
    "            print(subject, _predicate, _object)"
   ],
   "metadata": {
    "collapsed": false,
    "pycharm": {
     "name": "#%%\n"
    }
   }
  },
  {
   "cell_type": "code",
   "execution_count": 10,
   "outputs": [
    {
     "data": {
      "text/plain": "<Graph identifier=N8a62ea233f1849cbb44bb1cd965aa03b (<class 'rdflib.graph.Graph'>)>"
     },
     "execution_count": 10,
     "metadata": {},
     "output_type": "execute_result"
    }
   ],
   "source": [
    "G.serialize(destination=\"kg.ttl\")"
   ],
   "metadata": {
    "collapsed": false,
    "pycharm": {
     "name": "#%%\n"
    }
   }
  },
  {
   "cell_type": "code",
   "execution_count": null,
   "outputs": [],
   "source": [],
   "metadata": {
    "collapsed": false,
    "pycharm": {
     "name": "#%%\n"
    }
   }
  }
 ],
 "metadata": {
  "kernelspec": {
   "name": "python3",
   "language": "python",
   "display_name": "Python 3 (ipykernel)"
  },
  "language_info": {
   "codemirror_mode": {
    "name": "ipython",
    "version": 2
   },
   "file_extension": ".py",
   "mimetype": "text/x-python",
   "name": "python",
   "nbconvert_exporter": "python",
   "pygments_lexer": "ipython2",
   "version": "2.7.6"
  }
 },
 "nbformat": 4,
 "nbformat_minor": 0
}