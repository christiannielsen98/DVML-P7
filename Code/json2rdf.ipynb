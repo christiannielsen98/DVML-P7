{
 "cells": [
  {
   "cell_type": "code",
   "execution_count": 33,
   "metadata": {
    "collapsed": true
   },
   "outputs": [],
   "source": [
    "from rdflib import Namespace, Graph, URIRef, Literal, XSD\n",
    "import json\n",
    "\n",
    "from get_schema_predicate import return_predicate\n",
    "from flatten_dict import flatten_dictionary\n",
    "from get_data_path import get_path"
   ]
  },
  {
   "cell_type": "code",
   "execution_count": 35,
   "outputs": [],
   "source": [
    "file = \"yelp_academic_dataset_review.json\"\n",
    "file_path = get_path(file)"
   ],
   "metadata": {
    "collapsed": false,
    "pycharm": {
     "name": "#%%\n"
    }
   }
  },
  {
   "cell_type": "code",
   "execution_count": 36,
   "outputs": [],
   "source": [
    "schema = Namespace(\"https://schema.org/\")\n",
    "example = Namespace(\"https://example.org/\")\n",
    "\n",
    "yelp_business = Namespace(\"https://www.yelp.com/biz/\")\n",
    "yelp_user = Namespace(\"https://www.yelp.com/user_details?userid=\")\n",
    "yelp_review_vc = Namespace(\"https://www.yelp.com/kg/review/votes_count/\")"
   ],
   "metadata": {
    "collapsed": false,
    "pycharm": {
     "name": "#%%\n"
    }
   }
  },
  {
   "cell_type": "code",
   "execution_count": 37,
   "outputs": [],
   "source": [
    "G = Graph()\n",
    "G.bind(prefix=\"biz\", namespace=yelp_business)"
   ],
   "metadata": {
    "collapsed": false,
    "pycharm": {
     "name": "#%%\n"
    }
   }
  },
  {
   "cell_type": "code",
   "execution_count": null,
   "outputs": [
    {
     "name": "stderr",
     "output_type": "stream",
     "text": [
      "<string>:1: SyntaxWarning: \"is\" with a literal. Did you mean \"==\"?\n",
      "<string>:1: SyntaxWarning: \"is\" with a literal. Did you mean \"==\"?\n",
      "<string>:1: SyntaxWarning: \"is\" with a literal. Did you mean \"==\"?\n",
      "<string>:1: SyntaxWarning: \"is\" with a literal. Did you mean \"==\"?\n",
      "<string>:1: SyntaxWarning: \"is\" with a literal. Did you mean \"==\"?\n"
     ]
    },
    {
     "name": "stdout",
     "output_type": "stream",
     "text": [
      "Error in SCHEMA!\n",
      "cannot unpack non-iterable NoneType object\n",
      "Error in SCHEMA!\n",
      "cannot unpack non-iterable NoneType object\n"
     ]
    },
    {
     "name": "stderr",
     "output_type": "stream",
     "text": [
      "<string>:1: SyntaxWarning: \"is\" with a literal. Did you mean \"==\"?\n",
      "<string>:1: SyntaxWarning: \"is\" with a literal. Did you mean \"==\"?\n"
     ]
    }
   ],
   "source": [
    "with open(file=file_path, mode=\"r\") as file:\n",
    "    \"\"\"\n",
    "    The code is reading the json file line by line and then extracting the subject from the json file.\n",
    "    Then it is deleting the subject from the json file and then flattening the json file.\n",
    "    Then it is iterating over the flattened json file and adding the triples to the graph.\n",
    "    If the object is of type None then it is not added to the graph.\n",
    "    If the object is of type list then it is iterated over and added to the graph.\n",
    "    If the object is of type string then it is added to the graph.\n",
    "    \"\"\"\n",
    "    for line in file:\n",
    "        try:\n",
    "            line = json.loads(line)\n",
    "\n",
    "            json_key = list(line.keys())[0] # Key of subject\n",
    "            subject = line[json_key]\n",
    "            del line[json_key]\n",
    "\n",
    "            line = flatten_dictionary(line) # Flattens the nested dictionary\n",
    "\n",
    "            for _predicate, _object in line.items():\n",
    "                if isinstance(_object, type(None)) or str(_object).lower() == \"none\":\n",
    "                    pass\n",
    "\n",
    "                elif _predicate == \"categories\": # Categories are a string containing listed objects\n",
    "                    obj_lst = _object.split(\", \")\n",
    "\n",
    "                    predicate, object_type = return_predicate(_predicate, _object)\n",
    "                    for obj in obj_lst:\n",
    "                        G.add(triple=(URIRef(yelp_business + subject), # Subject\n",
    "                                  URIRef(predicate), # Predicate\n",
    "                                  Literal(obj, datatype=object_type))) # Object\n",
    "\n",
    "                else:\n",
    "                    predicate, object_type = return_predicate(_predicate, _object)\n",
    "                    G.add(triple=(URIRef(yelp_business + subject), # Subject\n",
    "                                  URIRef(predicate), # Predicate\n",
    "                                  Literal(_object, datatype=object_type))) # Object\n",
    "\n",
    "        except Exception as e:\n",
    "            print(e)"
   ],
   "metadata": {
    "collapsed": false,
    "pycharm": {
     "name": "#%%\n",
     "is_executing": true
    }
   }
  },
  {
   "cell_type": "code",
   "execution_count": null,
   "outputs": [],
   "source": [
    "G.serialize(destination=\"kg.ttl\")"
   ],
   "metadata": {
    "collapsed": false,
    "pycharm": {
     "name": "#%%\n",
     "is_executing": true
    }
   }
  }
 ],
 "metadata": {
  "kernelspec": {
   "name": "python3",
   "language": "python",
   "display_name": "Python 3 (ipykernel)"
  },
  "language_info": {
   "codemirror_mode": {
    "name": "ipython",
    "version": 2
   },
   "file_extension": ".py",
   "mimetype": "text/x-python",
   "name": "python",
   "nbconvert_exporter": "python",
   "pygments_lexer": "ipython2",
   "version": "2.7.6"
  }
 },
 "nbformat": 4,
 "nbformat_minor": 0
}