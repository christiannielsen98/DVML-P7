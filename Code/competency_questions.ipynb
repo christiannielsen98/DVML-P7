{
 "cells": [
  {
   "cell_type": "code",
   "execution_count": 5,
   "metadata": {
    "collapsed": false,
    "pycharm": {
     "name": "#%%\n"
    }
   },
   "outputs": [
    {
     "data": {
      "text/html": [
       "<div>\n",
       "<style scoped>\n",
       "    .dataframe tbody tr th:only-of-type {\n",
       "        vertical-align: middle;\n",
       "    }\n",
       "\n",
       "    .dataframe tbody tr th {\n",
       "        vertical-align: top;\n",
       "    }\n",
       "\n",
       "    .dataframe thead th {\n",
       "        text-align: right;\n",
       "    }\n",
       "</style>\n",
       "<table border=\"1\" class=\"dataframe\">\n",
       "  <thead>\n",
       "    <tr style=\"text-align: right;\">\n",
       "      <th></th>\n",
       "      <th>user_id</th>\n",
       "      <th>name</th>\n",
       "      <th>review_count</th>\n",
       "      <th>yelping_since</th>\n",
       "      <th>useful</th>\n",
       "      <th>funny</th>\n",
       "      <th>cool</th>\n",
       "      <th>elite</th>\n",
       "      <th>friends</th>\n",
       "      <th>fans</th>\n",
       "      <th>...</th>\n",
       "      <th>compliment_more</th>\n",
       "      <th>compliment_profile</th>\n",
       "      <th>compliment_cute</th>\n",
       "      <th>compliment_list</th>\n",
       "      <th>compliment_note</th>\n",
       "      <th>compliment_plain</th>\n",
       "      <th>compliment_cool</th>\n",
       "      <th>compliment_funny</th>\n",
       "      <th>compliment_writer</th>\n",
       "      <th>compliment_photos</th>\n",
       "    </tr>\n",
       "  </thead>\n",
       "  <tbody>\n",
       "    <tr>\n",
       "      <th>0</th>\n",
       "      <td>qVc8ODYU5SZjKXVBgXdI7w</td>\n",
       "      <td>Walker</td>\n",
       "      <td>585</td>\n",
       "      <td>2007-01-25 16:47:26</td>\n",
       "      <td>7217</td>\n",
       "      <td>1259</td>\n",
       "      <td>5994</td>\n",
       "      <td>2007</td>\n",
       "      <td>NSCy54eWehBJyZdG2iE84w, pe42u7DcCH2QmI81NX-8qA...</td>\n",
       "      <td>267</td>\n",
       "      <td>...</td>\n",
       "      <td>65</td>\n",
       "      <td>55</td>\n",
       "      <td>56</td>\n",
       "      <td>18</td>\n",
       "      <td>232</td>\n",
       "      <td>844</td>\n",
       "      <td>467</td>\n",
       "      <td>467</td>\n",
       "      <td>239</td>\n",
       "      <td>180</td>\n",
       "    </tr>\n",
       "    <tr>\n",
       "      <th>1</th>\n",
       "      <td>j14WgRoU_-2ZE1aw1dXrJg</td>\n",
       "      <td>Daniel</td>\n",
       "      <td>4333</td>\n",
       "      <td>2009-01-25 04:35:42</td>\n",
       "      <td>43091</td>\n",
       "      <td>13066</td>\n",
       "      <td>27281</td>\n",
       "      <td>2009,2010,2011,2012,2013,2014,2015,2016,2017,2...</td>\n",
       "      <td>ueRPE0CX75ePGMqOFVj6IQ, 52oH4DrRvzzl8wh5UXyU0A...</td>\n",
       "      <td>3138</td>\n",
       "      <td>...</td>\n",
       "      <td>264</td>\n",
       "      <td>184</td>\n",
       "      <td>157</td>\n",
       "      <td>251</td>\n",
       "      <td>1847</td>\n",
       "      <td>7054</td>\n",
       "      <td>3131</td>\n",
       "      <td>3131</td>\n",
       "      <td>1521</td>\n",
       "      <td>1946</td>\n",
       "    </tr>\n",
       "    <tr>\n",
       "      <th>2</th>\n",
       "      <td>2WnXYQFK0hXEoTxPtV2zvg</td>\n",
       "      <td>Steph</td>\n",
       "      <td>665</td>\n",
       "      <td>2008-07-25 10:41:00</td>\n",
       "      <td>2086</td>\n",
       "      <td>1010</td>\n",
       "      <td>1003</td>\n",
       "      <td>2009,2010,2011,2012,2013</td>\n",
       "      <td>LuO3Bn4f3rlhyHIaNfTlnA, j9B4XdHUhDfTKVecyWQgyA...</td>\n",
       "      <td>52</td>\n",
       "      <td>...</td>\n",
       "      <td>13</td>\n",
       "      <td>10</td>\n",
       "      <td>17</td>\n",
       "      <td>3</td>\n",
       "      <td>66</td>\n",
       "      <td>96</td>\n",
       "      <td>119</td>\n",
       "      <td>119</td>\n",
       "      <td>35</td>\n",
       "      <td>18</td>\n",
       "    </tr>\n",
       "    <tr>\n",
       "      <th>3</th>\n",
       "      <td>SZDeASXq7o05mMNLshsdIA</td>\n",
       "      <td>Gwen</td>\n",
       "      <td>224</td>\n",
       "      <td>2005-11-29 04:38:33</td>\n",
       "      <td>512</td>\n",
       "      <td>330</td>\n",
       "      <td>299</td>\n",
       "      <td>2009,2010,2011</td>\n",
       "      <td>enx1vVPnfdNUdPho6PH_wg, 4wOcvMLtU6a9Lslggq74Vg...</td>\n",
       "      <td>28</td>\n",
       "      <td>...</td>\n",
       "      <td>4</td>\n",
       "      <td>1</td>\n",
       "      <td>6</td>\n",
       "      <td>2</td>\n",
       "      <td>12</td>\n",
       "      <td>16</td>\n",
       "      <td>26</td>\n",
       "      <td>26</td>\n",
       "      <td>10</td>\n",
       "      <td>9</td>\n",
       "    </tr>\n",
       "    <tr>\n",
       "      <th>4</th>\n",
       "      <td>hA5lMy-EnncsH4JoR-hFGQ</td>\n",
       "      <td>Karen</td>\n",
       "      <td>79</td>\n",
       "      <td>2007-01-05 19:40:59</td>\n",
       "      <td>29</td>\n",
       "      <td>15</td>\n",
       "      <td>7</td>\n",
       "      <td></td>\n",
       "      <td>PBK4q9KEEBHhFvSXCUirIw, 3FWPpM7KU1gXeOM_ZbYMbA...</td>\n",
       "      <td>1</td>\n",
       "      <td>...</td>\n",
       "      <td>1</td>\n",
       "      <td>0</td>\n",
       "      <td>0</td>\n",
       "      <td>0</td>\n",
       "      <td>1</td>\n",
       "      <td>1</td>\n",
       "      <td>0</td>\n",
       "      <td>0</td>\n",
       "      <td>0</td>\n",
       "      <td>0</td>\n",
       "    </tr>\n",
       "    <tr>\n",
       "      <th>...</th>\n",
       "      <td>...</td>\n",
       "      <td>...</td>\n",
       "      <td>...</td>\n",
       "      <td>...</td>\n",
       "      <td>...</td>\n",
       "      <td>...</td>\n",
       "      <td>...</td>\n",
       "      <td>...</td>\n",
       "      <td>...</td>\n",
       "      <td>...</td>\n",
       "      <td>...</td>\n",
       "      <td>...</td>\n",
       "      <td>...</td>\n",
       "      <td>...</td>\n",
       "      <td>...</td>\n",
       "      <td>...</td>\n",
       "      <td>...</td>\n",
       "      <td>...</td>\n",
       "      <td>...</td>\n",
       "      <td>...</td>\n",
       "      <td>...</td>\n",
       "    </tr>\n",
       "    <tr>\n",
       "      <th>1987892</th>\n",
       "      <td>fB3jbHi3m0L2KgGOxBv6uw</td>\n",
       "      <td>Jerrold</td>\n",
       "      <td>23</td>\n",
       "      <td>2015-01-06 00:31:31</td>\n",
       "      <td>7</td>\n",
       "      <td>0</td>\n",
       "      <td>0</td>\n",
       "      <td></td>\n",
       "      <td>None</td>\n",
       "      <td>0</td>\n",
       "      <td>...</td>\n",
       "      <td>0</td>\n",
       "      <td>0</td>\n",
       "      <td>0</td>\n",
       "      <td>0</td>\n",
       "      <td>0</td>\n",
       "      <td>0</td>\n",
       "      <td>0</td>\n",
       "      <td>0</td>\n",
       "      <td>0</td>\n",
       "      <td>0</td>\n",
       "    </tr>\n",
       "    <tr>\n",
       "      <th>1987893</th>\n",
       "      <td>68czcr4BxJyMQ9cJBm6C7Q</td>\n",
       "      <td>Jane</td>\n",
       "      <td>1</td>\n",
       "      <td>2016-06-14 07:20:52</td>\n",
       "      <td>0</td>\n",
       "      <td>0</td>\n",
       "      <td>0</td>\n",
       "      <td></td>\n",
       "      <td>None</td>\n",
       "      <td>0</td>\n",
       "      <td>...</td>\n",
       "      <td>0</td>\n",
       "      <td>0</td>\n",
       "      <td>0</td>\n",
       "      <td>0</td>\n",
       "      <td>0</td>\n",
       "      <td>0</td>\n",
       "      <td>0</td>\n",
       "      <td>0</td>\n",
       "      <td>0</td>\n",
       "      <td>0</td>\n",
       "    </tr>\n",
       "    <tr>\n",
       "      <th>1987894</th>\n",
       "      <td>1x3KMskYxOuJCjRz70xOqQ</td>\n",
       "      <td>Shomari</td>\n",
       "      <td>4</td>\n",
       "      <td>2017-02-04 15:31:58</td>\n",
       "      <td>1</td>\n",
       "      <td>1</td>\n",
       "      <td>0</td>\n",
       "      <td></td>\n",
       "      <td>None</td>\n",
       "      <td>0</td>\n",
       "      <td>...</td>\n",
       "      <td>0</td>\n",
       "      <td>0</td>\n",
       "      <td>0</td>\n",
       "      <td>0</td>\n",
       "      <td>0</td>\n",
       "      <td>0</td>\n",
       "      <td>0</td>\n",
       "      <td>0</td>\n",
       "      <td>0</td>\n",
       "      <td>0</td>\n",
       "    </tr>\n",
       "    <tr>\n",
       "      <th>1987895</th>\n",
       "      <td>ulfGl4tdbrH05xKzh5lnog</td>\n",
       "      <td>Susanne</td>\n",
       "      <td>2</td>\n",
       "      <td>2011-01-14 00:29:08</td>\n",
       "      <td>0</td>\n",
       "      <td>0</td>\n",
       "      <td>0</td>\n",
       "      <td></td>\n",
       "      <td>None</td>\n",
       "      <td>0</td>\n",
       "      <td>...</td>\n",
       "      <td>0</td>\n",
       "      <td>0</td>\n",
       "      <td>0</td>\n",
       "      <td>0</td>\n",
       "      <td>0</td>\n",
       "      <td>0</td>\n",
       "      <td>0</td>\n",
       "      <td>0</td>\n",
       "      <td>0</td>\n",
       "      <td>0</td>\n",
       "    </tr>\n",
       "    <tr>\n",
       "      <th>1987896</th>\n",
       "      <td>wL5jPrLRVCK_Pmo4lM1zpA</td>\n",
       "      <td>Isa</td>\n",
       "      <td>2</td>\n",
       "      <td>2020-12-19 02:32:39</td>\n",
       "      <td>0</td>\n",
       "      <td>0</td>\n",
       "      <td>0</td>\n",
       "      <td></td>\n",
       "      <td>None</td>\n",
       "      <td>0</td>\n",
       "      <td>...</td>\n",
       "      <td>0</td>\n",
       "      <td>0</td>\n",
       "      <td>0</td>\n",
       "      <td>0</td>\n",
       "      <td>0</td>\n",
       "      <td>0</td>\n",
       "      <td>0</td>\n",
       "      <td>0</td>\n",
       "      <td>0</td>\n",
       "      <td>0</td>\n",
       "    </tr>\n",
       "  </tbody>\n",
       "</table>\n",
       "<p>1987897 rows × 22 columns</p>\n",
       "</div>"
      ],
      "text/plain": [
       "                        user_id     name  review_count        yelping_since  \\\n",
       "0        qVc8ODYU5SZjKXVBgXdI7w   Walker           585  2007-01-25 16:47:26   \n",
       "1        j14WgRoU_-2ZE1aw1dXrJg   Daniel          4333  2009-01-25 04:35:42   \n",
       "2        2WnXYQFK0hXEoTxPtV2zvg    Steph           665  2008-07-25 10:41:00   \n",
       "3        SZDeASXq7o05mMNLshsdIA     Gwen           224  2005-11-29 04:38:33   \n",
       "4        hA5lMy-EnncsH4JoR-hFGQ    Karen            79  2007-01-05 19:40:59   \n",
       "...                         ...      ...           ...                  ...   \n",
       "1987892  fB3jbHi3m0L2KgGOxBv6uw  Jerrold            23  2015-01-06 00:31:31   \n",
       "1987893  68czcr4BxJyMQ9cJBm6C7Q     Jane             1  2016-06-14 07:20:52   \n",
       "1987894  1x3KMskYxOuJCjRz70xOqQ  Shomari             4  2017-02-04 15:31:58   \n",
       "1987895  ulfGl4tdbrH05xKzh5lnog  Susanne             2  2011-01-14 00:29:08   \n",
       "1987896  wL5jPrLRVCK_Pmo4lM1zpA      Isa             2  2020-12-19 02:32:39   \n",
       "\n",
       "         useful  funny   cool  \\\n",
       "0          7217   1259   5994   \n",
       "1         43091  13066  27281   \n",
       "2          2086   1010   1003   \n",
       "3           512    330    299   \n",
       "4            29     15      7   \n",
       "...         ...    ...    ...   \n",
       "1987892       7      0      0   \n",
       "1987893       0      0      0   \n",
       "1987894       1      1      0   \n",
       "1987895       0      0      0   \n",
       "1987896       0      0      0   \n",
       "\n",
       "                                                     elite  \\\n",
       "0                                                     2007   \n",
       "1        2009,2010,2011,2012,2013,2014,2015,2016,2017,2...   \n",
       "2                                 2009,2010,2011,2012,2013   \n",
       "3                                           2009,2010,2011   \n",
       "4                                                            \n",
       "...                                                    ...   \n",
       "1987892                                                      \n",
       "1987893                                                      \n",
       "1987894                                                      \n",
       "1987895                                                      \n",
       "1987896                                                      \n",
       "\n",
       "                                                   friends  fans  ...  \\\n",
       "0        NSCy54eWehBJyZdG2iE84w, pe42u7DcCH2QmI81NX-8qA...   267  ...   \n",
       "1        ueRPE0CX75ePGMqOFVj6IQ, 52oH4DrRvzzl8wh5UXyU0A...  3138  ...   \n",
       "2        LuO3Bn4f3rlhyHIaNfTlnA, j9B4XdHUhDfTKVecyWQgyA...    52  ...   \n",
       "3        enx1vVPnfdNUdPho6PH_wg, 4wOcvMLtU6a9Lslggq74Vg...    28  ...   \n",
       "4        PBK4q9KEEBHhFvSXCUirIw, 3FWPpM7KU1gXeOM_ZbYMbA...     1  ...   \n",
       "...                                                    ...   ...  ...   \n",
       "1987892                                               None     0  ...   \n",
       "1987893                                               None     0  ...   \n",
       "1987894                                               None     0  ...   \n",
       "1987895                                               None     0  ...   \n",
       "1987896                                               None     0  ...   \n",
       "\n",
       "         compliment_more  compliment_profile  compliment_cute  \\\n",
       "0                     65                  55               56   \n",
       "1                    264                 184              157   \n",
       "2                     13                  10               17   \n",
       "3                      4                   1                6   \n",
       "4                      1                   0                0   \n",
       "...                  ...                 ...              ...   \n",
       "1987892                0                   0                0   \n",
       "1987893                0                   0                0   \n",
       "1987894                0                   0                0   \n",
       "1987895                0                   0                0   \n",
       "1987896                0                   0                0   \n",
       "\n",
       "         compliment_list  compliment_note  compliment_plain  compliment_cool  \\\n",
       "0                     18              232               844              467   \n",
       "1                    251             1847              7054             3131   \n",
       "2                      3               66                96              119   \n",
       "3                      2               12                16               26   \n",
       "4                      0                1                 1                0   \n",
       "...                  ...              ...               ...              ...   \n",
       "1987892                0                0                 0                0   \n",
       "1987893                0                0                 0                0   \n",
       "1987894                0                0                 0                0   \n",
       "1987895                0                0                 0                0   \n",
       "1987896                0                0                 0                0   \n",
       "\n",
       "         compliment_funny  compliment_writer  compliment_photos  \n",
       "0                     467                239                180  \n",
       "1                    3131               1521               1946  \n",
       "2                     119                 35                 18  \n",
       "3                      26                 10                  9  \n",
       "4                       0                  0                  0  \n",
       "...                   ...                ...                ...  \n",
       "1987892                 0                  0                  0  \n",
       "1987893                 0                  0                  0  \n",
       "1987894                 0                  0                  0  \n",
       "1987895                 0                  0                  0  \n",
       "1987896                 0                  0                  0  \n",
       "\n",
       "[1987897 rows x 22 columns]"
      ]
     },
     "execution_count": 5,
     "metadata": {},
     "output_type": "execute_result"
    }
   ],
   "source": [
    "import pandas as pd\n",
    "import numpy as np\n",
    "\n",
    "from UtilityFunctions.get_data_path import get_path\n",
    "from UtilityFunctions.flatten_dict import flatten_dictionary\n",
    "\n",
    "biz = pd.read_json(get_path(\"yelp_academic_dataset_business.json\"), lines=True)\n",
    "usr = pd.read_json(get_path(\"yelp_academic_dataset_user.json\"), lines=True)\n",
    "usr"
   ]
  },
  {
   "cell_type": "code",
   "execution_count": 108,
   "metadata": {
    "collapsed": false,
    "pycharm": {
     "name": "#%%\n"
    }
   },
   "outputs": [],
   "source": [
    "biz"
   ]
  },
  {
   "cell_type": "code",
   "execution_count": 3,
   "metadata": {
    "collapsed": false,
    "pycharm": {
     "name": "#%%\n"
    }
   },
   "outputs": [
    {
     "name": "stdout",
     "output_type": "stream",
     "text": [
      "150346\n"
     ]
    }
   ],
   "source": [
    "# Number of businesses\n",
    "query = \"\"\"\n",
    "\n",
    "SELECT COUNT(?biz)\n",
    "FROM\n",
    "WHERE {\n",
    "?biz rdfs:Class schema:LocalBusiness .\n",
    "}\n",
    "\n",
    "\"\"\"\n",
    "\n",
    "len(biz[\"business_id\"].unique())"
   ]
  },
  {
   "cell_type": "code",
   "execution_count": 6,
   "metadata": {
    "collapsed": false,
    "pycharm": {
     "name": "#%%\n"
    }
   },
   "outputs": [
    {
     "data": {
      "text/plain": [
       "1987897"
      ]
     },
     "execution_count": 6,
     "metadata": {},
     "output_type": "execute_result"
    }
   ],
   "source": [
    "# Number of users\n",
    "query = \"\"\"\n",
    "\n",
    "SELECT COUNT(?users)\n",
    "FROM\n",
    "WHERE {\n",
    "?user rdfs:Class schema:Person .\n",
    "}\n",
    "\"\"\"\n",
    "\n",
    "len(usr[\"user_id\"].unique())"
   ]
  },
  {
   "cell_type": "code",
   "execution_count": 63,
   "metadata": {
    "collapsed": false,
    "pycharm": {
     "name": "#%%\n"
    }
   },
   "outputs": [
    {
     "data": {
      "text/plain": [
       "108"
      ]
     },
     "execution_count": 63,
     "metadata": {},
     "output_type": "execute_result"
    }
   ],
   "source": [
    "# Number of unique predicates\n",
    "query = \"\"\"\n",
    "\n",
    "SELECT DISTINCT ?p\n",
    "FROM\n",
    "WHERE {\n",
    "?s ?p ?o .\n",
    "}\n",
    "\"\"\"\n",
    "\n",
    "# NOTE: THIS NEEDS TO BE DONE FOR ALL KG's of interest\n",
    "non_predicates = [\"business_id\", \"attributes\", \"hours\"]\n",
    "\n",
    "predicates = biz.columns\n",
    "predicates = list(predicates.drop(non_predicates))\n",
    "\n",
    "predicates += [\"url\", \"a\"]\n",
    "\n",
    "n_general_predicates = len(predicates)\n",
    "\n",
    "## ------ ##\n",
    "attribute_predicates = set()\n",
    "hour_predicates = set()\n",
    "\n",
    "for i in range(len(biz)):\n",
    "    if biz[\"attributes\"][i]:\n",
    "        attribute_predicates.update(flatten_dictionary(biz[\"attributes\"][i]).keys())\n",
    "    if biz[\"hours\"][i]:\n",
    "        hour_predicates.update(flatten_dictionary(biz[\"hours\"][i]).keys())\n",
    "\n",
    "n_attribute_predicates = len(attribute_predicates)\n",
    "n_hour_predicates = len(hour_predicates)\n",
    "\n",
    "n_general_predicates + n_attribute_predicates + n_hour_predicates"
   ]
  },
  {
   "cell_type": "markdown",
   "metadata": {
    "collapsed": false,
    "pycharm": {
     "name": "#%% md\n"
    }
   },
   "source": [
    "##### Star ratings"
   ]
  },
  {
   "cell_type": "code",
   "execution_count": 82,
   "metadata": {
    "collapsed": false,
    "pycharm": {
     "name": "#%%\n"
    }
   },
   "outputs": [
    {
     "data": {
      "text/plain": [
       "stars\n",
       "1.0    AxesSubplot(0.125,0.125;0.775x0.755)\n",
       "1.5    AxesSubplot(0.125,0.125;0.775x0.755)\n",
       "2.0    AxesSubplot(0.125,0.125;0.775x0.755)\n",
       "2.5    AxesSubplot(0.125,0.125;0.775x0.755)\n",
       "3.0    AxesSubplot(0.125,0.125;0.775x0.755)\n",
       "3.5    AxesSubplot(0.125,0.125;0.775x0.755)\n",
       "4.0    AxesSubplot(0.125,0.125;0.775x0.755)\n",
       "4.5    AxesSubplot(0.125,0.125;0.775x0.755)\n",
       "5.0    AxesSubplot(0.125,0.125;0.775x0.755)\n",
       "Name: stars, dtype: object"
      ]
     },
     "execution_count": 82,
     "metadata": {},
     "output_type": "execute_result"
    },
    {
     "data": {
      "image/png": "[encoded data removed]",
      "text/plain": [
       "<Figure size 432x288 with 1 Axes>"
      ]
     },
     "metadata": {
      "needs_background": "light"
     },
     "output_type": "display_data"
    }
   ],
   "source": [
    "# Rate distribution\n",
    "query = \"\"\"\n",
    "\n",
    "SELECT ?rating COUNT(?biz)\n",
    "FROM\n",
    "WHERE {\n",
    "?biz rdfs:Class schema:LocalBusiness .\n",
    "?biz schema:starRating ?rating .\n",
    "}\n",
    "GROUP BY ?rating\n",
    "\n",
    "\"\"\"\n",
    "\n",
    "biz.groupby('stars')['stars'].hist()#count()"
   ]
  },
  {
   "cell_type": "code",
   "execution_count": 68,
   "metadata": {
    "collapsed": false,
    "pycharm": {
     "name": "#%%\n"
    }
   },
   "outputs": [
    {
     "name": "stdout",
     "output_type": "stream",
     "text": [
      "3.5967235576603303\n"
     ]
    }
   ],
   "source": [
    "\n",
    "#Total average rating\n",
    "query = \"\"\"\n",
    "\n",
    "SELECT AVG(?rating) as ?averagerating\n",
    "FROM\n",
    "WHERE {\n",
    "?biz schema:starRating ?rating .\n",
    "}\n",
    "\n",
    "\"\"\"\n",
    "\n",
    "biz['stars'].mean()"
   ]
  },
  {
   "cell_type": "markdown",
   "metadata": {
    "collapsed": false,
    "pycharm": {
     "name": "#%% md\n"
    }
   },
   "source": [
    "##### Geographical areas"
   ]
  },
  {
   "cell_type": "code",
   "execution_count": 86,
   "metadata": {
    "collapsed": false,
    "pycharm": {
     "name": "#%%\n"
    }
   },
   "outputs": [
    {
     "data": {
      "text/plain": [
       "169"
      ]
     },
     "execution_count": 86,
     "metadata": {},
     "output_type": "execute_result"
    }
   ],
   "source": [
    "#Number of businesses in different regions\n",
    "query = \"\"\"\n",
    "\n",
    "SELECT ?state COUNT(?biz)\n",
    "FROM\n",
    "WHERE {\n",
    "?biz rdfs:Class schema:LocalBusiness .\n",
    "?biz schema:adressRegion ?state .\n",
    "}\n",
    "GROUP BY ?state\n",
    "\n",
    "\"\"\"\n",
    "\n",
    "biz[\"business_id\"][biz[\"city\"] == \"Abington\"].unique().size"
   ]
  },
  {
   "cell_type": "code",
   "execution_count": 100,
   "metadata": {
    "collapsed": false,
    "pycharm": {
     "name": "#%%\n"
    }
   },
   "outputs": [
    {
     "data": {
      "text/plain": [
       "'MA'"
      ]
     },
     "execution_count": 100,
     "metadata": {},
     "output_type": "execute_result"
    }
   ],
   "source": [
    "# Area with lowest average rating\n",
    "query = \"\"\"\n",
    "\n",
    "SELECT ?state AVG(?rating) as ?averagerating\n",
    "FROM\n",
    "WHERE {\n",
    "?biz schema:adressRegion ?state .\n",
    "?biz schema:starRating ?rating .\n",
    "}\n",
    "GROUP BY ?state\n",
    "ORDER BY DESC(?averagerating)\n",
    "\n",
    "\"\"\"\n",
    "\n",
    "biz.groupby(\"state\")['stars'].mean().sort_values().index[0]#.min()"
   ]
  },
  {
   "cell_type": "markdown",
   "metadata": {
    "collapsed": false,
    "pycharm": {
     "name": "#%% md\n"
    }
   },
   "source": [
    "##### Categories"
   ]
  },
  {
   "cell_type": "code",
   "execution_count": null,
   "metadata": {
    "collapsed": false,
    "pycharm": {
     "name": "#%%\n"
    }
   },
   "outputs": [],
   "source": [
    "# Different categories and numbers of businesses with that category\n",
    "query = \"\"\"\n",
    "\n",
    "SELECT ?category COUNT(?biz)\n",
    "FROM\n",
    "WHERE {\n",
    "    ?biz schema:category ?category .\n",
    "}\n",
    "GROUP BY ?category\n",
    "\n",
    "\"\"\"\n",
    "\n",
    "def str_split(string):\n",
    "    if isinstance(string, str):\n",
    "        return string.split(\", \")\n",
    "    else:\n",
    "        return string\n",
    "\n",
    "\n",
    "biz[\"categories\"] = biz[\"categories\"].apply(str_split)\n",
    "\n",
    "category_biz_count = {}\n",
    "for i in range(len(biz)):\n",
    "    if biz[\"categories\"][i]:\n",
    "        for category in biz[\"categories\"][i]:\n",
    "            category_biz_count[category] = category_biz_count.get(category, 0) + 1\n",
    "\n",
    "category_biz_count[\"Restaurants\"]"
   ]
  }
 ],
 "metadata": {
  "kernelspec": {
   "display_name": "Python 3",
   "language": "python",
   "name": "python3"
  },
  "language_info": {
   "codemirror_mode": {
    "name": "ipython",
    "version": 2
   },
   "file_extension": ".py",
   "mimetype": "text/x-python",
   "name": "python",
   "nbconvert_exporter": "python",
   "pygments_lexer": "ipython2",
   "version": "2.7.6"
  }
 },
 "nbformat": 4,
 "nbformat_minor": 0
}
