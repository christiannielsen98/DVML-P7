{
 "cells": [
  {
   "cell_type": "code",
   "execution_count": 1,
   "metadata": {
    "collapsed": true
   },
   "outputs": [],
   "source": [
    "import pandas as pd\n",
    "import spacy\n",
    "\n",
    "from UtilityFunctions.get_data_path import get_path"
   ]
  },
  {
   "cell_type": "code",
   "execution_count": 16,
   "outputs": [],
   "source": [
    "def long_com_substring(st1, st2):\n",
    "    \"\"\"\n",
    "    :param st1: The string we want to check for.\n",
    "    :param st2: The string we check longest substring (st1) in.\n",
    "    :return: Returns the length of the longest substring\n",
    "    \"\"\"\n",
    "\n",
    "    ans = 0\n",
    "    for a in range(len(st1)):\n",
    "        for b in range(len(st2)):\n",
    "            k = 0\n",
    "            while (a + k) < len(st1) and (b + k) < len(st2) and st1[a + k] == st2[b + k]:\n",
    "                k = k + 1\n",
    "            ans = max(ans, k)\n",
    "\n",
    "    return ans"
   ],
   "metadata": {
    "collapsed": false,
    "pycharm": {
     "name": "#%%\n"
    }
   }
  },
  {
   "cell_type": "code",
   "execution_count": 17,
   "outputs": [],
   "source": [
    "def get_classes(entity: str):\n",
    "    \"\"\"\n",
    "    :param entity: The RDF entity we want to check if it has a possible type in schema.org\n",
    "    :return: The type to add as a class to the entity.\n",
    "    \"\"\"\n",
    "\n",
    "\n",
    "    possible_classes = dict()\n",
    "    entity_length = len(entity)\n",
    "\n",
    "\n",
    "    for _type in list(schema['label']): # schema_classes['label'] is all types in schema.org\n",
    "        if long_com_substring(entity, _type) >= entity_length * 0.9:\n",
    "            # If the longest common substring between the entity and schema.org types is similar with 90 %,\n",
    "            # we add the type as key and the ratio between the two strings as value.\n",
    "            ratio = entity_length / len(_type)\n",
    "            possible_classes[_type] = ratio\n",
    "\n",
    "    if possible_classes:  # An empty dict will return False\n",
    "        best_pos_class = max(possible_classes, key=possible_classes.get)  # Get the schema.org type with highest ratio\n",
    "        best_pos_class_superclass = schema[schema['label'] == best_pos_class]['subTypeOf'] # Checks if the best_pos_class has a super type\n",
    "        if best_pos_class_superclass:  # If we have a value here\n",
    "            return schema + best_pos_class, schema + best_pos_class_superclass\n",
    "        else:\n",
    "            return schema + best_pos_class, None  # Return the highest ratio key as the entities type.\n",
    "    else:\n",
    "        return schema + 'LocalBusiness', None"
   ],
   "metadata": {
    "collapsed": false,
    "pycharm": {
     "name": "#%%\n"
    }
   }
  },
  {
   "cell_type": "code",
   "execution_count": 25,
   "outputs": [],
   "source": [
    "def str_split(string):\n",
    "    if isinstance(string, str):\n",
    "        return string.split(\", \")\n",
    "    else:\n",
    "        return string\n",
    "\n",
    "\n",
    "def get_class_mapping(file):\n",
    "    biz = pd.read_json(file, lines=True)#[\"categories\"]\n",
    "    schema = pd.read_csv(get_path(\"schemaorg-current-https-types.csv\"))[[\"label\", \"subTypeOf\"]]\n",
    "\n",
    "    biz[\"categories\"] = biz[\"categories\"].apply(str_split)\n",
    "    schema[\"subTypeOf\"] = schema[\"subTypeOf\"].str.replace(\"https://schema.org/\", \"\", regex=False)\n",
    "\n",
    "    categories = list({num for sublist in biz[\"categories\"].tolist() if sublist for num in sublist})\n",
    "\n",
    "    category_mapping = dict()\n",
    "\n",
    "    for category in categories:\n",
    "        category_length = len(category)\n",
    "        possible_classes = dict()\n",
    "\n",
    "        for schema_type in schema[\"label\"]:\n",
    "            if long_com_substring(category, schema_type) >= category_length * 0.90:\n",
    "                ratio = category_length / len(schema_type)\n",
    "                if ratio >= 0.25:\n",
    "                    possible_classes[schema_type] = ratio\n",
    "\n",
    "        if possible_classes:  # An empty dict will return False\n",
    "            best_pos_class = max(possible_classes, key=possible_classes.get)  # Get the schema.org type with highest ratio\n",
    "            best_pos_class_superclass = schema[schema['label'] == best_pos_class]['subTypeOf'].values[0] # Checks if the best_pos_class has a super type\n",
    "            if isinstance(best_pos_class_superclass, float):\n",
    "                best_pos_class_superclass = None\n",
    "\n",
    "            category_mapping[category] = [best_pos_class, best_pos_class_superclass]\n",
    "\n",
    "    return category_mapping  # Dict -> category: [mapping, subtype]"
   ],
   "metadata": {
    "collapsed": false,
    "pycharm": {
     "name": "#%%\n"
    }
   }
  },
  {
   "cell_type": "code",
   "execution_count": 26,
   "outputs": [
    {
     "data": {
      "text/plain": "{'Electricians': ['Electrician', 'HomeAndConstructionBusiness'],\n 'Preschools': ['Preschool', 'EducationalOrganization'],\n 'Used': ['UsedCondition', 'OfferItemCondition'],\n 'Experiences': ['PatientExperienceHealthAspect', 'HealthAspectEnumeration'],\n 'Campgrounds': ['Campground', 'CivicStructure, LodgingBusiness'],\n 'Playgrounds': ['Playground', 'CivicStructure'],\n 'Synagogues': ['Synagogue', 'PlaceOfWorship'],\n 'Halal': ['HalalDiet', 'RestrictedDiet'],\n 'Vegetarian': ['VegetarianDiet', 'RestrictedDiet'],\n 'Pharmacy': ['Pharmacy', 'MedicalBusiness, MedicalOrganization'],\n 'Chinese': ['TraditionalChinese', 'MedicineSystem'],\n 'Jewelry': ['JewelryStore', 'Store'],\n 'Vegan': ['VeganDiet', 'RestrictedDiet'],\n 'Insurance': ['InsuranceAgency', 'FinancialService'],\n 'Kosher': ['KosherDiet', 'RestrictedDiet'],\n 'Golf': ['GolfCourse', 'SportsActivityLocation'],\n 'Shopping': ['ShoppingCenter', 'LocalBusiness'],\n 'Apartments': ['Apartment', 'Accommodation'],\n 'Automotive': ['AutomotiveBusiness', 'LocalBusiness'],\n 'Bowling': ['BowlingAlley', 'SportsActivityLocation'],\n 'Restaurants': ['Restaurant', 'FoodEstablishment'],\n 'International': ['InternationalTrial', 'MedicalTrialDesign'],\n 'Courthouses': ['Courthouse', 'GovernmentBuilding'],\n 'Kiosk': ['ReturnAtKiosk', 'ReturnMethodEnumeration'],\n 'Contractors': ['GeneralContractor', 'HomeAndConstructionBusiness'],\n 'Osteopaths': ['Osteopathic', 'MedicineSystem'],\n 'Grocery': ['GroceryStore', 'Store'],\n 'Electronics': ['ElectronicsStore', 'Store'],\n 'Education': ['EducationEvent', 'Event'],\n 'Food': ['FoodEvent', 'Event'],\n 'Tattoo': ['TattooParlor', 'HealthAndBeautyBusiness'],\n 'Embassy': ['Embassy', 'GovernmentBuilding'],\n 'Tennis': ['TennisComplex', 'SportsActivityLocation'],\n 'Parking': ['ParkingMap', 'MapCategoryType'],\n 'Roofing': ['RoofingContractor', 'HomeAndConstructionBusiness'],\n 'Adult': ['AdultEntertainment', 'EntertainmentBusiness']}"
     },
     "execution_count": 26,
     "metadata": {},
     "output_type": "execute_result"
    }
   ],
   "source": [
    "with open(file=get_path(\"yelp_academic_dataset_business.json\"), mode=\"r\") as file:\n",
    "    res = get_class_mapping(file)\n",
    "\n",
    "res"
   ],
   "metadata": {
    "collapsed": false,
    "pycharm": {
     "name": "#%%\n"
    }
   }
  },
  {
   "cell_type": "code",
   "execution_count": 22,
   "outputs": [],
   "source": [
    "biz = pd.read_json(get_path(\"yelp_academic_dataset_business.json\"), lines=True)\n",
    "\n",
    "schema = pd.read_csv(get_path(\"schemaorg-current-https-types.csv\"))"
   ],
   "metadata": {
    "collapsed": false,
    "pycharm": {
     "name": "#%%\n"
    }
   }
  },
  {
   "cell_type": "code",
   "execution_count": 23,
   "outputs": [
    {
     "data": {
      "text/plain": "                                         id               label  \\\n0                https://schema.org/3DModel             3DModel   \n1         https://schema.org/AMRadioChannel      AMRadioChannel   \n2           https://schema.org/APIReference        APIReference   \n3                https://schema.org/Abdomen             Abdomen   \n4              https://schema.org/AboutPage           AboutPage   \n...                                     ...                 ...   \n1348     https://schema.org/WritePermission     WritePermission   \n1349           https://schema.org/XPathType           XPathType   \n1350                https://schema.org/XRay                XRay   \n1351  https://schema.org/ZoneBoardingPolicy  ZoneBoardingPolicy   \n1352                 https://schema.org/Zoo                 Zoo   \n\n                                                comment  \\\n0     A 3D model represents some kind of 3D content,...   \n1                         A radio channel that uses AM.   \n2     Reference documentation for application progra...   \n3                         Abdomen clinical examination.   \n4                            Web page type: About page.   \n...                                                 ...   \n1348          Permission to write or edit the document.   \n1349  Text representing an XPath (typically but not ...   \n1350                                     X-ray imaging.   \n1351          The airline boards by zones of the plane.   \n1352                                             A zoo.   \n\n                                             subTypeOf  \\\n0                       https://schema.org/MediaObject   \n1                      https://schema.org/RadioChannel   \n2                       https://schema.org/TechArticle   \n3                      https://schema.org/PhysicalExam   \n4                           https://schema.org/WebPage   \n...                                                ...   \n1348  https://schema.org/DigitalDocumentPermissionType   \n1349                           https://schema.org/Text   \n1350        https://schema.org/MedicalImagingTechnique   \n1351             https://schema.org/BoardingPolicyType   \n1352                 https://schema.org/CivicStructure   \n\n                                       enumerationtype equivalentClass  \\\n0                                                  NaN             NaN   \n1                                                  NaN             NaN   \n2                                                  NaN             NaN   \n3                      https://schema.org/PhysicalExam             NaN   \n4                                                  NaN             NaN   \n...                                                ...             ...   \n1348  https://schema.org/DigitalDocumentPermissionType             NaN   \n1349                                               NaN             NaN   \n1350        https://schema.org/MedicalImagingTechnique             NaN   \n1351             https://schema.org/BoardingPolicyType             NaN   \n1352                                               NaN             NaN   \n\n                                             properties subTypes supersedes  \\\n0     https://schema.org/about, https://schema.org/a...      NaN        NaN   \n1     https://schema.org/additionalType, https://sch...      NaN        NaN   \n2     https://schema.org/about, https://schema.org/a...      NaN        NaN   \n3                                                   NaN      NaN        NaN   \n4     https://schema.org/about, https://schema.org/a...      NaN        NaN   \n...                                                 ...      ...        ...   \n1348                                                NaN      NaN        NaN   \n1349                                                NaN      NaN        NaN   \n1350                                                NaN      NaN        NaN   \n1351                                                NaN      NaN        NaN   \n1352  https://schema.org/additionalProperty, https:/...      NaN        NaN   \n\n     supersededBy  isPartOf  \n0             NaN       NaN  \n1             NaN       NaN  \n2             NaN       NaN  \n3             NaN       NaN  \n4             NaN       NaN  \n...           ...       ...  \n1348          NaN       NaN  \n1349          NaN       NaN  \n1350          NaN       NaN  \n1351          NaN       NaN  \n1352          NaN       NaN  \n\n[1353 rows x 11 columns]",
      "text/html": "<div>\n<style scoped>\n    .dataframe tbody tr th:only-of-type {\n        vertical-align: middle;\n    }\n\n    .dataframe tbody tr th {\n        vertical-align: top;\n    }\n\n    .dataframe thead th {\n        text-align: right;\n    }\n</style>\n<table border=\"1\" class=\"dataframe\">\n  <thead>\n    <tr style=\"text-align: right;\">\n      <th></th>\n      <th>id</th>\n      <th>label</th>\n      <th>comment</th>\n      <th>subTypeOf</th>\n      <th>enumerationtype</th>\n      <th>equivalentClass</th>\n      <th>properties</th>\n      <th>subTypes</th>\n      <th>supersedes</th>\n      <th>supersededBy</th>\n      <th>isPartOf</th>\n    </tr>\n  </thead>\n  <tbody>\n    <tr>\n      <th>0</th>\n      <td>https://schema.org/3DModel</td>\n      <td>3DModel</td>\n      <td>A 3D model represents some kind of 3D content,...</td>\n      <td>https://schema.org/MediaObject</td>\n      <td>NaN</td>\n      <td>NaN</td>\n      <td>https://schema.org/about, https://schema.org/a...</td>\n      <td>NaN</td>\n      <td>NaN</td>\n      <td>NaN</td>\n      <td>NaN</td>\n    </tr>\n    <tr>\n      <th>1</th>\n      <td>https://schema.org/AMRadioChannel</td>\n      <td>AMRadioChannel</td>\n      <td>A radio channel that uses AM.</td>\n      <td>https://schema.org/RadioChannel</td>\n      <td>NaN</td>\n      <td>NaN</td>\n      <td>https://schema.org/additionalType, https://sch...</td>\n      <td>NaN</td>\n      <td>NaN</td>\n      <td>NaN</td>\n      <td>NaN</td>\n    </tr>\n    <tr>\n      <th>2</th>\n      <td>https://schema.org/APIReference</td>\n      <td>APIReference</td>\n      <td>Reference documentation for application progra...</td>\n      <td>https://schema.org/TechArticle</td>\n      <td>NaN</td>\n      <td>NaN</td>\n      <td>https://schema.org/about, https://schema.org/a...</td>\n      <td>NaN</td>\n      <td>NaN</td>\n      <td>NaN</td>\n      <td>NaN</td>\n    </tr>\n    <tr>\n      <th>3</th>\n      <td>https://schema.org/Abdomen</td>\n      <td>Abdomen</td>\n      <td>Abdomen clinical examination.</td>\n      <td>https://schema.org/PhysicalExam</td>\n      <td>https://schema.org/PhysicalExam</td>\n      <td>NaN</td>\n      <td>NaN</td>\n      <td>NaN</td>\n      <td>NaN</td>\n      <td>NaN</td>\n      <td>NaN</td>\n    </tr>\n    <tr>\n      <th>4</th>\n      <td>https://schema.org/AboutPage</td>\n      <td>AboutPage</td>\n      <td>Web page type: About page.</td>\n      <td>https://schema.org/WebPage</td>\n      <td>NaN</td>\n      <td>NaN</td>\n      <td>https://schema.org/about, https://schema.org/a...</td>\n      <td>NaN</td>\n      <td>NaN</td>\n      <td>NaN</td>\n      <td>NaN</td>\n    </tr>\n    <tr>\n      <th>...</th>\n      <td>...</td>\n      <td>...</td>\n      <td>...</td>\n      <td>...</td>\n      <td>...</td>\n      <td>...</td>\n      <td>...</td>\n      <td>...</td>\n      <td>...</td>\n      <td>...</td>\n      <td>...</td>\n    </tr>\n    <tr>\n      <th>1348</th>\n      <td>https://schema.org/WritePermission</td>\n      <td>WritePermission</td>\n      <td>Permission to write or edit the document.</td>\n      <td>https://schema.org/DigitalDocumentPermissionType</td>\n      <td>https://schema.org/DigitalDocumentPermissionType</td>\n      <td>NaN</td>\n      <td>NaN</td>\n      <td>NaN</td>\n      <td>NaN</td>\n      <td>NaN</td>\n      <td>NaN</td>\n    </tr>\n    <tr>\n      <th>1349</th>\n      <td>https://schema.org/XPathType</td>\n      <td>XPathType</td>\n      <td>Text representing an XPath (typically but not ...</td>\n      <td>https://schema.org/Text</td>\n      <td>NaN</td>\n      <td>NaN</td>\n      <td>NaN</td>\n      <td>NaN</td>\n      <td>NaN</td>\n      <td>NaN</td>\n      <td>NaN</td>\n    </tr>\n    <tr>\n      <th>1350</th>\n      <td>https://schema.org/XRay</td>\n      <td>XRay</td>\n      <td>X-ray imaging.</td>\n      <td>https://schema.org/MedicalImagingTechnique</td>\n      <td>https://schema.org/MedicalImagingTechnique</td>\n      <td>NaN</td>\n      <td>NaN</td>\n      <td>NaN</td>\n      <td>NaN</td>\n      <td>NaN</td>\n      <td>NaN</td>\n    </tr>\n    <tr>\n      <th>1351</th>\n      <td>https://schema.org/ZoneBoardingPolicy</td>\n      <td>ZoneBoardingPolicy</td>\n      <td>The airline boards by zones of the plane.</td>\n      <td>https://schema.org/BoardingPolicyType</td>\n      <td>https://schema.org/BoardingPolicyType</td>\n      <td>NaN</td>\n      <td>NaN</td>\n      <td>NaN</td>\n      <td>NaN</td>\n      <td>NaN</td>\n      <td>NaN</td>\n    </tr>\n    <tr>\n      <th>1352</th>\n      <td>https://schema.org/Zoo</td>\n      <td>Zoo</td>\n      <td>A zoo.</td>\n      <td>https://schema.org/CivicStructure</td>\n      <td>NaN</td>\n      <td>NaN</td>\n      <td>https://schema.org/additionalProperty, https:/...</td>\n      <td>NaN</td>\n      <td>NaN</td>\n      <td>NaN</td>\n      <td>NaN</td>\n    </tr>\n  </tbody>\n</table>\n<p>1353 rows × 11 columns</p>\n</div>"
     },
     "execution_count": 23,
     "metadata": {},
     "output_type": "execute_result"
    }
   ],
   "source": [
    "schema"
   ],
   "metadata": {
    "collapsed": false,
    "pycharm": {
     "name": "#%%\n"
    }
   }
  },
  {
   "cell_type": "code",
   "execution_count": 24,
   "outputs": [
    {
     "data": {
      "text/plain": "894    https://schema.org/MedicalBusiness, https://sc...\nName: subTypeOf, dtype: object"
     },
     "execution_count": 24,
     "metadata": {},
     "output_type": "execute_result"
    }
   ],
   "source": [
    "schema[schema['label'] == \"Pharmacy\"]['subTypeOf']"
   ],
   "metadata": {
    "collapsed": false,
    "pycharm": {
     "name": "#%%\n"
    }
   }
  },
  {
   "cell_type": "code",
   "execution_count": 56,
   "outputs": [
    {
     "data": {
      "text/plain": "float"
     },
     "execution_count": 56,
     "metadata": {},
     "output_type": "execute_result"
    }
   ],
   "source": [
    "type(schema[schema['label'] == \"Date\"]['subTypeOf'].values[0])"
   ],
   "metadata": {
    "collapsed": false,
    "pycharm": {
     "name": "#%%\n"
    }
   }
  },
  {
   "cell_type": "code",
   "execution_count": 14,
   "outputs": [
    {
     "data": {
      "text/plain": "                   business_id                      name  \\\n0       Pns2l4eNsfO8kk83dixA6A  Abby Rappoport, LAC, CMQ   \n1       mpf3x-BjTdTEA3yCZrAYPw             The UPS Store   \n2       tUFrWirKiKi_TAnsVWINQQ                    Target   \n3       MTSW4McQd7CbVtyjqoe9mw        St Honore Pastries   \n4       mWMc6_wTdE0EUBKIGXDVfA  Perkiomen Valley Brewery   \n...                        ...                       ...   \n150341  IUQopTMmYQG-qRtBk-8QnA              Binh's Nails   \n150342  c8GjPIOTGVmIemT7j5_SyQ      Wild Birds Unlimited   \n150343  _QAMST-NrQobXduilWEqSw         Claire's Boutique   \n150344  mtGm22y5c2UHNXDFAjaPNw  Cyclery & Fitness Center   \n150345  jV_XOycEzSlTx-65W906pg                   Sic Ink   \n\n                                address           city state postal_code  \\\n0                1616 Chapala St, Ste 2  Santa Barbara    CA       93101   \n1       87 Grasso Plaza Shopping Center         Affton    MO       63123   \n2                  5255 E Broadway Blvd         Tucson    AZ       85711   \n3                           935 Race St   Philadelphia    PA       19107   \n4                         101 Walnut St     Green Lane    PA       18054   \n...                                 ...            ...   ...         ...   \n150341                3388 Gateway Blvd       Edmonton    AB     T6J 5H2   \n150342               2813 Bransford Ave      Nashville    TN       37204   \n150343           6020 E 82nd St, Ste 46   Indianapolis    IN       46250   \n150344                     2472 Troy Rd   Edwardsville    IL       62025   \n150345            238 Apollo Beach Blvd   Apollo beach    FL       33572   \n\n         latitude   longitude  stars  review_count  is_open  \\\n0       34.426679 -119.711197    5.0             7        0   \n1       38.551126  -90.335695    3.0            15        1   \n2       32.223236 -110.880452    3.5            22        0   \n3       39.955505  -75.155564    4.0            80        1   \n4       40.338183  -75.471659    4.5            13        1   \n...           ...         ...    ...           ...      ...   \n150341  53.468419 -113.492054    3.0            13        1   \n150342  36.115118  -86.766925    4.0             5        1   \n150343  39.908707  -86.065088    3.5             8        1   \n150344  38.782351  -89.950558    4.0            24        1   \n150345  27.771002  -82.394910    4.5             9        1   \n\n                                               attributes  \\\n0                           {'ByAppointmentOnly': 'True'}   \n1                  {'BusinessAcceptsCreditCards': 'True'}   \n2       {'BikeParking': 'True', 'BusinessAcceptsCredit...   \n3       {'RestaurantsDelivery': 'False', 'OutdoorSeati...   \n4       {'BusinessAcceptsCreditCards': 'True', 'Wheelc...   \n...                                                   ...   \n150341  {'ByAppointmentOnly': 'False', 'RestaurantsPri...   \n150342  {'BusinessAcceptsCreditCards': 'True', 'Restau...   \n150343  {'RestaurantsPriceRange2': '1', 'BusinessAccep...   \n150344  {'BusinessParking': '{'garage': False, 'street...   \n150345  {'WheelchairAccessible': 'True', 'BusinessAcce...   \n\n                                               categories  \\\n0       [Doctors, Traditional Chinese Medicine, Naturo...   \n1       [Shipping Centers, Local Services, Notaries, M...   \n2       [Department Stores, Shopping, Fashion, Home & ...   \n3       [Restaurants, Food, Bubble Tea, Coffee & Tea, ...   \n4                             [Brewpubs, Breweries, Food]   \n...                                                   ...   \n150341                       [Nail Salons, Beauty & Spas]   \n150342  [Pets, Nurseries & Gardening, Pet Stores, Hobb...   \n150343  [Shopping, Jewelry, Piercing, Toy Stores, Beau...   \n150344  [Fitness/Exercise Equipment, Eyewear & Opticia...   \n150345  [Beauty & Spas, Permanent Makeup, Piercing, Ta...   \n\n                                                    hours  \n0                                                    None  \n1       {'Monday': '0:0-0:0', 'Tuesday': '8:0-18:30', ...  \n2       {'Monday': '8:0-22:0', 'Tuesday': '8:0-22:0', ...  \n3       {'Monday': '7:0-20:0', 'Tuesday': '7:0-20:0', ...  \n4       {'Wednesday': '14:0-22:0', 'Thursday': '16:0-2...  \n...                                                   ...  \n150341  {'Monday': '10:0-19:30', 'Tuesday': '10:0-19:3...  \n150342  {'Monday': '9:30-17:30', 'Tuesday': '9:30-17:3...  \n150343                                               None  \n150344  {'Monday': '9:0-20:0', 'Tuesday': '9:0-20:0', ...  \n150345  {'Tuesday': '12:0-19:0', 'Wednesday': '12:0-19...  \n\n[150346 rows x 14 columns]",
      "text/html": "<div>\n<style scoped>\n    .dataframe tbody tr th:only-of-type {\n        vertical-align: middle;\n    }\n\n    .dataframe tbody tr th {\n        vertical-align: top;\n    }\n\n    .dataframe thead th {\n        text-align: right;\n    }\n</style>\n<table border=\"1\" class=\"dataframe\">\n  <thead>\n    <tr style=\"text-align: right;\">\n      <th></th>\n      <th>business_id</th>\n      <th>name</th>\n      <th>address</th>\n      <th>city</th>\n      <th>state</th>\n      <th>postal_code</th>\n      <th>latitude</th>\n      <th>longitude</th>\n      <th>stars</th>\n      <th>review_count</th>\n      <th>is_open</th>\n      <th>attributes</th>\n      <th>categories</th>\n      <th>hours</th>\n    </tr>\n  </thead>\n  <tbody>\n    <tr>\n      <th>0</th>\n      <td>Pns2l4eNsfO8kk83dixA6A</td>\n      <td>Abby Rappoport, LAC, CMQ</td>\n      <td>1616 Chapala St, Ste 2</td>\n      <td>Santa Barbara</td>\n      <td>CA</td>\n      <td>93101</td>\n      <td>34.426679</td>\n      <td>-119.711197</td>\n      <td>5.0</td>\n      <td>7</td>\n      <td>0</td>\n      <td>{'ByAppointmentOnly': 'True'}</td>\n      <td>[Doctors, Traditional Chinese Medicine, Naturo...</td>\n      <td>None</td>\n    </tr>\n    <tr>\n      <th>1</th>\n      <td>mpf3x-BjTdTEA3yCZrAYPw</td>\n      <td>The UPS Store</td>\n      <td>87 Grasso Plaza Shopping Center</td>\n      <td>Affton</td>\n      <td>MO</td>\n      <td>63123</td>\n      <td>38.551126</td>\n      <td>-90.335695</td>\n      <td>3.0</td>\n      <td>15</td>\n      <td>1</td>\n      <td>{'BusinessAcceptsCreditCards': 'True'}</td>\n      <td>[Shipping Centers, Local Services, Notaries, M...</td>\n      <td>{'Monday': '0:0-0:0', 'Tuesday': '8:0-18:30', ...</td>\n    </tr>\n    <tr>\n      <th>2</th>\n      <td>tUFrWirKiKi_TAnsVWINQQ</td>\n      <td>Target</td>\n      <td>5255 E Broadway Blvd</td>\n      <td>Tucson</td>\n      <td>AZ</td>\n      <td>85711</td>\n      <td>32.223236</td>\n      <td>-110.880452</td>\n      <td>3.5</td>\n      <td>22</td>\n      <td>0</td>\n      <td>{'BikeParking': 'True', 'BusinessAcceptsCredit...</td>\n      <td>[Department Stores, Shopping, Fashion, Home &amp; ...</td>\n      <td>{'Monday': '8:0-22:0', 'Tuesday': '8:0-22:0', ...</td>\n    </tr>\n    <tr>\n      <th>3</th>\n      <td>MTSW4McQd7CbVtyjqoe9mw</td>\n      <td>St Honore Pastries</td>\n      <td>935 Race St</td>\n      <td>Philadelphia</td>\n      <td>PA</td>\n      <td>19107</td>\n      <td>39.955505</td>\n      <td>-75.155564</td>\n      <td>4.0</td>\n      <td>80</td>\n      <td>1</td>\n      <td>{'RestaurantsDelivery': 'False', 'OutdoorSeati...</td>\n      <td>[Restaurants, Food, Bubble Tea, Coffee &amp; Tea, ...</td>\n      <td>{'Monday': '7:0-20:0', 'Tuesday': '7:0-20:0', ...</td>\n    </tr>\n    <tr>\n      <th>4</th>\n      <td>mWMc6_wTdE0EUBKIGXDVfA</td>\n      <td>Perkiomen Valley Brewery</td>\n      <td>101 Walnut St</td>\n      <td>Green Lane</td>\n      <td>PA</td>\n      <td>18054</td>\n      <td>40.338183</td>\n      <td>-75.471659</td>\n      <td>4.5</td>\n      <td>13</td>\n      <td>1</td>\n      <td>{'BusinessAcceptsCreditCards': 'True', 'Wheelc...</td>\n      <td>[Brewpubs, Breweries, Food]</td>\n      <td>{'Wednesday': '14:0-22:0', 'Thursday': '16:0-2...</td>\n    </tr>\n    <tr>\n      <th>...</th>\n      <td>...</td>\n      <td>...</td>\n      <td>...</td>\n      <td>...</td>\n      <td>...</td>\n      <td>...</td>\n      <td>...</td>\n      <td>...</td>\n      <td>...</td>\n      <td>...</td>\n      <td>...</td>\n      <td>...</td>\n      <td>...</td>\n      <td>...</td>\n    </tr>\n    <tr>\n      <th>150341</th>\n      <td>IUQopTMmYQG-qRtBk-8QnA</td>\n      <td>Binh's Nails</td>\n      <td>3388 Gateway Blvd</td>\n      <td>Edmonton</td>\n      <td>AB</td>\n      <td>T6J 5H2</td>\n      <td>53.468419</td>\n      <td>-113.492054</td>\n      <td>3.0</td>\n      <td>13</td>\n      <td>1</td>\n      <td>{'ByAppointmentOnly': 'False', 'RestaurantsPri...</td>\n      <td>[Nail Salons, Beauty &amp; Spas]</td>\n      <td>{'Monday': '10:0-19:30', 'Tuesday': '10:0-19:3...</td>\n    </tr>\n    <tr>\n      <th>150342</th>\n      <td>c8GjPIOTGVmIemT7j5_SyQ</td>\n      <td>Wild Birds Unlimited</td>\n      <td>2813 Bransford Ave</td>\n      <td>Nashville</td>\n      <td>TN</td>\n      <td>37204</td>\n      <td>36.115118</td>\n      <td>-86.766925</td>\n      <td>4.0</td>\n      <td>5</td>\n      <td>1</td>\n      <td>{'BusinessAcceptsCreditCards': 'True', 'Restau...</td>\n      <td>[Pets, Nurseries &amp; Gardening, Pet Stores, Hobb...</td>\n      <td>{'Monday': '9:30-17:30', 'Tuesday': '9:30-17:3...</td>\n    </tr>\n    <tr>\n      <th>150343</th>\n      <td>_QAMST-NrQobXduilWEqSw</td>\n      <td>Claire's Boutique</td>\n      <td>6020 E 82nd St, Ste 46</td>\n      <td>Indianapolis</td>\n      <td>IN</td>\n      <td>46250</td>\n      <td>39.908707</td>\n      <td>-86.065088</td>\n      <td>3.5</td>\n      <td>8</td>\n      <td>1</td>\n      <td>{'RestaurantsPriceRange2': '1', 'BusinessAccep...</td>\n      <td>[Shopping, Jewelry, Piercing, Toy Stores, Beau...</td>\n      <td>None</td>\n    </tr>\n    <tr>\n      <th>150344</th>\n      <td>mtGm22y5c2UHNXDFAjaPNw</td>\n      <td>Cyclery &amp; Fitness Center</td>\n      <td>2472 Troy Rd</td>\n      <td>Edwardsville</td>\n      <td>IL</td>\n      <td>62025</td>\n      <td>38.782351</td>\n      <td>-89.950558</td>\n      <td>4.0</td>\n      <td>24</td>\n      <td>1</td>\n      <td>{'BusinessParking': '{'garage': False, 'street...</td>\n      <td>[Fitness/Exercise Equipment, Eyewear &amp; Opticia...</td>\n      <td>{'Monday': '9:0-20:0', 'Tuesday': '9:0-20:0', ...</td>\n    </tr>\n    <tr>\n      <th>150345</th>\n      <td>jV_XOycEzSlTx-65W906pg</td>\n      <td>Sic Ink</td>\n      <td>238 Apollo Beach Blvd</td>\n      <td>Apollo beach</td>\n      <td>FL</td>\n      <td>33572</td>\n      <td>27.771002</td>\n      <td>-82.394910</td>\n      <td>4.5</td>\n      <td>9</td>\n      <td>1</td>\n      <td>{'WheelchairAccessible': 'True', 'BusinessAcce...</td>\n      <td>[Beauty &amp; Spas, Permanent Makeup, Piercing, Ta...</td>\n      <td>{'Tuesday': '12:0-19:0', 'Wednesday': '12:0-19...</td>\n    </tr>\n  </tbody>\n</table>\n<p>150346 rows × 14 columns</p>\n</div>"
     },
     "execution_count": 14,
     "metadata": {},
     "output_type": "execute_result"
    }
   ],
   "source": [
    "biz"
   ],
   "metadata": {
    "collapsed": false,
    "pycharm": {
     "name": "#%%\n"
    }
   }
  },
  {
   "cell_type": "code",
   "execution_count": 31,
   "outputs": [],
   "source": [
    "def str_split(string):\n",
    "    if isinstance(string, str):\n",
    "        return string.split(\", \")\n",
    "    else:\n",
    "        return string\n",
    "\n",
    "biz[\"categories\"] = biz[\"categories\"].apply(str_split)\n",
    "\n",
    "categories = list({num for sublist in biz[\"categories\"].tolist() if sublist for num in sublist})"
   ],
   "metadata": {
    "collapsed": false,
    "pycharm": {
     "name": "#%%\n"
    }
   }
  },
  {
   "cell_type": "code",
   "execution_count": 32,
   "outputs": [
    {
     "data": {
      "text/plain": "['Donburi',\n 'Party Characters',\n 'Eyebrow Services',\n 'Horse Equipment Shops',\n 'Poutineries',\n 'Tacos',\n 'Sports Psychologists',\n 'Life Insurance',\n 'Hot Air Balloons',\n 'DJs',\n 'Holiday Decorating Services',\n 'Guitar Stores',\n 'Pediatric Dentists',\n 'Waffles',\n 'Musicians',\n 'Food Trucks',\n 'Boat Parts & Supplies',\n 'Beaches',\n 'Gelato',\n 'Turkish',\n 'Grilling Equipment',\n 'Arabic',\n 'Cycling Classes',\n 'Wildlife Control',\n 'Farming Equipment',\n 'Fuel Docks',\n 'Car Rental',\n 'Live/Raw Food',\n 'Home Automation',\n 'Car Wash',\n 'Medical Law',\n 'Excavation Services',\n 'Waxing',\n 'Herbs & Spices',\n 'Cardiologists',\n 'DIY Auto Shop',\n 'Interlock Systems',\n 'Drive-In Theater',\n 'Playgrounds',\n 'Condominiums',\n 'Wills',\n 'Workers Compensation Law',\n 'Coffee & Tea Supplies',\n 'Environmental Testing',\n 'Gay Bars',\n \"Men's Clothing\",\n 'Walk-in Clinics',\n 'Employment Law',\n 'Pita',\n 'Haitian',\n 'Performing Arts',\n 'Lahmacun',\n 'Observatories',\n 'Magicians',\n 'Duplication Services',\n 'RV Dealers',\n 'Oriental',\n 'Aerial Fitness',\n 'Hotels & Travel',\n 'Mexican',\n 'Vietnamese',\n 'Makeup Artists',\n 'Talent Agencies',\n 'Vitamins & Supplements',\n 'Urologists',\n 'Signmaking',\n 'Dinner Theater',\n 'Personal Injury Law',\n 'Criminal Defense Law',\n 'Tennis',\n 'Coffee Roasteries',\n 'Ferries',\n 'Auto Upholstery',\n 'Radio Stations',\n 'Traffic Ticketing Law',\n 'Concierge Medicine',\n 'Gunsmith',\n 'Sauna Installation & Repair',\n 'Boxing',\n 'Behavior Analysts',\n 'Furniture Reupholstery',\n 'Dance Wear',\n 'Home Staging',\n 'Karaoke',\n 'Pain Management',\n 'Dumplings',\n 'Home & Rental Insurance',\n 'Flyboarding',\n 'Car Dealers',\n 'Grout Services',\n 'Hospitalists',\n 'Fitness/Exercise Equipment',\n 'Bingo Halls',\n 'Patio Coverings',\n 'Funeral Services & Cemeteries',\n 'Cheese Shops',\n 'Lawyers',\n 'Personal Care Services',\n 'Travel Services',\n 'Electricians',\n 'Diamond Buyers',\n 'Orthopedists',\n 'Utilities',\n 'Moroccan',\n 'Tai Chi',\n 'Gardeners',\n 'Gas Stations',\n 'Italian',\n 'Screen Printing/T-Shirt Printing',\n 'Argentine',\n 'Traditional Chinese Medicine',\n 'Planetarium',\n 'Jazz & Blues',\n 'New Mexican Cuisine',\n 'Mailbox Centers',\n 'Bookkeepers',\n 'Water Suppliers',\n 'Carpet Dyeing',\n 'Hospice',\n 'Currency Exchange',\n 'Garage Door Services',\n 'Dermatologists',\n 'Property Management',\n 'Airport Lounges',\n 'Social Clubs',\n 'Obstetricians & Gynecologists',\n 'Tiki Bars',\n 'Laboratory Testing',\n 'Sporting Goods',\n 'Surfing',\n 'Veterinarians',\n 'Sports Betting',\n 'Damage Restoration',\n 'Gymnastics',\n 'Body Shops',\n 'Belgian',\n 'Modern European',\n 'Gluten-Free',\n 'Train Stations',\n 'Mongolian',\n 'Uniforms',\n 'Stadiums & Arenas',\n 'Shanghainese',\n 'Demolition Services',\n 'Appliances & Repair',\n 'Billing Services',\n 'Soup',\n 'Mosques',\n 'Reproductive Health Services',\n 'Hostels',\n \"Women's Clothing\",\n 'Himalayan/Nepalese',\n 'Sex Therapists',\n 'Medical Centers',\n 'Psychiatrists',\n 'Decks & Railing',\n 'Public Markets',\n 'Business Financing',\n 'Barbeque',\n 'Dentists',\n 'Alternative Medicine',\n 'Opera & Ballet',\n 'Storefront Clinics',\n 'Pop-up Shops',\n 'Photography Stores & Services',\n 'African',\n 'Restaurant Supplies',\n 'Cajun/Creole',\n 'Whale Watching Tours',\n 'Fabric Stores',\n 'Television Service Providers',\n 'Hearing Aid Providers',\n 'Fondue',\n 'Virtual Reality Centers',\n 'Religious Items',\n 'Hiking',\n 'Appliances',\n 'Discount Store',\n 'Amusement Parks',\n 'Officiants',\n 'Popcorn Shops',\n 'Food Stands',\n 'Laotian',\n 'Bubble Tea',\n 'Professional Sports Teams',\n 'Bike Shop',\n 'Interior Design',\n 'Wine Tasting Room',\n 'Vegan',\n 'Empanadas',\n 'Pet Insurance',\n 'Champagne Bars',\n 'Elevator Services',\n 'Iberian',\n 'Vintage & Consignment',\n 'Pet Photography',\n 'Cooking Classes',\n 'Memory Care',\n 'Tattoo',\n 'Holistic Animal Care',\n 'CSA',\n 'Emergency Pet Hospital',\n 'Bicycle Paths',\n 'Podiatrists',\n 'Surf Schools',\n 'Eatertainment',\n 'Psychic Mediums',\n 'Mediterranean',\n 'Leather Goods',\n 'Water Delivery',\n 'Motorcycle Parts & Supplies',\n 'Spiritual Shop',\n 'Tax Services',\n 'Walking Tours',\n 'Vinyl Records',\n 'Landscape Architects',\n 'Reflexology',\n 'Hotels',\n 'Police Departments',\n 'Post Offices',\n 'Internet Service Providers',\n 'Bartenders',\n 'Traditional Clothing',\n 'Indian',\n 'Pool Halls',\n 'Elder Law',\n 'Diving',\n 'Auto Loan Providers',\n 'Awnings',\n 'Seafood Markets',\n 'Baseball Fields',\n 'Videographers',\n 'Registration Services',\n 'Wine Tasting Classes',\n 'Shared Office Spaces',\n 'Coffeeshops',\n 'Immigration Law',\n 'Acai Bowls',\n 'Olive Oil',\n 'Boot Camps',\n 'Departments of Motor Vehicles',\n 'Home Organization',\n 'Estate Liquidation',\n 'Burmese',\n 'Golf Cart Rentals',\n 'Hydro-jetting',\n 'Nightlife',\n 'Tutoring Centers',\n 'Bookstores',\n 'Mini Golf',\n 'Golf Lessons',\n 'Mobile Phone Accessories',\n 'Food Court',\n 'Pedicabs',\n 'Bird Shops',\n 'Rugs',\n 'Cards & Stationery',\n 'Hair Salons',\n 'Nurse Practitioner',\n 'Pool & Hot Tub Service',\n 'Vacation Rental Agents',\n 'Debt Relief Services',\n 'Family Practice',\n 'Plastic Surgeons',\n 'Cosmetics & Beauty Supply',\n 'Cultural Center',\n 'Macarons',\n 'Russian',\n 'Architectural Tours',\n 'Mortgage Lenders',\n 'Nursing Schools',\n 'Stucco Services',\n 'Videos & Video Game Rental',\n 'IT Services & Computer Repair',\n 'Parklets',\n 'Vehicle Wraps',\n 'Kombucha',\n 'Drones',\n 'Animal Shelters',\n 'Attraction Farms',\n 'Photo Booth Rentals',\n 'Irrigation',\n 'Surgeons',\n 'Free Diving',\n 'Business Law',\n 'Speakeasies',\n 'Photographers',\n 'Environmental Abatement',\n 'Cheerleading',\n 'Public Art',\n 'Pasta Shops',\n 'Permanent Makeup',\n 'Hotel bar',\n 'Urgent Care',\n 'Golf Equipment',\n 'Backflow Services',\n 'Auto Glass Services',\n 'Sleep Specialists',\n 'Balloon Services',\n 'Masonry/Concrete',\n 'Pet Groomers',\n 'Mountain Biking',\n 'Club Crawl',\n 'Skate Parks',\n 'Saunas',\n 'Buffets',\n 'Disc Golf',\n 'Pizza',\n 'Skydiving',\n 'Packing Supplies',\n 'Fireplace Services',\n 'Bookbinding',\n 'Town Hall',\n 'Austrian',\n 'Pole Dancing Classes',\n 'Laundry Services',\n 'Irish',\n 'Ophthalmologists',\n 'Wedding Planning',\n 'Guamanian',\n 'Diagnostic Services',\n 'Art Restoration',\n 'Oral Surgeons',\n 'Convenience Stores',\n 'Mattresses',\n 'Supper Clubs',\n 'Trivia Hosts',\n 'Interval Training Gyms',\n 'Pakistani',\n 'Personal Shopping',\n 'Baby Gear & Furniture',\n 'Distilleries',\n 'Shaved Ice',\n 'Graphic Design',\n 'Hardware Stores',\n 'Recycling Center',\n 'Country Clubs',\n 'Generator Installation/Repair',\n 'Contract Law',\n 'Wallpapering',\n 'Mobile Home Repair',\n 'Art Space Rentals',\n 'Scooter Tours',\n 'Cosmetic Dentists',\n 'Wine Bars',\n 'Refinishing Services',\n 'Customized Merchandise',\n 'Drugstores',\n 'Radiologists',\n 'Hungarian',\n 'Axe Throwing',\n 'Adult Education',\n 'Video Game Stores',\n 'Home Health Care',\n 'Taekwondo',\n 'Housing Cooperatives',\n 'Kitchen Supplies',\n 'Beverage Store',\n 'University Housing',\n 'Paintball',\n 'Hunting & Fishing Supplies',\n 'Wholesale Stores',\n 'Swimwear',\n 'Consumer Law',\n 'Acupuncture',\n 'International',\n 'Coffee & Tea',\n 'College Counseling',\n 'Scuba Diving',\n 'Art Classes',\n 'Whiskey Bars',\n 'Airport Shuttles',\n 'Pretzels',\n 'Honey',\n 'Racing Experience',\n 'Nail Salons',\n 'Biohazard Cleanup',\n 'Crisis Pregnancy Centers',\n 'Dog Parks',\n 'Hair Stylists',\n 'Car Window Tinting',\n 'Paint Stores',\n 'Health Insurance Offices',\n 'Chinese',\n 'Landmarks & Historical Buildings',\n 'Screen Printing',\n 'Rock Climbing',\n 'Lighting Fixtures & Equipment',\n 'Movers',\n 'Marketing',\n 'Fishing',\n 'Smokehouse',\n 'Chicken Wings',\n 'Tubing',\n 'Career Counseling',\n 'Sunglasses',\n 'Diners',\n 'Optometrists',\n 'Health & Medical',\n 'Kitchen Incubators',\n 'Allergists',\n 'Hybrid Car Repair',\n 'Ice Delivery',\n 'Sport Equipment Hire',\n 'Dance Schools',\n 'Somali',\n 'Engraving',\n 'Szechuan',\n 'Golf Cart Dealers',\n 'Nurseries & Gardening',\n 'Keys & Locksmiths',\n 'Assisted Living Facilities',\n 'Irish Pub',\n 'Car Auctions',\n 'Commissioned Artists',\n 'Vacation Rentals',\n 'Auto Repair',\n 'Music & DVDs',\n 'Placenta Encapsulations',\n 'Pharmacy',\n 'Rheumatologists',\n 'Bars',\n 'Chicken Shop',\n 'Pet Stores',\n 'Gift Shops',\n 'Auto Insurance',\n 'Experiences',\n 'Furniture Repair',\n 'Donuts',\n 'Cannabis Dispensaries',\n 'Bangladeshi',\n 'Uzbek',\n 'Hair Loss Centers',\n 'Dive Bars',\n 'Machine & Tool Rental',\n 'RV Repair',\n 'Gemstones & Minerals',\n 'Tax Law',\n 'Candy Stores',\n 'Henna Artists',\n 'Striptease Dancers',\n 'Junkyards',\n 'Ski & Snowboard Shops',\n 'Private Investigation',\n 'Home Network Installation',\n 'Colombian',\n 'Vermouth Bars',\n 'Medical Spas',\n 'Used Car Dealers',\n 'Insulation Installation',\n 'Food Tours',\n 'Escape Games',\n 'Singaporean',\n 'Dietitians',\n 'Cooking Schools',\n 'Body Contouring',\n 'Waldorf Schools',\n 'Gastroenterologist',\n 'Korean',\n 'Day Camps',\n 'Foundation Repair',\n 'Roofing',\n 'Tattoo Removal',\n 'Carpeting',\n 'Georgian',\n 'Office Equipment',\n 'Vocal Coach',\n 'Elementary Schools',\n 'Kebab',\n 'Outlet Stores',\n 'Aestheticians',\n 'Oil Change Stations',\n 'Cafeteria',\n 'Cantonese',\n 'Title Loans',\n 'Indonesian',\n 'Cremation Services',\n 'Trampoline Parks',\n 'Scooter Rentals',\n 'Fish & Chips',\n 'Arts & Entertainment',\n 'Gyms',\n 'Piano Services',\n 'Doulas',\n 'Juice Bars & Smoothies',\n 'Supernatural Readings',\n 'Glass & Mirrors',\n 'Unofficial Yelp Events',\n 'Challenge Courses',\n 'Siding',\n 'Bankruptcy Law',\n 'Otologists',\n 'Hakka',\n 'Sandwiches',\n 'Notaries',\n 'Shopping Centers',\n 'Pulmonologist',\n 'Egyptian',\n 'Watches',\n 'Embassy',\n 'General Festivals',\n 'Rolfing',\n 'Ticket Sales',\n 'Veterans Organizations',\n 'Team Building Activities',\n 'Data Recovery',\n 'German',\n 'Spine Surgeons',\n 'Public Services & Government',\n 'Newspapers & Magazines',\n 'Czech',\n 'Gun/Rifle Ranges',\n 'Circus Schools',\n 'Midwives',\n 'Archery',\n 'Basketball Courts',\n 'Sperm Clinic',\n 'Cafes',\n 'Local Flavor',\n 'Skin Care',\n 'Hobby Shops',\n 'Brasseries',\n 'Tapas/Small Plates',\n 'Sports Medicine',\n 'Wigs',\n 'Service Stations',\n 'Water Stores',\n 'Pickleball',\n 'Dive Shops',\n 'Serbo Croatian',\n 'Jewelry',\n 'Golf Equipment Shops',\n 'Dominican',\n 'Buddhist Temples',\n 'EV Charging Stations',\n 'Ziplining',\n 'Adoption Services',\n 'Medical Transportation',\n 'Audiologist',\n 'Horse Boarding',\n 'Acne Treatment',\n 'Safe Stores',\n 'Smog Check Stations',\n 'Packing Services',\n 'Herbal Shops',\n 'Portuguese',\n 'Limos',\n 'Glass Blowing',\n 'Ukrainian',\n 'Mass Media',\n 'Gerontologists',\n 'Aircraft Dealers',\n 'Boat Repair',\n 'Laser Tag',\n 'Costumes',\n 'Beer Tours',\n 'Pool Cleaners',\n 'Internal Medicine',\n 'Outdoor Furniture Stores',\n 'Powder Coating',\n 'Amateur Sports Teams',\n 'Metal Detector Services',\n 'Martial Arts',\n 'Blow Dry/Out Services',\n 'Massage Therapy',\n 'Accountants',\n 'Jails & Prisons',\n 'Ice Cream & Frozen Yogurt',\n 'Home Developers',\n 'Cannabis Tours',\n 'Go Karts',\n 'Bus Stations',\n 'Swimming Lessons/Schools',\n 'Wine Tours',\n 'Sledding',\n 'Strip Clubs',\n 'Flea Markets',\n 'Preventive Medicine',\n 'Naturopathic/Holistic',\n 'Parasailing',\n 'Tasting Classes',\n 'Building Supplies',\n 'Bike tours',\n 'Parks',\n 'Basque',\n 'Used',\n 'Bike Rentals',\n 'Burgers',\n 'Festivals',\n 'Fire Protection Services',\n 'Business Consulting',\n 'Divorce & Family Law',\n 'Guns & Ammo',\n 'Payroll Services',\n 'Food Delivery Services',\n 'Software Development',\n 'Breakfast & Brunch',\n 'Barbers',\n 'Chinese Martial Arts',\n 'Hydrotherapy',\n 'Pop-Up Restaurants',\n 'Self Storage',\n 'Christmas Trees',\n 'Valet Services',\n 'Restaurants',\n 'Motorsport Vehicle Dealers',\n 'Cideries',\n 'Religious Schools',\n 'Golf',\n 'Tonkatsu',\n 'Senior Centers',\n 'Community Gardens',\n 'Tapas Bars',\n 'Water Parks',\n 'Hot Tub & Pool',\n 'Shaved Snow',\n 'Specialty Food',\n 'Muay Thai',\n 'Kiosk',\n 'Tui Na',\n 'Persian/Iranian',\n 'Tiling',\n 'Cambodian',\n 'Donation Center',\n 'Cinema',\n 'Brewpubs',\n 'Vape Shops',\n 'Health Markets',\n 'Television Stations',\n 'Water Heater Installation/Repair',\n 'Legal Services',\n 'Reptile Shops',\n 'Bus Tours',\n 'Holiday Decorations',\n 'Outdoor Gear',\n 'Wheel & Rim Repair',\n 'Disability Law',\n 'Machine Shops',\n 'Comfort Food',\n 'Party Supplies',\n 'Bridal',\n 'Paddleboarding',\n 'Fast Food',\n 'Financial Services',\n 'Campgrounds',\n 'Fireworks',\n 'Syrian',\n 'Armenian',\n 'Chimney Sweeps',\n 'Mobile Phone Repair',\n 'Translation Services',\n 'Ayurveda',\n 'Professional Services',\n 'Skating Rinks',\n 'Commercial Truck Dealers',\n 'Pilates',\n 'Antiques',\n 'Wine & Spirits',\n 'Oncologist',\n 'Honduran',\n 'Food Banks',\n 'Boating',\n 'Hypnosis/Hypnotherapy',\n 'Race Tracks',\n 'Shredding Services',\n 'Personal Chefs',\n 'Venezuelan',\n 'Hookah Bars',\n 'Piano Bars',\n 'Bicycles',\n 'Estheticians',\n 'Public Transportation',\n 'Eyelash Service',\n 'Sicilian',\n 'Pet Training',\n 'Water Purification Services',\n 'Bakeries',\n 'Piano Stores',\n 'Farmers Market',\n 'Transmission Repair',\n 'Shoe Repair',\n 'Fuzhou',\n 'Private Schools',\n 'Hot Dogs',\n 'Botanical Gardens',\n 'Bike Sharing',\n 'Greek',\n 'Community Service/Non-Profit',\n 'Artificial Turf',\n 'Resorts',\n 'Trinidadian',\n 'Yoga',\n 'Circuit Training Gyms',\n 'Horseback Riding',\n 'IV Hydration',\n 'Photography Classes',\n 'Delicatessen',\n 'Laundromat',\n 'Pick Your Own Farms',\n 'Telecommunications',\n 'Hang Gliding',\n 'Libraries',\n 'Lingerie',\n 'Buses',\n 'Face Painting',\n 'Neuropathologists',\n 'Lakes',\n 'Sri Lankan',\n 'Paint & Sip',\n 'Furniture Stores',\n 'Farms',\n 'Museums',\n 'Stonemasons',\n 'Churches',\n 'Country Dance Halls',\n 'Security Services',\n 'Local Services',\n 'Mediators',\n 'Caribbean',\n 'Mobile Dent Repair',\n 'Flowers & Gifts',\n 'Ethiopian',\n 'Cannabis Collective',\n 'Painters',\n 'Taxis',\n 'Shades & Blinds',\n 'Airports',\n 'Indoor Landscaping',\n 'Art Tours',\n 'Hair Removal',\n 'Yelp Events',\n 'Massage Schools',\n 'Sandblasting',\n 'Art Consultants',\n 'Sports Bars',\n 'Rest Stops',\n 'Furniture Assembly',\n 'Grill Services',\n 'Auto Customization',\n 'Fruits & Veggies',\n 'Comedy Clubs',\n 'Editorial Services',\n 'Massage',\n 'Cigar Bars',\n 'Endodontists',\n 'Boudoir Photography',\n 'Hepatologists',\n 'Mohels',\n 'Sushi Bars',\n 'Cheese Tasting Classes',\n 'Ethnic Food',\n 'International Grocery',\n 'Hats',\n 'Land Surveying',\n 'Noodles',\n 'Animal Assisted Therapy',\n 'Tours',\n 'Kickboxing',\n 'Natural Gas Suppliers',\n 'Ceremonial Clothing',\n 'Carousels',\n 'Electronics',\n 'Pancakes',\n 'Vehicle Shipping',\n 'Furniture Rental',\n 'Makerspaces',\n 'Home & Garden',\n 'Taxidermy',\n 'Trainers',\n 'Races & Competitions',\n 'Luggage',\n 'Prosthetics',\n 'Occupational Therapy',\n 'Landscaping',\n 'Ultrasound Imaging Centers',\n 'Sardinian',\n 'Music & Video',\n 'Printing Services',\n 'Childbirth Education',\n 'Lawn Services',\n 'Pet Breeders',\n 'Karate',\n 'Playsets',\n 'Structural Engineers',\n 'Party & Event Planning',\n 'Bar Crawl',\n 'Aerial Tours',\n 'Visitor Centers',\n 'Sailing',\n 'High Fidelity Audio Equipment',\n 'Polish',\n 'Metal Fabricators',\n 'Colonics',\n 'Community Centers',\n 'Conveyor Belt Sushi',\n 'Motorsport Vehicle Repairs',\n 'RV Parks',\n 'Skilled Nursing',\n 'Retina Specialists',\n 'Truck Rental',\n 'Dog Walkers',\n 'Addiction Medicine',\n 'Pet Sitting',\n 'Retirement Homes',\n 'Salvadoran',\n 'Squash',\n 'Well Drilling',\n 'Home Inspectors',\n 'Pan Asian',\n 'Aquarium Services',\n 'Orthodontists',\n 'Gutter Services',\n 'Hainan',\n 'Wildlife Hunting Ranges',\n 'Peruvian',\n 'Firewood',\n 'TV Mounting',\n 'Grocery',\n 'Patisserie/Cake Shop',\n 'Ski Resorts',\n 'Social Security Law',\n 'Asian Fusion',\n 'Soccer',\n 'Mortgage Brokers',\n 'Indoor Playcentre',\n 'Calabrian',\n 'Beer',\n 'Lice Services',\n 'Art Schools',\n 'Fencing Clubs',\n 'Apartments',\n 'Trophy Shops',\n 'Musical Instrument Services',\n 'Perfume',\n 'Malaysian',\n \"Children's Museums\",\n 'Aircraft Repairs',\n 'Driving Schools',\n 'Homeowner Association',\n 'Periodontists',\n 'Outdoor Power Equipment Services',\n 'Home Decor',\n 'Eastern European',\n 'Silent Disco',\n 'Pets',\n 'Solar Panel Cleaning',\n 'Beach Bars',\n 'Trailer Repair',\n 'Car Share Services',\n 'Web Design',\n 'Bus Rental',\n 'Cosmetic Surgeons',\n 'Threading Services',\n 'Auto Security',\n 'Knife Sharpening',\n 'Souvenir Shops',\n 'Bikes',\n 'Cucina campana',\n 'Airlines',\n 'Art Supplies',\n 'Electronics Repair',\n 'Tenant and Eviction Law',\n 'Venues & Event Spaces',\n 'Qi Gong',\n 'Boat Charters',\n 'Climbing',\n 'Waterproofing',\n 'Head Shops',\n 'Pet Boarding',\n 'Check Cashing/Pay-day Loans',\n 'Flight Instruction',\n 'Computers',\n 'Brazilian',\n 'Wraps',\n 'American (New)',\n 'Fences & Gates',\n 'Concept Shops',\n 'Medical Cannabis Referrals',\n 'Nephrologists',\n 'Tableware',\n 'Wholesalers',\n 'Product Design',\n 'Falafel',\n 'Bespoke Clothing',\n 'Elder Care Planning',\n 'Matchmakers',\n 'Dance Clubs',\n 'Sports Clubs',\n 'Handyman',\n 'Poke',\n 'House Sitters',\n 'Outdoor Movies',\n 'Bagels',\n 'Real Estate Agents',\n 'Florists',\n 'LAN Centers',\n 'Caterers',\n 'Guest Houses',\n 'Investing',\n 'Proctologists',\n 'Personal Assistants',\n 'Beer Gardens',\n 'Thai',\n 'Mortuary Services',\n 'Lebanese',\n 'Recording & Rehearsal Studios',\n 'Private Jet Charter',\n 'Pubs',\n 'Gastropubs',\n 'Snorkeling',\n 'Mobility Equipment Sales & Services',\n 'Bartending Schools',\n 'Taiwanese',\n 'Pressure Washers',\n 'Auto Parts & Supplies',\n 'Montessori Schools',\n 'Septic Services',\n 'Drama Schools',\n 'Used Bookstore',\n 'DUI Schools',\n 'Kids Activities',\n 'Hindu Temples',\n 'Accessories',\n 'Windows Installation',\n 'Public Adjusters',\n 'Couriers & Delivery Services',\n 'Australian',\n 'Courthouses',\n 'Process Servers',\n 'Hospitals',\n 'Prenatal/Perinatal Care',\n 'Toy Stores',\n 'Dry Cleaning & Laundry',\n 'Pet Cremation Services',\n 'Cheesesteaks',\n 'Home Services',\n 'Creperies',\n 'Swimming Pools',\n 'Canadian (New)',\n 'Pet Transportation',\n 'Osteopathic Physicians',\n 'Hair Extensions',\n 'Casinos',\n 'Appraisal Services',\n 'Halal',\n 'Child Care & Day Care',\n 'Real Estate',\n 'Luggage Storage',\n 'Real Estate Services',\n 'Wineries',\n 'Books',\n 'Cosmetology Schools',\n 'Emergency Medicine',\n 'Candle Stores',\n 'Car Buyers',\n 'Airport Terminals',\n 'Counseling & Mental Health',\n 'Colleges & Universities',\n 'Municipality',\n 'Foot Care',\n 'Crane Services',\n 'Scavenger Hunts',\n 'Laser Eye Surgery/Lasik',\n 'Maternity Wear',\n 'Shoe Shine',\n 'Farm Equipment Repair',\n 'Junk Removal & Hauling',\n 'Pet Services',\n 'Shopping',\n 'Pet Hospice',\n 'Immunodermatologists',\n 'Bed & Breakfast',\n 'Karaoke Rental',\n 'Architects',\n 'South African',\n 'Puerto Rican',\n 'Life Coach',\n 'Drywall Installation & Repair',\n 'Rodeo',\n \"Children's Clothing\",\n 'Jewelry Repair',\n 'Digitizing Services',\n 'Meaderies',\n 'Astrologers',\n 'Speech Therapists',\n 'Eyewear & Opticians',\n 'Tex-Mex',\n 'Jet Skis',\n 'Sports Wear',\n 'Scottish',\n 'Bubble Soccer',\n 'Street Vendors',\n 'Sheds & Outdoor Storage',\n 'Ethnic Grocery',\n 'Music Production Services',\n 'Meditation Centers',\n 'Kosher',\n 'Art Installation',\n 'Laser Hair Removal',\n 'Hot Pot',\n ...]"
     },
     "execution_count": 32,
     "metadata": {},
     "output_type": "execute_result"
    }
   ],
   "source": [
    "categories"
   ],
   "metadata": {
    "collapsed": false,
    "pycharm": {
     "name": "#%%\n"
    }
   }
  },
  {
   "cell_type": "code",
   "execution_count": 13,
   "outputs": [
    {
     "data": {
      "text/plain": "0                  3DModel\n1           AMRadioChannel\n2             APIReference\n3                  Abdomen\n4                AboutPage\n               ...        \n1348       WritePermission\n1349             XPathType\n1350                  XRay\n1351    ZoneBoardingPolicy\n1352                   Zoo\nName: label, Length: 1353, dtype: object"
     },
     "execution_count": 13,
     "metadata": {},
     "output_type": "execute_result"
    }
   ],
   "source": [
    "schema[\"label\"]"
   ],
   "metadata": {
    "collapsed": false,
    "pycharm": {
     "name": "#%%\n"
    }
   }
  },
  {
   "cell_type": "code",
   "execution_count": 15,
   "outputs": [
    {
     "data": {
      "text/plain": "['Restaurants', 'Food', 'Bubble Tea', 'Coffee & Tea', 'Bakeries']"
     },
     "execution_count": 15,
     "metadata": {},
     "output_type": "execute_result"
    }
   ],
   "source": [
    "biz[\"categories\"][3]"
   ],
   "metadata": {
    "collapsed": false,
    "pycharm": {
     "name": "#%%\n"
    }
   }
  },
  {
   "cell_type": "code",
   "execution_count": 32,
   "outputs": [],
   "source": [
    "sim_df = pd.DataFrame(data={\"label\": schema[\"label\"]})\n",
    "\n",
    "nlp = spacy.load('en_core_web_md')\n",
    "\n",
    "def compare_str(string1, string2):\n",
    "    str1 = nlp(string1)\n",
    "    str2 = nlp(string2)\n",
    "\n",
    "    return str1.similarity(str2)"
   ],
   "metadata": {
    "collapsed": false,
    "pycharm": {
     "name": "#%%\n"
    }
   }
  },
  {
   "cell_type": "code",
   "execution_count": 33,
   "outputs": [
    {
     "name": "stderr",
     "output_type": "stream",
     "text": [
      "/var/folders/nt/w3ctvjn94jn89w856x4xh8zc0000gn/T/ipykernel_1607/2431982369.py:9: UserWarning: [W008] Evaluating Doc.similarity based on empty vectors.\n",
      "  return str1.similarity(str2)\n",
      "/var/folders/nt/w3ctvjn94jn89w856x4xh8zc0000gn/T/ipykernel_1607/2431982369.py:9: UserWarning: [W008] Evaluating Doc.similarity based on empty vectors.\n",
      "  return str1.similarity(str2)\n",
      "/var/folders/nt/w3ctvjn94jn89w856x4xh8zc0000gn/T/ipykernel_1607/2431982369.py:9: UserWarning: [W008] Evaluating Doc.similarity based on empty vectors.\n",
      "  return str1.similarity(str2)\n",
      "/var/folders/nt/w3ctvjn94jn89w856x4xh8zc0000gn/T/ipykernel_1607/2431982369.py:9: UserWarning: [W008] Evaluating Doc.similarity based on empty vectors.\n",
      "  return str1.similarity(str2)\n",
      "/var/folders/nt/w3ctvjn94jn89w856x4xh8zc0000gn/T/ipykernel_1607/2431982369.py:9: UserWarning: [W008] Evaluating Doc.similarity based on empty vectors.\n",
      "  return str1.similarity(str2)\n"
     ]
    }
   ],
   "source": [
    "for i in biz[\"categories\"][3]:\n",
    "    sim_df[i] = schema[\"label\"].apply(compare_str, string2=i)"
   ],
   "metadata": {
    "collapsed": false,
    "pycharm": {
     "name": "#%%\n"
    }
   }
  },
  {
   "cell_type": "code",
   "execution_count": 42,
   "outputs": [
    {
     "data": {
      "text/plain": "1.0"
     },
     "execution_count": 42,
     "metadata": {},
     "output_type": "execute_result"
    }
   ],
   "source": [
    "nlp(\"Baker\").similarity(nlp(\"Baker\"))"
   ],
   "metadata": {
    "collapsed": false,
    "pycharm": {
     "name": "#%%\n"
    }
   }
  },
  {
   "cell_type": "code",
   "execution_count": 34,
   "outputs": [
    {
     "data": {
      "text/plain": "                   label  Restaurants      Food  Bubble Tea  Coffee & Tea  \\\n0                3DModel     0.000000  0.000000    0.000000      0.000000   \n1         AMRadioChannel     0.000000  0.000000    0.000000      0.000000   \n2           APIReference     0.000000  0.000000    0.000000      0.000000   \n3                Abdomen     0.030459 -0.017765    0.030372     -0.136703   \n4              AboutPage     0.000000  0.000000    0.000000      0.000000   \n...                  ...          ...       ...         ...           ...   \n1348     WritePermission     0.000000  0.000000    0.000000      0.000000   \n1349           XPathType     0.000000  0.000000    0.000000      0.000000   \n1350                XRay     0.072472 -0.008574    0.182335      0.058196   \n1351  ZoneBoardingPolicy     0.000000  0.000000    0.000000      0.000000   \n1352                 Zoo     0.268478  0.203888    0.088341      0.108096   \n\n      Bakeries  \n0     0.000000  \n1     0.000000  \n2     0.000000  \n3     0.030459  \n4     0.000000  \n...        ...  \n1348  0.000000  \n1349  0.000000  \n1350  0.072472  \n1351  0.000000  \n1352  0.268478  \n\n[1353 rows x 6 columns]",
      "text/html": "<div>\n<style scoped>\n    .dataframe tbody tr th:only-of-type {\n        vertical-align: middle;\n    }\n\n    .dataframe tbody tr th {\n        vertical-align: top;\n    }\n\n    .dataframe thead th {\n        text-align: right;\n    }\n</style>\n<table border=\"1\" class=\"dataframe\">\n  <thead>\n    <tr style=\"text-align: right;\">\n      <th></th>\n      <th>label</th>\n      <th>Restaurants</th>\n      <th>Food</th>\n      <th>Bubble Tea</th>\n      <th>Coffee &amp; Tea</th>\n      <th>Bakeries</th>\n    </tr>\n  </thead>\n  <tbody>\n    <tr>\n      <th>0</th>\n      <td>3DModel</td>\n      <td>0.000000</td>\n      <td>0.000000</td>\n      <td>0.000000</td>\n      <td>0.000000</td>\n      <td>0.000000</td>\n    </tr>\n    <tr>\n      <th>1</th>\n      <td>AMRadioChannel</td>\n      <td>0.000000</td>\n      <td>0.000000</td>\n      <td>0.000000</td>\n      <td>0.000000</td>\n      <td>0.000000</td>\n    </tr>\n    <tr>\n      <th>2</th>\n      <td>APIReference</td>\n      <td>0.000000</td>\n      <td>0.000000</td>\n      <td>0.000000</td>\n      <td>0.000000</td>\n      <td>0.000000</td>\n    </tr>\n    <tr>\n      <th>3</th>\n      <td>Abdomen</td>\n      <td>0.030459</td>\n      <td>-0.017765</td>\n      <td>0.030372</td>\n      <td>-0.136703</td>\n      <td>0.030459</td>\n    </tr>\n    <tr>\n      <th>4</th>\n      <td>AboutPage</td>\n      <td>0.000000</td>\n      <td>0.000000</td>\n      <td>0.000000</td>\n      <td>0.000000</td>\n      <td>0.000000</td>\n    </tr>\n    <tr>\n      <th>...</th>\n      <td>...</td>\n      <td>...</td>\n      <td>...</td>\n      <td>...</td>\n      <td>...</td>\n      <td>...</td>\n    </tr>\n    <tr>\n      <th>1348</th>\n      <td>WritePermission</td>\n      <td>0.000000</td>\n      <td>0.000000</td>\n      <td>0.000000</td>\n      <td>0.000000</td>\n      <td>0.000000</td>\n    </tr>\n    <tr>\n      <th>1349</th>\n      <td>XPathType</td>\n      <td>0.000000</td>\n      <td>0.000000</td>\n      <td>0.000000</td>\n      <td>0.000000</td>\n      <td>0.000000</td>\n    </tr>\n    <tr>\n      <th>1350</th>\n      <td>XRay</td>\n      <td>0.072472</td>\n      <td>-0.008574</td>\n      <td>0.182335</td>\n      <td>0.058196</td>\n      <td>0.072472</td>\n    </tr>\n    <tr>\n      <th>1351</th>\n      <td>ZoneBoardingPolicy</td>\n      <td>0.000000</td>\n      <td>0.000000</td>\n      <td>0.000000</td>\n      <td>0.000000</td>\n      <td>0.000000</td>\n    </tr>\n    <tr>\n      <th>1352</th>\n      <td>Zoo</td>\n      <td>0.268478</td>\n      <td>0.203888</td>\n      <td>0.088341</td>\n      <td>0.108096</td>\n      <td>0.268478</td>\n    </tr>\n  </tbody>\n</table>\n<p>1353 rows × 6 columns</p>\n</div>"
     },
     "execution_count": 34,
     "metadata": {},
     "output_type": "execute_result"
    }
   ],
   "source": [
    "sim_df"
   ],
   "metadata": {
    "collapsed": false,
    "pycharm": {
     "name": "#%%\n"
    }
   }
  },
  {
   "cell_type": "code",
   "execution_count": 52,
   "outputs": [
    {
     "data": {
      "text/plain": "['BookSeries', 'Series', 'Bakery']"
     },
     "execution_count": 52,
     "metadata": {},
     "output_type": "execute_result"
    }
   ],
   "source": [
    "import difflib\n",
    "difflib.get_close_matches(biz[\"categories\"][3][4], schema[\"label\"])"
   ],
   "metadata": {
    "collapsed": false,
    "pycharm": {
     "name": "#%%\n"
    }
   }
  },
  {
   "cell_type": "code",
   "execution_count": 51,
   "outputs": [
    {
     "data": {
      "text/plain": "'Coffee & Tea'"
     },
     "execution_count": 51,
     "metadata": {},
     "output_type": "execute_result"
    }
   ],
   "source": [
    "biz[\"categories\"][3][3]"
   ],
   "metadata": {
    "collapsed": false,
    "pycharm": {
     "name": "#%%\n"
    }
   }
  },
  {
   "cell_type": "code",
   "execution_count": null,
   "outputs": [],
   "source": [],
   "metadata": {
    "collapsed": false,
    "pycharm": {
     "name": "#%%\n"
    }
   }
  }
 ],
 "metadata": {
  "kernelspec": {
   "display_name": "Python 3",
   "language": "python",
   "name": "python3"
  },
  "language_info": {
   "codemirror_mode": {
    "name": "ipython",
    "version": 2
   },
   "file_extension": ".py",
   "mimetype": "text/x-python",
   "name": "python",
   "nbconvert_exporter": "python",
   "pygments_lexer": "ipython2",
   "version": "2.7.6"
  }
 },
 "nbformat": 4,
 "nbformat_minor": 0
}