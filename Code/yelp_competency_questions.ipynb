{
 "cells": [
  {
   "cell_type": "code",
   "execution_count": null,
   "metadata": {
    "collapsed": false,
    "pycharm": {
     "name": "#%%\n",
     "is_executing": true
    }
   },
   "outputs": [],
   "source": [
    "import pandas as pd\n",
    "import numpy as np\n",
    "\n",
    "from UtilityFunctions.get_data_path import get_path\n",
    "from UtilityFunctions.flatten_dict import flatten_dictionary\n",
    "from UtilityFunctions.run_query import run_query\n",
    "\n",
    "businesses = pd.read_json(get_path(\"yelp_academic_dataset_business.json\"), lines=True)\n",
    "users = pd.read_json(get_path(\"yelp_academic_dataset_user.json\"), lines=True)"
   ]
  },
  {
   "cell_type": "markdown",
   "metadata": {
    "collapsed": false,
    "pycharm": {
     "name": "#%% md\n"
    }
   },
   "source": [
    "# Businesses"
   ]
  },
  {
   "cell_type": "markdown",
   "metadata": {
    "collapsed": false,
    "pycharm": {
     "name": "#%% md\n"
    }
   },
   "source": [
    "### Number of businesses"
   ]
  },
  {
   "cell_type": "code",
   "metadata": {
    "collapsed": false,
    "pycharm": {
     "name": "#%%\n"
    }
   },
   "source": [
    "sparql_query = \"\"\"\n",
    "\n",
    "SELECT COUNT(?business)\n",
    "WHERE {\n",
    "    ?business rdfs:Class schema:LocalBusiness .\n",
    "}\n",
    "\n",
    "\"\"\"\n",
    "\n",
    "run_query(query=sparql_query, as_dataframe=True)"
   ],
   "execution_count": null,
   "outputs": []
  },
  {
   "cell_type": "code",
   "execution_count": null,
   "outputs": [],
   "source": [
    "len(businesses[\"business_id\"].unique())"
   ],
   "metadata": {
    "collapsed": false,
    "pycharm": {
     "name": "#%%\n"
    }
   }
  },
  {
   "cell_type": "markdown",
   "source": [
    "### Distribution of ratings"
   ],
   "metadata": {
    "collapsed": false,
    "pycharm": {
     "name": "#%% md\n"
    }
   }
  },
  {
   "cell_type": "code",
   "execution_count": 82,
   "metadata": {
    "collapsed": false,
    "pycharm": {
     "name": "#%%\n"
    }
   },
   "outputs": [
    {
     "data": {
      "text/plain": [
       "stars\n",
       "1.0    AxesSubplot(0.125,0.125;0.775x0.755)\n",
       "1.5    AxesSubplot(0.125,0.125;0.775x0.755)\n",
       "2.0    AxesSubplot(0.125,0.125;0.775x0.755)\n",
       "2.5    AxesSubplot(0.125,0.125;0.775x0.755)\n",
       "3.0    AxesSubplot(0.125,0.125;0.775x0.755)\n",
       "3.5    AxesSubplot(0.125,0.125;0.775x0.755)\n",
       "4.0    AxesSubplot(0.125,0.125;0.775x0.755)\n",
       "4.5    AxesSubplot(0.125,0.125;0.775x0.755)\n",
       "5.0    AxesSubplot(0.125,0.125;0.775x0.755)\n",
       "Name: stars, dtype: object"
      ]
     },
     "execution_count": 82,
     "metadata": {},
     "output_type": "execute_result"
    },
    {
     "data": {
      "image/png": "[encoded data removed]",
      "text/plain": [
       "<Figure size 432x288 with 1 Axes>"
      ]
     },
     "metadata": {
      "needs_background": "light"
     },
     "output_type": "display_data"
    }
   ],
   "source": [
    "sparql_query = \"\"\"\n",
    "\n",
    "SELECT ?rating COUNT(?business)\n",
    "WHERE {\n",
    "    ?business rdfs:Class schema:LocalBusiness .\n",
    "    ?business schema:starRating ?rating .\n",
    "}\n",
    "GROUP BY ?rating\n",
    "\n",
    "\"\"\"\n",
    "\n",
    "run_query(query=sparql_query, as_dataframe=True)"
   ]
  },
  {
   "cell_type": "code",
   "execution_count": null,
   "outputs": [],
   "source": [
    "businesses.groupby('stars')['stars'].hist()"
   ],
   "metadata": {
    "collapsed": false,
    "pycharm": {
     "name": "#%%\n"
    }
   }
  },
  {
   "cell_type": "markdown",
   "metadata": {
    "collapsed": false,
    "pycharm": {
     "name": "#%% md\n"
    }
   },
   "source": [
    "### Total average rating"
   ]
  },
  {
   "cell_type": "code",
   "metadata": {
    "collapsed": false,
    "pycharm": {
     "name": "#%%\n"
    }
   },
   "source": [
    "sparql_query = \"\"\"\n",
    "\n",
    "SELECT AVG(?rating) as ?averagerating\n",
    "WHERE {\n",
    "    ?business rdfs:Class schema:LocalBusiness .\n",
    "    ?business schema:starRating ?rating .\n",
    "}\n",
    "\n",
    "\"\"\"\n",
    "\n",
    "run_query(query=sparql_query, as_dataframe=True)"
   ],
   "execution_count": null,
   "outputs": []
  },
  {
   "cell_type": "code",
   "execution_count": null,
   "outputs": [],
   "source": [
    "businesses['stars'].mean()"
   ],
   "metadata": {
    "collapsed": false,
    "pycharm": {
     "name": "#%%\n"
    }
   }
  },
  {
   "cell_type": "markdown",
   "source": [
    "### Number of businesses in different geographical regions"
   ],
   "metadata": {
    "collapsed": false
   }
  },
  {
   "cell_type": "code",
   "metadata": {
    "collapsed": false,
    "pycharm": {
     "name": "#%%\n"
    }
   },
   "source": [
    "sparql_query = \"\"\"\n",
    "\n",
    "SELECT ?state ?city COUNT(?business)\n",
    "WHERE {\n",
    "    ?business rdfs:Class schema:LocalBusiness .\n",
    "    ?business schema:city ?city\n",
    "    ?business schema:adressRegion ?state .\n",
    "}\n",
    "GROUP BY ?state ?city\n",
    "\n",
    "\"\"\"\n",
    "\n",
    "run_query(query=sparql_query, as_dataframe=True)"
   ],
   "execution_count": null,
   "outputs": []
  },
  {
   "cell_type": "code",
   "execution_count": null,
   "outputs": [],
   "source": [
    "businesses[\"business_id\"][businesses[\"city\"] == \"Abington\"].unique().size"
   ],
   "metadata": {
    "collapsed": false,
    "pycharm": {
     "name": "#%%\n"
    }
   }
  },
  {
   "cell_type": "markdown",
   "source": [
    "### Geographical region with lowest average rating (er denne ikke dækket af de to foregående?)"
   ],
   "metadata": {
    "collapsed": false
   }
  },
  {
   "cell_type": "code",
   "metadata": {
    "collapsed": false,
    "pycharm": {
     "name": "#%%\n"
    }
   },
   "source": [
    "sparql_query = \"\"\"\n",
    "\n",
    "SELECT ?state ?city AVG(?rating) as ?average_rating\n",
    "WHERE {\n",
    "    ?business rdfs:Class schema:LocalBusiness .\n",
    "    ?business schema:adressRegion ?state .\n",
    "    ?business schema:city ?city\n",
    "    ?business schema:starRating ?rating .\n",
    "}\n",
    "GROUP BY ?state ?ciy\n",
    "ORDER BY DESC(?average_rating)\n",
    "\n",
    "\"\"\"\n",
    "\n",
    "run_query(query=sparql_query, as_dataframe=True)"
   ],
   "execution_count": null,
   "outputs": []
  },
  {
   "cell_type": "code",
   "execution_count": null,
   "outputs": [],
   "source": [
    "businesses.groupby(\"state\")['stars'].mean().sort_values()"
   ],
   "metadata": {
    "collapsed": false,
    "pycharm": {
     "name": "#%%\n"
    }
   }
  },
  {
   "cell_type": "markdown",
   "source": [
    "### Different categories and numbers of businesses with that category"
   ],
   "metadata": {
    "collapsed": false
   }
  },
  {
   "cell_type": "code",
   "execution_count": null,
   "outputs": [],
   "source": [
    "sparql_query = \"\"\"\n",
    "\n",
    "SELECT ?category COUNT(?business)\n",
    "WHERE {\n",
    "    ?business rdfs:Class schema:LocalBusiness .\n",
    "    ?business schema:category ?category .\n",
    "}\n",
    "GROUP BY ?category\n",
    "\n",
    "\"\"\"\n",
    "\n",
    "run_query(query=sparql_query, as_dataframe=True)"
   ],
   "metadata": {
    "collapsed": false,
    "pycharm": {
     "name": "#%%\n"
    }
   }
  },
  {
   "cell_type": "code",
   "execution_count": null,
   "outputs": [],
   "source": [
    "def str_split(string):\n",
    "    if isinstance(string, str):\n",
    "        return string.split(\", \")\n",
    "    else:\n",
    "        return string\n",
    "\n",
    "\n",
    "businesses[\"categories\"] = businesses[\"categories\"].apply(str_split)\n",
    "\n",
    "category_biz_count = {}\n",
    "for i in range(len(businesses)):\n",
    "    if businesses[\"categories\"][i]:\n",
    "        for category in businesses[\"categories\"][i]:\n",
    "            category_biz_count[category] = category_biz_count.get(category, 0) + 1\n",
    "\n",
    "category_biz_count[\"Restaurants\"]"
   ],
   "metadata": {
    "collapsed": false,
    "pycharm": {
     "name": "#%%\n"
    }
   }
  },
  {
   "cell_type": "markdown",
   "source": [
    "# Users"
   ],
   "metadata": {
    "collapsed": false,
    "pycharm": {
     "name": "#%% md\n"
    }
   }
  },
  {
   "cell_type": "markdown",
   "source": [
    "### Number of Users"
   ],
   "metadata": {
    "collapsed": false
   }
  },
  {
   "cell_type": "code",
   "execution_count": null,
   "outputs": [],
   "source": [
    "sparql_query = \"\"\"\n",
    "\n",
    "SELECT COUNT(?users)\n",
    "WHERE {\n",
    "    ?user rdfs:Class schema:Person .\n",
    "}\n",
    "\"\"\"\n",
    "\n",
    "run_query(query=sparql_query, as_dataframe=True)"
   ],
   "metadata": {
    "collapsed": false,
    "pycharm": {
     "name": "#%%\n"
    }
   }
  },
  {
   "cell_type": "code",
   "execution_count": null,
   "outputs": [],
   "source": [
    "len(users[\"user_id\"].unique())"
   ],
   "metadata": {
    "collapsed": false,
    "pycharm": {
     "name": "#%%\n"
    }
   }
  }
 ],
 "metadata": {
  "kernelspec": {
   "display_name": "Julia 1.7.2",
   "language": "julia",
   "name": "julia-1.7"
  },
  "language_info": {
   "file_extension": ".jl",
   "mimetype": "application/julia",
   "name": "julia",
   "version": "1.7.2"
  }
 },
 "nbformat": 4,
 "nbformat_minor": 0
}