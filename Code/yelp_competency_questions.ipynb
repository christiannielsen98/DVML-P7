{
 "cells": [
  {
   "cell_type": "code",
   "execution_count": 58,
   "metadata": {
    "collapsed": false,
    "pycharm": {
     "is_executing": true,
     "name": "#%%\n"
    }
   },
   "outputs": [],
   "source": [
    "import pandas as pd\n",
    "import numpy as np\n",
    "\n",
    "from UtilityFunctions.get_data_path import get_path\n",
    "from UtilityFunctions.flatten_dict import flatten_dictionary\n",
    "from UtilityFunctions.run_query import run_query"
   ]
  },
  {
   "cell_type": "code",
   "execution_count": null,
   "metadata": {},
   "outputs": [],
   "source": [
    "businesses = pd.read_json(get_path(\"yelp_academic_dataset_business.json\"), lines=True)\n",
    "users = pd.read_json(get_path(\"yelp_academic_dataset_user.json\"), lines=True)"
   ]
  },
  {
   "cell_type": "markdown",
   "metadata": {
    "collapsed": false,
    "pycharm": {
     "name": "#%% md\n"
    }
   },
   "source": [
    "# Businesses"
   ]
  },
  {
   "cell_type": "markdown",
   "metadata": {
    "collapsed": false,
    "pycharm": {
     "name": "#%% md\n"
    }
   },
   "source": [
    "### Number of businesses"
   ]
  },
  {
   "cell_type": "code",
   "execution_count": 2,
   "metadata": {
    "collapsed": false,
    "pycharm": {
     "name": "#%%\n"
    }
   },
   "outputs": [
    {
     "data": {
      "text/html": [
       "<div>\n",
       "<style scoped>\n",
       "    .dataframe tbody tr th:only-of-type {\n",
       "        vertical-align: middle;\n",
       "    }\n",
       "\n",
       "    .dataframe tbody tr th {\n",
       "        vertical-align: top;\n",
       "    }\n",
       "\n",
       "    .dataframe thead th {\n",
       "        text-align: right;\n",
       "    }\n",
       "</style>\n",
       "<table border=\"1\" class=\"dataframe\">\n",
       "  <thead>\n",
       "    <tr style=\"text-align: right;\">\n",
       "      <th></th>\n",
       "      <th>callret-0.type</th>\n",
       "      <th>callret-0.datatype</th>\n",
       "      <th>callret-0.value</th>\n",
       "    </tr>\n",
       "  </thead>\n",
       "  <tbody>\n",
       "    <tr>\n",
       "      <th>0</th>\n",
       "      <td>typed-literal</td>\n",
       "      <td>http://www.w3.org/2001/XMLSchema#integer</td>\n",
       "      <td>150346</td>\n",
       "    </tr>\n",
       "  </tbody>\n",
       "</table>\n",
       "</div>"
      ],
      "text/plain": [
       "  callret-0.type                        callret-0.datatype callret-0.value\n",
       "0  typed-literal  http://www.w3.org/2001/XMLSchema#integer          150346"
      ]
     },
     "execution_count": 2,
     "metadata": {},
     "output_type": "execute_result"
    }
   ],
   "source": [
    "sparql_query = \"\"\"\n",
    "\n",
    "SELECT COUNT(?business)\n",
    "WHERE {\n",
    "    ?business rdfs:Class schema:LocalBusiness .\n",
    "}\n",
    "\n",
    "\"\"\"\n",
    "\n",
    "run_query(query=sparql_query, as_dataframe=True)"
   ]
  },
  {
   "cell_type": "code",
   "execution_count": 3,
   "metadata": {
    "collapsed": false,
    "pycharm": {
     "name": "#%%\n"
    }
   },
   "outputs": [
    {
     "data": {
      "text/plain": [
       "150346"
      ]
     },
     "execution_count": 3,
     "metadata": {},
     "output_type": "execute_result"
    }
   ],
   "source": [
    "len(businesses[\"business_id\"].unique())"
   ]
  },
  {
   "cell_type": "markdown",
   "metadata": {
    "collapsed": false,
    "pycharm": {
     "name": "#%% md\n"
    }
   },
   "source": [
    "### Distribution of ratings"
   ]
  },
  {
   "cell_type": "code",
   "execution_count": 148,
   "metadata": {},
   "outputs": [
    {
     "data": {
      "text/html": [
       "<div>\n",
       "<style scoped>\n",
       "    .dataframe tbody tr th:only-of-type {\n",
       "        vertical-align: middle;\n",
       "    }\n",
       "\n",
       "    .dataframe tbody tr th {\n",
       "        vertical-align: top;\n",
       "    }\n",
       "\n",
       "    .dataframe thead th {\n",
       "        text-align: right;\n",
       "    }\n",
       "</style>\n",
       "<table border=\"1\" class=\"dataframe\">\n",
       "  <thead>\n",
       "    <tr style=\"text-align: right;\">\n",
       "      <th></th>\n",
       "      <th>business.type</th>\n",
       "      <th>business.value</th>\n",
       "      <th>rating.type</th>\n",
       "      <th>rating.datatype</th>\n",
       "      <th>rating.value</th>\n",
       "      <th>callret-2.type</th>\n",
       "      <th>callret-2.value</th>\n",
       "    </tr>\n",
       "  </thead>\n",
       "  <tbody>\n",
       "    <tr>\n",
       "      <th>0</th>\n",
       "      <td>uri</td>\n",
       "      <td>https://example.org/business_id/-a7VXX0-V9LgWMFrq90iNA</td>\n",
       "      <td>typed-literal</td>\n",
       "      <td>http://www.w3.org/2001/XMLSchema#float</td>\n",
       "      <td>3.5</td>\n",
       "      <td>literal</td>\n",
       "      <td>3.5</td>\n",
       "    </tr>\n",
       "    <tr>\n",
       "      <th>1</th>\n",
       "      <td>uri</td>\n",
       "      <td>https://example.org/business_id/0UqeZTDBdV0uY3wesbLvYQ</td>\n",
       "      <td>typed-literal</td>\n",
       "      <td>http://www.w3.org/2001/XMLSchema#float</td>\n",
       "      <td>4.0</td>\n",
       "      <td>literal</td>\n",
       "      <td>4</td>\n",
       "    </tr>\n",
       "    <tr>\n",
       "      <th>2</th>\n",
       "      <td>uri</td>\n",
       "      <td>https://example.org/business_id/1jx1sfgjgVg0nM6n3p0xWA</td>\n",
       "      <td>typed-literal</td>\n",
       "      <td>http://www.w3.org/2001/XMLSchema#float</td>\n",
       "      <td>4.5</td>\n",
       "      <td>literal</td>\n",
       "      <td>4.5</td>\n",
       "    </tr>\n",
       "    <tr>\n",
       "      <th>3</th>\n",
       "      <td>uri</td>\n",
       "      <td>https://example.org/business_id/2MAQeAqmD8enCT2ZYqUgIQ</td>\n",
       "      <td>typed-literal</td>\n",
       "      <td>http://www.w3.org/2001/XMLSchema#float</td>\n",
       "      <td>4.0</td>\n",
       "      <td>literal</td>\n",
       "      <td>4</td>\n",
       "    </tr>\n",
       "    <tr>\n",
       "      <th>4</th>\n",
       "      <td>uri</td>\n",
       "      <td>https://example.org/business_id/2O2K6SXPWv56amqxCECd4w</td>\n",
       "      <td>typed-literal</td>\n",
       "      <td>http://www.w3.org/2001/XMLSchema#float</td>\n",
       "      <td>4.5</td>\n",
       "      <td>literal</td>\n",
       "      <td>4.5</td>\n",
       "    </tr>\n",
       "    <tr>\n",
       "      <th>5</th>\n",
       "      <td>uri</td>\n",
       "      <td>https://example.org/business_id/5Z8iBpJMmOMz6G_7oVnzRA</td>\n",
       "      <td>typed-literal</td>\n",
       "      <td>http://www.w3.org/2001/XMLSchema#float</td>\n",
       "      <td>2.5</td>\n",
       "      <td>literal</td>\n",
       "      <td>2.5</td>\n",
       "    </tr>\n",
       "    <tr>\n",
       "      <th>6</th>\n",
       "      <td>uri</td>\n",
       "      <td>https://example.org/business_id/7omkeqEv-kKMIn9kmOR6Lw</td>\n",
       "      <td>typed-literal</td>\n",
       "      <td>http://www.w3.org/2001/XMLSchema#float</td>\n",
       "      <td>5.0</td>\n",
       "      <td>literal</td>\n",
       "      <td>5</td>\n",
       "    </tr>\n",
       "    <tr>\n",
       "      <th>7</th>\n",
       "      <td>uri</td>\n",
       "      <td>https://example.org/business_id/7xc84taj12pt-RtZhAfSkQ</td>\n",
       "      <td>typed-literal</td>\n",
       "      <td>http://www.w3.org/2001/XMLSchema#float</td>\n",
       "      <td>5.0</td>\n",
       "      <td>literal</td>\n",
       "      <td>5</td>\n",
       "    </tr>\n",
       "    <tr>\n",
       "      <th>8</th>\n",
       "      <td>uri</td>\n",
       "      <td>https://example.org/business_id/8n93L-ilMAsvwUatarykSg</td>\n",
       "      <td>typed-literal</td>\n",
       "      <td>http://www.w3.org/2001/XMLSchema#float</td>\n",
       "      <td>3.0</td>\n",
       "      <td>literal</td>\n",
       "      <td>3</td>\n",
       "    </tr>\n",
       "    <tr>\n",
       "      <th>9</th>\n",
       "      <td>uri</td>\n",
       "      <td>https://example.org/business_id/9RGR4_r4PJLTooNmscUE_A</td>\n",
       "      <td>typed-literal</td>\n",
       "      <td>http://www.w3.org/2001/XMLSchema#float</td>\n",
       "      <td>4.0</td>\n",
       "      <td>literal</td>\n",
       "      <td>4</td>\n",
       "    </tr>\n",
       "  </tbody>\n",
       "</table>\n",
       "</div>"
      ],
      "text/plain": [
       "  business.type                                          business.value  \\\n",
       "0           uri  https://example.org/business_id/-a7VXX0-V9LgWMFrq90iNA   \n",
       "1           uri  https://example.org/business_id/0UqeZTDBdV0uY3wesbLvYQ   \n",
       "2           uri  https://example.org/business_id/1jx1sfgjgVg0nM6n3p0xWA   \n",
       "3           uri  https://example.org/business_id/2MAQeAqmD8enCT2ZYqUgIQ   \n",
       "4           uri  https://example.org/business_id/2O2K6SXPWv56amqxCECd4w   \n",
       "5           uri  https://example.org/business_id/5Z8iBpJMmOMz6G_7oVnzRA   \n",
       "6           uri  https://example.org/business_id/7omkeqEv-kKMIn9kmOR6Lw   \n",
       "7           uri  https://example.org/business_id/7xc84taj12pt-RtZhAfSkQ   \n",
       "8           uri  https://example.org/business_id/8n93L-ilMAsvwUatarykSg   \n",
       "9           uri  https://example.org/business_id/9RGR4_r4PJLTooNmscUE_A   \n",
       "\n",
       "     rating.type                         rating.datatype rating.value  \\\n",
       "0  typed-literal  http://www.w3.org/2001/XMLSchema#float          3.5   \n",
       "1  typed-literal  http://www.w3.org/2001/XMLSchema#float          4.0   \n",
       "2  typed-literal  http://www.w3.org/2001/XMLSchema#float          4.5   \n",
       "3  typed-literal  http://www.w3.org/2001/XMLSchema#float          4.0   \n",
       "4  typed-literal  http://www.w3.org/2001/XMLSchema#float          4.5   \n",
       "5  typed-literal  http://www.w3.org/2001/XMLSchema#float          2.5   \n",
       "6  typed-literal  http://www.w3.org/2001/XMLSchema#float          5.0   \n",
       "7  typed-literal  http://www.w3.org/2001/XMLSchema#float          5.0   \n",
       "8  typed-literal  http://www.w3.org/2001/XMLSchema#float          3.0   \n",
       "9  typed-literal  http://www.w3.org/2001/XMLSchema#float          4.0   \n",
       "\n",
       "  callret-2.type callret-2.value  \n",
       "0        literal             3.5  \n",
       "1        literal               4  \n",
       "2        literal             4.5  \n",
       "3        literal               4  \n",
       "4        literal             4.5  \n",
       "5        literal             2.5  \n",
       "6        literal               5  \n",
       "7        literal               5  \n",
       "8        literal               3  \n",
       "9        literal               4  "
      ]
     },
     "execution_count": 148,
     "metadata": {},
     "output_type": "execute_result"
    }
   ],
   "source": [
    "sparql_query = \"\"\"\n",
    "\n",
    "SELECT ?business ?rating STR(?rating)\n",
    "FROM <http://www.yelpkg.com/business>\n",
    "WHERE {\n",
    "    ?business rdfs:Class schema:LocalBusiness .\n",
    "    ?business schema:starRating ?rating .\n",
    "}\n",
    "LIMIT 10\n",
    "\n",
    "\"\"\"\n",
    "\n",
    "run_query(query=sparql_query, as_dataframe=True)"
   ]
  },
  {
   "cell_type": "code",
   "execution_count": 88,
   "metadata": {},
   "outputs": [
    {
     "data": {
      "text/html": [
       "<div>\n",
       "<style scoped>\n",
       "    .dataframe tbody tr th:only-of-type {\n",
       "        vertical-align: middle;\n",
       "    }\n",
       "\n",
       "    .dataframe tbody tr th {\n",
       "        vertical-align: top;\n",
       "    }\n",
       "\n",
       "    .dataframe thead th {\n",
       "        text-align: right;\n",
       "    }\n",
       "</style>\n",
       "<table border=\"1\" class=\"dataframe\">\n",
       "  <thead>\n",
       "    <tr style=\"text-align: right;\">\n",
       "      <th></th>\n",
       "      <th>x.type</th>\n",
       "      <th>x.datatype</th>\n",
       "      <th>x.value</th>\n",
       "      <th>sx.type</th>\n",
       "      <th>sx.value</th>\n",
       "    </tr>\n",
       "  </thead>\n",
       "  <tbody>\n",
       "    <tr>\n",
       "      <th>0</th>\n",
       "      <td>typed-literal</td>\n",
       "      <td>http://www.w3.org/2001/XMLSchema#float</td>\n",
       "      <td>1.11111</td>\n",
       "      <td>literal</td>\n",
       "      <td>1.111109972000122</td>\n",
       "    </tr>\n",
       "    <tr>\n",
       "      <th>1</th>\n",
       "      <td>typed-literal</td>\n",
       "      <td>http://www.w3.org/2001/XMLSchema#float</td>\n",
       "      <td>1.11115</td>\n",
       "      <td>literal</td>\n",
       "      <td>1.111150026321411</td>\n",
       "    </tr>\n",
       "    <tr>\n",
       "      <th>2</th>\n",
       "      <td>typed-literal</td>\n",
       "      <td>http://www.w3.org/2001/XMLSchema#float</td>\n",
       "      <td>1.11119</td>\n",
       "      <td>literal</td>\n",
       "      <td>1.111189961433411</td>\n",
       "    </tr>\n",
       "  </tbody>\n",
       "</table>\n",
       "</div>"
      ],
      "text/plain": [
       "          x.type                              x.datatype  x.value  sx.type  \\\n",
       "0  typed-literal  http://www.w3.org/2001/XMLSchema#float  1.11111  literal   \n",
       "1  typed-literal  http://www.w3.org/2001/XMLSchema#float  1.11115  literal   \n",
       "2  typed-literal  http://www.w3.org/2001/XMLSchema#float  1.11119  literal   \n",
       "\n",
       "            sx.value  \n",
       "0  1.111109972000122  \n",
       "1  1.111150026321411  \n",
       "2  1.111189961433411  "
      ]
     },
     "execution_count": 88,
     "metadata": {},
     "output_type": "execute_result"
    }
   ],
   "source": [
    "sparql_query = \"\"\"\n",
    "\n",
    "select ?x, (str(?x) as ?sx) {\n",
    "  values ?x { \n",
    "    \"1.11111\"^^xsd:float\n",
    "    \"1.11115\"^^xsd:float\n",
    "    \"1.11119\"^^xsd:float\n",
    "  }\n",
    "}\n",
    "\n",
    "\"\"\"\n",
    "\n",
    "run_query(query=sparql_query, as_dataframe=True)"
   ]
  },
  {
   "cell_type": "code",
   "execution_count": 95,
   "metadata": {
    "collapsed": false,
    "pycharm": {
     "name": "#%%\n"
    }
   },
   "outputs": [
    {
     "data": {
      "text/html": [
       "<div>\n",
       "<style scoped>\n",
       "    .dataframe tbody tr th:only-of-type {\n",
       "        vertical-align: middle;\n",
       "    }\n",
       "\n",
       "    .dataframe tbody tr th {\n",
       "        vertical-align: top;\n",
       "    }\n",
       "\n",
       "    .dataframe thead th {\n",
       "        text-align: right;\n",
       "    }\n",
       "</style>\n",
       "<table border=\"1\" class=\"dataframe\">\n",
       "  <thead>\n",
       "    <tr style=\"text-align: right;\">\n",
       "      <th></th>\n",
       "      <th>round_rating.type</th>\n",
       "      <th>round_rating.datatype</th>\n",
       "      <th>round_rating.value</th>\n",
       "      <th>count_businesses.type</th>\n",
       "      <th>count_businesses.datatype</th>\n",
       "      <th>count_businesses.value</th>\n",
       "    </tr>\n",
       "  </thead>\n",
       "  <tbody>\n",
       "    <tr>\n",
       "      <th>0</th>\n",
       "      <td>typed-literal</td>\n",
       "      <td>http://www.w3.org/2001/XMLSchema#float</td>\n",
       "      <td>1.0</td>\n",
       "      <td>typed-literal</td>\n",
       "      <td>http://www.w3.org/2001/XMLSchema#integer</td>\n",
       "      <td>1986</td>\n",
       "    </tr>\n",
       "    <tr>\n",
       "      <th>1</th>\n",
       "      <td>typed-literal</td>\n",
       "      <td>http://www.w3.org/2001/XMLSchema#float</td>\n",
       "      <td>1.5</td>\n",
       "      <td>typed-literal</td>\n",
       "      <td>http://www.w3.org/2001/XMLSchema#integer</td>\n",
       "      <td>4932</td>\n",
       "    </tr>\n",
       "    <tr>\n",
       "      <th>2</th>\n",
       "      <td>typed-literal</td>\n",
       "      <td>http://www.w3.org/2001/XMLSchema#float</td>\n",
       "      <td>2.0</td>\n",
       "      <td>typed-literal</td>\n",
       "      <td>http://www.w3.org/2001/XMLSchema#integer</td>\n",
       "      <td>9527</td>\n",
       "    </tr>\n",
       "    <tr>\n",
       "      <th>3</th>\n",
       "      <td>typed-literal</td>\n",
       "      <td>http://www.w3.org/2001/XMLSchema#float</td>\n",
       "      <td>2.5</td>\n",
       "      <td>typed-literal</td>\n",
       "      <td>http://www.w3.org/2001/XMLSchema#integer</td>\n",
       "      <td>14316</td>\n",
       "    </tr>\n",
       "    <tr>\n",
       "      <th>4</th>\n",
       "      <td>typed-literal</td>\n",
       "      <td>http://www.w3.org/2001/XMLSchema#float</td>\n",
       "      <td>3.0</td>\n",
       "      <td>typed-literal</td>\n",
       "      <td>http://www.w3.org/2001/XMLSchema#integer</td>\n",
       "      <td>18453</td>\n",
       "    </tr>\n",
       "    <tr>\n",
       "      <th>5</th>\n",
       "      <td>typed-literal</td>\n",
       "      <td>http://www.w3.org/2001/XMLSchema#float</td>\n",
       "      <td>3.5</td>\n",
       "      <td>typed-literal</td>\n",
       "      <td>http://www.w3.org/2001/XMLSchema#integer</td>\n",
       "      <td>26519</td>\n",
       "    </tr>\n",
       "    <tr>\n",
       "      <th>6</th>\n",
       "      <td>typed-literal</td>\n",
       "      <td>http://www.w3.org/2001/XMLSchema#float</td>\n",
       "      <td>4.0</td>\n",
       "      <td>typed-literal</td>\n",
       "      <td>http://www.w3.org/2001/XMLSchema#integer</td>\n",
       "      <td>31125</td>\n",
       "    </tr>\n",
       "    <tr>\n",
       "      <th>7</th>\n",
       "      <td>typed-literal</td>\n",
       "      <td>http://www.w3.org/2001/XMLSchema#float</td>\n",
       "      <td>4.5</td>\n",
       "      <td>typed-literal</td>\n",
       "      <td>http://www.w3.org/2001/XMLSchema#integer</td>\n",
       "      <td>27181</td>\n",
       "    </tr>\n",
       "    <tr>\n",
       "      <th>8</th>\n",
       "      <td>typed-literal</td>\n",
       "      <td>http://www.w3.org/2001/XMLSchema#float</td>\n",
       "      <td>5.0</td>\n",
       "      <td>typed-literal</td>\n",
       "      <td>http://www.w3.org/2001/XMLSchema#integer</td>\n",
       "      <td>16307</td>\n",
       "    </tr>\n",
       "  </tbody>\n",
       "</table>\n",
       "</div>"
      ],
      "text/plain": [
       "  round_rating.type                   round_rating.datatype  \\\n",
       "0     typed-literal  http://www.w3.org/2001/XMLSchema#float   \n",
       "1     typed-literal  http://www.w3.org/2001/XMLSchema#float   \n",
       "2     typed-literal  http://www.w3.org/2001/XMLSchema#float   \n",
       "3     typed-literal  http://www.w3.org/2001/XMLSchema#float   \n",
       "4     typed-literal  http://www.w3.org/2001/XMLSchema#float   \n",
       "5     typed-literal  http://www.w3.org/2001/XMLSchema#float   \n",
       "6     typed-literal  http://www.w3.org/2001/XMLSchema#float   \n",
       "7     typed-literal  http://www.w3.org/2001/XMLSchema#float   \n",
       "8     typed-literal  http://www.w3.org/2001/XMLSchema#float   \n",
       "\n",
       "  round_rating.value count_businesses.type  \\\n",
       "0                1.0         typed-literal   \n",
       "1                1.5         typed-literal   \n",
       "2                2.0         typed-literal   \n",
       "3                2.5         typed-literal   \n",
       "4                3.0         typed-literal   \n",
       "5                3.5         typed-literal   \n",
       "6                4.0         typed-literal   \n",
       "7                4.5         typed-literal   \n",
       "8                5.0         typed-literal   \n",
       "\n",
       "                  count_businesses.datatype count_businesses.value  \n",
       "0  http://www.w3.org/2001/XMLSchema#integer                   1986  \n",
       "1  http://www.w3.org/2001/XMLSchema#integer                   4932  \n",
       "2  http://www.w3.org/2001/XMLSchema#integer                   9527  \n",
       "3  http://www.w3.org/2001/XMLSchema#integer                  14316  \n",
       "4  http://www.w3.org/2001/XMLSchema#integer                  18453  \n",
       "5  http://www.w3.org/2001/XMLSchema#integer                  26519  \n",
       "6  http://www.w3.org/2001/XMLSchema#integer                  31125  \n",
       "7  http://www.w3.org/2001/XMLSchema#integer                  27181  \n",
       "8  http://www.w3.org/2001/XMLSchema#integer                  16307  "
      ]
     },
     "execution_count": 95,
     "metadata": {},
     "output_type": "execute_result"
    }
   ],
   "source": [
    "sparql_query = \"\"\"\n",
    "\n",
    "SELECT ROUND(?rating * 10) / 10 AS ?round_rating COUNT(?rating) AS ?count_businesses\n",
    "FROM <http://www.yelpkg.com/business>\n",
    "WHERE {\n",
    "    ?business rdfs:Class schema:LocalBusiness .\n",
    "    ?business schema:starRating ?rating .\n",
    "}\n",
    "GROUP BY (ROUND(?rating * 10) / 10)\n",
    "ORDER BY (ROUND(?rating * 10) / 10)\n",
    "\n",
    "\"\"\"\n",
    "\n",
    "run_query(query=sparql_query, as_dataframe=True)"
   ]
  },
  {
   "cell_type": "code",
   "execution_count": 47,
   "metadata": {
    "collapsed": false,
    "pycharm": {
     "name": "#%%\n"
    }
   },
   "outputs": [
    {
     "data": {
      "text/plain": [
       "stars\n",
       "1.0     1986\n",
       "1.5     4932\n",
       "2.0     9527\n",
       "2.5    14316\n",
       "3.0    18453\n",
       "3.5    26519\n",
       "4.0    31125\n",
       "4.5    27181\n",
       "5.0    16307\n",
       "Name: stars, dtype: int64"
      ]
     },
     "execution_count": 47,
     "metadata": {},
     "output_type": "execute_result"
    }
   ],
   "source": [
    "businesses.groupby('stars')['stars'].count()"
   ]
  },
  {
   "cell_type": "markdown",
   "metadata": {
    "collapsed": false,
    "pycharm": {
     "name": "#%% md\n"
    }
   },
   "source": [
    "### Total average rating"
   ]
  },
  {
   "cell_type": "code",
   "execution_count": 11,
   "metadata": {
    "collapsed": false,
    "pycharm": {
     "name": "#%%\n"
    }
   },
   "outputs": [
    {
     "data": {
      "text/html": [
       "<div>\n",
       "<style scoped>\n",
       "    .dataframe tbody tr th:only-of-type {\n",
       "        vertical-align: middle;\n",
       "    }\n",
       "\n",
       "    .dataframe tbody tr th {\n",
       "        vertical-align: top;\n",
       "    }\n",
       "\n",
       "    .dataframe thead th {\n",
       "        text-align: right;\n",
       "    }\n",
       "</style>\n",
       "<table border=\"1\" class=\"dataframe\">\n",
       "  <thead>\n",
       "    <tr style=\"text-align: right;\">\n",
       "      <th></th>\n",
       "      <th>averagerating.type</th>\n",
       "      <th>averagerating.datatype</th>\n",
       "      <th>averagerating.value</th>\n",
       "    </tr>\n",
       "  </thead>\n",
       "  <tbody>\n",
       "    <tr>\n",
       "      <th>0</th>\n",
       "      <td>typed-literal</td>\n",
       "      <td>http://www.w3.org/2001/XMLSchema#decimal</td>\n",
       "      <td>3.59672355766033</td>\n",
       "    </tr>\n",
       "  </tbody>\n",
       "</table>\n",
       "</div>"
      ],
      "text/plain": [
       "  averagerating.type                    averagerating.datatype  \\\n",
       "0      typed-literal  http://www.w3.org/2001/XMLSchema#decimal   \n",
       "\n",
       "  averagerating.value  \n",
       "0    3.59672355766033  "
      ]
     },
     "execution_count": 11,
     "metadata": {},
     "output_type": "execute_result"
    }
   ],
   "source": [
    "sparql_query = \"\"\"\n",
    "\n",
    "SELECT AVG(?rating) as ?averagerating\n",
    "FROM <http://www.yelpkg.com/business>\n",
    "WHERE {\n",
    "    ?business rdfs:Class schema:LocalBusiness .\n",
    "    ?business schema:starRating ?rating .\n",
    "}\n",
    "\n",
    "\"\"\"\n",
    "\n",
    "run_query(query=sparql_query, as_dataframe=True)"
   ]
  },
  {
   "cell_type": "code",
   "execution_count": 12,
   "metadata": {
    "collapsed": false,
    "pycharm": {
     "name": "#%%\n"
    }
   },
   "outputs": [
    {
     "data": {
      "text/plain": [
       "3.5967235576603303"
      ]
     },
     "execution_count": 12,
     "metadata": {},
     "output_type": "execute_result"
    }
   ],
   "source": [
    "businesses['stars'].mean()"
   ]
  },
  {
   "cell_type": "markdown",
   "metadata": {
    "collapsed": false
   },
   "source": [
    "### Number of businesses in different geographical regions"
   ]
  },
  {
   "cell_type": "code",
   "execution_count": 129,
   "metadata": {},
   "outputs": [
    {
     "data": {
      "text/html": [
       "<div>\n",
       "<style scoped>\n",
       "    .dataframe tbody tr th:only-of-type {\n",
       "        vertical-align: middle;\n",
       "    }\n",
       "\n",
       "    .dataframe tbody tr th {\n",
       "        vertical-align: top;\n",
       "    }\n",
       "\n",
       "    .dataframe thead th {\n",
       "        text-align: right;\n",
       "    }\n",
       "</style>\n",
       "<table border=\"1\" class=\"dataframe\">\n",
       "  <thead>\n",
       "    <tr style=\"text-align: right;\">\n",
       "      <th></th>\n",
       "      <th>state.value</th>\n",
       "      <th>city.value</th>\n",
       "      <th>count_business.value</th>\n",
       "    </tr>\n",
       "  </thead>\n",
       "  <tbody>\n",
       "    <tr>\n",
       "      <th>0</th>\n",
       "      <td>PA</td>\n",
       "      <td>Philadelphia</td>\n",
       "      <td>14567</td>\n",
       "    </tr>\n",
       "    <tr>\n",
       "      <th>1</th>\n",
       "      <td>AZ</td>\n",
       "      <td>Tucson</td>\n",
       "      <td>9249</td>\n",
       "    </tr>\n",
       "    <tr>\n",
       "      <th>2</th>\n",
       "      <td>FL</td>\n",
       "      <td>Tampa</td>\n",
       "      <td>9048</td>\n",
       "    </tr>\n",
       "    <tr>\n",
       "      <th>3</th>\n",
       "      <td>IN</td>\n",
       "      <td>Indianapolis</td>\n",
       "      <td>7540</td>\n",
       "    </tr>\n",
       "    <tr>\n",
       "      <th>4</th>\n",
       "      <td>TN</td>\n",
       "      <td>Nashville</td>\n",
       "      <td>6968</td>\n",
       "    </tr>\n",
       "    <tr>\n",
       "      <th>5</th>\n",
       "      <td>LA</td>\n",
       "      <td>New Orleans</td>\n",
       "      <td>6208</td>\n",
       "    </tr>\n",
       "    <tr>\n",
       "      <th>6</th>\n",
       "      <td>NV</td>\n",
       "      <td>Reno</td>\n",
       "      <td>5932</td>\n",
       "    </tr>\n",
       "    <tr>\n",
       "      <th>7</th>\n",
       "      <td>AB</td>\n",
       "      <td>Edmonton</td>\n",
       "      <td>5054</td>\n",
       "    </tr>\n",
       "    <tr>\n",
       "      <th>8</th>\n",
       "      <td>MO</td>\n",
       "      <td>Saint Louis</td>\n",
       "      <td>4827</td>\n",
       "    </tr>\n",
       "    <tr>\n",
       "      <th>9</th>\n",
       "      <td>CA</td>\n",
       "      <td>Santa Barbara</td>\n",
       "      <td>3829</td>\n",
       "    </tr>\n",
       "  </tbody>\n",
       "</table>\n",
       "</div>"
      ],
      "text/plain": [
       "  state.value     city.value count_business.value\n",
       "0          PA   Philadelphia                14567\n",
       "1          AZ         Tucson                 9249\n",
       "2          FL          Tampa                 9048\n",
       "3          IN   Indianapolis                 7540\n",
       "4          TN      Nashville                 6968\n",
       "5          LA    New Orleans                 6208\n",
       "6          NV           Reno                 5932\n",
       "7          AB       Edmonton                 5054\n",
       "8          MO    Saint Louis                 4827\n",
       "9          CA  Santa Barbara                 3829"
      ]
     },
     "execution_count": 129,
     "metadata": {},
     "output_type": "execute_result"
    }
   ],
   "source": [
    "sparql_query = \"\"\"\n",
    "\n",
    "SELECT ?state ?city COUNT(?business) AS ?count_business\n",
    "FROM <http://www.yelpkg.com/business>\n",
    "WHERE {\n",
    "    ?business rdfs:Class schema:LocalBusiness .\n",
    "    ?business schema:addressRegion ?state .\n",
    "    ?business schema:location ?city .\n",
    "}\n",
    "GROUP BY ?state ?city\n",
    "ORDER BY DESC(?count_business)\n",
    "LIMIT 10\n",
    "\n",
    "\"\"\"\n",
    "\n",
    "run_query(query=sparql_query, as_dataframe=True)[[\"state.value\", \"city.value\", \"count_business.value\"]]"
   ]
  },
  {
   "cell_type": "code",
   "execution_count": 126,
   "metadata": {
    "collapsed": false,
    "pycharm": {
     "name": "#%%\n"
    }
   },
   "outputs": [
    {
     "data": {
      "text/plain": [
       "state  city         \n",
       "PA     Philadelphia     14567\n",
       "AZ     Tucson            9249\n",
       "FL     Tampa             9048\n",
       "IN     Indianapolis      7540\n",
       "TN     Nashville         6968\n",
       "LA     New Orleans       6208\n",
       "NV     Reno              5932\n",
       "AB     Edmonton          5054\n",
       "MO     Saint Louis       4827\n",
       "CA     Santa Barbara     3829\n",
       "Name: business_id, dtype: int64"
      ]
     },
     "execution_count": 126,
     "metadata": {},
     "output_type": "execute_result"
    }
   ],
   "source": [
    "businesses.groupby([\"state\", \"city\"])[\"business_id\"].count().sort_values(ascending=False)[0:10]"
   ]
  },
  {
   "cell_type": "markdown",
   "metadata": {
    "collapsed": false
   },
   "source": [
    "### Different categories and numbers of businesses within that category"
   ]
  },
  {
   "cell_type": "code",
   "execution_count": 145,
   "metadata": {
    "collapsed": false,
    "pycharm": {
     "name": "#%%\n"
    }
   },
   "outputs": [
    {
     "data": {
      "text/html": [
       "<div>\n",
       "<style scoped>\n",
       "    .dataframe tbody tr th:only-of-type {\n",
       "        vertical-align: middle;\n",
       "    }\n",
       "\n",
       "    .dataframe tbody tr th {\n",
       "        vertical-align: top;\n",
       "    }\n",
       "\n",
       "    .dataframe thead th {\n",
       "        text-align: right;\n",
       "    }\n",
       "</style>\n",
       "<table border=\"1\" class=\"dataframe\">\n",
       "  <thead>\n",
       "    <tr style=\"text-align: right;\">\n",
       "      <th></th>\n",
       "      <th>category.type</th>\n",
       "      <th>category.datatype</th>\n",
       "      <th>category.value</th>\n",
       "      <th>count_business.type</th>\n",
       "      <th>count_business.datatype</th>\n",
       "      <th>count_business.value</th>\n",
       "    </tr>\n",
       "  </thead>\n",
       "  <tbody>\n",
       "    <tr>\n",
       "      <th>0</th>\n",
       "      <td>typed-literal</td>\n",
       "      <td>http://www.w3.org/2001/XMLSchema#string</td>\n",
       "      <td>Restaurants</td>\n",
       "      <td>typed-literal</td>\n",
       "      <td>http://www.w3.org/2001/XMLSchema#integer</td>\n",
       "      <td>52268</td>\n",
       "    </tr>\n",
       "    <tr>\n",
       "      <th>1</th>\n",
       "      <td>typed-literal</td>\n",
       "      <td>http://www.w3.org/2001/XMLSchema#string</td>\n",
       "      <td>Food</td>\n",
       "      <td>typed-literal</td>\n",
       "      <td>http://www.w3.org/2001/XMLSchema#integer</td>\n",
       "      <td>27781</td>\n",
       "    </tr>\n",
       "    <tr>\n",
       "      <th>2</th>\n",
       "      <td>typed-literal</td>\n",
       "      <td>http://www.w3.org/2001/XMLSchema#string</td>\n",
       "      <td>Shopping</td>\n",
       "      <td>typed-literal</td>\n",
       "      <td>http://www.w3.org/2001/XMLSchema#integer</td>\n",
       "      <td>24395</td>\n",
       "    </tr>\n",
       "    <tr>\n",
       "      <th>3</th>\n",
       "      <td>typed-literal</td>\n",
       "      <td>http://www.w3.org/2001/XMLSchema#string</td>\n",
       "      <td>Home Services</td>\n",
       "      <td>typed-literal</td>\n",
       "      <td>http://www.w3.org/2001/XMLSchema#integer</td>\n",
       "      <td>14356</td>\n",
       "    </tr>\n",
       "    <tr>\n",
       "      <th>4</th>\n",
       "      <td>typed-literal</td>\n",
       "      <td>http://www.w3.org/2001/XMLSchema#string</td>\n",
       "      <td>Beauty &amp; Spas</td>\n",
       "      <td>typed-literal</td>\n",
       "      <td>http://www.w3.org/2001/XMLSchema#integer</td>\n",
       "      <td>14292</td>\n",
       "    </tr>\n",
       "  </tbody>\n",
       "</table>\n",
       "</div>"
      ],
      "text/plain": [
       "   category.type                        category.datatype category.value  \\\n",
       "0  typed-literal  http://www.w3.org/2001/XMLSchema#string    Restaurants   \n",
       "1  typed-literal  http://www.w3.org/2001/XMLSchema#string           Food   \n",
       "2  typed-literal  http://www.w3.org/2001/XMLSchema#string       Shopping   \n",
       "3  typed-literal  http://www.w3.org/2001/XMLSchema#string  Home Services   \n",
       "4  typed-literal  http://www.w3.org/2001/XMLSchema#string  Beauty & Spas   \n",
       "\n",
       "  count_business.type                   count_business.datatype  \\\n",
       "0       typed-literal  http://www.w3.org/2001/XMLSchema#integer   \n",
       "1       typed-literal  http://www.w3.org/2001/XMLSchema#integer   \n",
       "2       typed-literal  http://www.w3.org/2001/XMLSchema#integer   \n",
       "3       typed-literal  http://www.w3.org/2001/XMLSchema#integer   \n",
       "4       typed-literal  http://www.w3.org/2001/XMLSchema#integer   \n",
       "\n",
       "  count_business.value  \n",
       "0                52268  \n",
       "1                27781  \n",
       "2                24395  \n",
       "3                14356  \n",
       "4                14292  "
      ]
     },
     "execution_count": 145,
     "metadata": {},
     "output_type": "execute_result"
    }
   ],
   "source": [
    "sparql_query = \"\"\"\n",
    "\n",
    "SELECT ?category COUNT(?business) AS ?count_business\n",
    "WHERE {\n",
    "    ?business rdfs:Class schema:LocalBusiness .\n",
    "    ?business schema:category ?category .\n",
    "}\n",
    "GROUP BY ?category\n",
    "ORDER BY DESC(?count_business)\n",
    "LIMIT 5\n",
    "\"\"\"\n",
    "\n",
    "run_query(query=sparql_query, as_dataframe=True)"
   ]
  },
  {
   "cell_type": "code",
   "execution_count": 146,
   "metadata": {
    "collapsed": false,
    "pycharm": {
     "name": "#%%\n"
    }
   },
   "outputs": [
    {
     "data": {
      "text/plain": [
       "14292"
      ]
     },
     "execution_count": 146,
     "metadata": {},
     "output_type": "execute_result"
    }
   ],
   "source": [
    "def str_split(string):\n",
    "    if isinstance(string, str):\n",
    "        return string.split(\", \")\n",
    "    else:\n",
    "        return string\n",
    "\n",
    "\n",
    "businesses[\"categories\"] = businesses[\"categories\"].apply(str_split)\n",
    "\n",
    "category_biz_count = {}\n",
    "for i in range(len(businesses)):\n",
    "    if businesses[\"categories\"][i]:\n",
    "        for category in businesses[\"categories\"][i]:\n",
    "            category_biz_count[category] = category_biz_count.get(category, 0) + 1\n",
    "\n",
    "category_biz_count[\"Beauty & Spas\"]"
   ]
  },
  {
   "cell_type": "markdown",
   "metadata": {
    "collapsed": false,
    "pycharm": {
     "name": "#%% md\n"
    }
   },
   "source": [
    "# Users"
   ]
  },
  {
   "cell_type": "markdown",
   "metadata": {
    "collapsed": false
   },
   "source": [
    "### Number of Users"
   ]
  },
  {
   "cell_type": "code",
   "execution_count": 37,
   "metadata": {
    "collapsed": false,
    "pycharm": {
     "name": "#%%\n"
    }
   },
   "outputs": [
    {
     "data": {
      "text/html": [
       "<div>\n",
       "<style scoped>\n",
       "    .dataframe tbody tr th:only-of-type {\n",
       "        vertical-align: middle;\n",
       "    }\n",
       "\n",
       "    .dataframe tbody tr th {\n",
       "        vertical-align: top;\n",
       "    }\n",
       "\n",
       "    .dataframe thead th {\n",
       "        text-align: right;\n",
       "    }\n",
       "</style>\n",
       "<table border=\"1\" class=\"dataframe\">\n",
       "  <thead>\n",
       "    <tr style=\"text-align: right;\">\n",
       "      <th></th>\n",
       "      <th>callret-0.type</th>\n",
       "      <th>callret-0.datatype</th>\n",
       "      <th>callret-0.value</th>\n",
       "    </tr>\n",
       "  </thead>\n",
       "  <tbody>\n",
       "    <tr>\n",
       "      <th>0</th>\n",
       "      <td>typed-literal</td>\n",
       "      <td>http://www.w3.org/2001/XMLSchema#integer</td>\n",
       "      <td>0</td>\n",
       "    </tr>\n",
       "  </tbody>\n",
       "</table>\n",
       "</div>"
      ],
      "text/plain": [
       "  callret-0.type                        callret-0.datatype callret-0.value\n",
       "0  typed-literal  http://www.w3.org/2001/XMLSchema#integer               0"
      ]
     },
     "execution_count": 37,
     "metadata": {},
     "output_type": "execute_result"
    }
   ],
   "source": [
    "sparql_query = \"\"\"\n",
    "\n",
    "SELECT COUNT(?users)\n",
    "FROM <http://www.yelpkg.com/user>\n",
    "WHERE {\n",
    "    ?user rdfs:Class schema:Person .\n",
    "}\n",
    "\"\"\"\n",
    "\n",
    "run_query(query=sparql_query, as_dataframe=True)"
   ]
  },
  {
   "cell_type": "code",
   "execution_count": 38,
   "metadata": {
    "collapsed": false,
    "pycharm": {
     "name": "#%%\n"
    }
   },
   "outputs": [
    {
     "data": {
      "text/plain": [
       "1987897"
      ]
     },
     "execution_count": 38,
     "metadata": {},
     "output_type": "execute_result"
    }
   ],
   "source": [
    "len(users[\"user_id\"].unique())"
   ]
  }
 ],
 "metadata": {
  "kernelspec": {
   "display_name": "Python 3.10.8 64-bit",
   "language": "python",
   "name": "python3"
  },
  "language_info": {
   "codemirror_mode": {
    "name": "ipython",
    "version": 3
   },
   "file_extension": ".py",
   "mimetype": "text/x-python",
   "name": "python",
   "nbconvert_exporter": "python",
   "pygments_lexer": "ipython3",
   "version": "3.10.8"
  },
  "vscode": {
   "interpreter": {
    "hash": "8a94588eda9d64d9e9a351ab8144e55b1fabf5113b54e67dd26a8c27df0381b3"
   }
  }
 },
 "nbformat": 4,
 "nbformat_minor": 0
}
