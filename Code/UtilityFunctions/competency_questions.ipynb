{
 "cells": [
  {
   "cell_type": "code",
   "execution_count": 3,
   "outputs": [
    {
     "data": {
      "text/plain": "                   business_id                      name  \\\n0       Pns2l4eNsfO8kk83dixA6A  Abby Rappoport, LAC, CMQ   \n1       mpf3x-BjTdTEA3yCZrAYPw             The UPS Store   \n2       tUFrWirKiKi_TAnsVWINQQ                    Target   \n3       MTSW4McQd7CbVtyjqoe9mw        St Honore Pastries   \n4       mWMc6_wTdE0EUBKIGXDVfA  Perkiomen Valley Brewery   \n...                        ...                       ...   \n150341  IUQopTMmYQG-qRtBk-8QnA              Binh's Nails   \n150342  c8GjPIOTGVmIemT7j5_SyQ      Wild Birds Unlimited   \n150343  _QAMST-NrQobXduilWEqSw         Claire's Boutique   \n150344  mtGm22y5c2UHNXDFAjaPNw  Cyclery & Fitness Center   \n150345  jV_XOycEzSlTx-65W906pg                   Sic Ink   \n\n                                address           city state postal_code  \\\n0                1616 Chapala St, Ste 2  Santa Barbara    CA       93101   \n1       87 Grasso Plaza Shopping Center         Affton    MO       63123   \n2                  5255 E Broadway Blvd         Tucson    AZ       85711   \n3                           935 Race St   Philadelphia    PA       19107   \n4                         101 Walnut St     Green Lane    PA       18054   \n...                                 ...            ...   ...         ...   \n150341                3388 Gateway Blvd       Edmonton    AB     T6J 5H2   \n150342               2813 Bransford Ave      Nashville    TN       37204   \n150343           6020 E 82nd St, Ste 46   Indianapolis    IN       46250   \n150344                     2472 Troy Rd   Edwardsville    IL       62025   \n150345            238 Apollo Beach Blvd   Apollo beach    FL       33572   \n\n         latitude   longitude  stars  review_count  is_open  \\\n0       34.426679 -119.711197    5.0             7        0   \n1       38.551126  -90.335695    3.0            15        1   \n2       32.223236 -110.880452    3.5            22        0   \n3       39.955505  -75.155564    4.0            80        1   \n4       40.338183  -75.471659    4.5            13        1   \n...           ...         ...    ...           ...      ...   \n150341  53.468419 -113.492054    3.0            13        1   \n150342  36.115118  -86.766925    4.0             5        1   \n150343  39.908707  -86.065088    3.5             8        1   \n150344  38.782351  -89.950558    4.0            24        1   \n150345  27.771002  -82.394910    4.5             9        1   \n\n                                               attributes  \\\n0                           {'ByAppointmentOnly': 'True'}   \n1                  {'BusinessAcceptsCreditCards': 'True'}   \n2       {'BikeParking': 'True', 'BusinessAcceptsCredit...   \n3       {'RestaurantsDelivery': 'False', 'OutdoorSeati...   \n4       {'BusinessAcceptsCreditCards': 'True', 'Wheelc...   \n...                                                   ...   \n150341  {'ByAppointmentOnly': 'False', 'RestaurantsPri...   \n150342  {'BusinessAcceptsCreditCards': 'True', 'Restau...   \n150343  {'RestaurantsPriceRange2': '1', 'BusinessAccep...   \n150344  {'BusinessParking': '{'garage': False, 'street...   \n150345  {'WheelchairAccessible': 'True', 'BusinessAcce...   \n\n                                               categories  \\\n0       Doctors, Traditional Chinese Medicine, Naturop...   \n1       Shipping Centers, Local Services, Notaries, Ma...   \n2       Department Stores, Shopping, Fashion, Home & G...   \n3       Restaurants, Food, Bubble Tea, Coffee & Tea, B...   \n4                               Brewpubs, Breweries, Food   \n...                                                   ...   \n150341                         Nail Salons, Beauty & Spas   \n150342  Pets, Nurseries & Gardening, Pet Stores, Hobby...   \n150343  Shopping, Jewelry, Piercing, Toy Stores, Beaut...   \n150344  Fitness/Exercise Equipment, Eyewear & Optician...   \n150345  Beauty & Spas, Permanent Makeup, Piercing, Tattoo   \n\n                                                    hours  \n0                                                    None  \n1       {'Monday': '0:0-0:0', 'Tuesday': '8:0-18:30', ...  \n2       {'Monday': '8:0-22:0', 'Tuesday': '8:0-22:0', ...  \n3       {'Monday': '7:0-20:0', 'Tuesday': '7:0-20:0', ...  \n4       {'Wednesday': '14:0-22:0', 'Thursday': '16:0-2...  \n...                                                   ...  \n150341  {'Monday': '10:0-19:30', 'Tuesday': '10:0-19:3...  \n150342  {'Monday': '9:30-17:30', 'Tuesday': '9:30-17:3...  \n150343                                               None  \n150344  {'Monday': '9:0-20:0', 'Tuesday': '9:0-20:0', ...  \n150345  {'Tuesday': '12:0-19:0', 'Wednesday': '12:0-19...  \n\n[150346 rows x 14 columns]",
      "text/html": "<div>\n<style scoped>\n    .dataframe tbody tr th:only-of-type {\n        vertical-align: middle;\n    }\n\n    .dataframe tbody tr th {\n        vertical-align: top;\n    }\n\n    .dataframe thead th {\n        text-align: right;\n    }\n</style>\n<table border=\"1\" class=\"dataframe\">\n  <thead>\n    <tr style=\"text-align: right;\">\n      <th></th>\n      <th>business_id</th>\n      <th>name</th>\n      <th>address</th>\n      <th>city</th>\n      <th>state</th>\n      <th>postal_code</th>\n      <th>latitude</th>\n      <th>longitude</th>\n      <th>stars</th>\n      <th>review_count</th>\n      <th>is_open</th>\n      <th>attributes</th>\n      <th>categories</th>\n      <th>hours</th>\n    </tr>\n  </thead>\n  <tbody>\n    <tr>\n      <th>0</th>\n      <td>Pns2l4eNsfO8kk83dixA6A</td>\n      <td>Abby Rappoport, LAC, CMQ</td>\n      <td>1616 Chapala St, Ste 2</td>\n      <td>Santa Barbara</td>\n      <td>CA</td>\n      <td>93101</td>\n      <td>34.426679</td>\n      <td>-119.711197</td>\n      <td>5.0</td>\n      <td>7</td>\n      <td>0</td>\n      <td>{'ByAppointmentOnly': 'True'}</td>\n      <td>Doctors, Traditional Chinese Medicine, Naturop...</td>\n      <td>None</td>\n    </tr>\n    <tr>\n      <th>1</th>\n      <td>mpf3x-BjTdTEA3yCZrAYPw</td>\n      <td>The UPS Store</td>\n      <td>87 Grasso Plaza Shopping Center</td>\n      <td>Affton</td>\n      <td>MO</td>\n      <td>63123</td>\n      <td>38.551126</td>\n      <td>-90.335695</td>\n      <td>3.0</td>\n      <td>15</td>\n      <td>1</td>\n      <td>{'BusinessAcceptsCreditCards': 'True'}</td>\n      <td>Shipping Centers, Local Services, Notaries, Ma...</td>\n      <td>{'Monday': '0:0-0:0', 'Tuesday': '8:0-18:30', ...</td>\n    </tr>\n    <tr>\n      <th>2</th>\n      <td>tUFrWirKiKi_TAnsVWINQQ</td>\n      <td>Target</td>\n      <td>5255 E Broadway Blvd</td>\n      <td>Tucson</td>\n      <td>AZ</td>\n      <td>85711</td>\n      <td>32.223236</td>\n      <td>-110.880452</td>\n      <td>3.5</td>\n      <td>22</td>\n      <td>0</td>\n      <td>{'BikeParking': 'True', 'BusinessAcceptsCredit...</td>\n      <td>Department Stores, Shopping, Fashion, Home &amp; G...</td>\n      <td>{'Monday': '8:0-22:0', 'Tuesday': '8:0-22:0', ...</td>\n    </tr>\n    <tr>\n      <th>3</th>\n      <td>MTSW4McQd7CbVtyjqoe9mw</td>\n      <td>St Honore Pastries</td>\n      <td>935 Race St</td>\n      <td>Philadelphia</td>\n      <td>PA</td>\n      <td>19107</td>\n      <td>39.955505</td>\n      <td>-75.155564</td>\n      <td>4.0</td>\n      <td>80</td>\n      <td>1</td>\n      <td>{'RestaurantsDelivery': 'False', 'OutdoorSeati...</td>\n      <td>Restaurants, Food, Bubble Tea, Coffee &amp; Tea, B...</td>\n      <td>{'Monday': '7:0-20:0', 'Tuesday': '7:0-20:0', ...</td>\n    </tr>\n    <tr>\n      <th>4</th>\n      <td>mWMc6_wTdE0EUBKIGXDVfA</td>\n      <td>Perkiomen Valley Brewery</td>\n      <td>101 Walnut St</td>\n      <td>Green Lane</td>\n      <td>PA</td>\n      <td>18054</td>\n      <td>40.338183</td>\n      <td>-75.471659</td>\n      <td>4.5</td>\n      <td>13</td>\n      <td>1</td>\n      <td>{'BusinessAcceptsCreditCards': 'True', 'Wheelc...</td>\n      <td>Brewpubs, Breweries, Food</td>\n      <td>{'Wednesday': '14:0-22:0', 'Thursday': '16:0-2...</td>\n    </tr>\n    <tr>\n      <th>...</th>\n      <td>...</td>\n      <td>...</td>\n      <td>...</td>\n      <td>...</td>\n      <td>...</td>\n      <td>...</td>\n      <td>...</td>\n      <td>...</td>\n      <td>...</td>\n      <td>...</td>\n      <td>...</td>\n      <td>...</td>\n      <td>...</td>\n      <td>...</td>\n    </tr>\n    <tr>\n      <th>150341</th>\n      <td>IUQopTMmYQG-qRtBk-8QnA</td>\n      <td>Binh's Nails</td>\n      <td>3388 Gateway Blvd</td>\n      <td>Edmonton</td>\n      <td>AB</td>\n      <td>T6J 5H2</td>\n      <td>53.468419</td>\n      <td>-113.492054</td>\n      <td>3.0</td>\n      <td>13</td>\n      <td>1</td>\n      <td>{'ByAppointmentOnly': 'False', 'RestaurantsPri...</td>\n      <td>Nail Salons, Beauty &amp; Spas</td>\n      <td>{'Monday': '10:0-19:30', 'Tuesday': '10:0-19:3...</td>\n    </tr>\n    <tr>\n      <th>150342</th>\n      <td>c8GjPIOTGVmIemT7j5_SyQ</td>\n      <td>Wild Birds Unlimited</td>\n      <td>2813 Bransford Ave</td>\n      <td>Nashville</td>\n      <td>TN</td>\n      <td>37204</td>\n      <td>36.115118</td>\n      <td>-86.766925</td>\n      <td>4.0</td>\n      <td>5</td>\n      <td>1</td>\n      <td>{'BusinessAcceptsCreditCards': 'True', 'Restau...</td>\n      <td>Pets, Nurseries &amp; Gardening, Pet Stores, Hobby...</td>\n      <td>{'Monday': '9:30-17:30', 'Tuesday': '9:30-17:3...</td>\n    </tr>\n    <tr>\n      <th>150343</th>\n      <td>_QAMST-NrQobXduilWEqSw</td>\n      <td>Claire's Boutique</td>\n      <td>6020 E 82nd St, Ste 46</td>\n      <td>Indianapolis</td>\n      <td>IN</td>\n      <td>46250</td>\n      <td>39.908707</td>\n      <td>-86.065088</td>\n      <td>3.5</td>\n      <td>8</td>\n      <td>1</td>\n      <td>{'RestaurantsPriceRange2': '1', 'BusinessAccep...</td>\n      <td>Shopping, Jewelry, Piercing, Toy Stores, Beaut...</td>\n      <td>None</td>\n    </tr>\n    <tr>\n      <th>150344</th>\n      <td>mtGm22y5c2UHNXDFAjaPNw</td>\n      <td>Cyclery &amp; Fitness Center</td>\n      <td>2472 Troy Rd</td>\n      <td>Edwardsville</td>\n      <td>IL</td>\n      <td>62025</td>\n      <td>38.782351</td>\n      <td>-89.950558</td>\n      <td>4.0</td>\n      <td>24</td>\n      <td>1</td>\n      <td>{'BusinessParking': '{'garage': False, 'street...</td>\n      <td>Fitness/Exercise Equipment, Eyewear &amp; Optician...</td>\n      <td>{'Monday': '9:0-20:0', 'Tuesday': '9:0-20:0', ...</td>\n    </tr>\n    <tr>\n      <th>150345</th>\n      <td>jV_XOycEzSlTx-65W906pg</td>\n      <td>Sic Ink</td>\n      <td>238 Apollo Beach Blvd</td>\n      <td>Apollo beach</td>\n      <td>FL</td>\n      <td>33572</td>\n      <td>27.771002</td>\n      <td>-82.394910</td>\n      <td>4.5</td>\n      <td>9</td>\n      <td>1</td>\n      <td>{'WheelchairAccessible': 'True', 'BusinessAcce...</td>\n      <td>Beauty &amp; Spas, Permanent Makeup, Piercing, Tattoo</td>\n      <td>{'Tuesday': '12:0-19:0', 'Wednesday': '12:0-19...</td>\n    </tr>\n  </tbody>\n</table>\n<p>150346 rows × 14 columns</p>\n</div>"
     },
     "execution_count": 3,
     "metadata": {},
     "output_type": "execute_result"
    }
   ],
   "source": [
    "import pandas as pd\n",
    "import numpy as np\n",
    "\n",
    "from flatten_dict import flatten_dictionary\n",
    "\n",
    "df = pd.read_json(\"C:/Users/magnu/Aalborg Universitet/Christian Fillip Pinderup Nielsen - DVML P7/Data/yelp_academic_dataset_business.json\", lines=True)\n",
    "df"
   ],
   "metadata": {
    "collapsed": false,
    "pycharm": {
     "name": "#%%\n"
    }
   }
  },
  {
   "cell_type": "code",
   "execution_count": 1,
   "outputs": [],
   "source": [
    "#Number of businesses\n",
    "query = \"\"\"\n",
    "\n",
    "SELECT COUNT(?biz)\n",
    "FROM <https://covid-19ds.data.dice-research.org/2020-09-23>\n",
    "WHERE {\n",
    "?biz rdfs:Class schema:LocalBusiness .\n",
    "}\n",
    "\n",
    "\"\"\"\n",
    "\n",
    "print(len(df))\n",
    "\n",
    "#Number of users\n",
    "query = \"\"\"\n",
    "\n",
    "SELECT COUNT(?users)\n",
    "FROM <https://covid-19ds.data.dice-research.org/2020-09-23>\n",
    "WHERE {\n",
    "?user rdfs:Class schema:Person .\n",
    "}\n",
    "\"\"\"\n",
    "\n",
    "#Number of unique predicates\n",
    "query = \"\"\"\n",
    "\n",
    "SELECT DISTINCT ?p\n",
    "FROM <https://covid-19ds.data.dice-research.org/2020-09-23>\n",
    "WHERE {\n",
    "?s ?p ?o .\n",
    "}\n",
    "\"\"\""
   ],
   "metadata": {
    "collapsed": false,
    "pycharm": {
     "name": "#%%\n"
    }
   }
  },
  {
   "cell_type": "markdown",
   "source": [
    "##### Star ratings"
   ],
   "metadata": {
    "collapsed": false,
    "pycharm": {
     "name": "#%% md\n"
    }
   }
  },
  {
   "cell_type": "code",
   "execution_count": null,
   "outputs": [],
   "source": [
    "#Rate distribution\n",
    "query = \"\"\"\n",
    "\n",
    "SELECT ?rating COUNT(?biz)\n",
    "FROM <https://covid-19ds.data.dice-research.org/2020-09-23>\n",
    "WHERE {\n",
    "?biz rdfs:Class schema:LocalBusiness .\n",
    "?biz schema:starRating ?rating .\n",
    "}\n",
    "GROUP BY ?rating\n",
    "\n",
    "\"\"\"\n",
    "\n",
    "print(df.groupby('stars')['stars'].count())\n",
    "\n",
    "#Total average rating\n",
    "query = \"\"\"\n",
    "\n",
    "SELECT AVG(?rating) as ?averagerating\n",
    "FROM <https://covid-19ds.data.dice-research.org/2020-09-23>\n",
    "WHERE {\n",
    "?biz schema:starRating ?rating .\n",
    "}\n",
    "\"\"\"\n",
    "\n",
    "print(np.average(df['stars']))"
   ],
   "metadata": {
    "collapsed": false,
    "pycharm": {
     "name": "#%%\n"
    }
   }
  },
  {
   "cell_type": "markdown",
   "source": [
    "##### Geographical areas"
   ],
   "metadata": {
    "collapsed": false,
    "pycharm": {
     "name": "#%% md\n"
    }
   }
  },
  {
   "cell_type": "code",
   "execution_count": null,
   "outputs": [],
   "source": [
    "#Number of businesses in different regions\n",
    "query = \"\"\"\n",
    "\n",
    "SELECT ?state COUNT(?biz)\n",
    "FROM <https://covid-19ds.data.dice-research.org/2020-09-23>\n",
    "WHERE {\n",
    "?biz rdfs:Class schema:LocalBusiness .\n",
    "?biz schema:adressRegion ?state .\n",
    "}\n",
    "\"\"\"\n",
    "\n",
    "#Area with lowest average rating\n",
    "query = \"\"\"\n",
    "\n",
    "SELECT ?state AVG(?rating) as ?averagerating\n",
    "FROM <https://covid-19ds.data.dice-research.org/2020-09-23>\n",
    "WHERE {\n",
    "?biz schema:adressRegion ?state .\n",
    "?biz schema:starRating ?rating .\n",
    "}\n",
    "GROUP BY ?state\n",
    "ORDER BY DESC(?averagerating)\n",
    "\"\"\""
   ],
   "metadata": {
    "collapsed": false,
    "pycharm": {
     "name": "#%%\n"
    }
   }
  },
  {
   "cell_type": "markdown",
   "source": [
    "##### Categories"
   ],
   "metadata": {
    "collapsed": false,
    "pycharm": {
     "name": "#%% md\n"
    }
   }
  },
  {
   "cell_type": "code",
   "execution_count": null,
   "outputs": [],
   "source": [
    "#Different categories and numbers of businesses with that category\n",
    "query = \"\"\"\n",
    "\n",
    "SELECT DISTINCT ?category COUNT(?biz)\n",
    "FROM <https://covid-19ds.data.dice-research.org/2020-09-23>\n",
    "WHERE {\n",
    "?biz schema:category ?category .\n",
    "}\n",
    "\"\"\""
   ],
   "metadata": {
    "collapsed": false,
    "pycharm": {
     "name": "#%%\n"
    }
   }
  }
 ],
 "metadata": {
  "kernelspec": {
   "display_name": "Python 3",
   "language": "python",
   "name": "python3"
  },
  "language_info": {
   "codemirror_mode": {
    "name": "ipython",
    "version": 2
   },
   "file_extension": ".py",
   "mimetype": "text/x-python",
   "name": "python",
   "nbconvert_exporter": "python",
   "pygments_lexer": "ipython2",
   "version": "2.7.6"
  }
 },
 "nbformat": 4,
 "nbformat_minor": 0
}