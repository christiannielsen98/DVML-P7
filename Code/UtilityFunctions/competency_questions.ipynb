{
 "cells": [
  {
   "cell_type": "markdown",
   "metadata": {
    "collapsed": true,
    "pycharm": {
     "name": "#%% md\n"
    }
   },
   "source": [
    "##### Counts"
   ]
  },
  {
   "cell_type": "code",
   "execution_count": 1,
   "outputs": [],
   "source": [
    "#Number of businesses\n",
    "query = \"\"\"\n",
    "\n",
    "SELECT COUNT(?biz)\n",
    "FROM <https://covid-19ds.data.dice-research.org/2020-09-23>\n",
    "WHERE {\n",
    "?biz rdfs:Class schema:LocalBusiness .\n",
    "}\n",
    "\n",
    "\"\"\"\n",
    "\n",
    "#Number of users\n",
    "query = \"\"\"\n",
    "\n",
    "SELECT COUNT(?users)\n",
    "FROM <https://covid-19ds.data.dice-research.org/2020-09-23>\n",
    "WHERE {\n",
    "?user rdfs:Class schema:Person .\n",
    "}\n",
    "\"\"\"\n",
    "\n",
    "#Number of unique predicates\n",
    "query = \"\"\"\n",
    "\n",
    "SELECT DISTINCT ?p\n",
    "FROM <https://covid-19ds.data.dice-research.org/2020-09-23>\n",
    "WHERE {\n",
    "?s ?p ?o .\n",
    "}\n",
    "\"\"\""
   ],
   "metadata": {
    "collapsed": false,
    "pycharm": {
     "name": "#%%\n"
    }
   }
  },
  {
   "cell_type": "markdown",
   "source": [
    "##### Star ratings"
   ],
   "metadata": {
    "collapsed": false,
    "pycharm": {
     "name": "#%% md\n"
    }
   }
  },
  {
   "cell_type": "code",
   "execution_count": null,
   "outputs": [],
   "source": [
    "#Rate distribution\n",
    "query = \"\"\"\n",
    "\n",
    "SELECT ?rating COUNT(?biz)\n",
    "FROM <https://covid-19ds.data.dice-research.org/2020-09-23>\n",
    "WHERE {\n",
    "?biz rdfs:Class schema:LocalBusiness .\n",
    "?biz schema:starRating ?rating .\n",
    "}\n",
    "GROUP BY ?rating\n",
    "\n",
    "\"\"\"\n",
    "\n",
    "#Total average rating\n",
    "query = \"\"\"\n",
    "\n",
    "SELECT AVG(?rating) as ?averagerating\n",
    "FROM <https://covid-19ds.data.dice-research.org/2020-09-23>\n",
    "WHERE {\n",
    "?biz schema:starRating ?rating .\n",
    "}\n",
    "\"\"\""
   ],
   "metadata": {
    "collapsed": false,
    "pycharm": {
     "name": "#%%\n"
    }
   }
  },
  {
   "cell_type": "markdown",
   "source": [
    "##### Geographical areas"
   ],
   "metadata": {
    "collapsed": false,
    "pycharm": {
     "name": "#%% md\n"
    }
   }
  },
  {
   "cell_type": "code",
   "execution_count": null,
   "outputs": [],
   "source": [
    "#Number of businesses in different regions\n",
    "query = \"\"\"\n",
    "\n",
    "SELECT ?state COUNT(?biz)\n",
    "FROM <https://covid-19ds.data.dice-research.org/2020-09-23>\n",
    "WHERE {\n",
    "?biz rdfs:Class schema:LocalBusiness .\n",
    "?biz schema:adressRegion ?state .\n",
    "}\n",
    "\"\"\"\n",
    "\n",
    "#Area with lowest average rating\n",
    "query = \"\"\"\n",
    "\n",
    "SELECT ?state AVG(?rating) as ?averagerating\n",
    "FROM <https://covid-19ds.data.dice-research.org/2020-09-23>\n",
    "WHERE {\n",
    "?biz schema:adressRegion ?state .\n",
    "?biz schema:starRating ?rating .\n",
    "}\n",
    "GROUP BY ?state\n",
    "ORDER BY DESC(?averagerating)\n",
    "\"\"\""
   ],
   "metadata": {
    "collapsed": false,
    "pycharm": {
     "name": "#%%\n"
    }
   }
  },
  {
   "cell_type": "markdown",
   "source": [
    "##### Categories"
   ],
   "metadata": {
    "collapsed": false,
    "pycharm": {
     "name": "#%% md\n"
    }
   }
  },
  {
   "cell_type": "code",
   "execution_count": null,
   "outputs": [],
   "source": [
    "#Different categories and numbers of businesses with that category\n",
    "query = \"\"\"\n",
    "\n",
    "SELECT DISTINCT ?category COUNT(?biz)\n",
    "FROM <https://covid-19ds.data.dice-research.org/2020-09-23>\n",
    "WHERE {\n",
    "?biz schema:category ?category .\n",
    "}\n",
    "\"\"\""
   ],
   "metadata": {
    "collapsed": false,
    "pycharm": {
     "name": "#%%\n"
    }
   }
  }
 ],
 "metadata": {
  "kernelspec": {
   "display_name": "Python 3",
   "language": "python",
   "name": "python3"
  },
  "language_info": {
   "codemirror_mode": {
    "name": "ipython",
    "version": 2
   },
   "file_extension": ".py",
   "mimetype": "text/x-python",
   "name": "python",
   "nbconvert_exporter": "python",
   "pygments_lexer": "ipython2",
   "version": "2.7.6"
  }
 },
 "nbformat": 4,
 "nbformat_minor": 0
}