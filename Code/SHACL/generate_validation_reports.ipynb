{
 "cells": [
  {
   "cell_type": "code",
   "execution_count": 4,
   "metadata": {},
   "outputs": [],
   "source": [
    "!$JENA_HOME/bin/shacl validate --shapes /home/ubuntu/DVML-P7/Code/SHACL/tip_shapes.ttl --data /home/ubuntu/vol1/virtuoso/import/yelp_tip.nt > tip_validation_report.txt"
   ]
  },
  {
   "cell_type": "code",
   "execution_count": 5,
   "metadata": {},
   "outputs": [
    {
     "name": "stdout",
     "output_type": "stream",
     "text": [
      "Exception in thread \"main\" java.lang.OutOfMemoryError: Java heap space\n"
     ]
    }
   ],
   "source": [
    "!$JENA_HOME/bin/shacl validate --shapes /home/ubuntu/DVML-P7/Code/SHACL/user_shapes.ttl --data /home/ubuntu/vol1/virtuoso/import/yelp_user.nt > user_validation_report.txt"
   ]
  },
  {
   "cell_type": "code",
   "execution_count": 6,
   "metadata": {},
   "outputs": [
    {
     "name": "stdout",
     "output_type": "stream",
     "text": [
      "Exception in thread \"main\" java.lang.OutOfMemoryError: Java heap space\n",
      "\tat org.apache.jena.mem.HashedBunchMap.grow(HashedBunchMap.java:100)\n",
      "\tat org.apache.jena.mem.HashedBunchMap.put$(HashedBunchMap.java:90)\n",
      "\tat org.apache.jena.mem.HashedBunchMap.put(HashedBunchMap.java:70)\n",
      "\tat org.apache.jena.mem.NodeToTriplesMapMem.add(NodeToTriplesMapMem.java:51)\n",
      "\tat org.apache.jena.mem.GraphTripleStoreBase.add(GraphTripleStoreBase.java:63)\n",
      "\tat org.apache.jena.mem.GraphMem.performAdd(GraphMem.java:42)\n",
      "\tat org.apache.jena.graph.impl.GraphBase.add(GraphBase.java:169)\n",
      "\tat org.apache.jena.riot.system.StreamRDFLib$ParserOutputGraph.triple(StreamRDFLib.java:188)\n",
      "\tat org.apache.jena.riot.lang.LangNTriples.runParser(LangNTriples.java:55)\n",
      "\tat org.apache.jena.riot.lang.LangBase.parse(LangBase.java:43)\n",
      "\tat org.apache.jena.riot.RDFParserRegistry$ReaderRIOTLang.read(RDFParserRegistry.java:192)\n",
      "\tat org.apache.jena.riot.RDFParser.read(RDFParser.java:416)\n",
      "\tat org.apache.jena.riot.RDFParser.parseURI(RDFParser.java:385)\n",
      "\tat org.apache.jena.riot.RDFParser.parse(RDFParser.java:360)\n",
      "\tat org.apache.jena.riot.RDFParserBuilder.parse(RDFParserBuilder.java:568)\n",
      "\tat org.apache.jena.riot.RDFDataMgr.parseFromURI(RDFDataMgr.java:737)\n",
      "\tat org.apache.jena.riot.RDFDataMgr.read(RDFDataMgr.java:193)\n",
      "\tat org.apache.jena.riot.RDFDataMgr.read(RDFDataMgr.java:135)\n",
      "\tat org.apache.jena.riot.RDFDataMgr.loadGraph(RDFDataMgr.java:352)\n",
      "\tat shacl.shacl_validate.load(shacl_validate.java:134)\n",
      "\tat shacl.shacl_validate.exec(shacl_validate.java:111)\n",
      "\tat org.apache.jena.cmd.CmdMain.mainMethod(CmdMain.java:87)\n",
      "\tat org.apache.jena.cmd.CmdMain.mainRun(CmdMain.java:56)\n",
      "\tat org.apache.jena.cmd.CmdMain.mainRun(CmdMain.java:43)\n",
      "\tat shacl.shacl_validate.main(shacl_validate.java:60)\n",
      "\tat shacl.shacl.main(shacl.java:81)\n"
     ]
    }
   ],
   "source": [
    "!$JENA_HOME/bin/shacl validate --shapes /home/ubuntu/DVML-P7/Code/SHACL/review_shapes.ttl --data /home/ubuntu/vol1/virtuoso/import/yelp_review.nt > review_validation_report.txt"
   ]
  },
  {
   "cell_type": "code",
   "execution_count": 9,
   "metadata": {},
   "outputs": [],
   "source": [
    "!$JENA_HOME/bin/shacl validate --shapes /home/ubuntu/DVML-P7/Code/SHACL/business_shapes.ttl --data /home/ubuntu/vol1/virtuoso/import/yelp_business.nt > business_validation_report.txt"
   ]
  },
  {
   "cell_type": "code",
   "execution_count": null,
   "metadata": {},
   "outputs": [],
   "source": []
  }
 ],
 "metadata": {
  "kernelspec": {
   "display_name": "Python 3.10.7 64-bit",
   "language": "python",
   "name": "python3"
  },
  "language_info": {
   "codemirror_mode": {
    "name": "ipython",
    "version": 3
   },
   "file_extension": ".py",
   "mimetype": "text/x-python",
   "name": "python",
   "nbconvert_exporter": "python",
   "pygments_lexer": "ipython3",
   "version": "3.10.8"
  },
  "orig_nbformat": 4,
  "vscode": {
   "interpreter": {
    "hash": "97cc609b13305c559618ec78a438abc56230b9381f827f22d070313b9a1f3777"
   }
  }
 },
 "nbformat": 4,
 "nbformat_minor": 2
}
