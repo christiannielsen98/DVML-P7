{
 "cells": [
  {
   "cell_type": "code",
   "execution_count": 2,
   "metadata": {
    "collapsed": false,
    "pycharm": {
     "name": "#%%\n"
    }
   },
   "outputs": [],
   "source": [
    "import pandas as pd\n",
    "import numpy as np\n",
    "import json\n",
    "from Code.UtilityFunctions.get_data_path import get_path\n",
    "from Code.UtilityFunctions.run_query import run_query\n",
    "from Code.UtilityFunctions.dictionary_functions import flatten_dictionary"
   ]
  },
  {
   "cell_type": "code",
   "execution_count": 3,
   "metadata": {},
   "outputs": [],
   "source": [
    "pd.set_option('display.max_rows', 500)\n",
    "pd.set_option('display.max_colwidth', 500)"
   ]
  },
  {
   "attachments": {},
   "cell_type": "markdown",
   "metadata": {},
   "source": [
    "___\n",
    "___\n",
    "___\n",
    "# **DO NOT RUN ALL LINES BELOW. SOME YELP ENTITIES ARE VERY LARGE, AND YOU MIGHT RUN OUT OF RAM.**"
   ]
  },
  {
   "cell_type": "code",
   "execution_count": 4,
   "metadata": {
    "collapsed": false,
    "pycharm": {
     "name": "#%%\n"
    }
   },
   "outputs": [],
   "source": [
    "business = pd.read_json(get_path(\"yelp_academic_dataset_business.json\"), lines=True)\n",
    "business['categories'] = business['categories'].str.split(', ', expand=False)"
   ]
  },
  {
   "cell_type": "code",
   "execution_count": null,
   "metadata": {
    "collapsed": false,
    "pycharm": {
     "name": "#%%\n"
    }
   },
   "outputs": [],
   "source": [
    "users = pd.read_json(get_path(\"yelp_academic_dataset_user.json\"), lines=True)"
   ]
  },
  {
   "cell_type": "code",
   "execution_count": 2,
   "metadata": {},
   "outputs": [],
   "source": [
    "reviews = pd.read_json(get_path(\"yelp_academic_dataset_review.json\"), lines=True)\n",
    "#reviews = pd.merge(left=reviews, right=business, how='left', left_on='business_id', right_on='business_id')\n",
    "#reviews = pd.merge(left=reviews, right=users, how='left', left_on='user_id', right_on='user_id')"
   ]
  },
  {
   "cell_type": "code",
   "execution_count": null,
   "metadata": {},
   "outputs": [],
   "source": [
    "reviews.head(10)"
   ]
  },
  {
   "cell_type": "code",
   "execution_count": null,
   "metadata": {},
   "outputs": [],
   "source": [
    "checkins = pd.read_json(get_path(\"yelp_academic_dataset_checkin.json\"), lines=True)\n",
    "checkins['date'] = checkins['date'].str.split(', ', expand=False)\n",
    "checkins = checkins.explode('date')"
   ]
  },
  {
   "cell_type": "code",
   "execution_count": 3,
   "metadata": {},
   "outputs": [],
   "source": [
    "tips = pd.read_json(get_path(\"yelp_academic_dataset_tip.json\"), lines=True)"
   ]
  },
  {
   "attachments": {},
   "cell_type": "markdown",
   "metadata": {},
   "source": [
    "___\n",
    "___\n",
    "___\n",
    "### How many different types of businesses are defined in Yelp?"
   ]
  },
  {
   "cell_type": "code",
   "execution_count": 2,
   "metadata": {},
   "outputs": [
    {
     "data": {
      "text/html": [
       "<div>\n",
       "<style scoped>\n",
       "    .dataframe tbody tr th:only-of-type {\n",
       "        vertical-align: middle;\n",
       "    }\n",
       "\n",
       "    .dataframe tbody tr th {\n",
       "        vertical-align: top;\n",
       "    }\n",
       "\n",
       "    .dataframe thead th {\n",
       "        text-align: right;\n",
       "    }\n",
       "</style>\n",
       "<table border=\"1\" class=\"dataframe\">\n",
       "  <thead>\n",
       "    <tr style=\"text-align: right;\">\n",
       "      <th></th>\n",
       "      <th>callret-0.value</th>\n",
       "    </tr>\n",
       "  </thead>\n",
       "  <tbody>\n",
       "    <tr>\n",
       "      <th>0</th>\n",
       "      <td>1311</td>\n",
       "    </tr>\n",
       "  </tbody>\n",
       "</table>\n",
       "</div>"
      ],
      "text/plain": [
       "  callret-0.value\n",
       "0            1311"
      ]
     },
     "execution_count": 2,
     "metadata": {},
     "output_type": "execute_result"
    }
   ],
   "source": [
    "sparql_query =\"\"\"\n",
    "\n",
    "SELECT COUNT(DISTINCT(?category))\n",
    "WHERE {\n",
    "    ?business schema:category ?category .\n",
    "}\n",
    "\n",
    "\"\"\"\n",
    "\n",
    "run_query(query=sparql_query, as_dataframe=True)"
   ]
  },
  {
   "cell_type": "code",
   "execution_count": 5,
   "metadata": {},
   "outputs": [
    {
     "data": {
      "text/plain": [
       "1311"
      ]
     },
     "execution_count": 5,
     "metadata": {},
     "output_type": "execute_result"
    }
   ],
   "source": [
    "unique_categories = {category for sublist in business['categories'] if sublist for category in sublist}\n",
    "len(unique_categories)"
   ]
  },
  {
   "attachments": {},
   "cell_type": "markdown",
   "metadata": {},
   "source": [
    "### How many businesses of type \"Restaurants\" exist?"
   ]
  },
  {
   "cell_type": "code",
   "execution_count": 4,
   "metadata": {},
   "outputs": [
    {
     "data": {
      "text/html": [
       "<div>\n",
       "<style scoped>\n",
       "    .dataframe tbody tr th:only-of-type {\n",
       "        vertical-align: middle;\n",
       "    }\n",
       "\n",
       "    .dataframe tbody tr th {\n",
       "        vertical-align: top;\n",
       "    }\n",
       "\n",
       "    .dataframe thead th {\n",
       "        text-align: right;\n",
       "    }\n",
       "</style>\n",
       "<table border=\"1\" class=\"dataframe\">\n",
       "  <thead>\n",
       "    <tr style=\"text-align: right;\">\n",
       "      <th></th>\n",
       "      <th>numberRestaurants.value</th>\n",
       "    </tr>\n",
       "  </thead>\n",
       "  <tbody>\n",
       "    <tr>\n",
       "      <th>0</th>\n",
       "      <td>52268</td>\n",
       "    </tr>\n",
       "  </tbody>\n",
       "</table>\n",
       "</div>"
      ],
      "text/plain": [
       "  numberRestaurants.value\n",
       "0                   52268"
      ]
     },
     "execution_count": 4,
     "metadata": {},
     "output_type": "execute_result"
    }
   ],
   "source": [
    "sparql_query = \"\"\"\n",
    "\n",
    "SELECT COUNT(DISTINCT(?business)) AS ?numberRestaurants\n",
    "WHERE {\n",
    "    ?business schema:category yelpcat:Restaurants .\n",
    "}\n",
    "\n",
    "\"\"\"\n",
    "\n",
    "run_query(query=sparql_query, as_dataframe=True)"
   ]
  },
  {
   "cell_type": "code",
   "execution_count": 7,
   "metadata": {},
   "outputs": [
    {
     "name": "stdout",
     "output_type": "stream",
     "text": [
      "52268\n"
     ]
    }
   ],
   "source": [
    "counter = 0\n",
    "for row in business['categories']:\n",
    "    if row is not None and \"Restaurants\" in row:\n",
    "        counter += 1\n",
    "print(counter)"
   ]
  },
  {
   "attachments": {},
   "cell_type": "markdown",
   "metadata": {
    "collapsed": false,
    "pycharm": {
     "name": "#%% md\n"
    }
   },
   "source": [
    "### How many businesses of type Restaurants have been reviewed?"
   ]
  },
  {
   "cell_type": "code",
   "execution_count": 6,
   "metadata": {},
   "outputs": [
    {
     "data": {
      "text/html": [
       "<div>\n",
       "<style scoped>\n",
       "    .dataframe tbody tr th:only-of-type {\n",
       "        vertical-align: middle;\n",
       "    }\n",
       "\n",
       "    .dataframe tbody tr th {\n",
       "        vertical-align: top;\n",
       "    }\n",
       "\n",
       "    .dataframe thead th {\n",
       "        text-align: right;\n",
       "    }\n",
       "</style>\n",
       "<table border=\"1\" class=\"dataframe\">\n",
       "  <thead>\n",
       "    <tr style=\"text-align: right;\">\n",
       "      <th></th>\n",
       "      <th>business.value</th>\n",
       "    </tr>\n",
       "  </thead>\n",
       "  <tbody>\n",
       "    <tr>\n",
       "      <th>0</th>\n",
       "      <td>https://purl.archive.org/purl/yelp/yelp_entities#-02xFuruu85XmDn2xiynJw</td>\n",
       "    </tr>\n",
       "    <tr>\n",
       "      <th>1</th>\n",
       "      <td>https://purl.archive.org/purl/yelp/yelp_entities#-02xFuruu85XmDn2xiynJw</td>\n",
       "    </tr>\n",
       "    <tr>\n",
       "      <th>2</th>\n",
       "      <td>https://purl.archive.org/purl/yelp/yelp_entities#-02xFuruu85XmDn2xiynJw</td>\n",
       "    </tr>\n",
       "    <tr>\n",
       "      <th>3</th>\n",
       "      <td>https://purl.archive.org/purl/yelp/yelp_entities#-02xFuruu85XmDn2xiynJw</td>\n",
       "    </tr>\n",
       "    <tr>\n",
       "      <th>4</th>\n",
       "      <td>https://purl.archive.org/purl/yelp/yelp_entities#-02xFuruu85XmDn2xiynJw</td>\n",
       "    </tr>\n",
       "    <tr>\n",
       "      <th>...</th>\n",
       "      <td>...</td>\n",
       "    </tr>\n",
       "    <tr>\n",
       "      <th>1048571</th>\n",
       "      <td>https://purl.archive.org/purl/yelp/yelp_entities#ar-SQg2423FSVxRcaxorVg</td>\n",
       "    </tr>\n",
       "    <tr>\n",
       "      <th>1048572</th>\n",
       "      <td>https://purl.archive.org/purl/yelp/yelp_entities#ar-SQg2423FSVxRcaxorVg</td>\n",
       "    </tr>\n",
       "    <tr>\n",
       "      <th>1048573</th>\n",
       "      <td>https://purl.archive.org/purl/yelp/yelp_entities#ar-SQg2423FSVxRcaxorVg</td>\n",
       "    </tr>\n",
       "    <tr>\n",
       "      <th>1048574</th>\n",
       "      <td>https://purl.archive.org/purl/yelp/yelp_entities#ar-SQg2423FSVxRcaxorVg</td>\n",
       "    </tr>\n",
       "    <tr>\n",
       "      <th>1048575</th>\n",
       "      <td>https://purl.archive.org/purl/yelp/yelp_entities#ar-SQg2423FSVxRcaxorVg</td>\n",
       "    </tr>\n",
       "  </tbody>\n",
       "</table>\n",
       "<p>1048576 rows × 1 columns</p>\n",
       "</div>"
      ],
      "text/plain": [
       "                                                                  business.value\n",
       "0        https://purl.archive.org/purl/yelp/yelp_entities#-02xFuruu85XmDn2xiynJw\n",
       "1        https://purl.archive.org/purl/yelp/yelp_entities#-02xFuruu85XmDn2xiynJw\n",
       "2        https://purl.archive.org/purl/yelp/yelp_entities#-02xFuruu85XmDn2xiynJw\n",
       "3        https://purl.archive.org/purl/yelp/yelp_entities#-02xFuruu85XmDn2xiynJw\n",
       "4        https://purl.archive.org/purl/yelp/yelp_entities#-02xFuruu85XmDn2xiynJw\n",
       "...                                                                          ...\n",
       "1048571  https://purl.archive.org/purl/yelp/yelp_entities#ar-SQg2423FSVxRcaxorVg\n",
       "1048572  https://purl.archive.org/purl/yelp/yelp_entities#ar-SQg2423FSVxRcaxorVg\n",
       "1048573  https://purl.archive.org/purl/yelp/yelp_entities#ar-SQg2423FSVxRcaxorVg\n",
       "1048574  https://purl.archive.org/purl/yelp/yelp_entities#ar-SQg2423FSVxRcaxorVg\n",
       "1048575  https://purl.archive.org/purl/yelp/yelp_entities#ar-SQg2423FSVxRcaxorVg\n",
       "\n",
       "[1048576 rows x 1 columns]"
      ]
     },
     "execution_count": 6,
     "metadata": {},
     "output_type": "execute_result"
    }
   ],
   "source": [
    "sparql_query = \"\"\"\n",
    "SELECT ?business\n",
    "WHERE {\n",
    "    ?review schema:about ?business .\n",
    "}\n",
    "\"\"\"\n",
    "\n",
    "run_query(query=sparql_query, as_dataframe=True)"
   ]
  },
  {
   "cell_type": "code",
   "execution_count": null,
   "metadata": {},
   "outputs": [
    {
     "data": {
      "text/html": [
       "<div>\n",
       "<style scoped>\n",
       "    .dataframe tbody tr th:only-of-type {\n",
       "        vertical-align: middle;\n",
       "    }\n",
       "\n",
       "    .dataframe tbody tr th {\n",
       "        vertical-align: top;\n",
       "    }\n",
       "\n",
       "    .dataframe thead th {\n",
       "        text-align: right;\n",
       "    }\n",
       "</style>\n",
       "<table border=\"1\" class=\"dataframe\">\n",
       "  <thead>\n",
       "    <tr style=\"text-align: right;\">\n",
       "      <th></th>\n",
       "      <th>business.value</th>\n",
       "    </tr>\n",
       "  </thead>\n",
       "  <tbody>\n",
       "    <tr>\n",
       "      <th>0</th>\n",
       "      <td>https://purl.archive.org/purl/yelp/yelp_entities#business_id/-0jzoPt3UeXn6FUXVQvyPg</td>\n",
       "    </tr>\n",
       "    <tr>\n",
       "      <th>1</th>\n",
       "      <td>https://purl.archive.org/purl/yelp/yelp_entities#business_id/-1MhPXk1FglglUAmuPLIGg</td>\n",
       "    </tr>\n",
       "    <tr>\n",
       "      <th>2</th>\n",
       "      <td>https://purl.archive.org/purl/yelp/yelp_entities#business_id/-3IOd5YntpkbK6RwT3HYtA</td>\n",
       "    </tr>\n",
       "    <tr>\n",
       "      <th>3</th>\n",
       "      <td>https://purl.archive.org/purl/yelp/yelp_entities#business_id/-6OjnX3ZdDOhHxWR60wysg</td>\n",
       "    </tr>\n",
       "    <tr>\n",
       "      <th>4</th>\n",
       "      <td>https://purl.archive.org/purl/yelp/yelp_entities#business_id/-ATiAtTikuGuqvaW2O6tNA</td>\n",
       "    </tr>\n",
       "    <tr>\n",
       "      <th>...</th>\n",
       "      <td>...</td>\n",
       "    </tr>\n",
       "    <tr>\n",
       "      <th>52263</th>\n",
       "      <td>https://purl.archive.org/purl/yelp/yelp_entities#business_id/znqFzYiKDdjwR13maABX1A</td>\n",
       "    </tr>\n",
       "    <tr>\n",
       "      <th>52264</th>\n",
       "      <td>https://purl.archive.org/purl/yelp/yelp_entities#business_id/zrQAj03aHI7kpmAiyKcKhA</td>\n",
       "    </tr>\n",
       "    <tr>\n",
       "      <th>52265</th>\n",
       "      <td>https://purl.archive.org/purl/yelp/yelp_entities#business_id/zs9xTZA8D-PQHcEp1FwIkg</td>\n",
       "    </tr>\n",
       "    <tr>\n",
       "      <th>52266</th>\n",
       "      <td>https://purl.archive.org/purl/yelp/yelp_entities#business_id/zvVDXVV9Ib8ZjYhPCl0r4Q</td>\n",
       "    </tr>\n",
       "    <tr>\n",
       "      <th>52267</th>\n",
       "      <td>https://purl.archive.org/purl/yelp/yelp_entities#business_id/zx7XemDyT296vmKnFtZSyQ</td>\n",
       "    </tr>\n",
       "  </tbody>\n",
       "</table>\n",
       "<p>52268 rows × 1 columns</p>\n",
       "</div>"
      ],
      "text/plain": [
       "                                                                            business.value\n",
       "0      https://purl.archive.org/purl/yelp/yelp_entities#business_id/-0jzoPt3UeXn6FUXVQvyPg\n",
       "1      https://purl.archive.org/purl/yelp/yelp_entities#business_id/-1MhPXk1FglglUAmuPLIGg\n",
       "2      https://purl.archive.org/purl/yelp/yelp_entities#business_id/-3IOd5YntpkbK6RwT3HYtA\n",
       "3      https://purl.archive.org/purl/yelp/yelp_entities#business_id/-6OjnX3ZdDOhHxWR60wysg\n",
       "4      https://purl.archive.org/purl/yelp/yelp_entities#business_id/-ATiAtTikuGuqvaW2O6tNA\n",
       "...                                                                                    ...\n",
       "52263  https://purl.archive.org/purl/yelp/yelp_entities#business_id/znqFzYiKDdjwR13maABX1A\n",
       "52264  https://purl.archive.org/purl/yelp/yelp_entities#business_id/zrQAj03aHI7kpmAiyKcKhA\n",
       "52265  https://purl.archive.org/purl/yelp/yelp_entities#business_id/zs9xTZA8D-PQHcEp1FwIkg\n",
       "52266  https://purl.archive.org/purl/yelp/yelp_entities#business_id/zvVDXVV9Ib8ZjYhPCl0r4Q\n",
       "52267  https://purl.archive.org/purl/yelp/yelp_entities#business_id/zx7XemDyT296vmKnFtZSyQ\n",
       "\n",
       "[52268 rows x 1 columns]"
      ]
     },
     "execution_count": 5,
     "metadata": {},
     "output_type": "execute_result"
    }
   ],
   "source": [
    "sparql_query = \"\"\"\n",
    "\n",
    "SELECT ?business\n",
    "WHERE {\n",
    "    ?business schema:category yelpcat:Restaurants .\n",
    "}\n",
    "\n",
    "\"\"\"\n",
    "\n",
    "run_query(query=sparql_query, as_dataframe=True)"
   ]
  },
  {
   "cell_type": "code",
   "execution_count": 7,
   "metadata": {
    "collapsed": false,
    "pycharm": {
     "name": "#%%\n"
    }
   },
   "outputs": [
    {
     "data": {
      "text/plain": [
       "52268"
      ]
     },
     "execution_count": 7,
     "metadata": {},
     "output_type": "execute_result"
    }
   ],
   "source": [
    "review_unique_business = reviews.drop_duplicates(subset=['business_id'])\n",
    "mask = review_unique_business['categories'].apply(lambda x: x is not None and \"Restaurants\" in x)\n",
    "len(review_unique_business[mask])"
   ]
  },
  {
   "attachments": {},
   "cell_type": "markdown",
   "metadata": {
    "collapsed": false,
    "pycharm": {
     "name": "#%% md\n"
    }
   },
   "source": [
    "### How many businesses have been reviewed?"
   ]
  },
  {
   "cell_type": "code",
   "execution_count": 7,
   "metadata": {
    "collapsed": false,
    "pycharm": {
     "name": "#%%\n"
    }
   },
   "outputs": [
    {
     "data": {
      "text/html": [
       "<div>\n",
       "<style scoped>\n",
       "    .dataframe tbody tr th:only-of-type {\n",
       "        vertical-align: middle;\n",
       "    }\n",
       "\n",
       "    .dataframe tbody tr th {\n",
       "        vertical-align: top;\n",
       "    }\n",
       "\n",
       "    .dataframe thead th {\n",
       "        text-align: right;\n",
       "    }\n",
       "</style>\n",
       "<table border=\"1\" class=\"dataframe\">\n",
       "  <thead>\n",
       "    <tr style=\"text-align: right;\">\n",
       "      <th></th>\n",
       "      <th>callret-0.value</th>\n",
       "    </tr>\n",
       "  </thead>\n",
       "  <tbody>\n",
       "    <tr>\n",
       "      <th>0</th>\n",
       "      <td>150346</td>\n",
       "    </tr>\n",
       "  </tbody>\n",
       "</table>\n",
       "</div>"
      ],
      "text/plain": [
       "  callret-0.value\n",
       "0          150346"
      ]
     },
     "execution_count": 7,
     "metadata": {},
     "output_type": "execute_result"
    }
   ],
   "source": [
    "sparql_query = \"\"\"\n",
    "\n",
    "SELECT COUNT(DISTINCT(?business))\n",
    "WHERE {\n",
    "    ?review schema:about ?business .\n",
    "    ?review rdfs:Class schema:UserReview .\n",
    "}\n",
    "\n",
    "\"\"\"\n",
    "\n",
    "run_query(query=sparql_query, as_dataframe=True)"
   ]
  },
  {
   "cell_type": "code",
   "execution_count": 32,
   "metadata": {
    "collapsed": false,
    "pycharm": {
     "name": "#%%\n"
    }
   },
   "outputs": [
    {
     "data": {
      "text/plain": [
       "150346"
      ]
     },
     "execution_count": 32,
     "metadata": {},
     "output_type": "execute_result"
    }
   ],
   "source": [
    "review_unique_business = reviews.drop_duplicates(subset=['business_id'])\n",
    "len(review_unique_business)"
   ]
  },
  {
   "attachments": {},
   "cell_type": "markdown",
   "metadata": {
    "collapsed": false,
    "pycharm": {
     "name": "#%% md\n"
    }
   },
   "source": [
    "### How many businesses have, on average, a rating of 4.5?"
   ]
  },
  {
   "cell_type": "code",
   "execution_count": 23,
   "metadata": {},
   "outputs": [
    {
     "data": {
      "text/html": [
       "<div>\n",
       "<style scoped>\n",
       "    .dataframe tbody tr th:only-of-type {\n",
       "        vertical-align: middle;\n",
       "    }\n",
       "\n",
       "    .dataframe tbody tr th {\n",
       "        vertical-align: top;\n",
       "    }\n",
       "\n",
       "    .dataframe thead th {\n",
       "        text-align: right;\n",
       "    }\n",
       "</style>\n",
       "<table border=\"1\" class=\"dataframe\">\n",
       "  <thead>\n",
       "    <tr style=\"text-align: right;\">\n",
       "      <th></th>\n",
       "      <th>callret-0.value</th>\n",
       "    </tr>\n",
       "  </thead>\n",
       "  <tbody>\n",
       "    <tr>\n",
       "      <th>0</th>\n",
       "      <td>27181</td>\n",
       "    </tr>\n",
       "  </tbody>\n",
       "</table>\n",
       "</div>"
      ],
      "text/plain": [
       "  callret-0.value\n",
       "0           27181"
      ]
     },
     "execution_count": 23,
     "metadata": {},
     "output_type": "execute_result"
    }
   ],
   "source": [
    "sparql_query = \"\"\"\n",
    "SELECT COUNT(DISTINCT(?business))\n",
    "WHERE {\n",
    "    ?business schema:aggregateRating ?rating .\n",
    "    FILTER (?rating = 4.5) .\n",
    "}\n",
    "\n",
    "\"\"\"\n",
    "\n",
    "run_query(query=sparql_query, as_dataframe=True)"
   ]
  },
  {
   "cell_type": "code",
   "execution_count": 49,
   "metadata": {
    "collapsed": false,
    "pycharm": {
     "name": "#%%\n"
    }
   },
   "outputs": [
    {
     "data": {
      "text/plain": [
       "stars\n",
       "4.5    27181\n",
       "Name: stars, dtype: int64"
      ]
     },
     "execution_count": 49,
     "metadata": {},
     "output_type": "execute_result"
    }
   ],
   "source": [
    "business[business['stars'] == 4.5].groupby('stars')['stars'].count()"
   ]
  },
  {
   "attachments": {},
   "cell_type": "markdown",
   "metadata": {
    "collapsed": false,
    "pycharm": {
     "name": "#%% md\n"
    }
   },
   "source": [
    "### What is the average rating across businesses?"
   ]
  },
  {
   "cell_type": "code",
   "execution_count": 11,
   "metadata": {
    "collapsed": false,
    "pycharm": {
     "name": "#%%\n"
    }
   },
   "outputs": [
    {
     "data": {
      "text/html": [
       "<div>\n",
       "<style scoped>\n",
       "    .dataframe tbody tr th:only-of-type {\n",
       "        vertical-align: middle;\n",
       "    }\n",
       "\n",
       "    .dataframe tbody tr th {\n",
       "        vertical-align: top;\n",
       "    }\n",
       "\n",
       "    .dataframe thead th {\n",
       "        text-align: right;\n",
       "    }\n",
       "</style>\n",
       "<table border=\"1\" class=\"dataframe\">\n",
       "  <thead>\n",
       "    <tr style=\"text-align: right;\">\n",
       "      <th></th>\n",
       "      <th>averagerating.type</th>\n",
       "      <th>averagerating.datatype</th>\n",
       "      <th>averagerating.value</th>\n",
       "    </tr>\n",
       "  </thead>\n",
       "  <tbody>\n",
       "    <tr>\n",
       "      <th>0</th>\n",
       "      <td>typed-literal</td>\n",
       "      <td>http://www.w3.org/2001/XMLSchema#decimal</td>\n",
       "      <td>3.59672355766033</td>\n",
       "    </tr>\n",
       "  </tbody>\n",
       "</table>\n",
       "</div>"
      ],
      "text/plain": [
       "  averagerating.type                    averagerating.datatype  \\\n",
       "0      typed-literal  http://www.w3.org/2001/XMLSchema#decimal   \n",
       "\n",
       "  averagerating.value  \n",
       "0    3.59672355766033  "
      ]
     },
     "execution_count": 11,
     "metadata": {},
     "output_type": "execute_result"
    }
   ],
   "source": [
    "sparql_query = \"\"\"\n",
    "SELECT AVG(?rating) as ?averagerating\n",
    "WHERE {\n",
    "    ?business schema:aggregateRating ?rating .\n",
    "}\n",
    "\n",
    "\"\"\"\n",
    "\n",
    "run_query(query=sparql_query, as_dataframe=True)"
   ]
  },
  {
   "cell_type": "code",
   "execution_count": 25,
   "metadata": {
    "collapsed": false,
    "pycharm": {
     "name": "#%%\n"
    }
   },
   "outputs": [
    {
     "data": {
      "text/plain": [
       "3.5967235576603303"
      ]
     },
     "execution_count": 25,
     "metadata": {},
     "output_type": "execute_result"
    }
   ],
   "source": [
    "business['stars'].mean()"
   ]
  },
  {
   "attachments": {},
   "cell_type": "markdown",
   "metadata": {
    "collapsed": false
   },
   "source": [
    "### How many businesses have been reviewed in Santa Barbara, CA?\n",
    "\n",
    "TO DO: RUN AGAIN"
   ]
  },
  {
   "cell_type": "code",
   "execution_count": 3,
   "metadata": {},
   "outputs": [
    {
     "name": "stdout",
     "output_type": "stream",
     "text": [
      "Empty resultset\n"
     ]
    },
    {
     "data": {
      "text/html": [
       "<div>\n",
       "<style scoped>\n",
       "    .dataframe tbody tr th:only-of-type {\n",
       "        vertical-align: middle;\n",
       "    }\n",
       "\n",
       "    .dataframe tbody tr th {\n",
       "        vertical-align: top;\n",
       "    }\n",
       "\n",
       "    .dataframe thead th {\n",
       "        text-align: right;\n",
       "    }\n",
       "</style>\n",
       "<table border=\"1\" class=\"dataframe\">\n",
       "  <thead>\n",
       "    <tr style=\"text-align: right;\">\n",
       "      <th></th>\n",
       "    </tr>\n",
       "  </thead>\n",
       "  <tbody>\n",
       "  </tbody>\n",
       "</table>\n",
       "</div>"
      ],
      "text/plain": [
       "Empty DataFrame\n",
       "Columns: []\n",
       "Index: []"
      ]
     },
     "execution_count": 3,
     "metadata": {},
     "output_type": "execute_result"
    }
   ],
   "source": [
    "sparql_query = \"\"\"\n",
    "SELECT ?state ?city COUNT(?business) AS ?count_business\n",
    "WHERE {\n",
    "    ?business rdfs:Class schema:LocalBusiness .\n",
    "    ?business schema:location ?city .\n",
    "    ?city rdfs:label ?city_name .\n",
    "    ?city yelpont:location ?state .\n",
    "    VALUES ?city_name{'Santa Barbara'} .\n",
    "}\n",
    "GROUP BY ?state ?city\n",
    "ORDER BY DESC(?count_business)\n",
    "LIMIT 10\n",
    "\n",
    "\"\"\"\n",
    "\n",
    "run_query(query=sparql_query, as_dataframe=True)"
   ]
  },
  {
   "cell_type": "code",
   "execution_count": 31,
   "metadata": {},
   "outputs": [
    {
     "data": {
      "text/plain": [
       "3829"
      ]
     },
     "execution_count": 31,
     "metadata": {},
     "output_type": "execute_result"
    }
   ],
   "source": [
    "business_santa_barbara = business[business['city'] == \"Santa Barbara\"]\n",
    "len(business_santa_barbara)"
   ]
  },
  {
   "attachments": {},
   "cell_type": "markdown",
   "metadata": {},
   "source": [
    "### What are the five most busy days, and for what business?"
   ]
  },
  {
   "cell_type": "code",
   "execution_count": 6,
   "metadata": {},
   "outputs": [
    {
     "data": {
      "text/html": [
       "<div>\n",
       "<style scoped>\n",
       "    .dataframe tbody tr th:only-of-type {\n",
       "        vertical-align: middle;\n",
       "    }\n",
       "\n",
       "    .dataframe tbody tr th {\n",
       "        vertical-align: top;\n",
       "    }\n",
       "\n",
       "    .dataframe thead th {\n",
       "        text-align: right;\n",
       "    }\n",
       "</style>\n",
       "<table border=\"1\" class=\"dataframe\">\n",
       "  <thead>\n",
       "    <tr style=\"text-align: right;\">\n",
       "      <th></th>\n",
       "      <th>business.value</th>\n",
       "      <th>year.value</th>\n",
       "      <th>month.value</th>\n",
       "      <th>day.value</th>\n",
       "      <th>numberOfVisits.value</th>\n",
       "    </tr>\n",
       "  </thead>\n",
       "  <tbody>\n",
       "    <tr>\n",
       "      <th>0</th>\n",
       "      <td>https://purl.archive.org/purl/yelp/yelp_entities#business_id/CySqUcNz8oPiQTu4EXTnig</td>\n",
       "      <td>2016</td>\n",
       "      <td>6</td>\n",
       "      <td>25</td>\n",
       "      <td>457</td>\n",
       "    </tr>\n",
       "    <tr>\n",
       "      <th>1</th>\n",
       "      <td>https://purl.archive.org/purl/yelp/yelp_entities#business_id/g50ImmCX3WY3koEDIzoKxg</td>\n",
       "      <td>2015</td>\n",
       "      <td>8</td>\n",
       "      <td>30</td>\n",
       "      <td>285</td>\n",
       "    </tr>\n",
       "    <tr>\n",
       "      <th>2</th>\n",
       "      <td>https://purl.archive.org/purl/yelp/yelp_entities#business_id/qfWWx0dVo1UuAhRfh03Dyw</td>\n",
       "      <td>2016</td>\n",
       "      <td>8</td>\n",
       "      <td>28</td>\n",
       "      <td>268</td>\n",
       "    </tr>\n",
       "    <tr>\n",
       "      <th>3</th>\n",
       "      <td>https://purl.archive.org/purl/yelp/yelp_entities#business_id/g50ImmCX3WY3koEDIzoKxg</td>\n",
       "      <td>2016</td>\n",
       "      <td>8</td>\n",
       "      <td>28</td>\n",
       "      <td>263</td>\n",
       "    </tr>\n",
       "    <tr>\n",
       "      <th>4</th>\n",
       "      <td>https://purl.archive.org/purl/yelp/yelp_entities#business_id/FBBeJO50xZiNIo3oFhAFRA</td>\n",
       "      <td>2017</td>\n",
       "      <td>7</td>\n",
       "      <td>29</td>\n",
       "      <td>251</td>\n",
       "    </tr>\n",
       "  </tbody>\n",
       "</table>\n",
       "</div>"
      ],
      "text/plain": [
       "                                                                        business.value  \\\n",
       "0  https://purl.archive.org/purl/yelp/yelp_entities#business_id/CySqUcNz8oPiQTu4EXTnig   \n",
       "1  https://purl.archive.org/purl/yelp/yelp_entities#business_id/g50ImmCX3WY3koEDIzoKxg   \n",
       "2  https://purl.archive.org/purl/yelp/yelp_entities#business_id/qfWWx0dVo1UuAhRfh03Dyw   \n",
       "3  https://purl.archive.org/purl/yelp/yelp_entities#business_id/g50ImmCX3WY3koEDIzoKxg   \n",
       "4  https://purl.archive.org/purl/yelp/yelp_entities#business_id/FBBeJO50xZiNIo3oFhAFRA   \n",
       "\n",
       "  year.value month.value day.value numberOfVisits.value  \n",
       "0       2016           6        25                  457  \n",
       "1       2015           8        30                  285  \n",
       "2       2016           8        28                  268  \n",
       "3       2016           8        28                  263  \n",
       "4       2017           7        29                  251  "
      ]
     },
     "execution_count": 6,
     "metadata": {},
     "output_type": "execute_result"
    }
   ],
   "source": [
    "sparql_query = \"\"\"\n",
    "SELECT ?business ?year ?month ?day COUNT(?visit) as ?numberOfVisits\n",
    "WHERE {\n",
    "    ?business schema:checkinTime ?visit .\n",
    "    BIND (day(?visit)  as ?day)\n",
    "    BIND (month(?visit) as ?month)\n",
    "    BIND (year(?visit) as ?year)\n",
    "}\n",
    "GROUP BY ?business ?year ?month ?day\n",
    "ORDER BY DESC(COUNT(?visit))\n",
    "LIMIT 5\n",
    "\n",
    "\"\"\"\n",
    "\n",
    "run_query(query=sparql_query, as_dataframe=True)"
   ]
  },
  {
   "cell_type": "code",
   "execution_count": 17,
   "metadata": {},
   "outputs": [
    {
     "data": {
      "text/plain": [
       "business_id             Day  Month  Year\n",
       "CySqUcNz8oPiQTu4EXTnig  25   06     2016    465\n",
       "g50ImmCX3WY3koEDIzoKxg  30   08     2015    287\n",
       "qfWWx0dVo1UuAhRfh03Dyw  28   08     2016    270\n",
       "g50ImmCX3WY3koEDIzoKxg  28   08     2016    264\n",
       "FBBeJO50xZiNIo3oFhAFRA  29   07     2017    254\n",
       "dtype: int64"
      ]
     },
     "execution_count": 17,
     "metadata": {},
     "output_type": "execute_result"
    }
   ],
   "source": [
    "checkins[\"Day\"] = checkins[\"date\"].apply(lambda x: x.split(\"-\")[2][:2])\n",
    "checkins[\"Month\"] = checkins[\"date\"].apply(lambda x: x.split(\"-\")[1])\n",
    "checkins[\"Year\"] = checkins[\"date\"].apply(lambda x: x.split(\"-\")[0])\n",
    "\n",
    "checkins.value_counts(subset=[\"business_id\", \"Day\", \"Month\", \"Year\"], sort=True, ascending=False).head(5)"
   ]
  },
  {
   "attachments": {},
   "cell_type": "markdown",
   "metadata": {
    "collapsed": false,
    "pycharm": {
     "name": "#%% md\n"
    }
   },
   "source": [
    "### Which are the top 10 most visisted businesses?"
   ]
  },
  {
   "cell_type": "code",
   "execution_count": 8,
   "metadata": {},
   "outputs": [
    {
     "data": {
      "text/html": [
       "<div>\n",
       "<style scoped>\n",
       "    .dataframe tbody tr th:only-of-type {\n",
       "        vertical-align: middle;\n",
       "    }\n",
       "\n",
       "    .dataframe tbody tr th {\n",
       "        vertical-align: top;\n",
       "    }\n",
       "\n",
       "    .dataframe thead th {\n",
       "        text-align: right;\n",
       "    }\n",
       "</style>\n",
       "<table border=\"1\" class=\"dataframe\">\n",
       "  <thead>\n",
       "    <tr style=\"text-align: right;\">\n",
       "      <th></th>\n",
       "      <th>business.value</th>\n",
       "      <th>count_visits.value</th>\n",
       "    </tr>\n",
       "  </thead>\n",
       "  <tbody>\n",
       "    <tr>\n",
       "      <th>0</th>\n",
       "      <td>https://purl.archive.org/purl/yelp/yelp_entities#business_id/-QI8Qi8XWH3D8y8ethnajA</td>\n",
       "      <td>52129</td>\n",
       "    </tr>\n",
       "    <tr>\n",
       "      <th>1</th>\n",
       "      <td>https://purl.archive.org/purl/yelp/yelp_entities#business_id/FEXhWNCMkv22qG04E83Qjg</td>\n",
       "      <td>40092</td>\n",
       "    </tr>\n",
       "    <tr>\n",
       "      <th>2</th>\n",
       "      <td>https://purl.archive.org/purl/yelp/yelp_entities#business_id/Eb1XmmLWyt_way5NNZ7-Pw</td>\n",
       "      <td>37553</td>\n",
       "    </tr>\n",
       "    <tr>\n",
       "      <th>3</th>\n",
       "      <td>https://purl.archive.org/purl/yelp/yelp_entities#business_id/c_4c5rJECZSfNgFj7frwHQ</td>\n",
       "      <td>37511</td>\n",
       "    </tr>\n",
       "    <tr>\n",
       "      <th>4</th>\n",
       "      <td>https://purl.archive.org/purl/yelp/yelp_entities#business_id/4i4kmYm9wgSNyF1b6gKphg</td>\n",
       "      <td>31163</td>\n",
       "    </tr>\n",
       "    <tr>\n",
       "      <th>5</th>\n",
       "      <td>https://purl.archive.org/purl/yelp/yelp_entities#business_id/8O35ji_yOMVJmZ6bl96yhQ</td>\n",
       "      <td>29599</td>\n",
       "    </tr>\n",
       "    <tr>\n",
       "      <th>6</th>\n",
       "      <td>https://purl.archive.org/purl/yelp/yelp_entities#business_id/VQcCL9PiNL_wkGf-uF3fjg</td>\n",
       "      <td>28917</td>\n",
       "    </tr>\n",
       "    <tr>\n",
       "      <th>7</th>\n",
       "      <td>https://purl.archive.org/purl/yelp/yelp_entities#business_id/ac1AeYqs8Z4_e2X5M3if2A</td>\n",
       "      <td>21527</td>\n",
       "    </tr>\n",
       "    <tr>\n",
       "      <th>8</th>\n",
       "      <td>https://purl.archive.org/purl/yelp/yelp_entities#business_id/QTbahs-GVuWYL5yfdjH34A</td>\n",
       "      <td>21478</td>\n",
       "    </tr>\n",
       "    <tr>\n",
       "      <th>9</th>\n",
       "      <td>https://purl.archive.org/purl/yelp/yelp_entities#business_id/ytynqOUb3hjKeJfRj5Tshw</td>\n",
       "      <td>18604</td>\n",
       "    </tr>\n",
       "  </tbody>\n",
       "</table>\n",
       "</div>"
      ],
      "text/plain": [
       "                                                                        business.value  \\\n",
       "0  https://purl.archive.org/purl/yelp/yelp_entities#business_id/-QI8Qi8XWH3D8y8ethnajA   \n",
       "1  https://purl.archive.org/purl/yelp/yelp_entities#business_id/FEXhWNCMkv22qG04E83Qjg   \n",
       "2  https://purl.archive.org/purl/yelp/yelp_entities#business_id/Eb1XmmLWyt_way5NNZ7-Pw   \n",
       "3  https://purl.archive.org/purl/yelp/yelp_entities#business_id/c_4c5rJECZSfNgFj7frwHQ   \n",
       "4  https://purl.archive.org/purl/yelp/yelp_entities#business_id/4i4kmYm9wgSNyF1b6gKphg   \n",
       "5  https://purl.archive.org/purl/yelp/yelp_entities#business_id/8O35ji_yOMVJmZ6bl96yhQ   \n",
       "6  https://purl.archive.org/purl/yelp/yelp_entities#business_id/VQcCL9PiNL_wkGf-uF3fjg   \n",
       "7  https://purl.archive.org/purl/yelp/yelp_entities#business_id/ac1AeYqs8Z4_e2X5M3if2A   \n",
       "8  https://purl.archive.org/purl/yelp/yelp_entities#business_id/QTbahs-GVuWYL5yfdjH34A   \n",
       "9  https://purl.archive.org/purl/yelp/yelp_entities#business_id/ytynqOUb3hjKeJfRj5Tshw   \n",
       "\n",
       "  count_visits.value  \n",
       "0              52129  \n",
       "1              40092  \n",
       "2              37553  \n",
       "3              37511  \n",
       "4              31163  \n",
       "5              29599  \n",
       "6              28917  \n",
       "7              21527  \n",
       "8              21478  \n",
       "9              18604  "
      ]
     },
     "execution_count": 8,
     "metadata": {},
     "output_type": "execute_result"
    }
   ],
   "source": [
    "sparql_query = \"\"\"\n",
    "SELECT ?business COUNT(?visit) AS ?count_visits\n",
    "WHERE {\n",
    "    ?business schema:checkinTime ?visit .\n",
    "}\n",
    "GROUP BY ?business \n",
    "ORDER BY DESC(COUNT(?visit))\n",
    "LIMIT 10\n",
    "\n",
    "\"\"\"\n",
    "\n",
    "run_query(query=sparql_query, as_dataframe=True)"
   ]
  },
  {
   "cell_type": "code",
   "execution_count": 20,
   "metadata": {},
   "outputs": [
    {
     "data": {
      "text/plain": [
       "business_id           \n",
       "-QI8Qi8XWH3D8y8ethnajA    52144\n",
       "FEXhWNCMkv22qG04E83Qjg    40109\n",
       "Eb1XmmLWyt_way5NNZ7-Pw    37562\n",
       "c_4c5rJECZSfNgFj7frwHQ    37518\n",
       "4i4kmYm9wgSNyF1b6gKphg    31168\n",
       "8O35ji_yOMVJmZ6bl96yhQ    29606\n",
       "VQcCL9PiNL_wkGf-uF3fjg    28927\n",
       "ac1AeYqs8Z4_e2X5M3if2A    21542\n",
       "QTbahs-GVuWYL5yfdjH34A    21487\n",
       "ytynqOUb3hjKeJfRj5Tshw    18615\n",
       "dtype: int64"
      ]
     },
     "execution_count": 20,
     "metadata": {},
     "output_type": "execute_result"
    }
   ],
   "source": [
    "checkins.value_counts(subset=[\"business_id\"], sort=True, ascending=False).head(10)"
   ]
  },
  {
   "attachments": {},
   "cell_type": "markdown",
   "metadata": {
    "collapsed": false
   },
   "source": [
    "### How many people have written a review or tip on Yelp?\n",
    "TO DO: Not correct result, may be because reviews DF can contain \"...\" reviews which are NOT added to the KG."
   ]
  },
  {
   "cell_type": "code",
   "execution_count": 7,
   "metadata": {
    "collapsed": false,
    "pycharm": {
     "name": "#%%\n"
    }
   },
   "outputs": [
    {
     "data": {
      "text/html": [
       "<div>\n",
       "<style scoped>\n",
       "    .dataframe tbody tr th:only-of-type {\n",
       "        vertical-align: middle;\n",
       "    }\n",
       "\n",
       "    .dataframe tbody tr th {\n",
       "        vertical-align: top;\n",
       "    }\n",
       "\n",
       "    .dataframe thead th {\n",
       "        text-align: right;\n",
       "    }\n",
       "</style>\n",
       "<table border=\"1\" class=\"dataframe\">\n",
       "  <thead>\n",
       "    <tr style=\"text-align: right;\">\n",
       "      <th></th>\n",
       "      <th>countUsers.value</th>\n",
       "    </tr>\n",
       "  </thead>\n",
       "  <tbody>\n",
       "    <tr>\n",
       "      <th>0</th>\n",
       "      <td>1987897</td>\n",
       "    </tr>\n",
       "  </tbody>\n",
       "</table>\n",
       "</div>"
      ],
      "text/plain": [
       "  countUsers.value\n",
       "0          1987897"
      ]
     },
     "execution_count": 7,
     "metadata": {},
     "output_type": "execute_result"
    }
   ],
   "source": [
    "sparql_query = \"\"\"\n",
    "SELECT COUNT(DISTINCT(?user)) AS ?countUsers\n",
    "WHERE {\n",
    "    ?user rdfs:Class schema:Person .\n",
    "    ?review schema:author ?user .\n",
    "}\n",
    "\"\"\"\n",
    "\n",
    "run_query(query=sparql_query, as_dataframe=True)"
   ]
  },
  {
   "cell_type": "code",
   "execution_count": 7,
   "metadata": {
    "collapsed": false,
    "pycharm": {
     "name": "#%%\n"
    }
   },
   "outputs": [
    {
     "data": {
      "text/plain": [
       "1987929"
      ]
     },
     "execution_count": 7,
     "metadata": {},
     "output_type": "execute_result"
    }
   ],
   "source": [
    "reviews.drop_duplicates(subset=['user_id']).shape[0]"
   ]
  },
  {
   "attachments": {},
   "cell_type": "markdown",
   "metadata": {
    "collapsed": false,
    "pycharm": {
     "name": "#%% md\n"
    }
   },
   "source": [
    "### How many users have 10 friends?"
   ]
  },
  {
   "cell_type": "code",
   "execution_count": 5,
   "metadata": {},
   "outputs": [
    {
     "data": {
      "text/html": [
       "<div>\n",
       "<style scoped>\n",
       "    .dataframe tbody tr th:only-of-type {\n",
       "        vertical-align: middle;\n",
       "    }\n",
       "\n",
       "    .dataframe tbody tr th {\n",
       "        vertical-align: top;\n",
       "    }\n",
       "\n",
       "    .dataframe thead th {\n",
       "        text-align: right;\n",
       "    }\n",
       "</style>\n",
       "<table border=\"1\" class=\"dataframe\">\n",
       "  <thead>\n",
       "    <tr style=\"text-align: right;\">\n",
       "      <th></th>\n",
       "      <th>callret-0.value</th>\n",
       "    </tr>\n",
       "  </thead>\n",
       "  <tbody>\n",
       "    <tr>\n",
       "      <th>0</th>\n",
       "      <td>13579</td>\n",
       "    </tr>\n",
       "  </tbody>\n",
       "</table>\n",
       "</div>"
      ],
      "text/plain": [
       "  callret-0.value\n",
       "0           13579"
      ]
     },
     "execution_count": 5,
     "metadata": {},
     "output_type": "execute_result"
    }
   ],
   "source": [
    "sparql_query = \"\"\"\n",
    "SELECT COUNT(*) as ?usersWith10Friends\n",
    "WHERE {\n",
    "    SELECT ?user COUNT(?friend) AS ?countUsers\n",
    "    WHERE {\n",
    "        ?user rdfs:Class schema:Person .\n",
    "        ?user schema:knows ?friend .\n",
    "    }\n",
    "    GROUP BY ?user\n",
    "    HAVING (COUNT(?friend) = 10)\n",
    "}\n",
    "\"\"\"\n",
    "\n",
    "run_query(query=sparql_query, as_dataframe=True)"
   ]
  },
  {
   "cell_type": "code",
   "execution_count": 11,
   "metadata": {
    "collapsed": false,
    "pycharm": {
     "name": "#%%\n"
    }
   },
   "outputs": [
    {
     "data": {
      "text/plain": [
       "13579"
      ]
     },
     "execution_count": 11,
     "metadata": {},
     "output_type": "execute_result"
    }
   ],
   "source": [
    "users[\"amountFriends\"] = users[\"friends\"].apply(lambda x: len(x.split(\",\")))\n",
    "users[users[\"amountFriends\"] == 10].shape[0]"
   ]
  },
  {
   "attachments": {},
   "cell_type": "markdown",
   "metadata": {},
   "source": [
    "### How many friends does a user have on average?\n",
    "TO DO: Is not giving correct result"
   ]
  },
  {
   "cell_type": "code",
   "execution_count": 73,
   "metadata": {},
   "outputs": [
    {
     "data": {
      "text/html": [
       "<div>\n",
       "<style scoped>\n",
       "    .dataframe tbody tr th:only-of-type {\n",
       "        vertical-align: middle;\n",
       "    }\n",
       "\n",
       "    .dataframe tbody tr th {\n",
       "        vertical-align: top;\n",
       "    }\n",
       "\n",
       "    .dataframe thead th {\n",
       "        text-align: right;\n",
       "    }\n",
       "</style>\n",
       "<table border=\"1\" class=\"dataframe\">\n",
       "  <thead>\n",
       "    <tr style=\"text-align: right;\">\n",
       "      <th></th>\n",
       "      <th>averageFriends.value</th>\n",
       "    </tr>\n",
       "  </thead>\n",
       "  <tbody>\n",
       "    <tr>\n",
       "      <th>0</th>\n",
       "      <td>94.853611046508483</td>\n",
       "    </tr>\n",
       "  </tbody>\n",
       "</table>\n",
       "</div>"
      ],
      "text/plain": [
       "  averageFriends.value\n",
       "0   94.853611046508483"
      ]
     },
     "execution_count": 73,
     "metadata": {},
     "output_type": "execute_result"
    }
   ],
   "source": [
    "sparql_query = \"\"\"\n",
    "SELECT AVG(?numberOfFriends) as ?averageFriends\n",
    "WHERE { \n",
    "    SELECT COUNT(?friend) as ?numberOfFriends\n",
    "    WHERE {\n",
    "        ?user rdfs:Class schema:Person .\n",
    "        ?user schema:knows ?friend .\n",
    "    }\n",
    "    GROUP BY ?user\n",
    "}\n",
    "\"\"\"\n",
    "\n",
    "run_query(query=sparql_query, as_dataframe=True)"
   ]
  },
  {
   "cell_type": "code",
   "execution_count": 5,
   "metadata": {},
   "outputs": [
    {
     "ename": "QueryBadFormed",
     "evalue": "QueryBadFormed: A bad request has been sent to the endpoint: probably the SPARQL query is badly formed. \n\nResponse:\nb\"Virtuoso 37000 Error SP030: SPARQL compiler, line 17: syntax error at 'SELECT' before '('\\n\\nSPARQL query:\\n#output-format:application/sparql-results+json\\n\\n    PREFIX rdfs: <http://www.w3.org/2000/01/rdf-schema#> \\n    PREFIX schema: <https://schema.org/> \\n    PREFIX xsd: <http://www.w3.org/2001/XMLSchema#> \\n    PREFIX yelpcat: <https://purl.archive.org/purl/yelp/business_categories#>\\n    PREFIX yelpont: <https://purl.archive.org/purl/yelp/ontology#>\\n    PREFIX yelpent: <https://purl.archive.org/purl/yelp/yelp_entities#>\\n    \\nSELECT (?numberOfFriends / ?numberOfUsers) as ?averageFriends\\nWHERE {\\n    SELECT COUNT(?friend) as ?numberOfFriends \\n    WHERE {\\n        ?user rdfs:Class schema:Person .\\n        ?user schema:knows ?friend .\\n    }\\n    SELECT COUNT(?user) as ?numberOfUsers\\n    WHERE {\\n        ?user rdfs:Class schema:Person .\\n    }\\n}\\n\"",
     "output_type": "error",
     "traceback": [
      "\u001b[0;31m---------------------------------------------------------------------------\u001b[0m",
      "\u001b[0;31mHTTPError\u001b[0m                                 Traceback (most recent call last)",
      "File \u001b[0;32m~/.local/lib/python3.10/site-packages/SPARQLWrapper/Wrapper.py:924\u001b[0m, in \u001b[0;36mSPARQLWrapper._query\u001b[0;34m(self)\u001b[0m\n\u001b[1;32m    923\u001b[0m \u001b[39mif\u001b[39;00m \u001b[39mself\u001b[39m\u001b[39m.\u001b[39mtimeout:\n\u001b[0;32m--> 924\u001b[0m     response \u001b[39m=\u001b[39m urlopener(request, timeout\u001b[39m=\u001b[39;49m\u001b[39mself\u001b[39;49m\u001b[39m.\u001b[39;49mtimeout)\n\u001b[1;32m    925\u001b[0m \u001b[39melse\u001b[39;00m:\n",
      "File \u001b[0;32m/usr/local/lib/python3.10/urllib/request.py:216\u001b[0m, in \u001b[0;36murlopen\u001b[0;34m(url, data, timeout, cafile, capath, cadefault, context)\u001b[0m\n\u001b[1;32m    215\u001b[0m     opener \u001b[39m=\u001b[39m _opener\n\u001b[0;32m--> 216\u001b[0m \u001b[39mreturn\u001b[39;00m opener\u001b[39m.\u001b[39;49mopen(url, data, timeout)\n",
      "File \u001b[0;32m/usr/local/lib/python3.10/urllib/request.py:525\u001b[0m, in \u001b[0;36mOpenerDirector.open\u001b[0;34m(self, fullurl, data, timeout)\u001b[0m\n\u001b[1;32m    524\u001b[0m     meth \u001b[39m=\u001b[39m \u001b[39mgetattr\u001b[39m(processor, meth_name)\n\u001b[0;32m--> 525\u001b[0m     response \u001b[39m=\u001b[39m meth(req, response)\n\u001b[1;32m    527\u001b[0m \u001b[39mreturn\u001b[39;00m response\n",
      "File \u001b[0;32m/usr/local/lib/python3.10/urllib/request.py:634\u001b[0m, in \u001b[0;36mHTTPErrorProcessor.http_response\u001b[0;34m(self, request, response)\u001b[0m\n\u001b[1;32m    633\u001b[0m \u001b[39mif\u001b[39;00m \u001b[39mnot\u001b[39;00m (\u001b[39m200\u001b[39m \u001b[39m<\u001b[39m\u001b[39m=\u001b[39m code \u001b[39m<\u001b[39m \u001b[39m300\u001b[39m):\n\u001b[0;32m--> 634\u001b[0m     response \u001b[39m=\u001b[39m \u001b[39mself\u001b[39;49m\u001b[39m.\u001b[39;49mparent\u001b[39m.\u001b[39;49merror(\n\u001b[1;32m    635\u001b[0m         \u001b[39m'\u001b[39;49m\u001b[39mhttp\u001b[39;49m\u001b[39m'\u001b[39;49m, request, response, code, msg, hdrs)\n\u001b[1;32m    637\u001b[0m \u001b[39mreturn\u001b[39;00m response\n",
      "File \u001b[0;32m/usr/local/lib/python3.10/urllib/request.py:563\u001b[0m, in \u001b[0;36mOpenerDirector.error\u001b[0;34m(self, proto, *args)\u001b[0m\n\u001b[1;32m    562\u001b[0m args \u001b[39m=\u001b[39m (\u001b[39mdict\u001b[39m, \u001b[39m'\u001b[39m\u001b[39mdefault\u001b[39m\u001b[39m'\u001b[39m, \u001b[39m'\u001b[39m\u001b[39mhttp_error_default\u001b[39m\u001b[39m'\u001b[39m) \u001b[39m+\u001b[39m orig_args\n\u001b[0;32m--> 563\u001b[0m \u001b[39mreturn\u001b[39;00m \u001b[39mself\u001b[39;49m\u001b[39m.\u001b[39;49m_call_chain(\u001b[39m*\u001b[39;49margs)\n",
      "File \u001b[0;32m/usr/local/lib/python3.10/urllib/request.py:496\u001b[0m, in \u001b[0;36mOpenerDirector._call_chain\u001b[0;34m(self, chain, kind, meth_name, *args)\u001b[0m\n\u001b[1;32m    495\u001b[0m func \u001b[39m=\u001b[39m \u001b[39mgetattr\u001b[39m(handler, meth_name)\n\u001b[0;32m--> 496\u001b[0m result \u001b[39m=\u001b[39m func(\u001b[39m*\u001b[39;49margs)\n\u001b[1;32m    497\u001b[0m \u001b[39mif\u001b[39;00m result \u001b[39mis\u001b[39;00m \u001b[39mnot\u001b[39;00m \u001b[39mNone\u001b[39;00m:\n",
      "File \u001b[0;32m/usr/local/lib/python3.10/urllib/request.py:643\u001b[0m, in \u001b[0;36mHTTPDefaultErrorHandler.http_error_default\u001b[0;34m(self, req, fp, code, msg, hdrs)\u001b[0m\n\u001b[1;32m    642\u001b[0m \u001b[39mdef\u001b[39;00m \u001b[39mhttp_error_default\u001b[39m(\u001b[39mself\u001b[39m, req, fp, code, msg, hdrs):\n\u001b[0;32m--> 643\u001b[0m     \u001b[39mraise\u001b[39;00m HTTPError(req\u001b[39m.\u001b[39mfull_url, code, msg, hdrs, fp)\n",
      "\u001b[0;31mHTTPError\u001b[0m: HTTP Error 400: Bad Request",
      "\nDuring handling of the above exception, another exception occurred:\n",
      "\u001b[0;31mQueryBadFormed\u001b[0m                            Traceback (most recent call last)",
      "Cell \u001b[0;32mIn [5], line 16\u001b[0m\n\u001b[1;32m      1\u001b[0m sparql_query \u001b[39m=\u001b[39m \u001b[39m\"\"\"\u001b[39m\n\u001b[1;32m      2\u001b[0m \u001b[39mSELECT (?numberOfFriends / ?numberOfUsers) as ?averageFriends\u001b[39m\n\u001b[1;32m      3\u001b[0m \u001b[39mWHERE \u001b[39m\u001b[39m{\u001b[39m\n\u001b[0;32m   (...)\u001b[0m\n\u001b[1;32m     13\u001b[0m \u001b[39m}\u001b[39m\n\u001b[1;32m     14\u001b[0m \u001b[39m\"\"\"\u001b[39m\n\u001b[0;32m---> 16\u001b[0m run_query(query\u001b[39m=\u001b[39;49msparql_query, as_dataframe\u001b[39m=\u001b[39;49m\u001b[39mTrue\u001b[39;49;00m)\n",
      "File \u001b[0;32m~/DVML-P7/Code/UtilityFunctions/run_query.py:23\u001b[0m, in \u001b[0;36mrun_query\u001b[0;34m(query, as_dataframe, do_print, include_types)\u001b[0m\n\u001b[1;32m     13\u001b[0m PREFIX\u001b[39m=\u001b[39m \u001b[39m\"\"\"\u001b[39m\n\u001b[1;32m     14\u001b[0m \u001b[39mPREFIX rdfs: <http://www.w3.org/2000/01/rdf-schema#> \u001b[39m\n\u001b[1;32m     15\u001b[0m \u001b[39mPREFIX schema: <https://schema.org/> \u001b[39m\n\u001b[0;32m   (...)\u001b[0m\n\u001b[1;32m     19\u001b[0m \u001b[39mPREFIX yelpent: <https://purl.archive.org/purl/yelp/yelp_entities#>\u001b[39m\n\u001b[1;32m     20\u001b[0m \u001b[39m\u001b[39m\u001b[39m\"\"\"\u001b[39m\n\u001b[1;32m     22\u001b[0m endpoint\u001b[39m.\u001b[39msetQuery(PREFIX\u001b[39m+\u001b[39mquery)\n\u001b[0;32m---> 23\u001b[0m results \u001b[39m=\u001b[39m endpoint\u001b[39m.\u001b[39;49mquery()\u001b[39m.\u001b[39mconvert()[\u001b[39m'\u001b[39m\u001b[39mresults\u001b[39m\u001b[39m'\u001b[39m]\n\u001b[1;32m     24\u001b[0m \u001b[39mif\u001b[39;00m \u001b[39mlen\u001b[39m(results[\u001b[39m'\u001b[39m\u001b[39mbindings\u001b[39m\u001b[39m'\u001b[39m]) \u001b[39m<\u001b[39m\u001b[39m=\u001b[39m \u001b[39m0\u001b[39m:\n\u001b[1;32m     25\u001b[0m     \u001b[39mprint\u001b[39m(\u001b[39m\"\u001b[39m\u001b[39mEmpty resultset\u001b[39m\u001b[39m\"\u001b[39m)\n",
      "File \u001b[0;32m~/.local/lib/python3.10/site-packages/SPARQLWrapper/Wrapper.py:960\u001b[0m, in \u001b[0;36mSPARQLWrapper.query\u001b[0;34m(self)\u001b[0m\n\u001b[1;32m    942\u001b[0m \u001b[39mdef\u001b[39;00m \u001b[39mquery\u001b[39m(\u001b[39mself\u001b[39m) \u001b[39m-\u001b[39m\u001b[39m>\u001b[39m \u001b[39m\"\u001b[39m\u001b[39mQueryResult\u001b[39m\u001b[39m\"\u001b[39m:\n\u001b[1;32m    943\u001b[0m     \u001b[39m\"\"\"\u001b[39;00m\n\u001b[1;32m    944\u001b[0m \u001b[39m    Execute the query.\u001b[39;00m\n\u001b[1;32m    945\u001b[0m \u001b[39m    Exceptions can be raised if either the URI is wrong or the HTTP sends back an error (this is also the\u001b[39;00m\n\u001b[0;32m   (...)\u001b[0m\n\u001b[1;32m    958\u001b[0m \u001b[39m    :rtype: :class:`QueryResult` instance\u001b[39;00m\n\u001b[1;32m    959\u001b[0m \u001b[39m    \"\"\"\u001b[39;00m\n\u001b[0;32m--> 960\u001b[0m     \u001b[39mreturn\u001b[39;00m QueryResult(\u001b[39mself\u001b[39;49m\u001b[39m.\u001b[39;49m_query())\n",
      "File \u001b[0;32m~/.local/lib/python3.10/site-packages/SPARQLWrapper/Wrapper.py:930\u001b[0m, in \u001b[0;36mSPARQLWrapper._query\u001b[0;34m(self)\u001b[0m\n\u001b[1;32m    928\u001b[0m \u001b[39mexcept\u001b[39;00m urllib\u001b[39m.\u001b[39merror\u001b[39m.\u001b[39mHTTPError \u001b[39mas\u001b[39;00m e:\n\u001b[1;32m    929\u001b[0m     \u001b[39mif\u001b[39;00m e\u001b[39m.\u001b[39mcode \u001b[39m==\u001b[39m \u001b[39m400\u001b[39m:\n\u001b[0;32m--> 930\u001b[0m         \u001b[39mraise\u001b[39;00m QueryBadFormed(e\u001b[39m.\u001b[39mread())\n\u001b[1;32m    931\u001b[0m     \u001b[39melif\u001b[39;00m e\u001b[39m.\u001b[39mcode \u001b[39m==\u001b[39m \u001b[39m404\u001b[39m:\n\u001b[1;32m    932\u001b[0m         \u001b[39mraise\u001b[39;00m EndPointNotFound(e\u001b[39m.\u001b[39mread())\n",
      "\u001b[0;31mQueryBadFormed\u001b[0m: QueryBadFormed: A bad request has been sent to the endpoint: probably the SPARQL query is badly formed. \n\nResponse:\nb\"Virtuoso 37000 Error SP030: SPARQL compiler, line 17: syntax error at 'SELECT' before '('\\n\\nSPARQL query:\\n#output-format:application/sparql-results+json\\n\\n    PREFIX rdfs: <http://www.w3.org/2000/01/rdf-schema#> \\n    PREFIX schema: <https://schema.org/> \\n    PREFIX xsd: <http://www.w3.org/2001/XMLSchema#> \\n    PREFIX yelpcat: <https://purl.archive.org/purl/yelp/business_categories#>\\n    PREFIX yelpont: <https://purl.archive.org/purl/yelp/ontology#>\\n    PREFIX yelpent: <https://purl.archive.org/purl/yelp/yelp_entities#>\\n    \\nSELECT (?numberOfFriends / ?numberOfUsers) as ?averageFriends\\nWHERE {\\n    SELECT COUNT(?friend) as ?numberOfFriends \\n    WHERE {\\n        ?user rdfs:Class schema:Person .\\n        ?user schema:knows ?friend .\\n    }\\n    SELECT COUNT(?user) as ?numberOfUsers\\n    WHERE {\\n        ?user rdfs:Class schema:Person .\\n    }\\n}\\n\""
     ]
    }
   ],
   "source": [
    "sparql_query = \"\"\"\n",
    "SELECT (?numberOfFriends / ?numberOfUsers) as ?averageFriends\n",
    "WHERE {\n",
    "    SELECT COUNT(?friend) as ?numberOfFriends \n",
    "    WHERE {\n",
    "        ?user rdfs:Class schema:Person .\n",
    "        ?user schema:knows ?friend .\n",
    "    }\n",
    "    SELECT COUNT(?user) as ?numberOfUsers\n",
    "    WHERE {\n",
    "        ?user rdfs:Class schema:Person .\n",
    "    }\n",
    "}\n",
    "\"\"\"\n",
    "\n",
    "run_query(query=sparql_query, as_dataframe=True)"
   ]
  },
  {
   "cell_type": "code",
   "execution_count": 26,
   "metadata": {},
   "outputs": [
    {
     "data": {
      "text/html": [
       "<div>\n",
       "<style scoped>\n",
       "    .dataframe tbody tr th:only-of-type {\n",
       "        vertical-align: middle;\n",
       "    }\n",
       "\n",
       "    .dataframe tbody tr th {\n",
       "        vertical-align: top;\n",
       "    }\n",
       "\n",
       "    .dataframe thead th {\n",
       "        text-align: right;\n",
       "    }\n",
       "</style>\n",
       "<table border=\"1\" class=\"dataframe\">\n",
       "  <thead>\n",
       "    <tr style=\"text-align: right;\">\n",
       "      <th></th>\n",
       "      <th>numberOfFriends.value</th>\n",
       "      <th>numberOfUsers.value</th>\n",
       "    </tr>\n",
       "  </thead>\n",
       "  <tbody>\n",
       "    <tr>\n",
       "      <th>0</th>\n",
       "      <td>105225474</td>\n",
       "      <td>105225474</td>\n",
       "    </tr>\n",
       "  </tbody>\n",
       "</table>\n",
       "</div>"
      ],
      "text/plain": [
       "  numberOfFriends.value numberOfUsers.value\n",
       "0             105225474           105225474"
      ]
     },
     "execution_count": 26,
     "metadata": {},
     "output_type": "execute_result"
    }
   ],
   "source": [
    "sparql_query = \"\"\"\n",
    "SELECT ?numberOfFriends ?numberOfUsers\n",
    "WHERE {\n",
    "    SELECT COUNT(?friend) as ?numberOfFriends COUNT(?user) as ?numberOfUsers\n",
    "    WHERE {\n",
    "        ?user rdfs:Class schema:Person .\n",
    "        ?user schema:knows ?friend .\n",
    "        }\n",
    "}\n",
    "\"\"\"\n",
    "\n",
    "run_query(query=sparql_query, as_dataframe=True)"
   ]
  },
  {
   "cell_type": "code",
   "execution_count": 19,
   "metadata": {},
   "outputs": [],
   "source": [
    "\n",
    "sparql_query = \"\"\"\n",
    "SELECT ?user (COUNT(?friend) AS ?friendCount)\n",
    "WHERE {\n",
    "    ?user schema:knows ?friend .\n",
    "   }\n",
    "   GROUP BY ?user\n",
    "\n",
    "\"\"\"\n",
    "\n",
    "x = run_query(query=sparql_query, as_dataframe=True)"
   ]
  },
  {
   "cell_type": "code",
   "execution_count": 21,
   "metadata": {},
   "outputs": [
    {
     "data": {
      "text/html": [
       "<div>\n",
       "<style scoped>\n",
       "    .dataframe tbody tr th:only-of-type {\n",
       "        vertical-align: middle;\n",
       "    }\n",
       "\n",
       "    .dataframe tbody tr th {\n",
       "        vertical-align: top;\n",
       "    }\n",
       "\n",
       "    .dataframe thead th {\n",
       "        text-align: right;\n",
       "    }\n",
       "</style>\n",
       "<table border=\"1\" class=\"dataframe\">\n",
       "  <thead>\n",
       "    <tr style=\"text-align: right;\">\n",
       "      <th></th>\n",
       "      <th>user.value</th>\n",
       "      <th>friendCount.value</th>\n",
       "    </tr>\n",
       "  </thead>\n",
       "  <tbody>\n",
       "    <tr>\n",
       "      <th>1024615</th>\n",
       "      <td>https://purl.archive.org/purl/yelp/yelp_entities#user_id/KXzNTIlLiqmnUa4_f4Oa4w</td>\n",
       "      <td>999</td>\n",
       "    </tr>\n",
       "    <tr>\n",
       "      <th>334198</th>\n",
       "      <td>https://purl.archive.org/purl/yelp/yelp_entities#user_id/JQIZhoQB-Tg9hdBEj90m4g</td>\n",
       "      <td>999</td>\n",
       "    </tr>\n",
       "    <tr>\n",
       "      <th>209148</th>\n",
       "      <td>https://purl.archive.org/purl/yelp/yelp_entities#user_id/DxsKifTKSc38ImA-ZYrd9A</td>\n",
       "      <td>999</td>\n",
       "    </tr>\n",
       "    <tr>\n",
       "      <th>452996</th>\n",
       "      <td>https://purl.archive.org/purl/yelp/yelp_entities#user_id/EbYTXKL-8CrJTh3HjkxBvA</td>\n",
       "      <td>999</td>\n",
       "    </tr>\n",
       "    <tr>\n",
       "      <th>331566</th>\n",
       "      <td>https://purl.archive.org/purl/yelp/yelp_entities#user_id/Qrtz_s7Z3vW_GCKDJVHVqw</td>\n",
       "      <td>999</td>\n",
       "    </tr>\n",
       "    <tr>\n",
       "      <th>25536</th>\n",
       "      <td>https://purl.archive.org/purl/yelp/yelp_entities#user_id/LJpp7toFiaHVrj811FSy5w</td>\n",
       "      <td>999</td>\n",
       "    </tr>\n",
       "    <tr>\n",
       "      <th>70684</th>\n",
       "      <td>https://purl.archive.org/purl/yelp/yelp_entities#user_id/sxEpkRflD3PxZhBgmcCyow</td>\n",
       "      <td>999</td>\n",
       "    </tr>\n",
       "    <tr>\n",
       "      <th>455998</th>\n",
       "      <td>https://purl.archive.org/purl/yelp/yelp_entities#user_id/0sl4I8R7znWXp_K4A0nZ_w</td>\n",
       "      <td>999</td>\n",
       "    </tr>\n",
       "    <tr>\n",
       "      <th>296214</th>\n",
       "      <td>https://purl.archive.org/purl/yelp/yelp_entities#user_id/FyaI7g6aIMBYeMQHLGqPXg</td>\n",
       "      <td>999</td>\n",
       "    </tr>\n",
       "    <tr>\n",
       "      <th>407598</th>\n",
       "      <td>https://purl.archive.org/purl/yelp/yelp_entities#user_id/tEy1MNP7tHJlZgP7xqF4yA</td>\n",
       "      <td>998</td>\n",
       "    </tr>\n",
       "    <tr>\n",
       "      <th>641620</th>\n",
       "      <td>https://purl.archive.org/purl/yelp/yelp_entities#user_id/6_C_MmKMmMb2LOutMVgs_A</td>\n",
       "      <td>998</td>\n",
       "    </tr>\n",
       "    <tr>\n",
       "      <th>267187</th>\n",
       "      <td>https://purl.archive.org/purl/yelp/yelp_entities#user_id/cZmYMw7NWawGW-nG1nbpHw</td>\n",
       "      <td>998</td>\n",
       "    </tr>\n",
       "    <tr>\n",
       "      <th>312029</th>\n",
       "      <td>https://purl.archive.org/purl/yelp/yelp_entities#user_id/_YgKO4ZySWt0xYVD2PXMdQ</td>\n",
       "      <td>998</td>\n",
       "    </tr>\n",
       "    <tr>\n",
       "      <th>357276</th>\n",
       "      <td>https://purl.archive.org/purl/yelp/yelp_entities#user_id/cntWaAmOW-GZRQPRWNKTcQ</td>\n",
       "      <td>998</td>\n",
       "    </tr>\n",
       "    <tr>\n",
       "      <th>339013</th>\n",
       "      <td>https://purl.archive.org/purl/yelp/yelp_entities#user_id/NIhcRW6DWvk1JQhDhXwgOQ</td>\n",
       "      <td>998</td>\n",
       "    </tr>\n",
       "    <tr>\n",
       "      <th>449039</th>\n",
       "      <td>https://purl.archive.org/purl/yelp/yelp_entities#user_id/5FAD2Yq7DLBQ_-ef1iDA-A</td>\n",
       "      <td>998</td>\n",
       "    </tr>\n",
       "    <tr>\n",
       "      <th>1375</th>\n",
       "      <td>https://purl.archive.org/purl/yelp/yelp_entities#user_id/KXEBa7KdDQiJcySEgpvBjA</td>\n",
       "      <td>998</td>\n",
       "    </tr>\n",
       "    <tr>\n",
       "      <th>282164</th>\n",
       "      <td>https://purl.archive.org/purl/yelp/yelp_entities#user_id/cbTKxe_Z7Co63zbUWHuyrg</td>\n",
       "      <td>998</td>\n",
       "    </tr>\n",
       "    <tr>\n",
       "      <th>169762</th>\n",
       "      <td>https://purl.archive.org/purl/yelp/yelp_entities#user_id/qySkAnnYcFlGO7rwcQHHMQ</td>\n",
       "      <td>998</td>\n",
       "    </tr>\n",
       "    <tr>\n",
       "      <th>365716</th>\n",
       "      <td>https://purl.archive.org/purl/yelp/yelp_entities#user_id/wL30o35tpvEe8RLYbRTzLA</td>\n",
       "      <td>998</td>\n",
       "    </tr>\n",
       "    <tr>\n",
       "      <th>419318</th>\n",
       "      <td>https://purl.archive.org/purl/yelp/yelp_entities#user_id/ObsAECdifGFRH1xuY_KUDA</td>\n",
       "      <td>998</td>\n",
       "    </tr>\n",
       "    <tr>\n",
       "      <th>326793</th>\n",
       "      <td>https://purl.archive.org/purl/yelp/yelp_entities#user_id/dGND9DDQe5L6Lli2TolF1A</td>\n",
       "      <td>998</td>\n",
       "    </tr>\n",
       "    <tr>\n",
       "      <th>632165</th>\n",
       "      <td>https://purl.archive.org/purl/yelp/yelp_entities#user_id/AlM9WFlR4FTE0D42p9TWSA</td>\n",
       "      <td>998</td>\n",
       "    </tr>\n",
       "    <tr>\n",
       "      <th>76206</th>\n",
       "      <td>https://purl.archive.org/purl/yelp/yelp_entities#user_id/kILER4yh4oJx2J6ToVq1OA</td>\n",
       "      <td>998</td>\n",
       "    </tr>\n",
       "    <tr>\n",
       "      <th>439143</th>\n",
       "      <td>https://purl.archive.org/purl/yelp/yelp_entities#user_id/RlXfOTtpgTfcisRmukrGbw</td>\n",
       "      <td>998</td>\n",
       "    </tr>\n",
       "    <tr>\n",
       "      <th>77608</th>\n",
       "      <td>https://purl.archive.org/purl/yelp/yelp_entities#user_id/i6F4S43qP3K4SaP9kg5c5A</td>\n",
       "      <td>998</td>\n",
       "    </tr>\n",
       "    <tr>\n",
       "      <th>345760</th>\n",
       "      <td>https://purl.archive.org/purl/yelp/yelp_entities#user_id/E1YcFLVceFSeIA-JIQKIYQ</td>\n",
       "      <td>998</td>\n",
       "    </tr>\n",
       "    <tr>\n",
       "      <th>305943</th>\n",
       "      <td>https://purl.archive.org/purl/yelp/yelp_entities#user_id/hi7T9y7gf6_PwTIqbzcbgw</td>\n",
       "      <td>998</td>\n",
       "    </tr>\n",
       "    <tr>\n",
       "      <th>191120</th>\n",
       "      <td>https://purl.archive.org/purl/yelp/yelp_entities#user_id/q0HDybhT0V9dXrs63_WqWQ</td>\n",
       "      <td>997</td>\n",
       "    </tr>\n",
       "    <tr>\n",
       "      <th>609348</th>\n",
       "      <td>https://purl.archive.org/purl/yelp/yelp_entities#user_id/Cn_FKoTUDav4aNKjSt0HWA</td>\n",
       "      <td>997</td>\n",
       "    </tr>\n",
       "    <tr>\n",
       "      <th>240955</th>\n",
       "      <td>https://purl.archive.org/purl/yelp/yelp_entities#user_id/YnF11Yws1ExElVBZVQ7SQw</td>\n",
       "      <td>997</td>\n",
       "    </tr>\n",
       "    <tr>\n",
       "      <th>723955</th>\n",
       "      <td>https://purl.archive.org/purl/yelp/yelp_entities#user_id/H9Non-70wUlBZIkZ10FHPg</td>\n",
       "      <td>997</td>\n",
       "    </tr>\n",
       "    <tr>\n",
       "      <th>270684</th>\n",
       "      <td>https://purl.archive.org/purl/yelp/yelp_entities#user_id/NJaxf5u4hwwU_dkRJxOtSg</td>\n",
       "      <td>997</td>\n",
       "    </tr>\n",
       "    <tr>\n",
       "      <th>433061</th>\n",
       "      <td>https://purl.archive.org/purl/yelp/yelp_entities#user_id/S6s-5lfqNvqXSiG1QkUeMQ</td>\n",
       "      <td>997</td>\n",
       "    </tr>\n",
       "    <tr>\n",
       "      <th>909442</th>\n",
       "      <td>https://purl.archive.org/purl/yelp/yelp_entities#user_id/OhUxsuPNvbEQ-RlRpdoPfQ</td>\n",
       "      <td>997</td>\n",
       "    </tr>\n",
       "    <tr>\n",
       "      <th>674053</th>\n",
       "      <td>https://purl.archive.org/purl/yelp/yelp_entities#user_id/l0z5U1bamy4SZ3n3raCH2Q</td>\n",
       "      <td>997</td>\n",
       "    </tr>\n",
       "    <tr>\n",
       "      <th>20871</th>\n",
       "      <td>https://purl.archive.org/purl/yelp/yelp_entities#user_id/mpi3nJkgX-mAuVgtsx1rAQ</td>\n",
       "      <td>997</td>\n",
       "    </tr>\n",
       "    <tr>\n",
       "      <th>85371</th>\n",
       "      <td>https://purl.archive.org/purl/yelp/yelp_entities#user_id/1JBXoO_bhPrhxbV8sHAFJA</td>\n",
       "      <td>997</td>\n",
       "    </tr>\n",
       "    <tr>\n",
       "      <th>231061</th>\n",
       "      <td>https://purl.archive.org/purl/yelp/yelp_entities#user_id/-Vlly35xyuch3cGLDCVRSQ</td>\n",
       "      <td>997</td>\n",
       "    </tr>\n",
       "    <tr>\n",
       "      <th>269720</th>\n",
       "      <td>https://purl.archive.org/purl/yelp/yelp_entities#user_id/KjBc_dE722dX4tpAROVlcw</td>\n",
       "      <td>997</td>\n",
       "    </tr>\n",
       "    <tr>\n",
       "      <th>344015</th>\n",
       "      <td>https://purl.archive.org/purl/yelp/yelp_entities#user_id/ON8FkZ45gGVe2msnx8dVvw</td>\n",
       "      <td>997</td>\n",
       "    </tr>\n",
       "    <tr>\n",
       "      <th>474938</th>\n",
       "      <td>https://purl.archive.org/purl/yelp/yelp_entities#user_id/FTE-rERzu_4DbL8vslzLqw</td>\n",
       "      <td>997</td>\n",
       "    </tr>\n",
       "    <tr>\n",
       "      <th>499992</th>\n",
       "      <td>https://purl.archive.org/purl/yelp/yelp_entities#user_id/RCXX__k3R2Zf1kzmTpopWA</td>\n",
       "      <td>996</td>\n",
       "    </tr>\n",
       "    <tr>\n",
       "      <th>421708</th>\n",
       "      <td>https://purl.archive.org/purl/yelp/yelp_entities#user_id/LVdkBw1GzOAQU071Q_fDTg</td>\n",
       "      <td>996</td>\n",
       "    </tr>\n",
       "    <tr>\n",
       "      <th>99780</th>\n",
       "      <td>https://purl.archive.org/purl/yelp/yelp_entities#user_id/qLjkDfd7j5-024FB9Z2Xvg</td>\n",
       "      <td>996</td>\n",
       "    </tr>\n",
       "    <tr>\n",
       "      <th>194196</th>\n",
       "      <td>https://purl.archive.org/purl/yelp/yelp_entities#user_id/LCBntbTJzx3fnJbTHgk-pA</td>\n",
       "      <td>996</td>\n",
       "    </tr>\n",
       "    <tr>\n",
       "      <th>1000116</th>\n",
       "      <td>https://purl.archive.org/purl/yelp/yelp_entities#user_id/q1Tke686UepI8CnOWJjF0Q</td>\n",
       "      <td>996</td>\n",
       "    </tr>\n",
       "    <tr>\n",
       "      <th>360930</th>\n",
       "      <td>https://purl.archive.org/purl/yelp/yelp_entities#user_id/uB_o-JpEe3EYCGqdZCnVkw</td>\n",
       "      <td>996</td>\n",
       "    </tr>\n",
       "    <tr>\n",
       "      <th>309773</th>\n",
       "      <td>https://purl.archive.org/purl/yelp/yelp_entities#user_id/g3A4TueL5jPkhY1dkSSCGg</td>\n",
       "      <td>996</td>\n",
       "    </tr>\n",
       "    <tr>\n",
       "      <th>699121</th>\n",
       "      <td>https://purl.archive.org/purl/yelp/yelp_entities#user_id/0E80x7n8cHMWlCa0TmWFBg</td>\n",
       "      <td>996</td>\n",
       "    </tr>\n",
       "    <tr>\n",
       "      <th>246686</th>\n",
       "      <td>https://purl.archive.org/purl/yelp/yelp_entities#user_id/tBxepCaBF4okfqvBYy0Ikg</td>\n",
       "      <td>996</td>\n",
       "    </tr>\n",
       "    <tr>\n",
       "      <th>738894</th>\n",
       "      <td>https://purl.archive.org/purl/yelp/yelp_entities#user_id/Yqj3TKFW7T7oyb4ll1v-xw</td>\n",
       "      <td>996</td>\n",
       "    </tr>\n",
       "    <tr>\n",
       "      <th>232937</th>\n",
       "      <td>https://purl.archive.org/purl/yelp/yelp_entities#user_id/hg_n19HhIzWxe8trqmFQ2g</td>\n",
       "      <td>996</td>\n",
       "    </tr>\n",
       "    <tr>\n",
       "      <th>18826</th>\n",
       "      <td>https://purl.archive.org/purl/yelp/yelp_entities#user_id/yAB89vOBgaR8S8L4E3dvgA</td>\n",
       "      <td>996</td>\n",
       "    </tr>\n",
       "    <tr>\n",
       "      <th>346313</th>\n",
       "      <td>https://purl.archive.org/purl/yelp/yelp_entities#user_id/5YN3pB3JzPQXsxpD18BRiA</td>\n",
       "      <td>996</td>\n",
       "    </tr>\n",
       "    <tr>\n",
       "      <th>133759</th>\n",
       "      <td>https://purl.archive.org/purl/yelp/yelp_entities#user_id/HH7iiWvBqV-20lA7JlSRWQ</td>\n",
       "      <td>996</td>\n",
       "    </tr>\n",
       "    <tr>\n",
       "      <th>972368</th>\n",
       "      <td>https://purl.archive.org/purl/yelp/yelp_entities#user_id/gXSX-HK0KFDBKRCs5gfmPA</td>\n",
       "      <td>996</td>\n",
       "    </tr>\n",
       "    <tr>\n",
       "      <th>265134</th>\n",
       "      <td>https://purl.archive.org/purl/yelp/yelp_entities#user_id/jy4MGAchVmA68k6vLkIUiA</td>\n",
       "      <td>996</td>\n",
       "    </tr>\n",
       "    <tr>\n",
       "      <th>110877</th>\n",
       "      <td>https://purl.archive.org/purl/yelp/yelp_entities#user_id/JZKO-hSC7macxFs2icRl0A</td>\n",
       "      <td>995</td>\n",
       "    </tr>\n",
       "    <tr>\n",
       "      <th>247979</th>\n",
       "      <td>https://purl.archive.org/purl/yelp/yelp_entities#user_id/dQLN7NOXfMwmkH6PvxuWjQ</td>\n",
       "      <td>995</td>\n",
       "    </tr>\n",
       "    <tr>\n",
       "      <th>1804</th>\n",
       "      <td>https://purl.archive.org/purl/yelp/yelp_entities#user_id/hgAotvp0hTTh_ucsld-sbQ</td>\n",
       "      <td>995</td>\n",
       "    </tr>\n",
       "    <tr>\n",
       "      <th>509686</th>\n",
       "      <td>https://purl.archive.org/purl/yelp/yelp_entities#user_id/4S6KVs7i17XQ3iVSXFqjOg</td>\n",
       "      <td>995</td>\n",
       "    </tr>\n",
       "    <tr>\n",
       "      <th>278957</th>\n",
       "      <td>https://purl.archive.org/purl/yelp/yelp_entities#user_id/L1IRIY-hqXHkQOki_mQm1Q</td>\n",
       "      <td>995</td>\n",
       "    </tr>\n",
       "    <tr>\n",
       "      <th>208914</th>\n",
       "      <td>https://purl.archive.org/purl/yelp/yelp_entities#user_id/r1EfBdmi_n_YvpW8Az0Pog</td>\n",
       "      <td>995</td>\n",
       "    </tr>\n",
       "    <tr>\n",
       "      <th>97115</th>\n",
       "      <td>https://purl.archive.org/purl/yelp/yelp_entities#user_id/iTnVFAEWsAJsXkgFbNmVRw</td>\n",
       "      <td>995</td>\n",
       "    </tr>\n",
       "    <tr>\n",
       "      <th>390134</th>\n",
       "      <td>https://purl.archive.org/purl/yelp/yelp_entities#user_id/s19c8t_yAmFrby90LjDk8g</td>\n",
       "      <td>995</td>\n",
       "    </tr>\n",
       "    <tr>\n",
       "      <th>395234</th>\n",
       "      <td>https://purl.archive.org/purl/yelp/yelp_entities#user_id/bfbTAgjM_-nej7qUe0CrZw</td>\n",
       "      <td>995</td>\n",
       "    </tr>\n",
       "    <tr>\n",
       "      <th>195626</th>\n",
       "      <td>https://purl.archive.org/purl/yelp/yelp_entities#user_id/gUP0JW3lnnDBe5EGWNDsgg</td>\n",
       "      <td>995</td>\n",
       "    </tr>\n",
       "    <tr>\n",
       "      <th>960748</th>\n",
       "      <td>https://purl.archive.org/purl/yelp/yelp_entities#user_id/IJmYTTL51jR0RTOfHF2H6A</td>\n",
       "      <td>995</td>\n",
       "    </tr>\n",
       "    <tr>\n",
       "      <th>964557</th>\n",
       "      <td>https://purl.archive.org/purl/yelp/yelp_entities#user_id/Zc6MOyC9cMu7kORHN39Ubw</td>\n",
       "      <td>995</td>\n",
       "    </tr>\n",
       "    <tr>\n",
       "      <th>908114</th>\n",
       "      <td>https://purl.archive.org/purl/yelp/yelp_entities#user_id/rOn2U5oDrJfcllxLiJvfFg</td>\n",
       "      <td>995</td>\n",
       "    </tr>\n",
       "    <tr>\n",
       "      <th>647515</th>\n",
       "      <td>https://purl.archive.org/purl/yelp/yelp_entities#user_id/JM_nNW2DalqoEXOG3OBBkA</td>\n",
       "      <td>995</td>\n",
       "    </tr>\n",
       "    <tr>\n",
       "      <th>346228</th>\n",
       "      <td>https://purl.archive.org/purl/yelp/yelp_entities#user_id/UzvutpPV54qZiwij1DI2qQ</td>\n",
       "      <td>995</td>\n",
       "    </tr>\n",
       "    <tr>\n",
       "      <th>875862</th>\n",
       "      <td>https://purl.archive.org/purl/yelp/yelp_entities#user_id/N-CBZKO37y_WSUN7ZMNGkg</td>\n",
       "      <td>995</td>\n",
       "    </tr>\n",
       "    <tr>\n",
       "      <th>26635</th>\n",
       "      <td>https://purl.archive.org/purl/yelp/yelp_entities#user_id/o6Ydy8XZ7NMcL-FZiSkjdA</td>\n",
       "      <td>995</td>\n",
       "    </tr>\n",
       "    <tr>\n",
       "      <th>438604</th>\n",
       "      <td>https://purl.archive.org/purl/yelp/yelp_entities#user_id/5C8_ifHp_URZSjrUSH-Bzg</td>\n",
       "      <td>994</td>\n",
       "    </tr>\n",
       "    <tr>\n",
       "      <th>950557</th>\n",
       "      <td>https://purl.archive.org/purl/yelp/yelp_entities#user_id/wC_NDDJdm6L4n4CSNVvk2w</td>\n",
       "      <td>994</td>\n",
       "    </tr>\n",
       "    <tr>\n",
       "      <th>697090</th>\n",
       "      <td>https://purl.archive.org/purl/yelp/yelp_entities#user_id/LouMVnnIPQ7p5gjx-7hE6Q</td>\n",
       "      <td>994</td>\n",
       "    </tr>\n",
       "    <tr>\n",
       "      <th>306951</th>\n",
       "      <td>https://purl.archive.org/purl/yelp/yelp_entities#user_id/930YU51ZvuOQn4dWtZxj5A</td>\n",
       "      <td>994</td>\n",
       "    </tr>\n",
       "    <tr>\n",
       "      <th>409637</th>\n",
       "      <td>https://purl.archive.org/purl/yelp/yelp_entities#user_id/a2wL432MCURrkqWbgoDVrg</td>\n",
       "      <td>994</td>\n",
       "    </tr>\n",
       "    <tr>\n",
       "      <th>241192</th>\n",
       "      <td>https://purl.archive.org/purl/yelp/yelp_entities#user_id/r0PIAIRRsaxpF7z9SRCT1g</td>\n",
       "      <td>994</td>\n",
       "    </tr>\n",
       "    <tr>\n",
       "      <th>1008884</th>\n",
       "      <td>https://purl.archive.org/purl/yelp/yelp_entities#user_id/wc47iEZngi8QzhwCZXl_-g</td>\n",
       "      <td>994</td>\n",
       "    </tr>\n",
       "    <tr>\n",
       "      <th>237156</th>\n",
       "      <td>https://purl.archive.org/purl/yelp/yelp_entities#user_id/yBt1hTLfC2WAz8D5TTYLpw</td>\n",
       "      <td>994</td>\n",
       "    </tr>\n",
       "    <tr>\n",
       "      <th>431784</th>\n",
       "      <td>https://purl.archive.org/purl/yelp/yelp_entities#user_id/7Q22MHgNrcQoH1xBs4fH0w</td>\n",
       "      <td>994</td>\n",
       "    </tr>\n",
       "    <tr>\n",
       "      <th>336148</th>\n",
       "      <td>https://purl.archive.org/purl/yelp/yelp_entities#user_id/nRzXcatBlbsWk-UzHBE4oA</td>\n",
       "      <td>994</td>\n",
       "    </tr>\n",
       "    <tr>\n",
       "      <th>374972</th>\n",
       "      <td>https://purl.archive.org/purl/yelp/yelp_entities#user_id/4lng77gRdpRb24o91sSihA</td>\n",
       "      <td>994</td>\n",
       "    </tr>\n",
       "    <tr>\n",
       "      <th>263876</th>\n",
       "      <td>https://purl.archive.org/purl/yelp/yelp_entities#user_id/TyTjGxIzMIL1-Js4HFMNkw</td>\n",
       "      <td>994</td>\n",
       "    </tr>\n",
       "    <tr>\n",
       "      <th>144247</th>\n",
       "      <td>https://purl.archive.org/purl/yelp/yelp_entities#user_id/Iq2TKrAVEm1qpeyaDgrd3Q</td>\n",
       "      <td>994</td>\n",
       "    </tr>\n",
       "    <tr>\n",
       "      <th>304236</th>\n",
       "      <td>https://purl.archive.org/purl/yelp/yelp_entities#user_id/UZOm2svtUK-lGt4oTvh4LA</td>\n",
       "      <td>993</td>\n",
       "    </tr>\n",
       "    <tr>\n",
       "      <th>485421</th>\n",
       "      <td>https://purl.archive.org/purl/yelp/yelp_entities#user_id/7qydZ1NJ_iSpUcrnUQ3_AQ</td>\n",
       "      <td>993</td>\n",
       "    </tr>\n",
       "    <tr>\n",
       "      <th>524548</th>\n",
       "      <td>https://purl.archive.org/purl/yelp/yelp_entities#user_id/4Q06BUOyKYJNWmqouKeqOg</td>\n",
       "      <td>993</td>\n",
       "    </tr>\n",
       "    <tr>\n",
       "      <th>128290</th>\n",
       "      <td>https://purl.archive.org/purl/yelp/yelp_entities#user_id/lrgq-Gr-l8m0v5WEmVXP6g</td>\n",
       "      <td>993</td>\n",
       "    </tr>\n",
       "    <tr>\n",
       "      <th>437187</th>\n",
       "      <td>https://purl.archive.org/purl/yelp/yelp_entities#user_id/B8p9ZEHeyEofiiLeCYQAVA</td>\n",
       "      <td>993</td>\n",
       "    </tr>\n",
       "    <tr>\n",
       "      <th>504768</th>\n",
       "      <td>https://purl.archive.org/purl/yelp/yelp_entities#user_id/zhdr0jdEsDCeUjlovdVmkQ</td>\n",
       "      <td>993</td>\n",
       "    </tr>\n",
       "    <tr>\n",
       "      <th>441395</th>\n",
       "      <td>https://purl.archive.org/purl/yelp/yelp_entities#user_id/cGaO54B2JE6b4FzIgtXytw</td>\n",
       "      <td>993</td>\n",
       "    </tr>\n",
       "    <tr>\n",
       "      <th>231024</th>\n",
       "      <td>https://purl.archive.org/purl/yelp/yelp_entities#user_id/xrnWY-KHx8O4Gh01JIQ7PA</td>\n",
       "      <td>993</td>\n",
       "    </tr>\n",
       "    <tr>\n",
       "      <th>99141</th>\n",
       "      <td>https://purl.archive.org/purl/yelp/yelp_entities#user_id/wAjfO-nTfSr3SW3RAuvvkg</td>\n",
       "      <td>993</td>\n",
       "    </tr>\n",
       "    <tr>\n",
       "      <th>935839</th>\n",
       "      <td>https://purl.archive.org/purl/yelp/yelp_entities#user_id/hVHlpVb__iD0jQDFnrwYTQ</td>\n",
       "      <td>993</td>\n",
       "    </tr>\n",
       "    <tr>\n",
       "      <th>497257</th>\n",
       "      <td>https://purl.archive.org/purl/yelp/yelp_entities#user_id/ZZnWLmCBCOSzGCnywD6qkg</td>\n",
       "      <td>993</td>\n",
       "    </tr>\n",
       "    <tr>\n",
       "      <th>372503</th>\n",
       "      <td>https://purl.archive.org/purl/yelp/yelp_entities#user_id/Z8MQ8HXITQj0715Nmia2yQ</td>\n",
       "      <td>993</td>\n",
       "    </tr>\n",
       "  </tbody>\n",
       "</table>\n",
       "</div>"
      ],
      "text/plain": [
       "                                                                              user.value  \\\n",
       "1024615  https://purl.archive.org/purl/yelp/yelp_entities#user_id/KXzNTIlLiqmnUa4_f4Oa4w   \n",
       "334198   https://purl.archive.org/purl/yelp/yelp_entities#user_id/JQIZhoQB-Tg9hdBEj90m4g   \n",
       "209148   https://purl.archive.org/purl/yelp/yelp_entities#user_id/DxsKifTKSc38ImA-ZYrd9A   \n",
       "452996   https://purl.archive.org/purl/yelp/yelp_entities#user_id/EbYTXKL-8CrJTh3HjkxBvA   \n",
       "331566   https://purl.archive.org/purl/yelp/yelp_entities#user_id/Qrtz_s7Z3vW_GCKDJVHVqw   \n",
       "25536    https://purl.archive.org/purl/yelp/yelp_entities#user_id/LJpp7toFiaHVrj811FSy5w   \n",
       "70684    https://purl.archive.org/purl/yelp/yelp_entities#user_id/sxEpkRflD3PxZhBgmcCyow   \n",
       "455998   https://purl.archive.org/purl/yelp/yelp_entities#user_id/0sl4I8R7znWXp_K4A0nZ_w   \n",
       "296214   https://purl.archive.org/purl/yelp/yelp_entities#user_id/FyaI7g6aIMBYeMQHLGqPXg   \n",
       "407598   https://purl.archive.org/purl/yelp/yelp_entities#user_id/tEy1MNP7tHJlZgP7xqF4yA   \n",
       "641620   https://purl.archive.org/purl/yelp/yelp_entities#user_id/6_C_MmKMmMb2LOutMVgs_A   \n",
       "267187   https://purl.archive.org/purl/yelp/yelp_entities#user_id/cZmYMw7NWawGW-nG1nbpHw   \n",
       "312029   https://purl.archive.org/purl/yelp/yelp_entities#user_id/_YgKO4ZySWt0xYVD2PXMdQ   \n",
       "357276   https://purl.archive.org/purl/yelp/yelp_entities#user_id/cntWaAmOW-GZRQPRWNKTcQ   \n",
       "339013   https://purl.archive.org/purl/yelp/yelp_entities#user_id/NIhcRW6DWvk1JQhDhXwgOQ   \n",
       "449039   https://purl.archive.org/purl/yelp/yelp_entities#user_id/5FAD2Yq7DLBQ_-ef1iDA-A   \n",
       "1375     https://purl.archive.org/purl/yelp/yelp_entities#user_id/KXEBa7KdDQiJcySEgpvBjA   \n",
       "282164   https://purl.archive.org/purl/yelp/yelp_entities#user_id/cbTKxe_Z7Co63zbUWHuyrg   \n",
       "169762   https://purl.archive.org/purl/yelp/yelp_entities#user_id/qySkAnnYcFlGO7rwcQHHMQ   \n",
       "365716   https://purl.archive.org/purl/yelp/yelp_entities#user_id/wL30o35tpvEe8RLYbRTzLA   \n",
       "419318   https://purl.archive.org/purl/yelp/yelp_entities#user_id/ObsAECdifGFRH1xuY_KUDA   \n",
       "326793   https://purl.archive.org/purl/yelp/yelp_entities#user_id/dGND9DDQe5L6Lli2TolF1A   \n",
       "632165   https://purl.archive.org/purl/yelp/yelp_entities#user_id/AlM9WFlR4FTE0D42p9TWSA   \n",
       "76206    https://purl.archive.org/purl/yelp/yelp_entities#user_id/kILER4yh4oJx2J6ToVq1OA   \n",
       "439143   https://purl.archive.org/purl/yelp/yelp_entities#user_id/RlXfOTtpgTfcisRmukrGbw   \n",
       "77608    https://purl.archive.org/purl/yelp/yelp_entities#user_id/i6F4S43qP3K4SaP9kg5c5A   \n",
       "345760   https://purl.archive.org/purl/yelp/yelp_entities#user_id/E1YcFLVceFSeIA-JIQKIYQ   \n",
       "305943   https://purl.archive.org/purl/yelp/yelp_entities#user_id/hi7T9y7gf6_PwTIqbzcbgw   \n",
       "191120   https://purl.archive.org/purl/yelp/yelp_entities#user_id/q0HDybhT0V9dXrs63_WqWQ   \n",
       "609348   https://purl.archive.org/purl/yelp/yelp_entities#user_id/Cn_FKoTUDav4aNKjSt0HWA   \n",
       "240955   https://purl.archive.org/purl/yelp/yelp_entities#user_id/YnF11Yws1ExElVBZVQ7SQw   \n",
       "723955   https://purl.archive.org/purl/yelp/yelp_entities#user_id/H9Non-70wUlBZIkZ10FHPg   \n",
       "270684   https://purl.archive.org/purl/yelp/yelp_entities#user_id/NJaxf5u4hwwU_dkRJxOtSg   \n",
       "433061   https://purl.archive.org/purl/yelp/yelp_entities#user_id/S6s-5lfqNvqXSiG1QkUeMQ   \n",
       "909442   https://purl.archive.org/purl/yelp/yelp_entities#user_id/OhUxsuPNvbEQ-RlRpdoPfQ   \n",
       "674053   https://purl.archive.org/purl/yelp/yelp_entities#user_id/l0z5U1bamy4SZ3n3raCH2Q   \n",
       "20871    https://purl.archive.org/purl/yelp/yelp_entities#user_id/mpi3nJkgX-mAuVgtsx1rAQ   \n",
       "85371    https://purl.archive.org/purl/yelp/yelp_entities#user_id/1JBXoO_bhPrhxbV8sHAFJA   \n",
       "231061   https://purl.archive.org/purl/yelp/yelp_entities#user_id/-Vlly35xyuch3cGLDCVRSQ   \n",
       "269720   https://purl.archive.org/purl/yelp/yelp_entities#user_id/KjBc_dE722dX4tpAROVlcw   \n",
       "344015   https://purl.archive.org/purl/yelp/yelp_entities#user_id/ON8FkZ45gGVe2msnx8dVvw   \n",
       "474938   https://purl.archive.org/purl/yelp/yelp_entities#user_id/FTE-rERzu_4DbL8vslzLqw   \n",
       "499992   https://purl.archive.org/purl/yelp/yelp_entities#user_id/RCXX__k3R2Zf1kzmTpopWA   \n",
       "421708   https://purl.archive.org/purl/yelp/yelp_entities#user_id/LVdkBw1GzOAQU071Q_fDTg   \n",
       "99780    https://purl.archive.org/purl/yelp/yelp_entities#user_id/qLjkDfd7j5-024FB9Z2Xvg   \n",
       "194196   https://purl.archive.org/purl/yelp/yelp_entities#user_id/LCBntbTJzx3fnJbTHgk-pA   \n",
       "1000116  https://purl.archive.org/purl/yelp/yelp_entities#user_id/q1Tke686UepI8CnOWJjF0Q   \n",
       "360930   https://purl.archive.org/purl/yelp/yelp_entities#user_id/uB_o-JpEe3EYCGqdZCnVkw   \n",
       "309773   https://purl.archive.org/purl/yelp/yelp_entities#user_id/g3A4TueL5jPkhY1dkSSCGg   \n",
       "699121   https://purl.archive.org/purl/yelp/yelp_entities#user_id/0E80x7n8cHMWlCa0TmWFBg   \n",
       "246686   https://purl.archive.org/purl/yelp/yelp_entities#user_id/tBxepCaBF4okfqvBYy0Ikg   \n",
       "738894   https://purl.archive.org/purl/yelp/yelp_entities#user_id/Yqj3TKFW7T7oyb4ll1v-xw   \n",
       "232937   https://purl.archive.org/purl/yelp/yelp_entities#user_id/hg_n19HhIzWxe8trqmFQ2g   \n",
       "18826    https://purl.archive.org/purl/yelp/yelp_entities#user_id/yAB89vOBgaR8S8L4E3dvgA   \n",
       "346313   https://purl.archive.org/purl/yelp/yelp_entities#user_id/5YN3pB3JzPQXsxpD18BRiA   \n",
       "133759   https://purl.archive.org/purl/yelp/yelp_entities#user_id/HH7iiWvBqV-20lA7JlSRWQ   \n",
       "972368   https://purl.archive.org/purl/yelp/yelp_entities#user_id/gXSX-HK0KFDBKRCs5gfmPA   \n",
       "265134   https://purl.archive.org/purl/yelp/yelp_entities#user_id/jy4MGAchVmA68k6vLkIUiA   \n",
       "110877   https://purl.archive.org/purl/yelp/yelp_entities#user_id/JZKO-hSC7macxFs2icRl0A   \n",
       "247979   https://purl.archive.org/purl/yelp/yelp_entities#user_id/dQLN7NOXfMwmkH6PvxuWjQ   \n",
       "1804     https://purl.archive.org/purl/yelp/yelp_entities#user_id/hgAotvp0hTTh_ucsld-sbQ   \n",
       "509686   https://purl.archive.org/purl/yelp/yelp_entities#user_id/4S6KVs7i17XQ3iVSXFqjOg   \n",
       "278957   https://purl.archive.org/purl/yelp/yelp_entities#user_id/L1IRIY-hqXHkQOki_mQm1Q   \n",
       "208914   https://purl.archive.org/purl/yelp/yelp_entities#user_id/r1EfBdmi_n_YvpW8Az0Pog   \n",
       "97115    https://purl.archive.org/purl/yelp/yelp_entities#user_id/iTnVFAEWsAJsXkgFbNmVRw   \n",
       "390134   https://purl.archive.org/purl/yelp/yelp_entities#user_id/s19c8t_yAmFrby90LjDk8g   \n",
       "395234   https://purl.archive.org/purl/yelp/yelp_entities#user_id/bfbTAgjM_-nej7qUe0CrZw   \n",
       "195626   https://purl.archive.org/purl/yelp/yelp_entities#user_id/gUP0JW3lnnDBe5EGWNDsgg   \n",
       "960748   https://purl.archive.org/purl/yelp/yelp_entities#user_id/IJmYTTL51jR0RTOfHF2H6A   \n",
       "964557   https://purl.archive.org/purl/yelp/yelp_entities#user_id/Zc6MOyC9cMu7kORHN39Ubw   \n",
       "908114   https://purl.archive.org/purl/yelp/yelp_entities#user_id/rOn2U5oDrJfcllxLiJvfFg   \n",
       "647515   https://purl.archive.org/purl/yelp/yelp_entities#user_id/JM_nNW2DalqoEXOG3OBBkA   \n",
       "346228   https://purl.archive.org/purl/yelp/yelp_entities#user_id/UzvutpPV54qZiwij1DI2qQ   \n",
       "875862   https://purl.archive.org/purl/yelp/yelp_entities#user_id/N-CBZKO37y_WSUN7ZMNGkg   \n",
       "26635    https://purl.archive.org/purl/yelp/yelp_entities#user_id/o6Ydy8XZ7NMcL-FZiSkjdA   \n",
       "438604   https://purl.archive.org/purl/yelp/yelp_entities#user_id/5C8_ifHp_URZSjrUSH-Bzg   \n",
       "950557   https://purl.archive.org/purl/yelp/yelp_entities#user_id/wC_NDDJdm6L4n4CSNVvk2w   \n",
       "697090   https://purl.archive.org/purl/yelp/yelp_entities#user_id/LouMVnnIPQ7p5gjx-7hE6Q   \n",
       "306951   https://purl.archive.org/purl/yelp/yelp_entities#user_id/930YU51ZvuOQn4dWtZxj5A   \n",
       "409637   https://purl.archive.org/purl/yelp/yelp_entities#user_id/a2wL432MCURrkqWbgoDVrg   \n",
       "241192   https://purl.archive.org/purl/yelp/yelp_entities#user_id/r0PIAIRRsaxpF7z9SRCT1g   \n",
       "1008884  https://purl.archive.org/purl/yelp/yelp_entities#user_id/wc47iEZngi8QzhwCZXl_-g   \n",
       "237156   https://purl.archive.org/purl/yelp/yelp_entities#user_id/yBt1hTLfC2WAz8D5TTYLpw   \n",
       "431784   https://purl.archive.org/purl/yelp/yelp_entities#user_id/7Q22MHgNrcQoH1xBs4fH0w   \n",
       "336148   https://purl.archive.org/purl/yelp/yelp_entities#user_id/nRzXcatBlbsWk-UzHBE4oA   \n",
       "374972   https://purl.archive.org/purl/yelp/yelp_entities#user_id/4lng77gRdpRb24o91sSihA   \n",
       "263876   https://purl.archive.org/purl/yelp/yelp_entities#user_id/TyTjGxIzMIL1-Js4HFMNkw   \n",
       "144247   https://purl.archive.org/purl/yelp/yelp_entities#user_id/Iq2TKrAVEm1qpeyaDgrd3Q   \n",
       "304236   https://purl.archive.org/purl/yelp/yelp_entities#user_id/UZOm2svtUK-lGt4oTvh4LA   \n",
       "485421   https://purl.archive.org/purl/yelp/yelp_entities#user_id/7qydZ1NJ_iSpUcrnUQ3_AQ   \n",
       "524548   https://purl.archive.org/purl/yelp/yelp_entities#user_id/4Q06BUOyKYJNWmqouKeqOg   \n",
       "128290   https://purl.archive.org/purl/yelp/yelp_entities#user_id/lrgq-Gr-l8m0v5WEmVXP6g   \n",
       "437187   https://purl.archive.org/purl/yelp/yelp_entities#user_id/B8p9ZEHeyEofiiLeCYQAVA   \n",
       "504768   https://purl.archive.org/purl/yelp/yelp_entities#user_id/zhdr0jdEsDCeUjlovdVmkQ   \n",
       "441395   https://purl.archive.org/purl/yelp/yelp_entities#user_id/cGaO54B2JE6b4FzIgtXytw   \n",
       "231024   https://purl.archive.org/purl/yelp/yelp_entities#user_id/xrnWY-KHx8O4Gh01JIQ7PA   \n",
       "99141    https://purl.archive.org/purl/yelp/yelp_entities#user_id/wAjfO-nTfSr3SW3RAuvvkg   \n",
       "935839   https://purl.archive.org/purl/yelp/yelp_entities#user_id/hVHlpVb__iD0jQDFnrwYTQ   \n",
       "497257   https://purl.archive.org/purl/yelp/yelp_entities#user_id/ZZnWLmCBCOSzGCnywD6qkg   \n",
       "372503   https://purl.archive.org/purl/yelp/yelp_entities#user_id/Z8MQ8HXITQj0715Nmia2yQ   \n",
       "\n",
       "        friendCount.value  \n",
       "1024615               999  \n",
       "334198                999  \n",
       "209148                999  \n",
       "452996                999  \n",
       "331566                999  \n",
       "25536                 999  \n",
       "70684                 999  \n",
       "455998                999  \n",
       "296214                999  \n",
       "407598                998  \n",
       "641620                998  \n",
       "267187                998  \n",
       "312029                998  \n",
       "357276                998  \n",
       "339013                998  \n",
       "449039                998  \n",
       "1375                  998  \n",
       "282164                998  \n",
       "169762                998  \n",
       "365716                998  \n",
       "419318                998  \n",
       "326793                998  \n",
       "632165                998  \n",
       "76206                 998  \n",
       "439143                998  \n",
       "77608                 998  \n",
       "345760                998  \n",
       "305943                998  \n",
       "191120                997  \n",
       "609348                997  \n",
       "240955                997  \n",
       "723955                997  \n",
       "270684                997  \n",
       "433061                997  \n",
       "909442                997  \n",
       "674053                997  \n",
       "20871                 997  \n",
       "85371                 997  \n",
       "231061                997  \n",
       "269720                997  \n",
       "344015                997  \n",
       "474938                997  \n",
       "499992                996  \n",
       "421708                996  \n",
       "99780                 996  \n",
       "194196                996  \n",
       "1000116               996  \n",
       "360930                996  \n",
       "309773                996  \n",
       "699121                996  \n",
       "246686                996  \n",
       "738894                996  \n",
       "232937                996  \n",
       "18826                 996  \n",
       "346313                996  \n",
       "133759                996  \n",
       "972368                996  \n",
       "265134                996  \n",
       "110877                995  \n",
       "247979                995  \n",
       "1804                  995  \n",
       "509686                995  \n",
       "278957                995  \n",
       "208914                995  \n",
       "97115                 995  \n",
       "390134                995  \n",
       "395234                995  \n",
       "195626                995  \n",
       "960748                995  \n",
       "964557                995  \n",
       "908114                995  \n",
       "647515                995  \n",
       "346228                995  \n",
       "875862                995  \n",
       "26635                 995  \n",
       "438604                994  \n",
       "950557                994  \n",
       "697090                994  \n",
       "306951                994  \n",
       "409637                994  \n",
       "241192                994  \n",
       "1008884               994  \n",
       "237156                994  \n",
       "431784                994  \n",
       "336148                994  \n",
       "374972                994  \n",
       "263876                994  \n",
       "144247                994  \n",
       "304236                993  \n",
       "485421                993  \n",
       "524548                993  \n",
       "128290                993  \n",
       "437187                993  \n",
       "504768                993  \n",
       "441395                993  \n",
       "231024                993  \n",
       "99141                 993  \n",
       "935839                993  \n",
       "497257                993  \n",
       "372503                993  "
      ]
     },
     "execution_count": 21,
     "metadata": {},
     "output_type": "execute_result"
    }
   ],
   "source": [
    "x.sort_values(by=['friendCount.value'], ascending=False).head(100)"
   ]
  },
  {
   "cell_type": "code",
   "execution_count": 18,
   "metadata": {},
   "outputs": [
    {
     "data": {
      "text/html": [
       "<div>\n",
       "<style scoped>\n",
       "    .dataframe tbody tr th:only-of-type {\n",
       "        vertical-align: middle;\n",
       "    }\n",
       "\n",
       "    .dataframe tbody tr th {\n",
       "        vertical-align: top;\n",
       "    }\n",
       "\n",
       "    .dataframe thead th {\n",
       "        text-align: right;\n",
       "    }\n",
       "</style>\n",
       "<table border=\"1\" class=\"dataframe\">\n",
       "  <thead>\n",
       "    <tr style=\"text-align: right;\">\n",
       "      <th></th>\n",
       "      <th>averageFriends.value</th>\n",
       "    </tr>\n",
       "  </thead>\n",
       "  <tbody>\n",
       "    <tr>\n",
       "      <th>0</th>\n",
       "      <td>458.959451719837347</td>\n",
       "    </tr>\n",
       "  </tbody>\n",
       "</table>\n",
       "</div>"
      ],
      "text/plain": [
       "  averageFriends.value\n",
       "0  458.959451719837347"
      ]
     },
     "execution_count": 18,
     "metadata": {},
     "output_type": "execute_result"
    }
   ],
   "source": [
    "sparql_query=\"\"\"SELECT (AVG(?friendCount) AS ?averageFriends)\n",
    "WHERE {\n",
    "  ?user schema:knows ?friend .\n",
    "  {\n",
    "    SELECT ?user (COUNT(?friend) AS ?friendCount)\n",
    "    WHERE {\n",
    "      ?user schema:knows ?friend .\n",
    "    }\n",
    "    GROUP BY ?user\n",
    "  }\n",
    "}\"\"\"\n",
    "\n",
    "run_query(sparql_query, as_dataframe=True)"
   ]
  },
  {
   "cell_type": "code",
   "execution_count": 12,
   "metadata": {},
   "outputs": [
    {
     "data": {
      "text/plain": [
       "53.375011381374385"
      ]
     },
     "execution_count": 12,
     "metadata": {},
     "output_type": "execute_result"
    }
   ],
   "source": [
    "# How many friends does a user have on average?\n",
    "users[\"amountFriends\"].mean()"
   ]
  },
  {
   "attachments": {},
   "cell_type": "markdown",
   "metadata": {
    "collapsed": false,
    "pycharm": {
     "name": "#%% md\n"
    }
   },
   "source": [
    "### How many users have authored 10 reviews?"
   ]
  },
  {
   "cell_type": "code",
   "execution_count": 84,
   "metadata": {
    "collapsed": false,
    "pycharm": {
     "name": "#%%\n"
    }
   },
   "outputs": [
    {
     "data": {
      "text/html": [
       "<div>\n",
       "<style scoped>\n",
       "    .dataframe tbody tr th:only-of-type {\n",
       "        vertical-align: middle;\n",
       "    }\n",
       "\n",
       "    .dataframe tbody tr th {\n",
       "        vertical-align: top;\n",
       "    }\n",
       "\n",
       "    .dataframe thead th {\n",
       "        text-align: right;\n",
       "    }\n",
       "</style>\n",
       "<table border=\"1\" class=\"dataframe\">\n",
       "  <thead>\n",
       "    <tr style=\"text-align: right;\">\n",
       "      <th></th>\n",
       "      <th>countUsers.value</th>\n",
       "    </tr>\n",
       "  </thead>\n",
       "  <tbody>\n",
       "    <tr>\n",
       "      <th>0</th>\n",
       "      <td>14119</td>\n",
       "    </tr>\n",
       "  </tbody>\n",
       "</table>\n",
       "</div>"
      ],
      "text/plain": [
       "  countUsers.value\n",
       "0            14119"
      ]
     },
     "execution_count": 84,
     "metadata": {},
     "output_type": "execute_result"
    }
   ],
   "source": [
    "sparql_query = \"\"\"\n",
    "SELECT COUNT(DISTINCT(?user)) AS ?countUsers\n",
    "WHERE {\n",
    "    SELECT ?user COUNT(?review) as ?numberOfReviews\n",
    "    WHERE {\n",
    "        ?user rdfs:Class schema:Person .\n",
    "        ?review schema:author ?user .\n",
    "    }\n",
    "    GROUP BY ?user\n",
    "    HAVING (COUNT(?review) = 10)\n",
    "}\n",
    "\"\"\"\n",
    "\n",
    "run_query(query=sparql_query, as_dataframe=True)"
   ]
  },
  {
   "cell_type": "code",
   "execution_count": 17,
   "metadata": {
    "collapsed": false,
    "pycharm": {
     "name": "#%%\n"
    }
   },
   "outputs": [
    {
     "data": {
      "text/plain": [
       "14119"
      ]
     },
     "execution_count": 17,
     "metadata": {},
     "output_type": "execute_result"
    }
   ],
   "source": [
    "# Count how many users have authored 10 reviews\n",
    "reviews.groupby(\"user_id\").size().reset_index(name=\"count\").query(\"count == 10\").shape[0]"
   ]
  },
  {
   "attachments": {},
   "cell_type": "markdown",
   "metadata": {},
   "source": [
    "### How many reviews did users make in May 2018?"
   ]
  },
  {
   "cell_type": "code",
   "execution_count": 12,
   "metadata": {},
   "outputs": [
    {
     "data": {
      "text/html": [
       "<div>\n",
       "<style scoped>\n",
       "    .dataframe tbody tr th:only-of-type {\n",
       "        vertical-align: middle;\n",
       "    }\n",
       "\n",
       "    .dataframe tbody tr th {\n",
       "        vertical-align: top;\n",
       "    }\n",
       "\n",
       "    .dataframe thead th {\n",
       "        text-align: right;\n",
       "    }\n",
       "</style>\n",
       "<table border=\"1\" class=\"dataframe\">\n",
       "  <thead>\n",
       "    <tr style=\"text-align: right;\">\n",
       "      <th></th>\n",
       "      <th>year.value</th>\n",
       "      <th>month.value</th>\n",
       "      <th>countReviews.value</th>\n",
       "    </tr>\n",
       "  </thead>\n",
       "  <tbody>\n",
       "    <tr>\n",
       "      <th>0</th>\n",
       "      <td>2018</td>\n",
       "      <td>5</td>\n",
       "      <td>79434</td>\n",
       "    </tr>\n",
       "  </tbody>\n",
       "</table>\n",
       "</div>"
      ],
      "text/plain": [
       "  year.value month.value countReviews.value\n",
       "0       2018           5              79434"
      ]
     },
     "execution_count": 12,
     "metadata": {},
     "output_type": "execute_result"
    }
   ],
   "source": [
    "sparql_query = \"\"\"\n",
    "SELECT ?year ?month COUNT(?review) as ?countReviews\n",
    "WHERE {\n",
    "    ?review rdfs:Class schema:UserReview .\n",
    "    ?review schema:dateCreated ?date .\n",
    "    BIND (month(?date) as ?month) .\n",
    "    BIND (year(?date) as ?year) .\n",
    "    VALUES ?year {2018}\n",
    "    VALUES ?month {5}\n",
    "}\n",
    "GROUP BY ?year ?month\n",
    "\"\"\"\n",
    "\n",
    "run_query(query=sparql_query, as_dataframe=True)"
   ]
  },
  {
   "cell_type": "code",
   "execution_count": 3,
   "metadata": {},
   "outputs": [
    {
     "data": {
      "text/plain": [
       "79434"
      ]
     },
     "execution_count": 3,
     "metadata": {},
     "output_type": "execute_result"
    }
   ],
   "source": [
    "reviews['YEAR'] = reviews.date.dt.year\n",
    "reviews['MONTH'] = reviews.date.dt.month\n",
    "reviews.query(\"YEAR == 2018 & MONTH == 5\").shape[0]"
   ]
  }
 ],
 "metadata": {
  "kernelspec": {
   "display_name": "Python 3",
   "language": "python",
   "name": "python3"
  },
  "language_info": {
   "codemirror_mode": {
    "name": "ipython",
    "version": 3
   },
   "file_extension": ".py",
   "mimetype": "text/x-python",
   "name": "python",
   "nbconvert_exporter": "python",
   "pygments_lexer": "ipython3",
   "version": "3.10.6"
  },
  "vscode": {
   "interpreter": {
    "hash": "7e1998ff7f8aa20ada591c520b972326324e5ea05489af9e422744c7c09f6dad"
   }
  }
 },
 "nbformat": 4,
 "nbformat_minor": 0
}
