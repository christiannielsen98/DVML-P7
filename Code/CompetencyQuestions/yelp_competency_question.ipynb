{
 "cells": [
  {
   "cell_type": "code",
   "execution_count": 10,
   "metadata": {
    "collapsed": false,
    "pycharm": {
     "name": "#%%\n"
    }
   },
   "outputs": [],
   "source": [
    "import pandas as pd\n",
    "import numpy as np\n",
    "\n",
    "from Code.UtilityFunctions.get_data_path import get_path\n",
    "from Code.UtilityFunctions.run_query import run_query\n",
    "from Code.UtilityFunctions.dictionary_functions import flatten_dictionary"
   ]
  },
  {
   "cell_type": "code",
   "execution_count": null,
   "metadata": {},
   "outputs": [],
   "source": []
  },
  {
   "attachments": {},
   "cell_type": "markdown",
   "metadata": {},
   "source": [
    "___\n",
    "___\n",
    "___\n",
    "# **DO NOT RUN ALL LINES BELOW. SOME YELP ENTITIES ARE VERY LARGE, AND YOU MIGHT RUN OUT OF RAM.**"
   ]
  },
  {
   "cell_type": "code",
   "execution_count": 4,
   "metadata": {
    "collapsed": false,
    "pycharm": {
     "name": "#%%\n"
    }
   },
   "outputs": [],
   "source": [
    "business = pd.read_json(get_path(\"yelp_academic_dataset_business.json\"), lines=True)\n",
    "business['categories'] = business['categories'].str.split(', ', expand=False)"
   ]
  },
  {
   "cell_type": "code",
   "execution_count": 3,
   "metadata": {
    "collapsed": false,
    "pycharm": {
     "name": "#%%\n"
    }
   },
   "outputs": [],
   "source": [
    "users = pd.read_json(get_path(\"yelp_academic_dataset_user.json\"), lines=True)"
   ]
  },
  {
   "cell_type": "code",
   "execution_count": 2,
   "metadata": {},
   "outputs": [],
   "source": [
    "reviews = pd.read_json(get_path(\"yelp_academic_dataset_review.json\"), lines=True)\n",
    "#reviews = pd.merge(left=reviews, right=business, how='left', left_on='business_id', right_on='business_id')\n",
    "#reviews = pd.merge(left=reviews, right=users, how='left', left_on='user_id', right_on='user_id')"
   ]
  },
  {
   "cell_type": "code",
   "execution_count": 4,
   "metadata": {},
   "outputs": [
    {
     "data": {
      "text/html": [
       "<div>\n",
       "<style scoped>\n",
       "    .dataframe tbody tr th:only-of-type {\n",
       "        vertical-align: middle;\n",
       "    }\n",
       "\n",
       "    .dataframe tbody tr th {\n",
       "        vertical-align: top;\n",
       "    }\n",
       "\n",
       "    .dataframe thead th {\n",
       "        text-align: right;\n",
       "    }\n",
       "</style>\n",
       "<table border=\"1\" class=\"dataframe\">\n",
       "  <thead>\n",
       "    <tr style=\"text-align: right;\">\n",
       "      <th></th>\n",
       "      <th>review_id</th>\n",
       "      <th>user_id</th>\n",
       "      <th>business_id</th>\n",
       "      <th>stars_x</th>\n",
       "      <th>useful</th>\n",
       "      <th>funny</th>\n",
       "      <th>cool</th>\n",
       "      <th>text</th>\n",
       "      <th>date</th>\n",
       "      <th>name</th>\n",
       "      <th>...</th>\n",
       "      <th>state</th>\n",
       "      <th>postal_code</th>\n",
       "      <th>latitude</th>\n",
       "      <th>longitude</th>\n",
       "      <th>stars_y</th>\n",
       "      <th>review_count</th>\n",
       "      <th>is_open</th>\n",
       "      <th>attributes</th>\n",
       "      <th>categories</th>\n",
       "      <th>hours</th>\n",
       "    </tr>\n",
       "  </thead>\n",
       "  <tbody>\n",
       "    <tr>\n",
       "      <th>0</th>\n",
       "      <td>KU_O5udG6zpxOg-VcAEodg</td>\n",
       "      <td>mh_-eMZ6K5RLWhZyISBhwA</td>\n",
       "      <td>XQfwVwDr-v0ZS3_CbbE5Xw</td>\n",
       "      <td>3</td>\n",
       "      <td>0</td>\n",
       "      <td>0</td>\n",
       "      <td>0</td>\n",
       "      <td>If you decide to eat here, just be aware it is...</td>\n",
       "      <td>2018-07-07 22:09:11</td>\n",
       "      <td>Turning Point of North Wales</td>\n",
       "      <td>...</td>\n",
       "      <td>PA</td>\n",
       "      <td>19454</td>\n",
       "      <td>40.210196</td>\n",
       "      <td>-75.223639</td>\n",
       "      <td>3.0</td>\n",
       "      <td>169</td>\n",
       "      <td>1</td>\n",
       "      <td>{'NoiseLevel': 'u'average'', 'HasTV': 'False',...</td>\n",
       "      <td>[Restaurants, Breakfast &amp; Brunch, Food, Juice ...</td>\n",
       "      <td>{'Monday': '7:30-15:0', 'Tuesday': '7:30-15:0'...</td>\n",
       "    </tr>\n",
       "    <tr>\n",
       "      <th>1</th>\n",
       "      <td>BiTunyQ73aT9WBnpR9DZGw</td>\n",
       "      <td>OyoGAe7OKpv6SyGZT5g77Q</td>\n",
       "      <td>7ATYjTIgM3jUlt4UM3IypQ</td>\n",
       "      <td>5</td>\n",
       "      <td>1</td>\n",
       "      <td>0</td>\n",
       "      <td>1</td>\n",
       "      <td>I've taken a lot of spin classes over the year...</td>\n",
       "      <td>2012-01-03 15:28:18</td>\n",
       "      <td>Body Cycle Spinning Studio</td>\n",
       "      <td>...</td>\n",
       "      <td>PA</td>\n",
       "      <td>19119</td>\n",
       "      <td>39.952103</td>\n",
       "      <td>-75.172753</td>\n",
       "      <td>5.0</td>\n",
       "      <td>144</td>\n",
       "      <td>0</td>\n",
       "      <td>{'BusinessAcceptsCreditCards': 'True', 'GoodFo...</td>\n",
       "      <td>[Active Life, Cycling Classes, Trainers, Gyms,...</td>\n",
       "      <td>{'Monday': '6:30-20:30', 'Tuesday': '6:30-20:3...</td>\n",
       "    </tr>\n",
       "    <tr>\n",
       "      <th>2</th>\n",
       "      <td>saUsX_uimxRlCVr67Z4Jig</td>\n",
       "      <td>8g_iMtfSiwikVnbP2etR0A</td>\n",
       "      <td>YjUWPpI6HXG530lwP-fb2A</td>\n",
       "      <td>3</td>\n",
       "      <td>0</td>\n",
       "      <td>0</td>\n",
       "      <td>0</td>\n",
       "      <td>Family diner. Had the buffet. Eclectic assortm...</td>\n",
       "      <td>2014-02-05 20:30:30</td>\n",
       "      <td>Kettle Restaurant</td>\n",
       "      <td>...</td>\n",
       "      <td>AZ</td>\n",
       "      <td>85713</td>\n",
       "      <td>32.207233</td>\n",
       "      <td>-110.980864</td>\n",
       "      <td>3.5</td>\n",
       "      <td>47</td>\n",
       "      <td>1</td>\n",
       "      <td>{'RestaurantsReservations': 'True', 'BusinessP...</td>\n",
       "      <td>[Restaurants, Breakfast &amp; Brunch]</td>\n",
       "      <td>None</td>\n",
       "    </tr>\n",
       "    <tr>\n",
       "      <th>3</th>\n",
       "      <td>AqPFMleE6RsU23_auESxiA</td>\n",
       "      <td>_7bHUi9Uuf5__HHc_Q8guQ</td>\n",
       "      <td>kxX2SOes4o-D3ZQBkiMRfA</td>\n",
       "      <td>5</td>\n",
       "      <td>1</td>\n",
       "      <td>0</td>\n",
       "      <td>1</td>\n",
       "      <td>Wow!  Yummy, different,  delicious.   Our favo...</td>\n",
       "      <td>2015-01-04 00:01:03</td>\n",
       "      <td>Zaika</td>\n",
       "      <td>...</td>\n",
       "      <td>PA</td>\n",
       "      <td>19114</td>\n",
       "      <td>40.079848</td>\n",
       "      <td>-75.025080</td>\n",
       "      <td>4.0</td>\n",
       "      <td>181</td>\n",
       "      <td>1</td>\n",
       "      <td>{'Caters': 'True', 'Ambience': '{'romantic': F...</td>\n",
       "      <td>[Halal, Pakistani, Restaurants, Indian]</td>\n",
       "      <td>{'Tuesday': '11:0-21:0', 'Wednesday': '11:0-21...</td>\n",
       "    </tr>\n",
       "    <tr>\n",
       "      <th>4</th>\n",
       "      <td>Sx8TMOWLNuJBWer-0pcmoA</td>\n",
       "      <td>bcjbaE6dDog4jkNY91ncLQ</td>\n",
       "      <td>e4Vwtrqf-wpJfwesgvdgxQ</td>\n",
       "      <td>4</td>\n",
       "      <td>1</td>\n",
       "      <td>0</td>\n",
       "      <td>1</td>\n",
       "      <td>Cute interior and owner (?) gave us tour of up...</td>\n",
       "      <td>2017-01-14 20:54:15</td>\n",
       "      <td>Melt</td>\n",
       "      <td>...</td>\n",
       "      <td>LA</td>\n",
       "      <td>70119</td>\n",
       "      <td>29.962102</td>\n",
       "      <td>-90.087958</td>\n",
       "      <td>4.0</td>\n",
       "      <td>32</td>\n",
       "      <td>0</td>\n",
       "      <td>{'BusinessParking': '{'garage': False, 'street...</td>\n",
       "      <td>[Sandwiches, Beer, Wine &amp; Spirits, Bars, Food,...</td>\n",
       "      <td>{'Monday': '0:0-0:0', 'Friday': '11:0-17:0', '...</td>\n",
       "    </tr>\n",
       "    <tr>\n",
       "      <th>5</th>\n",
       "      <td>JrIxlS1TzJ-iCu79ul40cQ</td>\n",
       "      <td>eUta8W_HdHMXPzLBBZhL1A</td>\n",
       "      <td>04UD14gamNjLY0IDYVhHJg</td>\n",
       "      <td>1</td>\n",
       "      <td>1</td>\n",
       "      <td>2</td>\n",
       "      <td>1</td>\n",
       "      <td>I am a long term frequent customer of this est...</td>\n",
       "      <td>2015-09-23 23:10:31</td>\n",
       "      <td>Dmitri's</td>\n",
       "      <td>...</td>\n",
       "      <td>PA</td>\n",
       "      <td>19147</td>\n",
       "      <td>39.938013</td>\n",
       "      <td>-75.148131</td>\n",
       "      <td>4.0</td>\n",
       "      <td>273</td>\n",
       "      <td>0</td>\n",
       "      <td>{'BusinessParking': '{'garage': False, 'street...</td>\n",
       "      <td>[Mediterranean, Restaurants, Seafood, Greek]</td>\n",
       "      <td>{'Wednesday': '17:30-21:0', 'Thursday': '17:30...</td>\n",
       "    </tr>\n",
       "    <tr>\n",
       "      <th>6</th>\n",
       "      <td>6AxgBCNX_PNTOxmbRSwcKQ</td>\n",
       "      <td>r3zeYsv1XFBRA4dJpL78cw</td>\n",
       "      <td>gmjsEdUsKpj9Xxu6pdjH0g</td>\n",
       "      <td>5</td>\n",
       "      <td>0</td>\n",
       "      <td>2</td>\n",
       "      <td>0</td>\n",
       "      <td>Loved this tour! I grabbed a groupon and the p...</td>\n",
       "      <td>2015-01-03 23:21:18</td>\n",
       "      <td>The Voodoo Bone Lady Tours</td>\n",
       "      <td>...</td>\n",
       "      <td>LA</td>\n",
       "      <td>70170</td>\n",
       "      <td>29.952030</td>\n",
       "      <td>-90.070334</td>\n",
       "      <td>4.5</td>\n",
       "      <td>359</td>\n",
       "      <td>1</td>\n",
       "      <td>{'GoodForKids': 'True'}</td>\n",
       "      <td>[Supernatural Readings, Tours, Hotels &amp; Travel...</td>\n",
       "      <td>{'Monday': '10:0-22:0', 'Tuesday': '10:0-22:0'...</td>\n",
       "    </tr>\n",
       "    <tr>\n",
       "      <th>7</th>\n",
       "      <td>_ZeMknuYdlQcUqng_Im3yg</td>\n",
       "      <td>yfFzsLmaWF2d4Sr0UNbBgg</td>\n",
       "      <td>LHSTtnW3YHCeUkRDGyJOyw</td>\n",
       "      <td>5</td>\n",
       "      <td>2</td>\n",
       "      <td>0</td>\n",
       "      <td>0</td>\n",
       "      <td>Amazingly amazing wings and homemade bleu chee...</td>\n",
       "      <td>2015-08-07 02:29:16</td>\n",
       "      <td>Fries Rebellion</td>\n",
       "      <td>...</td>\n",
       "      <td>PA</td>\n",
       "      <td>18951</td>\n",
       "      <td>40.407537</td>\n",
       "      <td>-75.338825</td>\n",
       "      <td>3.5</td>\n",
       "      <td>103</td>\n",
       "      <td>0</td>\n",
       "      <td>{'RestaurantsAttire': ''casual'', 'Ambience': ...</td>\n",
       "      <td>[Beer Bar, Bars, American (New), Gastropubs, R...</td>\n",
       "      <td>{'Wednesday': '11:0-23:0', 'Thursday': '11:0-2...</td>\n",
       "    </tr>\n",
       "    <tr>\n",
       "      <th>8</th>\n",
       "      <td>ZKvDG2sBvHVdF5oBNUOpAQ</td>\n",
       "      <td>wSTuiTk-sKNdcFyprzZAjg</td>\n",
       "      <td>B5XSoSG3SfvQGtKEGQ1tSQ</td>\n",
       "      <td>3</td>\n",
       "      <td>1</td>\n",
       "      <td>1</td>\n",
       "      <td>0</td>\n",
       "      <td>This easter instead of going to Lopez Lake we ...</td>\n",
       "      <td>2016-03-30 22:46:33</td>\n",
       "      <td>Los Padres National Forest</td>\n",
       "      <td>...</td>\n",
       "      <td>CA</td>\n",
       "      <td>93105</td>\n",
       "      <td>34.597239</td>\n",
       "      <td>-119.510772</td>\n",
       "      <td>4.5</td>\n",
       "      <td>13</td>\n",
       "      <td>1</td>\n",
       "      <td>{'GoodForKids': 'True', 'BikeParking': 'True',...</td>\n",
       "      <td>[Parks, Active Life]</td>\n",
       "      <td>None</td>\n",
       "    </tr>\n",
       "    <tr>\n",
       "      <th>9</th>\n",
       "      <td>pUycOfUwM8vqX7KjRRhUEA</td>\n",
       "      <td>59MxRhNVhU9MYndMkz0wtw</td>\n",
       "      <td>gebiRewfieSdtt17PTW6Zg</td>\n",
       "      <td>3</td>\n",
       "      <td>0</td>\n",
       "      <td>0</td>\n",
       "      <td>0</td>\n",
       "      <td>Had a party of 6 here for hibachi. Our waitres...</td>\n",
       "      <td>2016-07-25 07:31:06</td>\n",
       "      <td>Hibachi Steak House &amp; Sushi Bar</td>\n",
       "      <td>...</td>\n",
       "      <td>CA</td>\n",
       "      <td>93101</td>\n",
       "      <td>34.416984</td>\n",
       "      <td>-119.695556</td>\n",
       "      <td>3.5</td>\n",
       "      <td>488</td>\n",
       "      <td>1</td>\n",
       "      <td>{'Corkage': 'False', 'RestaurantsTakeOut': 'Tr...</td>\n",
       "      <td>[Steakhouses, Sushi Bars, Restaurants, Japanese]</td>\n",
       "      <td>{'Monday': '0:0-0:0'}</td>\n",
       "    </tr>\n",
       "  </tbody>\n",
       "</table>\n",
       "<p>10 rows × 22 columns</p>\n",
       "</div>"
      ],
      "text/plain": [
       "                review_id                 user_id             business_id  \\\n",
       "0  KU_O5udG6zpxOg-VcAEodg  mh_-eMZ6K5RLWhZyISBhwA  XQfwVwDr-v0ZS3_CbbE5Xw   \n",
       "1  BiTunyQ73aT9WBnpR9DZGw  OyoGAe7OKpv6SyGZT5g77Q  7ATYjTIgM3jUlt4UM3IypQ   \n",
       "2  saUsX_uimxRlCVr67Z4Jig  8g_iMtfSiwikVnbP2etR0A  YjUWPpI6HXG530lwP-fb2A   \n",
       "3  AqPFMleE6RsU23_auESxiA  _7bHUi9Uuf5__HHc_Q8guQ  kxX2SOes4o-D3ZQBkiMRfA   \n",
       "4  Sx8TMOWLNuJBWer-0pcmoA  bcjbaE6dDog4jkNY91ncLQ  e4Vwtrqf-wpJfwesgvdgxQ   \n",
       "5  JrIxlS1TzJ-iCu79ul40cQ  eUta8W_HdHMXPzLBBZhL1A  04UD14gamNjLY0IDYVhHJg   \n",
       "6  6AxgBCNX_PNTOxmbRSwcKQ  r3zeYsv1XFBRA4dJpL78cw  gmjsEdUsKpj9Xxu6pdjH0g   \n",
       "7  _ZeMknuYdlQcUqng_Im3yg  yfFzsLmaWF2d4Sr0UNbBgg  LHSTtnW3YHCeUkRDGyJOyw   \n",
       "8  ZKvDG2sBvHVdF5oBNUOpAQ  wSTuiTk-sKNdcFyprzZAjg  B5XSoSG3SfvQGtKEGQ1tSQ   \n",
       "9  pUycOfUwM8vqX7KjRRhUEA  59MxRhNVhU9MYndMkz0wtw  gebiRewfieSdtt17PTW6Zg   \n",
       "\n",
       "   stars_x  useful  funny  cool  \\\n",
       "0        3       0      0     0   \n",
       "1        5       1      0     1   \n",
       "2        3       0      0     0   \n",
       "3        5       1      0     1   \n",
       "4        4       1      0     1   \n",
       "5        1       1      2     1   \n",
       "6        5       0      2     0   \n",
       "7        5       2      0     0   \n",
       "8        3       1      1     0   \n",
       "9        3       0      0     0   \n",
       "\n",
       "                                                text                date  \\\n",
       "0  If you decide to eat here, just be aware it is... 2018-07-07 22:09:11   \n",
       "1  I've taken a lot of spin classes over the year... 2012-01-03 15:28:18   \n",
       "2  Family diner. Had the buffet. Eclectic assortm... 2014-02-05 20:30:30   \n",
       "3  Wow!  Yummy, different,  delicious.   Our favo... 2015-01-04 00:01:03   \n",
       "4  Cute interior and owner (?) gave us tour of up... 2017-01-14 20:54:15   \n",
       "5  I am a long term frequent customer of this est... 2015-09-23 23:10:31   \n",
       "6  Loved this tour! I grabbed a groupon and the p... 2015-01-03 23:21:18   \n",
       "7  Amazingly amazing wings and homemade bleu chee... 2015-08-07 02:29:16   \n",
       "8  This easter instead of going to Lopez Lake we ... 2016-03-30 22:46:33   \n",
       "9  Had a party of 6 here for hibachi. Our waitres... 2016-07-25 07:31:06   \n",
       "\n",
       "                              name  ... state postal_code   latitude  \\\n",
       "0     Turning Point of North Wales  ...    PA       19454  40.210196   \n",
       "1       Body Cycle Spinning Studio  ...    PA       19119  39.952103   \n",
       "2                Kettle Restaurant  ...    AZ       85713  32.207233   \n",
       "3                            Zaika  ...    PA       19114  40.079848   \n",
       "4                             Melt  ...    LA       70119  29.962102   \n",
       "5                         Dmitri's  ...    PA       19147  39.938013   \n",
       "6       The Voodoo Bone Lady Tours  ...    LA       70170  29.952030   \n",
       "7                  Fries Rebellion  ...    PA       18951  40.407537   \n",
       "8       Los Padres National Forest  ...    CA       93105  34.597239   \n",
       "9  Hibachi Steak House & Sushi Bar  ...    CA       93101  34.416984   \n",
       "\n",
       "    longitude  stars_y  review_count  is_open  \\\n",
       "0  -75.223639      3.0           169        1   \n",
       "1  -75.172753      5.0           144        0   \n",
       "2 -110.980864      3.5            47        1   \n",
       "3  -75.025080      4.0           181        1   \n",
       "4  -90.087958      4.0            32        0   \n",
       "5  -75.148131      4.0           273        0   \n",
       "6  -90.070334      4.5           359        1   \n",
       "7  -75.338825      3.5           103        0   \n",
       "8 -119.510772      4.5            13        1   \n",
       "9 -119.695556      3.5           488        1   \n",
       "\n",
       "                                          attributes  \\\n",
       "0  {'NoiseLevel': 'u'average'', 'HasTV': 'False',...   \n",
       "1  {'BusinessAcceptsCreditCards': 'True', 'GoodFo...   \n",
       "2  {'RestaurantsReservations': 'True', 'BusinessP...   \n",
       "3  {'Caters': 'True', 'Ambience': '{'romantic': F...   \n",
       "4  {'BusinessParking': '{'garage': False, 'street...   \n",
       "5  {'BusinessParking': '{'garage': False, 'street...   \n",
       "6                            {'GoodForKids': 'True'}   \n",
       "7  {'RestaurantsAttire': ''casual'', 'Ambience': ...   \n",
       "8  {'GoodForKids': 'True', 'BikeParking': 'True',...   \n",
       "9  {'Corkage': 'False', 'RestaurantsTakeOut': 'Tr...   \n",
       "\n",
       "                                          categories  \\\n",
       "0  [Restaurants, Breakfast & Brunch, Food, Juice ...   \n",
       "1  [Active Life, Cycling Classes, Trainers, Gyms,...   \n",
       "2                  [Restaurants, Breakfast & Brunch]   \n",
       "3            [Halal, Pakistani, Restaurants, Indian]   \n",
       "4  [Sandwiches, Beer, Wine & Spirits, Bars, Food,...   \n",
       "5       [Mediterranean, Restaurants, Seafood, Greek]   \n",
       "6  [Supernatural Readings, Tours, Hotels & Travel...   \n",
       "7  [Beer Bar, Bars, American (New), Gastropubs, R...   \n",
       "8                               [Parks, Active Life]   \n",
       "9   [Steakhouses, Sushi Bars, Restaurants, Japanese]   \n",
       "\n",
       "                                               hours  \n",
       "0  {'Monday': '7:30-15:0', 'Tuesday': '7:30-15:0'...  \n",
       "1  {'Monday': '6:30-20:30', 'Tuesday': '6:30-20:3...  \n",
       "2                                               None  \n",
       "3  {'Tuesday': '11:0-21:0', 'Wednesday': '11:0-21...  \n",
       "4  {'Monday': '0:0-0:0', 'Friday': '11:0-17:0', '...  \n",
       "5  {'Wednesday': '17:30-21:0', 'Thursday': '17:30...  \n",
       "6  {'Monday': '10:0-22:0', 'Tuesday': '10:0-22:0'...  \n",
       "7  {'Wednesday': '11:0-23:0', 'Thursday': '11:0-2...  \n",
       "8                                               None  \n",
       "9                              {'Monday': '0:0-0:0'}  \n",
       "\n",
       "[10 rows x 22 columns]"
      ]
     },
     "execution_count": 4,
     "metadata": {},
     "output_type": "execute_result"
    }
   ],
   "source": [
    "reviews.head(10)"
   ]
  },
  {
   "cell_type": "code",
   "execution_count": null,
   "metadata": {},
   "outputs": [],
   "source": [
    "checkins = pd.read_json(get_path(\"yelp_academic_dataset_checkin.json\"), lines=True)\n",
    "checkins['date'] = checkins['date'].str.split(', ', expand=False)\n",
    "checkins = checkins.explode('date')"
   ]
  },
  {
   "cell_type": "code",
   "execution_count": 3,
   "metadata": {},
   "outputs": [],
   "source": [
    "tips = pd.read_json(get_path(\"yelp_academic_dataset_tip.json\"), lines=True)"
   ]
  },
  {
   "attachments": {},
   "cell_type": "markdown",
   "metadata": {},
   "source": [
    "___\n",
    "___\n",
    "___\n",
    "### How many different types of businesses are defined in Yelp?"
   ]
  },
  {
   "cell_type": "code",
   "execution_count": 2,
   "metadata": {},
   "outputs": [
    {
     "data": {
      "text/html": [
       "<div>\n",
       "<style scoped>\n",
       "    .dataframe tbody tr th:only-of-type {\n",
       "        vertical-align: middle;\n",
       "    }\n",
       "\n",
       "    .dataframe tbody tr th {\n",
       "        vertical-align: top;\n",
       "    }\n",
       "\n",
       "    .dataframe thead th {\n",
       "        text-align: right;\n",
       "    }\n",
       "</style>\n",
       "<table border=\"1\" class=\"dataframe\">\n",
       "  <thead>\n",
       "    <tr style=\"text-align: right;\">\n",
       "      <th></th>\n",
       "      <th>callret-0.value</th>\n",
       "    </tr>\n",
       "  </thead>\n",
       "  <tbody>\n",
       "    <tr>\n",
       "      <th>0</th>\n",
       "      <td>1311</td>\n",
       "    </tr>\n",
       "  </tbody>\n",
       "</table>\n",
       "</div>"
      ],
      "text/plain": [
       "  callret-0.value\n",
       "0            1311"
      ]
     },
     "execution_count": 2,
     "metadata": {},
     "output_type": "execute_result"
    }
   ],
   "source": [
    "sparql_query =\"\"\"\n",
    "\n",
    "SELECT COUNT(DISTINCT(?category))\n",
    "WHERE {\n",
    "    ?business schema:category ?category .\n",
    "}\n",
    "\n",
    "\"\"\"\n",
    "\n",
    "run_query(query=sparql_query, as_dataframe=True)"
   ]
  },
  {
   "cell_type": "code",
   "execution_count": 5,
   "metadata": {},
   "outputs": [
    {
     "data": {
      "text/plain": [
       "1311"
      ]
     },
     "execution_count": 5,
     "metadata": {},
     "output_type": "execute_result"
    }
   ],
   "source": [
    "unique_categories = {category for sublist in business['categories'] if sublist for category in sublist}\n",
    "len(unique_categories)"
   ]
  },
  {
   "attachments": {},
   "cell_type": "markdown",
   "metadata": {},
   "source": [
    "### How many businesses of type \"Restaurants\" exist?"
   ]
  },
  {
   "cell_type": "code",
   "execution_count": 3,
   "metadata": {},
   "outputs": [
    {
     "data": {
      "text/html": [
       "<div>\n",
       "<style scoped>\n",
       "    .dataframe tbody tr th:only-of-type {\n",
       "        vertical-align: middle;\n",
       "    }\n",
       "\n",
       "    .dataframe tbody tr th {\n",
       "        vertical-align: top;\n",
       "    }\n",
       "\n",
       "    .dataframe thead th {\n",
       "        text-align: right;\n",
       "    }\n",
       "</style>\n",
       "<table border=\"1\" class=\"dataframe\">\n",
       "  <thead>\n",
       "    <tr style=\"text-align: right;\">\n",
       "      <th></th>\n",
       "      <th>numberRestaurants.value</th>\n",
       "    </tr>\n",
       "  </thead>\n",
       "  <tbody>\n",
       "    <tr>\n",
       "      <th>0</th>\n",
       "      <td>52268</td>\n",
       "    </tr>\n",
       "  </tbody>\n",
       "</table>\n",
       "</div>"
      ],
      "text/plain": [
       "  numberRestaurants.value\n",
       "0                   52268"
      ]
     },
     "execution_count": 3,
     "metadata": {},
     "output_type": "execute_result"
    }
   ],
   "source": [
    "sparql_query = \"\"\"\n",
    "\n",
    "SELECT COUNT(DISTINCT(?business)) AS ?numberRestaurants\n",
    "WHERE {\n",
    "    ?business schema:category yelpcat:Restaurants .\n",
    "}\n",
    "\n",
    "\"\"\"\n",
    "\n",
    "run_query(query=sparql_query, as_dataframe=True)"
   ]
  },
  {
   "cell_type": "code",
   "execution_count": 7,
   "metadata": {},
   "outputs": [
    {
     "name": "stdout",
     "output_type": "stream",
     "text": [
      "52268\n"
     ]
    }
   ],
   "source": [
    "counter = 0\n",
    "for row in business['categories']:\n",
    "    if row is not None and \"Restaurants\" in row:\n",
    "        counter += 1\n",
    "print(counter)"
   ]
  },
  {
   "attachments": {},
   "cell_type": "markdown",
   "metadata": {
    "collapsed": false,
    "pycharm": {
     "name": "#%% md\n"
    }
   },
   "source": [
    "### How many businesses of type Restaurants have been reviewed?"
   ]
  },
  {
   "cell_type": "code",
   "execution_count": 5,
   "metadata": {},
   "outputs": [
    {
     "data": {
      "text/html": [
       "<div>\n",
       "<style scoped>\n",
       "    .dataframe tbody tr th:only-of-type {\n",
       "        vertical-align: middle;\n",
       "    }\n",
       "\n",
       "    .dataframe tbody tr th {\n",
       "        vertical-align: top;\n",
       "    }\n",
       "\n",
       "    .dataframe thead th {\n",
       "        text-align: right;\n",
       "    }\n",
       "</style>\n",
       "<table border=\"1\" class=\"dataframe\">\n",
       "  <thead>\n",
       "    <tr style=\"text-align: right;\">\n",
       "      <th></th>\n",
       "      <th>business.value</th>\n",
       "    </tr>\n",
       "  </thead>\n",
       "  <tbody>\n",
       "    <tr>\n",
       "      <th>0</th>\n",
       "      <td>https://www.yelp.com/biz/jAYRTHKmUxNhpbycdjoGwg</td>\n",
       "    </tr>\n",
       "    <tr>\n",
       "      <th>1</th>\n",
       "      <td>https://www.yelp.com/biz/J2Jl-zmU7bjKsc9JZ65c-Q</td>\n",
       "    </tr>\n",
       "    <tr>\n",
       "      <th>2</th>\n",
       "      <td>https://www.yelp.com/biz/yLIn3po-fKb0T3UIoJdiyQ</td>\n",
       "    </tr>\n",
       "    <tr>\n",
       "      <th>3</th>\n",
       "      <td>https://www.yelp.com/biz/sf-KdXHB5nxfNjl2uUpI6Q</td>\n",
       "    </tr>\n",
       "    <tr>\n",
       "      <th>4</th>\n",
       "      <td>https://www.yelp.com/biz/yjcIKn2T2QY_DjXWACsAFw</td>\n",
       "    </tr>\n",
       "    <tr>\n",
       "      <th>...</th>\n",
       "      <td>...</td>\n",
       "    </tr>\n",
       "    <tr>\n",
       "      <th>99995</th>\n",
       "      <td>https://www.yelp.com/biz/r6dvcGaTEcvN4nUIeS15nA</td>\n",
       "    </tr>\n",
       "    <tr>\n",
       "      <th>99996</th>\n",
       "      <td>https://www.yelp.com/biz/xsIKentPBt136G5rWpHK0A</td>\n",
       "    </tr>\n",
       "    <tr>\n",
       "      <th>99997</th>\n",
       "      <td>https://www.yelp.com/biz/VYkEik6T-yVY-jRK28mF3A</td>\n",
       "    </tr>\n",
       "    <tr>\n",
       "      <th>99998</th>\n",
       "      <td>https://www.yelp.com/biz/93atrWOjLwaRuuaaiiEYZw</td>\n",
       "    </tr>\n",
       "    <tr>\n",
       "      <th>99999</th>\n",
       "      <td>https://www.yelp.com/biz/hOupS2QRNIuMLfcpOqC0oA</td>\n",
       "    </tr>\n",
       "  </tbody>\n",
       "</table>\n",
       "<p>100000 rows × 1 columns</p>\n",
       "</div>"
      ],
      "text/plain": [
       "                                        business.value\n",
       "0      https://www.yelp.com/biz/jAYRTHKmUxNhpbycdjoGwg\n",
       "1      https://www.yelp.com/biz/J2Jl-zmU7bjKsc9JZ65c-Q\n",
       "2      https://www.yelp.com/biz/yLIn3po-fKb0T3UIoJdiyQ\n",
       "3      https://www.yelp.com/biz/sf-KdXHB5nxfNjl2uUpI6Q\n",
       "4      https://www.yelp.com/biz/yjcIKn2T2QY_DjXWACsAFw\n",
       "...                                                ...\n",
       "99995  https://www.yelp.com/biz/r6dvcGaTEcvN4nUIeS15nA\n",
       "99996  https://www.yelp.com/biz/xsIKentPBt136G5rWpHK0A\n",
       "99997  https://www.yelp.com/biz/VYkEik6T-yVY-jRK28mF3A\n",
       "99998  https://www.yelp.com/biz/93atrWOjLwaRuuaaiiEYZw\n",
       "99999  https://www.yelp.com/biz/hOupS2QRNIuMLfcpOqC0oA\n",
       "\n",
       "[100000 rows x 1 columns]"
      ]
     },
     "execution_count": 5,
     "metadata": {},
     "output_type": "execute_result"
    }
   ],
   "source": [
    "sparql_query = \"\"\"\n",
    "\n",
    "SELECT ?business\n",
    "WHERE {\n",
    "    ?review schema:about ?business .\n",
    "}\n",
    "\n",
    "\"\"\"\n",
    "\n",
    "run_query(query=sparql_query, as_dataframe=True)"
   ]
  },
  {
   "cell_type": "code",
   "execution_count": 3,
   "metadata": {},
   "outputs": [
    {
     "data": {
      "text/html": [
       "<div>\n",
       "<style scoped>\n",
       "    .dataframe tbody tr th:only-of-type {\n",
       "        vertical-align: middle;\n",
       "    }\n",
       "\n",
       "    .dataframe tbody tr th {\n",
       "        vertical-align: top;\n",
       "    }\n",
       "\n",
       "    .dataframe thead th {\n",
       "        text-align: right;\n",
       "    }\n",
       "</style>\n",
       "<table border=\"1\" class=\"dataframe\">\n",
       "  <thead>\n",
       "    <tr style=\"text-align: right;\">\n",
       "      <th></th>\n",
       "      <th>business.value</th>\n",
       "    </tr>\n",
       "  </thead>\n",
       "  <tbody>\n",
       "    <tr>\n",
       "      <th>0</th>\n",
       "      <td>https://purl.archive.org/purl/yelp/yelp_entiti...</td>\n",
       "    </tr>\n",
       "    <tr>\n",
       "      <th>1</th>\n",
       "      <td>https://purl.archive.org/purl/yelp/yelp_entiti...</td>\n",
       "    </tr>\n",
       "    <tr>\n",
       "      <th>2</th>\n",
       "      <td>https://purl.archive.org/purl/yelp/yelp_entiti...</td>\n",
       "    </tr>\n",
       "    <tr>\n",
       "      <th>3</th>\n",
       "      <td>https://purl.archive.org/purl/yelp/yelp_entiti...</td>\n",
       "    </tr>\n",
       "    <tr>\n",
       "      <th>4</th>\n",
       "      <td>https://purl.archive.org/purl/yelp/yelp_entiti...</td>\n",
       "    </tr>\n",
       "    <tr>\n",
       "      <th>...</th>\n",
       "      <td>...</td>\n",
       "    </tr>\n",
       "    <tr>\n",
       "      <th>52263</th>\n",
       "      <td>https://purl.archive.org/purl/yelp/yelp_entiti...</td>\n",
       "    </tr>\n",
       "    <tr>\n",
       "      <th>52264</th>\n",
       "      <td>https://purl.archive.org/purl/yelp/yelp_entiti...</td>\n",
       "    </tr>\n",
       "    <tr>\n",
       "      <th>52265</th>\n",
       "      <td>https://purl.archive.org/purl/yelp/yelp_entiti...</td>\n",
       "    </tr>\n",
       "    <tr>\n",
       "      <th>52266</th>\n",
       "      <td>https://purl.archive.org/purl/yelp/yelp_entiti...</td>\n",
       "    </tr>\n",
       "    <tr>\n",
       "      <th>52267</th>\n",
       "      <td>https://purl.archive.org/purl/yelp/yelp_entiti...</td>\n",
       "    </tr>\n",
       "  </tbody>\n",
       "</table>\n",
       "<p>52268 rows × 1 columns</p>\n",
       "</div>"
      ],
      "text/plain": [
       "                                          business.value\n",
       "0      https://purl.archive.org/purl/yelp/yelp_entiti...\n",
       "1      https://purl.archive.org/purl/yelp/yelp_entiti...\n",
       "2      https://purl.archive.org/purl/yelp/yelp_entiti...\n",
       "3      https://purl.archive.org/purl/yelp/yelp_entiti...\n",
       "4      https://purl.archive.org/purl/yelp/yelp_entiti...\n",
       "...                                                  ...\n",
       "52263  https://purl.archive.org/purl/yelp/yelp_entiti...\n",
       "52264  https://purl.archive.org/purl/yelp/yelp_entiti...\n",
       "52265  https://purl.archive.org/purl/yelp/yelp_entiti...\n",
       "52266  https://purl.archive.org/purl/yelp/yelp_entiti...\n",
       "52267  https://purl.archive.org/purl/yelp/yelp_entiti...\n",
       "\n",
       "[52268 rows x 1 columns]"
      ]
     },
     "execution_count": 3,
     "metadata": {},
     "output_type": "execute_result"
    }
   ],
   "source": [
    "sparql_query = \"\"\"\n",
    "\n",
    "SELECT ?business\n",
    "WHERE {\n",
    "    ?business schema:category yelpcat:Restaurants .\n",
    "}\n",
    "\n",
    "\"\"\"\n",
    "\n",
    "run_query(query=sparql_query, as_dataframe=True)"
   ]
  },
  {
   "cell_type": "code",
   "execution_count": 7,
   "metadata": {
    "collapsed": false,
    "pycharm": {
     "name": "#%%\n"
    }
   },
   "outputs": [
    {
     "data": {
      "text/plain": [
       "52268"
      ]
     },
     "execution_count": 7,
     "metadata": {},
     "output_type": "execute_result"
    }
   ],
   "source": [
    "review_unique_business = reviews.drop_duplicates(subset=['business_id'])\n",
    "mask = review_unique_business['categories'].apply(lambda x: x is not None and \"Restaurants\" in x)\n",
    "len(review_unique_business[mask])"
   ]
  },
  {
   "attachments": {},
   "cell_type": "markdown",
   "metadata": {
    "collapsed": false,
    "pycharm": {
     "name": "#%% md\n"
    }
   },
   "source": [
    "### How many businesses have been reviewed?"
   ]
  },
  {
   "cell_type": "code",
   "execution_count": 7,
   "metadata": {
    "collapsed": false,
    "pycharm": {
     "name": "#%%\n"
    }
   },
   "outputs": [
    {
     "data": {
      "text/html": [
       "<div>\n",
       "<style scoped>\n",
       "    .dataframe tbody tr th:only-of-type {\n",
       "        vertical-align: middle;\n",
       "    }\n",
       "\n",
       "    .dataframe tbody tr th {\n",
       "        vertical-align: top;\n",
       "    }\n",
       "\n",
       "    .dataframe thead th {\n",
       "        text-align: right;\n",
       "    }\n",
       "</style>\n",
       "<table border=\"1\" class=\"dataframe\">\n",
       "  <thead>\n",
       "    <tr style=\"text-align: right;\">\n",
       "      <th></th>\n",
       "      <th>callret-0.value</th>\n",
       "    </tr>\n",
       "  </thead>\n",
       "  <tbody>\n",
       "    <tr>\n",
       "      <th>0</th>\n",
       "      <td>150346</td>\n",
       "    </tr>\n",
       "  </tbody>\n",
       "</table>\n",
       "</div>"
      ],
      "text/plain": [
       "  callret-0.value\n",
       "0          150346"
      ]
     },
     "execution_count": 7,
     "metadata": {},
     "output_type": "execute_result"
    }
   ],
   "source": [
    "sparql_query = \"\"\"\n",
    "\n",
    "SELECT COUNT(DISTINCT(?business))\n",
    "WHERE {\n",
    "    ?review schema:about ?business .\n",
    "    ?review rdfs:Class schema:UserReview .\n",
    "}\n",
    "\n",
    "\"\"\"\n",
    "\n",
    "run_query(query=sparql_query, as_dataframe=True)"
   ]
  },
  {
   "cell_type": "code",
   "execution_count": 32,
   "metadata": {
    "collapsed": false,
    "pycharm": {
     "name": "#%%\n"
    }
   },
   "outputs": [
    {
     "data": {
      "text/plain": [
       "150346"
      ]
     },
     "execution_count": 32,
     "metadata": {},
     "output_type": "execute_result"
    }
   ],
   "source": [
    "review_unique_business = reviews.drop_duplicates(subset=['business_id'])\n",
    "len(review_unique_business)"
   ]
  },
  {
   "attachments": {},
   "cell_type": "markdown",
   "metadata": {
    "collapsed": false,
    "pycharm": {
     "name": "#%% md\n"
    }
   },
   "source": [
    "### How many businesses have, on average, a rating of 4.5?"
   ]
  },
  {
   "cell_type": "code",
   "execution_count": 23,
   "metadata": {},
   "outputs": [
    {
     "data": {
      "text/html": [
       "<div>\n",
       "<style scoped>\n",
       "    .dataframe tbody tr th:only-of-type {\n",
       "        vertical-align: middle;\n",
       "    }\n",
       "\n",
       "    .dataframe tbody tr th {\n",
       "        vertical-align: top;\n",
       "    }\n",
       "\n",
       "    .dataframe thead th {\n",
       "        text-align: right;\n",
       "    }\n",
       "</style>\n",
       "<table border=\"1\" class=\"dataframe\">\n",
       "  <thead>\n",
       "    <tr style=\"text-align: right;\">\n",
       "      <th></th>\n",
       "      <th>callret-0.value</th>\n",
       "    </tr>\n",
       "  </thead>\n",
       "  <tbody>\n",
       "    <tr>\n",
       "      <th>0</th>\n",
       "      <td>27181</td>\n",
       "    </tr>\n",
       "  </tbody>\n",
       "</table>\n",
       "</div>"
      ],
      "text/plain": [
       "  callret-0.value\n",
       "0           27181"
      ]
     },
     "execution_count": 23,
     "metadata": {},
     "output_type": "execute_result"
    }
   ],
   "source": [
    "sparql_query = \"\"\"\n",
    "SELECT COUNT(DISTINCT(?business))\n",
    "WHERE {\n",
    "    ?business schema:aggregateRating ?rating .\n",
    "    FILTER (?rating = 4.5) .\n",
    "}\n",
    "\n",
    "\"\"\"\n",
    "\n",
    "run_query(query=sparql_query, as_dataframe=True)"
   ]
  },
  {
   "cell_type": "code",
   "execution_count": 49,
   "metadata": {
    "collapsed": false,
    "pycharm": {
     "name": "#%%\n"
    }
   },
   "outputs": [
    {
     "data": {
      "text/plain": [
       "stars\n",
       "4.5    27181\n",
       "Name: stars, dtype: int64"
      ]
     },
     "execution_count": 49,
     "metadata": {},
     "output_type": "execute_result"
    }
   ],
   "source": [
    "business[business['stars'] == 4.5].groupby('stars')['stars'].count()"
   ]
  },
  {
   "attachments": {},
   "cell_type": "markdown",
   "metadata": {
    "collapsed": false,
    "pycharm": {
     "name": "#%% md\n"
    }
   },
   "source": [
    "### What is the average rating across businesses?"
   ]
  },
  {
   "cell_type": "code",
   "execution_count": 11,
   "metadata": {
    "collapsed": false,
    "pycharm": {
     "name": "#%%\n"
    }
   },
   "outputs": [
    {
     "data": {
      "text/html": [
       "<div>\n",
       "<style scoped>\n",
       "    .dataframe tbody tr th:only-of-type {\n",
       "        vertical-align: middle;\n",
       "    }\n",
       "\n",
       "    .dataframe tbody tr th {\n",
       "        vertical-align: top;\n",
       "    }\n",
       "\n",
       "    .dataframe thead th {\n",
       "        text-align: right;\n",
       "    }\n",
       "</style>\n",
       "<table border=\"1\" class=\"dataframe\">\n",
       "  <thead>\n",
       "    <tr style=\"text-align: right;\">\n",
       "      <th></th>\n",
       "      <th>averagerating.type</th>\n",
       "      <th>averagerating.datatype</th>\n",
       "      <th>averagerating.value</th>\n",
       "    </tr>\n",
       "  </thead>\n",
       "  <tbody>\n",
       "    <tr>\n",
       "      <th>0</th>\n",
       "      <td>typed-literal</td>\n",
       "      <td>http://www.w3.org/2001/XMLSchema#decimal</td>\n",
       "      <td>3.59672355766033</td>\n",
       "    </tr>\n",
       "  </tbody>\n",
       "</table>\n",
       "</div>"
      ],
      "text/plain": [
       "  averagerating.type                    averagerating.datatype  \\\n",
       "0      typed-literal  http://www.w3.org/2001/XMLSchema#decimal   \n",
       "\n",
       "  averagerating.value  \n",
       "0    3.59672355766033  "
      ]
     },
     "execution_count": 11,
     "metadata": {},
     "output_type": "execute_result"
    }
   ],
   "source": [
    "sparql_query = \"\"\"\n",
    "SELECT AVG(?rating) as ?averagerating\n",
    "WHERE {\n",
    "    ?business schema:aggregateRating ?rating .\n",
    "}\n",
    "\n",
    "\"\"\"\n",
    "\n",
    "run_query(query=sparql_query, as_dataframe=True)"
   ]
  },
  {
   "cell_type": "code",
   "execution_count": 25,
   "metadata": {
    "collapsed": false,
    "pycharm": {
     "name": "#%%\n"
    }
   },
   "outputs": [
    {
     "data": {
      "text/plain": [
       "3.5967235576603303"
      ]
     },
     "execution_count": 25,
     "metadata": {},
     "output_type": "execute_result"
    }
   ],
   "source": [
    "business['stars'].mean()"
   ]
  },
  {
   "attachments": {},
   "cell_type": "markdown",
   "metadata": {
    "collapsed": false
   },
   "source": [
    "### How many businesses have been reviewed in Santa Barbara, CA?\n",
    "\n",
    "TO DO: RUN AGAIN"
   ]
  },
  {
   "cell_type": "code",
   "execution_count": 5,
   "metadata": {},
   "outputs": [
    {
     "name": "stdout",
     "output_type": "stream",
     "text": [
      "Empty resultset\n"
     ]
    },
    {
     "data": {
      "text/html": [
       "<div>\n",
       "<style scoped>\n",
       "    .dataframe tbody tr th:only-of-type {\n",
       "        vertical-align: middle;\n",
       "    }\n",
       "\n",
       "    .dataframe tbody tr th {\n",
       "        vertical-align: top;\n",
       "    }\n",
       "\n",
       "    .dataframe thead th {\n",
       "        text-align: right;\n",
       "    }\n",
       "</style>\n",
       "<table border=\"1\" class=\"dataframe\">\n",
       "  <thead>\n",
       "    <tr style=\"text-align: right;\">\n",
       "      <th></th>\n",
       "    </tr>\n",
       "  </thead>\n",
       "  <tbody>\n",
       "  </tbody>\n",
       "</table>\n",
       "</div>"
      ],
      "text/plain": [
       "Empty DataFrame\n",
       "Columns: []\n",
       "Index: []"
      ]
     },
     "execution_count": 5,
     "metadata": {},
     "output_type": "execute_result"
    }
   ],
   "source": [
    "sparql_query = \"\"\"\n",
    "SELECT ?state ?city COUNT(?business) AS ?count_business\n",
    "WHERE {\n",
    "    ?business rdfs:Class schema:LocalBusiness .\n",
    "    ?business schema:location ?city .\n",
    "    ?city rdfs:label ?city_name .\n",
    "    ?city yelpont:location ?state .\n",
    "    VALUES ?city_name{'Santa Barbara'} .\n",
    "}\n",
    "GROUP BY ?state ?city\n",
    "ORDER BY DESC(?count_business)\n",
    "LIMIT 10\n",
    "\n",
    "\"\"\"\n",
    "\n",
    "run_query(query=sparql_query, as_dataframe=True)"
   ]
  },
  {
   "cell_type": "code",
   "execution_count": 31,
   "metadata": {},
   "outputs": [
    {
     "data": {
      "text/plain": [
       "3829"
      ]
     },
     "execution_count": 31,
     "metadata": {},
     "output_type": "execute_result"
    }
   ],
   "source": [
    "business_santa_barbara = business[business['city'] == \"Santa Barbara\"]\n",
    "len(business_santa_barbara)"
   ]
  },
  {
   "attachments": {},
   "cell_type": "markdown",
   "metadata": {},
   "source": [
    "### What are the five most busy days, and for what business?"
   ]
  },
  {
   "cell_type": "code",
   "execution_count": 25,
   "metadata": {},
   "outputs": [
    {
     "data": {
      "text/html": [
       "<div>\n",
       "<style scoped>\n",
       "    .dataframe tbody tr th:only-of-type {\n",
       "        vertical-align: middle;\n",
       "    }\n",
       "\n",
       "    .dataframe tbody tr th {\n",
       "        vertical-align: top;\n",
       "    }\n",
       "\n",
       "    .dataframe thead th {\n",
       "        text-align: right;\n",
       "    }\n",
       "</style>\n",
       "<table border=\"1\" class=\"dataframe\">\n",
       "  <thead>\n",
       "    <tr style=\"text-align: right;\">\n",
       "      <th></th>\n",
       "      <th>business.value</th>\n",
       "      <th>year.value</th>\n",
       "      <th>month.value</th>\n",
       "      <th>day.value</th>\n",
       "      <th>numberOfVisits.value</th>\n",
       "    </tr>\n",
       "  </thead>\n",
       "  <tbody>\n",
       "    <tr>\n",
       "      <th>0</th>\n",
       "      <td>https://purl.archive.org/purl/yelp/yelp_entiti...</td>\n",
       "      <td>2016</td>\n",
       "      <td>6</td>\n",
       "      <td>25</td>\n",
       "      <td>457</td>\n",
       "    </tr>\n",
       "    <tr>\n",
       "      <th>1</th>\n",
       "      <td>https://purl.archive.org/purl/yelp/yelp_entiti...</td>\n",
       "      <td>2015</td>\n",
       "      <td>8</td>\n",
       "      <td>30</td>\n",
       "      <td>285</td>\n",
       "    </tr>\n",
       "    <tr>\n",
       "      <th>2</th>\n",
       "      <td>https://purl.archive.org/purl/yelp/yelp_entiti...</td>\n",
       "      <td>2016</td>\n",
       "      <td>8</td>\n",
       "      <td>28</td>\n",
       "      <td>268</td>\n",
       "    </tr>\n",
       "    <tr>\n",
       "      <th>3</th>\n",
       "      <td>https://purl.archive.org/purl/yelp/yelp_entiti...</td>\n",
       "      <td>2016</td>\n",
       "      <td>8</td>\n",
       "      <td>28</td>\n",
       "      <td>263</td>\n",
       "    </tr>\n",
       "    <tr>\n",
       "      <th>4</th>\n",
       "      <td>https://purl.archive.org/purl/yelp/yelp_entiti...</td>\n",
       "      <td>2017</td>\n",
       "      <td>7</td>\n",
       "      <td>29</td>\n",
       "      <td>251</td>\n",
       "    </tr>\n",
       "  </tbody>\n",
       "</table>\n",
       "</div>"
      ],
      "text/plain": [
       "                                      business.value year.value month.value  \\\n",
       "0  https://purl.archive.org/purl/yelp/yelp_entiti...       2016           6   \n",
       "1  https://purl.archive.org/purl/yelp/yelp_entiti...       2015           8   \n",
       "2  https://purl.archive.org/purl/yelp/yelp_entiti...       2016           8   \n",
       "3  https://purl.archive.org/purl/yelp/yelp_entiti...       2016           8   \n",
       "4  https://purl.archive.org/purl/yelp/yelp_entiti...       2017           7   \n",
       "\n",
       "  day.value numberOfVisits.value  \n",
       "0        25                  457  \n",
       "1        30                  285  \n",
       "2        28                  268  \n",
       "3        28                  263  \n",
       "4        29                  251  "
      ]
     },
     "execution_count": 25,
     "metadata": {},
     "output_type": "execute_result"
    }
   ],
   "source": [
    "sparql_query = \"\"\"\n",
    "SELECT ?business ?year ?month ?day COUNT(?visit) as ?numberOfVisits\n",
    "WHERE {\n",
    "    ?business schema:checkinTime ?visit .\n",
    "    BIND (day(?visit)  as ?day)\n",
    "    BIND (month(?visit) as ?month)\n",
    "    BIND (year(?visit) as ?year)\n",
    "}\n",
    "GROUP BY ?business ?year ?month ?day\n",
    "ORDER BY DESC(COUNT(?visit))\n",
    "LIMIT 5\n",
    "\n",
    "\"\"\"\n",
    "\n",
    "run_query(query=sparql_query, as_dataframe=True)"
   ]
  },
  {
   "cell_type": "code",
   "execution_count": 17,
   "metadata": {},
   "outputs": [
    {
     "data": {
      "text/plain": [
       "business_id             Day  Month  Year\n",
       "CySqUcNz8oPiQTu4EXTnig  25   06     2016    465\n",
       "g50ImmCX3WY3koEDIzoKxg  30   08     2015    287\n",
       "qfWWx0dVo1UuAhRfh03Dyw  28   08     2016    270\n",
       "g50ImmCX3WY3koEDIzoKxg  28   08     2016    264\n",
       "FBBeJO50xZiNIo3oFhAFRA  29   07     2017    254\n",
       "dtype: int64"
      ]
     },
     "execution_count": 17,
     "metadata": {},
     "output_type": "execute_result"
    }
   ],
   "source": [
    "checkins[\"Day\"] = checkins[\"date\"].apply(lambda x: x.split(\"-\")[2][:2])\n",
    "checkins[\"Month\"] = checkins[\"date\"].apply(lambda x: x.split(\"-\")[1])\n",
    "checkins[\"Year\"] = checkins[\"date\"].apply(lambda x: x.split(\"-\")[0])\n",
    "\n",
    "checkins.value_counts(subset=[\"business_id\", \"Day\", \"Month\", \"Year\"], sort=True, ascending=False).head(5)"
   ]
  },
  {
   "attachments": {},
   "cell_type": "markdown",
   "metadata": {
    "collapsed": false,
    "pycharm": {
     "name": "#%% md\n"
    }
   },
   "source": [
    "### Which are the top 10 most visisted businesses?"
   ]
  },
  {
   "cell_type": "code",
   "execution_count": 52,
   "metadata": {},
   "outputs": [
    {
     "data": {
      "text/html": [
       "<div>\n",
       "<style scoped>\n",
       "    .dataframe tbody tr th:only-of-type {\n",
       "        vertical-align: middle;\n",
       "    }\n",
       "\n",
       "    .dataframe tbody tr th {\n",
       "        vertical-align: top;\n",
       "    }\n",
       "\n",
       "    .dataframe thead th {\n",
       "        text-align: right;\n",
       "    }\n",
       "</style>\n",
       "<table border=\"1\" class=\"dataframe\">\n",
       "  <thead>\n",
       "    <tr style=\"text-align: right;\">\n",
       "      <th></th>\n",
       "      <th>business.value</th>\n",
       "      <th>count_visits.value</th>\n",
       "    </tr>\n",
       "  </thead>\n",
       "  <tbody>\n",
       "    <tr>\n",
       "      <th>0</th>\n",
       "      <td>https://purl.archive.org/purl/yelp/yelp_entiti...</td>\n",
       "      <td>52129</td>\n",
       "    </tr>\n",
       "    <tr>\n",
       "      <th>1</th>\n",
       "      <td>https://purl.archive.org/purl/yelp/yelp_entiti...</td>\n",
       "      <td>40092</td>\n",
       "    </tr>\n",
       "    <tr>\n",
       "      <th>2</th>\n",
       "      <td>https://purl.archive.org/purl/yelp/yelp_entiti...</td>\n",
       "      <td>37553</td>\n",
       "    </tr>\n",
       "    <tr>\n",
       "      <th>3</th>\n",
       "      <td>https://purl.archive.org/purl/yelp/yelp_entiti...</td>\n",
       "      <td>37511</td>\n",
       "    </tr>\n",
       "    <tr>\n",
       "      <th>4</th>\n",
       "      <td>https://purl.archive.org/purl/yelp/yelp_entiti...</td>\n",
       "      <td>31163</td>\n",
       "    </tr>\n",
       "    <tr>\n",
       "      <th>5</th>\n",
       "      <td>https://purl.archive.org/purl/yelp/yelp_entiti...</td>\n",
       "      <td>29599</td>\n",
       "    </tr>\n",
       "    <tr>\n",
       "      <th>6</th>\n",
       "      <td>https://purl.archive.org/purl/yelp/yelp_entiti...</td>\n",
       "      <td>28917</td>\n",
       "    </tr>\n",
       "    <tr>\n",
       "      <th>7</th>\n",
       "      <td>https://purl.archive.org/purl/yelp/yelp_entiti...</td>\n",
       "      <td>21527</td>\n",
       "    </tr>\n",
       "    <tr>\n",
       "      <th>8</th>\n",
       "      <td>https://purl.archive.org/purl/yelp/yelp_entiti...</td>\n",
       "      <td>21478</td>\n",
       "    </tr>\n",
       "    <tr>\n",
       "      <th>9</th>\n",
       "      <td>https://purl.archive.org/purl/yelp/yelp_entiti...</td>\n",
       "      <td>18604</td>\n",
       "    </tr>\n",
       "  </tbody>\n",
       "</table>\n",
       "</div>"
      ],
      "text/plain": [
       "                                      business.value count_visits.value\n",
       "0  https://purl.archive.org/purl/yelp/yelp_entiti...              52129\n",
       "1  https://purl.archive.org/purl/yelp/yelp_entiti...              40092\n",
       "2  https://purl.archive.org/purl/yelp/yelp_entiti...              37553\n",
       "3  https://purl.archive.org/purl/yelp/yelp_entiti...              37511\n",
       "4  https://purl.archive.org/purl/yelp/yelp_entiti...              31163\n",
       "5  https://purl.archive.org/purl/yelp/yelp_entiti...              29599\n",
       "6  https://purl.archive.org/purl/yelp/yelp_entiti...              28917\n",
       "7  https://purl.archive.org/purl/yelp/yelp_entiti...              21527\n",
       "8  https://purl.archive.org/purl/yelp/yelp_entiti...              21478\n",
       "9  https://purl.archive.org/purl/yelp/yelp_entiti...              18604"
      ]
     },
     "execution_count": 52,
     "metadata": {},
     "output_type": "execute_result"
    }
   ],
   "source": [
    "sparql_query = \"\"\"\n",
    "SELECT ?business COUNT(?visit) AS ?count_visits\n",
    "WHERE {\n",
    "    ?business schema:checkinTime ?visit .\n",
    "}\n",
    "GROUP BY ?business \n",
    "ORDER BY DESC(COUNT(?visit))\n",
    "LIMIT 10\n",
    "\n",
    "\"\"\"\n",
    "\n",
    "run_query(query=sparql_query, as_dataframe=True)"
   ]
  },
  {
   "cell_type": "code",
   "execution_count": 20,
   "metadata": {},
   "outputs": [
    {
     "data": {
      "text/plain": [
       "business_id           \n",
       "-QI8Qi8XWH3D8y8ethnajA    52144\n",
       "FEXhWNCMkv22qG04E83Qjg    40109\n",
       "Eb1XmmLWyt_way5NNZ7-Pw    37562\n",
       "c_4c5rJECZSfNgFj7frwHQ    37518\n",
       "4i4kmYm9wgSNyF1b6gKphg    31168\n",
       "8O35ji_yOMVJmZ6bl96yhQ    29606\n",
       "VQcCL9PiNL_wkGf-uF3fjg    28927\n",
       "ac1AeYqs8Z4_e2X5M3if2A    21542\n",
       "QTbahs-GVuWYL5yfdjH34A    21487\n",
       "ytynqOUb3hjKeJfRj5Tshw    18615\n",
       "dtype: int64"
      ]
     },
     "execution_count": 20,
     "metadata": {},
     "output_type": "execute_result"
    }
   ],
   "source": [
    "checkins.value_counts(subset=[\"business_id\"], sort=True, ascending=False).head(10)"
   ]
  },
  {
   "attachments": {},
   "cell_type": "markdown",
   "metadata": {
    "collapsed": false
   },
   "source": [
    "### How many people have written a review or tip on Yelp?\n",
    "TO DO: Not correct result, may be because reviews DF can contain \"...\" reviews which are NOT added to the KG."
   ]
  },
  {
   "cell_type": "code",
   "execution_count": 63,
   "metadata": {
    "collapsed": false,
    "pycharm": {
     "name": "#%%\n"
    }
   },
   "outputs": [
    {
     "data": {
      "text/html": [
       "<div>\n",
       "<style scoped>\n",
       "    .dataframe tbody tr th:only-of-type {\n",
       "        vertical-align: middle;\n",
       "    }\n",
       "\n",
       "    .dataframe tbody tr th {\n",
       "        vertical-align: top;\n",
       "    }\n",
       "\n",
       "    .dataframe thead th {\n",
       "        text-align: right;\n",
       "    }\n",
       "</style>\n",
       "<table border=\"1\" class=\"dataframe\">\n",
       "  <thead>\n",
       "    <tr style=\"text-align: right;\">\n",
       "      <th></th>\n",
       "      <th>count_users.value</th>\n",
       "    </tr>\n",
       "  </thead>\n",
       "  <tbody>\n",
       "    <tr>\n",
       "      <th>0</th>\n",
       "      <td>1987897</td>\n",
       "    </tr>\n",
       "  </tbody>\n",
       "</table>\n",
       "</div>"
      ],
      "text/plain": [
       "  count_users.value\n",
       "0           1987897"
      ]
     },
     "execution_count": 63,
     "metadata": {},
     "output_type": "execute_result"
    }
   ],
   "source": [
    "sparql_query = \"\"\"\n",
    "SELECT COUNT(DISTINCT(?user)) AS ?countUsers\n",
    "WHERE {\n",
    "    ?user rdfs:Class schema:Person .\n",
    "    ?review schema:author ?user .\n",
    "}\n",
    "\"\"\"\n",
    "\n",
    "run_query(query=sparql_query, as_dataframe=True)"
   ]
  },
  {
   "cell_type": "code",
   "execution_count": 7,
   "metadata": {
    "collapsed": false,
    "pycharm": {
     "name": "#%%\n"
    }
   },
   "outputs": [
    {
     "data": {
      "text/plain": [
       "1987929"
      ]
     },
     "execution_count": 7,
     "metadata": {},
     "output_type": "execute_result"
    }
   ],
   "source": [
    "reviews.drop_duplicates(subset=['user_id']).shape[0]"
   ]
  },
  {
   "attachments": {},
   "cell_type": "markdown",
   "metadata": {
    "collapsed": false,
    "pycharm": {
     "name": "#%% md\n"
    }
   },
   "source": [
    "### How many users have 10 friends?"
   ]
  },
  {
   "cell_type": "code",
   "execution_count": 5,
   "metadata": {},
   "outputs": [
    {
     "data": {
      "text/html": [
       "<div>\n",
       "<style scoped>\n",
       "    .dataframe tbody tr th:only-of-type {\n",
       "        vertical-align: middle;\n",
       "    }\n",
       "\n",
       "    .dataframe tbody tr th {\n",
       "        vertical-align: top;\n",
       "    }\n",
       "\n",
       "    .dataframe thead th {\n",
       "        text-align: right;\n",
       "    }\n",
       "</style>\n",
       "<table border=\"1\" class=\"dataframe\">\n",
       "  <thead>\n",
       "    <tr style=\"text-align: right;\">\n",
       "      <th></th>\n",
       "      <th>callret-0.value</th>\n",
       "    </tr>\n",
       "  </thead>\n",
       "  <tbody>\n",
       "    <tr>\n",
       "      <th>0</th>\n",
       "      <td>13579</td>\n",
       "    </tr>\n",
       "  </tbody>\n",
       "</table>\n",
       "</div>"
      ],
      "text/plain": [
       "  callret-0.value\n",
       "0           13579"
      ]
     },
     "execution_count": 5,
     "metadata": {},
     "output_type": "execute_result"
    }
   ],
   "source": [
    "sparql_query = \"\"\"\n",
    "SELECT COUNT(*) as ?usersWith10Friends\n",
    "WHERE {\n",
    "    SELECT ?user COUNT(?friend) AS ?countUsers\n",
    "    WHERE {\n",
    "        ?user rdfs:Class schema:Person .\n",
    "        ?user schema:knows ?friend .\n",
    "    }\n",
    "    GROUP BY ?user\n",
    "    HAVING (COUNT(?friend) = 10)\n",
    "}\n",
    "\"\"\"\n",
    "\n",
    "run_query(query=sparql_query, as_dataframe=True)"
   ]
  },
  {
   "cell_type": "code",
   "execution_count": 11,
   "metadata": {
    "collapsed": false,
    "pycharm": {
     "name": "#%%\n"
    }
   },
   "outputs": [
    {
     "data": {
      "text/plain": [
       "13579"
      ]
     },
     "execution_count": 11,
     "metadata": {},
     "output_type": "execute_result"
    }
   ],
   "source": [
    "users[\"amountFriends\"] = users[\"friends\"].apply(lambda x: len(x.split(\",\")))\n",
    "users[users[\"amountFriends\"] == 10].shape[0]"
   ]
  },
  {
   "attachments": {},
   "cell_type": "markdown",
   "metadata": {},
   "source": [
    "### How many friends does a user have on average?\n",
    "TO DO: Is not giving correct result"
   ]
  },
  {
   "cell_type": "code",
   "execution_count": 73,
   "metadata": {},
   "outputs": [
    {
     "data": {
      "text/html": [
       "<div>\n",
       "<style scoped>\n",
       "    .dataframe tbody tr th:only-of-type {\n",
       "        vertical-align: middle;\n",
       "    }\n",
       "\n",
       "    .dataframe tbody tr th {\n",
       "        vertical-align: top;\n",
       "    }\n",
       "\n",
       "    .dataframe thead th {\n",
       "        text-align: right;\n",
       "    }\n",
       "</style>\n",
       "<table border=\"1\" class=\"dataframe\">\n",
       "  <thead>\n",
       "    <tr style=\"text-align: right;\">\n",
       "      <th></th>\n",
       "      <th>averageFriends.value</th>\n",
       "    </tr>\n",
       "  </thead>\n",
       "  <tbody>\n",
       "    <tr>\n",
       "      <th>0</th>\n",
       "      <td>94.853611046508483</td>\n",
       "    </tr>\n",
       "  </tbody>\n",
       "</table>\n",
       "</div>"
      ],
      "text/plain": [
       "  averageFriends.value\n",
       "0   94.853611046508483"
      ]
     },
     "execution_count": 73,
     "metadata": {},
     "output_type": "execute_result"
    }
   ],
   "source": [
    "sparql_query = \"\"\"\n",
    "SELECT AVG(?numberOfFriends) as ?averageFriends\n",
    "WHERE { \n",
    "    SELECT COUNT(?friend) as ?numberOfFriends\n",
    "    WHERE {\n",
    "        ?user rdfs:Class schema:Person .\n",
    "        ?user schema:knows ?friend .\n",
    "    }\n",
    "    GROUP BY ?user\n",
    "}\n",
    "\"\"\"\n",
    "\n",
    "run_query(query=sparql_query, as_dataframe=True)"
   ]
  },
  {
   "cell_type": "code",
   "execution_count": null,
   "metadata": {},
   "outputs": [],
   "source": [
    "sparql_query = \"\"\"\n",
    "SELECT (?numberOfFriends / ?numberOfUsers) as ?averageFriends\n",
    "WHERE {\n",
    "    SELECT COUNT(?friend) as ?numberOfFriends \n",
    "    WHERE {\n",
    "        ?user rdfs:Class schema:Person .\n",
    "        ?user schema:knows ?friend .\n",
    "    }\n",
    "    SELECT COUNT(?user) as ?numberOfUsers\n",
    "    WHERE {\n",
    "        ?user rdfs:Class schema:Person .\n",
    "    }\n",
    "}\n",
    "\"\"\"\n",
    "\n",
    "run_query(query=sparql_query, as_dataframe=True)"
   ]
  },
  {
   "cell_type": "code",
   "execution_count": 26,
   "metadata": {},
   "outputs": [
    {
     "data": {
      "text/html": [
       "<div>\n",
       "<style scoped>\n",
       "    .dataframe tbody tr th:only-of-type {\n",
       "        vertical-align: middle;\n",
       "    }\n",
       "\n",
       "    .dataframe tbody tr th {\n",
       "        vertical-align: top;\n",
       "    }\n",
       "\n",
       "    .dataframe thead th {\n",
       "        text-align: right;\n",
       "    }\n",
       "</style>\n",
       "<table border=\"1\" class=\"dataframe\">\n",
       "  <thead>\n",
       "    <tr style=\"text-align: right;\">\n",
       "      <th></th>\n",
       "      <th>numberOfFriends.value</th>\n",
       "      <th>numberOfUsers.value</th>\n",
       "    </tr>\n",
       "  </thead>\n",
       "  <tbody>\n",
       "    <tr>\n",
       "      <th>0</th>\n",
       "      <td>105225474</td>\n",
       "      <td>105225474</td>\n",
       "    </tr>\n",
       "  </tbody>\n",
       "</table>\n",
       "</div>"
      ],
      "text/plain": [
       "  numberOfFriends.value numberOfUsers.value\n",
       "0             105225474           105225474"
      ]
     },
     "execution_count": 26,
     "metadata": {},
     "output_type": "execute_result"
    }
   ],
   "source": [
    "sparql_query = \"\"\"\n",
    "SELECT ?numberOfFriends ?numberOfUsers\n",
    "WHERE {\n",
    "    SELECT COUNT(?friend) as ?numberOfFriends COUNT(?user) as ?numberOfUsers\n",
    "    WHERE {\n",
    "        ?user rdfs:Class schema:Person .\n",
    "        ?user schema:knows ?friend .\n",
    "        }\n",
    "}\n",
    "\"\"\"\n",
    "\n",
    "run_query(query=sparql_query, as_dataframe=True)"
   ]
  },
  {
   "cell_type": "code",
   "execution_count": 12,
   "metadata": {},
   "outputs": [
    {
     "data": {
      "text/plain": [
       "53.375011381374385"
      ]
     },
     "execution_count": 12,
     "metadata": {},
     "output_type": "execute_result"
    }
   ],
   "source": [
    "# How many friends does a user have on average?\n",
    "users[\"amountFriends\"].mean()"
   ]
  },
  {
   "attachments": {},
   "cell_type": "markdown",
   "metadata": {
    "collapsed": false,
    "pycharm": {
     "name": "#%% md\n"
    }
   },
   "source": [
    "### How many users have authored 10 reviews?"
   ]
  },
  {
   "cell_type": "code",
   "execution_count": 84,
   "metadata": {
    "collapsed": false,
    "pycharm": {
     "name": "#%%\n"
    }
   },
   "outputs": [
    {
     "data": {
      "text/html": [
       "<div>\n",
       "<style scoped>\n",
       "    .dataframe tbody tr th:only-of-type {\n",
       "        vertical-align: middle;\n",
       "    }\n",
       "\n",
       "    .dataframe tbody tr th {\n",
       "        vertical-align: top;\n",
       "    }\n",
       "\n",
       "    .dataframe thead th {\n",
       "        text-align: right;\n",
       "    }\n",
       "</style>\n",
       "<table border=\"1\" class=\"dataframe\">\n",
       "  <thead>\n",
       "    <tr style=\"text-align: right;\">\n",
       "      <th></th>\n",
       "      <th>countUsers.value</th>\n",
       "    </tr>\n",
       "  </thead>\n",
       "  <tbody>\n",
       "    <tr>\n",
       "      <th>0</th>\n",
       "      <td>14119</td>\n",
       "    </tr>\n",
       "  </tbody>\n",
       "</table>\n",
       "</div>"
      ],
      "text/plain": [
       "  countUsers.value\n",
       "0            14119"
      ]
     },
     "execution_count": 84,
     "metadata": {},
     "output_type": "execute_result"
    }
   ],
   "source": [
    "sparql_query = \"\"\"\n",
    "SELECT COUNT(DISTINCT(?user)) AS ?countUsers\n",
    "WHERE {\n",
    "    SELECT ?user COUNT(?review) as ?numberOfReviews\n",
    "    WHERE {\n",
    "        ?user rdfs:Class schema:Person .\n",
    "        ?review schema:author ?user .\n",
    "    }\n",
    "    GROUP BY ?user\n",
    "    HAVING (COUNT(?review) = 10)\n",
    "}\n",
    "\"\"\"\n",
    "\n",
    "run_query(query=sparql_query, as_dataframe=True)"
   ]
  },
  {
   "cell_type": "code",
   "execution_count": 17,
   "metadata": {
    "collapsed": false,
    "pycharm": {
     "name": "#%%\n"
    }
   },
   "outputs": [
    {
     "data": {
      "text/plain": [
       "14119"
      ]
     },
     "execution_count": 17,
     "metadata": {},
     "output_type": "execute_result"
    }
   ],
   "source": [
    "# Count how many users have authored 10 reviews\n",
    "reviews.groupby(\"user_id\").size().reset_index(name=\"count\").query(\"count == 10\").shape[0]"
   ]
  },
  {
   "attachments": {},
   "cell_type": "markdown",
   "metadata": {},
   "source": [
    "### How many reviews did users make in May 2018?"
   ]
  },
  {
   "cell_type": "code",
   "execution_count": 12,
   "metadata": {},
   "outputs": [
    {
     "data": {
      "text/html": [
       "<div>\n",
       "<style scoped>\n",
       "    .dataframe tbody tr th:only-of-type {\n",
       "        vertical-align: middle;\n",
       "    }\n",
       "\n",
       "    .dataframe tbody tr th {\n",
       "        vertical-align: top;\n",
       "    }\n",
       "\n",
       "    .dataframe thead th {\n",
       "        text-align: right;\n",
       "    }\n",
       "</style>\n",
       "<table border=\"1\" class=\"dataframe\">\n",
       "  <thead>\n",
       "    <tr style=\"text-align: right;\">\n",
       "      <th></th>\n",
       "      <th>year.value</th>\n",
       "      <th>month.value</th>\n",
       "      <th>countReviews.value</th>\n",
       "    </tr>\n",
       "  </thead>\n",
       "  <tbody>\n",
       "    <tr>\n",
       "      <th>0</th>\n",
       "      <td>2018</td>\n",
       "      <td>5</td>\n",
       "      <td>79434</td>\n",
       "    </tr>\n",
       "  </tbody>\n",
       "</table>\n",
       "</div>"
      ],
      "text/plain": [
       "  year.value month.value countReviews.value\n",
       "0       2018           5              79434"
      ]
     },
     "execution_count": 12,
     "metadata": {},
     "output_type": "execute_result"
    }
   ],
   "source": [
    "sparql_query = \"\"\"\n",
    "SELECT ?year ?month COUNT(?review) as ?countReviews\n",
    "WHERE {\n",
    "    ?review rdfs:Class schema:UserReview .\n",
    "    ?review schema:dateCreated ?date .\n",
    "    BIND (month(?date) as ?month) .\n",
    "    BIND (year(?date) as ?year) .\n",
    "    VALUES ?year {2018}\n",
    "    VALUES ?month {5}\n",
    "}\n",
    "GROUP BY ?year ?month\n",
    "\"\"\"\n",
    "\n",
    "run_query(query=sparql_query, as_dataframe=True)"
   ]
  },
  {
   "cell_type": "code",
   "execution_count": 3,
   "metadata": {},
   "outputs": [
    {
     "data": {
      "text/plain": [
       "79434"
      ]
     },
     "execution_count": 3,
     "metadata": {},
     "output_type": "execute_result"
    }
   ],
   "source": [
    "reviews['YEAR'] = reviews.date.dt.year\n",
    "reviews['MONTH'] = reviews.date.dt.month\n",
    "reviews.query(\"YEAR == 2018 & MONTH == 5\").shape[0]"
   ]
  }
 ],
 "metadata": {
  "kernelspec": {
   "display_name": "Python 3",
   "language": "python",
   "name": "python3"
  },
  "language_info": {
   "codemirror_mode": {
    "name": "ipython",
    "version": 3
   },
   "file_extension": ".py",
   "mimetype": "text/x-python",
   "name": "python",
   "nbconvert_exporter": "python",
   "pygments_lexer": "ipython3",
   "version": "3.10.6 (main, Sep  5 2022, 08:14:40) [GCC 9.4.0]"
  },
  "vscode": {
   "interpreter": {
    "hash": "7e1998ff7f8aa20ada591c520b972326324e5ea05489af9e422744c7c09f6dad"
   }
  }
 },
 "nbformat": 4,
 "nbformat_minor": 0
}
