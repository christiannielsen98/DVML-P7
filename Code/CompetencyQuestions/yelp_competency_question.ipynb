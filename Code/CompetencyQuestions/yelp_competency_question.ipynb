{
 "cells": [
  {
   "cell_type": "code",
   "execution_count": 1,
   "metadata": {
    "collapsed": false,
    "pycharm": {
     "name": "#%%\n"
    }
   },
   "outputs": [],
   "source": [
    "import pandas as pd\n",
    "import numpy as np\n",
    "import json\n",
    "from Code.UtilityFunctions.get_data_path import get_path\n",
    "from Code.UtilityFunctions.run_query import run_query\n",
    "from Code.UtilityFunctions.dictionary_functions import flatten_dictionary"
   ]
  },
  {
   "cell_type": "code",
   "execution_count": 2,
   "metadata": {},
   "outputs": [],
   "source": [
    "pd.set_option('display.max_rows', 500)\n",
    "pd.set_option('display.max_colwidth', 500)"
   ]
  },
  {
   "attachments": {},
   "cell_type": "markdown",
   "metadata": {},
   "source": [
    "___\n",
    "___\n",
    "___\n",
    "# **DO NOT RUN ALL LINES BELOW. SOME YELP ENTITIES ARE VERY LARGE, AND YOU MIGHT RUN OUT OF RAM.**"
   ]
  },
  {
   "cell_type": "code",
   "execution_count": 18,
   "metadata": {
    "collapsed": false,
    "pycharm": {
     "name": "#%%\n"
    }
   },
   "outputs": [],
   "source": [
    "business = pd.read_json(get_path(\"yelp_academic_dataset_business.json\"), lines=True)\n",
    "business['categories'] = business['categories'].str.split(', ', expand=False)"
   ]
  },
  {
   "cell_type": "code",
   "execution_count": null,
   "metadata": {
    "collapsed": false,
    "pycharm": {
     "name": "#%%\n"
    }
   },
   "outputs": [],
   "source": [
    "users = pd.read_json(get_path(\"yelp_academic_dataset_user.json\"), lines=True)"
   ]
  },
  {
   "cell_type": "code",
   "execution_count": 2,
   "metadata": {},
   "outputs": [],
   "source": [
    "reviews = pd.read_json(get_path(\"yelp_academic_dataset_review.json\"), lines=True)\n",
    "#reviews = pd.merge(left=reviews, right=business, how='left', left_on='business_id', right_on='business_id')\n",
    "#reviews = pd.merge(left=reviews, right=users, how='left', left_on='user_id', right_on='user_id')"
   ]
  },
  {
   "cell_type": "code",
   "execution_count": null,
   "metadata": {},
   "outputs": [],
   "source": [
    "reviews.head(10)"
   ]
  },
  {
   "cell_type": "code",
   "execution_count": null,
   "metadata": {},
   "outputs": [],
   "source": [
    "checkins = pd.read_json(get_path(\"yelp_academic_dataset_checkin.json\"), lines=True)\n",
    "checkins['date'] = checkins['date'].str.split(', ', expand=False)\n",
    "checkins = checkins.explode('date')"
   ]
  },
  {
   "cell_type": "code",
   "execution_count": 3,
   "metadata": {},
   "outputs": [],
   "source": [
    "tips = pd.read_json(get_path(\"yelp_academic_dataset_tip.json\"), lines=True)"
   ]
  },
  {
   "attachments": {},
   "cell_type": "markdown",
   "metadata": {},
   "source": [
    "___\n",
    "___\n",
    "___\n",
    "### CQ 1: How many different types of businesses are defined in Yelp?"
   ]
  },
  {
   "cell_type": "code",
   "execution_count": 3,
   "metadata": {},
   "outputs": [
    {
     "data": {
      "text/html": [
       "<div>\n",
       "<style scoped>\n",
       "    .dataframe tbody tr th:only-of-type {\n",
       "        vertical-align: middle;\n",
       "    }\n",
       "\n",
       "    .dataframe tbody tr th {\n",
       "        vertical-align: top;\n",
       "    }\n",
       "\n",
       "    .dataframe thead th {\n",
       "        text-align: right;\n",
       "    }\n",
       "</style>\n",
       "<table border=\"1\" class=\"dataframe\">\n",
       "  <thead>\n",
       "    <tr style=\"text-align: right;\">\n",
       "      <th></th>\n",
       "      <th>callret-0.value</th>\n",
       "    </tr>\n",
       "  </thead>\n",
       "  <tbody>\n",
       "    <tr>\n",
       "      <th>0</th>\n",
       "      <td>1311</td>\n",
       "    </tr>\n",
       "  </tbody>\n",
       "</table>\n",
       "</div>"
      ],
      "text/plain": [
       "  callret-0.value\n",
       "0            1311"
      ]
     },
     "execution_count": 3,
     "metadata": {},
     "output_type": "execute_result"
    }
   ],
   "source": [
    "sparql_query =\"\"\"\n",
    "\n",
    "SELECT COUNT(DISTINCT(?category))\n",
    "WHERE {\n",
    "    ?business schema:category ?category .\n",
    "}\n",
    "\n",
    "\"\"\"\n",
    "\n",
    "run_query(query=sparql_query, as_dataframe=True)"
   ]
  },
  {
   "cell_type": "code",
   "execution_count": 5,
   "metadata": {},
   "outputs": [
    {
     "data": {
      "text/plain": [
       "1311"
      ]
     },
     "execution_count": 5,
     "metadata": {},
     "output_type": "execute_result"
    }
   ],
   "source": [
    "unique_categories = {category for sublist in business['categories'] if sublist for category in sublist}\n",
    "len(unique_categories)"
   ]
  },
  {
   "attachments": {},
   "cell_type": "markdown",
   "metadata": {},
   "source": [
    "### CQ 2: How many businesses of type \"Restaurants\" exist?"
   ]
  },
  {
   "cell_type": "code",
   "execution_count": 4,
   "metadata": {},
   "outputs": [
    {
     "data": {
      "text/html": [
       "<div>\n",
       "<style scoped>\n",
       "    .dataframe tbody tr th:only-of-type {\n",
       "        vertical-align: middle;\n",
       "    }\n",
       "\n",
       "    .dataframe tbody tr th {\n",
       "        vertical-align: top;\n",
       "    }\n",
       "\n",
       "    .dataframe thead th {\n",
       "        text-align: right;\n",
       "    }\n",
       "</style>\n",
       "<table border=\"1\" class=\"dataframe\">\n",
       "  <thead>\n",
       "    <tr style=\"text-align: right;\">\n",
       "      <th></th>\n",
       "      <th>numberRestaurants.value</th>\n",
       "    </tr>\n",
       "  </thead>\n",
       "  <tbody>\n",
       "    <tr>\n",
       "      <th>0</th>\n",
       "      <td>52268</td>\n",
       "    </tr>\n",
       "  </tbody>\n",
       "</table>\n",
       "</div>"
      ],
      "text/plain": [
       "  numberRestaurants.value\n",
       "0                   52268"
      ]
     },
     "execution_count": 4,
     "metadata": {},
     "output_type": "execute_result"
    }
   ],
   "source": [
    "sparql_query = \"\"\"\n",
    "\n",
    "SELECT COUNT(DISTINCT(?business)) AS ?numberRestaurants\n",
    "WHERE {\n",
    "    ?business schema:category yelpcat:Restaurants .\n",
    "}\n",
    "\n",
    "\"\"\"\n",
    "\n",
    "run_query(query=sparql_query, as_dataframe=True)"
   ]
  },
  {
   "cell_type": "code",
   "execution_count": 7,
   "metadata": {},
   "outputs": [
    {
     "name": "stdout",
     "output_type": "stream",
     "text": [
      "52268\n"
     ]
    }
   ],
   "source": [
    "counter = 0\n",
    "for row in business['categories']:\n",
    "    if row is not None and \"Restaurants\" in row:\n",
    "        counter += 1\n",
    "print(counter)"
   ]
  },
  {
   "attachments": {},
   "cell_type": "markdown",
   "metadata": {
    "collapsed": false,
    "pycharm": {
     "name": "#%% md\n"
    }
   },
   "source": [
    "### CQ 3: How many businesses of type Restaurants have been reviewed?"
   ]
  },
  {
   "cell_type": "code",
   "execution_count": 16,
   "metadata": {},
   "outputs": [
    {
     "data": {
      "text/html": [
       "<div>\n",
       "<style scoped>\n",
       "    .dataframe tbody tr th:only-of-type {\n",
       "        vertical-align: middle;\n",
       "    }\n",
       "\n",
       "    .dataframe tbody tr th {\n",
       "        vertical-align: top;\n",
       "    }\n",
       "\n",
       "    .dataframe thead th {\n",
       "        text-align: right;\n",
       "    }\n",
       "</style>\n",
       "<table border=\"1\" class=\"dataframe\">\n",
       "  <thead>\n",
       "    <tr style=\"text-align: right;\">\n",
       "      <th></th>\n",
       "      <th>numberRestaurants.value</th>\n",
       "    </tr>\n",
       "  </thead>\n",
       "  <tbody>\n",
       "    <tr>\n",
       "      <th>0</th>\n",
       "      <td>52268</td>\n",
       "    </tr>\n",
       "  </tbody>\n",
       "</table>\n",
       "</div>"
      ],
      "text/plain": [
       "  numberRestaurants.value\n",
       "0                   52268"
      ]
     },
     "execution_count": 16,
     "metadata": {},
     "output_type": "execute_result"
    }
   ],
   "source": [
    "sparql_query = \"\"\"\n",
    "SELECT COUNT(DISTINCT ?business) AS ?numberRestaurants\n",
    "WHERE {\n",
    "    ?review schema:about ?business .\n",
    "    ?business schema:category yelpcat:Restaurants .\n",
    "}\n",
    "\"\"\"\n",
    "\n",
    "run_query(query=sparql_query, as_dataframe=True)"
   ]
  },
  {
   "cell_type": "code",
   "execution_count": 7,
   "metadata": {
    "collapsed": false,
    "pycharm": {
     "name": "#%%\n"
    }
   },
   "outputs": [
    {
     "data": {
      "text/plain": [
       "52268"
      ]
     },
     "execution_count": 7,
     "metadata": {},
     "output_type": "execute_result"
    }
   ],
   "source": [
    "review_unique_business = reviews.drop_duplicates(subset=['business_id'])\n",
    "mask = review_unique_business['categories'].apply(lambda x: x is not None and \"Restaurants\" in x)\n",
    "len(review_unique_business[mask])"
   ]
  },
  {
   "attachments": {},
   "cell_type": "markdown",
   "metadata": {
    "collapsed": false,
    "pycharm": {
     "name": "#%% md\n"
    }
   },
   "source": [
    "### CQ 4: How many businesses have been reviewed?"
   ]
  },
  {
   "cell_type": "code",
   "execution_count": 7,
   "metadata": {
    "collapsed": false,
    "pycharm": {
     "name": "#%%\n"
    }
   },
   "outputs": [
    {
     "data": {
      "text/html": [
       "<div>\n",
       "<style scoped>\n",
       "    .dataframe tbody tr th:only-of-type {\n",
       "        vertical-align: middle;\n",
       "    }\n",
       "\n",
       "    .dataframe tbody tr th {\n",
       "        vertical-align: top;\n",
       "    }\n",
       "\n",
       "    .dataframe thead th {\n",
       "        text-align: right;\n",
       "    }\n",
       "</style>\n",
       "<table border=\"1\" class=\"dataframe\">\n",
       "  <thead>\n",
       "    <tr style=\"text-align: right;\">\n",
       "      <th></th>\n",
       "      <th>callret-0.value</th>\n",
       "    </tr>\n",
       "  </thead>\n",
       "  <tbody>\n",
       "    <tr>\n",
       "      <th>0</th>\n",
       "      <td>150346</td>\n",
       "    </tr>\n",
       "  </tbody>\n",
       "</table>\n",
       "</div>"
      ],
      "text/plain": [
       "  callret-0.value\n",
       "0          150346"
      ]
     },
     "execution_count": 7,
     "metadata": {},
     "output_type": "execute_result"
    }
   ],
   "source": [
    "sparql_query = \"\"\"\n",
    "\n",
    "SELECT COUNT(DISTINCT(?business))\n",
    "WHERE {\n",
    "    ?review schema:about ?business .\n",
    "    ?review rdfs:Class schema:UserReview .\n",
    "}\n",
    "\n",
    "\"\"\"\n",
    "\n",
    "run_query(query=sparql_query, as_dataframe=True)"
   ]
  },
  {
   "cell_type": "code",
   "execution_count": 32,
   "metadata": {
    "collapsed": false,
    "pycharm": {
     "name": "#%%\n"
    }
   },
   "outputs": [
    {
     "data": {
      "text/plain": [
       "150346"
      ]
     },
     "execution_count": 32,
     "metadata": {},
     "output_type": "execute_result"
    }
   ],
   "source": [
    "review_unique_business = reviews.drop_duplicates(subset=['business_id'])\n",
    "len(review_unique_business)"
   ]
  },
  {
   "attachments": {},
   "cell_type": "markdown",
   "metadata": {
    "collapsed": false,
    "pycharm": {
     "name": "#%% md\n"
    }
   },
   "source": [
    "### CQ 5: How many businesses have, on average, a rating of 4.5?"
   ]
  },
  {
   "cell_type": "code",
   "execution_count": 23,
   "metadata": {},
   "outputs": [
    {
     "data": {
      "text/html": [
       "<div>\n",
       "<style scoped>\n",
       "    .dataframe tbody tr th:only-of-type {\n",
       "        vertical-align: middle;\n",
       "    }\n",
       "\n",
       "    .dataframe tbody tr th {\n",
       "        vertical-align: top;\n",
       "    }\n",
       "\n",
       "    .dataframe thead th {\n",
       "        text-align: right;\n",
       "    }\n",
       "</style>\n",
       "<table border=\"1\" class=\"dataframe\">\n",
       "  <thead>\n",
       "    <tr style=\"text-align: right;\">\n",
       "      <th></th>\n",
       "      <th>callret-0.value</th>\n",
       "    </tr>\n",
       "  </thead>\n",
       "  <tbody>\n",
       "    <tr>\n",
       "      <th>0</th>\n",
       "      <td>27181</td>\n",
       "    </tr>\n",
       "  </tbody>\n",
       "</table>\n",
       "</div>"
      ],
      "text/plain": [
       "  callret-0.value\n",
       "0           27181"
      ]
     },
     "execution_count": 23,
     "metadata": {},
     "output_type": "execute_result"
    }
   ],
   "source": [
    "sparql_query = \"\"\"\n",
    "SELECT COUNT(DISTINCT(?business))\n",
    "WHERE {\n",
    "    ?business schema:aggregateRating ?rating .\n",
    "    FILTER (?rating = 4.5) .\n",
    "}\n",
    "\n",
    "\"\"\"\n",
    "\n",
    "run_query(query=sparql_query, as_dataframe=True)"
   ]
  },
  {
   "cell_type": "code",
   "execution_count": 49,
   "metadata": {
    "collapsed": false,
    "pycharm": {
     "name": "#%%\n"
    }
   },
   "outputs": [
    {
     "data": {
      "text/plain": [
       "stars\n",
       "4.5    27181\n",
       "Name: stars, dtype: int64"
      ]
     },
     "execution_count": 49,
     "metadata": {},
     "output_type": "execute_result"
    }
   ],
   "source": [
    "business[business['stars'] == 4.5].groupby('stars')['stars'].count()"
   ]
  },
  {
   "attachments": {},
   "cell_type": "markdown",
   "metadata": {
    "collapsed": false,
    "pycharm": {
     "name": "#%% md\n"
    }
   },
   "source": [
    "### CQ 6: What is the average rating across businesses?"
   ]
  },
  {
   "cell_type": "code",
   "execution_count": 11,
   "metadata": {
    "collapsed": false,
    "pycharm": {
     "name": "#%%\n"
    }
   },
   "outputs": [
    {
     "data": {
      "text/html": [
       "<div>\n",
       "<style scoped>\n",
       "    .dataframe tbody tr th:only-of-type {\n",
       "        vertical-align: middle;\n",
       "    }\n",
       "\n",
       "    .dataframe tbody tr th {\n",
       "        vertical-align: top;\n",
       "    }\n",
       "\n",
       "    .dataframe thead th {\n",
       "        text-align: right;\n",
       "    }\n",
       "</style>\n",
       "<table border=\"1\" class=\"dataframe\">\n",
       "  <thead>\n",
       "    <tr style=\"text-align: right;\">\n",
       "      <th></th>\n",
       "      <th>averagerating.type</th>\n",
       "      <th>averagerating.datatype</th>\n",
       "      <th>averagerating.value</th>\n",
       "    </tr>\n",
       "  </thead>\n",
       "  <tbody>\n",
       "    <tr>\n",
       "      <th>0</th>\n",
       "      <td>typed-literal</td>\n",
       "      <td>http://www.w3.org/2001/XMLSchema#decimal</td>\n",
       "      <td>3.59672355766033</td>\n",
       "    </tr>\n",
       "  </tbody>\n",
       "</table>\n",
       "</div>"
      ],
      "text/plain": [
       "  averagerating.type                    averagerating.datatype  \\\n",
       "0      typed-literal  http://www.w3.org/2001/XMLSchema#decimal   \n",
       "\n",
       "  averagerating.value  \n",
       "0    3.59672355766033  "
      ]
     },
     "execution_count": 11,
     "metadata": {},
     "output_type": "execute_result"
    }
   ],
   "source": [
    "sparql_query = \"\"\"\n",
    "SELECT AVG(?rating) as ?averagerating\n",
    "WHERE {\n",
    "    ?business schema:aggregateRating ?rating .\n",
    "}\n",
    "\n",
    "\"\"\"\n",
    "\n",
    "run_query(query=sparql_query, as_dataframe=True)"
   ]
  },
  {
   "cell_type": "code",
   "execution_count": 25,
   "metadata": {
    "collapsed": false,
    "pycharm": {
     "name": "#%%\n"
    }
   },
   "outputs": [
    {
     "data": {
      "text/plain": [
       "3.5967235576603303"
      ]
     },
     "execution_count": 25,
     "metadata": {},
     "output_type": "execute_result"
    }
   ],
   "source": [
    "business['stars'].mean()"
   ]
  },
  {
   "attachments": {},
   "cell_type": "markdown",
   "metadata": {
    "collapsed": false
   },
   "source": [
    "### CQ 7: How many businesses have been reviewed in Santa Barbara, CA?\n",
    "\n",
    "TO DO: RUN AGAIN"
   ]
  },
  {
   "cell_type": "code",
   "execution_count": 53,
   "metadata": {},
   "outputs": [
    {
     "data": {
      "text/html": [
       "<div>\n",
       "<style scoped>\n",
       "    .dataframe tbody tr th:only-of-type {\n",
       "        vertical-align: middle;\n",
       "    }\n",
       "\n",
       "    .dataframe tbody tr th {\n",
       "        vertical-align: top;\n",
       "    }\n",
       "\n",
       "    .dataframe thead th {\n",
       "        text-align: right;\n",
       "    }\n",
       "</style>\n",
       "<table border=\"1\" class=\"dataframe\">\n",
       "  <thead>\n",
       "    <tr style=\"text-align: right;\">\n",
       "      <th></th>\n",
       "      <th>business.value</th>\n",
       "    </tr>\n",
       "  </thead>\n",
       "  <tbody>\n",
       "    <tr>\n",
       "      <th>0</th>\n",
       "      <td>https://purl.archive.org/purl/yelp/yelp_entities#business_id/oY6osC4Ch3PvguA7D1hh_w</td>\n",
       "    </tr>\n",
       "    <tr>\n",
       "      <th>1</th>\n",
       "      <td>https://purl.archive.org/purl/yelp/yelp_entities#business_id/--_9CAxgfXZmoFdNIRrhHA</td>\n",
       "    </tr>\n",
       "    <tr>\n",
       "      <th>2</th>\n",
       "      <td>https://purl.archive.org/purl/yelp/yelp_entities#business_id/-2Axhv9AZ_n7qjQefECpVw</td>\n",
       "    </tr>\n",
       "    <tr>\n",
       "      <th>3</th>\n",
       "      <td>https://purl.archive.org/purl/yelp/yelp_entities#business_id/-3-6BB10tIWNKGEF0Es2BA</td>\n",
       "    </tr>\n",
       "    <tr>\n",
       "      <th>4</th>\n",
       "      <td>https://purl.archive.org/purl/yelp/yelp_entities#business_id/-4dYswJy7SPcbcERvitmIg</td>\n",
       "    </tr>\n",
       "    <tr>\n",
       "      <th>...</th>\n",
       "      <td>...</td>\n",
       "    </tr>\n",
       "    <tr>\n",
       "      <th>150341</th>\n",
       "      <td>https://purl.archive.org/purl/yelp/yelp_entities#business_id/zvVDXVV9Ib8ZjYhPCl0r4Q</td>\n",
       "    </tr>\n",
       "    <tr>\n",
       "      <th>150342</th>\n",
       "      <td>https://purl.archive.org/purl/yelp/yelp_entities#business_id/zwYYxQyUJcx0fOs4WrAn8Q</td>\n",
       "    </tr>\n",
       "    <tr>\n",
       "      <th>150343</th>\n",
       "      <td>https://purl.archive.org/purl/yelp/yelp_entities#business_id/zx7XemDyT296vmKnFtZSyQ</td>\n",
       "    </tr>\n",
       "    <tr>\n",
       "      <th>150344</th>\n",
       "      <td>https://purl.archive.org/purl/yelp/yelp_entities#business_id/zymV2vdJfHNH63UQ7aUFYw</td>\n",
       "    </tr>\n",
       "    <tr>\n",
       "      <th>150345</th>\n",
       "      <td>https://purl.archive.org/purl/yelp/yelp_entities#business_id/zzW99n4VJr1Atte1Uhub1A</td>\n",
       "    </tr>\n",
       "  </tbody>\n",
       "</table>\n",
       "<p>150346 rows × 1 columns</p>\n",
       "</div>"
      ],
      "text/plain": [
       "                                                                             business.value\n",
       "0       https://purl.archive.org/purl/yelp/yelp_entities#business_id/oY6osC4Ch3PvguA7D1hh_w\n",
       "1       https://purl.archive.org/purl/yelp/yelp_entities#business_id/--_9CAxgfXZmoFdNIRrhHA\n",
       "2       https://purl.archive.org/purl/yelp/yelp_entities#business_id/-2Axhv9AZ_n7qjQefECpVw\n",
       "3       https://purl.archive.org/purl/yelp/yelp_entities#business_id/-3-6BB10tIWNKGEF0Es2BA\n",
       "4       https://purl.archive.org/purl/yelp/yelp_entities#business_id/-4dYswJy7SPcbcERvitmIg\n",
       "...                                                                                     ...\n",
       "150341  https://purl.archive.org/purl/yelp/yelp_entities#business_id/zvVDXVV9Ib8ZjYhPCl0r4Q\n",
       "150342  https://purl.archive.org/purl/yelp/yelp_entities#business_id/zwYYxQyUJcx0fOs4WrAn8Q\n",
       "150343  https://purl.archive.org/purl/yelp/yelp_entities#business_id/zx7XemDyT296vmKnFtZSyQ\n",
       "150344  https://purl.archive.org/purl/yelp/yelp_entities#business_id/zymV2vdJfHNH63UQ7aUFYw\n",
       "150345  https://purl.archive.org/purl/yelp/yelp_entities#business_id/zzW99n4VJr1Atte1Uhub1A\n",
       "\n",
       "[150346 rows x 1 columns]"
      ]
     },
     "execution_count": 53,
     "metadata": {},
     "output_type": "execute_result"
    }
   ],
   "source": [
    "sparql_query = \"\"\"\n",
    "SELECT ?state ?city ?business\n",
    "WHERE {\n",
    "    ?business rdfs:Class schema:LocalBusiness .\n",
    "}\n",
    "\n",
    "\"\"\"\n",
    "\n",
    "run_query(query=sparql_query, as_dataframe=True)"
   ]
  },
  {
   "cell_type": "code",
   "execution_count": 77,
   "metadata": {},
   "outputs": [
    {
     "data": {
      "text/html": [
       "<div>\n",
       "<style scoped>\n",
       "    .dataframe tbody tr th:only-of-type {\n",
       "        vertical-align: middle;\n",
       "    }\n",
       "\n",
       "    .dataframe tbody tr th {\n",
       "        vertical-align: top;\n",
       "    }\n",
       "\n",
       "    .dataframe thead th {\n",
       "        text-align: right;\n",
       "    }\n",
       "</style>\n",
       "<table border=\"1\" class=\"dataframe\">\n",
       "  <thead>\n",
       "    <tr style=\"text-align: right;\">\n",
       "      <th></th>\n",
       "      <th>state.value</th>\n",
       "      <th>city.value</th>\n",
       "      <th>business.value</th>\n",
       "    </tr>\n",
       "  </thead>\n",
       "  <tbody>\n",
       "    <tr>\n",
       "      <th>0</th>\n",
       "      <td>https://www.wikidata.org/entity/Q108106</td>\n",
       "      <td>https://www.wikidata.org/entity/Q159288</td>\n",
       "      <td>https://purl.archive.org/purl/yelp/ontology#jQuPRiNwqaUaG3q5W0hr6Q</td>\n",
       "    </tr>\n",
       "    <tr>\n",
       "      <th>1</th>\n",
       "      <td>https://www.wikidata.org/entity/Q108106</td>\n",
       "      <td>https://www.wikidata.org/entity/Q159288</td>\n",
       "      <td>https://purl.archive.org/purl/yelp/ontology#pQgVk24ZYzhO0Q9J7b8NRw</td>\n",
       "    </tr>\n",
       "    <tr>\n",
       "      <th>2</th>\n",
       "      <td>https://www.wikidata.org/entity/Q108106</td>\n",
       "      <td>https://www.wikidata.org/entity/Q159288</td>\n",
       "      <td>https://purl.archive.org/purl/yelp/ontology#r2IhvKZQ_wLR5mLBnPOilg</td>\n",
       "    </tr>\n",
       "    <tr>\n",
       "      <th>3</th>\n",
       "      <td>https://www.wikidata.org/entity/Q108106</td>\n",
       "      <td>https://www.wikidata.org/entity/Q159288</td>\n",
       "      <td>https://purl.archive.org/purl/yelp/ontology#r__4cxZAlloPl9p8nwU7yw</td>\n",
       "    </tr>\n",
       "    <tr>\n",
       "      <th>4</th>\n",
       "      <td>https://www.wikidata.org/entity/Q108106</td>\n",
       "      <td>https://www.wikidata.org/entity/Q159288</td>\n",
       "      <td>https://purl.archive.org/purl/yelp/ontology#tTc8NfG453HpwgrqJbfxLw</td>\n",
       "    </tr>\n",
       "    <tr>\n",
       "      <th>5</th>\n",
       "      <td>https://www.wikidata.org/entity/Q108106</td>\n",
       "      <td>https://www.wikidata.org/entity/Q159288</td>\n",
       "      <td>https://purl.archive.org/purl/yelp/ontology#taB-DZhRI6eLW6XmY9_8yQ</td>\n",
       "    </tr>\n",
       "    <tr>\n",
       "      <th>6</th>\n",
       "      <td>https://www.wikidata.org/entity/Q108106</td>\n",
       "      <td>https://www.wikidata.org/entity/Q159288</td>\n",
       "      <td>https://purl.archive.org/purl/yelp/ontology#u28l13rNzuNpyQAv3ypwLg</td>\n",
       "    </tr>\n",
       "    <tr>\n",
       "      <th>7</th>\n",
       "      <td>https://www.wikidata.org/entity/Q108106</td>\n",
       "      <td>https://www.wikidata.org/entity/Q159288</td>\n",
       "      <td>https://purl.archive.org/purl/yelp/ontology#vb09pYPJZnzofrmJen9SBw</td>\n",
       "    </tr>\n",
       "    <tr>\n",
       "      <th>8</th>\n",
       "      <td>https://www.wikidata.org/entity/Q108106</td>\n",
       "      <td>https://www.wikidata.org/entity/Q159288</td>\n",
       "      <td>https://purl.archive.org/purl/yelp/ontology#wJu6zWSgTjcH0N5g6U6f8A</td>\n",
       "    </tr>\n",
       "    <tr>\n",
       "      <th>9</th>\n",
       "      <td>https://www.wikidata.org/entity/Q108106</td>\n",
       "      <td>https://www.wikidata.org/entity/Q159288</td>\n",
       "      <td>https://purl.archive.org/purl/yelp/ontology#-8iATYRnN46Km0_-ldx6cg</td>\n",
       "    </tr>\n",
       "  </tbody>\n",
       "</table>\n",
       "</div>"
      ],
      "text/plain": [
       "                               state.value  \\\n",
       "0  https://www.wikidata.org/entity/Q108106   \n",
       "1  https://www.wikidata.org/entity/Q108106   \n",
       "2  https://www.wikidata.org/entity/Q108106   \n",
       "3  https://www.wikidata.org/entity/Q108106   \n",
       "4  https://www.wikidata.org/entity/Q108106   \n",
       "5  https://www.wikidata.org/entity/Q108106   \n",
       "6  https://www.wikidata.org/entity/Q108106   \n",
       "7  https://www.wikidata.org/entity/Q108106   \n",
       "8  https://www.wikidata.org/entity/Q108106   \n",
       "9  https://www.wikidata.org/entity/Q108106   \n",
       "\n",
       "                                city.value  \\\n",
       "0  https://www.wikidata.org/entity/Q159288   \n",
       "1  https://www.wikidata.org/entity/Q159288   \n",
       "2  https://www.wikidata.org/entity/Q159288   \n",
       "3  https://www.wikidata.org/entity/Q159288   \n",
       "4  https://www.wikidata.org/entity/Q159288   \n",
       "5  https://www.wikidata.org/entity/Q159288   \n",
       "6  https://www.wikidata.org/entity/Q159288   \n",
       "7  https://www.wikidata.org/entity/Q159288   \n",
       "8  https://www.wikidata.org/entity/Q159288   \n",
       "9  https://www.wikidata.org/entity/Q159288   \n",
       "\n",
       "                                                       business.value  \n",
       "0  https://purl.archive.org/purl/yelp/ontology#jQuPRiNwqaUaG3q5W0hr6Q  \n",
       "1  https://purl.archive.org/purl/yelp/ontology#pQgVk24ZYzhO0Q9J7b8NRw  \n",
       "2  https://purl.archive.org/purl/yelp/ontology#r2IhvKZQ_wLR5mLBnPOilg  \n",
       "3  https://purl.archive.org/purl/yelp/ontology#r__4cxZAlloPl9p8nwU7yw  \n",
       "4  https://purl.archive.org/purl/yelp/ontology#tTc8NfG453HpwgrqJbfxLw  \n",
       "5  https://purl.archive.org/purl/yelp/ontology#taB-DZhRI6eLW6XmY9_8yQ  \n",
       "6  https://purl.archive.org/purl/yelp/ontology#u28l13rNzuNpyQAv3ypwLg  \n",
       "7  https://purl.archive.org/purl/yelp/ontology#vb09pYPJZnzofrmJen9SBw  \n",
       "8  https://purl.archive.org/purl/yelp/ontology#wJu6zWSgTjcH0N5g6U6f8A  \n",
       "9  https://purl.archive.org/purl/yelp/ontology#-8iATYRnN46Km0_-ldx6cg  "
      ]
     },
     "execution_count": 77,
     "metadata": {},
     "output_type": "execute_result"
    }
   ],
   "source": [
    "sparql_query = \"\"\"\n",
    "SELECT ?state ?city ?business\n",
    "WHERE {\n",
    "    ?business schema:location ?city .\n",
    "    ?city rdfs:label ?city_name .\n",
    "    ?city wd:P131 ?state .\n",
    "    VALUES ?city_name{'Santa Barbara'^^xsd:string} .\n",
    "}\n",
    "GROUP BY ?state ?city\n",
    "ORDER BY DESC(?count_business)\n",
    "LIMIT 10\n",
    "\n",
    "\"\"\"\n",
    "\n",
    "run_query(query=sparql_query, as_dataframe=True)"
   ]
  },
  {
   "cell_type": "code",
   "execution_count": 3,
   "metadata": {},
   "outputs": [
    {
     "data": {
      "text/html": [
       "<div>\n",
       "<style scoped>\n",
       "    .dataframe tbody tr th:only-of-type {\n",
       "        vertical-align: middle;\n",
       "    }\n",
       "\n",
       "    .dataframe tbody tr th {\n",
       "        vertical-align: top;\n",
       "    }\n",
       "\n",
       "    .dataframe thead th {\n",
       "        text-align: right;\n",
       "    }\n",
       "</style>\n",
       "<table border=\"1\" class=\"dataframe\">\n",
       "  <thead>\n",
       "    <tr style=\"text-align: right;\">\n",
       "      <th></th>\n",
       "      <th>state.value</th>\n",
       "      <th>city.value</th>\n",
       "      <th>count_business.value</th>\n",
       "    </tr>\n",
       "  </thead>\n",
       "  <tbody>\n",
       "    <tr>\n",
       "      <th>0</th>\n",
       "      <td>https://www.wikidata.org/entity/Q99</td>\n",
       "      <td>https://www.wikidata.org/entity/Q159288</td>\n",
       "      <td>3941</td>\n",
       "    </tr>\n",
       "  </tbody>\n",
       "</table>\n",
       "</div>"
      ],
      "text/plain": [
       "                           state.value  \\\n",
       "0  https://www.wikidata.org/entity/Q99   \n",
       "\n",
       "                                city.value count_business.value  \n",
       "0  https://www.wikidata.org/entity/Q159288                 3941  "
      ]
     },
     "execution_count": 3,
     "metadata": {},
     "output_type": "execute_result"
    }
   ],
   "source": [
    "sparql_query = \"\"\"\n",
    "SELECT ?state ?city COUNT(?business) AS ?count_business \n",
    "WHERE {\n",
    "    ?business schema:location ?city .\n",
    "    ?city rdfs:label ?city_name .\n",
    "    ?city wd:P131 ?county .\n",
    "    ?county wd:P131 ?state .\n",
    "    ?state rdfs:label ?state_name .\n",
    "    VALUES ?city_name{'Santa Barbara'^^xsd:string} .\n",
    "    VALUES ?state_name{'California'^^xsd:string} .\n",
    "}\n",
    "GROUP BY ?state ?city\n",
    "ORDER BY DESC(?count_business)\n",
    "LIMIT 10\n",
    "\n",
    "\"\"\"\n",
    "\n",
    "run_query(query=sparql_query, as_dataframe=True)"
   ]
  },
  {
   "cell_type": "code",
   "execution_count": 10,
   "metadata": {},
   "outputs": [],
   "source": [
    "sparql_query = \"\"\"\n",
    "SELECT ?state ?city ?business \n",
    "WHERE {\n",
    "    ?business schema:location ?city .\n",
    "    ?city rdfs:label ?city_name .\n",
    "    ?city wd:P131 ?county .\n",
    "    ?county wd:P131 ?state .\n",
    "    ?state rdfs:label ?state_name .\n",
    "    VALUES ?city_name{'Santa Barbara'^^xsd:string} .\n",
    "    VALUES ?state_name{'California'^^xsd:string} .\n",
    "}\n",
    "GROUP BY ?state ?city\n",
    "ORDER BY DESC(?count_business)\n",
    "\n",
    "\n",
    "\"\"\"\n",
    "\n",
    "x = run_query(query=sparql_query, as_dataframe=True)"
   ]
  },
  {
   "cell_type": "code",
   "execution_count": 16,
   "metadata": {},
   "outputs": [],
   "source": [
    "x['business.value'] = x.apply(lambda x: x['business.value'].replace('https://purl.archive.org/purl/yelp/ontology#', ''), axis=1)\n",
    "query_bid = x['business.value'].to_list()"
   ]
  },
  {
   "cell_type": "code",
   "execution_count": 19,
   "metadata": {},
   "outputs": [],
   "source": [
    "business_santa_barbara = business[business['city'] == \"Santa Barbara\"]\n",
    "json_bid = business_santa_barbara['business_id']"
   ]
  },
  {
   "cell_type": "code",
   "execution_count": 21,
   "metadata": {},
   "outputs": [
    {
     "data": {
      "text/plain": [
       "43      FdbYPkFZvIF4o5_tQSup5w\n",
       "92      VEsb_ByMJkuCEDURgfLBDg\n",
       "132     3KI0WnM1_lnY4QPRtT5O8A\n",
       "141     SBs30RyeoiEU2LjeiH1YFQ\n",
       "143     UlBwfWdl3A2na0NIu1JzIA\n",
       "173     eX7o_-s5TmDT-DMfTV4cmw\n",
       "205     4IqrY1mXK65HgrrgkpE-cw\n",
       "225     BSFKoPLQOEpPzoz6gOBlyQ\n",
       "242     GjxwYoInJcggmLsdrJigfg\n",
       "282     QEY_524IJ2uqNHCBrmTowQ\n",
       "284     Qd0seyUMJ53rl-T9mWRSIA\n",
       "291     SVZyQN2mWMXAYZpyqsOfAA\n",
       "301     UjRfnT_EuZoz9bmzX38mSg\n",
       "306     WEY7DI73ljuVu3Ode4VEiA\n",
       "331     wjOHfRYCwddZ3Ri_AvScaQ\n",
       "332     xHG-xznai_fgceFDl6xn5w\n",
       "361     huanJ55zbuaZ9Yv7FiwtgA\n",
       "402     5-dALZnUy43LJM5d8SAeyw\n",
       "565     5rz_HnjCKV_F7SXf_7WMNA\n",
       "599     H-1qpp_77KggOAr9htUrEw\n",
       "623     Nr-rq1R1l6SLy8nrhEOalw\n",
       "629     Po6WLHD5ZFkVoiuTFL3Jtg\n",
       "745     7sOqa_LFDHEtiFzNFZBw4A\n",
       "775     G1iDxFTY-G6ZzqLE5V2ELA\n",
       "824     TqCWmvRiOCv4OBSft4Dacw\n",
       "923     2WHu0k5VVM1Pn9AFzkSBlA\n",
       "944     7mD4SW5ylpmk_OnAsgWjLw\n",
       "987     MEVEUCutBAHktfoEuv0ssw\n",
       "988     Mrou58GInOFO11dJXOXjxg\n",
       "1036    kCCIDwzaLw7cVghe3Bcz6g\n",
       "1150    Ol6I7wWJ3x-5v08qCQSRDA\n",
       "1185    hFYKu5SujPYf_tmnoiKozw\n",
       "1198    tOQ8Eb99pGQo5w2BOdKllg\n",
       "1218    Pm8Udym9PZuZGKqv74Wrpg\n",
       "1285    COdUE7SfzengH-xRKiw49w\n",
       "1308    IQFb8aeU7QW-BxpFhGMnlg\n",
       "1339    S3QHy1sshUeZwXOYviVsXQ\n",
       "1359    e0DU7_0mfalr-lnyUafiag\n",
       "1375    00c8pf4wMH72fpkcRvWzAw\n",
       "1443    1J0NIfmrSuV72KzhmYFxMA\n",
       "1455    66FvdwN4K2AN8gnAXEuxRg\n",
       "1493    HtWJVjBrlFFQ_9q0B-5RQQ\n",
       "1499    IlgAi7mKLdSSHHLvTwEvOQ\n",
       "1542    R7vTnDVZry_I3ZLUTIKXMQ\n",
       "1545    S4ujTsHtCOsHKrKkcjY30Q\n",
       "1642    6DlB3QUOlDzzpaUDWU8g0w\n",
       "1690    Kv4RB46d-RWFSPlMVcyP5w\n",
       "1723    Yoy4h6G8S2F0_3-WvS8y1A\n",
       "1754    035gK3ASKDns-ojUSnV4IA\n",
       "1765    EaTbY8HFwwF7i3SjVbHGYw\n",
       "1782    lAzo55uirYQAHBF1ThySQQ\n",
       "1783    lNkxXDcNoHBpWDNPoZesYw\n",
       "1785    n6vCA620X2s7ykGXdzOPwQ\n",
       "1792    i9Tr1oMfkmaiBizzpR7anA\n",
       "1988    q2sbzd5Z7Bi8pkmCyr-Umw\n",
       "2010    9Vrm13HIdHS41uzroVMQ2Q\n",
       "2024    T0WFtl856ORT4G7ZLfh3Dw\n",
       "2031    fRp7eG893ugLsaH0X-9z1w\n",
       "2041    yzFJshX4R5ezvdaAL-mt0g\n",
       "2061    sPK5xir_Ip1TIj6sMA9Tig\n",
       "2069    xfI3dkIVkvKfbaTBmdVTiA\n",
       "2093    WfN-VixjWAbfe8efJEs3yQ\n",
       "2139    7Mfp8lfx6aYCc5_9pw6W2g\n",
       "2160    c2CiGIHvKPWYWtRLa9zm7Q\n",
       "2205    zAhDliPU8xRGGpF17n_lvw\n",
       "2355    E3KJdHSTeKcgkSPpjKmH4g\n",
       "2359    IQCpN61JVaU12hg1ZjbPxQ\n",
       "2424    YiHgfrVFMIXO4JGONY2a8w\n",
       "2436    s9zxw2dcpZetR2CdZqgLtQ\n",
       "2446    bBA62rVklEG2WUnvi8RtrQ\n",
       "2474    ugR7UJwntDeE14c1l5CT8g\n",
       "2572    tTc8NfG453HpwgrqJbfxLw\n",
       "2620    cINFgeSY1qrHmsEGIqZ-2A\n",
       "2624    hmbvg4OIT6Z5Sg1XvMeyZw\n",
       "2703    iXkQGJF88zOeXtHMjBmeZg\n",
       "2724    BHZZFNH4wu5VAq_JypqjiQ\n",
       "2746    gd-d66OWttirvDvt__44tw\n",
       "2747    iMTjejk6apJKzCukZnDw5A\n",
       "2759    yLqFm4epPkbkPpan9gmEjA\n",
       "2829    hMN0C9holCXzXyYpU2oVbw\n",
       "2864    gO3TIUbgD5fZiJuezx0kFA\n",
       "2888    j8c8WFqySY1eybnkJfgjSg\n",
       "2968    S2ALuGQ4uAvEO0-jll4D8Q\n",
       "3053    gKNhXj4BDRQ9UBMpbLhdQA\n",
       "3132    jiNrFnrmecdkOJFKX7tyIA\n",
       "3186    gMnDE9BcfW6yaNy7Ccn8Jw\n",
       "3243    b5hxsRw76UUXcotxlCipuQ\n",
       "3403    kUTmOqti8IaI3wF2hZBPBQ\n",
       "3407    p6yHZaiijFq4b4P3sYSRjA\n",
       "3425    8CMK_r00h6et6TTMDWw1jw\n",
       "3451    tm87DWqehpt79ZInFVmv1w\n",
       "3452    vojJhH78rcYpDFPft5dCyA\n",
       "3453    wYt-HbkL4igFKWdkKlBSOA\n",
       "3456    zPm_oiQxLrxraFYjaU_81Q\n",
       "3510    TjOySV6eEL7VaaFAIoTPIg\n",
       "3543    zuB_OGOwQjIr6XWmmD4NQw\n",
       "3585    fP4rwb4VxnUjdxiv6oYL4w\n",
       "3599    uOte7oF5VyViW2hWPhjYWw\n",
       "3617    nkYOeU4BrfG6uG9M8RJBUw\n",
       "3644    OTz1GzMU_Vc6VWQoSQwVUA\n",
       "3647    RJORcQqH-UDGdGvdcgwKXA\n",
       "3648    RnC8N3wdN4subTxtmV3FeA\n",
       "3671    _swrAjNgk60HIGLVzHiqmA\n",
       "3702    Ed7RUOj9MTUf9U-Y73bYlw\n",
       "3743    iLjgv1R0YIXnU7Rg--dIXA\n",
       "3762    2kZ4EpcQ6dl5vtsLZKM2bQ\n",
       "3833    KMuVQ8E4VIhdjwDo5jPPcg\n",
       "3841    TezyCyctP1IMPigciR262Q\n",
       "3871    asTtYoDxkcGXeSgthPHRcA\n",
       "3877    djay-HeHyChNjXqAQEcFzA\n",
       "3891    qsKQTMcj7lefdJauDdyqvg\n",
       "3920    _YPdYvkOGHjQyCj8K0Xhyw\n",
       "Name: business.value, dtype: object"
      ]
     },
     "execution_count": 21,
     "metadata": {},
     "output_type": "execute_result"
    }
   ],
   "source": [
    "x.loc[~x['business.value'].isin(json_bid), 'business.value']"
   ]
  },
  {
   "cell_type": "code",
   "execution_count": 23,
   "metadata": {},
   "outputs": [],
   "source": [
    "biz = pd.read_json(get_path(\"yelp_academic_dataset_business.json\"), lines=True)"
   ]
  },
  {
   "cell_type": "code",
   "execution_count": 24,
   "metadata": {},
   "outputs": [],
   "source": [
    "df = pd.read_csv(get_path(\"location_mappings.csv\"))\n",
    "\n",
    "data = biz.merge(df, how=\"left\", on=[\"city\", \"state\"])"
   ]
  },
  {
   "cell_type": "code",
   "execution_count": 26,
   "metadata": {},
   "outputs": [
    {
     "data": {
      "text/html": [
       "<div>\n",
       "<style scoped>\n",
       "    .dataframe tbody tr th:only-of-type {\n",
       "        vertical-align: middle;\n",
       "    }\n",
       "\n",
       "    .dataframe tbody tr th {\n",
       "        vertical-align: top;\n",
       "    }\n",
       "\n",
       "    .dataframe thead th {\n",
       "        text-align: right;\n",
       "    }\n",
       "</style>\n",
       "<table border=\"1\" class=\"dataframe\">\n",
       "  <thead>\n",
       "    <tr style=\"text-align: right;\">\n",
       "      <th></th>\n",
       "      <th>business_id</th>\n",
       "      <th>name</th>\n",
       "      <th>address</th>\n",
       "      <th>city</th>\n",
       "      <th>state</th>\n",
       "      <th>postal_code</th>\n",
       "      <th>latitude</th>\n",
       "      <th>longitude</th>\n",
       "      <th>stars</th>\n",
       "      <th>review_count</th>\n",
       "      <th>...</th>\n",
       "      <th>hours</th>\n",
       "      <th>city_qid</th>\n",
       "      <th>city_label</th>\n",
       "      <th>state_qid</th>\n",
       "      <th>state_label</th>\n",
       "      <th>county_qid</th>\n",
       "      <th>county_label</th>\n",
       "      <th>country_qid</th>\n",
       "      <th>country_label</th>\n",
       "      <th>population</th>\n",
       "    </tr>\n",
       "  </thead>\n",
       "  <tbody>\n",
       "    <tr>\n",
       "      <th>88254</th>\n",
       "      <td>_YPdYvkOGHjQyCj8K0Xhyw</td>\n",
       "      <td>Whodidily Cupcakes</td>\n",
       "      <td>1150 Coast Village Rd, Ste E</td>\n",
       "      <td>Montecito</td>\n",
       "      <td>CA</td>\n",
       "      <td>93108</td>\n",
       "      <td>34.421606</td>\n",
       "      <td>-119.64629</td>\n",
       "      <td>4.0</td>\n",
       "      <td>60</td>\n",
       "      <td>...</td>\n",
       "      <td>{'Monday': '10:0-19:0', 'Tuesday': '10:0-19:0', 'Wednesday': '10:0-19:0', 'Thursday': '10:0-19:0', 'Friday': '10:0-20:0', 'Saturday': '10:0-20:0', 'Sunday': '10:0-18:0'}</td>\n",
       "      <td>Q1008912</td>\n",
       "      <td>Montecito</td>\n",
       "      <td>Q99</td>\n",
       "      <td>California</td>\n",
       "      <td>Q108106</td>\n",
       "      <td>Santa Barbara County</td>\n",
       "      <td>Q30</td>\n",
       "      <td>United States of America</td>\n",
       "      <td>8638.0</td>\n",
       "    </tr>\n",
       "  </tbody>\n",
       "</table>\n",
       "<p>1 rows × 23 columns</p>\n",
       "</div>"
      ],
      "text/plain": [
       "                  business_id                name  \\\n",
       "88254  _YPdYvkOGHjQyCj8K0Xhyw  Whodidily Cupcakes   \n",
       "\n",
       "                            address       city state postal_code   latitude  \\\n",
       "88254  1150 Coast Village Rd, Ste E  Montecito    CA       93108  34.421606   \n",
       "\n",
       "       longitude  stars  review_count  ...  \\\n",
       "88254 -119.64629    4.0            60  ...   \n",
       "\n",
       "                                                                                                                                                                           hours  \\\n",
       "88254  {'Monday': '10:0-19:0', 'Tuesday': '10:0-19:0', 'Wednesday': '10:0-19:0', 'Thursday': '10:0-19:0', 'Friday': '10:0-20:0', 'Saturday': '10:0-20:0', 'Sunday': '10:0-18:0'}   \n",
       "\n",
       "       city_qid city_label state_qid state_label county_qid  \\\n",
       "88254  Q1008912  Montecito       Q99  California    Q108106   \n",
       "\n",
       "               county_label country_qid             country_label population  \n",
       "88254  Santa Barbara County         Q30  United States of America     8638.0  \n",
       "\n",
       "[1 rows x 23 columns]"
      ]
     },
     "execution_count": 26,
     "metadata": {},
     "output_type": "execute_result"
    }
   ],
   "source": [
    "data[data['business_id'] == '_YPdYvkOGHjQyCj8K0Xhyw']"
   ]
  },
  {
   "attachments": {},
   "cell_type": "markdown",
   "metadata": {},
   "source": [
    "### CQ 8: What are the five most busy days, and for what business?"
   ]
  },
  {
   "cell_type": "code",
   "execution_count": 6,
   "metadata": {},
   "outputs": [
    {
     "data": {
      "text/html": [
       "<div>\n",
       "<style scoped>\n",
       "    .dataframe tbody tr th:only-of-type {\n",
       "        vertical-align: middle;\n",
       "    }\n",
       "\n",
       "    .dataframe tbody tr th {\n",
       "        vertical-align: top;\n",
       "    }\n",
       "\n",
       "    .dataframe thead th {\n",
       "        text-align: right;\n",
       "    }\n",
       "</style>\n",
       "<table border=\"1\" class=\"dataframe\">\n",
       "  <thead>\n",
       "    <tr style=\"text-align: right;\">\n",
       "      <th></th>\n",
       "      <th>business.value</th>\n",
       "      <th>year.value</th>\n",
       "      <th>month.value</th>\n",
       "      <th>day.value</th>\n",
       "      <th>numberOfVisits.value</th>\n",
       "    </tr>\n",
       "  </thead>\n",
       "  <tbody>\n",
       "    <tr>\n",
       "      <th>0</th>\n",
       "      <td>https://purl.archive.org/purl/yelp/yelp_entities#business_id/CySqUcNz8oPiQTu4EXTnig</td>\n",
       "      <td>2016</td>\n",
       "      <td>6</td>\n",
       "      <td>25</td>\n",
       "      <td>457</td>\n",
       "    </tr>\n",
       "    <tr>\n",
       "      <th>1</th>\n",
       "      <td>https://purl.archive.org/purl/yelp/yelp_entities#business_id/g50ImmCX3WY3koEDIzoKxg</td>\n",
       "      <td>2015</td>\n",
       "      <td>8</td>\n",
       "      <td>30</td>\n",
       "      <td>285</td>\n",
       "    </tr>\n",
       "    <tr>\n",
       "      <th>2</th>\n",
       "      <td>https://purl.archive.org/purl/yelp/yelp_entities#business_id/qfWWx0dVo1UuAhRfh03Dyw</td>\n",
       "      <td>2016</td>\n",
       "      <td>8</td>\n",
       "      <td>28</td>\n",
       "      <td>268</td>\n",
       "    </tr>\n",
       "    <tr>\n",
       "      <th>3</th>\n",
       "      <td>https://purl.archive.org/purl/yelp/yelp_entities#business_id/g50ImmCX3WY3koEDIzoKxg</td>\n",
       "      <td>2016</td>\n",
       "      <td>8</td>\n",
       "      <td>28</td>\n",
       "      <td>263</td>\n",
       "    </tr>\n",
       "    <tr>\n",
       "      <th>4</th>\n",
       "      <td>https://purl.archive.org/purl/yelp/yelp_entities#business_id/FBBeJO50xZiNIo3oFhAFRA</td>\n",
       "      <td>2017</td>\n",
       "      <td>7</td>\n",
       "      <td>29</td>\n",
       "      <td>251</td>\n",
       "    </tr>\n",
       "  </tbody>\n",
       "</table>\n",
       "</div>"
      ],
      "text/plain": [
       "                                                                        business.value  \\\n",
       "0  https://purl.archive.org/purl/yelp/yelp_entities#business_id/CySqUcNz8oPiQTu4EXTnig   \n",
       "1  https://purl.archive.org/purl/yelp/yelp_entities#business_id/g50ImmCX3WY3koEDIzoKxg   \n",
       "2  https://purl.archive.org/purl/yelp/yelp_entities#business_id/qfWWx0dVo1UuAhRfh03Dyw   \n",
       "3  https://purl.archive.org/purl/yelp/yelp_entities#business_id/g50ImmCX3WY3koEDIzoKxg   \n",
       "4  https://purl.archive.org/purl/yelp/yelp_entities#business_id/FBBeJO50xZiNIo3oFhAFRA   \n",
       "\n",
       "  year.value month.value day.value numberOfVisits.value  \n",
       "0       2016           6        25                  457  \n",
       "1       2015           8        30                  285  \n",
       "2       2016           8        28                  268  \n",
       "3       2016           8        28                  263  \n",
       "4       2017           7        29                  251  "
      ]
     },
     "execution_count": 6,
     "metadata": {},
     "output_type": "execute_result"
    }
   ],
   "source": [
    "sparql_query = \"\"\"\n",
    "SELECT ?business ?year ?month ?day COUNT(?visit) as ?numberOfVisits\n",
    "WHERE {\n",
    "    ?business schema:checkinTime ?visit .\n",
    "    BIND (day(?visit)  as ?day)\n",
    "    BIND (month(?visit) as ?month)\n",
    "    BIND (year(?visit) as ?year)\n",
    "}\n",
    "GROUP BY ?business ?year ?month ?day\n",
    "ORDER BY DESC(COUNT(?visit))\n",
    "LIMIT 5\n",
    "\n",
    "\"\"\"\n",
    "\n",
    "run_query(query=sparql_query, as_dataframe=True)"
   ]
  },
  {
   "cell_type": "code",
   "execution_count": 17,
   "metadata": {},
   "outputs": [
    {
     "data": {
      "text/plain": [
       "business_id             Day  Month  Year\n",
       "CySqUcNz8oPiQTu4EXTnig  25   06     2016    465\n",
       "g50ImmCX3WY3koEDIzoKxg  30   08     2015    287\n",
       "qfWWx0dVo1UuAhRfh03Dyw  28   08     2016    270\n",
       "g50ImmCX3WY3koEDIzoKxg  28   08     2016    264\n",
       "FBBeJO50xZiNIo3oFhAFRA  29   07     2017    254\n",
       "dtype: int64"
      ]
     },
     "execution_count": 17,
     "metadata": {},
     "output_type": "execute_result"
    }
   ],
   "source": [
    "checkins[\"Day\"] = checkins[\"date\"].apply(lambda x: x.split(\"-\")[2][:2])\n",
    "checkins[\"Month\"] = checkins[\"date\"].apply(lambda x: x.split(\"-\")[1])\n",
    "checkins[\"Year\"] = checkins[\"date\"].apply(lambda x: x.split(\"-\")[0])\n",
    "\n",
    "checkins.value_counts(subset=[\"business_id\", \"Day\", \"Month\", \"Year\"], sort=True, ascending=False).head(5)"
   ]
  },
  {
   "attachments": {},
   "cell_type": "markdown",
   "metadata": {
    "collapsed": false,
    "pycharm": {
     "name": "#%% md\n"
    }
   },
   "source": [
    "### CQ 9: Which are the top 10 most visisted businesses?"
   ]
  },
  {
   "cell_type": "code",
   "execution_count": 8,
   "metadata": {},
   "outputs": [
    {
     "data": {
      "text/html": [
       "<div>\n",
       "<style scoped>\n",
       "    .dataframe tbody tr th:only-of-type {\n",
       "        vertical-align: middle;\n",
       "    }\n",
       "\n",
       "    .dataframe tbody tr th {\n",
       "        vertical-align: top;\n",
       "    }\n",
       "\n",
       "    .dataframe thead th {\n",
       "        text-align: right;\n",
       "    }\n",
       "</style>\n",
       "<table border=\"1\" class=\"dataframe\">\n",
       "  <thead>\n",
       "    <tr style=\"text-align: right;\">\n",
       "      <th></th>\n",
       "      <th>business.value</th>\n",
       "      <th>count_visits.value</th>\n",
       "    </tr>\n",
       "  </thead>\n",
       "  <tbody>\n",
       "    <tr>\n",
       "      <th>0</th>\n",
       "      <td>https://purl.archive.org/purl/yelp/yelp_entities#business_id/-QI8Qi8XWH3D8y8ethnajA</td>\n",
       "      <td>52129</td>\n",
       "    </tr>\n",
       "    <tr>\n",
       "      <th>1</th>\n",
       "      <td>https://purl.archive.org/purl/yelp/yelp_entities#business_id/FEXhWNCMkv22qG04E83Qjg</td>\n",
       "      <td>40092</td>\n",
       "    </tr>\n",
       "    <tr>\n",
       "      <th>2</th>\n",
       "      <td>https://purl.archive.org/purl/yelp/yelp_entities#business_id/Eb1XmmLWyt_way5NNZ7-Pw</td>\n",
       "      <td>37553</td>\n",
       "    </tr>\n",
       "    <tr>\n",
       "      <th>3</th>\n",
       "      <td>https://purl.archive.org/purl/yelp/yelp_entities#business_id/c_4c5rJECZSfNgFj7frwHQ</td>\n",
       "      <td>37511</td>\n",
       "    </tr>\n",
       "    <tr>\n",
       "      <th>4</th>\n",
       "      <td>https://purl.archive.org/purl/yelp/yelp_entities#business_id/4i4kmYm9wgSNyF1b6gKphg</td>\n",
       "      <td>31163</td>\n",
       "    </tr>\n",
       "    <tr>\n",
       "      <th>5</th>\n",
       "      <td>https://purl.archive.org/purl/yelp/yelp_entities#business_id/8O35ji_yOMVJmZ6bl96yhQ</td>\n",
       "      <td>29599</td>\n",
       "    </tr>\n",
       "    <tr>\n",
       "      <th>6</th>\n",
       "      <td>https://purl.archive.org/purl/yelp/yelp_entities#business_id/VQcCL9PiNL_wkGf-uF3fjg</td>\n",
       "      <td>28917</td>\n",
       "    </tr>\n",
       "    <tr>\n",
       "      <th>7</th>\n",
       "      <td>https://purl.archive.org/purl/yelp/yelp_entities#business_id/ac1AeYqs8Z4_e2X5M3if2A</td>\n",
       "      <td>21527</td>\n",
       "    </tr>\n",
       "    <tr>\n",
       "      <th>8</th>\n",
       "      <td>https://purl.archive.org/purl/yelp/yelp_entities#business_id/QTbahs-GVuWYL5yfdjH34A</td>\n",
       "      <td>21478</td>\n",
       "    </tr>\n",
       "    <tr>\n",
       "      <th>9</th>\n",
       "      <td>https://purl.archive.org/purl/yelp/yelp_entities#business_id/ytynqOUb3hjKeJfRj5Tshw</td>\n",
       "      <td>18604</td>\n",
       "    </tr>\n",
       "  </tbody>\n",
       "</table>\n",
       "</div>"
      ],
      "text/plain": [
       "                                                                        business.value  \\\n",
       "0  https://purl.archive.org/purl/yelp/yelp_entities#business_id/-QI8Qi8XWH3D8y8ethnajA   \n",
       "1  https://purl.archive.org/purl/yelp/yelp_entities#business_id/FEXhWNCMkv22qG04E83Qjg   \n",
       "2  https://purl.archive.org/purl/yelp/yelp_entities#business_id/Eb1XmmLWyt_way5NNZ7-Pw   \n",
       "3  https://purl.archive.org/purl/yelp/yelp_entities#business_id/c_4c5rJECZSfNgFj7frwHQ   \n",
       "4  https://purl.archive.org/purl/yelp/yelp_entities#business_id/4i4kmYm9wgSNyF1b6gKphg   \n",
       "5  https://purl.archive.org/purl/yelp/yelp_entities#business_id/8O35ji_yOMVJmZ6bl96yhQ   \n",
       "6  https://purl.archive.org/purl/yelp/yelp_entities#business_id/VQcCL9PiNL_wkGf-uF3fjg   \n",
       "7  https://purl.archive.org/purl/yelp/yelp_entities#business_id/ac1AeYqs8Z4_e2X5M3if2A   \n",
       "8  https://purl.archive.org/purl/yelp/yelp_entities#business_id/QTbahs-GVuWYL5yfdjH34A   \n",
       "9  https://purl.archive.org/purl/yelp/yelp_entities#business_id/ytynqOUb3hjKeJfRj5Tshw   \n",
       "\n",
       "  count_visits.value  \n",
       "0              52129  \n",
       "1              40092  \n",
       "2              37553  \n",
       "3              37511  \n",
       "4              31163  \n",
       "5              29599  \n",
       "6              28917  \n",
       "7              21527  \n",
       "8              21478  \n",
       "9              18604  "
      ]
     },
     "execution_count": 8,
     "metadata": {},
     "output_type": "execute_result"
    }
   ],
   "source": [
    "sparql_query = \"\"\"\n",
    "SELECT ?business COUNT(?visit) AS ?count_visits\n",
    "WHERE {\n",
    "    ?business schema:checkinTime ?visit .\n",
    "}\n",
    "GROUP BY ?business \n",
    "ORDER BY DESC(COUNT(?visit))\n",
    "LIMIT 10\n",
    "\n",
    "\"\"\"\n",
    "\n",
    "run_query(query=sparql_query, as_dataframe=True)"
   ]
  },
  {
   "cell_type": "code",
   "execution_count": 20,
   "metadata": {},
   "outputs": [
    {
     "data": {
      "text/plain": [
       "business_id           \n",
       "-QI8Qi8XWH3D8y8ethnajA    52144\n",
       "FEXhWNCMkv22qG04E83Qjg    40109\n",
       "Eb1XmmLWyt_way5NNZ7-Pw    37562\n",
       "c_4c5rJECZSfNgFj7frwHQ    37518\n",
       "4i4kmYm9wgSNyF1b6gKphg    31168\n",
       "8O35ji_yOMVJmZ6bl96yhQ    29606\n",
       "VQcCL9PiNL_wkGf-uF3fjg    28927\n",
       "ac1AeYqs8Z4_e2X5M3if2A    21542\n",
       "QTbahs-GVuWYL5yfdjH34A    21487\n",
       "ytynqOUb3hjKeJfRj5Tshw    18615\n",
       "dtype: int64"
      ]
     },
     "execution_count": 20,
     "metadata": {},
     "output_type": "execute_result"
    }
   ],
   "source": [
    "checkins.value_counts(subset=[\"business_id\"], sort=True, ascending=False).head(10)"
   ]
  },
  {
   "attachments": {},
   "cell_type": "markdown",
   "metadata": {
    "collapsed": false
   },
   "source": [
    "### CQ 10: How many people have written a review on Yelp?"
   ]
  },
  {
   "cell_type": "code",
   "execution_count": 109,
   "metadata": {
    "collapsed": false,
    "pycharm": {
     "name": "#%%\n"
    }
   },
   "outputs": [
    {
     "data": {
      "text/html": [
       "<div>\n",
       "<style scoped>\n",
       "    .dataframe tbody tr th:only-of-type {\n",
       "        vertical-align: middle;\n",
       "    }\n",
       "\n",
       "    .dataframe tbody tr th {\n",
       "        vertical-align: top;\n",
       "    }\n",
       "\n",
       "    .dataframe thead th {\n",
       "        text-align: right;\n",
       "    }\n",
       "</style>\n",
       "<table border=\"1\" class=\"dataframe\">\n",
       "  <thead>\n",
       "    <tr style=\"text-align: right;\">\n",
       "      <th></th>\n",
       "      <th>countUsers.value</th>\n",
       "    </tr>\n",
       "  </thead>\n",
       "  <tbody>\n",
       "    <tr>\n",
       "      <th>0</th>\n",
       "      <td>1987929</td>\n",
       "    </tr>\n",
       "  </tbody>\n",
       "</table>\n",
       "</div>"
      ],
      "text/plain": [
       "  countUsers.value\n",
       "0          1987929"
      ]
     },
     "execution_count": 109,
     "metadata": {},
     "output_type": "execute_result"
    }
   ],
   "source": [
    "sparql_query = \"\"\"\n",
    "SELECT COUNT(DISTINCT(?user)) AS ?countUsers\n",
    "WHERE {\n",
    "    ?review schema:author ?user .\n",
    "}\n",
    "\"\"\"\n",
    "run_query(query=sparql_query, as_dataframe=True)"
   ]
  },
  {
   "cell_type": "code",
   "execution_count": 7,
   "metadata": {
    "collapsed": false,
    "pycharm": {
     "name": "#%%\n"
    }
   },
   "outputs": [
    {
     "data": {
      "text/plain": [
       "1987929"
      ]
     },
     "execution_count": 7,
     "metadata": {},
     "output_type": "execute_result"
    }
   ],
   "source": [
    "reviews.drop_duplicates(subset=['user_id']).shape[0]"
   ]
  },
  {
   "cell_type": "code",
   "execution_count": 11,
   "metadata": {},
   "outputs": [
    {
     "data": {
      "text/html": [
       "<div>\n",
       "<style scoped>\n",
       "    .dataframe tbody tr th:only-of-type {\n",
       "        vertical-align: middle;\n",
       "    }\n",
       "\n",
       "    .dataframe tbody tr th {\n",
       "        vertical-align: top;\n",
       "    }\n",
       "\n",
       "    .dataframe thead th {\n",
       "        text-align: right;\n",
       "    }\n",
       "</style>\n",
       "<table border=\"1\" class=\"dataframe\">\n",
       "  <thead>\n",
       "    <tr style=\"text-align: right;\">\n",
       "      <th></th>\n",
       "      <th>user.value</th>\n",
       "    </tr>\n",
       "  </thead>\n",
       "  <tbody>\n",
       "    <tr>\n",
       "      <th>0</th>\n",
       "      <td>https://purl.archive.org/purl/yelp/yelp_entities#user_id/dWZlWFtsEXFVq_vulT00lA</td>\n",
       "    </tr>\n",
       "    <tr>\n",
       "      <th>1</th>\n",
       "      <td>https://purl.archive.org/purl/yelp/yelp_entities#user_id/MaengE6zJ6k_d5e6nwnVaA</td>\n",
       "    </tr>\n",
       "    <tr>\n",
       "      <th>2</th>\n",
       "      <td>https://purl.archive.org/purl/yelp/yelp_entities#user_id/tquAg8GqbhN5k6Hkd23M0A</td>\n",
       "    </tr>\n",
       "    <tr>\n",
       "      <th>3</th>\n",
       "      <td>https://purl.archive.org/purl/yelp/yelp_entities#user_id/433BzxUeQAmRmK0g06UAfA</td>\n",
       "    </tr>\n",
       "    <tr>\n",
       "      <th>4</th>\n",
       "      <td>https://purl.archive.org/purl/yelp/yelp_entities#user_id/sxxnBQb15fOyg30JInIKqw</td>\n",
       "    </tr>\n",
       "    <tr>\n",
       "      <th>5</th>\n",
       "      <td>https://purl.archive.org/purl/yelp/yelp_entities#user_id/5iBVQ3OeK8lV4Z_4PXc1Xw</td>\n",
       "    </tr>\n",
       "    <tr>\n",
       "      <th>6</th>\n",
       "      <td>https://purl.archive.org/purl/yelp/yelp_entities#user_id/u8cq-5zzD7dPSa3LR8rIMw</td>\n",
       "    </tr>\n",
       "    <tr>\n",
       "      <th>7</th>\n",
       "      <td>https://purl.archive.org/purl/yelp/yelp_entities#user_id/5XiPz5mJK_RtJQVkXIqxYg</td>\n",
       "    </tr>\n",
       "    <tr>\n",
       "      <th>8</th>\n",
       "      <td>https://purl.archive.org/purl/yelp/yelp_entities#user_id/I200IyE9DCxJvvof2wnO6A</td>\n",
       "    </tr>\n",
       "    <tr>\n",
       "      <th>9</th>\n",
       "      <td>https://purl.archive.org/purl/yelp/yelp_entities#user_id/3N6-acEgosQSbipmBZKoSg</td>\n",
       "    </tr>\n",
       "    <tr>\n",
       "      <th>10</th>\n",
       "      <td>https://purl.archive.org/purl/yelp/yelp_entities#user_id/VTfl9PALOCiGV8SUBpCZEQ</td>\n",
       "    </tr>\n",
       "    <tr>\n",
       "      <th>11</th>\n",
       "      <td>https://purl.archive.org/purl/yelp/yelp_entities#user_id/G0PWeUgNeGDobntevJlJ1g</td>\n",
       "    </tr>\n",
       "    <tr>\n",
       "      <th>12</th>\n",
       "      <td>https://purl.archive.org/purl/yelp/yelp_entities#user_id/0oMk8hhMqiSt4G1BJjjG6g</td>\n",
       "    </tr>\n",
       "    <tr>\n",
       "      <th>13</th>\n",
       "      <td>https://purl.archive.org/purl/yelp/yelp_entities#user_id/vq2H7lJ73VwXMDqC8DiImw</td>\n",
       "    </tr>\n",
       "    <tr>\n",
       "      <th>14</th>\n",
       "      <td>https://purl.archive.org/purl/yelp/yelp_entities#user_id/U76IFozArZsShdmoIdDMUw</td>\n",
       "    </tr>\n",
       "    <tr>\n",
       "      <th>15</th>\n",
       "      <td>https://purl.archive.org/purl/yelp/yelp_entities#user_id/lzpM_Vf2rKA4ivGtAIOH4w</td>\n",
       "    </tr>\n",
       "    <tr>\n",
       "      <th>16</th>\n",
       "      <td>https://purl.archive.org/purl/yelp/yelp_entities#user_id/qH_QwXBgA4Z7WyCjtwRi2A</td>\n",
       "    </tr>\n",
       "    <tr>\n",
       "      <th>17</th>\n",
       "      <td>https://purl.archive.org/purl/yelp/yelp_entities#user_id/ufZfni7nb_KdJC6DXNfVHQ</td>\n",
       "    </tr>\n",
       "    <tr>\n",
       "      <th>18</th>\n",
       "      <td>https://purl.archive.org/purl/yelp/yelp_entities#user_id/UwaRBUSj45sE9_kAnaGggw</td>\n",
       "    </tr>\n",
       "    <tr>\n",
       "      <th>19</th>\n",
       "      <td>https://purl.archive.org/purl/yelp/yelp_entities#user_id/AQnEwfNAgdxqRWpia__syA</td>\n",
       "    </tr>\n",
       "    <tr>\n",
       "      <th>20</th>\n",
       "      <td>https://purl.archive.org/purl/yelp/yelp_entities#user_id/77n3enAMdlka0pZ82GT9VQ</td>\n",
       "    </tr>\n",
       "    <tr>\n",
       "      <th>21</th>\n",
       "      <td>https://purl.archive.org/purl/yelp/yelp_entities#user_id/I6tb6vPxJ8Tct79JgqIDrQ</td>\n",
       "    </tr>\n",
       "    <tr>\n",
       "      <th>22</th>\n",
       "      <td>https://purl.archive.org/purl/yelp/yelp_entities#user_id/NCeW1I6C4K7qhY4kRH8cOA</td>\n",
       "    </tr>\n",
       "    <tr>\n",
       "      <th>23</th>\n",
       "      <td>https://purl.archive.org/purl/yelp/yelp_entities#user_id/QLU-88WwG4hKj6jKSR8iig</td>\n",
       "    </tr>\n",
       "    <tr>\n",
       "      <th>24</th>\n",
       "      <td>https://purl.archive.org/purl/yelp/yelp_entities#user_id/OxvEeexqWWeWkPwkKtTy2Q</td>\n",
       "    </tr>\n",
       "    <tr>\n",
       "      <th>25</th>\n",
       "      <td>https://purl.archive.org/purl/yelp/yelp_entities#user_id/EkUWydx3bJmiMWOBmdVf4Q</td>\n",
       "    </tr>\n",
       "    <tr>\n",
       "      <th>26</th>\n",
       "      <td>https://purl.archive.org/purl/yelp/yelp_entities#user_id/5-L9Oo6PyUiBjeqj1GsJyQ</td>\n",
       "    </tr>\n",
       "    <tr>\n",
       "      <th>27</th>\n",
       "      <td>https://purl.archive.org/purl/yelp/yelp_entities#user_id/4bqSo-Xfd8Yu5BMDsd947Q</td>\n",
       "    </tr>\n",
       "    <tr>\n",
       "      <th>28</th>\n",
       "      <td>https://purl.archive.org/purl/yelp/yelp_entities#user_id/Qt6BEJjT05S-HCYKIS45dQ</td>\n",
       "    </tr>\n",
       "    <tr>\n",
       "      <th>29</th>\n",
       "      <td>https://purl.archive.org/purl/yelp/yelp_entities#user_id/PCS3F53ltR_svcnncSw6pw</td>\n",
       "    </tr>\n",
       "    <tr>\n",
       "      <th>30</th>\n",
       "      <td>https://purl.archive.org/purl/yelp/yelp_entities#user_id/b4QR6E98D4-xYBNFPWZEvg</td>\n",
       "    </tr>\n",
       "    <tr>\n",
       "      <th>31</th>\n",
       "      <td>https://purl.archive.org/purl/yelp/yelp_entities#user_id/I6G8wz_LD_8IsCPxvjs8SQ</td>\n",
       "    </tr>\n",
       "  </tbody>\n",
       "</table>\n",
       "</div>"
      ],
      "text/plain": [
       "                                                                         user.value\n",
       "0   https://purl.archive.org/purl/yelp/yelp_entities#user_id/dWZlWFtsEXFVq_vulT00lA\n",
       "1   https://purl.archive.org/purl/yelp/yelp_entities#user_id/MaengE6zJ6k_d5e6nwnVaA\n",
       "2   https://purl.archive.org/purl/yelp/yelp_entities#user_id/tquAg8GqbhN5k6Hkd23M0A\n",
       "3   https://purl.archive.org/purl/yelp/yelp_entities#user_id/433BzxUeQAmRmK0g06UAfA\n",
       "4   https://purl.archive.org/purl/yelp/yelp_entities#user_id/sxxnBQb15fOyg30JInIKqw\n",
       "5   https://purl.archive.org/purl/yelp/yelp_entities#user_id/5iBVQ3OeK8lV4Z_4PXc1Xw\n",
       "6   https://purl.archive.org/purl/yelp/yelp_entities#user_id/u8cq-5zzD7dPSa3LR8rIMw\n",
       "7   https://purl.archive.org/purl/yelp/yelp_entities#user_id/5XiPz5mJK_RtJQVkXIqxYg\n",
       "8   https://purl.archive.org/purl/yelp/yelp_entities#user_id/I200IyE9DCxJvvof2wnO6A\n",
       "9   https://purl.archive.org/purl/yelp/yelp_entities#user_id/3N6-acEgosQSbipmBZKoSg\n",
       "10  https://purl.archive.org/purl/yelp/yelp_entities#user_id/VTfl9PALOCiGV8SUBpCZEQ\n",
       "11  https://purl.archive.org/purl/yelp/yelp_entities#user_id/G0PWeUgNeGDobntevJlJ1g\n",
       "12  https://purl.archive.org/purl/yelp/yelp_entities#user_id/0oMk8hhMqiSt4G1BJjjG6g\n",
       "13  https://purl.archive.org/purl/yelp/yelp_entities#user_id/vq2H7lJ73VwXMDqC8DiImw\n",
       "14  https://purl.archive.org/purl/yelp/yelp_entities#user_id/U76IFozArZsShdmoIdDMUw\n",
       "15  https://purl.archive.org/purl/yelp/yelp_entities#user_id/lzpM_Vf2rKA4ivGtAIOH4w\n",
       "16  https://purl.archive.org/purl/yelp/yelp_entities#user_id/qH_QwXBgA4Z7WyCjtwRi2A\n",
       "17  https://purl.archive.org/purl/yelp/yelp_entities#user_id/ufZfni7nb_KdJC6DXNfVHQ\n",
       "18  https://purl.archive.org/purl/yelp/yelp_entities#user_id/UwaRBUSj45sE9_kAnaGggw\n",
       "19  https://purl.archive.org/purl/yelp/yelp_entities#user_id/AQnEwfNAgdxqRWpia__syA\n",
       "20  https://purl.archive.org/purl/yelp/yelp_entities#user_id/77n3enAMdlka0pZ82GT9VQ\n",
       "21  https://purl.archive.org/purl/yelp/yelp_entities#user_id/I6tb6vPxJ8Tct79JgqIDrQ\n",
       "22  https://purl.archive.org/purl/yelp/yelp_entities#user_id/NCeW1I6C4K7qhY4kRH8cOA\n",
       "23  https://purl.archive.org/purl/yelp/yelp_entities#user_id/QLU-88WwG4hKj6jKSR8iig\n",
       "24  https://purl.archive.org/purl/yelp/yelp_entities#user_id/OxvEeexqWWeWkPwkKtTy2Q\n",
       "25  https://purl.archive.org/purl/yelp/yelp_entities#user_id/EkUWydx3bJmiMWOBmdVf4Q\n",
       "26  https://purl.archive.org/purl/yelp/yelp_entities#user_id/5-L9Oo6PyUiBjeqj1GsJyQ\n",
       "27  https://purl.archive.org/purl/yelp/yelp_entities#user_id/4bqSo-Xfd8Yu5BMDsd947Q\n",
       "28  https://purl.archive.org/purl/yelp/yelp_entities#user_id/Qt6BEJjT05S-HCYKIS45dQ\n",
       "29  https://purl.archive.org/purl/yelp/yelp_entities#user_id/PCS3F53ltR_svcnncSw6pw\n",
       "30  https://purl.archive.org/purl/yelp/yelp_entities#user_id/b4QR6E98D4-xYBNFPWZEvg\n",
       "31  https://purl.archive.org/purl/yelp/yelp_entities#user_id/I6G8wz_LD_8IsCPxvjs8SQ"
      ]
     },
     "execution_count": 11,
     "metadata": {},
     "output_type": "execute_result"
    }
   ],
   "source": [
    "sparql_query = \"\"\"\n",
    "SELECT DISTINCT(?user)\n",
    "WHERE {\n",
    "    MINUS {\n",
    "        ?user rdfs:Class schema:Person .\n",
    "        }\n",
    "    ?review schema:author ?user .\n",
    "}\n",
    "\"\"\"\n",
    "\n",
    "run_query(query=sparql_query, as_dataframe=True)"
   ]
  },
  {
   "cell_type": "code",
   "execution_count": 13,
   "metadata": {},
   "outputs": [
    {
     "data": {
      "text/html": [
       "<div>\n",
       "<style scoped>\n",
       "    .dataframe tbody tr th:only-of-type {\n",
       "        vertical-align: middle;\n",
       "    }\n",
       "\n",
       "    .dataframe tbody tr th {\n",
       "        vertical-align: top;\n",
       "    }\n",
       "\n",
       "    .dataframe thead th {\n",
       "        text-align: right;\n",
       "    }\n",
       "</style>\n",
       "<table border=\"1\" class=\"dataframe\">\n",
       "  <thead>\n",
       "    <tr style=\"text-align: right;\">\n",
       "      <th></th>\n",
       "      <th>countUsers.value</th>\n",
       "    </tr>\n",
       "  </thead>\n",
       "  <tbody>\n",
       "    <tr>\n",
       "      <th>0</th>\n",
       "      <td>1987929</td>\n",
       "    </tr>\n",
       "  </tbody>\n",
       "</table>\n",
       "</div>"
      ],
      "text/plain": [
       "  countUsers.value\n",
       "0          1987929"
      ]
     },
     "execution_count": 13,
     "metadata": {},
     "output_type": "execute_result"
    }
   ],
   "source": [
    "sparql_query = \"\"\"\n",
    "SELECT COUNT(DISTINCT(?user)) AS ?countUsers\n",
    "WHERE {\n",
    "    ?review schema:author ?user .\n",
    "}\n",
    "\"\"\"\n",
    "\n",
    "run_query(query=sparql_query, as_dataframe=True)"
   ]
  },
  {
   "attachments": {},
   "cell_type": "markdown",
   "metadata": {
    "collapsed": false,
    "pycharm": {
     "name": "#%% md\n"
    }
   },
   "source": [
    "### CQ 11: How many users have 10 friends?"
   ]
  },
  {
   "cell_type": "code",
   "execution_count": 5,
   "metadata": {},
   "outputs": [
    {
     "data": {
      "text/html": [
       "<div>\n",
       "<style scoped>\n",
       "    .dataframe tbody tr th:only-of-type {\n",
       "        vertical-align: middle;\n",
       "    }\n",
       "\n",
       "    .dataframe tbody tr th {\n",
       "        vertical-align: top;\n",
       "    }\n",
       "\n",
       "    .dataframe thead th {\n",
       "        text-align: right;\n",
       "    }\n",
       "</style>\n",
       "<table border=\"1\" class=\"dataframe\">\n",
       "  <thead>\n",
       "    <tr style=\"text-align: right;\">\n",
       "      <th></th>\n",
       "      <th>callret-0.value</th>\n",
       "    </tr>\n",
       "  </thead>\n",
       "  <tbody>\n",
       "    <tr>\n",
       "      <th>0</th>\n",
       "      <td>13579</td>\n",
       "    </tr>\n",
       "  </tbody>\n",
       "</table>\n",
       "</div>"
      ],
      "text/plain": [
       "  callret-0.value\n",
       "0           13579"
      ]
     },
     "execution_count": 5,
     "metadata": {},
     "output_type": "execute_result"
    }
   ],
   "source": [
    "sparql_query = \"\"\"\n",
    "SELECT COUNT(*) as ?usersWith10Friends\n",
    "WHERE {\n",
    "    SELECT ?user COUNT(?friend) AS ?countUsers\n",
    "    WHERE {\n",
    "        ?user rdfs:Class schema:Person .\n",
    "        ?user schema:knows ?friend .\n",
    "    }\n",
    "    GROUP BY ?user\n",
    "    HAVING (COUNT(?friend) = 10)\n",
    "}\n",
    "\"\"\"\n",
    "\n",
    "run_query(query=sparql_query, as_dataframe=True)"
   ]
  },
  {
   "cell_type": "code",
   "execution_count": 11,
   "metadata": {
    "collapsed": false,
    "pycharm": {
     "name": "#%%\n"
    }
   },
   "outputs": [
    {
     "data": {
      "text/plain": [
       "13579"
      ]
     },
     "execution_count": 11,
     "metadata": {},
     "output_type": "execute_result"
    }
   ],
   "source": [
    "users[\"amountFriends\"] = users[\"friends\"].apply(lambda x: len(x.split(\",\")))\n",
    "users[users[\"amountFriends\"] == 10].shape[0]"
   ]
  },
  {
   "attachments": {},
   "cell_type": "markdown",
   "metadata": {},
   "source": [
    "### CQ 12: How many friends does a user have on average?\n",
    "TO DO: Is not giving correct result"
   ]
  },
  {
   "cell_type": "code",
   "execution_count": 99,
   "metadata": {},
   "outputs": [],
   "source": [
    "sparql_query=\"\"\"\n",
    "SELECT (xsd:double(?countFriends) / xsd:double(?countUser) AS ?averageFriends)\n",
    "WHERE {\n",
    "    {SELECT (COUNT(?user) AS ?countUser)\n",
    "    WHERE {\n",
    "        ?user rdfs:Class schema:Person .\n",
    "        }}\n",
    "    {SELECT (COUNT(?friend) AS ?countFriends)\n",
    "    WHERE {\n",
    "        ?user schema:knows ?friend .\n",
    "        }}\n",
    "}\n",
    "\"\"\"\n",
    "\n",
    "user_friend_counts = run_query(sparql_query, as_dataframe=True)"
   ]
  },
  {
   "cell_type": "code",
   "execution_count": 100,
   "metadata": {},
   "outputs": [
    {
     "data": {
      "text/html": [
       "<div>\n",
       "<style scoped>\n",
       "    .dataframe tbody tr th:only-of-type {\n",
       "        vertical-align: middle;\n",
       "    }\n",
       "\n",
       "    .dataframe tbody tr th {\n",
       "        vertical-align: top;\n",
       "    }\n",
       "\n",
       "    .dataframe thead th {\n",
       "        text-align: right;\n",
       "    }\n",
       "</style>\n",
       "<table border=\"1\" class=\"dataframe\">\n",
       "  <thead>\n",
       "    <tr style=\"text-align: right;\">\n",
       "      <th></th>\n",
       "      <th>countUser.value</th>\n",
       "      <th>countFriends.value</th>\n",
       "      <th>averageFriends.value</th>\n",
       "    </tr>\n",
       "  </thead>\n",
       "  <tbody>\n",
       "    <tr>\n",
       "      <th>0</th>\n",
       "      <td>1987897</td>\n",
       "      <td>105225474</td>\n",
       "      <td>52.9331</td>\n",
       "    </tr>\n",
       "  </tbody>\n",
       "</table>\n",
       "</div>"
      ],
      "text/plain": [
       "  countUser.value countFriends.value averageFriends.value\n",
       "0         1987897          105225474              52.9331"
      ]
     },
     "execution_count": 100,
     "metadata": {},
     "output_type": "execute_result"
    }
   ],
   "source": [
    "user_friend_counts"
   ]
  },
  {
   "cell_type": "code",
   "execution_count": 42,
   "metadata": {},
   "outputs": [
    {
     "data": {
      "text/plain": [
       "52.93306142119033"
      ]
     },
     "execution_count": 42,
     "metadata": {},
     "output_type": "execute_result"
    }
   ],
   "source": [
    "# Import the necessary libraries\n",
    "import json\n",
    "import numpy as np\n",
    "# Open the file containing the user data\n",
    "with open(file=\"/home/ubuntu/OneDrive/DVML-P7/Data/yelp_academic_dataset_user.json\", mode=\"r\") as file:\n",
    "    # Initialize an empty list to store the number of friends for each user\n",
    "    number_of_friends = []\n",
    "    # Iterate over each line in the file\n",
    "    for line in file:\n",
    "        # Parse the data from the line as a JSON object\n",
    "        data = json.loads(line)\n",
    "        # Extract the list of friends for the current user\n",
    "        friend_ids = data['friends']\n",
    "        # If the user has friends, append the number of friends to the list\n",
    "        if friend_ids != 'None':\n",
    "            number_of_friends.append(len(friend_ids.split(', ')))\n",
    "        # If the user does not have friends, append 0 to the list\n",
    "        else:\n",
    "            number_of_friends.append(0)\n",
    "# Calculate the mean number of friends\n",
    "mean_num_friends = np.mean(number_of_friends)\n",
    "# Print the result\n",
    "print(mean_num_friends)"
   ]
  },
  {
   "cell_type": "code",
   "execution_count": 43,
   "metadata": {},
   "outputs": [
    {
     "data": {
      "text/plain": [
       "878551"
      ]
     },
     "execution_count": 43,
     "metadata": {},
     "output_type": "execute_result"
    }
   ],
   "source": [
    "from collections import Counter\n",
    "\n",
    "dict(Counter(number_of_friends))[0]"
   ]
  },
  {
   "cell_type": "code",
   "execution_count": 45,
   "metadata": {},
   "outputs": [
    {
     "data": {
      "text/plain": [
       "1987897"
      ]
     },
     "execution_count": 45,
     "metadata": {},
     "output_type": "execute_result"
    }
   ],
   "source": [
    "len(number_of_friends)"
   ]
  },
  {
   "cell_type": "code",
   "execution_count": 44,
   "metadata": {},
   "outputs": [
    {
     "data": {
      "text/plain": [
       "105225474"
      ]
     },
     "execution_count": 44,
     "metadata": {},
     "output_type": "execute_result"
    }
   ],
   "source": [
    "sum(number_of_friends)"
   ]
  },
  {
   "cell_type": "code",
   "execution_count": 15,
   "metadata": {},
   "outputs": [],
   "source": [
    "import json\n",
    "import numpy as np\n",
    "with open(file=\"/home/ubuntu/none_list_user.txt\", mode=\"r\") as file:\n",
    "    number_of_nonefriends = []\n",
    "    for line in file:\n",
    "        if 'friend' in line:\n",
    "            number_of_nonefriends.append(line)\n"
   ]
  },
  {
   "cell_type": "code",
   "execution_count": 31,
   "metadata": {},
   "outputs": [
    {
     "data": {
      "text/plain": [
       "878551"
      ]
     },
     "execution_count": 31,
     "metadata": {},
     "output_type": "execute_result"
    }
   ],
   "source": [
    "len(number_of_nonefriends)"
   ]
  },
  {
   "attachments": {},
   "cell_type": "markdown",
   "metadata": {
    "collapsed": false,
    "pycharm": {
     "name": "#%% md\n"
    }
   },
   "source": [
    "### CQ 13: How many users have authored 10 reviews?"
   ]
  },
  {
   "cell_type": "code",
   "execution_count": 84,
   "metadata": {
    "collapsed": false,
    "pycharm": {
     "name": "#%%\n"
    }
   },
   "outputs": [
    {
     "data": {
      "text/html": [
       "<div>\n",
       "<style scoped>\n",
       "    .dataframe tbody tr th:only-of-type {\n",
       "        vertical-align: middle;\n",
       "    }\n",
       "\n",
       "    .dataframe tbody tr th {\n",
       "        vertical-align: top;\n",
       "    }\n",
       "\n",
       "    .dataframe thead th {\n",
       "        text-align: right;\n",
       "    }\n",
       "</style>\n",
       "<table border=\"1\" class=\"dataframe\">\n",
       "  <thead>\n",
       "    <tr style=\"text-align: right;\">\n",
       "      <th></th>\n",
       "      <th>countUsers.value</th>\n",
       "    </tr>\n",
       "  </thead>\n",
       "  <tbody>\n",
       "    <tr>\n",
       "      <th>0</th>\n",
       "      <td>14119</td>\n",
       "    </tr>\n",
       "  </tbody>\n",
       "</table>\n",
       "</div>"
      ],
      "text/plain": [
       "  countUsers.value\n",
       "0            14119"
      ]
     },
     "execution_count": 84,
     "metadata": {},
     "output_type": "execute_result"
    }
   ],
   "source": [
    "sparql_query = \"\"\"\n",
    "SELECT COUNT(DISTINCT(?user)) AS ?countUsers\n",
    "WHERE {\n",
    "    SELECT ?user COUNT(?review) as ?numberOfReviews\n",
    "    WHERE {\n",
    "        ?user rdfs:Class schema:Person .\n",
    "        ?review schema:author ?user .\n",
    "    }\n",
    "    GROUP BY ?user\n",
    "    HAVING (COUNT(?review) = 10)\n",
    "}\n",
    "\"\"\"\n",
    "\n",
    "run_query(query=sparql_query, as_dataframe=True)"
   ]
  },
  {
   "cell_type": "code",
   "execution_count": 17,
   "metadata": {
    "collapsed": false,
    "pycharm": {
     "name": "#%%\n"
    }
   },
   "outputs": [
    {
     "data": {
      "text/plain": [
       "14119"
      ]
     },
     "execution_count": 17,
     "metadata": {},
     "output_type": "execute_result"
    }
   ],
   "source": [
    "# Count how many users have authored 10 reviews\n",
    "reviews.groupby(\"user_id\").size().reset_index(name=\"count\").query(\"count == 10\").shape[0]"
   ]
  },
  {
   "attachments": {},
   "cell_type": "markdown",
   "metadata": {},
   "source": [
    "### CQ 14: How many reviews did users make in May 2018?"
   ]
  },
  {
   "cell_type": "code",
   "execution_count": 12,
   "metadata": {},
   "outputs": [
    {
     "data": {
      "text/html": [
       "<div>\n",
       "<style scoped>\n",
       "    .dataframe tbody tr th:only-of-type {\n",
       "        vertical-align: middle;\n",
       "    }\n",
       "\n",
       "    .dataframe tbody tr th {\n",
       "        vertical-align: top;\n",
       "    }\n",
       "\n",
       "    .dataframe thead th {\n",
       "        text-align: right;\n",
       "    }\n",
       "</style>\n",
       "<table border=\"1\" class=\"dataframe\">\n",
       "  <thead>\n",
       "    <tr style=\"text-align: right;\">\n",
       "      <th></th>\n",
       "      <th>year.value</th>\n",
       "      <th>month.value</th>\n",
       "      <th>countReviews.value</th>\n",
       "    </tr>\n",
       "  </thead>\n",
       "  <tbody>\n",
       "    <tr>\n",
       "      <th>0</th>\n",
       "      <td>2018</td>\n",
       "      <td>5</td>\n",
       "      <td>79434</td>\n",
       "    </tr>\n",
       "  </tbody>\n",
       "</table>\n",
       "</div>"
      ],
      "text/plain": [
       "  year.value month.value countReviews.value\n",
       "0       2018           5              79434"
      ]
     },
     "execution_count": 12,
     "metadata": {},
     "output_type": "execute_result"
    }
   ],
   "source": [
    "sparql_query = \"\"\"\n",
    "SELECT ?year ?month COUNT(?review) as ?countReviews\n",
    "WHERE {\n",
    "    ?review rdfs:Class schema:UserReview .\n",
    "    ?review schema:dateCreated ?date .\n",
    "    BIND (month(?date) as ?month) .\n",
    "    BIND (year(?date) as ?year) .\n",
    "    VALUES ?year {2018}\n",
    "    VALUES ?month {5}\n",
    "}\n",
    "GROUP BY ?year ?month\n",
    "\"\"\"\n",
    "\n",
    "run_query(query=sparql_query, as_dataframe=True)"
   ]
  },
  {
   "cell_type": "code",
   "execution_count": 3,
   "metadata": {},
   "outputs": [
    {
     "data": {
      "text/plain": [
       "79434"
      ]
     },
     "execution_count": 3,
     "metadata": {},
     "output_type": "execute_result"
    }
   ],
   "source": [
    "reviews['YEAR'] = reviews.date.dt.year\n",
    "reviews['MONTH'] = reviews.date.dt.month\n",
    "reviews.query(\"YEAR == 2018 & MONTH == 5\").shape[0]"
   ]
  },
  {
   "cell_type": "code",
   "execution_count": 126,
   "metadata": {},
   "outputs": [
    {
     "data": {
      "text/plain": [
       "79434"
      ]
     },
     "execution_count": 126,
     "metadata": {},
     "output_type": "execute_result"
    }
   ],
   "source": [
    "from datetime import datetime\n",
    "reviewers = 0\n",
    "# Open JSON file for reading\n",
    "with open(file=get_path(\"yelp_academic_dataset_review.json\"), mode=\"r\") as file:\n",
    "    # Iterate through each line in the file\n",
    "    for line in file:\n",
    "        # Parse line as a dictionary\n",
    "        data = json.loads(line)\n",
    "        review_date = datetime.strptime(data['date'], '%Y-%m-%d %H:%M:%S')\n",
    "        if review_date.year == 2018 and review_date.month == 5:\n",
    "            reviewers += 1\n",
    "reviewers"
   ]
  },
  {
   "attachments": {},
   "cell_type": "markdown",
   "metadata": {},
   "source": [
    "### CQ 15: What parking options can a business provide?"
   ]
  },
  {
   "cell_type": "code",
   "execution_count": 27,
   "metadata": {},
   "outputs": [
    {
     "data": {
      "text/html": [
       "<div>\n",
       "<style scoped>\n",
       "    .dataframe tbody tr th:only-of-type {\n",
       "        vertical-align: middle;\n",
       "    }\n",
       "\n",
       "    .dataframe tbody tr th {\n",
       "        vertical-align: top;\n",
       "    }\n",
       "\n",
       "    .dataframe thead th {\n",
       "        text-align: right;\n",
       "    }\n",
       "</style>\n",
       "<table border=\"1\" class=\"dataframe\">\n",
       "  <thead>\n",
       "    <tr style=\"text-align: right;\">\n",
       "      <th></th>\n",
       "      <th>p.value</th>\n",
       "    </tr>\n",
       "  </thead>\n",
       "  <tbody>\n",
       "    <tr>\n",
       "      <th>0</th>\n",
       "      <td>https://purl.archive.org/purl/yelp/ontology#hasgarage</td>\n",
       "    </tr>\n",
       "    <tr>\n",
       "      <th>1</th>\n",
       "      <td>https://purl.archive.org/purl/yelp/ontology#haslot</td>\n",
       "    </tr>\n",
       "    <tr>\n",
       "      <th>2</th>\n",
       "      <td>https://purl.archive.org/purl/yelp/ontology#hasstreet</td>\n",
       "    </tr>\n",
       "    <tr>\n",
       "      <th>3</th>\n",
       "      <td>https://purl.archive.org/purl/yelp/ontology#hasvalet</td>\n",
       "    </tr>\n",
       "    <tr>\n",
       "      <th>4</th>\n",
       "      <td>https://purl.archive.org/purl/yelp/ontology#hasvalidated</td>\n",
       "    </tr>\n",
       "  </tbody>\n",
       "</table>\n",
       "</div>"
      ],
      "text/plain": [
       "                                                    p.value\n",
       "0     https://purl.archive.org/purl/yelp/ontology#hasgarage\n",
       "1        https://purl.archive.org/purl/yelp/ontology#haslot\n",
       "2     https://purl.archive.org/purl/yelp/ontology#hasstreet\n",
       "3      https://purl.archive.org/purl/yelp/ontology#hasvalet\n",
       "4  https://purl.archive.org/purl/yelp/ontology#hasvalidated"
      ]
     },
     "execution_count": 27,
     "metadata": {},
     "output_type": "execute_result"
    }
   ],
   "source": [
    "sparql_query = \"\"\"\n",
    "SELECT DISTINCT ?p\n",
    "WHERE {\n",
    "    ?s rdfs:Class schema:ParkingFacility.\n",
    "    ?s ?p ?parking .\n",
    "    MINUS {\n",
    "        ?s rdfs:Class ?parking.\n",
    "        }\n",
    "}\n",
    "\"\"\"\n",
    "\n",
    "run_query(query=sparql_query, as_dataframe=True)"
   ]
  },
  {
   "cell_type": "code",
   "execution_count": 71,
   "metadata": {},
   "outputs": [],
   "source": [
    "# Initialize empty list to store business parking options\n",
    "BusinessParking = []\n",
    "# Open JSON file for reading\n",
    "with open(file=get_path(\"yelp_academic_dataset_business.json\"), mode=\"r\") as file:\n",
    "    # Iterate through each line in the file\n",
    "    for line in file:\n",
    "        # Parse line as a dictionary\n",
    "        data = json.loads(line)\n",
    "        try:\n",
    "            # Extract 'BusinessParking' value from dictionary\n",
    "            _dict = data['attributes']['BusinessParking']\n",
    "            # If 'BusinessParking' value is a string, modify it and parse as a dictionary\n",
    "            if isinstance(_dict, str):\n",
    "                _dict = _dict.replace(\"'\", '\"').replace(\"None\", \"null\").replace('u\"', '\"').replace(\"True\", \"true\").replace(\"False\", \"false\") \n",
    "                _dict = json.loads(_dict)\n",
    "            # Store modified dictionary in 'parkingopt' variable\n",
    "            parkingopt = _dict\n",
    "            # Append 'parkingopt' to 'BusinessParking' list\n",
    "            BusinessParking.append(parkingopt)\n",
    "        # If any errors are raised (e.g. missing keys), do nothing and continue to next iteration\n",
    "        except:\n",
    "            pass\n"
   ]
  },
  {
   "cell_type": "code",
   "execution_count": 72,
   "metadata": {},
   "outputs": [
    {
     "data": {
      "text/plain": [
       "{'garage', 'lot', 'street', 'valet', 'validated'}"
      ]
     },
     "execution_count": 72,
     "metadata": {},
     "output_type": "execute_result"
    }
   ],
   "source": [
    "# Initialize empty list to store parking option names\n",
    "num_parkingopt = []\n",
    "# Iterate through each business parking option dictionary\n",
    "for parkings in BusinessParking:\n",
    "    # If the dictionary is not empty (i.e. is not 'None')\n",
    "    if parkings is not None:\n",
    "        # Iterate through each key (i.e. parking option name) in the dictionary\n",
    "        for parkingopt in parkings.keys():\n",
    "            # Append the parking option name to the list\n",
    "            num_parkingopt.append(parkingopt)\n",
    "# Convert list to a set to remove duplicate values, and assign to 'set(num_parkingopt)'\n",
    "set(num_parkingopt)\n"
   ]
  },
  {
   "attachments": {},
   "cell_type": "markdown",
   "metadata": {},
   "source": [
    "### CQ 16: How many businesses has karaoke music?"
   ]
  },
  {
   "cell_type": "code",
   "execution_count": 89,
   "metadata": {},
   "outputs": [
    {
     "data": {
      "text/html": [
       "<div>\n",
       "<style scoped>\n",
       "    .dataframe tbody tr th:only-of-type {\n",
       "        vertical-align: middle;\n",
       "    }\n",
       "\n",
       "    .dataframe tbody tr th {\n",
       "        vertical-align: top;\n",
       "    }\n",
       "\n",
       "    .dataframe thead th {\n",
       "        text-align: right;\n",
       "    }\n",
       "</style>\n",
       "<table border=\"1\" class=\"dataframe\">\n",
       "  <thead>\n",
       "    <tr style=\"text-align: right;\">\n",
       "      <th></th>\n",
       "      <th>businessesWithKaraoke.value</th>\n",
       "    </tr>\n",
       "  </thead>\n",
       "  <tbody>\n",
       "    <tr>\n",
       "      <th>0</th>\n",
       "      <td>75</td>\n",
       "    </tr>\n",
       "  </tbody>\n",
       "</table>\n",
       "</div>"
      ],
      "text/plain": [
       "  businessesWithKaraoke.value\n",
       "0                          75"
      ]
     },
     "execution_count": 89,
     "metadata": {},
     "output_type": "execute_result"
    }
   ],
   "source": [
    "sparql_query = \"\"\"\n",
    "SELECT COUNT(DISTINCT ?business) AS ?businessesWithKaraoke\n",
    "WHERE {\n",
    "    ?business yelpont:hasMusic ?blank .\n",
    "    ?blank yelpont:haskaraoke 1 .\n",
    "}\n",
    "\"\"\"\n",
    "\n",
    "run_query(query=sparql_query, as_dataframe=True)"
   ]
  },
  {
   "cell_type": "code",
   "execution_count": 106,
   "metadata": {},
   "outputs": [],
   "source": [
    "from collections import Counter\n",
    "# Initialize a list to store the karaoke values found in the input file\n",
    "karaoke_values = []\n",
    "\n",
    "# Open the input file for reading\n",
    "with open(file=get_path(\"yelp_academic_dataset_business.json\"), mode=\"r\") as file:\n",
    "    # Iterate over each line in the file\n",
    "    for line in file:\n",
    "        # Load the JSON data from the line\n",
    "        data = json.loads(line)\n",
    "        try:\n",
    "            # Extract the Music dictionary from the data\n",
    "            music_dict = data['attributes']['Music']\n",
    "            # Check if the Music value is a string\n",
    "            if isinstance(music_dict, str):\n",
    "                # Replace various substrings in the Music string with their JSON equivalent\n",
    "                music_dict = music_dict.replace(\"'\", '\"').replace(\"None\", \"null\").replace('u\"', '\"').replace(\"True\", \"true\").replace(\"False\", \"false\") \n",
    "                # Parse the Music string as JSON\n",
    "                music_dict = json.loads(music_dict)\n",
    "            # Extract the karaoke value from the Music dictionary\n",
    "            karaoke = music_dict['karaoke']\n",
    "            # Add the karaoke value to the list\n",
    "            karaoke_values.append(karaoke)\n",
    "        except:\n",
    "            # Catch any exceptions that may be raised and do nothing\n",
    "            pass\n",
    "# Count the number of True values in the list\n",
    "dict(Counter(karaoke_values))[True]"
   ]
  }
 ],
 "metadata": {
  "kernelspec": {
   "display_name": "Python 3",
   "language": "python",
   "name": "python3"
  },
  "language_info": {
   "codemirror_mode": {
    "name": "ipython",
    "version": 3
   },
   "file_extension": ".py",
   "mimetype": "text/x-python",
   "name": "python",
   "nbconvert_exporter": "python",
   "pygments_lexer": "ipython3",
   "version": "3.10.6"
  },
  "vscode": {
   "interpreter": {
    "hash": "7e1998ff7f8aa20ada591c520b972326324e5ea05489af9e422744c7c09f6dad"
   }
  }
 },
 "nbformat": 4,
 "nbformat_minor": 0
}
