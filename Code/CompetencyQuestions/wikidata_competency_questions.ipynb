{
 "cells": [
  {
   "cell_type": "code",
   "execution_count": 20,
   "metadata": {
    "collapsed": true
   },
   "outputs": [],
   "source": [
    "from Code.UtilityFunctions.run_query import run_query\n",
    "from SPARQLWrapper import SPARQLWrapper, JSON\n",
    "from Code.UtilityFunctions.wikidata_functions import wikidata_query\n",
    "from Code.UtilityFunctions.get_data_path import get_path\n",
    "import sys\n",
    "import pandas as pd"
   ]
  },
  {
   "cell_type": "code",
   "execution_count": 7,
   "metadata": {},
   "outputs": [],
   "source": [
    "\n",
    "def dbpedia_query(sparql_query: str):\n",
    "    \"\"\"\n",
    "    It takes a SPARQL query as a string, and returns a pandas dataframe of the results\n",
    "    \n",
    "    :param sparql_query: the query you want to run\n",
    "    :type sparql_query: str\n",
    "    :return: The query returns the wikidata item id, the wikidata item label, the wikidata item\n",
    "    description, and the wikidata item category.\n",
    "    \"\"\"\n",
    "    user_agent = \"Yelp knowledge graph mapping/%s.%s\" % (sys.version_info[0], sys.version_info[1])\n",
    "    sparql = SPARQLWrapper(\"https://dbpedia.org/sparql\", agent=user_agent)\n",
    "    sparql.setQuery(sparql_query)\n",
    "    sparql.setReturnFormat(JSON)\n",
    "    results = sparql.query().convert()\n",
    "    results_df = pd.json_normalize(results['results']['bindings'])\n",
    "    return results_df"
   ]
  },
  {
   "attachments": {},
   "cell_type": "markdown",
   "metadata": {
    "collapsed": false
   },
   "source": [
    "### How many people live in the city of top ten most prevelent cities in Yelp?"
   ]
  },
  {
   "attachments": {},
   "cell_type": "markdown",
   "metadata": {},
   "source": [
    "### Wikidata"
   ]
  },
  {
   "cell_type": "code",
   "execution_count": 21,
   "metadata": {},
   "outputs": [],
   "source": [
    "biz = pd.read_json(get_path(\"yelp_academic_dataset_business.json\"), lines=True)"
   ]
  },
  {
   "cell_type": "code",
   "execution_count": 83,
   "metadata": {},
   "outputs": [
    {
     "data": {
      "text/plain": [
       "city           state\n",
       "Philadelphia   PA       14567\n",
       "Tucson         AZ        9249\n",
       "Tampa          FL        9048\n",
       "Indianapolis   IN        7540\n",
       "Nashville      TN        6968\n",
       "New Orleans    LA        6208\n",
       "Reno           NV        5932\n",
       "Edmonton       AB        5054\n",
       "Saint Louis    MO        4827\n",
       "Santa Barbara  CA        3829\n",
       "dtype: int64"
      ]
     },
     "execution_count": 83,
     "metadata": {},
     "output_type": "execute_result"
    }
   ],
   "source": [
    "biz[['city', 'state']].value_counts().head(10)"
   ]
  },
  {
   "cell_type": "code",
   "execution_count": 32,
   "metadata": {},
   "outputs": [
    {
     "data": {
      "text/plain": [
       "{'Philadelphia': 'Q1345',\n",
       " 'Tucson': 'Q18575',\n",
       " 'Tampa': 'Q49255',\n",
       " 'Indianapolis': 'Q6346',\n",
       " 'Nashville': 'Q23197',\n",
       " 'New Orleans': 'Q34404',\n",
       " 'Reno': 'Q49225',\n",
       " 'Edmonton': 'Q2096',\n",
       " 'Saint Louis': 'Q38022',\n",
       " 'Santa Barbara': 'Q159288'}"
      ]
     },
     "execution_count": 32,
     "metadata": {},
     "output_type": "execute_result"
    }
   ],
   "source": [
    "wikidata_city_dict = {\n",
    "    'Philadelphia': 'Q1345',\n",
    "    'Tucson': 'Q18575',\n",
    "    'Tampa': 'Q49255',\n",
    "    'Indianapolis': 'Q6346',\n",
    "    'Nashville': 'Q23197',\n",
    "    'New Orleans': 'Q34404',\n",
    "    'Reno': 'Q49225',\n",
    "    'Edmonton': 'Q2096',\n",
    "    'Saint Louis': 'Q38022',\n",
    "    'Santa Barbara': 'Q159288'\n",
    "    }"
   ]
  },
  {
   "cell_type": "code",
   "execution_count": 71,
   "metadata": {
    "collapsed": false,
    "pycharm": {
     "name": "#%%\n"
    }
   },
   "outputs": [],
   "source": [
    "list_of_cities = \"wd:Q1345 wd:Q18575 wd:Q49255 wd:Q6346 wd:Q23197 wd:Q34404 wd:Q49225 wd:Q2096 wd:Q38022 wd:Q159288\"\n",
    "sparql_query = f\"\"\"\n",
    "SELECT ?city ?population ?cityLabel \n",
    "WHERE {{\n",
    "  ?city p:P1082 ?statement .\n",
    "  ?statement ps:P1082 ?population .\n",
    "  ?statement pq:P585 ?date .\n",
    "  FILTER NOT EXISTS {{\n",
    "    ?city p:P1082/pq:P585 ?date2 .\n",
    "    FILTER(?date2 > ?date)\n",
    "  }}\n",
    "  VALUES ?city {{{list_of_cities}}} .\n",
    "  SERVICE wikibase:label {{ bd:serviceParam wikibase:language \"en\" . }}\n",
    "}}\n",
    "\"\"\"\n",
    "\n",
    "wikidata_pop = wikidata_query(sparql_query=sparql_query)"
   ]
  },
  {
   "attachments": {},
   "cell_type": "markdown",
   "metadata": {},
   "source": [
    "### DBpedia"
   ]
  },
  {
   "cell_type": "code",
   "execution_count": 67,
   "metadata": {},
   "outputs": [],
   "source": [
    "dbpedia_city_dict = {\n",
    "    'Philidelphia': '\"Philadelphia\"',\n",
    "    'Tucson': '\"Tucson, Arizona\"',\n",
    "    'Tampa': '\"Tampa, Florida\"',\n",
    "    'Indianapolis': '\"Indianapolis\"',\n",
    "    'Nashville': '\"Nashville, Tennessee\"',\n",
    "    'New Orleans': '\"New Orleans\"',\n",
    "    'Reno': '\"Reno, Nevada\"',\n",
    "    'Edmonton': '\"Edmonton\"',\n",
    "    'Saint Louis': '\"St. Louis\"',\n",
    "    'Santa Barbara': '\"Santa Barbara, California\"@en'}"
   ]
  },
  {
   "cell_type": "code",
   "execution_count": 68,
   "metadata": {},
   "outputs": [
    {
     "data": {
      "text/plain": [
       "'\"Philadelphia\"@en \"Tucson, Arizona\"@en \"Tampa, Florida\"@en \"Indianapolis\"@en \"Nashville, Tennessee\"@en \"New Orleans\"@en \"Reno, Nevada\"@en \"Edmonton\"@en \"St. Louis\"@en \"Santa Barbara, California\"@en'"
      ]
     },
     "execution_count": 68,
     "metadata": {},
     "output_type": "execute_result"
    }
   ],
   "source": [
    "\"@en \".join([i for i in dbpedia_city_dict.values()])"
   ]
  },
  {
   "cell_type": "code",
   "execution_count": 70,
   "metadata": {},
   "outputs": [],
   "source": [
    "# list_of_cities = '\"Philadelphia\"@en \"Tucson, Arizona\"@en \"Tampa\"@en \"Indianapolis\"@en \"Nashville\"@en \"New Orleans\"@en \"Reno\"@en \"Edmonton\"@en \"Saint Louis\"@en \"Santa Barbara\"@en'\n",
    "list_of_cities = \"@en \".join([i for i in dbpedia_city_dict.values()])\n",
    "query = f\"\"\"\n",
    "SELECT DISTINCT ?city ?population ?cityname\n",
    "WHERE {{\n",
    "    ?city a dbo:City .\n",
    "    ?city dbo:populationTotal ?population .\n",
    "    ?city rdfs:label ?cityname .\n",
    "    VALUES ?cityname{{{list_of_cities}}}\n",
    "}}\n",
    "\"\"\"\n",
    "dbpedia_pop = dbpedia_query(query)"
   ]
  },
  {
   "attachments": {},
   "cell_type": "markdown",
   "metadata": {},
   "source": [
    "### compare WikiData and DBpedia"
   ]
  },
  {
   "cell_type": "code",
   "execution_count": 81,
   "metadata": {},
   "outputs": [
    {
     "data": {
      "text/html": [
       "<div>\n",
       "<style scoped>\n",
       "    .dataframe tbody tr th:only-of-type {\n",
       "        vertical-align: middle;\n",
       "    }\n",
       "\n",
       "    .dataframe tbody tr th {\n",
       "        vertical-align: top;\n",
       "    }\n",
       "\n",
       "    .dataframe thead th {\n",
       "        text-align: right;\n",
       "    }\n",
       "</style>\n",
       "<table border=\"1\" class=\"dataframe\">\n",
       "  <thead>\n",
       "    <tr style=\"text-align: right;\">\n",
       "      <th></th>\n",
       "      <th>cityLabel.value</th>\n",
       "      <th>population.value</th>\n",
       "    </tr>\n",
       "  </thead>\n",
       "  <tbody>\n",
       "    <tr>\n",
       "      <th>3</th>\n",
       "      <td>Indianapolis</td>\n",
       "      <td>887642</td>\n",
       "    </tr>\n",
       "    <tr>\n",
       "      <th>0</th>\n",
       "      <td>Santa Barbara</td>\n",
       "      <td>88665</td>\n",
       "    </tr>\n",
       "    <tr>\n",
       "      <th>5</th>\n",
       "      <td>Nashville</td>\n",
       "      <td>684410</td>\n",
       "    </tr>\n",
       "    <tr>\n",
       "      <th>4</th>\n",
       "      <td>Tucson</td>\n",
       "      <td>542629</td>\n",
       "    </tr>\n",
       "    <tr>\n",
       "      <th>9</th>\n",
       "      <td>Tampa</td>\n",
       "      <td>384959</td>\n",
       "    </tr>\n",
       "    <tr>\n",
       "      <th>6</th>\n",
       "      <td>New Orleans</td>\n",
       "      <td>383997</td>\n",
       "    </tr>\n",
       "    <tr>\n",
       "      <th>7</th>\n",
       "      <td>St. Louis</td>\n",
       "      <td>301578</td>\n",
       "    </tr>\n",
       "    <tr>\n",
       "      <th>8</th>\n",
       "      <td>Reno</td>\n",
       "      <td>264165</td>\n",
       "    </tr>\n",
       "    <tr>\n",
       "      <th>1</th>\n",
       "      <td>Philadelphia</td>\n",
       "      <td>1603797</td>\n",
       "    </tr>\n",
       "    <tr>\n",
       "      <th>2</th>\n",
       "      <td>Edmonton</td>\n",
       "      <td>1010899</td>\n",
       "    </tr>\n",
       "  </tbody>\n",
       "</table>\n",
       "</div>"
      ],
      "text/plain": [
       "  cityLabel.value population.value\n",
       "3    Indianapolis           887642\n",
       "0   Santa Barbara            88665\n",
       "5       Nashville           684410\n",
       "4          Tucson           542629\n",
       "9           Tampa           384959\n",
       "6     New Orleans           383997\n",
       "7       St. Louis           301578\n",
       "8            Reno           264165\n",
       "1    Philadelphia          1603797\n",
       "2        Edmonton          1010899"
      ]
     },
     "execution_count": 81,
     "metadata": {},
     "output_type": "execute_result"
    }
   ],
   "source": [
    "wikidata_pop[['cityLabel.value', 'population.value']].sort_values(by='population.value', ascending=False)"
   ]
  },
  {
   "cell_type": "code",
   "execution_count": 82,
   "metadata": {},
   "outputs": [
    {
     "data": {
      "text/html": [
       "<div>\n",
       "<style scoped>\n",
       "    .dataframe tbody tr th:only-of-type {\n",
       "        vertical-align: middle;\n",
       "    }\n",
       "\n",
       "    .dataframe tbody tr th {\n",
       "        vertical-align: top;\n",
       "    }\n",
       "\n",
       "    .dataframe thead th {\n",
       "        text-align: right;\n",
       "    }\n",
       "</style>\n",
       "<table border=\"1\" class=\"dataframe\">\n",
       "  <thead>\n",
       "    <tr style=\"text-align: right;\">\n",
       "      <th></th>\n",
       "      <th>cityname.value</th>\n",
       "      <th>population.value</th>\n",
       "    </tr>\n",
       "  </thead>\n",
       "  <tbody>\n",
       "    <tr>\n",
       "      <th>9</th>\n",
       "      <td>Indianapolis</td>\n",
       "      <td>887642</td>\n",
       "    </tr>\n",
       "    <tr>\n",
       "      <th>0</th>\n",
       "      <td>Santa Barbara, California</td>\n",
       "      <td>88665</td>\n",
       "    </tr>\n",
       "    <tr>\n",
       "      <th>3</th>\n",
       "      <td>Nashville, Tennessee</td>\n",
       "      <td>715884</td>\n",
       "    </tr>\n",
       "    <tr>\n",
       "      <th>4</th>\n",
       "      <td>Tucson, Arizona</td>\n",
       "      <td>542629</td>\n",
       "    </tr>\n",
       "    <tr>\n",
       "      <th>1</th>\n",
       "      <td>Tampa, Florida</td>\n",
       "      <td>384959</td>\n",
       "    </tr>\n",
       "    <tr>\n",
       "      <th>5</th>\n",
       "      <td>New Orleans</td>\n",
       "      <td>383997</td>\n",
       "    </tr>\n",
       "    <tr>\n",
       "      <th>8</th>\n",
       "      <td>St. Louis</td>\n",
       "      <td>301578</td>\n",
       "    </tr>\n",
       "    <tr>\n",
       "      <th>2</th>\n",
       "      <td>Reno, Nevada</td>\n",
       "      <td>264165</td>\n",
       "    </tr>\n",
       "    <tr>\n",
       "      <th>6</th>\n",
       "      <td>Philadelphia</td>\n",
       "      <td>1603797</td>\n",
       "    </tr>\n",
       "    <tr>\n",
       "      <th>7</th>\n",
       "      <td>Edmonton</td>\n",
       "      <td>1010899</td>\n",
       "    </tr>\n",
       "  </tbody>\n",
       "</table>\n",
       "</div>"
      ],
      "text/plain": [
       "              cityname.value population.value\n",
       "9               Indianapolis           887642\n",
       "0  Santa Barbara, California            88665\n",
       "3       Nashville, Tennessee           715884\n",
       "4            Tucson, Arizona           542629\n",
       "1             Tampa, Florida           384959\n",
       "5                New Orleans           383997\n",
       "8                  St. Louis           301578\n",
       "2               Reno, Nevada           264165\n",
       "6               Philadelphia          1603797\n",
       "7                   Edmonton          1010899"
      ]
     },
     "execution_count": 82,
     "metadata": {},
     "output_type": "execute_result"
    }
   ],
   "source": [
    "dbpedia_pop[['cityname.value', 'population.value']].sort_values(by='population.value', ascending=False)"
   ]
  },
  {
   "cell_type": "markdown",
   "metadata": {
    "collapsed": false
   },
   "source": [
    "### How many people live in the state of Maryland?"
   ]
  },
  {
   "cell_type": "code",
   "execution_count": null,
   "metadata": {
    "collapsed": false,
    "pycharm": {
     "name": "#%%\n"
    }
   },
   "outputs": [],
   "source": [
    "sparql_query = \"\"\"\n",
    "\n",
    "SELECT ?population ?date\n",
    "WHERE {\n",
    "    wdt:Q1391 wdt:P1082 ?population . #maryland population\n",
    "    ?population wdt:P585 ?date # point in time\n",
    "}\n",
    "SORT BY DESC(?date)\n",
    "LIMIT 1\n",
    "\"\"\"\n",
    "\n",
    "wikidata_query(query=sparql_query, as_dataframe=True)"
   ]
  },
  {
   "cell_type": "markdown",
   "metadata": {
    "collapsed": false
   },
   "source": [
    "### What drinks exist if I want a hot beverage?"
   ]
  },
  {
   "cell_type": "code",
   "execution_count": null,
   "metadata": {
    "collapsed": false,
    "pycharm": {
     "name": "#%%\n"
    }
   },
   "outputs": [],
   "source": [
    "sparql_query = \"\"\"\n",
    "\n",
    "SELECT ?drink\n",
    "WHERE {\n",
    "    ?drink wdt:P279 wdt:Q19359564 # subclass of hot beverage\n",
    "}\n",
    "\"\"\"\n",
    "\n",
    "wikidata_query(query=sparql_query, as_dataframe=True)"
   ]
  },
  {
   "cell_type": "markdown",
   "metadata": {
    "collapsed": false,
    "pycharm": {
     "name": "#%% md\n"
    }
   },
   "source": [
    "### How many cities are there in California?"
   ]
  },
  {
   "cell_type": "code",
   "execution_count": null,
   "metadata": {
    "collapsed": false,
    "pycharm": {
     "name": "#%%\n"
    }
   },
   "outputs": [],
   "source": [
    "sparql_query = \"\"\"\n",
    "\n",
    "SELECT DISTINCT COUNT(?city)\n",
    "WHERE {\n",
    "    ?city wdt:P131 wdt:Q99 . # located in the administrative territorial entity California\n",
    "}\n",
    "\"\"\"\n",
    "\n",
    "wikidata_query(query=sparql_query, as_dataframe=True)"
   ]
  },
  {
   "cell_type": "markdown",
   "metadata": {
    "collapsed": false,
    "pycharm": {
     "name": "#%% md\n"
    }
   },
   "source": [
    "### How many cities are not part of the USA?"
   ]
  },
  {
   "cell_type": "code",
   "execution_count": null,
   "metadata": {
    "collapsed": false,
    "pycharm": {
     "name": "#%%\n"
    }
   },
   "outputs": [],
   "source": [
    "sparql_query = \"\"\"\n",
    "\n",
    "SELECT DISTINCT COUNT(?city)\n",
    "WHERE {\n",
    "    ?city wdt:P17 ?country . # country\n",
    "    FILTER NOT EXISTS {?city wdt:P17 wdt:Q30 } #country USA\n",
    "}\n",
    "\"\"\"\n",
    "\n",
    "wikidata_query(query=sparql_query, as_dataframe=True)"
   ]
  }
 ],
 "metadata": {
  "kernelspec": {
   "display_name": "Python 3.10.8 64-bit",
   "language": "python",
   "name": "python3"
  },
  "language_info": {
   "codemirror_mode": {
    "name": "ipython",
    "version": 3
   },
   "file_extension": ".py",
   "mimetype": "text/x-python",
   "name": "python",
   "nbconvert_exporter": "python",
   "pygments_lexer": "ipython3",
   "version": "3.10.8"
  },
  "vscode": {
   "interpreter": {
    "hash": "8a94588eda9d64d9e9a351ab8144e55b1fabf5113b54e67dd26a8c27df0381b3"
   }
  }
 },
 "nbformat": 4,
 "nbformat_minor": 0
}
