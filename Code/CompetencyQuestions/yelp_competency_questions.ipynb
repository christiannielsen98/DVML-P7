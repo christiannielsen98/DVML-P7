{
 "cells": [
  {
   "cell_type": "code",
   "execution_count": 12,
   "metadata": {
    "collapsed": false,
    "pycharm": {
     "name": "#%%\n"
    }
   },
   "outputs": [],
   "source": [
    "import pandas as pd\n",
    "import numpy as np\n",
    "\n",
    "from Code.UtilityFunctions.get_data_path import get_path\n",
    "from Code.UtilityFunctions.dictionary_functions import flatten_dictionary\n",
    "from Code.UtilityFunctions.run_query import run_query"
   ]
  },
  {
   "cell_type": "code",
   "execution_count": 34,
   "outputs": [],
   "source": [
    "business = pd.read_json(get_path(\"yelp_academic_dataset_business.json\"), lines=True)\n",
    "business['categories'] = business['categories'].str.split(', ', expand=False)\n",
    "\n",
    "#users = pd.read_json(get_path(\"yelp_academic_dataset_user.json\"), lines=True)\n",
    "#reviews = pd.read_json(get_path(\"yelp_academic_dataset_review.json\"), lines=True)\n",
    "checkins = pd.read_json(get_path(\"yelp_academic_dataset_checkin.json\"), lines=True)\n",
    "checkins['date'] = checkins['date'].str.split(', ', expand=False)\n",
    "\n",
    "tips = pd.read_json(get_path(\"yelp_academic_dataset_tip.json\"), lines=True)"
   ],
   "metadata": {
    "collapsed": false,
    "pycharm": {
     "name": "#%%\n"
    }
   }
  },
  {
   "cell_type": "code",
   "execution_count": 36,
   "metadata": {},
   "outputs": [
    {
     "data": {
      "text/plain": "                   business_id                      name  \\\n0       Pns2l4eNsfO8kk83dixA6A  Abby Rappoport, LAC, CMQ   \n1       mpf3x-BjTdTEA3yCZrAYPw             The UPS Store   \n2       tUFrWirKiKi_TAnsVWINQQ                    Target   \n3       MTSW4McQd7CbVtyjqoe9mw        St Honore Pastries   \n4       mWMc6_wTdE0EUBKIGXDVfA  Perkiomen Valley Brewery   \n...                        ...                       ...   \n150341  IUQopTMmYQG-qRtBk-8QnA              Binh's Nails   \n150342  c8GjPIOTGVmIemT7j5_SyQ      Wild Birds Unlimited   \n150343  _QAMST-NrQobXduilWEqSw         Claire's Boutique   \n150344  mtGm22y5c2UHNXDFAjaPNw  Cyclery & Fitness Center   \n150345  jV_XOycEzSlTx-65W906pg                   Sic Ink   \n\n                                address           city state postal_code  \\\n0                1616 Chapala St, Ste 2  Santa Barbara    CA       93101   \n1       87 Grasso Plaza Shopping Center         Affton    MO       63123   \n2                  5255 E Broadway Blvd         Tucson    AZ       85711   \n3                           935 Race St   Philadelphia    PA       19107   \n4                         101 Walnut St     Green Lane    PA       18054   \n...                                 ...            ...   ...         ...   \n150341                3388 Gateway Blvd       Edmonton    AB     T6J 5H2   \n150342               2813 Bransford Ave      Nashville    TN       37204   \n150343           6020 E 82nd St, Ste 46   Indianapolis    IN       46250   \n150344                     2472 Troy Rd   Edwardsville    IL       62025   \n150345            238 Apollo Beach Blvd   Apollo beach    FL       33572   \n\n         latitude   longitude  stars  review_count  is_open  \\\n0       34.426679 -119.711197    5.0             7        0   \n1       38.551126  -90.335695    3.0            15        1   \n2       32.223236 -110.880452    3.5            22        0   \n3       39.955505  -75.155564    4.0            80        1   \n4       40.338183  -75.471659    4.5            13        1   \n...           ...         ...    ...           ...      ...   \n150341  53.468419 -113.492054    3.0            13        1   \n150342  36.115118  -86.766925    4.0             5        1   \n150343  39.908707  -86.065088    3.5             8        1   \n150344  38.782351  -89.950558    4.0            24        1   \n150345  27.771002  -82.394910    4.5             9        1   \n\n                                               attributes  \\\n0                           {'ByAppointmentOnly': 'True'}   \n1                  {'BusinessAcceptsCreditCards': 'True'}   \n2       {'BikeParking': 'True', 'BusinessAcceptsCredit...   \n3       {'RestaurantsDelivery': 'False', 'OutdoorSeati...   \n4       {'BusinessAcceptsCreditCards': 'True', 'Wheelc...   \n...                                                   ...   \n150341  {'ByAppointmentOnly': 'False', 'RestaurantsPri...   \n150342  {'BusinessAcceptsCreditCards': 'True', 'Restau...   \n150343  {'RestaurantsPriceRange2': '1', 'BusinessAccep...   \n150344  {'BusinessParking': '{'garage': False, 'street...   \n150345  {'WheelchairAccessible': 'True', 'BusinessAcce...   \n\n                                               categories  \\\n0       [Doctors, Traditional Chinese Medicine, Naturo...   \n1       [Shipping Centers, Local Services, Notaries, M...   \n2       [Department Stores, Shopping, Fashion, Home & ...   \n3       [Restaurants, Food, Bubble Tea, Coffee & Tea, ...   \n4                             [Brewpubs, Breweries, Food]   \n...                                                   ...   \n150341                       [Nail Salons, Beauty & Spas]   \n150342  [Pets, Nurseries & Gardening, Pet Stores, Hobb...   \n150343  [Shopping, Jewelry, Piercing, Toy Stores, Beau...   \n150344  [Fitness/Exercise Equipment, Eyewear & Opticia...   \n150345  [Beauty & Spas, Permanent Makeup, Piercing, Ta...   \n\n                                                    hours  \n0                                                    None  \n1       {'Monday': '0:0-0:0', 'Tuesday': '8:0-18:30', ...  \n2       {'Monday': '8:0-22:0', 'Tuesday': '8:0-22:0', ...  \n3       {'Monday': '7:0-20:0', 'Tuesday': '7:0-20:0', ...  \n4       {'Wednesday': '14:0-22:0', 'Thursday': '16:0-2...  \n...                                                   ...  \n150341  {'Monday': '10:0-19:30', 'Tuesday': '10:0-19:3...  \n150342  {'Monday': '9:30-17:30', 'Tuesday': '9:30-17:3...  \n150343                                               None  \n150344  {'Monday': '9:0-20:0', 'Tuesday': '9:0-20:0', ...  \n150345  {'Tuesday': '12:0-19:0', 'Wednesday': '12:0-19...  \n\n[150346 rows x 14 columns]",
      "text/html": "<div>\n<style scoped>\n    .dataframe tbody tr th:only-of-type {\n        vertical-align: middle;\n    }\n\n    .dataframe tbody tr th {\n        vertical-align: top;\n    }\n\n    .dataframe thead th {\n        text-align: right;\n    }\n</style>\n<table border=\"1\" class=\"dataframe\">\n  <thead>\n    <tr style=\"text-align: right;\">\n      <th></th>\n      <th>business_id</th>\n      <th>name</th>\n      <th>address</th>\n      <th>city</th>\n      <th>state</th>\n      <th>postal_code</th>\n      <th>latitude</th>\n      <th>longitude</th>\n      <th>stars</th>\n      <th>review_count</th>\n      <th>is_open</th>\n      <th>attributes</th>\n      <th>categories</th>\n      <th>hours</th>\n    </tr>\n  </thead>\n  <tbody>\n    <tr>\n      <th>0</th>\n      <td>Pns2l4eNsfO8kk83dixA6A</td>\n      <td>Abby Rappoport, LAC, CMQ</td>\n      <td>1616 Chapala St, Ste 2</td>\n      <td>Santa Barbara</td>\n      <td>CA</td>\n      <td>93101</td>\n      <td>34.426679</td>\n      <td>-119.711197</td>\n      <td>5.0</td>\n      <td>7</td>\n      <td>0</td>\n      <td>{'ByAppointmentOnly': 'True'}</td>\n      <td>[Doctors, Traditional Chinese Medicine, Naturo...</td>\n      <td>None</td>\n    </tr>\n    <tr>\n      <th>1</th>\n      <td>mpf3x-BjTdTEA3yCZrAYPw</td>\n      <td>The UPS Store</td>\n      <td>87 Grasso Plaza Shopping Center</td>\n      <td>Affton</td>\n      <td>MO</td>\n      <td>63123</td>\n      <td>38.551126</td>\n      <td>-90.335695</td>\n      <td>3.0</td>\n      <td>15</td>\n      <td>1</td>\n      <td>{'BusinessAcceptsCreditCards': 'True'}</td>\n      <td>[Shipping Centers, Local Services, Notaries, M...</td>\n      <td>{'Monday': '0:0-0:0', 'Tuesday': '8:0-18:30', ...</td>\n    </tr>\n    <tr>\n      <th>2</th>\n      <td>tUFrWirKiKi_TAnsVWINQQ</td>\n      <td>Target</td>\n      <td>5255 E Broadway Blvd</td>\n      <td>Tucson</td>\n      <td>AZ</td>\n      <td>85711</td>\n      <td>32.223236</td>\n      <td>-110.880452</td>\n      <td>3.5</td>\n      <td>22</td>\n      <td>0</td>\n      <td>{'BikeParking': 'True', 'BusinessAcceptsCredit...</td>\n      <td>[Department Stores, Shopping, Fashion, Home &amp; ...</td>\n      <td>{'Monday': '8:0-22:0', 'Tuesday': '8:0-22:0', ...</td>\n    </tr>\n    <tr>\n      <th>3</th>\n      <td>MTSW4McQd7CbVtyjqoe9mw</td>\n      <td>St Honore Pastries</td>\n      <td>935 Race St</td>\n      <td>Philadelphia</td>\n      <td>PA</td>\n      <td>19107</td>\n      <td>39.955505</td>\n      <td>-75.155564</td>\n      <td>4.0</td>\n      <td>80</td>\n      <td>1</td>\n      <td>{'RestaurantsDelivery': 'False', 'OutdoorSeati...</td>\n      <td>[Restaurants, Food, Bubble Tea, Coffee &amp; Tea, ...</td>\n      <td>{'Monday': '7:0-20:0', 'Tuesday': '7:0-20:0', ...</td>\n    </tr>\n    <tr>\n      <th>4</th>\n      <td>mWMc6_wTdE0EUBKIGXDVfA</td>\n      <td>Perkiomen Valley Brewery</td>\n      <td>101 Walnut St</td>\n      <td>Green Lane</td>\n      <td>PA</td>\n      <td>18054</td>\n      <td>40.338183</td>\n      <td>-75.471659</td>\n      <td>4.5</td>\n      <td>13</td>\n      <td>1</td>\n      <td>{'BusinessAcceptsCreditCards': 'True', 'Wheelc...</td>\n      <td>[Brewpubs, Breweries, Food]</td>\n      <td>{'Wednesday': '14:0-22:0', 'Thursday': '16:0-2...</td>\n    </tr>\n    <tr>\n      <th>...</th>\n      <td>...</td>\n      <td>...</td>\n      <td>...</td>\n      <td>...</td>\n      <td>...</td>\n      <td>...</td>\n      <td>...</td>\n      <td>...</td>\n      <td>...</td>\n      <td>...</td>\n      <td>...</td>\n      <td>...</td>\n      <td>...</td>\n      <td>...</td>\n    </tr>\n    <tr>\n      <th>150341</th>\n      <td>IUQopTMmYQG-qRtBk-8QnA</td>\n      <td>Binh's Nails</td>\n      <td>3388 Gateway Blvd</td>\n      <td>Edmonton</td>\n      <td>AB</td>\n      <td>T6J 5H2</td>\n      <td>53.468419</td>\n      <td>-113.492054</td>\n      <td>3.0</td>\n      <td>13</td>\n      <td>1</td>\n      <td>{'ByAppointmentOnly': 'False', 'RestaurantsPri...</td>\n      <td>[Nail Salons, Beauty &amp; Spas]</td>\n      <td>{'Monday': '10:0-19:30', 'Tuesday': '10:0-19:3...</td>\n    </tr>\n    <tr>\n      <th>150342</th>\n      <td>c8GjPIOTGVmIemT7j5_SyQ</td>\n      <td>Wild Birds Unlimited</td>\n      <td>2813 Bransford Ave</td>\n      <td>Nashville</td>\n      <td>TN</td>\n      <td>37204</td>\n      <td>36.115118</td>\n      <td>-86.766925</td>\n      <td>4.0</td>\n      <td>5</td>\n      <td>1</td>\n      <td>{'BusinessAcceptsCreditCards': 'True', 'Restau...</td>\n      <td>[Pets, Nurseries &amp; Gardening, Pet Stores, Hobb...</td>\n      <td>{'Monday': '9:30-17:30', 'Tuesday': '9:30-17:3...</td>\n    </tr>\n    <tr>\n      <th>150343</th>\n      <td>_QAMST-NrQobXduilWEqSw</td>\n      <td>Claire's Boutique</td>\n      <td>6020 E 82nd St, Ste 46</td>\n      <td>Indianapolis</td>\n      <td>IN</td>\n      <td>46250</td>\n      <td>39.908707</td>\n      <td>-86.065088</td>\n      <td>3.5</td>\n      <td>8</td>\n      <td>1</td>\n      <td>{'RestaurantsPriceRange2': '1', 'BusinessAccep...</td>\n      <td>[Shopping, Jewelry, Piercing, Toy Stores, Beau...</td>\n      <td>None</td>\n    </tr>\n    <tr>\n      <th>150344</th>\n      <td>mtGm22y5c2UHNXDFAjaPNw</td>\n      <td>Cyclery &amp; Fitness Center</td>\n      <td>2472 Troy Rd</td>\n      <td>Edwardsville</td>\n      <td>IL</td>\n      <td>62025</td>\n      <td>38.782351</td>\n      <td>-89.950558</td>\n      <td>4.0</td>\n      <td>24</td>\n      <td>1</td>\n      <td>{'BusinessParking': '{'garage': False, 'street...</td>\n      <td>[Fitness/Exercise Equipment, Eyewear &amp; Opticia...</td>\n      <td>{'Monday': '9:0-20:0', 'Tuesday': '9:0-20:0', ...</td>\n    </tr>\n    <tr>\n      <th>150345</th>\n      <td>jV_XOycEzSlTx-65W906pg</td>\n      <td>Sic Ink</td>\n      <td>238 Apollo Beach Blvd</td>\n      <td>Apollo beach</td>\n      <td>FL</td>\n      <td>33572</td>\n      <td>27.771002</td>\n      <td>-82.394910</td>\n      <td>4.5</td>\n      <td>9</td>\n      <td>1</td>\n      <td>{'WheelchairAccessible': 'True', 'BusinessAcce...</td>\n      <td>[Beauty &amp; Spas, Permanent Makeup, Piercing, Ta...</td>\n      <td>{'Tuesday': '12:0-19:0', 'Wednesday': '12:0-19...</td>\n    </tr>\n  </tbody>\n</table>\n<p>150346 rows × 14 columns</p>\n</div>"
     },
     "execution_count": 36,
     "metadata": {},
     "output_type": "execute_result"
    }
   ],
   "source": [
    "business"
   ]
  },
  {
   "cell_type": "code",
   "execution_count": 37,
   "outputs": [
    {
     "data": {
      "text/plain": "                   business_id  \\\n0       ---kPU91CF4Lq2-WlRu9Lw   \n1       --0iUa4sNDFiZFrAdIWhZQ   \n2       --30_8IhuyMHbSOcNWd6DQ   \n3       --7PUidqRWpRSpXebiyxTg   \n4       --7jw19RH9JKXgFohspgQw   \n...                        ...   \n131925  zznJox6-nmXlGYNWgTDwQQ   \n131926  zznZqH9CiAznbkV6fXyHWA   \n131927  zzu6_r3DxBJuXcjnOYVdTw   \n131928  zzw66H6hVjXQEt0Js3Mo4A   \n131929  zzyx5x0Z7xXWWvWnZFuxlQ   \n\n                                                     date  \n0       [2020-03-13 21:10:56, 2020-06-02 22:18:06, 202...  \n1       [2010-09-13 21:43:09, 2011-05-04 23:08:15, 201...  \n2              [2013-06-14 23:29:17, 2014-08-13 23:20:22]  \n3       [2011-02-15 17:12:00, 2011-07-28 02:46:10, 201...  \n4       [2014-04-21 20:42:11, 2014-04-28 21:04:46, 201...  \n...                                                   ...  \n131925  [2013-03-23 16:22:47, 2013-04-07 02:03:12, 201...  \n131926                              [2021-06-12 01:16:12]  \n131927  [2011-05-24 01:35:13, 2012-01-01 23:44:33, 201...  \n131928         [2016-12-03 23:33:26, 2018-12-02 19:08:45]  \n131929                              [2015-01-06 17:51:53]  \n\n[131930 rows x 2 columns]",
      "text/html": "<div>\n<style scoped>\n    .dataframe tbody tr th:only-of-type {\n        vertical-align: middle;\n    }\n\n    .dataframe tbody tr th {\n        vertical-align: top;\n    }\n\n    .dataframe thead th {\n        text-align: right;\n    }\n</style>\n<table border=\"1\" class=\"dataframe\">\n  <thead>\n    <tr style=\"text-align: right;\">\n      <th></th>\n      <th>business_id</th>\n      <th>date</th>\n    </tr>\n  </thead>\n  <tbody>\n    <tr>\n      <th>0</th>\n      <td>---kPU91CF4Lq2-WlRu9Lw</td>\n      <td>[2020-03-13 21:10:56, 2020-06-02 22:18:06, 202...</td>\n    </tr>\n    <tr>\n      <th>1</th>\n      <td>--0iUa4sNDFiZFrAdIWhZQ</td>\n      <td>[2010-09-13 21:43:09, 2011-05-04 23:08:15, 201...</td>\n    </tr>\n    <tr>\n      <th>2</th>\n      <td>--30_8IhuyMHbSOcNWd6DQ</td>\n      <td>[2013-06-14 23:29:17, 2014-08-13 23:20:22]</td>\n    </tr>\n    <tr>\n      <th>3</th>\n      <td>--7PUidqRWpRSpXebiyxTg</td>\n      <td>[2011-02-15 17:12:00, 2011-07-28 02:46:10, 201...</td>\n    </tr>\n    <tr>\n      <th>4</th>\n      <td>--7jw19RH9JKXgFohspgQw</td>\n      <td>[2014-04-21 20:42:11, 2014-04-28 21:04:46, 201...</td>\n    </tr>\n    <tr>\n      <th>...</th>\n      <td>...</td>\n      <td>...</td>\n    </tr>\n    <tr>\n      <th>131925</th>\n      <td>zznJox6-nmXlGYNWgTDwQQ</td>\n      <td>[2013-03-23 16:22:47, 2013-04-07 02:03:12, 201...</td>\n    </tr>\n    <tr>\n      <th>131926</th>\n      <td>zznZqH9CiAznbkV6fXyHWA</td>\n      <td>[2021-06-12 01:16:12]</td>\n    </tr>\n    <tr>\n      <th>131927</th>\n      <td>zzu6_r3DxBJuXcjnOYVdTw</td>\n      <td>[2011-05-24 01:35:13, 2012-01-01 23:44:33, 201...</td>\n    </tr>\n    <tr>\n      <th>131928</th>\n      <td>zzw66H6hVjXQEt0Js3Mo4A</td>\n      <td>[2016-12-03 23:33:26, 2018-12-02 19:08:45]</td>\n    </tr>\n    <tr>\n      <th>131929</th>\n      <td>zzyx5x0Z7xXWWvWnZFuxlQ</td>\n      <td>[2015-01-06 17:51:53]</td>\n    </tr>\n  </tbody>\n</table>\n<p>131930 rows × 2 columns</p>\n</div>"
     },
     "execution_count": 37,
     "metadata": {},
     "output_type": "execute_result"
    }
   ],
   "source": [
    "checkins"
   ],
   "metadata": {
    "collapsed": false,
    "pycharm": {
     "name": "#%%\n"
    }
   }
  },
  {
   "cell_type": "markdown",
   "metadata": {},
   "source": [
    " How many different types of businesses are defined in Yelp?"
   ]
  },
  {
   "cell_type": "code",
   "execution_count": 14,
   "metadata": {},
   "outputs": [
    {
     "ename": "HTTPError",
     "evalue": "HTTP Error 403: Forbidden",
     "output_type": "error",
     "traceback": [
      "\u001B[1;31m---------------------------------------------------------------------------\u001B[0m",
      "\u001B[1;31mHTTPError\u001B[0m                                 Traceback (most recent call last)",
      "Cell \u001B[1;32mIn [14], line 10\u001B[0m\n\u001B[0;32m      1\u001B[0m sparql_query \u001B[38;5;241m=\u001B[39m \u001B[38;5;124m\"\"\"\u001B[39m\n\u001B[0;32m      2\u001B[0m \n\u001B[0;32m      3\u001B[0m \u001B[38;5;124mSELECT COUNT(DISTINCT(?category))\u001B[39m\n\u001B[1;32m   (...)\u001B[0m\n\u001B[0;32m      7\u001B[0m \n\u001B[0;32m      8\u001B[0m \u001B[38;5;124m\"\"\"\u001B[39m\n\u001B[1;32m---> 10\u001B[0m \u001B[43mrun_query\u001B[49m\u001B[43m(\u001B[49m\u001B[43mquery\u001B[49m\u001B[38;5;241;43m=\u001B[39;49m\u001B[43msparql_query\u001B[49m\u001B[43m,\u001B[49m\u001B[43m \u001B[49m\u001B[43mas_dataframe\u001B[49m\u001B[38;5;241;43m=\u001B[39;49m\u001B[38;5;28;43;01mTrue\u001B[39;49;00m\u001B[43m)\u001B[49m\n",
      "File \u001B[1;32m~\\GitHub\\DVML-P7\\Code\\UtilityFunctions\\run_query.py:23\u001B[0m, in \u001B[0;36mrun_query\u001B[1;34m(query, as_dataframe, do_print, include_types)\u001B[0m\n\u001B[0;32m     16\u001B[0m PREFIX\u001B[38;5;241m=\u001B[39m \u001B[38;5;124m\"\"\"\u001B[39m\n\u001B[0;32m     17\u001B[0m \u001B[38;5;124mPREFIX rdfs: <http://www.w3.org/2000/01/rdf-schema#> \u001B[39m\n\u001B[0;32m     18\u001B[0m \u001B[38;5;124mPREFIX schema: <https://schema.org/> \u001B[39m\n\u001B[0;32m     19\u001B[0m \u001B[38;5;124mPREFIX xsd: <http://www.w3.org/2001/XMLSchema#> \u001B[39m\n\u001B[0;32m     20\u001B[0m \u001B[38;5;124m\u001B[39m\u001B[38;5;124m\"\"\"\u001B[39m\n\u001B[0;32m     22\u001B[0m endpoint\u001B[38;5;241m.\u001B[39msetQuery(PREFIX\u001B[38;5;241m+\u001B[39mquery)\n\u001B[1;32m---> 23\u001B[0m results \u001B[38;5;241m=\u001B[39m \u001B[43mendpoint\u001B[49m\u001B[38;5;241;43m.\u001B[39;49m\u001B[43mquery\u001B[49m\u001B[43m(\u001B[49m\u001B[43m)\u001B[49m\u001B[38;5;241m.\u001B[39mconvert()[\u001B[38;5;124m'\u001B[39m\u001B[38;5;124mresults\u001B[39m\u001B[38;5;124m'\u001B[39m]\n\u001B[0;32m     24\u001B[0m \u001B[38;5;28;01mif\u001B[39;00m \u001B[38;5;28mlen\u001B[39m(results[\u001B[38;5;124m'\u001B[39m\u001B[38;5;124mbindings\u001B[39m\u001B[38;5;124m'\u001B[39m]) \u001B[38;5;241m<\u001B[39m\u001B[38;5;241m=\u001B[39m \u001B[38;5;241m0\u001B[39m:\n\u001B[0;32m     25\u001B[0m     \u001B[38;5;28mprint\u001B[39m(\u001B[38;5;124m\"\u001B[39m\u001B[38;5;124mEmpty resultset\u001B[39m\u001B[38;5;124m\"\u001B[39m)\n",
      "File \u001B[1;32mc:\\users\\magnu\\github\\dvml-p7\\venv\\lib\\site-packages\\SPARQLWrapper\\Wrapper.py:960\u001B[0m, in \u001B[0;36mSPARQLWrapper.query\u001B[1;34m(self)\u001B[0m\n\u001B[0;32m    942\u001B[0m \u001B[38;5;28;01mdef\u001B[39;00m \u001B[38;5;21mquery\u001B[39m(\u001B[38;5;28mself\u001B[39m) \u001B[38;5;241m-\u001B[39m\u001B[38;5;241m>\u001B[39m \u001B[38;5;124m\"\u001B[39m\u001B[38;5;124mQueryResult\u001B[39m\u001B[38;5;124m\"\u001B[39m:\n\u001B[0;32m    943\u001B[0m     \u001B[38;5;124;03m\"\"\"\u001B[39;00m\n\u001B[0;32m    944\u001B[0m \u001B[38;5;124;03m    Execute the query.\u001B[39;00m\n\u001B[0;32m    945\u001B[0m \u001B[38;5;124;03m    Exceptions can be raised if either the URI is wrong or the HTTP sends back an error (this is also the\u001B[39;00m\n\u001B[1;32m   (...)\u001B[0m\n\u001B[0;32m    958\u001B[0m \u001B[38;5;124;03m    :rtype: :class:`QueryResult` instance\u001B[39;00m\n\u001B[0;32m    959\u001B[0m \u001B[38;5;124;03m    \"\"\"\u001B[39;00m\n\u001B[1;32m--> 960\u001B[0m     \u001B[38;5;28;01mreturn\u001B[39;00m QueryResult(\u001B[38;5;28;43mself\u001B[39;49m\u001B[38;5;241;43m.\u001B[39;49m\u001B[43m_query\u001B[49m\u001B[43m(\u001B[49m\u001B[43m)\u001B[49m)\n",
      "File \u001B[1;32mc:\\users\\magnu\\github\\dvml-p7\\venv\\lib\\site-packages\\SPARQLWrapper\\Wrapper.py:940\u001B[0m, in \u001B[0;36mSPARQLWrapper._query\u001B[1;34m(self)\u001B[0m\n\u001B[0;32m    938\u001B[0m     \u001B[38;5;28;01mraise\u001B[39;00m EndPointInternalError(e\u001B[38;5;241m.\u001B[39mread())\n\u001B[0;32m    939\u001B[0m \u001B[38;5;28;01melse\u001B[39;00m:\n\u001B[1;32m--> 940\u001B[0m     \u001B[38;5;28;01mraise\u001B[39;00m e\n",
      "File \u001B[1;32mc:\\users\\magnu\\github\\dvml-p7\\venv\\lib\\site-packages\\SPARQLWrapper\\Wrapper.py:924\u001B[0m, in \u001B[0;36mSPARQLWrapper._query\u001B[1;34m(self)\u001B[0m\n\u001B[0;32m    922\u001B[0m \u001B[38;5;28;01mtry\u001B[39;00m:\n\u001B[0;32m    923\u001B[0m     \u001B[38;5;28;01mif\u001B[39;00m \u001B[38;5;28mself\u001B[39m\u001B[38;5;241m.\u001B[39mtimeout:\n\u001B[1;32m--> 924\u001B[0m         response \u001B[38;5;241m=\u001B[39m \u001B[43murlopener\u001B[49m\u001B[43m(\u001B[49m\u001B[43mrequest\u001B[49m\u001B[43m,\u001B[49m\u001B[43m \u001B[49m\u001B[43mtimeout\u001B[49m\u001B[38;5;241;43m=\u001B[39;49m\u001B[38;5;28;43mself\u001B[39;49m\u001B[38;5;241;43m.\u001B[39;49m\u001B[43mtimeout\u001B[49m\u001B[43m)\u001B[49m\n\u001B[0;32m    925\u001B[0m     \u001B[38;5;28;01melse\u001B[39;00m:\n\u001B[0;32m    926\u001B[0m         response \u001B[38;5;241m=\u001B[39m urlopener(request)\n",
      "File \u001B[1;32m~\\AppData\\Local\\Programs\\Python\\Python310\\lib\\urllib\\request.py:216\u001B[0m, in \u001B[0;36murlopen\u001B[1;34m(url, data, timeout, cafile, capath, cadefault, context)\u001B[0m\n\u001B[0;32m    214\u001B[0m \u001B[38;5;28;01melse\u001B[39;00m:\n\u001B[0;32m    215\u001B[0m     opener \u001B[38;5;241m=\u001B[39m _opener\n\u001B[1;32m--> 216\u001B[0m \u001B[38;5;28;01mreturn\u001B[39;00m \u001B[43mopener\u001B[49m\u001B[38;5;241;43m.\u001B[39;49m\u001B[43mopen\u001B[49m\u001B[43m(\u001B[49m\u001B[43murl\u001B[49m\u001B[43m,\u001B[49m\u001B[43m \u001B[49m\u001B[43mdata\u001B[49m\u001B[43m,\u001B[49m\u001B[43m \u001B[49m\u001B[43mtimeout\u001B[49m\u001B[43m)\u001B[49m\n",
      "File \u001B[1;32m~\\AppData\\Local\\Programs\\Python\\Python310\\lib\\urllib\\request.py:525\u001B[0m, in \u001B[0;36mOpenerDirector.open\u001B[1;34m(self, fullurl, data, timeout)\u001B[0m\n\u001B[0;32m    523\u001B[0m \u001B[38;5;28;01mfor\u001B[39;00m processor \u001B[38;5;129;01min\u001B[39;00m \u001B[38;5;28mself\u001B[39m\u001B[38;5;241m.\u001B[39mprocess_response\u001B[38;5;241m.\u001B[39mget(protocol, []):\n\u001B[0;32m    524\u001B[0m     meth \u001B[38;5;241m=\u001B[39m \u001B[38;5;28mgetattr\u001B[39m(processor, meth_name)\n\u001B[1;32m--> 525\u001B[0m     response \u001B[38;5;241m=\u001B[39m \u001B[43mmeth\u001B[49m\u001B[43m(\u001B[49m\u001B[43mreq\u001B[49m\u001B[43m,\u001B[49m\u001B[43m \u001B[49m\u001B[43mresponse\u001B[49m\u001B[43m)\u001B[49m\n\u001B[0;32m    527\u001B[0m \u001B[38;5;28;01mreturn\u001B[39;00m response\n",
      "File \u001B[1;32m~\\AppData\\Local\\Programs\\Python\\Python310\\lib\\urllib\\request.py:634\u001B[0m, in \u001B[0;36mHTTPErrorProcessor.http_response\u001B[1;34m(self, request, response)\u001B[0m\n\u001B[0;32m    631\u001B[0m \u001B[38;5;66;03m# According to RFC 2616, \"2xx\" code indicates that the client's\u001B[39;00m\n\u001B[0;32m    632\u001B[0m \u001B[38;5;66;03m# request was successfully received, understood, and accepted.\u001B[39;00m\n\u001B[0;32m    633\u001B[0m \u001B[38;5;28;01mif\u001B[39;00m \u001B[38;5;129;01mnot\u001B[39;00m (\u001B[38;5;241m200\u001B[39m \u001B[38;5;241m<\u001B[39m\u001B[38;5;241m=\u001B[39m code \u001B[38;5;241m<\u001B[39m \u001B[38;5;241m300\u001B[39m):\n\u001B[1;32m--> 634\u001B[0m     response \u001B[38;5;241m=\u001B[39m \u001B[38;5;28;43mself\u001B[39;49m\u001B[38;5;241;43m.\u001B[39;49m\u001B[43mparent\u001B[49m\u001B[38;5;241;43m.\u001B[39;49m\u001B[43merror\u001B[49m\u001B[43m(\u001B[49m\n\u001B[0;32m    635\u001B[0m \u001B[43m        \u001B[49m\u001B[38;5;124;43m'\u001B[39;49m\u001B[38;5;124;43mhttp\u001B[39;49m\u001B[38;5;124;43m'\u001B[39;49m\u001B[43m,\u001B[49m\u001B[43m \u001B[49m\u001B[43mrequest\u001B[49m\u001B[43m,\u001B[49m\u001B[43m \u001B[49m\u001B[43mresponse\u001B[49m\u001B[43m,\u001B[49m\u001B[43m \u001B[49m\u001B[43mcode\u001B[49m\u001B[43m,\u001B[49m\u001B[43m \u001B[49m\u001B[43mmsg\u001B[49m\u001B[43m,\u001B[49m\u001B[43m \u001B[49m\u001B[43mhdrs\u001B[49m\u001B[43m)\u001B[49m\n\u001B[0;32m    637\u001B[0m \u001B[38;5;28;01mreturn\u001B[39;00m response\n",
      "File \u001B[1;32m~\\AppData\\Local\\Programs\\Python\\Python310\\lib\\urllib\\request.py:563\u001B[0m, in \u001B[0;36mOpenerDirector.error\u001B[1;34m(self, proto, *args)\u001B[0m\n\u001B[0;32m    561\u001B[0m \u001B[38;5;28;01mif\u001B[39;00m http_err:\n\u001B[0;32m    562\u001B[0m     args \u001B[38;5;241m=\u001B[39m (\u001B[38;5;28mdict\u001B[39m, \u001B[38;5;124m'\u001B[39m\u001B[38;5;124mdefault\u001B[39m\u001B[38;5;124m'\u001B[39m, \u001B[38;5;124m'\u001B[39m\u001B[38;5;124mhttp_error_default\u001B[39m\u001B[38;5;124m'\u001B[39m) \u001B[38;5;241m+\u001B[39m orig_args\n\u001B[1;32m--> 563\u001B[0m     \u001B[38;5;28;01mreturn\u001B[39;00m \u001B[38;5;28;43mself\u001B[39;49m\u001B[38;5;241;43m.\u001B[39;49m\u001B[43m_call_chain\u001B[49m\u001B[43m(\u001B[49m\u001B[38;5;241;43m*\u001B[39;49m\u001B[43margs\u001B[49m\u001B[43m)\u001B[49m\n",
      "File \u001B[1;32m~\\AppData\\Local\\Programs\\Python\\Python310\\lib\\urllib\\request.py:496\u001B[0m, in \u001B[0;36mOpenerDirector._call_chain\u001B[1;34m(self, chain, kind, meth_name, *args)\u001B[0m\n\u001B[0;32m    494\u001B[0m \u001B[38;5;28;01mfor\u001B[39;00m handler \u001B[38;5;129;01min\u001B[39;00m handlers:\n\u001B[0;32m    495\u001B[0m     func \u001B[38;5;241m=\u001B[39m \u001B[38;5;28mgetattr\u001B[39m(handler, meth_name)\n\u001B[1;32m--> 496\u001B[0m     result \u001B[38;5;241m=\u001B[39m \u001B[43mfunc\u001B[49m\u001B[43m(\u001B[49m\u001B[38;5;241;43m*\u001B[39;49m\u001B[43margs\u001B[49m\u001B[43m)\u001B[49m\n\u001B[0;32m    497\u001B[0m     \u001B[38;5;28;01mif\u001B[39;00m result \u001B[38;5;129;01mis\u001B[39;00m \u001B[38;5;129;01mnot\u001B[39;00m \u001B[38;5;28;01mNone\u001B[39;00m:\n\u001B[0;32m    498\u001B[0m         \u001B[38;5;28;01mreturn\u001B[39;00m result\n",
      "File \u001B[1;32m~\\AppData\\Local\\Programs\\Python\\Python310\\lib\\urllib\\request.py:643\u001B[0m, in \u001B[0;36mHTTPDefaultErrorHandler.http_error_default\u001B[1;34m(self, req, fp, code, msg, hdrs)\u001B[0m\n\u001B[0;32m    642\u001B[0m \u001B[38;5;28;01mdef\u001B[39;00m \u001B[38;5;21mhttp_error_default\u001B[39m(\u001B[38;5;28mself\u001B[39m, req, fp, code, msg, hdrs):\n\u001B[1;32m--> 643\u001B[0m     \u001B[38;5;28;01mraise\u001B[39;00m HTTPError(req\u001B[38;5;241m.\u001B[39mfull_url, code, msg, hdrs, fp)\n",
      "\u001B[1;31mHTTPError\u001B[0m: HTTP Error 403: Forbidden"
     ]
    }
   ],
   "source": [
    "sparql_query = \"\"\"\n",
    "\n",
    "SELECT COUNT(DISTINCT(?category))\n",
    "WHERE {\n",
    "    ?business schema:category ?category .\n",
    "}\n",
    "\n",
    "\"\"\"\n",
    "\n",
    "run_query(query=sparql_query, as_dataframe=True)"
   ]
  },
  {
   "cell_type": "code",
   "execution_count": 3,
   "metadata": {},
   "outputs": [
    {
     "data": {
      "text/plain": "1311"
     },
     "execution_count": 3,
     "metadata": {},
     "output_type": "execute_result"
    }
   ],
   "source": [
    "unique_categories = {category for sublist in business['categories'] if sublist for category in sublist}\n",
    "len(unique_categories)"
   ]
  },
  {
   "cell_type": "markdown",
   "metadata": {},
   "source": [
    "How many businesses of type \"Restaurants\" exist?"
   ]
  },
  {
   "cell_type": "code",
   "execution_count": null,
   "metadata": {},
   "outputs": [],
   "source": [
    "sparql_query = \"\"\"\n",
    "\n",
    "SELECT COUNT(?business)\n",
    "WHERE {\n",
    "    ?business schema:category category_uri:Restaurants .\n",
    "}\n",
    "\n",
    "\"\"\"\n",
    "\n",
    "run_query(query=sparql_query, as_dataframe=True)"
   ]
  },
  {
   "cell_type": "code",
   "execution_count": 10,
   "metadata": {},
   "outputs": [
    {
     "data": {
      "text/plain": "52268"
     },
     "execution_count": 10,
     "metadata": {},
     "output_type": "execute_result"
    }
   ],
   "source": [
    "# TO DO Python\n",
    "# def str_split(string):\n",
    "#     if isinstance(string, str):\n",
    "#         return string.split(\", \")\n",
    "#     else:\n",
    "#         return string\n",
    "#\n",
    "#\n",
    "# business[\"categories\"] = business[\"categories\"].apply(str_split)\n",
    "#\n",
    "# category_biz_count = {}\n",
    "# for i in range(len(business)):\n",
    "#     if business[\"categories\"][i]:\n",
    "#         for category in business[\"categories\"][i]:\n",
    "#             category_biz_count[category] = category_biz_count.get(category, 0) + 1\n",
    "#\n",
    "# category_biz_count[\"Restaurants\"]\n",
    "\n",
    "counter = 0\n",
    "for row in business['categories']:\n",
    "    if row is not None and \"Restaurants\" in row:\n",
    "        counter += 1\n",
    "counter"
   ]
  },
  {
   "cell_type": "markdown",
   "source": [
    "How many businesses of type Restaurants have been reviwed?"
   ],
   "metadata": {
    "collapsed": false,
    "pycharm": {
     "name": "#%% md\n"
    }
   }
  },
  {
   "cell_type": "code",
   "execution_count": null,
   "metadata": {},
   "outputs": [],
   "source": [
    "sparql_query = \"\"\"\n",
    "\n",
    "SELECT COUNT(DISTINCT(?business))\n",
    "WHERE {\n",
    "    ?business schema:category category_uri:Restaurants .\n",
    "    ?review schema:about ?business .\n",
    "}\n",
    "\n",
    "\"\"\"\n",
    "\n",
    "run_query(query=sparql_query, as_dataframe=True)"
   ]
  },
  {
   "cell_type": "code",
   "execution_count": 11,
   "metadata": {},
   "outputs": [
    {
     "data": {
      "text/plain": "52268"
     },
     "execution_count": 11,
     "metadata": {},
     "output_type": "execute_result"
    }
   ],
   "source": []
  },
  {
   "cell_type": "markdown",
   "metadata": {
    "collapsed": false,
    "pycharm": {
     "name": "#%% md\n"
    }
   },
   "source": [
    "How many businesses have been reviewed?"
   ]
  },
  {
   "cell_type": "code",
   "execution_count": 8,
   "metadata": {
    "collapsed": false,
    "pycharm": {
     "name": "#%%\n"
    }
   },
   "outputs": [
    {
     "ename": "URLError",
     "evalue": "<urlopen error [Errno 111] Connection refused>",
     "output_type": "error",
     "traceback": [
      "\u001B[0;31m---------------------------------------------------------------------------\u001B[0m",
      "\u001B[0;31mConnectionRefusedError\u001B[0m                    Traceback (most recent call last)",
      "File \u001B[0;32m/usr/lib/python3.10/urllib/request.py:1348\u001B[0m, in \u001B[0;36mAbstractHTTPHandler.do_open\u001B[0;34m(self, http_class, req, **http_conn_args)\u001B[0m\n\u001B[1;32m   1347\u001B[0m \u001B[39mtry\u001B[39;00m:\n\u001B[0;32m-> 1348\u001B[0m     h\u001B[39m.\u001B[39;49mrequest(req\u001B[39m.\u001B[39;49mget_method(), req\u001B[39m.\u001B[39;49mselector, req\u001B[39m.\u001B[39;49mdata, headers,\n\u001B[1;32m   1349\u001B[0m               encode_chunked\u001B[39m=\u001B[39;49mreq\u001B[39m.\u001B[39;49mhas_header(\u001B[39m'\u001B[39;49m\u001B[39mTransfer-encoding\u001B[39;49m\u001B[39m'\u001B[39;49m))\n\u001B[1;32m   1350\u001B[0m \u001B[39mexcept\u001B[39;00m \u001B[39mOSError\u001B[39;00m \u001B[39mas\u001B[39;00m err: \u001B[39m# timeout error\u001B[39;00m\n",
      "File \u001B[0;32m/usr/lib/python3.10/http/client.py:1282\u001B[0m, in \u001B[0;36mHTTPConnection.request\u001B[0;34m(self, method, url, body, headers, encode_chunked)\u001B[0m\n\u001B[1;32m   1281\u001B[0m \u001B[39m\"\"\"Send a complete request to the server.\"\"\"\u001B[39;00m\n\u001B[0;32m-> 1282\u001B[0m \u001B[39mself\u001B[39;49m\u001B[39m.\u001B[39;49m_send_request(method, url, body, headers, encode_chunked)\n",
      "File \u001B[0;32m/usr/lib/python3.10/http/client.py:1328\u001B[0m, in \u001B[0;36mHTTPConnection._send_request\u001B[0;34m(self, method, url, body, headers, encode_chunked)\u001B[0m\n\u001B[1;32m   1327\u001B[0m     body \u001B[39m=\u001B[39m _encode(body, \u001B[39m'\u001B[39m\u001B[39mbody\u001B[39m\u001B[39m'\u001B[39m)\n\u001B[0;32m-> 1328\u001B[0m \u001B[39mself\u001B[39;49m\u001B[39m.\u001B[39;49mendheaders(body, encode_chunked\u001B[39m=\u001B[39;49mencode_chunked)\n",
      "File \u001B[0;32m/usr/lib/python3.10/http/client.py:1277\u001B[0m, in \u001B[0;36mHTTPConnection.endheaders\u001B[0;34m(self, message_body, encode_chunked)\u001B[0m\n\u001B[1;32m   1276\u001B[0m     \u001B[39mraise\u001B[39;00m CannotSendHeader()\n\u001B[0;32m-> 1277\u001B[0m \u001B[39mself\u001B[39;49m\u001B[39m.\u001B[39;49m_send_output(message_body, encode_chunked\u001B[39m=\u001B[39;49mencode_chunked)\n",
      "File \u001B[0;32m/usr/lib/python3.10/http/client.py:1037\u001B[0m, in \u001B[0;36mHTTPConnection._send_output\u001B[0;34m(self, message_body, encode_chunked)\u001B[0m\n\u001B[1;32m   1036\u001B[0m \u001B[39mdel\u001B[39;00m \u001B[39mself\u001B[39m\u001B[39m.\u001B[39m_buffer[:]\n\u001B[0;32m-> 1037\u001B[0m \u001B[39mself\u001B[39;49m\u001B[39m.\u001B[39;49msend(msg)\n\u001B[1;32m   1039\u001B[0m \u001B[39mif\u001B[39;00m message_body \u001B[39mis\u001B[39;00m \u001B[39mnot\u001B[39;00m \u001B[39mNone\u001B[39;00m:\n\u001B[1;32m   1040\u001B[0m \n\u001B[1;32m   1041\u001B[0m     \u001B[39m# create a consistent interface to message_body\u001B[39;00m\n",
      "File \u001B[0;32m/usr/lib/python3.10/http/client.py:975\u001B[0m, in \u001B[0;36mHTTPConnection.send\u001B[0;34m(self, data)\u001B[0m\n\u001B[1;32m    974\u001B[0m \u001B[39mif\u001B[39;00m \u001B[39mself\u001B[39m\u001B[39m.\u001B[39mauto_open:\n\u001B[0;32m--> 975\u001B[0m     \u001B[39mself\u001B[39;49m\u001B[39m.\u001B[39;49mconnect()\n\u001B[1;32m    976\u001B[0m \u001B[39melse\u001B[39;00m:\n",
      "File \u001B[0;32m/usr/lib/python3.10/http/client.py:941\u001B[0m, in \u001B[0;36mHTTPConnection.connect\u001B[0;34m(self)\u001B[0m\n\u001B[1;32m    940\u001B[0m sys\u001B[39m.\u001B[39maudit(\u001B[39m\"\u001B[39m\u001B[39mhttp.client.connect\u001B[39m\u001B[39m\"\u001B[39m, \u001B[39mself\u001B[39m, \u001B[39mself\u001B[39m\u001B[39m.\u001B[39mhost, \u001B[39mself\u001B[39m\u001B[39m.\u001B[39mport)\n\u001B[0;32m--> 941\u001B[0m \u001B[39mself\u001B[39m\u001B[39m.\u001B[39msock \u001B[39m=\u001B[39m \u001B[39mself\u001B[39;49m\u001B[39m.\u001B[39;49m_create_connection(\n\u001B[1;32m    942\u001B[0m     (\u001B[39mself\u001B[39;49m\u001B[39m.\u001B[39;49mhost,\u001B[39mself\u001B[39;49m\u001B[39m.\u001B[39;49mport), \u001B[39mself\u001B[39;49m\u001B[39m.\u001B[39;49mtimeout, \u001B[39mself\u001B[39;49m\u001B[39m.\u001B[39;49msource_address)\n\u001B[1;32m    943\u001B[0m \u001B[39m# Might fail in OSs that don't implement TCP_NODELAY\u001B[39;00m\n",
      "File \u001B[0;32m/usr/lib/python3.10/socket.py:845\u001B[0m, in \u001B[0;36mcreate_connection\u001B[0;34m(address, timeout, source_address)\u001B[0m\n\u001B[1;32m    844\u001B[0m \u001B[39mtry\u001B[39;00m:\n\u001B[0;32m--> 845\u001B[0m     \u001B[39mraise\u001B[39;00m err\n\u001B[1;32m    846\u001B[0m \u001B[39mfinally\u001B[39;00m:\n\u001B[1;32m    847\u001B[0m     \u001B[39m# Break explicitly a reference cycle\u001B[39;00m\n",
      "File \u001B[0;32m/usr/lib/python3.10/socket.py:833\u001B[0m, in \u001B[0;36mcreate_connection\u001B[0;34m(address, timeout, source_address)\u001B[0m\n\u001B[1;32m    832\u001B[0m     sock\u001B[39m.\u001B[39mbind(source_address)\n\u001B[0;32m--> 833\u001B[0m sock\u001B[39m.\u001B[39;49mconnect(sa)\n\u001B[1;32m    834\u001B[0m \u001B[39m# Break explicitly a reference cycle\u001B[39;00m\n",
      "\u001B[0;31mConnectionRefusedError\u001B[0m: [Errno 111] Connection refused",
      "\nDuring handling of the above exception, another exception occurred:\n",
      "\u001B[0;31mURLError\u001B[0m                                  Traceback (most recent call last)",
      "Cell \u001B[0;32mIn [8], line 10\u001B[0m\n\u001B[1;32m      1\u001B[0m sparql_query \u001B[39m=\u001B[39m \u001B[39m\"\"\"\u001B[39m\n\u001B[1;32m      2\u001B[0m \n\u001B[1;32m      3\u001B[0m \u001B[39mSELECT COUNT(?business)\u001B[39m\n\u001B[0;32m   (...)\u001B[0m\n\u001B[1;32m      7\u001B[0m \n\u001B[1;32m      8\u001B[0m \u001B[39m\"\"\"\u001B[39m\n\u001B[0;32m---> 10\u001B[0m run_query(query\u001B[39m=\u001B[39;49msparql_query, as_dataframe\u001B[39m=\u001B[39;49m\u001B[39mTrue\u001B[39;49;00m)\n",
      "File \u001B[0;32m~/DVML-P7/Code/UtilityFunctions/run_query.py:23\u001B[0m, in \u001B[0;36mrun_query\u001B[0;34m(query, as_dataframe, do_print, include_types)\u001B[0m\n\u001B[1;32m     16\u001B[0m PREFIX\u001B[39m=\u001B[39m \u001B[39m\"\"\"\u001B[39m\n\u001B[1;32m     17\u001B[0m \u001B[39mPREFIX rdfs: <http://www.w3.org/2000/01/rdf-schema#> \u001B[39m\n\u001B[1;32m     18\u001B[0m \u001B[39mPREFIX schema: <https://schema.org/> \u001B[39m\n\u001B[1;32m     19\u001B[0m \u001B[39mPREFIX xsd: <http://www.w3.org/2001/XMLSchema#> \u001B[39m\n\u001B[1;32m     20\u001B[0m \u001B[39m\u001B[39m\u001B[39m\"\"\"\u001B[39m\n\u001B[1;32m     22\u001B[0m endpoint\u001B[39m.\u001B[39msetQuery(PREFIX\u001B[39m+\u001B[39mquery)\n\u001B[0;32m---> 23\u001B[0m results \u001B[39m=\u001B[39m endpoint\u001B[39m.\u001B[39;49mquery()\u001B[39m.\u001B[39mconvert()[\u001B[39m'\u001B[39m\u001B[39mresults\u001B[39m\u001B[39m'\u001B[39m]\n\u001B[1;32m     24\u001B[0m \u001B[39mif\u001B[39;00m \u001B[39mlen\u001B[39m(results[\u001B[39m'\u001B[39m\u001B[39mbindings\u001B[39m\u001B[39m'\u001B[39m]) \u001B[39m<\u001B[39m\u001B[39m=\u001B[39m \u001B[39m0\u001B[39m:\n\u001B[1;32m     25\u001B[0m     \u001B[39mprint\u001B[39m(\u001B[39m\"\u001B[39m\u001B[39mEmpty resultset\u001B[39m\u001B[39m\"\u001B[39m)\n",
      "File \u001B[0;32m~/.local/lib/python3.10/site-packages/SPARQLWrapper/Wrapper.py:960\u001B[0m, in \u001B[0;36mSPARQLWrapper.query\u001B[0;34m(self)\u001B[0m\n\u001B[1;32m    942\u001B[0m \u001B[39mdef\u001B[39;00m \u001B[39mquery\u001B[39m(\u001B[39mself\u001B[39m) \u001B[39m-\u001B[39m\u001B[39m>\u001B[39m \u001B[39m\"\u001B[39m\u001B[39mQueryResult\u001B[39m\u001B[39m\"\u001B[39m:\n\u001B[1;32m    943\u001B[0m     \u001B[39m\"\"\"\u001B[39;00m\n\u001B[1;32m    944\u001B[0m \u001B[39m    Execute the query.\u001B[39;00m\n\u001B[1;32m    945\u001B[0m \u001B[39m    Exceptions can be raised if either the URI is wrong or the HTTP sends back an error (this is also the\u001B[39;00m\n\u001B[0;32m   (...)\u001B[0m\n\u001B[1;32m    958\u001B[0m \u001B[39m    :rtype: :class:`QueryResult` instance\u001B[39;00m\n\u001B[1;32m    959\u001B[0m \u001B[39m    \"\"\"\u001B[39;00m\n\u001B[0;32m--> 960\u001B[0m     \u001B[39mreturn\u001B[39;00m QueryResult(\u001B[39mself\u001B[39;49m\u001B[39m.\u001B[39;49m_query())\n",
      "File \u001B[0;32m~/.local/lib/python3.10/site-packages/SPARQLWrapper/Wrapper.py:924\u001B[0m, in \u001B[0;36mSPARQLWrapper._query\u001B[0;34m(self)\u001B[0m\n\u001B[1;32m    922\u001B[0m \u001B[39mtry\u001B[39;00m:\n\u001B[1;32m    923\u001B[0m     \u001B[39mif\u001B[39;00m \u001B[39mself\u001B[39m\u001B[39m.\u001B[39mtimeout:\n\u001B[0;32m--> 924\u001B[0m         response \u001B[39m=\u001B[39m urlopener(request, timeout\u001B[39m=\u001B[39;49m\u001B[39mself\u001B[39;49m\u001B[39m.\u001B[39;49mtimeout)\n\u001B[1;32m    925\u001B[0m     \u001B[39melse\u001B[39;00m:\n\u001B[1;32m    926\u001B[0m         response \u001B[39m=\u001B[39m urlopener(request)\n",
      "File \u001B[0;32m/usr/lib/python3.10/urllib/request.py:216\u001B[0m, in \u001B[0;36murlopen\u001B[0;34m(url, data, timeout, cafile, capath, cadefault, context)\u001B[0m\n\u001B[1;32m    214\u001B[0m \u001B[39melse\u001B[39;00m:\n\u001B[1;32m    215\u001B[0m     opener \u001B[39m=\u001B[39m _opener\n\u001B[0;32m--> 216\u001B[0m \u001B[39mreturn\u001B[39;00m opener\u001B[39m.\u001B[39;49mopen(url, data, timeout)\n",
      "File \u001B[0;32m/usr/lib/python3.10/urllib/request.py:519\u001B[0m, in \u001B[0;36mOpenerDirector.open\u001B[0;34m(self, fullurl, data, timeout)\u001B[0m\n\u001B[1;32m    516\u001B[0m     req \u001B[39m=\u001B[39m meth(req)\n\u001B[1;32m    518\u001B[0m sys\u001B[39m.\u001B[39maudit(\u001B[39m'\u001B[39m\u001B[39murllib.Request\u001B[39m\u001B[39m'\u001B[39m, req\u001B[39m.\u001B[39mfull_url, req\u001B[39m.\u001B[39mdata, req\u001B[39m.\u001B[39mheaders, req\u001B[39m.\u001B[39mget_method())\n\u001B[0;32m--> 519\u001B[0m response \u001B[39m=\u001B[39m \u001B[39mself\u001B[39;49m\u001B[39m.\u001B[39;49m_open(req, data)\n\u001B[1;32m    521\u001B[0m \u001B[39m# post-process response\u001B[39;00m\n\u001B[1;32m    522\u001B[0m meth_name \u001B[39m=\u001B[39m protocol\u001B[39m+\u001B[39m\u001B[39m\"\u001B[39m\u001B[39m_response\u001B[39m\u001B[39m\"\u001B[39m\n",
      "File \u001B[0;32m/usr/lib/python3.10/urllib/request.py:536\u001B[0m, in \u001B[0;36mOpenerDirector._open\u001B[0;34m(self, req, data)\u001B[0m\n\u001B[1;32m    533\u001B[0m     \u001B[39mreturn\u001B[39;00m result\n\u001B[1;32m    535\u001B[0m protocol \u001B[39m=\u001B[39m req\u001B[39m.\u001B[39mtype\n\u001B[0;32m--> 536\u001B[0m result \u001B[39m=\u001B[39m \u001B[39mself\u001B[39;49m\u001B[39m.\u001B[39;49m_call_chain(\u001B[39mself\u001B[39;49m\u001B[39m.\u001B[39;49mhandle_open, protocol, protocol \u001B[39m+\u001B[39;49m\n\u001B[1;32m    537\u001B[0m                           \u001B[39m'\u001B[39;49m\u001B[39m_open\u001B[39;49m\u001B[39m'\u001B[39;49m, req)\n\u001B[1;32m    538\u001B[0m \u001B[39mif\u001B[39;00m result:\n\u001B[1;32m    539\u001B[0m     \u001B[39mreturn\u001B[39;00m result\n",
      "File \u001B[0;32m/usr/lib/python3.10/urllib/request.py:496\u001B[0m, in \u001B[0;36mOpenerDirector._call_chain\u001B[0;34m(self, chain, kind, meth_name, *args)\u001B[0m\n\u001B[1;32m    494\u001B[0m \u001B[39mfor\u001B[39;00m handler \u001B[39min\u001B[39;00m handlers:\n\u001B[1;32m    495\u001B[0m     func \u001B[39m=\u001B[39m \u001B[39mgetattr\u001B[39m(handler, meth_name)\n\u001B[0;32m--> 496\u001B[0m     result \u001B[39m=\u001B[39m func(\u001B[39m*\u001B[39;49margs)\n\u001B[1;32m    497\u001B[0m     \u001B[39mif\u001B[39;00m result \u001B[39mis\u001B[39;00m \u001B[39mnot\u001B[39;00m \u001B[39mNone\u001B[39;00m:\n\u001B[1;32m    498\u001B[0m         \u001B[39mreturn\u001B[39;00m result\n",
      "File \u001B[0;32m/usr/lib/python3.10/urllib/request.py:1377\u001B[0m, in \u001B[0;36mHTTPHandler.http_open\u001B[0;34m(self, req)\u001B[0m\n\u001B[1;32m   1376\u001B[0m \u001B[39mdef\u001B[39;00m \u001B[39mhttp_open\u001B[39m(\u001B[39mself\u001B[39m, req):\n\u001B[0;32m-> 1377\u001B[0m     \u001B[39mreturn\u001B[39;00m \u001B[39mself\u001B[39;49m\u001B[39m.\u001B[39;49mdo_open(http\u001B[39m.\u001B[39;49mclient\u001B[39m.\u001B[39;49mHTTPConnection, req)\n",
      "File \u001B[0;32m/usr/lib/python3.10/urllib/request.py:1351\u001B[0m, in \u001B[0;36mAbstractHTTPHandler.do_open\u001B[0;34m(self, http_class, req, **http_conn_args)\u001B[0m\n\u001B[1;32m   1348\u001B[0m         h\u001B[39m.\u001B[39mrequest(req\u001B[39m.\u001B[39mget_method(), req\u001B[39m.\u001B[39mselector, req\u001B[39m.\u001B[39mdata, headers,\n\u001B[1;32m   1349\u001B[0m                   encode_chunked\u001B[39m=\u001B[39mreq\u001B[39m.\u001B[39mhas_header(\u001B[39m'\u001B[39m\u001B[39mTransfer-encoding\u001B[39m\u001B[39m'\u001B[39m))\n\u001B[1;32m   1350\u001B[0m     \u001B[39mexcept\u001B[39;00m \u001B[39mOSError\u001B[39;00m \u001B[39mas\u001B[39;00m err: \u001B[39m# timeout error\u001B[39;00m\n\u001B[0;32m-> 1351\u001B[0m         \u001B[39mraise\u001B[39;00m URLError(err)\n\u001B[1;32m   1352\u001B[0m     r \u001B[39m=\u001B[39m h\u001B[39m.\u001B[39mgetresponse()\n\u001B[1;32m   1353\u001B[0m \u001B[39mexcept\u001B[39;00m:\n",
      "\u001B[0;31mURLError\u001B[0m: <urlopen error [Errno 111] Connection refused>"
     ]
    }
   ],
   "source": [
    "sparql_query = \"\"\"\n",
    "\n",
    "SELECT COUNT(?business)\n",
    "WHERE {\n",
    "    ?review schema:about ?business .\n",
    "    ?business schema:category ?category .\n",
    "    ?category rdfs:subClassOf schema:LocalBusiness .\n",
    "}\n",
    "\n",
    "\"\"\"\n",
    "\n",
    "run_query(query=sparql_query, as_dataframe=True)"
   ]
  },
  {
   "cell_type": "code",
   "execution_count": null,
   "outputs": [],
   "source": [
    "reviews['business_id'].unique.count()"
   ],
   "metadata": {
    "collapsed": false,
    "pycharm": {
     "name": "#%%\n"
    }
   }
  },
  {
   "cell_type": "markdown",
   "metadata": {
    "collapsed": false,
    "pycharm": {
     "name": "#%% md\n"
    }
   },
   "source": [
    "How many businesses have, on average, a rating of 4.5?"
   ]
  },
  {
   "cell_type": "code",
   "execution_count": 148,
   "metadata": {},
   "outputs": [
    {
     "data": {
      "text/html": [
       "<div>\n",
       "<style scoped>\n",
       "    .dataframe tbody tr th:only-of-type {\n",
       "        vertical-align: middle;\n",
       "    }\n",
       "\n",
       "    .dataframe tbody tr th {\n",
       "        vertical-align: top;\n",
       "    }\n",
       "\n",
       "    .dataframe thead th {\n",
       "        text-align: right;\n",
       "    }\n",
       "</style>\n",
       "<table border=\"1\" class=\"dataframe\">\n",
       "  <thead>\n",
       "    <tr style=\"text-align: right;\">\n",
       "      <th></th>\n",
       "      <th>business.type</th>\n",
       "      <th>business.value</th>\n",
       "      <th>rating.type</th>\n",
       "      <th>rating.datatype</th>\n",
       "      <th>rating.value</th>\n",
       "      <th>callret-2.type</th>\n",
       "      <th>callret-2.value</th>\n",
       "    </tr>\n",
       "  </thead>\n",
       "  <tbody>\n",
       "    <tr>\n",
       "      <th>0</th>\n",
       "      <td>uri</td>\n",
       "      <td>https://example.org/business_id/-a7VXX0-V9LgWMFrq90iNA</td>\n",
       "      <td>typed-literal</td>\n",
       "      <td>http://www.w3.org/2001/XMLSchema#float</td>\n",
       "      <td>3.5</td>\n",
       "      <td>literal</td>\n",
       "      <td>3.5</td>\n",
       "    </tr>\n",
       "    <tr>\n",
       "      <th>1</th>\n",
       "      <td>uri</td>\n",
       "      <td>https://example.org/business_id/0UqeZTDBdV0uY3wesbLvYQ</td>\n",
       "      <td>typed-literal</td>\n",
       "      <td>http://www.w3.org/2001/XMLSchema#float</td>\n",
       "      <td>4.0</td>\n",
       "      <td>literal</td>\n",
       "      <td>4</td>\n",
       "    </tr>\n",
       "    <tr>\n",
       "      <th>2</th>\n",
       "      <td>uri</td>\n",
       "      <td>https://example.org/business_id/1jx1sfgjgVg0nM6n3p0xWA</td>\n",
       "      <td>typed-literal</td>\n",
       "      <td>http://www.w3.org/2001/XMLSchema#float</td>\n",
       "      <td>4.5</td>\n",
       "      <td>literal</td>\n",
       "      <td>4.5</td>\n",
       "    </tr>\n",
       "    <tr>\n",
       "      <th>3</th>\n",
       "      <td>uri</td>\n",
       "      <td>https://example.org/business_id/2MAQeAqmD8enCT2ZYqUgIQ</td>\n",
       "      <td>typed-literal</td>\n",
       "      <td>http://www.w3.org/2001/XMLSchema#float</td>\n",
       "      <td>4.0</td>\n",
       "      <td>literal</td>\n",
       "      <td>4</td>\n",
       "    </tr>\n",
       "    <tr>\n",
       "      <th>4</th>\n",
       "      <td>uri</td>\n",
       "      <td>https://example.org/business_id/2O2K6SXPWv56amqxCECd4w</td>\n",
       "      <td>typed-literal</td>\n",
       "      <td>http://www.w3.org/2001/XMLSchema#float</td>\n",
       "      <td>4.5</td>\n",
       "      <td>literal</td>\n",
       "      <td>4.5</td>\n",
       "    </tr>\n",
       "    <tr>\n",
       "      <th>5</th>\n",
       "      <td>uri</td>\n",
       "      <td>https://example.org/business_id/5Z8iBpJMmOMz6G_7oVnzRA</td>\n",
       "      <td>typed-literal</td>\n",
       "      <td>http://www.w3.org/2001/XMLSchema#float</td>\n",
       "      <td>2.5</td>\n",
       "      <td>literal</td>\n",
       "      <td>2.5</td>\n",
       "    </tr>\n",
       "    <tr>\n",
       "      <th>6</th>\n",
       "      <td>uri</td>\n",
       "      <td>https://example.org/business_id/7omkeqEv-kKMIn9kmOR6Lw</td>\n",
       "      <td>typed-literal</td>\n",
       "      <td>http://www.w3.org/2001/XMLSchema#float</td>\n",
       "      <td>5.0</td>\n",
       "      <td>literal</td>\n",
       "      <td>5</td>\n",
       "    </tr>\n",
       "    <tr>\n",
       "      <th>7</th>\n",
       "      <td>uri</td>\n",
       "      <td>https://example.org/business_id/7xc84taj12pt-RtZhAfSkQ</td>\n",
       "      <td>typed-literal</td>\n",
       "      <td>http://www.w3.org/2001/XMLSchema#float</td>\n",
       "      <td>5.0</td>\n",
       "      <td>literal</td>\n",
       "      <td>5</td>\n",
       "    </tr>\n",
       "    <tr>\n",
       "      <th>8</th>\n",
       "      <td>uri</td>\n",
       "      <td>https://example.org/business_id/8n93L-ilMAsvwUatarykSg</td>\n",
       "      <td>typed-literal</td>\n",
       "      <td>http://www.w3.org/2001/XMLSchema#float</td>\n",
       "      <td>3.0</td>\n",
       "      <td>literal</td>\n",
       "      <td>3</td>\n",
       "    </tr>\n",
       "    <tr>\n",
       "      <th>9</th>\n",
       "      <td>uri</td>\n",
       "      <td>https://example.org/business_id/9RGR4_r4PJLTooNmscUE_A</td>\n",
       "      <td>typed-literal</td>\n",
       "      <td>http://www.w3.org/2001/XMLSchema#float</td>\n",
       "      <td>4.0</td>\n",
       "      <td>literal</td>\n",
       "      <td>4</td>\n",
       "    </tr>\n",
       "  </tbody>\n",
       "</table>\n",
       "</div>"
      ],
      "text/plain": [
       "  business.type                                          business.value  \\\n",
       "0           uri  https://example.org/business_id/-a7VXX0-V9LgWMFrq90iNA   \n",
       "1           uri  https://example.org/business_id/0UqeZTDBdV0uY3wesbLvYQ   \n",
       "2           uri  https://example.org/business_id/1jx1sfgjgVg0nM6n3p0xWA   \n",
       "3           uri  https://example.org/business_id/2MAQeAqmD8enCT2ZYqUgIQ   \n",
       "4           uri  https://example.org/business_id/2O2K6SXPWv56amqxCECd4w   \n",
       "5           uri  https://example.org/business_id/5Z8iBpJMmOMz6G_7oVnzRA   \n",
       "6           uri  https://example.org/business_id/7omkeqEv-kKMIn9kmOR6Lw   \n",
       "7           uri  https://example.org/business_id/7xc84taj12pt-RtZhAfSkQ   \n",
       "8           uri  https://example.org/business_id/8n93L-ilMAsvwUatarykSg   \n",
       "9           uri  https://example.org/business_id/9RGR4_r4PJLTooNmscUE_A   \n",
       "\n",
       "     rating.type                         rating.datatype rating.value  \\\n",
       "0  typed-literal  http://www.w3.org/2001/XMLSchema#float          3.5   \n",
       "1  typed-literal  http://www.w3.org/2001/XMLSchema#float          4.0   \n",
       "2  typed-literal  http://www.w3.org/2001/XMLSchema#float          4.5   \n",
       "3  typed-literal  http://www.w3.org/2001/XMLSchema#float          4.0   \n",
       "4  typed-literal  http://www.w3.org/2001/XMLSchema#float          4.5   \n",
       "5  typed-literal  http://www.w3.org/2001/XMLSchema#float          2.5   \n",
       "6  typed-literal  http://www.w3.org/2001/XMLSchema#float          5.0   \n",
       "7  typed-literal  http://www.w3.org/2001/XMLSchema#float          5.0   \n",
       "8  typed-literal  http://www.w3.org/2001/XMLSchema#float          3.0   \n",
       "9  typed-literal  http://www.w3.org/2001/XMLSchema#float          4.0   \n",
       "\n",
       "  callret-2.type callret-2.value  \n",
       "0        literal             3.5  \n",
       "1        literal               4  \n",
       "2        literal             4.5  \n",
       "3        literal               4  \n",
       "4        literal             4.5  \n",
       "5        literal             2.5  \n",
       "6        literal               5  \n",
       "7        literal               5  \n",
       "8        literal               3  \n",
       "9        literal               4  "
      ]
     },
     "execution_count": 148,
     "metadata": {},
     "output_type": "execute_result"
    }
   ],
   "source": [
    "sparql_query = \"\"\"\n",
    "SELECT COUNT(?business)\n",
    "WHERE {\n",
    "    ?business schema:category ?category .\n",
    "    ?business schema:aggregateRating ?rating .\n",
    "    FILTER (?rating == 4.5)\n",
    "}\n",
    "\n",
    "\"\"\"\n",
    "\n",
    "run_query(query=sparql_query, as_dataframe=True)"
   ]
  },
  {
   "cell_type": "code",
   "execution_count": 19,
   "metadata": {},
   "outputs": [
    {
     "data": {
      "text/html": [
       "<div>\n",
       "<style scoped>\n",
       "    .dataframe tbody tr th:only-of-type {\n",
       "        vertical-align: middle;\n",
       "    }\n",
       "\n",
       "    .dataframe tbody tr th {\n",
       "        vertical-align: top;\n",
       "    }\n",
       "\n",
       "    .dataframe thead th {\n",
       "        text-align: right;\n",
       "    }\n",
       "</style>\n",
       "<table border=\"1\" class=\"dataframe\">\n",
       "  <thead>\n",
       "    <tr style=\"text-align: right;\">\n",
       "      <th></th>\n",
       "      <th>x.value</th>\n",
       "      <th>sx.value</th>\n",
       "    </tr>\n",
       "  </thead>\n",
       "  <tbody>\n",
       "    <tr>\n",
       "      <th>0</th>\n",
       "      <td>1.11111</td>\n",
       "      <td>1.11111</td>\n",
       "    </tr>\n",
       "    <tr>\n",
       "      <th>1</th>\n",
       "      <td>1.11115</td>\n",
       "      <td>1.11115</td>\n",
       "    </tr>\n",
       "    <tr>\n",
       "      <th>2</th>\n",
       "      <td>1.11119</td>\n",
       "      <td>1.11119</td>\n",
       "    </tr>\n",
       "  </tbody>\n",
       "</table>\n",
       "</div>"
      ],
      "text/plain": [
       "   x.value sx.value\n",
       "0  1.11111  1.11111\n",
       "1  1.11115  1.11115\n",
       "2  1.11119  1.11119"
      ]
     },
     "execution_count": 19,
     "metadata": {},
     "output_type": "execute_result"
    }
   ],
   "source": [
    "sparql_query = \"\"\"\n",
    "\n",
    "select ?x, (str(?x) as ?sx) {\n",
    "  values ?x { \n",
    "    \"1.11111\"^^xsd:decimal\n",
    "    \"1.11115\"^^xsd:decimal\n",
    "    \"1.11119\"^^xsd:decimal\n",
    "  }\n",
    "}\n",
    "\n",
    "\"\"\"\n",
    "\n",
    "run_query(query=sparql_query, as_dataframe=True)"
   ]
  },
  {
   "cell_type": "code",
   "execution_count": 24,
   "metadata": {},
   "outputs": [
    {
     "ename": "QueryBadFormed",
     "evalue": "QueryBadFormed: A bad request has been sent to the endpoint: probably the SPARQL query is badly formed. \n\nResponse:\nb'Virtuoso 37000 Error SP031: SPARQL compiler: The XPATH function http://www.w3.org/2001/XMLSchema#decimal() can handle only 1 arguments but the call provides 2\\n\\nSPARQL query:\\ndefine sql:big-data-const 0\\n#output-format:application/sparql-results+json\\n\\n    PREFIX rdfs: <http://www.w3.org/2000/01/rdf-schema#> \\n    PREFIX schema: <https://schema.org/> \\n    PREFIX xsd: <http://www.w3.org/2001/XMLSchema#> \\n    \\n\\nSELECT ?rating\\nFROM <http://www.yelpkg.com/business>\\nWHERE {\\n    ?business rdfs:Class schema:LocalBusiness .\\n    ?business schema:starRating ?rating .\\n    FILTER (?rating > 0 && ?rating <= 5)\\n}\\nGROUP BY xsd:decimal(?rating, 2)\\nORDER BY ?rating\\nLIMIT 10\\n\\n'",
     "output_type": "error",
     "traceback": [
      "\u001B[0;31m---------------------------------------------------------------------------\u001B[0m",
      "\u001B[0;31mHTTPError\u001B[0m                                 Traceback (most recent call last)",
      "File \u001B[0;32m~/.local/lib/python3.10/site-packages/SPARQLWrapper/Wrapper.py:924\u001B[0m, in \u001B[0;36mSPARQLWrapper._query\u001B[0;34m(self)\u001B[0m\n\u001B[1;32m    923\u001B[0m \u001B[39mif\u001B[39;00m \u001B[39mself\u001B[39m\u001B[39m.\u001B[39mtimeout:\n\u001B[0;32m--> 924\u001B[0m     response \u001B[39m=\u001B[39m urlopener(request, timeout\u001B[39m=\u001B[39;49m\u001B[39mself\u001B[39;49m\u001B[39m.\u001B[39;49mtimeout)\n\u001B[1;32m    925\u001B[0m \u001B[39melse\u001B[39;00m:\n",
      "File \u001B[0;32m/usr/lib/python3.10/urllib/request.py:216\u001B[0m, in \u001B[0;36murlopen\u001B[0;34m(url, data, timeout, cafile, capath, cadefault, context)\u001B[0m\n\u001B[1;32m    215\u001B[0m     opener \u001B[39m=\u001B[39m _opener\n\u001B[0;32m--> 216\u001B[0m \u001B[39mreturn\u001B[39;00m opener\u001B[39m.\u001B[39;49mopen(url, data, timeout)\n",
      "File \u001B[0;32m/usr/lib/python3.10/urllib/request.py:525\u001B[0m, in \u001B[0;36mOpenerDirector.open\u001B[0;34m(self, fullurl, data, timeout)\u001B[0m\n\u001B[1;32m    524\u001B[0m     meth \u001B[39m=\u001B[39m \u001B[39mgetattr\u001B[39m(processor, meth_name)\n\u001B[0;32m--> 525\u001B[0m     response \u001B[39m=\u001B[39m meth(req, response)\n\u001B[1;32m    527\u001B[0m \u001B[39mreturn\u001B[39;00m response\n",
      "File \u001B[0;32m/usr/lib/python3.10/urllib/request.py:634\u001B[0m, in \u001B[0;36mHTTPErrorProcessor.http_response\u001B[0;34m(self, request, response)\u001B[0m\n\u001B[1;32m    633\u001B[0m \u001B[39mif\u001B[39;00m \u001B[39mnot\u001B[39;00m (\u001B[39m200\u001B[39m \u001B[39m<\u001B[39m\u001B[39m=\u001B[39m code \u001B[39m<\u001B[39m \u001B[39m300\u001B[39m):\n\u001B[0;32m--> 634\u001B[0m     response \u001B[39m=\u001B[39m \u001B[39mself\u001B[39;49m\u001B[39m.\u001B[39;49mparent\u001B[39m.\u001B[39;49merror(\n\u001B[1;32m    635\u001B[0m         \u001B[39m'\u001B[39;49m\u001B[39mhttp\u001B[39;49m\u001B[39m'\u001B[39;49m, request, response, code, msg, hdrs)\n\u001B[1;32m    637\u001B[0m \u001B[39mreturn\u001B[39;00m response\n",
      "File \u001B[0;32m/usr/lib/python3.10/urllib/request.py:563\u001B[0m, in \u001B[0;36mOpenerDirector.error\u001B[0;34m(self, proto, *args)\u001B[0m\n\u001B[1;32m    562\u001B[0m args \u001B[39m=\u001B[39m (\u001B[39mdict\u001B[39m, \u001B[39m'\u001B[39m\u001B[39mdefault\u001B[39m\u001B[39m'\u001B[39m, \u001B[39m'\u001B[39m\u001B[39mhttp_error_default\u001B[39m\u001B[39m'\u001B[39m) \u001B[39m+\u001B[39m orig_args\n\u001B[0;32m--> 563\u001B[0m \u001B[39mreturn\u001B[39;00m \u001B[39mself\u001B[39;49m\u001B[39m.\u001B[39;49m_call_chain(\u001B[39m*\u001B[39;49margs)\n",
      "File \u001B[0;32m/usr/lib/python3.10/urllib/request.py:496\u001B[0m, in \u001B[0;36mOpenerDirector._call_chain\u001B[0;34m(self, chain, kind, meth_name, *args)\u001B[0m\n\u001B[1;32m    495\u001B[0m func \u001B[39m=\u001B[39m \u001B[39mgetattr\u001B[39m(handler, meth_name)\n\u001B[0;32m--> 496\u001B[0m result \u001B[39m=\u001B[39m func(\u001B[39m*\u001B[39;49margs)\n\u001B[1;32m    497\u001B[0m \u001B[39mif\u001B[39;00m result \u001B[39mis\u001B[39;00m \u001B[39mnot\u001B[39;00m \u001B[39mNone\u001B[39;00m:\n",
      "File \u001B[0;32m/usr/lib/python3.10/urllib/request.py:643\u001B[0m, in \u001B[0;36mHTTPDefaultErrorHandler.http_error_default\u001B[0;34m(self, req, fp, code, msg, hdrs)\u001B[0m\n\u001B[1;32m    642\u001B[0m \u001B[39mdef\u001B[39;00m \u001B[39mhttp_error_default\u001B[39m(\u001B[39mself\u001B[39m, req, fp, code, msg, hdrs):\n\u001B[0;32m--> 643\u001B[0m     \u001B[39mraise\u001B[39;00m HTTPError(req\u001B[39m.\u001B[39mfull_url, code, msg, hdrs, fp)\n",
      "\u001B[0;31mHTTPError\u001B[0m: HTTP Error 400: Bad Request",
      "\nDuring handling of the above exception, another exception occurred:\n",
      "\u001B[0;31mQueryBadFormed\u001B[0m                            Traceback (most recent call last)",
      "Cell \u001B[0;32mIn [24], line 16\u001B[0m\n\u001B[1;32m      1\u001B[0m sparql_query \u001B[39m=\u001B[39m \u001B[39m\"\"\"\u001B[39m\n\u001B[1;32m      2\u001B[0m \n\u001B[1;32m      3\u001B[0m \u001B[39mSELECT ?rating\u001B[39m\n\u001B[0;32m   (...)\u001B[0m\n\u001B[1;32m     13\u001B[0m \n\u001B[1;32m     14\u001B[0m \u001B[39m\"\"\"\u001B[39m\n\u001B[0;32m---> 16\u001B[0m run_query(query\u001B[39m=\u001B[39;49msparql_query, as_dataframe\u001B[39m=\u001B[39;49m\u001B[39mTrue\u001B[39;49;00m)\n",
      "File \u001B[0;32m~/DVML-P7/Code/UtilityFunctions/run_query.py:23\u001B[0m, in \u001B[0;36mrun_query\u001B[0;34m(query, as_dataframe, do_print, include_types)\u001B[0m\n\u001B[1;32m     16\u001B[0m PREFIX\u001B[39m=\u001B[39m \u001B[39m\"\"\"\u001B[39m\n\u001B[1;32m     17\u001B[0m \u001B[39mPREFIX rdfs: <http://www.w3.org/2000/01/rdf-schema#> \u001B[39m\n\u001B[1;32m     18\u001B[0m \u001B[39mPREFIX schema: <https://schema.org/> \u001B[39m\n\u001B[1;32m     19\u001B[0m \u001B[39mPREFIX xsd: <http://www.w3.org/2001/XMLSchema#> \u001B[39m\n\u001B[1;32m     20\u001B[0m \u001B[39m\u001B[39m\u001B[39m\"\"\"\u001B[39m\n\u001B[1;32m     22\u001B[0m endpoint\u001B[39m.\u001B[39msetQuery(PREFIX\u001B[39m+\u001B[39mquery)\n\u001B[0;32m---> 23\u001B[0m results \u001B[39m=\u001B[39m endpoint\u001B[39m.\u001B[39;49mquery()\u001B[39m.\u001B[39mconvert()[\u001B[39m'\u001B[39m\u001B[39mresults\u001B[39m\u001B[39m'\u001B[39m]\n\u001B[1;32m     24\u001B[0m \u001B[39mif\u001B[39;00m \u001B[39mlen\u001B[39m(results[\u001B[39m'\u001B[39m\u001B[39mbindings\u001B[39m\u001B[39m'\u001B[39m]) \u001B[39m<\u001B[39m\u001B[39m=\u001B[39m \u001B[39m0\u001B[39m:\n\u001B[1;32m     25\u001B[0m     \u001B[39mprint\u001B[39m(\u001B[39m\"\u001B[39m\u001B[39mEmpty resultset\u001B[39m\u001B[39m\"\u001B[39m)\n",
      "File \u001B[0;32m~/.local/lib/python3.10/site-packages/SPARQLWrapper/Wrapper.py:960\u001B[0m, in \u001B[0;36mSPARQLWrapper.query\u001B[0;34m(self)\u001B[0m\n\u001B[1;32m    942\u001B[0m \u001B[39mdef\u001B[39;00m \u001B[39mquery\u001B[39m(\u001B[39mself\u001B[39m) \u001B[39m-\u001B[39m\u001B[39m>\u001B[39m \u001B[39m\"\u001B[39m\u001B[39mQueryResult\u001B[39m\u001B[39m\"\u001B[39m:\n\u001B[1;32m    943\u001B[0m     \u001B[39m\"\"\"\u001B[39;00m\n\u001B[1;32m    944\u001B[0m \u001B[39m    Execute the query.\u001B[39;00m\n\u001B[1;32m    945\u001B[0m \u001B[39m    Exceptions can be raised if either the URI is wrong or the HTTP sends back an error (this is also the\u001B[39;00m\n\u001B[0;32m   (...)\u001B[0m\n\u001B[1;32m    958\u001B[0m \u001B[39m    :rtype: :class:`QueryResult` instance\u001B[39;00m\n\u001B[1;32m    959\u001B[0m \u001B[39m    \"\"\"\u001B[39;00m\n\u001B[0;32m--> 960\u001B[0m     \u001B[39mreturn\u001B[39;00m QueryResult(\u001B[39mself\u001B[39;49m\u001B[39m.\u001B[39;49m_query())\n",
      "File \u001B[0;32m~/.local/lib/python3.10/site-packages/SPARQLWrapper/Wrapper.py:930\u001B[0m, in \u001B[0;36mSPARQLWrapper._query\u001B[0;34m(self)\u001B[0m\n\u001B[1;32m    928\u001B[0m \u001B[39mexcept\u001B[39;00m urllib\u001B[39m.\u001B[39merror\u001B[39m.\u001B[39mHTTPError \u001B[39mas\u001B[39;00m e:\n\u001B[1;32m    929\u001B[0m     \u001B[39mif\u001B[39;00m e\u001B[39m.\u001B[39mcode \u001B[39m==\u001B[39m \u001B[39m400\u001B[39m:\n\u001B[0;32m--> 930\u001B[0m         \u001B[39mraise\u001B[39;00m QueryBadFormed(e\u001B[39m.\u001B[39mread())\n\u001B[1;32m    931\u001B[0m     \u001B[39melif\u001B[39;00m e\u001B[39m.\u001B[39mcode \u001B[39m==\u001B[39m \u001B[39m404\u001B[39m:\n\u001B[1;32m    932\u001B[0m         \u001B[39mraise\u001B[39;00m EndPointNotFound(e\u001B[39m.\u001B[39mread())\n",
      "\u001B[0;31mQueryBadFormed\u001B[0m: QueryBadFormed: A bad request has been sent to the endpoint: probably the SPARQL query is badly formed. \n\nResponse:\nb'Virtuoso 37000 Error SP031: SPARQL compiler: The XPATH function http://www.w3.org/2001/XMLSchema#decimal() can handle only 1 arguments but the call provides 2\\n\\nSPARQL query:\\ndefine sql:big-data-const 0\\n#output-format:application/sparql-results+json\\n\\n    PREFIX rdfs: <http://www.w3.org/2000/01/rdf-schema#> \\n    PREFIX schema: <https://schema.org/> \\n    PREFIX xsd: <http://www.w3.org/2001/XMLSchema#> \\n    \\n\\nSELECT ?rating\\nFROM <http://www.yelpkg.com/business>\\nWHERE {\\n    ?business rdfs:Class schema:LocalBusiness .\\n    ?business schema:starRating ?rating .\\n    FILTER (?rating > 0 && ?rating <= 5)\\n}\\nGROUP BY xsd:decimal(?rating, 2)\\nORDER BY ?rating\\nLIMIT 10\\n\\n'"
     ]
    }
   ],
   "source": [
    "sparql_query = \"\"\"\n",
    "\n",
    "SELECT ?rating\n",
    "FROM <http://www.yelpkg.com/business>\n",
    "WHERE {\n",
    "    ?business rdfs:Class schema:LocalBusiness .\n",
    "    ?business schema:starRating ?rating .\n",
    "    FILTER (?rating > 0 && ?rating <= 5)\n",
    "}\n",
    "GROUP BY xsd:decimal(?rating)\n",
    "ORDER BY ?rating\n",
    "LIMIT 10\n",
    "\n",
    "\"\"\"\n",
    "\n",
    "run_query(query=sparql_query, as_dataframe=True)"
   ]
  },
  {
   "cell_type": "code",
   "execution_count": 47,
   "metadata": {
    "collapsed": false,
    "pycharm": {
     "name": "#%%\n"
    }
   },
   "outputs": [
    {
     "data": {
      "text/plain": [
       "stars\n",
       "1.0     1986\n",
       "1.5     4932\n",
       "2.0     9527\n",
       "2.5    14316\n",
       "3.0    18453\n",
       "3.5    26519\n",
       "4.0    31125\n",
       "4.5    27181\n",
       "5.0    16307\n",
       "Name: stars, dtype: int64"
      ]
     },
     "execution_count": 47,
     "metadata": {},
     "output_type": "execute_result"
    }
   ],
   "source": [
    "business.groupby('stars')['stars'].count()"
   ]
  },
  {
   "cell_type": "markdown",
   "metadata": {
    "collapsed": false,
    "pycharm": {
     "name": "#%% md\n"
    }
   },
   "source": [
    "What is the average rating across businesses?"
   ]
  },
  {
   "cell_type": "code",
   "execution_count": 11,
   "metadata": {
    "collapsed": false,
    "pycharm": {
     "name": "#%%\n"
    }
   },
   "outputs": [
    {
     "data": {
      "text/html": [
       "<div>\n",
       "<style scoped>\n",
       "    .dataframe tbody tr th:only-of-type {\n",
       "        vertical-align: middle;\n",
       "    }\n",
       "\n",
       "    .dataframe tbody tr th {\n",
       "        vertical-align: top;\n",
       "    }\n",
       "\n",
       "    .dataframe thead th {\n",
       "        text-align: right;\n",
       "    }\n",
       "</style>\n",
       "<table border=\"1\" class=\"dataframe\">\n",
       "  <thead>\n",
       "    <tr style=\"text-align: right;\">\n",
       "      <th></th>\n",
       "      <th>averagerating.type</th>\n",
       "      <th>averagerating.datatype</th>\n",
       "      <th>averagerating.value</th>\n",
       "    </tr>\n",
       "  </thead>\n",
       "  <tbody>\n",
       "    <tr>\n",
       "      <th>0</th>\n",
       "      <td>typed-literal</td>\n",
       "      <td>http://www.w3.org/2001/XMLSchema#decimal</td>\n",
       "      <td>3.59672355766033</td>\n",
       "    </tr>\n",
       "  </tbody>\n",
       "</table>\n",
       "</div>"
      ],
      "text/plain": [
       "  averagerating.type                    averagerating.datatype  \\\n",
       "0      typed-literal  http://www.w3.org/2001/XMLSchema#decimal   \n",
       "\n",
       "  averagerating.value  \n",
       "0    3.59672355766033  "
      ]
     },
     "execution_count": 11,
     "metadata": {},
     "output_type": "execute_result"
    }
   ],
   "source": [
    "sparql_query = \"\"\"\n",
    "SELECT AVG(?rating) as ?averagerating\n",
    "WHERE {\n",
    "    ?business schema:category ?category .\n",
    "    ?business schema:aggregateRating ?rating .\n",
    "}\n",
    "\n",
    "\"\"\"\n",
    "\n",
    "run_query(query=sparql_query, as_dataframe=True)"
   ]
  },
  {
   "cell_type": "code",
   "execution_count": 12,
   "metadata": {
    "collapsed": false,
    "pycharm": {
     "name": "#%%\n"
    }
   },
   "outputs": [
    {
     "data": {
      "text/plain": [
       "3.5967235576603303"
      ]
     },
     "execution_count": 12,
     "metadata": {},
     "output_type": "execute_result"
    }
   ],
   "source": [
    "business['stars'].mean()"
   ]
  },
  {
   "cell_type": "markdown",
   "metadata": {
    "collapsed": false
   },
   "source": [
    "How many businesses have been reviewed in New York, NY?"
   ]
  },
  {
   "cell_type": "code",
   "execution_count": 129,
   "metadata": {},
   "outputs": [
    {
     "data": {
      "text/html": [
       "<div>\n",
       "<style scoped>\n",
       "    .dataframe tbody tr th:only-of-type {\n",
       "        vertical-align: middle;\n",
       "    }\n",
       "\n",
       "    .dataframe tbody tr th {\n",
       "        vertical-align: top;\n",
       "    }\n",
       "\n",
       "    .dataframe thead th {\n",
       "        text-align: right;\n",
       "    }\n",
       "</style>\n",
       "<table border=\"1\" class=\"dataframe\">\n",
       "  <thead>\n",
       "    <tr style=\"text-align: right;\">\n",
       "      <th></th>\n",
       "      <th>state.value</th>\n",
       "      <th>city.value</th>\n",
       "      <th>count_business.value</th>\n",
       "    </tr>\n",
       "  </thead>\n",
       "  <tbody>\n",
       "    <tr>\n",
       "      <th>0</th>\n",
       "      <td>PA</td>\n",
       "      <td>Philadelphia</td>\n",
       "      <td>14567</td>\n",
       "    </tr>\n",
       "    <tr>\n",
       "      <th>1</th>\n",
       "      <td>AZ</td>\n",
       "      <td>Tucson</td>\n",
       "      <td>9249</td>\n",
       "    </tr>\n",
       "    <tr>\n",
       "      <th>2</th>\n",
       "      <td>FL</td>\n",
       "      <td>Tampa</td>\n",
       "      <td>9048</td>\n",
       "    </tr>\n",
       "    <tr>\n",
       "      <th>3</th>\n",
       "      <td>IN</td>\n",
       "      <td>Indianapolis</td>\n",
       "      <td>7540</td>\n",
       "    </tr>\n",
       "    <tr>\n",
       "      <th>4</th>\n",
       "      <td>TN</td>\n",
       "      <td>Nashville</td>\n",
       "      <td>6968</td>\n",
       "    </tr>\n",
       "    <tr>\n",
       "      <th>5</th>\n",
       "      <td>LA</td>\n",
       "      <td>New Orleans</td>\n",
       "      <td>6208</td>\n",
       "    </tr>\n",
       "    <tr>\n",
       "      <th>6</th>\n",
       "      <td>NV</td>\n",
       "      <td>Reno</td>\n",
       "      <td>5932</td>\n",
       "    </tr>\n",
       "    <tr>\n",
       "      <th>7</th>\n",
       "      <td>AB</td>\n",
       "      <td>Edmonton</td>\n",
       "      <td>5054</td>\n",
       "    </tr>\n",
       "    <tr>\n",
       "      <th>8</th>\n",
       "      <td>MO</td>\n",
       "      <td>Saint Louis</td>\n",
       "      <td>4827</td>\n",
       "    </tr>\n",
       "    <tr>\n",
       "      <th>9</th>\n",
       "      <td>CA</td>\n",
       "      <td>Santa Barbara</td>\n",
       "      <td>3829</td>\n",
       "    </tr>\n",
       "  </tbody>\n",
       "</table>\n",
       "</div>"
      ],
      "text/plain": [
       "  state.value     city.value count_business.value\n",
       "0          PA   Philadelphia                14567\n",
       "1          AZ         Tucson                 9249\n",
       "2          FL          Tampa                 9048\n",
       "3          IN   Indianapolis                 7540\n",
       "4          TN      Nashville                 6968\n",
       "5          LA    New Orleans                 6208\n",
       "6          NV           Reno                 5932\n",
       "7          AB       Edmonton                 5054\n",
       "8          MO    Saint Louis                 4827\n",
       "9          CA  Santa Barbara                 3829"
      ]
     },
     "execution_count": 129,
     "metadata": {},
     "output_type": "execute_result"
    }
   ],
   "source": [
    "sparql_query = \"\"\"\n",
    "SELECT ?state ?city COUNT(?business) AS ?count_business\n",
    "WHERE {\n",
    "    ?business schema:category ?category .\n",
    "    ?business schema:addressRegion ?state .\n",
    "    ?business schema:location ?city .\n",
    "    FILTER(?city = \"New York\")\n",
    "}\n",
    "GROUP BY ?state ?city\n",
    "ORDER BY DESC(?count_business)\n",
    "LIMIT 10\n",
    "\n",
    "\"\"\"\n",
    "\n",
    "run_query(query=sparql_query, as_dataframe=True)[[\"state.value\", \"city.value\", \"count_business.value\"]]"
   ]
  },
  {
   "cell_type": "code",
   "execution_count": 15,
   "metadata": {
    "collapsed": false,
    "pycharm": {
     "name": "#%%\n"
    }
   },
   "outputs": [
    {
     "data": {
      "text/plain": "state  city         \nPA     Philadelphia     14567\nAZ     Tucson            9249\nFL     Tampa             9048\nIN     Indianapolis      7540\nTN     Nashville         6968\nLA     New Orleans       6208\nNV     Reno              5932\nAB     Edmonton          5054\nMO     Saint Louis       4827\nCA     Santa Barbara     3829\nName: business_id, dtype: int64"
     },
     "execution_count": 15,
     "metadata": {},
     "output_type": "execute_result"
    }
   ],
   "source": [
    "business.groupby([\"state\", \"city\"])[\"business_id\"].count().sort_values(ascending=False)[0:10]"
   ]
  },
  {
   "cell_type": "markdown",
   "metadata": {},
   "source": [
    "During which hours of Monday is business X most visited? TO DO"
   ]
  },
  {
   "cell_type": "code",
   "execution_count": null,
   "metadata": {},
   "outputs": [],
   "source": [
    "sparql_query = \"\"\"\n",
    "SELECT ?business\n",
    "WHERE {\n",
    "    ?business schema:category ?category .\n",
    "    ?business schema:checkinTime ?visits .\n",
    "    ???????????????????????\n",
    "}\n",
    "GROUP BY ?business\n",
    "ORDER BY DESC(?visits)\n",
    "LIMIT 10\n",
    "\n",
    "\"\"\""
   ]
  },
  {
   "cell_type": "code",
   "execution_count": null,
   "metadata": {},
   "outputs": [],
   "source": []
  },
  {
   "cell_type": "markdown",
   "source": [
    "Which are the top 10 most visisted businesses?"
   ],
   "metadata": {
    "collapsed": false,
    "pycharm": {
     "name": "#%% md\n"
    }
   }
  },
  {
   "cell_type": "code",
   "execution_count": null,
   "outputs": [],
   "source": [
    "sparql_query = \"\"\"\n",
    "SELECT ?business COUNT(?visits)\n",
    "WHERE {\n",
    "    ?business schema:category ?category .\n",
    "    ?business schema:checkinTime ?visits .\n",
    "}\n",
    "GROUP BY ?business\n",
    "ORDER BY DESC(?visits)\n",
    "LIMIT 10\n",
    "\n",
    "\"\"\"\n",
    "\n",
    "run_query(query=sparql_query, as_dataframe=True)"
   ],
   "metadata": {
    "collapsed": false,
    "pycharm": {
     "name": "#%%\n"
    }
   }
  },
  {
   "cell_type": "code",
   "execution_count": 53,
   "outputs": [
    {
     "data": {
      "text/plain": "                   business_id  \\\n0       ---kPU91CF4Lq2-WlRu9Lw   \n1       --0iUa4sNDFiZFrAdIWhZQ   \n2       --30_8IhuyMHbSOcNWd6DQ   \n3       --7PUidqRWpRSpXebiyxTg   \n4       --7jw19RH9JKXgFohspgQw   \n...                        ...   \n131925  zznJox6-nmXlGYNWgTDwQQ   \n131926  zznZqH9CiAznbkV6fXyHWA   \n131927  zzu6_r3DxBJuXcjnOYVdTw   \n131928  zzw66H6hVjXQEt0Js3Mo4A   \n131929  zzyx5x0Z7xXWWvWnZFuxlQ   \n\n                                                     date  \n0       [2020-03-13 21:10:56, 2020-06-02 22:18:06, 202...  \n1       [2010-09-13 21:43:09, 2011-05-04 23:08:15, 201...  \n2              [2013-06-14 23:29:17, 2014-08-13 23:20:22]  \n3       [2011-02-15 17:12:00, 2011-07-28 02:46:10, 201...  \n4       [2014-04-21 20:42:11, 2014-04-28 21:04:46, 201...  \n...                                                   ...  \n131925  [2013-03-23 16:22:47, 2013-04-07 02:03:12, 201...  \n131926                              [2021-06-12 01:16:12]  \n131927  [2011-05-24 01:35:13, 2012-01-01 23:44:33, 201...  \n131928         [2016-12-03 23:33:26, 2018-12-02 19:08:45]  \n131929                              [2015-01-06 17:51:53]  \n\n[131930 rows x 2 columns]",
      "text/html": "<div>\n<style scoped>\n    .dataframe tbody tr th:only-of-type {\n        vertical-align: middle;\n    }\n\n    .dataframe tbody tr th {\n        vertical-align: top;\n    }\n\n    .dataframe thead th {\n        text-align: right;\n    }\n</style>\n<table border=\"1\" class=\"dataframe\">\n  <thead>\n    <tr style=\"text-align: right;\">\n      <th></th>\n      <th>business_id</th>\n      <th>date</th>\n    </tr>\n  </thead>\n  <tbody>\n    <tr>\n      <th>0</th>\n      <td>---kPU91CF4Lq2-WlRu9Lw</td>\n      <td>[2020-03-13 21:10:56, 2020-06-02 22:18:06, 202...</td>\n    </tr>\n    <tr>\n      <th>1</th>\n      <td>--0iUa4sNDFiZFrAdIWhZQ</td>\n      <td>[2010-09-13 21:43:09, 2011-05-04 23:08:15, 201...</td>\n    </tr>\n    <tr>\n      <th>2</th>\n      <td>--30_8IhuyMHbSOcNWd6DQ</td>\n      <td>[2013-06-14 23:29:17, 2014-08-13 23:20:22]</td>\n    </tr>\n    <tr>\n      <th>3</th>\n      <td>--7PUidqRWpRSpXebiyxTg</td>\n      <td>[2011-02-15 17:12:00, 2011-07-28 02:46:10, 201...</td>\n    </tr>\n    <tr>\n      <th>4</th>\n      <td>--7jw19RH9JKXgFohspgQw</td>\n      <td>[2014-04-21 20:42:11, 2014-04-28 21:04:46, 201...</td>\n    </tr>\n    <tr>\n      <th>...</th>\n      <td>...</td>\n      <td>...</td>\n    </tr>\n    <tr>\n      <th>131925</th>\n      <td>zznJox6-nmXlGYNWgTDwQQ</td>\n      <td>[2013-03-23 16:22:47, 2013-04-07 02:03:12, 201...</td>\n    </tr>\n    <tr>\n      <th>131926</th>\n      <td>zznZqH9CiAznbkV6fXyHWA</td>\n      <td>[2021-06-12 01:16:12]</td>\n    </tr>\n    <tr>\n      <th>131927</th>\n      <td>zzu6_r3DxBJuXcjnOYVdTw</td>\n      <td>[2011-05-24 01:35:13, 2012-01-01 23:44:33, 201...</td>\n    </tr>\n    <tr>\n      <th>131928</th>\n      <td>zzw66H6hVjXQEt0Js3Mo4A</td>\n      <td>[2016-12-03 23:33:26, 2018-12-02 19:08:45]</td>\n    </tr>\n    <tr>\n      <th>131929</th>\n      <td>zzyx5x0Z7xXWWvWnZFuxlQ</td>\n      <td>[2015-01-06 17:51:53]</td>\n    </tr>\n  </tbody>\n</table>\n<p>131930 rows × 2 columns</p>\n</div>"
     },
     "execution_count": 53,
     "metadata": {},
     "output_type": "execute_result"
    }
   ],
   "source": [
    "checkins"
   ],
   "metadata": {
    "collapsed": false,
    "pycharm": {
     "name": "#%%\n"
    }
   }
  },
  {
   "cell_type": "code",
   "execution_count": 55,
   "outputs": [],
   "source": [
    "checkins = checkins.explode('date')"
   ],
   "metadata": {
    "collapsed": false,
    "pycharm": {
     "name": "#%%\n"
    }
   }
  },
  {
   "cell_type": "code",
   "execution_count": 59,
   "outputs": [
    {
     "data": {
      "text/plain": "business_id\n---kPU91CF4Lq2-WlRu9Lw    11\n--0iUa4sNDFiZFrAdIWhZQ    10\n--30_8IhuyMHbSOcNWd6DQ     2\n--7PUidqRWpRSpXebiyxTg    10\n--7jw19RH9JKXgFohspgQw    26\n                          ..\nzznJox6-nmXlGYNWgTDwQQ    67\nzznZqH9CiAznbkV6fXyHWA     1\nzzu6_r3DxBJuXcjnOYVdTw    23\nzzw66H6hVjXQEt0Js3Mo4A     2\nzzyx5x0Z7xXWWvWnZFuxlQ     1\nLength: 131930, dtype: int64"
     },
     "execution_count": 59,
     "metadata": {},
     "output_type": "execute_result"
    }
   ],
   "source": [
    "checkins.groupby(['business_id']).size()"
   ],
   "metadata": {
    "collapsed": false,
    "pycharm": {
     "name": "#%%\n"
    }
   }
  },
  {
   "cell_type": "markdown",
   "source": [
    "How many of the Yelp categories are also mapped to schema.org?"
   ],
   "metadata": {
    "collapsed": false,
    "pycharm": {
     "name": "#%% md\n"
    }
   }
  },
  {
   "cell_type": "code",
   "execution_count": null,
   "outputs": [],
   "source": [
    "sparql_query = \"\"\"\n",
    "SELECT COUNT(?category)\n",
    "WHERE {\n",
    "    ?category rdfs.Class example:yelpCategory.\n",
    "    ?category skos:exactMatch ?schemacategory .\n",
    "    ?category skos:narrowMatch ?schemacategory .\n",
    "    ?schemacategory rdfs.Class example:SchemaCategory .\n",
    "\n",
    "}\n",
    "\"\"\"\n",
    "\n",
    "run_query(query=sparql_query, as_dataframe=True)"
   ],
   "metadata": {
    "collapsed": false,
    "pycharm": {
     "name": "#%%\n"
    }
   }
  },
  {
   "cell_type": "code",
   "execution_count": 63,
   "outputs": [
    {
     "data": {
      "text/plain": "384"
     },
     "execution_count": 63,
     "metadata": {},
     "output_type": "execute_result"
    }
   ],
   "source": [
    "mappings = pd.read_csv(get_path(\"class_mappings.csv\"))\n",
    "len(mappings)"
   ],
   "metadata": {
    "collapsed": false,
    "pycharm": {
     "name": "#%%\n"
    }
   }
  },
  {
   "cell_type": "markdown",
   "metadata": {
    "collapsed": false
   },
   "source": [
    "How many people have written a review or tip on Yelp? TO DO: review author user, user author tip giver ikke mening"
   ]
  },
  {
   "cell_type": "code",
   "execution_count": 37,
   "metadata": {
    "collapsed": false,
    "pycharm": {
     "name": "#%%\n"
    }
   },
   "outputs": [
    {
     "data": {
      "text/html": [
       "<div>\n",
       "<style scoped>\n",
       "    .dataframe tbody tr th:only-of-type {\n",
       "        vertical-align: middle;\n",
       "    }\n",
       "\n",
       "    .dataframe tbody tr th {\n",
       "        vertical-align: top;\n",
       "    }\n",
       "\n",
       "    .dataframe thead th {\n",
       "        text-align: right;\n",
       "    }\n",
       "</style>\n",
       "<table border=\"1\" class=\"dataframe\">\n",
       "  <thead>\n",
       "    <tr style=\"text-align: right;\">\n",
       "      <th></th>\n",
       "      <th>callret-0.type</th>\n",
       "      <th>callret-0.datatype</th>\n",
       "      <th>callret-0.value</th>\n",
       "    </tr>\n",
       "  </thead>\n",
       "  <tbody>\n",
       "    <tr>\n",
       "      <th>0</th>\n",
       "      <td>typed-literal</td>\n",
       "      <td>http://www.w3.org/2001/XMLSchema#integer</td>\n",
       "      <td>0</td>\n",
       "    </tr>\n",
       "  </tbody>\n",
       "</table>\n",
       "</div>"
      ],
      "text/plain": [
       "  callret-0.type                        callret-0.datatype callret-0.value\n",
       "0  typed-literal  http://www.w3.org/2001/XMLSchema#integer               0"
      ]
     },
     "execution_count": 37,
     "metadata": {},
     "output_type": "execute_result"
    }
   ],
   "source": [
    "sparql_query = \"\"\"\n",
    "SELECT COUNT(?users)\n",
    "WHERE {\n",
    "    ?user rdfs:Class schema:Person .\n",
    "    ?review schema:author ?user .\n",
    "\n",
    "\n",
    "}\n",
    "\"\"\"\n",
    "\n",
    "run_query(query=sparql_query, as_dataframe=True)"
   ]
  },
  {
   "cell_type": "code",
   "execution_count": null,
   "outputs": [],
   "source": [],
   "metadata": {
    "collapsed": false,
    "pycharm": {
     "name": "#%%\n"
    }
   }
  },
  {
   "cell_type": "markdown",
   "source": [
    "How many users have 10 friends? TO DO SELECT WHERE 10"
   ],
   "metadata": {
    "collapsed": false,
    "pycharm": {
     "name": "#%% md\n"
    }
   }
  },
  {
   "cell_type": "code",
   "execution_count": null,
   "outputs": [],
   "source": [
    "sparql_query = \"\"\"\n",
    "SELECT ?user (COUNT(?friend) as ?numberOfFriends)\n",
    "WHERE {\n",
    "    ?user rdfs:Class schema:Person .\n",
    "    ?user schema:knows ?friend .\n",
    "}\n",
    "HAVING { ?numberOfFriends = 10 }\n",
    "GROUP BY ?user\n",
    "\"\"\"\n",
    "\n",
    "run_query(query=sparql_query, as_dataframe=True)"
   ],
   "metadata": {
    "collapsed": false,
    "pycharm": {
     "name": "#%%\n"
    }
   }
  },
  {
   "cell_type": "code",
   "execution_count": null,
   "outputs": [],
   "source": [],
   "metadata": {
    "collapsed": false,
    "pycharm": {
     "name": "#%%\n"
    }
   }
  },
  {
   "cell_type": "markdown",
   "metadata": {},
   "source": [
    "How many friends does a user have on average?"
   ]
  },
  {
   "cell_type": "code",
   "execution_count": null,
   "metadata": {},
   "outputs": [],
   "source": [
    "sparql_query = \"\"\"\n",
    "SELECT (AVG(?friend) as ?averageFriends)\n",
    "WHERE {\n",
    "    ?user rdfs:Class schema:Person .\n",
    "    ?user schema:knows ?friend .\n",
    "}\n",
    "\"\"\"\n",
    "\n",
    "run_query(query=sparql_query, as_dataframe=True)"
   ]
  },
  {
   "cell_type": "code",
   "execution_count": null,
   "metadata": {},
   "outputs": [],
   "source": []
  },
  {
   "cell_type": "markdown",
   "source": [
    "How many users have authored 10 reviews or tips?"
   ],
   "metadata": {
    "collapsed": false,
    "pycharm": {
     "name": "#%% md\n"
    }
   }
  },
  {
   "cell_type": "code",
   "execution_count": null,
   "outputs": [],
   "source": [
    "sparql_query = \"\"\"\n",
    "SELECT ?user (COUNT(?reviews) as ?numberOfReviews)\n",
    "WHERE {\n",
    "    ?user rdfs:Class schema:Person .\n",
    "    ?user schema:knows ?friend .\n",
    "}\n",
    "HAVING { ?numberOfFriends = 10 }\n",
    "GROUP BY ?user\n",
    "\"\"\"\n",
    "\n",
    "run_query(query=sparql_query, as_dataframe=True)"
   ],
   "metadata": {
    "collapsed": false,
    "pycharm": {
     "name": "#%%\n"
    }
   }
  },
  {
   "cell_type": "code",
   "execution_count": 64,
   "outputs": [
    {
     "data": {
      "text/plain": "                       user_id             business_id  \\\n0       AGNUgVwnZUey3gcPCJ76iw  3uLgwr0qeCNMjKenHJwPGQ   \n1       NBN4MgHP9D3cw--SnauTkA  QoezRbYQncpRqyrLH6Iqjg   \n2       -copOvldyKh1qr-vzkDEvw  MYoRNLb5chwjQe3c_k37Gg   \n3       FjMQVZjSqY8syIO-53KFKw  hV-bABTK-glh5wj31ps_Jw   \n4       ld0AperBXk1h6UbqmM80zw  _uN0OudeJ3Zl_tf6nxg5ww   \n...                        ...                     ...   \n908910  eYodOTF8pkqKPzHkcxZs-Q  3lHTewuKFt5IImbXJoFeDQ   \n908911  1uxtQAuJ2T5Xwa_wp7kUnA  OaGf0Dp56ARhQwIDT90w_g   \n908912  v48Spe6WEpqehsF2xQADpg  hYnMeAO77RGyTtIzUSKYzQ   \n908913  ckqKGM2hl7I9Chp5IpAhkw  s2eyoTuJrcP7I_XyjdhUHQ   \n908914  4tF1CWdMxvvwpUIgGsDygA  _cb1Vg1NIWry8UA0jyuXnQ   \n\n                                                     text                date  \\\n0                          Avengers time with the ladies. 2012-05-18 02:17:21   \n1       They have lots of good deserts and tasty cuban... 2013-02-05 18:35:10   \n2                  It's open even when you think it isn't 2013-08-18 00:56:08   \n3                               Very decent fried chicken 2017-06-27 23:05:38   \n4                  Appetizers.. platter special for lunch 2012-10-06 19:43:09   \n...                                                   ...                 ...   \n908910              Disappointed in one of your managers. 2021-09-11 19:18:57   \n908911                            Great food and service. 2021-10-30 11:54:36   \n908912                                Love their Cubans!! 2021-11-05 13:18:56   \n908913                            Great pizza great price 2021-11-20 16:11:44   \n908914                  Food is good value but a bit hot! 2021-12-07 22:30:00   \n\n        compliment_count  \n0                      0  \n1                      0  \n2                      0  \n3                      0  \n4                      0  \n...                  ...  \n908910                 0  \n908911                 0  \n908912                 0  \n908913                 0  \n908914                 0  \n\n[908915 rows x 5 columns]",
      "text/html": "<div>\n<style scoped>\n    .dataframe tbody tr th:only-of-type {\n        vertical-align: middle;\n    }\n\n    .dataframe tbody tr th {\n        vertical-align: top;\n    }\n\n    .dataframe thead th {\n        text-align: right;\n    }\n</style>\n<table border=\"1\" class=\"dataframe\">\n  <thead>\n    <tr style=\"text-align: right;\">\n      <th></th>\n      <th>user_id</th>\n      <th>business_id</th>\n      <th>text</th>\n      <th>date</th>\n      <th>compliment_count</th>\n    </tr>\n  </thead>\n  <tbody>\n    <tr>\n      <th>0</th>\n      <td>AGNUgVwnZUey3gcPCJ76iw</td>\n      <td>3uLgwr0qeCNMjKenHJwPGQ</td>\n      <td>Avengers time with the ladies.</td>\n      <td>2012-05-18 02:17:21</td>\n      <td>0</td>\n    </tr>\n    <tr>\n      <th>1</th>\n      <td>NBN4MgHP9D3cw--SnauTkA</td>\n      <td>QoezRbYQncpRqyrLH6Iqjg</td>\n      <td>They have lots of good deserts and tasty cuban...</td>\n      <td>2013-02-05 18:35:10</td>\n      <td>0</td>\n    </tr>\n    <tr>\n      <th>2</th>\n      <td>-copOvldyKh1qr-vzkDEvw</td>\n      <td>MYoRNLb5chwjQe3c_k37Gg</td>\n      <td>It's open even when you think it isn't</td>\n      <td>2013-08-18 00:56:08</td>\n      <td>0</td>\n    </tr>\n    <tr>\n      <th>3</th>\n      <td>FjMQVZjSqY8syIO-53KFKw</td>\n      <td>hV-bABTK-glh5wj31ps_Jw</td>\n      <td>Very decent fried chicken</td>\n      <td>2017-06-27 23:05:38</td>\n      <td>0</td>\n    </tr>\n    <tr>\n      <th>4</th>\n      <td>ld0AperBXk1h6UbqmM80zw</td>\n      <td>_uN0OudeJ3Zl_tf6nxg5ww</td>\n      <td>Appetizers.. platter special for lunch</td>\n      <td>2012-10-06 19:43:09</td>\n      <td>0</td>\n    </tr>\n    <tr>\n      <th>...</th>\n      <td>...</td>\n      <td>...</td>\n      <td>...</td>\n      <td>...</td>\n      <td>...</td>\n    </tr>\n    <tr>\n      <th>908910</th>\n      <td>eYodOTF8pkqKPzHkcxZs-Q</td>\n      <td>3lHTewuKFt5IImbXJoFeDQ</td>\n      <td>Disappointed in one of your managers.</td>\n      <td>2021-09-11 19:18:57</td>\n      <td>0</td>\n    </tr>\n    <tr>\n      <th>908911</th>\n      <td>1uxtQAuJ2T5Xwa_wp7kUnA</td>\n      <td>OaGf0Dp56ARhQwIDT90w_g</td>\n      <td>Great food and service.</td>\n      <td>2021-10-30 11:54:36</td>\n      <td>0</td>\n    </tr>\n    <tr>\n      <th>908912</th>\n      <td>v48Spe6WEpqehsF2xQADpg</td>\n      <td>hYnMeAO77RGyTtIzUSKYzQ</td>\n      <td>Love their Cubans!!</td>\n      <td>2021-11-05 13:18:56</td>\n      <td>0</td>\n    </tr>\n    <tr>\n      <th>908913</th>\n      <td>ckqKGM2hl7I9Chp5IpAhkw</td>\n      <td>s2eyoTuJrcP7I_XyjdhUHQ</td>\n      <td>Great pizza great price</td>\n      <td>2021-11-20 16:11:44</td>\n      <td>0</td>\n    </tr>\n    <tr>\n      <th>908914</th>\n      <td>4tF1CWdMxvvwpUIgGsDygA</td>\n      <td>_cb1Vg1NIWry8UA0jyuXnQ</td>\n      <td>Food is good value but a bit hot!</td>\n      <td>2021-12-07 22:30:00</td>\n      <td>0</td>\n    </tr>\n  </tbody>\n</table>\n<p>908915 rows × 5 columns</p>\n</div>"
     },
     "execution_count": 64,
     "metadata": {},
     "output_type": "execute_result"
    }
   ],
   "source": [
    "tips"
   ],
   "metadata": {
    "collapsed": false,
    "pycharm": {
     "name": "#%%\n"
    }
   }
  },
  {
   "cell_type": "markdown",
   "metadata": {},
   "source": [
    "How many reviews or tips does a user make on average every month?"
   ]
  },
  {
   "cell_type": "code",
   "execution_count": null,
   "metadata": {},
   "outputs": [],
   "source": [
    "# TO DO"
   ]
  },
  {
   "cell_type": "code",
   "execution_count": null,
   "metadata": {},
   "outputs": [],
   "source": []
  }
 ],
 "metadata": {
  "kernelspec": {
   "display_name": "Python 3.10.8 64-bit",
   "language": "python",
   "name": "python3"
  },
  "language_info": {
   "codemirror_mode": {
    "name": "ipython",
    "version": 3
   },
   "file_extension": ".py",
   "mimetype": "text/x-python",
   "name": "python",
   "nbconvert_exporter": "python",
   "pygments_lexer": "ipython3",
   "version": "3.10.8"
  },
  "vscode": {
   "interpreter": {
    "hash": "8a94588eda9d64d9e9a351ab8144e55b1fabf5113b54e67dd26a8c27df0381b3"
   }
  }
 },
 "nbformat": 4,
 "nbformat_minor": 0
}