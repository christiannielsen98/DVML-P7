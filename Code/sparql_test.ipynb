{
 "cells": [
  {
   "cell_type": "code",
   "execution_count": 31,
   "metadata": {},
   "outputs": [],
   "source": [
    "from SPARQLWrapper import SPARQLWrapper, JSON\n",
    "from pandas import json_normalize\n",
    "\n",
    "endpoint = SPARQLWrapper(\"http://localhost:8890/sparql\")\n",
    "endpoint.setReturnFormat(JSON)\n",
    "endpoint.setTimeout(1200)\n",
    "endpoint.method = 'POST'\n",
    "\n",
    "def run_query(query, endpoint, as_dataframe=False, do_print=False):\n",
    "    PREFIX= \"\"\"\n",
    "\n",
    "    \"\"\"\n",
    "    \n",
    "    endpoint.setQuery(PREFIX+query)\n",
    "    results = endpoint.query().convert()['results']\n",
    "    if len(results['bindings']) <= 0:\n",
    "        print(\"Empty resultset\")\n",
    "        \n",
    "    if not as_dataframe:\n",
    "        if do_print:\n",
    "            for binding in results['bindings']:    \n",
    "                print(\"; \".join([var+\": \"+ binding[var]['value']  for var in binding.keys()  ]))\n",
    "        return results['bindings']\n",
    "    \n",
    "    else:\n",
    "        # pdata = pd.DataFrame.from_dict(results['bindings'], orient=\"index\")\n",
    "        pdata = json_normalize(results['bindings'])\n",
    "        if do_print:\n",
    "            display(pdata)\n",
    "        return pdata"
   ]
  },
  {
   "cell_type": "code",
   "execution_count": 32,
   "metadata": {},
   "outputs": [
    {
     "name": "stdout",
     "output_type": "stream",
     "text": [
      "s: --ZVrH2X2QXBFdCilbirsw; p: http://www.w3.org/2000/01/rdf-schema#Class; o: https://schema.org/LocalBusiness\n",
      "s: --hF_3v1JmU9nlu4zfXJ8Q; p: http://www.w3.org/2000/01/rdf-schema#Class; o: https://schema.org/LocalBusiness\n",
      "s: -02xFuruu85XmDn2xiynJw; p: http://www.w3.org/2000/01/rdf-schema#Class; o: https://schema.org/LocalBusiness\n",
      "s: -0Ym1Wg3bXd_TDz8JtvOQg; p: http://www.w3.org/2000/01/rdf-schema#Class; o: https://schema.org/LocalBusiness\n",
      "s: -0fvhILrC9UsQ6gLNpZlTQ; p: http://www.w3.org/2000/01/rdf-schema#Class; o: https://schema.org/LocalBusiness\n",
      "s: -1ueCbvIpUPi8KT95ETTKw; p: http://www.w3.org/2000/01/rdf-schema#Class; o: https://schema.org/LocalBusiness\n",
      "s: -2bLM6nIETD4Mk-rhjIYZQ; p: http://www.w3.org/2000/01/rdf-schema#Class; o: https://schema.org/LocalBusiness\n",
      "s: -2ke_JDOpgTZWqirMFjZcw; p: http://www.w3.org/2000/01/rdf-schema#Class; o: https://schema.org/LocalBusiness\n",
      "s: -3AooxIkg38UyUdlz5oXdw; p: http://www.w3.org/2000/01/rdf-schema#Class; o: https://schema.org/LocalBusiness\n",
      "s: -49YlJ2GGzgmQ71FX9gGyg; p: http://www.w3.org/2000/01/rdf-schema#Class; o: https://schema.org/LocalBusiness\n"
     ]
    },
    {
     "data": {
      "text/plain": [
       "[{'s': {'type': 'uri', 'value': '--ZVrH2X2QXBFdCilbirsw'},\n",
       "  'p': {'type': 'uri', 'value': 'http://www.w3.org/2000/01/rdf-schema#Class'},\n",
       "  'o': {'type': 'uri', 'value': 'https://schema.org/LocalBusiness'}},\n",
       " {'s': {'type': 'uri', 'value': '--hF_3v1JmU9nlu4zfXJ8Q'},\n",
       "  'p': {'type': 'uri', 'value': 'http://www.w3.org/2000/01/rdf-schema#Class'},\n",
       "  'o': {'type': 'uri', 'value': 'https://schema.org/LocalBusiness'}},\n",
       " {'s': {'type': 'uri', 'value': '-02xFuruu85XmDn2xiynJw'},\n",
       "  'p': {'type': 'uri', 'value': 'http://www.w3.org/2000/01/rdf-schema#Class'},\n",
       "  'o': {'type': 'uri', 'value': 'https://schema.org/LocalBusiness'}},\n",
       " {'s': {'type': 'uri', 'value': '-0Ym1Wg3bXd_TDz8JtvOQg'},\n",
       "  'p': {'type': 'uri', 'value': 'http://www.w3.org/2000/01/rdf-schema#Class'},\n",
       "  'o': {'type': 'uri', 'value': 'https://schema.org/LocalBusiness'}},\n",
       " {'s': {'type': 'uri', 'value': '-0fvhILrC9UsQ6gLNpZlTQ'},\n",
       "  'p': {'type': 'uri', 'value': 'http://www.w3.org/2000/01/rdf-schema#Class'},\n",
       "  'o': {'type': 'uri', 'value': 'https://schema.org/LocalBusiness'}},\n",
       " {'s': {'type': 'uri', 'value': '-1ueCbvIpUPi8KT95ETTKw'},\n",
       "  'p': {'type': 'uri', 'value': 'http://www.w3.org/2000/01/rdf-schema#Class'},\n",
       "  'o': {'type': 'uri', 'value': 'https://schema.org/LocalBusiness'}},\n",
       " {'s': {'type': 'uri', 'value': '-2bLM6nIETD4Mk-rhjIYZQ'},\n",
       "  'p': {'type': 'uri', 'value': 'http://www.w3.org/2000/01/rdf-schema#Class'},\n",
       "  'o': {'type': 'uri', 'value': 'https://schema.org/LocalBusiness'}},\n",
       " {'s': {'type': 'uri', 'value': '-2ke_JDOpgTZWqirMFjZcw'},\n",
       "  'p': {'type': 'uri', 'value': 'http://www.w3.org/2000/01/rdf-schema#Class'},\n",
       "  'o': {'type': 'uri', 'value': 'https://schema.org/LocalBusiness'}},\n",
       " {'s': {'type': 'uri', 'value': '-3AooxIkg38UyUdlz5oXdw'},\n",
       "  'p': {'type': 'uri', 'value': 'http://www.w3.org/2000/01/rdf-schema#Class'},\n",
       "  'o': {'type': 'uri', 'value': 'https://schema.org/LocalBusiness'}},\n",
       " {'s': {'type': 'uri', 'value': '-49YlJ2GGzgmQ71FX9gGyg'},\n",
       "  'p': {'type': 'uri', 'value': 'http://www.w3.org/2000/01/rdf-schema#Class'},\n",
       "  'o': {'type': 'uri', 'value': 'https://schema.org/LocalBusiness'}}]"
      ]
     },
     "execution_count": 32,
     "metadata": {},
     "output_type": "execute_result"
    }
   ],
   "source": [
    "query = 'SELECT ?s ?p ?o FROM <http://www.yelpkg.com/business> WHERE{?s ?p ?o } LIMIT 10'\n",
    "run_query(query=query, endpoint=endpoint, as_dataframe=False, do_print=True)"
   ]
  },
  {
   "cell_type": "code",
   "execution_count": null,
   "metadata": {},
   "outputs": [],
   "source": []
  }
 ],
 "metadata": {
  "kernelspec": {
   "display_name": "Python 3.10.6 64-bit",
   "language": "python",
   "name": "python3"
  },
  "language_info": {
   "codemirror_mode": {
    "name": "ipython",
    "version": 3
   },
   "file_extension": ".py",
   "mimetype": "text/x-python",
   "name": "python",
   "nbconvert_exporter": "python",
   "pygments_lexer": "ipython3",
   "version": "3.10.6"
  },
  "orig_nbformat": 4,
  "vscode": {
   "interpreter": {
    "hash": "7e1998ff7f8aa20ada591c520b972326324e5ea05489af9e422744c7c09f6dad"
   }
  }
 },
 "nbformat": 4,
 "nbformat_minor": 2
}
