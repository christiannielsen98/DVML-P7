{
 "cells": [
  {
   "cell_type": "code",
   "execution_count": 1,
   "metadata": {},
   "outputs": [],
   "source": [
    "from UtilityFunctions.run_query import run_query"
   ]
  },
  {
   "cell_type": "code",
   "execution_count": 2,
   "metadata": {},
   "outputs": [
    {
     "name": "stdout",
     "output_type": "stream",
     "text": [
      "s: https://example.org/business_id/-a7VXX0-V9LgWMFrq90iNA; p: http://www.w3.org/2000/01/rdf-schema#Class; o: https://schema.org/LocalBusiness\n",
      "s: https://example.org/business_id/0UqeZTDBdV0uY3wesbLvYQ; p: http://www.w3.org/2000/01/rdf-schema#Class; o: https://schema.org/LocalBusiness\n",
      "s: https://example.org/business_id/1jx1sfgjgVg0nM6n3p0xWA; p: http://www.w3.org/2000/01/rdf-schema#Class; o: https://schema.org/LocalBusiness\n",
      "s: https://example.org/business_id/2MAQeAqmD8enCT2ZYqUgIQ; p: http://www.w3.org/2000/01/rdf-schema#Class; o: https://schema.org/LocalBusiness\n",
      "s: https://example.org/business_id/2O2K6SXPWv56amqxCECd4w; p: http://www.w3.org/2000/01/rdf-schema#Class; o: https://schema.org/LocalBusiness\n",
      "s: https://example.org/business_id/5Z8iBpJMmOMz6G_7oVnzRA; p: http://www.w3.org/2000/01/rdf-schema#Class; o: https://schema.org/LocalBusiness\n",
      "s: https://example.org/business_id/7omkeqEv-kKMIn9kmOR6Lw; p: http://www.w3.org/2000/01/rdf-schema#Class; o: https://schema.org/LocalBusiness\n",
      "s: https://example.org/business_id/7xc84taj12pt-RtZhAfSkQ; p: http://www.w3.org/2000/01/rdf-schema#Class; o: https://schema.org/LocalBusiness\n",
      "s: https://example.org/business_id/8n93L-ilMAsvwUatarykSg; p: http://www.w3.org/2000/01/rdf-schema#Class; o: https://schema.org/LocalBusiness\n",
      "s: https://example.org/business_id/9RGR4_r4PJLTooNmscUE_A; p: http://www.w3.org/2000/01/rdf-schema#Class; o: https://schema.org/LocalBusiness\n"
     ]
    }
   ],
   "source": [
    "query = 'SELECT ?s ?p ?o FROM <http://www.yelpkg.com/business> WHERE{?s ?p ?o } LIMIT 10'\n",
    "# query = 'SELECT COUNT(?biz) FROM <http://www.yelpkg.com/business> WHERE {?biz rdfs:Class schema:LocalBusiness}'\n",
    "# query = 'SELECT AVG(?rating) as ?averagerating WHERE {?biz schema:starRating ?rating}'\n",
    "run_query(query=query, as_dataframe=False, do_print=True)\n",
    "x=1"
   ]
  },
  {
   "cell_type": "code",
   "execution_count": null,
   "metadata": {},
   "outputs": [],
   "source": []
  }
 ],
 "metadata": {
  "kernelspec": {
   "display_name": "Python 3.10.6 64-bit",
   "language": "python",
   "name": "python3"
  },
  "language_info": {
   "codemirror_mode": {
    "name": "ipython",
    "version": 3
   },
   "file_extension": ".py",
   "mimetype": "text/x-python",
   "name": "python",
   "nbconvert_exporter": "python",
   "pygments_lexer": "ipython3",
   "version": "3.10.6"
  },
  "orig_nbformat": 4,
  "vscode": {
   "interpreter": {
    "hash": "7e1998ff7f8aa20ada591c520b972326324e5ea05489af9e422744c7c09f6dad"
   }
  }
 },
 "nbformat": 4,
 "nbformat_minor": 2
}
