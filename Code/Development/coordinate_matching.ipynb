{
 "cells": [
  {
   "cell_type": "code",
   "execution_count": null,
   "metadata": {},
   "outputs": [],
   "source": [
    "from time import sleep\n",
    "\n",
    "import pandas as pd\n",
    "from geopy.geocoders import Nominatim\n",
    "from geopy.extra.rate_limiter import RateLimiter\n",
    "\n",
    "from Code.UtilityFunctions.get_data_path import get_path"
   ]
  },
  {
   "cell_type": "markdown",
   "metadata": {},
   "source": [
    "For the GeoPy Documentation, see https://geopy.readthedocs.io/en/latest/#\n",
    "\n",
    "For the Nominatim Documentation, see https://nominatim.org/release-docs/latest/\n",
    "\n",
    "For the Nominatim Terms of Service, see https://operations.osmfoundation.org/policies/nominatim/"
   ]
  },
  {
   "cell_type": "markdown",
   "metadata": {},
   "source": [
    "### Toy Example"
   ]
  },
  {
   "cell_type": "code",
   "execution_count": null,
   "metadata": {},
   "outputs": [],
   "source": [
    "geolocator = Nominatim(user_agent=\"YelpLocationMatching\")\n",
    "\n",
    "# Set RateLimiter parameters\n",
    "min_delay_seconds = 2\n",
    "max_retries = 3\n",
    "error_wait_seconds = 5\n",
    "zoom_level = 14  # Yields location to the neighbourhood level\n",
    "\n",
    "geocode = RateLimiter(geolocator.geocode,\n",
    "                      min_delay_seconds=min_delay_seconds,\n",
    "                      max_retries=max_retries,\n",
    "                      error_wait_seconds=error_wait_seconds)\n",
    "\n",
    "location = geolocator.reverse(\"40.7127281, -74.0060152\")\n",
    "print(location.raw)"
   ]
  },
  {
   "cell_type": "code",
   "execution_count": null,
   "metadata": {},
   "outputs": [],
   "source": [
    "full_address = location.raw['address']\n",
    "print(full_address)"
   ]
  },
  {
   "cell_type": "markdown",
   "metadata": {},
   "source": [
    "### Actual Code"
   ]
  },
  {
   "cell_type": "code",
   "execution_count": null,
   "metadata": {},
   "outputs": [],
   "source": [
    "# Read in the business data\n",
    "business_file = \"yelp_academic_dataset_business.json\"\n",
    "businesses = pd.read_json(path_or_buf=get_path(business_file), lines=True)\n",
    "\n",
    "# Remove the old city and state values from the businesses DataFrame\n",
    "businesses.drop(['city', 'state'], inplace=True, axis=1)\n",
    "\n",
    "# Create rounded coordinates\n",
    "businesses[\"coordinate_set\"] = businesses[\"latitude\"].apply(round, args=(2,)).astype(str) + \",\" + businesses[\"longitude\"].apply(round, args=(2,)).astype(str)\n",
    "\n",
    "# Unique rounded coordinates\n",
    "unique_locations = list(businesses[\"coordinate_set\"].unique())"
   ]
  },
  {
   "cell_type": "code",
   "execution_count": null,
   "metadata": {},
   "outputs": [],
   "source": [
    "# Set RateLimiter parameters\n",
    "min_delay_seconds = 2\n",
    "max_retries = 3\n",
    "error_wait_seconds = 5\n",
    "zoom_level = 14  # Yields location to the neighbourhood level\n",
    "\n",
    "# Create geolocator\n",
    "geolocator = Nominatim(user_agent=\"YelpLocationMatching\")\n",
    "# and set rate limiter to (attempt to) avoid API timeout - DOESN'T WORK\n",
    "# geocode = RateLimiter(geolocator.geocode,\n",
    "#                       min_delay_seconds=min_delay_seconds,\n",
    "#                       max_retries=max_retries,\n",
    "#                       error_wait_seconds=error_wait_seconds)"
   ]
  },
  {
   "cell_type": "code",
   "execution_count": null,
   "metadata": {},
   "outputs": [],
   "source": [
    "# Calculate approximate time for geocoding\n",
    "total_time = len(unique_locations) * min_delay_seconds / 60 / 60\n",
    "print(f\"Geocoding will take approximately {round(total_time, 2)} hours\")"
   ]
  },
  {
   "cell_type": "code",
   "execution_count": null,
   "metadata": {},
   "outputs": [],
   "source": [
    "unique_locations = unique_locations[0:100]"
   ]
  },
  {
   "cell_type": "code",
   "execution_count": null,
   "metadata": {},
   "outputs": [],
   "source": [
    "# Create a dictionary with location as key and address as value\n",
    "location_dict = {}\n",
    "for location in unique_locations:\n",
    "    try:\n",
    "        location_dict[location] = geocode.reverse(location, zoom=zoom_level).raw['address']\n",
    "    except:\n",
    "        location_dict[location] = None"
   ]
  },
  {
   "cell_type": "code",
   "execution_count": null,
   "metadata": {},
   "outputs": [],
   "source": [
    "address_dict = {}\n",
    "desired_address_levels = [\"neighbourhood\", \"city\", \"county\", \"state\", \"country\"]\n",
    "\n",
    "# Extract only desired address levels from location_dict into address_dict\n",
    "for location, address in location_dict.items():\n",
    "    if address is not None:\n",
    "        address_dict[location] = {level: address[level] for level in desired_address_levels if level in address}"
   ]
  },
  {
   "cell_type": "code",
   "execution_count": null,
   "metadata": {},
   "outputs": [],
   "source": [
    "# Count entries in test_dict that have empty city value\n",
    "empty_city_count = 0\n",
    "\n",
    "for location, address in address_dict.items():\n",
    "    try:\n",
    "        address[\"city\"]\n",
    "    except KeyError:\n",
    "        empty_city_count += 1\n",
    "\n",
    "print(f\"There are {empty_city_count} entries with empty city value\")"
   ]
  },
  {
   "cell_type": "code",
   "execution_count": null,
   "metadata": {},
   "outputs": [],
   "source": [
    "# Create address DataFrame from the address_dict\n",
    "address_df = pd.DataFrame.from_dict(address_dict, orient=\"index\")\n",
    "\n",
    "# Merge the two DataFrames on the coordinate_set column of businesses and the index of address_df\n",
    "updated_business = businesses.merge(address_df, how=\"left\", left_on=\"coordinate_set\", right_index=True)\n",
    "\n",
    "# Remove the rounded coordinate set column\n",
    "updated_business.drop(\"coordinate_set\", inplace=True, axis=1)"
   ]
  },
  {
   "cell_type": "code",
   "execution_count": null,
   "metadata": {},
   "outputs": [],
   "source": [
    "updated_business"
   ]
  },
  {
   "cell_type": "markdown",
   "metadata": {},
   "source": [
    "min_delay_seconds = 2\n",
    "max_retries = 3\n",
    "error_wait_seconds = 5\n",
    "zoom_level = 14  # Yields location to the neighbourhood level"
   ]
  },
  {
   "cell_type": "code",
   "execution_count": null,
   "metadata": {},
   "outputs": [],
   "source": [
    "def update_business_locations(df: pd.DataFrame,\n",
    "                              coordinate_rounding: int=2,\n",
    "                              min_delay_seconds: int=2,\n",
    "                              max_retries: int=3,\n",
    "                              error_wait_seconds: int=5,\n",
    "                              zoom_level: int=14,\n",
    "                              report_missing: bool=False) -> pd.DataFrame:\n",
    "    \n",
    "    # Preprocess the DataFrame\n",
    "    df.drop(['city', 'state'], inplace=True, axis=1)\n",
    "    round_lat = df[\"latitude\"].apply(round, args=(coordinate_rounding,)).astype(str)\n",
    "    round_lon = df[\"longitude\"].apply(round, args=(coordinate_rounding,)).astype(str)\n",
    "    df[\"coordinate_set\"] = round_lat + ',' + round_lon\n",
    "    \n",
    "    # Create list of unique rounded coordinates\n",
    "    unique_locations = list(df[\"coordinate_set\"].unique())\n",
    "    \n",
    "    # Create geolocator using the Nominatim API\n",
    "    geolocator = Nominatim(user_agent=\"YelpLocationMatching\")\n",
    "\n",
    "    # Create a dictionary with location as key and address as value\n",
    "    location_dict = {}\n",
    "    for location in unique_locations:\n",
    "        try:\n",
    "            location_dict[location] = geolocator.reverse(location, zoom=zoom_level).raw['address']\n",
    "        except:\n",
    "            location_dict[location] = None\n",
    "        sleep(min_delay_seconds)  # Sleep to avoid API timeout\n",
    "    \n",
    "    desired_address_levels = [\"neighbourhood\", \"city\", \"county\", \"state\", \"country\"]\n",
    "    \n",
    "    # Extract only desired address levels from location_dict into address_dict\n",
    "    for location, address in location_dict.items():\n",
    "        if address is not None:\n",
    "            address_dict[location] = {level: address[level] for level in desired_address_levels if level in address}\n",
    "    \n",
    "    if report_missing:\n",
    "        # Count entries in address_dict that have no key in desired_address_levels\n",
    "        for level in desired_address_levels:\n",
    "            level_missing = 0\n",
    "            for _ in range(len(address_dict)):\n",
    "                try:\n",
    "                    address_dict[level]\n",
    "                except KeyError:\n",
    "                    level_missing += 1\n",
    "            print(f\"There are {level_missing} entries with empty {level} value\")\n",
    "    \n",
    "    # Create address DataFrame from the address_dict\n",
    "    address_df = pd.DataFrame.from_dict(address_dict, orient=\"index\")\n",
    "\n",
    "    # Merge the two DataFrames on the coordinate_set column of businesses and the index of address_df\n",
    "    updated_businesses = businesses.merge(address_df, how=\"left\", left_on=\"coordinate_set\", right_index=True)\n",
    "\n",
    "    # Remove the rounded coordinate set column\n",
    "    updated_businesses.drop(\"coordinate_set\", inplace=True, axis=1)\n",
    "    \n",
    "    return updated_businesses"
   ]
  }
 ],
 "metadata": {
  "kernelspec": {
   "display_name": "Python 3.11.0 64-bit",
   "language": "python",
   "name": "python3"
  },
  "language_info": {
   "codemirror_mode": {
    "name": "ipython",
    "version": 3
   },
   "file_extension": ".py",
   "mimetype": "text/x-python",
   "name": "python",
   "nbconvert_exporter": "python",
   "pygments_lexer": "ipython3",
   "version": "3.11.0"
  },
  "orig_nbformat": 4,
  "vscode": {
   "interpreter": {
    "hash": "be8902ab7f5be5b46344a1d32ed6f16ef4c7819a4242d8781571d048fd7d2288"
   }
  }
 },
 "nbformat": 4,
 "nbformat_minor": 2
}
