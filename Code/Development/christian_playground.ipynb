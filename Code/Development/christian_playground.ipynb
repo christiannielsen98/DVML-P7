{
 "cells": [
  {
   "cell_type": "code",
   "execution_count": 2,
   "metadata": {},
   "outputs": [],
   "source": [
    "import gzip\n",
    "import json\n",
    "import sys\n",
    "sys.path.append(sys.path[0][:sys.path[0].find('DVML-P7') + len('DVML-P7')])\n",
    "\n",
    "import pandas as pd\n",
    "from rdflib import Namespace, Graph, URIRef, Literal, BNode\n",
    "\n",
    "from rdflib.namespace import RDFS\n",
    "from Code.UtilityFunctions.dictionary_functions import flatten_dictionary\n",
    "from Code.UtilityFunctions.get_data_path import get_path\n",
    "from Code.UtilityFunctions.string_functions import split_words, turn_words_singular, split_words_inc_slash\n",
    "from Code.UtilityFunctions.wikidata_functions import wikidata_query, retrieve_wikidata_claims, category_query, min_qid, get_all_wikidata_claims, compare_qids, categories_dict_singular\n",
    "from Code.UtilityFunctions.schema_functions import get_schema_predicate, get_schema_type, get_class_mappings\n",
    "from Code.UtilityFunctions.get_uri import get_uri"
   ]
  },
  {
   "cell_type": "code",
   "execution_count": 3,
   "metadata": {},
   "outputs": [],
   "source": [
    "class_mappings = pd.read_csv(get_path(\"class_mappings.csv\"))"
   ]
  },
  {
   "cell_type": "code",
   "execution_count": 8,
   "metadata": {},
   "outputs": [
    {
     "name": "stdout",
     "output_type": "stream",
     "text": [
      "Done!\n"
     ]
    }
   ],
   "source": [
    "from shexer.shaper import Shaper\n",
    "from shexer.consts import NT, SHEXC, SHACL_TURTLE\n",
    "\n",
    "target_classes = [\n",
    "    \"http://example.org/Person\",\n",
    "    \"http://example.org/Gender\"\n",
    "]\n",
    "\n",
    "namespaces_dict = {\"http://www.w3.org/1999/02/22-rdf-syntax-ns#\": \"rdf\",\n",
    "                   \"http://example.org/\": \"ex\",\n",
    "                   \"http://weso.es/shapes/\": \"\",\n",
    "                   \"http://www.w3.org/2001/XMLSchema#\": \"xsd\"\n",
    "                   }\n",
    "\n",
    "raw_graph = \"\"\"\n",
    "<http://example.org/sarah> <http://www.w3.org/1999/02/22-rdf-syntax-ns#type> <http://example.org/Person> .\n",
    "<http://example.org/sarah> <http://example.org/age> \"30\"^^<http://www.w3.org/2001/XMLSchema#int> .\n",
    "<http://example.org/sarah> <http://example.org/name> \"Sarah\" .\n",
    "<http://example.org/sarah> <http://example.org/gender> <http://example.org/Female> .\n",
    "<http://example.org/sarah> <http://example.org/occupation> <http://example.org/Doctor> .\n",
    "<http://example.org/sarah> <http://example.org/brother> <http://example.org/Jim> .\n",
    "\n",
    "<http://example.org/jim> <http://www.w3.org/1999/02/22-rdf-syntax-ns#type> <http://example.org/Person> .\n",
    "<http://example.org/jim> <http://example.org/age> \"28\"^^<http://www.w3.org/2001/XMLSchema#int> .\n",
    "<http://example.org/jim> <http://example.org/name> \"Jimbo\".\n",
    "<http://example.org/jim> <http://example.org/surname> \"Mendes\".\n",
    "<http://example.org/jim> <http://example.org/gender> <http://example.org/Male> .\n",
    "\n",
    "<http://example.org/Male> <http://www.w3.org/1999/02/22-rdf-syntax-ns#type> <http://example.org/Gender> .\n",
    "<http://example.org/Male> <http://www.w3.org/2000/01/rdf-schema#label> \"Male\" .\n",
    "<http://example.org/Female> <http://www.w3.org/1999/02/22-rdf-syntax-ns#type> <http://example.org/Gender> .\n",
    "<http://example.org/Female> <http://www.w3.org/2000/01/rdf-schema#label> \"Female\" .\n",
    "<http://example.org/Other> <http://www.w3.org/1999/02/22-rdf-syntax-ns#type> <http://example.org/Gender> .\n",
    "<http://example.org/Other> <http://www.w3.org/2000/01/rdf-schema#label> \"Other gender\" .\n",
    "\"\"\"\n",
    "\n",
    "\n",
    "\n",
    "input_nt_file = \"target_graph.nt\"\n",
    "\n",
    "shaper = Shaper(target_classes=target_classes,\n",
    "                graph_file_input=input_nt_file,\n",
    "                input_format=NT,\n",
    "                namespaces_dict=namespaces_dict,  # Default: no prefixes\n",
    "                instantiation_property=\"http://www.w3.org/1999/02/22-rdf-syntax-ns#type\")  # Default rdf:type\n",
    "\n",
    "output_file = \"shaper_example.shex\"\n",
    "\n",
    "shaper.shex_graph(output_file=output_file,\n",
    "                  acceptance_threshold=0.)\n",
    "\n",
    "print(\"Done!\")"
   ]
  },
  {
   "cell_type": "code",
   "execution_count": 10,
   "metadata": {},
   "outputs": [
    {
     "data": {
      "text/plain": [
       "{3}"
      ]
     },
     "execution_count": 10,
     "metadata": {},
     "output_type": "execute_result"
    }
   ],
   "source": [
    "set([1,2,3]).difference(set([1,2]))"
   ]
  },
  {
   "cell_type": "code",
   "execution_count": 1,
   "metadata": {},
   "outputs": [
    {
     "ename": "NameError",
     "evalue": "name 'pd' is not defined",
     "output_type": "error",
     "traceback": [
      "\u001b[0;31m---------------------------------------------------------------------------\u001b[0m",
      "\u001b[0;31mNameError\u001b[0m                                 Traceback (most recent call last)",
      "Cell \u001b[0;32mIn [1], line 1\u001b[0m\n\u001b[0;32m----> 1\u001b[0m schema_category_mappings_df \u001b[39m=\u001b[39m pd\u001b[39m.\u001b[39mread_csv(get_path(\u001b[39m\"\u001b[39m\u001b[39mclass_mappings.csv\u001b[39m\u001b[39m\"\u001b[39m))\n\u001b[1;32m      2\u001b[0m schema_category_mappings_dict \u001b[39m=\u001b[39m \u001b[39mdict\u001b[39m([(i, \u001b[39meval\u001b[39m(x)) \u001b[39mfor\u001b[39;00m i, x \u001b[39min\u001b[39;00m \u001b[39mzip\u001b[39m(schema_category_mappings_df[\u001b[39m'\u001b[39m\u001b[39mYelpCategory\u001b[39m\u001b[39m'\u001b[39m],schema_category_mappings_df[\u001b[39m'\u001b[39m\u001b[39mSchemaType\u001b[39m\u001b[39m'\u001b[39m])])\n",
      "\u001b[0;31mNameError\u001b[0m: name 'pd' is not defined"
     ]
    }
   ],
   "source": [
    "schema_category_mappings_df = pd.read_csv(get_path(\"class_mappings.csv\"))\n",
    "schema_category_mappings_dict = dict([(i, eval(x)) for i, x in zip(schema_category_mappings_df['YelpCategory'],schema_category_mappings_df['SchemaType'])])"
   ]
  },
  {
   "cell_type": "code",
   "execution_count": 25,
   "metadata": {},
   "outputs": [],
   "source": [
    "category = \"Art_Classes\"\n",
    "if category in schema_category_mappings_dict.keys():\n",
    "    print(category)"
   ]
  },
  {
   "cell_type": "code",
   "execution_count": null,
   "metadata": {},
   "outputs": [],
   "source": []
  }
 ],
 "metadata": {
  "kernelspec": {
   "display_name": "Python 3.10.6 64-bit",
   "language": "python",
   "name": "python3"
  },
  "language_info": {
   "codemirror_mode": {
    "name": "ipython",
    "version": 3
   },
   "file_extension": ".py",
   "mimetype": "text/x-python",
   "name": "python",
   "nbconvert_exporter": "python",
   "pygments_lexer": "ipython3",
   "version": "3.10.6"
  },
  "orig_nbformat": 4,
  "vscode": {
   "interpreter": {
    "hash": "7e1998ff7f8aa20ada591c520b972326324e5ea05489af9e422744c7c09f6dad"
   }
  }
 },
 "nbformat": 4,
 "nbformat_minor": 2
}
