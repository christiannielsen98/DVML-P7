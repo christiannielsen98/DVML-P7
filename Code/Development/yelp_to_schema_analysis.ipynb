{
 "cells": [
  {
   "cell_type": "markdown",
   "source": [
    "### Tests different threshold configurations when mapping Yelp categories to schema.org types."
   ],
   "metadata": {
    "collapsed": false,
    "pycharm": {
     "name": "#%% md\n"
    }
   }
  },
  {
   "cell_type": "code",
   "execution_count": 2,
   "metadata": {
    "collapsed": true
   },
   "outputs": [
    {
     "ename": "ModuleNotFoundError",
     "evalue": "No module named 'main'",
     "output_type": "error",
     "traceback": [
      "\u001B[1;31m---------------------------------------------------------------------------\u001B[0m",
      "\u001B[1;31mModuleNotFoundError\u001B[0m                       Traceback (most recent call last)",
      "Cell \u001B[1;32mIn [2], line 2\u001B[0m\n\u001B[0;32m      1\u001B[0m \u001B[38;5;28;01mimport\u001B[39;00m \u001B[38;5;21;01mpandas\u001B[39;00m \u001B[38;5;28;01mas\u001B[39;00m \u001B[38;5;21;01mpd\u001B[39;00m\n\u001B[1;32m----> 2\u001B[0m \u001B[38;5;28;01mfrom\u001B[39;00m \u001B[38;5;21;01mUtilityFunctions\u001B[39;00m\u001B[38;5;21;01m.\u001B[39;00m\u001B[38;5;21;01mget_data_path\u001B[39;00m \u001B[38;5;28;01mimport\u001B[39;00m get_path\n\u001B[0;32m      3\u001B[0m \u001B[38;5;28;01mfrom\u001B[39;00m \u001B[38;5;21;01mUtilityFunctions\u001B[39;00m\u001B[38;5;21;01m.\u001B[39;00m\u001B[38;5;21;01mschema_functions\u001B[39;00m \u001B[38;5;28;01mimport\u001B[39;00m get_class_mappings\n\u001B[0;32m      4\u001B[0m \u001B[38;5;28;01mfrom\u001B[39;00m \u001B[38;5;21;01mUtilityFunctions\u001B[39;00m\u001B[38;5;21;01m.\u001B[39;00m\u001B[38;5;21;01mschema_functions\u001B[39;00m \u001B[38;5;28;01mimport\u001B[39;00m long_com_substring\n",
      "File \u001B[1;32m~\\GitHub\\DVML-P7\\Code\\UtilityFunctions\\get_data_path.py:1\u001B[0m\n\u001B[1;32m----> 1\u001B[0m \u001B[38;5;28;01mimport\u001B[39;00m \u001B[38;5;21;01mmain\u001B[39;00m\n\u001B[0;32m      2\u001B[0m \u001B[38;5;28;01mimport\u001B[39;00m \u001B[38;5;21;01mos\u001B[39;00m\n\u001B[0;32m      5\u001B[0m \u001B[38;5;28;01mdef\u001B[39;00m \u001B[38;5;21mget_path\u001B[39m(file):\n",
      "\u001B[1;31mModuleNotFoundError\u001B[0m: No module named 'main'"
     ]
    }
   ],
   "source": [
    "import pandas as pd\n",
    "from UtilityFunctions.get_data_path import get_path\n",
    "from UtilityFunctions.schema_functions import get_class_mappings\n",
    "from UtilityFunctions.schema_functions import long_com_substring"
   ]
  },
  {
   "cell_type": "code",
   "execution_count": null,
   "outputs": [],
   "source": [
    "substring_thresholds = [0.1, 0.3, 0.5, 0.7, 0.9]\n",
    "ratio_thresholds = [0.25, 0.50, 0.75]\n",
    "\n",
    "mapping_dict = dict()\n",
    "\n",
    "for i in substring_thresholds:\n",
    "    for j in ratio_thresholds:\n",
    "        mappings = get_class_mappings(substring_threshold=i, ratio_threshold=j)\n",
    "        print(f\"For thresholds {i, j}: a total of {len(mappings)} are found.\")\n",
    "\n",
    "        for key, value in mappings.items():\n",
    "            mapping_dict.setdefault(key, list()).append(value + f\" [{i}, {j}]\")"
   ],
   "metadata": {
    "collapsed": false,
    "pycharm": {
     "name": "#%%\n"
    }
   }
  },
  {
   "cell_type": "code",
   "execution_count": null,
   "outputs": [],
   "source": [
    "mapping_dict"
   ],
   "metadata": {
    "collapsed": false,
    "pycharm": {
     "name": "#%%\n"
    }
   }
  },
  {
   "cell_type": "code",
   "execution_count": null,
   "outputs": [],
   "source": [
    "substring_thresholds = [0.7, 0.9]\n",
    "ratio_thresholds = [0.50, 0.75]\n",
    "\n",
    "mapping_dict2 = dict()\n",
    "\n",
    "for i in substring_thresholds:\n",
    "    for j in ratio_thresholds:\n",
    "        mappings = get_class_mappings(substring_threshold=i, ratio_threshold=j)\n",
    "        print(f\"For thresholds {i, j}: a total of {len(mappings)} are found.\")\n",
    "\n",
    "        for key, value in mappings.items():\n",
    "            mapping_dict2.setdefault(key, list()).append(value + f\" [{i}, {j}]\")"
   ],
   "metadata": {
    "collapsed": false,
    "pycharm": {
     "name": "#%%\n"
    }
   }
  },
  {
   "cell_type": "code",
   "execution_count": null,
   "outputs": [],
   "source": [
    "mapping_dict2"
   ],
   "metadata": {
    "collapsed": false,
    "pycharm": {
     "name": "#%%\n"
    }
   }
  },
  {
   "cell_type": "code",
   "execution_count": null,
   "outputs": [],
   "source": [],
   "metadata": {
    "collapsed": false,
    "pycharm": {
     "name": "#%%\n",
     "is_executing": true
    }
   }
  }
 ],
 "metadata": {
  "kernelspec": {
   "display_name": "Python 3",
   "language": "python",
   "name": "python3"
  },
  "language_info": {
   "codemirror_mode": {
    "name": "ipython",
    "version": 2
   },
   "file_extension": ".py",
   "mimetype": "text/x-python",
   "name": "python",
   "nbconvert_exporter": "python",
   "pygments_lexer": "ipython2",
   "version": "2.7.6"
  }
 },
 "nbformat": 4,
 "nbformat_minor": 0
}