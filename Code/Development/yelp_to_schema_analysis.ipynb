{
 "cells": [
  {
   "cell_type": "markdown",
   "metadata": {
    "collapsed": false,
    "pycharm": {
     "name": "#%% md\n"
    }
   },
   "source": [
    "### Tests different threshold configurations when mapping Yelp categories to schema.org types."
   ]
  },
  {
   "cell_type": "code",
   "execution_count": null,
   "metadata": {
    "collapsed": true
   },
   "outputs": [],
   "source": [
    "from Code.UtilityFunctions.schema_functions import get_class_mappings"
   ]
  },
  {
   "cell_type": "code",
   "execution_count": null,
   "metadata": {
    "collapsed": false,
    "pycharm": {
     "is_executing": true,
     "name": "#%%\n"
    }
   },
   "outputs": [
    {
     "name": "stdout",
     "output_type": "stream",
     "text": [
      "{'Golf Equipment Shops': ['golf equipment shop'], 'Shoe Repair': ['shoe repair'], 'Tai Chi': ['tai chi'], 'Musical Instruments & Teachers': ['musical instrument', 'teacher'], 'Boat Charters': ['boat charter'], 'Tennis': ['tenni'], 'Skin Care': ['skin care'], 'Fuel Docks': ['fuel dock'], \"Men's Clothing\": [\"men's clothing\"], 'Dim Sum': ['dim sum'], 'Building Supplies': ['building supply'], '& Probates': ['& probate'], 'Gluten-Free': ['gluten-free'], 'Anesthesiologists': ['anesthesiologist'], 'Carousels': ['carousel'], 'Lice Services': ['lice service'], 'Battery Stores': ['battery store'], 'Somali': ['somali'], 'Massage Therapy': ['massage therapy'], 'Parklets': ['parklet'], 'Travel Agents': ['travel agent'], 'Hypnosis/Hypnotherapy': ['hypnosi', 'hypnotherapy'], 'Visitor Centers': ['visitor center'], 'Trains': ['train'], 'Patisserie/Cake Shop': ['patisserie shop', 'cake shop'], 'Nicaraguan': ['nicaraguan'], 'Art Galleries': ['art gallery'], 'Smokehouse': ['smokehouse'], 'Behavior Analysts': ['behavior analyst'], 'Comic Books': ['comic book'], 'Structural Engineers': ['structural engineer'], 'Float Spa': ['float spa'], 'Hunting & Fishing Supplies': ['hunting', 'fishing supply'], 'Botanical Gardens': ['botanical garden'], 'Qi Gong': ['qi gong'], 'Medical Centers': ['medical center'], 'Dance Schools': ['dance school'], 'Wholesalers': ['wholesaler'], 'Cryotherapy': ['cryotherapy'], 'Fast Food': ['fast food'], 'Debt Relief Services': ['debt relief service'], 'Cannabis Clinics': ['cannabis clinic'], 'Door Sales/Installation': ['door sale', 'door installation'], 'Blow Dry/Out Services': ['blow dry service', 'blow out services'], 'Vitamins & Supplements': ['vitamin', 'supplement'], 'Sunglasses': ['sunglass'], 'Fingerprinting': ['fingerprinting'], 'Seafood': ['seafood'], 'Mobile Phones': ['mobile phone'], 'Juice Bars & Smoothies': ['juice bar', 'smoothy'], 'Home Inspectors': ['home inspector'], 'Handyman': ['handyman'], 'Cheerleading': ['cheerleading'], 'Orthotics': ['orthotic'], 'Musicians': ['musician'], 'Windows Installation': ['windows installation'], 'Flyboarding': ['flyboarding'], 'Community Centers': ['community center'], 'Ceremonial Clothing': ['ceremonial clothing'], 'Passport & Visa Services': ['passport', 'visa service'], 'Aerial Tours': ['aerial tour'], 'Grout Services': ['grout service'], 'Beverage Store': ['beverage store'], 'Southern': ['southern'], 'Sailing': ['sailing'], 'Eatertainment': ['eatertainment'], 'Outdoor Furniture Stores': ['outdoor furniture store'], 'Gunsmith': ['gunsmith'], 'Hang Gliding': ['hang gliding'], 'Museums': ['museum'], '3D Printing': ['3d printing'], 'Acupuncture': ['acupuncture'], 'Farm Equipment Repair': ['farm equipment repair'], 'Tenant and Eviction Law': ['tenant and eviction law'], 'Land Surveying': ['land surveying'], 'Mobile Phone Accessories': ['mobile phone accessory'], 'Stucco Services': ['stucco service'], 'Radiologists': ['radiologist'], 'Airport Shuttles': ['airport shuttle'], 'Masonry/Concrete': ['masonry', 'concrete'], 'Lounges': ['lounge'], 'Paint Stores': ['paint store'], 'Teppanyaki': ['teppanyaki'], 'Wine Tours': ['wine tour'], 'Videographers': ['videographer'], 'Gift Shops': ['gift shop'], 'Proctologists': ['proctologist'], 'Teeth Whitening': ['teeth whitening'], 'Team Building Activities': ['team building activity'], 'Breweries': ['brewery'], 'Conveyor Belt Sushi': ['conveyor belt sushi'], 'Comfort Food': ['comfort food'], 'Garage Door Services': ['garage door service'], 'Electronics': ['electronic'], 'Packing Services': ['packing service'], 'Waterproofing': ['waterproofing'], 'Distilleries': ['distillery'], 'Security Systems': ['security system'], 'Rafting/Kayaking': ['rafting', 'kayaking'], 'Adult': ['adult'], 'Pet Photography': ['pet photography'], 'Drywall Installation & Repair': ['drywall installation', 'repair'], 'Airport Terminals': ['airport terminal'], 'Middle Schools & High Schools': ['middle school', 'high school'], 'Sheds & Outdoor Storage': ['shed', 'outdoor storage'], 'Cards & Stationery': ['card', 'stationery'], 'Beer Hall': ['beer hall'], 'Well Drilling': ['well drilling'], 'Hot Air Balloons': ['hot air balloon'], 'Marinas': ['marina'], 'Striptease Dancers': ['striptease dancer'], 'Karaoke': ['karaoke'], 'Landscaping': ['landscaping'], 'Diners': ['diner'], 'Memory Care': ['memory care'], 'Hookah Bars': ['hookah bar'], 'Izakaya': ['izakaya'], 'Hawaiian': ['hawaiian'], 'Art Museums': ['art museum'], 'Drive-In Theater': ['drive-in theater'], 'Ramen': ['raman'], 'Boudoir Photography': ['boudoir photography'], 'Puerto Rican': ['puerto rican'], 'Churches': ['church'], 'Indonesian': ['indonesian'], 'Country Dance Halls': ['country dance hall'], 'Funeral Services & Cemeteries': ['funeral service', 'cemetery'], 'Gemstones & Minerals': ['gemstone', 'mineral'], 'First Aid Classes': ['first aid class'], 'Comedy Clubs': ['comedy club'], 'Cabinetry': ['cabinetry'], 'Aerial Fitness': ['aerial fitnes'], 'Wallpapering': ['wallpapering'], 'Senior Centers': ['senior center'], 'Psychics': ['psychic'], 'Convenience Stores': ['convenience store'], 'Title Loans': ['title loan'], 'Home Automation': ['home automation'], 'Pet Boarding': ['pet boarding'], 'Pool Halls': ['pool hall'], 'Karaoke Rental': ['karaoke rental'], 'Orthopedists': ['orthopedist'], 'Japanese Curry': ['japanese curry'], 'Batting Cages': ['batting cage'], 'Landscape Architects': ['landscape architect'], 'Childbirth Education': ['childbirth education'], 'Vietnamese': ['vietnamese'], 'Waxing': ['waxing'], 'Aircraft Dealers': ['aircraft dealer'], 'Phlebologists': ['phlebologist'], 'Prosthodontists': ['prosthodontist'], 'Videos & Video Game Rental': ['video', 'video game rental'], 'Dialysis Clinics': ['dialysis clinic'], 'Speakeasies': ['speakeasy'], 'Taiwanese': ['taiwanese'], 'Livestock Feed & Supply': ['livestock feed', 'supply'], 'Tapas Bars': ['tapas bar'], 'Departments of Motor Vehicles': ['department of motor vehicles'], 'Bowling': ['bowling'], 'Clock Repair': ['clock repair'], 'Pakistani': ['pakistani'], 'Embroidery & Crochet': ['embroidery', 'crochet'], 'Art Classes': ['art class'], 'Mediterranean': ['mediterranean'], 'Summer Camps': ['summer camp'], 'Spanish': ['spanish'], 'Shared Office Spaces': ['shared office space'], 'Czech': ['czech'], 'Patent Law': ['patent law'], 'Challenge Courses': ['challenge course'], 'Musical Instrument Services': ['musical instrument service'], 'Interlock Systems': ['interlock system'], 'Housing Cooperatives': ['housing cooperative'], 'Damage Restoration': ['damage restoration'], 'Christmas Trees': ['christmas tree'], 'Brewpubs': ['brewpub'], 'Community Gardens': ['community garden'], 'Movers': ['mover'], 'Walking Tours': ['walking tour'], 'Real Estate Services': ['real estate service'], 'Public Services & Government': ['public service', 'government'], 'Editorial Services': ['editorial service'], 'Ear Nose & Throat': ['ear nose', 'throat'], 'Hazardous Waste Disposal': ['hazardous waste disposal'], 'Electricians': ['electrician'], 'Wraps': ['wrap'], 'Ski & Snowboard Shops': ['ski', 'snowboard shop'], 'Local Fish Stores': ['local fish store'], 'Health & Medical': ['health', 'medical'], 'Hostels': ['hostel'], 'Car Share Services': ['car share service'], 'Wheel & Rim Repair': ['wheel', 'rim repair'], 'Dive Bars': ['dive bar'], 'Ticket Sales': ['ticket sale'], 'Religious Items': ['religious item'], 'Sandblasting': ['sandblasting'], 'Art Restoration': ['art restoration'], 'Soccer': ['soccer'], 'Real Estate Law': ['real estate law'], 'Psychic Mediums': ['psychic medium'], 'Appraisal Services': ['appraisal service'], 'Oral Surgeons': ['oral surgeon'], 'Fireworks': ['firework'], 'Himalayan/Nepalese': ['himalayan', 'nepalese'], 'Addiction Medicine': ['addiction medicine'], 'Medical Spas': ['medical spa'], 'Honey': ['honey'], 'Jails & Prisons': ['jail', 'prison'], 'Circuit Training Gyms': ['circuit training gym'], 'Limos': ['limo'], 'Water Purification Services': ['water purification service'], 'Boat Tours': ['boat tour'], 'Real Estate': ['real estate'], 'Faith-based Crisis Pregnancy Centers': ['faith-based crisis pregnancy center'], 'Wills': ['will'], 'Hydroponics': ['hydroponic'], 'Oil Change Stations': ['oil change station'], 'Air Duct Cleaning': ['air duct cleaning'], 'Life Coach': ['life coach'], 'Surf Shop': ['surf shop'], 'Window Washing': ['window washing'], 'Golf Lessons': ['golf lesson'], 'Pan Asian': ['pan asian'], 'Bagels': ['bagel'], 'Junkyards': ['junkyard'], 'Life Insurance': ['life insurance'], 'Tiling': ['tiling'], 'Beach Equipment Rentals': ['beach equipment rental'], 'Indoor Landscaping': ['indoor landscaping'], 'Cooking Schools': ['cooking school'], 'Peruvian': ['peruvian'], 'Fireplace Services': ['fireplace service'], 'Water Heater Installation/Repair': ['water heater installation', 'water heater repair'], 'Laser Tag': ['laser tag'], 'Observatories': ['observatory'], 'Paint & Sip': ['paint', 'sip'], 'Shanghainese': ['shanghainese'], 'Dance Studios': ['dance studio'], 'Electricity Suppliers': ['electricity supplier'], 'Buffets': ['buffet'], 'Gyms': ['gym'], 'Diagnostic Services': ['diagnostic service'], 'Tanning': ['tanning'], 'Vacation Rental Agents': ['vacation rental agent'], 'Party & Event Planning': ['party', 'event planning'], 'Aviation Services': ['aviation service'], 'Telecommunications': ['telecommunication'], 'Water Parks': ['water park'], 'Home Decor': ['home decor'], 'Custom Cakes': ['custom cake'], 'Personal Injury Law': ['personal injury law'], 'Auto Security': ['auto security'], 'Specialty Food': ['specialty food'], 'Hardware Stores': ['hardware store'], 'Bus Stations': ['bus station'], 'Architects': ['architect'], 'Pathologists': ['pathologist'], 'Barbeque': ['barbeque'], 'Dog Walkers': ['dog walker'], 'Furniture Reupholstery': ['furniture reupholstery'], 'Mexican': ['mexican'], 'Astrologers': ['astrologer'], 'Commercial Real Estate': ['commercial real estate'], 'Professional Sports Teams': ['professional sports team'], 'Egyptian': ['egyptian'], 'Airsoft': ['airsoft'], 'Divorce & Family Law': ['divorce', 'family law'], 'Races & Competitions': ['race', 'competition'], 'Playsets': ['playset'], 'Check Cashing/Pay-day Loans': ['check cashing loan', 'check pay-day loan'], 'Pumpkin Patches': ['pumpkin patch'], 'Dentists': ['dentist'], 'Virtual Reality Centers': ['virtual reality center'], 'Guitar Stores': ['guitar store'], 'Supper Clubs': ['supper club'], 'Preschools': ['preschool'], 'Bookkeepers': ['bookkeeper'], 'Indian': ['indian'], 'Honduran': ['honduran'], 'Pasta Shops': ['pasta shop'], 'Pediatric Dentists': ['pediatric dentist'], 'Cigar Bars': ['cigar bar'], 'Car Inspectors': ['car inspector'], 'Souvenir Shops': ['souvenir shop'], 'Adult Education': ['adult education'], 'Whiskey Bars': ['whiskey bar'], 'Brazilian Jiu-jitsu': ['brazilian jiu-jitsu'], 'Decks & Railing': ['deck', 'railing'], 'Estate Planning Law': ['estate planning law'], 'Firearm Training': ['firearm training'], 'Bubble Tea': ['bubble tea'], 'Hakka': ['hakka'], 'Optometrists': ['optometrist'], 'Stadiums & Arenas': ['stadium', 'arena'], 'Apartment Agents': ['apartment agent'], 'Adoption Services': ['adoption service'], 'Pest Control': ['pest control'], 'DUI Law': ['dui law'], 'Magicians': ['magician'], 'Hockey Equipment': ['hockey equipment'], 'DJs': ['dj'], 'DIY Auto Shop': ['diy auto shop'], 'Donairs': ['donair'], 'Dry Cleaning & Laundry': ['dry cleaning', 'laundry'], 'Pharmacy': ['pharmacy'], 'Casinos': ['casino'], 'Oxygen Bars': ['oxygen bar'], 'Active Life': ['active life'], 'Machine & Tool Rental': ['machine', 'tool rental'], 'Orthodontists': ['orthodontist'], 'Pop-Up Restaurants': ['pop-up restaurant'], 'Occupational Therapy': ['occupational therapy'], 'Water Stores': ['water store'], 'Pita': ['pita'], 'Pool & Billiards': ['pool', 'billiard'], 'Body Shops': ['body shop'], 'Interior Design': ['interior design'], 'Bubble Soccer': ['bubble soccer'], 'Car Stereo Installation': ['car stereo installation'], 'Art Consultants': ['art consultant'], 'Armenian': ['armenian'], 'Gutter Services': ['gutter service'], 'Cuban': ['cuban'], 'Military Surplus': ['military surplu'], 'Bird Shops': ['bird shop'], 'Homeless Shelters': ['homeless shelter'], 'Fire Departments': ['fire department'], 'Bail Bondsmen': ['bail bondsman'], 'Art Installation': ['art installation'], 'Used': ['used'], 'Drones': ['drone'], 'Child Care & Day Care': ['child care', 'day care'], 'Pets': ['pet'], 'Roofing': ['roofing'], 'Adult Entertainment': ['adult entertainment'], 'Floral Designers': ['floral designer'], 'New Mexican Cuisine': ['new mexican cuisine'], 'Psychologists': ['psychologist'], 'Poke': ['poke'], 'Boat Dealers': ['boat dealer'], 'Gerontologists': ['gerontologist'], 'Clothing Rental': ['clothing rental'], 'Urologists': ['urologist'], 'Steakhouses': ['steakhouse'], 'Eyelash Service': ['eyelash service'], 'CPR Classes': ['cpr class'], 'Massage': ['massage'], 'Backflow Services': ['backflow service'], 'Furniture Stores': ['furniture store'], 'Pubs': ['pub'], 'Bakeries': ['bakery'], 'Bangladeshi': ['bangladeshi'], 'Septic Services': ['septic service'], 'Internet Service Providers': ['internet service provider'], 'Pet Groomers': ['pet groomer'], 'Laser Hair Removal': ['laser hair removal'], 'Interval Training Gyms': ['interval training gym'], 'Transmission Repair': ['transmission repair'], 'Filipino': ['filipino'], 'Radio Stations': ['radio station'], 'Car Auctions': ['car auction'], 'Baseball Fields': ['baseball field'], 'Bridal': ['bridal'], 'Neurologist': ['neurologist'], 'Paddleboarding': ['paddleboarding'], 'Hats': ['hat'], 'Halotherapy': ['halotherapy'], 'Bike Parking': ['bike parking'], 'Ethnic Food': ['ethnic food'], 'Pet Hospice': ['pet hospice'], 'TV Mounting': ['tv mounting'], 'Pick Your Own Farms': ['pick your own farm'], 'Car Rental': ['car rental'], 'Falafel': ['falafel'], 'Shades & Blinds': ['shade', 'blind'], 'Bus Tours': ['bus tour'], 'Mattresses': ['mattress'], 'Financial Advising': ['financial advising'], 'Family Practice': ['family practice'], 'Boxing': ['boxing'], 'Nursing Schools': ['nursing school'], 'Marketing': ['marketing'], 'Bartenders': ['bartender'], 'Weight Loss Centers': ['weight loss center'], 'Unofficial Yelp Events': ['unofficial yelp event'], 'Veterinarians': ['veterinarian'], 'Skating Rinks': ['skating rink'], 'Pet Sitting': ['pet sitting'], 'Meaderies': ['meadery'], 'Permanent Makeup': ['permanent makeup'], 'Bistros': ['bistro'], 'Elder Law': ['elder law'], 'Counseling & Mental Health': ['counseling', 'mental health'], 'Montessori Schools': ['montessori school'], 'Korean': ['korean'], 'Bar Crawl': ['bar crawl'], 'Dietitians': ['dietitian'], 'Gymnastics': ['gymnastic'], 'Opera & Ballet': ['opus', 'ballet'], 'Donuts': ['donut'], 'Cardiologists': ['cardiologist'], 'Veterans Organizations': ['veterans organization'], 'Roof Inspectors': ['roof inspector'], 'Lebanese': ['lebanese'], 'Trainers': ['trainer'], 'Blood & Plasma Donation Centers': ['blood', 'plasma donation center'], 'Formal Wear': ['formal wear'], 'Obstetricians & Gynecologists': ['obstetrician', 'gynecologist'], 'Day Camps': ['day camp'], 'American (Traditional)': ['american (traditional)'], 'Burmese': ['burmese'], 'Greek': ['greek'], 'Caterers': ['caterer'], 'Aquarium Services': ['aquarium service'], 'Escape Games': ['escape game'], 'Wedding Chapels': ['wedding chapel'], 'Syrian': ['syrian'], 'Motorcycle Repair': ['motorcycle repair'], 'Home Services': ['home service'], 'Traffic Ticketing Law': ['traffic ticketing law'], 'Rodeo': ['rodeo'], 'Social Security Law': ['social security law'], 'Cycling Classes': ['cycling class'], 'Keys & Locksmiths': ['key', 'locksmith'], 'Accessories': ['accessory'], 'British': ['british'], 'Sports Betting': ['sports betting'], 'Mass Media': ['mass media'], 'Irrigation': ['irrigation'], 'Customized Merchandise': ['customized merchandise'], 'Karate': ['karate'], 'Pet Waste Removal': ['pet waste removal'], 'Osteopaths': ['osteopath'], 'Saunas': ['sauna'], 'Vegetarian': ['vegetarian'], 'ATV Rentals/Tours': ['atv rental', 'atv tour'], 'Billing Services': ['billing service'], 'Duplication Services': ['duplication service'], 'Wigs': ['wig'], 'IP & Internet Law': ['ip', 'internet law'], 'Doctors': ['doctor'], 'Motorcycle Dealers': ['motorcycle dealer'], 'Irish Pub': ['irish pub'], 'Office Cleaning': ['office cleaning'], 'Osteopathic Physicians': ['osteopathic physician'], 'Music & DVDs': ['music', 'dvd'], 'Kids Activities': ['kids activity'], 'Coffee & Tea Supplies': ['coffee', 'tea supply'], 'Sardinian': ['sardinian'], 'Bingo Halls': ['bingo hall'], 'Process Servers': ['process server'], 'Hair Stylists': ['hair stylist'], 'Food Trucks': ['food truck'], 'Carpet Cleaning': ['carpet cleaning'], 'Commercial Truck Repair': ['commercial truck repair'], 'Drive-Thru Bars': ['drive-thru bar'], 'Mobility Equipment Sales & Services': ['mobility equipment sale', 'service'], 'Pet Transportation': ['pet transportation'], 'Furniture Assembly': ['furniture assembly'], 'Bike tours': ['bike tour'], 'Excavation Services': ['excavation service'], 'Parking': ['parking'], 'Food Court': ['food court'], 'Hospitalists': ['hospitalist'], 'Vehicle Shipping': ['vehicle shipping'], 'Bed & Breakfast': ['bed', 'breakfast'], 'Pulmonologist': ['pulmonologist'], 'Pizza': ['pizza'], 'Mini Golf': ['mini golf'], 'Gas Stations': ['gas station'], 'Skydiving': ['skydiving'], 'Florists': ['florist'], 'Dog Parks': ['dog park'], 'Rock Climbing': ['rock climbing'], 'Rolfing': ['rolfing'], 'General Litigation': ['general litigation'], 'Contractors': ['contractor'], 'Singaporean': ['singaporean'], 'Safety Equipment': ['safety equipment'], 'Shaved Ice': ['shaved ice'], 'Surgeons': ['surgeon'], 'Hydro-jetting': ['hydro-jetting'], 'Props': ['prop'], 'Driving Schools': ['driving school'], 'Doulas': ['doula'], 'Tattoo Removal': ['tattoo removal'], 'Wine Bars': ['wine bar'], 'Dominican': ['dominican'], 'Ayurveda': ['ayurveda'], 'RV Repair': ['rv repair'], 'Boot Camps': ['boot camp'], 'Private Investigation': ['private investigation'], 'Video/Film Production': ['video production', 'film production'], 'Bicycles': ['bicycle'], 'Sleep Specialists': ['sleep specialist'], 'Makerspaces': ['makerspace'], 'Firewood': ['firewood'], 'Experiences': ['experience'], 'Massage Schools': ['massage school'], 'Cosmetic Dentists': ['cosmetic dentist'], 'Video Game Stores': ['video game store'], 'Yoga': ['yoga'], 'Music Venues': ['music venue'], 'Appliances & Repair': ['appliance', 'repair'], 'Bike Shop': ['bike shop'], 'Educational Services': ['educational service'], 'Used Bookstore': ['used bookstore'], 'Butcher': ['butcher'], 'Free Diving': ['free diving'], 'Motorcycle Rental': ['motorcycle rental'], 'Financial Services': ['financial service'], 'Metal Detector Services': ['metal detector service'], 'Placenta Encapsulations': ['placenta encapsulation'], 'Shoe Stores': ['shoe store'], 'Party Equipment Rentals': ['party equipment rental'], 'Bars': ['bar'], 'Immigration Law': ['immigration law'], 'Trivia Hosts': ['trivia host'], 'Towing': ['towing'], 'Head Shops': ['head shop'], 'Bike Sharing': ['bike sharing'], 'Paragliding': ['paragliding'], 'Lactation Services': ['lactation service'], 'Contract Law': ['contract law'], 'Office Equipment': ['office equipment'], 'Hotel bar': ['hotel bar'], 'Makeup Artists': ['makeup artist'], 'Kiteboarding': ['kiteboarding'], 'Public Adjusters': ['public adjuster'], 'Business Law': ['business law'], 'Herbs & Spices': ['herb', 'spice'], 'Kitchen Incubators': ['kitchen incubator'], 'Hong Kong Style Cafe': ['hong kong style cafe'], 'Squash': ['squash'], 'Emergency Rooms': ['emergency room'], 'Printing Services': ['printing service'], 'Fences & Gates': ['fence', 'gate'], 'Physical Therapy': ['physical therapy'], 'Haitian': ['haitian'], 'Colonics': ['colonic'], 'Mediators': ['mediator'], 'Grill Services': ['grill service'], 'Asian Fusion': ['asian fusion'], 'Amusement Parks': ['amusement park'], 'Parasailing': ['parasailing'], 'Aircraft Repairs': ['aircraft repair'], 'Skilled Nursing': ['skilled nursing'], 'Airlines': ['airline'], 'Chiropractors': ['chiropractor'], 'Piano Stores': ['piano store'], 'Perfume': ['perfume'], 'Trinidadian': ['trinidadian'], 'Pet Stores': ['pet store'], 'Hepatologists': ['hepatologist'], 'Data Recovery': ['data recovery'], 'Career Counseling': ['career counseling'], 'Sport Equipment Hire': ['sport equipment hire'], 'Nurseries & Gardening': ['nursery', 'gardening'], 'Condominiums': ['condominium'], 'Engraving': ['engraving'], 'Flooring': ['flooring'], 'Teacher Supplies': ['teacher supply'], 'Neurotologists': ['neurotologist'], 'Flea Markets': ['flea market'], 'Lakes': ['lake'], 'Synagogues': ['synagogue'], 'Laser Eye Surgery/Lasik': ['laser eye surgery', 'laser eye lasik'], 'Post Offices': ['post office'], 'Hainan': ['hainan'], 'Estate Liquidation': ['estate liquidation'], 'Wildlife Control': ['wildlife control'], 'Turkish': ['turkish'], 'Watch Repair': ['watch repair'], 'Traditional Clothing': ['traditional clothing'], 'Szechuan': ['szechuan'], 'Grocery': ['grocery'], 'Demolition Services': ['demolition service'], 'Dry Cleaning': ['dry cleaning'], 'Polish': ['polish'], 'Farms': ['farm'], 'Cocktail Bars': ['cocktail bar'], 'Consumer Law': ['consumer law'], 'Cannabis Collective': ['cannabis collective'], 'Eyewear & Opticians': ['eyewear', 'optician'], 'Furniture Rental': ['furniture rental'], 'Employment Agencies': ['employment agency'], 'International': ['international'], 'Scandinavian': ['scandinavian'], 'Beauty & Spas': ['beauty', 'spa'], 'Day Spas': ['day spa'], 'Heating & Air Conditioning/HVAC': ['heating ', ' air conditioning', 'hvac'], 'Cooking Classes': ['cooking class'], 'Kitchen & Bath': ['kitchen', 'bath'], 'Car Wash': ['car wash'], 'Bartending Schools': ['bartending school'], 'Utilities': ['utility'], 'Noodles': ['noodle'], 'Whale Watching Tours': ['whale watching tour'], 'Pancakes': ['pancake'], 'International Grocery': ['international grocery'], 'Horse Boarding': ['horse boarding'], 'Beer': ['beer'], 'Foot Care': ['foot care'], 'Parent Cafes': ['parent cafe'], 'Medical Transportation': ['medical transportation'], 'Kids Hair Salons': ['kids hair salon'], 'Safe Stores': ['safe store'], 'Kebab': ['kebab'], 'Registration Services': ['registration service'], 'Middle Eastern': ['middle eastern'], 'Animal Assisted Therapy': ['animal assisted therapy'], 'Fur Clothing': ['fur clothing'], 'Traffic Schools': ['traffic school'], 'Cucina campana': ['cucina campana'], 'Portable Toilet Services': ['portable toilet service'], 'Tires': ['tire'], 'Do-It-Yourself Food': ['do-it-yourself food'], 'Home & Garden': ['home', 'garden'], 'Screen Printing/T-Shirt Printing': ['screen printing printing', 'screen t-shirt printing'], 'Mags': ['mag'], 'Tiki Bars': ['tiki bar'], 'Cambodian': ['cambodian'], 'Grilling Equipment': ['grilling equipment'], 'Gay Bars': ['gay bar'], 'Used Car Dealers': ['used car dealer'], 'Car Brokers': ['car broker'], 'Plumbing': ['plumbing'], 'Scooter Rentals': ['scooter rental'], 'Horseback Riding': ['horseback riding'], 'Trailer Rental': ['trailer rental'], 'Security Services': ['security service'], 'Medical Cannabis Referrals': ['medical cannabis referral'], 'Waffles': ['waffle'], 'Nurse Practitioner': ['nurse practitioner'], 'Bookbinding': ['bookbinding'], 'Ethiopian': ['ethiopian'], 'Web Design': ['web design'], 'Empanadas': ['empanada'], 'Cannabis Dispensaries': ['cannabis dispensary'], 'Sports Clubs': ['sports club'], 'Beaches': ['beach'], 'Oriental': ['oriental'], 'Soup': ['soup'], 'Flight Instruction': ['flight instruction'], 'Street Vendors': ['street vendor'], 'Arcades': ['arcade'], 'Tanning Beds': ['tanning bed'], 'Yelp Events': ['yelp event'], 'Hair Extensions': ['hair extension'], 'Traditional Chinese Medicine': ['traditional chinese medicine'], 'Calabrian': ['calabrian'], \"Children's Clothing\": [\"children's clothing\"], 'Jewelry Repair': ['jewelry repair'], 'Ziplining': ['ziplining'], 'Packing Supplies': ['packing supply'], 'Electronics Repair': ['electronics repair'], 'Vacation Rentals': ['vacation rental'], 'Sports Bars': ['sports bar'], 'Food Tours': ['food tour'], 'Metal Fabricators': ['metal fabricator'], 'Machine Shops': ['machine shop'], 'Performing Arts': ['performing art'], 'Surf Schools': ['surf school'], 'Talent Agencies': ['talent agency'], 'Amateur Sports Teams': ['amateur sports team'], 'Trusts': ['trust'], 'Venezuelan': ['venezuelan'], 'Laotian': ['laotian'], 'IV Hydration': ['iv hydration'], 'Couriers & Delivery Services': ['courier', 'delivery service'], 'Tutoring Centers': ['tutoring center'], 'Knife Sharpening': ['knife sharpening'], 'Hungarian': ['hungarian'], 'Fish & Chips': ['fish', 'chip'], 'Pretzels': ['pretzel'], 'Playgrounds': ['playground'], 'Property Management': ['property management'], 'Hospice': ['hospice'], 'RV Parks': ['rv park'], \"Women's Clothing\": [\"women's clothing\"], 'Water Delivery': ['water delivery'], 'Fertility': ['fertility'], 'Fencing Clubs': ['fencing club'], 'Books': ['book'], 'Airport Lounges': ['airport lounge'], 'Animal Shelters': ['animal shelter'], 'Iberian': ['iberian'], 'Ice Delivery': ['ice delivery'], 'Pole Dancing Classes': ['pole dancing class'], 'Meat Shops': ['meat shop'], 'Car Window Tinting': ['car window tinting'], 'Diagnostic Imaging': ['diagnostic imaging'], 'Shutters': ['shutter'], 'Mortuary Services': ['mortuary service'], 'Home Theatre Installation': ['home theatre installation'], 'Homeowner Association': ['homeowner association'], 'Taekwondo': ['taekwondo'], 'Belgian': ['belgian'], 'Periodontists': ['periodontist'], 'Skiing': ['skiing'], 'Pool & Hot Tub Service': ['pool', 'hot tub service'], 'Countertop Installation': ['countertop installation'], 'Herbal Shops': ['herbal shop'], 'Music Production Services': ['music production service'], 'Balloon Services': ['balloon service'], 'Shaved Snow': ['shaved snow'], 'Employment Law': ['employment law'], 'Vascular Medicine': ['vascular medicine'], 'Scooter Tours': ['scooter tour'], 'Tax Services': ['tax service'], 'Elementary Schools': ['elementary school'], 'Bike Repair/Maintenance': ['bike repair', 'bike maintenance'], 'Chicken Shop': ['chicken shop'], 'Desserts': ['dessert'], 'Sugaring': ['sugaring'], 'Resorts': ['resort'], 'Food': ['food'], 'Tree Services': ['tree service'], 'Motorsport Vehicle Repairs': ['motorsport vehicle repair'], 'Supernatural Readings': ['supernatural reading'], 'Thai': ['thai'], 'Pain Management': ['pain management'], 'Lingerie': ['lingerie'], 'Coffee & Tea': ['coffee', 'tea'], 'Golf': ['golf'], 'Baby Gear & Furniture': ['baby gear', 'furniture'], 'Nail Technicians': ['nail technician'], 'Speech Therapists': ['speech therapist'], 'Cabaret': ['cabaret'], 'Henna Artists': ['henna artist'], 'Kiosk': ['kiosk'], 'House Sitters': ['house sitter'], 'Knitting Supplies': ['knitting supply'], 'Trampoline Parks': ['trampoline park'], 'Crane Services': ['crane service'], 'Natural Gas Suppliers': ['natural gas supplier'], 'Brasseries': ['brassery'], 'Vintage & Consignment': ['vintage', 'consignment'], 'Buses': ['bus'], 'Tuscan': ['tuscan'], 'Colleges & Universities': ['college', 'university'], 'Jazz & Blues': ['jazz', 'blue'], 'Auto Repair': ['auto repair'], 'Italian': ['italian'], 'Imported Food': ['imported food'], 'American (New)': ['american (new)'], 'Chinese': ['chinese'], 'Planetarium': ['planetarium'], 'Uniforms': ['uniform'], 'Fabric Stores': ['fabric store'], 'Japanese': ['japanese'], 'Rugs': ['rug'], 'Hot Dogs': ['hot dog'], 'Cheesesteaks': ['cheesesteak'], 'Gardeners': ['gardener'], 'Club Crawl': ['club crawl'], 'Cosmetology Schools': ['cosmetology school'], 'Recycling Center': ['recycling center'], 'Valet Services': ['valet service'], 'Badminton': ['badminton'], 'Venues & Event Spaces': ['venue', 'event space'], 'Fashion': ['fashion'], 'Storefront Clinics': ['storefront clinic'], 'Coffee Roasteries': ['coffee roastery'], 'Bounce House Rentals': ['bounce house rental'], 'Lighting Stores': ['lighting store'], 'Fire Protection Services': ['fire protection service'], 'Photographers': ['photographer'], 'Stonemasons': ['stonemason'], 'Strip Clubs': ['strip club'], 'Midwives': ['midwife'], 'Personal Chefs': ['personal chef'], 'Flowers & Gifts': ['flower', 'gift'], 'Sporting Goods': ['sporting good'], 'Criminal Defense Law': ['criminal defense law'], 'Lighting Fixtures & Equipment': ['lighting fixture', 'equipment'], 'Laboratory Testing': ['laboratory testing'], 'Ethnic Grocery': ['ethnic grocery'], 'Town Hall': ['town hall'], 'Oncologist': ['oncologist'], 'Medical Supplies': ['medical supply'], 'Ferries': ['ferry'], 'Gun/Rifle Ranges': ['gun range', 'rifle range'], 'Golf Equipment': ['golf equipment'], 'Mortgage Brokers': ['mortgage broker'], 'Auto Detailing': ['auto detailing'], 'Vocational & Technical School': ['vocational', 'technical school'], 'Sex Therapists': ['sex therapist'], 'Caribbean': ['caribbean'], 'Audio/Visual Equipment Rental': ['audio equipment rental', 'visual equipment rental'], 'Computers': ['computer'], 'Auto Upholstery': ['auto upholstery'], 'Carpet Dyeing': ['carpet dyeing'], 'Animal Physical Therapy': ['animal physical therapy'], 'Refinishing Services': ['refinishing service'], 'Threading Services': ['threading service'], 'Muay Thai': ['muay thai'], 'Junk Removal & Hauling': ['junk removal', 'hauling'], 'Home Cleaning': ['home cleaning'], 'Glass & Mirrors': ['glas', 'mirror'], 'Diving': ['diving'], 'Salad': ['salad'], 'Aestheticians': ['aesthetician'], 'Lawyers': ['lawyer'], 'Siding': ['siding'], 'Arabic': ['arabic'], 'Fruits & Veggies': ['fruit', 'veggie'], 'Emergency Medicine': ['emergency medicine'], 'Holiday Decorations': ['holiday decoration'], 'Currency Exchange': ['currency exchange'], 'Elevator Services': ['elevator service'], 'Pilates': ['pilate'], 'Outdoor Movies': ['outdoor movie'], 'Cardio Classes': ['cardio class'], 'Chicken Wings': ['chicken wing'], 'Framing': ['framing'], 'Auto Customization': ['auto customization'], 'Haunted Houses': ['haunted house'], 'Landmarks & Historical Buildings': ['landmark', 'historical building'], 'Travel Services': ['travel service'], 'General Festivals': ['general festival'], 'Senegalese': ['senegalese'], 'Vehicle Wraps': ['vehicle wrap'], 'Cideries': ['cidery'], 'Assisted Living Facilities': ['assisted living facility'], 'Wine & Spirits': ['wine', 'spirit'], 'Barre Classes': ['barre class'], 'Home & Rental Insurance': ['home', 'rental insurance'], 'Plastic Surgeons': ['plastic surgeon'], 'Reproductive Health Services': ['reproductive health service'], 'Banks & Credit Unions': ['bank', 'credit union'], 'Hindu Temples': ['hindu temple'], 'Modern European': ['modern european'], 'Health Markets': ['health market'], 'Hair Salons': ['hair salon'], 'Hair Loss Centers': ['hair loss center'], 'Antiques': ['antique'], 'High Fidelity Audio Equipment': ['high fidelity audio equipment'], 'Themed Cafes': ['themed cafe'], 'Event Photography': ['event photography'], 'Parenting Classes': ['parenting class'], 'Georgian': ['georgian'], 'Country Clubs': ['country club'], 'Champagne Bars': ['champagne bar'], 'Laundry Services': ['laundry service'], 'Boating': ['boating'], 'Game Truck Rental': ['game truck rental'], 'Cinema': ['cinema'], 'Tabletop Games': ['tabletop game'], 'Bocce Ball': ['bocce ball'], 'Kosher': ['kosher'], 'Cosmetics & Beauty Supply': ['cosmetic', 'beauty supply'], 'Horse Racing': ['horse racing'], 'Serbo Croatian': ['serbo croatian'], 'Endodontists': ['endodontist'], 'Basque': ['basque'], 'Moroccan': ['moroccan'], 'Test Preparation': ['test preparation'], 'Community Service/Non-Profit': ['community service', 'community non-profit'], 'Real Estate Photography': ['real estate photography'], 'Tex-Mex': ['tex-mex'], 'Mountain Biking': ['mountain biking'], 'Home Network Installation': ['home network installation'], 'South African': ['south african'], 'Local Services': ['local service'], 'Estheticians': ['esthetician'], 'Mosques': ['mosque'], 'Shopping': ['shopping'], 'Officiants': ['officiant'], 'Burgers': ['burger'], 'Uzbek': ['uzbek'], 'Otologists': ['otologist'], 'Appliances': ['appliance'], 'Dinner Theater': ['dinner theater'], 'Jewelry': ['jewelry'], 'German': ['german'], 'Luggage Storage': ['luggage storage'], 'Salvadoran': ['salvadoran'], 'Religious Organizations': ['religious organization'], 'Mobile Dent Repair': ['mobile dent repair'], 'Shoe Shine': ['shoe shine'], 'Mobile Home Dealers': ['mobile home dealer'], 'Pet Insurance': ['pet insurance'], 'Fitness & Instruction': ['fitnes', 'instruction'], 'Leather Goods': ['leather good'], 'Brazilian': ['brazilian'], 'Austrian': ['austrian'], 'Chinese Martial Arts': ['chinese martial art'], 'Argentine': ['argentine'], 'Popcorn Shops': ['popcorn shop'], 'Commercial Truck Dealers': ['commercial truck dealer'], 'Historical Tours': ['historical tour'], 'Attraction Farms': ['attraction farm'], 'Maternity Wear': ['maternity wear'], 'Pet Training': ['pet training'], 'Car Dealers': ['car dealer'], 'Vinyl Records': ['vinyl record'], 'Town Car Service': ['town car service'], 'Translation Services': ['translation service'], 'Thrift Stores': ['thrift store'], 'Pediatricians': ['pediatrician'], 'Australian': ['australian'], 'LAN Centers': ['lan center'], 'General Dentistry': ['general dentistry'], 'Breakfast & Brunch': ['breakfast', 'brunch'], 'Sauna Installation & Repair': ['sauna installation', 'repair'], 'Delis': ['deli'], 'Trade Fairs': ['trade fair'], 'Health Retreats': ['health retreat'], 'Ethical Grocery': ['ethical grocery'], 'Arts & Entertainment': ['art', 'entertainment'], 'IT Services & Computer Repair': ['it service', 'computer repair'], 'Diamond Buyers': ['diamond buyer'], 'Farming Equipment': ['farming equipment'], 'Television Stations': ['television station'], 'Candy Stores': ['candy store'], 'Carpenters': ['carpenter'], 'Solar Panel Cleaning': ['solar panel cleaning'], 'Auto Insurance': ['auto insurance'], 'Hospitals': ['hospital'], 'Hair Removal': ['hair removal'], 'Internet Cafes': ['internet cafe'], 'Colombian': ['colombian'], 'DUI Schools': ['dui school'], 'University Housing': ['university housing'], 'Auction Houses': ['auction house'], 'Installment Loans': ['installment loan'], 'Roadside Assistance': ['roadside assistance'], 'Drugstores': ['drugstore'], 'Gastropubs': ['gastropub'], 'Wine Tasting Classes': ['wine tasting class'], 'Body Contouring': ['body contouring'], 'Dumplings': ['dumpling'], 'Beer Bar': ['beer bar'], 'Hobby Shops': ['hobby shop'], 'Ranches': ['ranch'], 'Barbers': ['barber'], 'Personal Assistants': ['personal assistant'], 'Private Tutors': ['private tutor'], 'Meditation Centers': ['meditation center'], 'Truck Rental': ['truck rental'], 'Photography Classes': ['photography class'], 'Auto Glass Services': ['auto glass service'], 'Investing': ['investing'], 'Tobacco Shops': ['tobacco shop'], 'Kitchen Supplies': ['kitchen supply'], 'Home Health Care': ['home health care'], 'Pool Cleaners': ['pool cleaner'], 'Hybrid Car Repair': ['hybrid car repair'], 'Lahmacun': ['lahmacun'], 'Prenatal/Perinatal Care': ['prenatal care', 'perinatal care'], 'Auto Parts & Supplies': ['auto part', 'supply'], 'Candle Stores': ['candle store'], 'Creperies': ['crepery'], 'Israeli': ['israeli'], 'Personal Shopping': ['personal shopping'], 'Face Painting': ['face painting'], 'Eastern European': ['eastern european'], 'Immunodermatologists': ['immunodermatologist'], 'Soul Food': ['soul food'], 'Piercing': ['piercing'], 'RV Dealers': ['rv dealer'], 'Advertising': ['advertising'], 'Paintball': ['paintball'], 'Pickleball': ['pickleball'], 'Tonkatsu': ['tonkatsu'], 'Insurance': ['insurance'], 'Skate Shops': ['skate shop'], 'Photography Stores & Services': ['photography store', 'service'], 'Restaurants': ['restaurant'], 'Seafood Markets': ['seafood market'], 'Kombucha': ['kombucha'], 'Tea Rooms': ['tea room'], 'Sewing & Alterations': ['sewing', 'alteration'], 'Hotels & Travel': ['hotel', 'travel'], 'Naturopathic/Holistic': ['naturopathic', 'holistic'], 'Flowers': ['flower'], 'Television Service Providers': ['television service provider'], 'Martial Arts': ['martial art'], 'Language Schools': ['language school'], 'Endocrinologists': ['endocrinologist'], 'Clowns': ['clown'], 'Archery': ['archery'], 'Dental Hygienists': ['dental hygienist'], 'Portuguese': ['portuguese'], 'Courthouses': ['courthouse'], 'Motorsport Vehicle Dealers': ['motorsport vehicle dealer'], 'Recreation Centers': ['recreation center'], 'Automotive': ['automotive'], 'Boat Repair': ['boat repair'], 'CSA': ['csa'], 'Guest Houses': ['guest house'], 'Boat Parts & Supplies': ['boat part', 'supply'], 'Holistic Animal Care': ['holistic animal care'], \"Men's Hair Salons\": [\"men's hair salon\"], 'Zoos': ['zoo'], 'Infectious Disease Specialists': ['infectious disease specialist'], 'Private Jet Charter': ['private jet charter'], 'Municipality': ['municipality'], 'Accountants': ['accountant'], 'EV Charging Stations': ['ev charging station'], 'Patio Coverings': ['patio covering'], 'Halfway Houses': ['halfway house'], 'Prosthetics': ['prosthetic'], 'Motorcycle Parts & Supplies': ['motorcycle part', 'supply'], 'Psychiatrists': ['psychiatrist'], 'Pet Adoption': ['pet adoption'], 'Embassy': ['embassy'], 'Powder Coating': ['powder coating'], 'Train Stations': ['train station'], 'Emergency Pet Hospital': ['emergency pet hospital'], 'Public Markets': ['public market'], 'Piano Services': ['piano service'], 'Rest Stops': ['rest stop'], 'Parks': ['park'], 'Beer Gardens': ['beer garden'], 'RV Rental': ['rv rental'], 'Axe Throwing': ['axe throwing'], 'Nudist': ['nudist'], 'Environmental Testing': ['environmental testing'], 'Awnings': ['awning'], 'Campgrounds': ['campground'], 'Taxidermy': ['taxidermy'], 'Photo Booth Rentals': ['photo booth rental'], 'Crisis Pregnancy Centers': ['crisis pregnancy center'], 'Department Stores': ['department store'], 'Social Clubs': ['social club'], 'Sicilian': ['sicilian'], 'College Counseling': ['college counseling'], 'Trailer Dealers': ['trailer dealer'], 'Artificial Turf': ['artificial turf'], 'Race Tracks': ['race track'], 'Rehabilitation Center': ['rehabilitation center'], 'Circus Schools': ['circus school'], 'Matchmakers': ['matchmaker'], 'Event Planning & Services': ['event planning', 'service'], 'Olive Oil': ['olive oil'], 'Tacos': ['taco'], 'Climbing': ['climbing'], 'Concierge Medicine': ['concierge medicine'], 'Surfing': ['surfing'], 'Spray Tanning': ['spray tanning'], 'Tapas/Small Plates': ['tapas plate', 'small plate'], 'Mohels': ['mohel'], 'Wineries': ['winery'], 'Vermouth Bars': ['vermouth bar'], 'Sperm Clinic': ['sperm clinic'], 'Rheumatologists': ['rheumatologist'], 'Tours': ['tour'], 'Beer Tours': ['beer tour'], 'Sledding': ['sledding'], 'Health Insurance Offices': ['health insurance office'], 'Graphic Design': ['graphic design'], 'Cajun/Creole': ['cajun', 'creole'], 'Bikes': ['bike'], 'Sports Wear': ['sports wear'], 'Bike Rentals': ['bike rental'], 'Nanny Services': ['nanny service'], 'Tasting Classes': ['tasting class'], 'Painters': ['painter'], \"Children's Museums\": [\"children's museum\"], 'Snow Removal': ['snow removal'], 'Macarons': ['macaron'], 'Buddhist Temples': ['buddhist temple'], 'Ukrainian': ['ukrainian'], 'Ophthalmologists': ['ophthalmologist'], 'Pawn Shops': ['pawn shop'], 'Reiki': ['reiki'], 'Poutineries': ['poutinery'], 'Swimwear': ['swimwear'], 'Shopping Centers': ['shopping center'], 'Notaries': ['notary'], 'Nail Salons': ['nail salon'], 'Walk-in Clinics': ['walk-in clinic'], 'Spin Classes': ['spin class'], 'Wholesale Stores': ['wholesale store'], 'Specialty Schools': ['specialty school'], 'Self-defense Classes': ['self-defense class'], 'Indoor Playcentre': ['indoor playcentre'], 'Ice Cream & Frozen Yogurt': ['ice cream', 'frozen yogurt'], 'Taxis': ['taxi'], 'Undersea/Hyperbaric Medicine': ['undersea medicine', 'hyperbaric medicine'], 'Scavenger Hunts': ['scavenger hunt'], 'Bookstores': ['bookstore'], 'Wedding Planning': ['wedding planning'], 'Health Coach': ['health coach'], 'Waldorf Schools': ['waldorf school'], 'Holiday Decorating Services': ['holiday decorating service'], 'Pet Breeders': ['pet breeder'], 'Ultrasound Imaging Centers': ['ultrasound imaging center'], 'Motorcycle Gear': ['motorcycle gear'], 'Ski Resorts': ['ski resort'], 'Food Delivery Services': ['food delivery service'], 'Signmaking': ['signmaking'], 'Windshield Installation & Repair': ['windshield installation', 'repair'], 'Party Characters': ['party character'], 'Farmers Market': ['farmers market'], 'Fuzhou': ['fuzhou'], 'Piano Bars': ['piano bar'], 'Gelato': ['gelato'], 'Horse Equipment Shops': ['horse equipment shop'], 'Furniture Repair': ['furniture repair'], 'Legal Services': ['legal service'], 'Local Flavor': ['local flavor'], 'Fitness/Exercise Equipment': ['fitness equipment', 'exercise equipment'], 'Tubing': ['tubing'], 'Cremation Services': ['cremation service'], 'Nephrologists': ['nephrologist'], 'Dermatologists': ['dermatologist'], 'Swimming Lessons/Schools': ['swimming lesson', 'swimming school'], 'Product Design': ['product design'], 'Laundromat': ['laundromat'], 'Scuba Diving': ['scuba diving'], 'Spine Surgeons': ['spine surgeon'], 'Go Karts': ['go kart'], 'Vocal Coach': ['vocal coach'], 'Newspapers & Magazines': ['newspaper', 'magazine'], 'Drama Schools': ['drama school'], 'Caricatures': ['caricature'], 'Carpet Installation': ['carpet installation'], 'Roman': ['roman'], 'Hot Pot': ['hot pot'], 'Toy Stores': ['toy store'], 'Donation Center': ['donation center'], 'Music & Video': ['music', 'video'], 'Dive Shops': ['dive shop'], 'Kickboxing': ['kickboxing'], 'Chimney Sweeps': ['chimney sweep'], 'Ski Schools': ['ski school'], 'Hydrotherapy': ['hydrotherapy'], 'Party Supplies': ['party supply'], 'Delicatessen': ['delicatessen'], 'Pet Services': ['pet service'], 'Mobile Home Repair': ['mobile home repair'], 'Hotels': ['hotel'], 'Outlet Stores': ['outlet store'], 'Acne Treatment': ['acne treatment'], 'Screen Printing': ['screen printing'], 'Nightlife': ['nightlife'], 'Cafes': ['cafe'], 'Apartments': ['apartment'], 'Allergists': ['allergist'], 'Glass Blowing': ['glass blowing'], 'Professional Services': ['professional service'], 'Smog Check Stations': ['smog check station'], 'Dance Wear': ['dance wear'], 'Digitizing Services': ['digitizing service'], 'Special Education': ['special education'], 'Tableware': ['tableware'], 'Biohazard Cleanup': ['biohazard cleanup'], 'Concept Shops': ['concept shop'], 'Bus Rental': ['bus rental'], 'Luggage': ['luggage'], 'Shipping Centers': ['shipping center'], 'African': ['african'], 'Dance Clubs': ['dance club'], 'Home Staging': ['home staging'], 'Mongolian': ['mongolian'], 'Service Stations': ['service station'], 'Live/Raw Food': ['live food', 'raw food'], 'Art Space Rentals': ['art space rental'], 'Transportation': ['transportation'], 'Home Window Tinting': ['home window tinting'], 'Dumpster Rental': ['dumpster rental'], 'Spiritual Shop': ['spiritual shop'], 'Recording & Rehearsal Studios': ['recording', 'rehearsal studio'], 'Discount Store': ['discount store'], 'Restaurant Supplies': ['restaurant supply'], 'Party Bike Rentals': ['party bike rental'], 'Wine Tasting Room': ['wine tasting room'], 'Hearing Aid Providers': ['hearing aid provider'], 'Public Transportation': ['public transportation'], 'Aquariums': ['aquarium'], 'Carpeting': ['carpeting'], 'Retirement Homes': ['retirement home'], 'Retina Specialists': ['retina specialist'], 'Festivals': ['festival'], 'Vegan': ['vegan'], 'Art Tours': ['art tour'], 'Fishing': ['fishing'], 'Sports Medicine': ['sports medicine'], 'Session Photography': ['session photography'], 'Sri Lankan': ['sri lankan'], 'Cupcakes': ['cupcake'], 'Swimming Pools': ['swimming pool'], 'Leisure Centers': ['leisure center'], 'Gold Buyers': ['gold buyer'], 'Disc Golf': ['disc golf'], 'Trailer Repair': ['trailer repair'], 'Golf Cart Rentals': ['golf cart rental'], 'Mortgage Lenders': ['mortgage lender'], 'Elder Care Planning': ['elder care planning'], 'Cosmetic Surgeons': ['cosmetic surgeon'], 'Public Art': ['public art'], 'Neuropathologists': ['neuropathologist'], 'Sandwiches': ['sandwich'], 'Pop-up Shops': ['pop-up shop'], 'Tui Na': ['tui na'], 'Halal': ['halal'], 'Bespoke Clothing': ['bespoke clothing'], 'Organic Stores': ['organic store'], 'Jet Skis': ['jet ski'], 'Cafeteria': ['cafeteria'], 'Podiatrists': ['podiatrist'], 'Preventive Medicine': ['preventive medicine'], 'Business Financing': ['business financing'], 'Dart Arenas': ['dart arena'], 'Guamanian': ['guamanian'], 'Chocolatiers & Shops': ['chocolatier', 'shop'], 'Police Departments': ['police department'], 'Costumes': ['costume'], 'Medical Law': ['medical law'], 'Guns & Ammo': ['gun', 'ammo'], 'Home Developers': ['home developer'], 'Plus Size Fashion': ['plus size fashion'], 'Scottish': ['scottish'], 'Cheese Tasting Classes': ['cheese tasting class'], 'Software Development': ['software development'], 'Libraries': ['library'], 'Solar Installation': ['solar installation'], 'Pedicabs': ['pedicab'], 'Silent Disco': ['silent disco'], 'Afghan': ['afghan'], 'Environmental Abatement': ['environmental abatement'], 'Party Bus Rentals': ['party bus rental'], 'Reptile Shops': ['reptile shop'], 'Public Relations': ['public relation'], 'Mobile Phone Repair': ['mobile phone repair'], 'Car Buyers': ['car buyer'], 'Persian/Iranian': ['persian', 'iranian'], 'Hiking': ['hiking'], 'Canadian (New)': ['canadian (new)'], 'Pet Cremation Services': ['pet cremation service'], 'Mailbox Centers': ['mailbox center'], 'Irish': ['irish'], 'Coffeeshops': ['coffeeshop'], 'Home Energy Auditors': ['home energy auditor'], 'Childproofing': ['childproofing'], 'Acai Bowls': ['acai bowl'], 'Airports': ['airport'], 'Disability Law': ['disability law'], 'Business Consulting': ['business consulting'], 'Architectural Tours': ['architectural tour'], 'Donburi': ['donburi'], 'Malaysian': ['malaysian'], 'Sports Psychologists': ['sports psychologist'], 'Mobile Home Parks': ['mobile home park'], 'Food Banks': ['food bank'], 'Petting Zoos': ['petting zoo'], 'Golf Cart Dealers': ['golf cart dealer'], 'Pressure Washers': ['pressure washer'], 'Outdoor Gear': ['outdoor gear'], 'Outdoor Power Equipment Services': ['outdoor power equipment service'], 'Personal Care Services': ['personal care service'], 'Paint-Your-Own Pottery': ['paint-your-own pottery'], 'Latin American': ['latin american'], 'Cheese Shops': ['cheese shop'], 'Nutritionists': ['nutritionist'], 'Audiologist': ['audiologist'], 'Vape Shops': ['vape shop'], 'Bike Repair': ['bike repair'], 'Internal Medicine': ['internal medicine'], 'Snorkeling': ['snorkeling'], 'Gastroenterologist': ['gastroenterologist'], 'Tattoo': ['tattoo'], 'Hot Tub & Pool': ['hot tub', 'pool'], 'Reflexology': ['reflexology'], 'Foundation Repair': ['foundation repair'], 'Beach Bars': ['beach bar'], 'Urgent Care': ['urgent care'], 'Insulation Installation': ['insulation installation'], 'Cultural Center': ['cultural center'], 'Self Storage': ['self storage'], 'Education': ['education'], 'Tax Law': ['tax law'], 'Private Schools': ['private school'], 'Auto Loan Providers': ['auto loan provider'], 'French': ['french'], 'Eyebrow Services': ['eyebrow service'], 'Real Estate Agents': ['real estate agent'], 'Cantonese': ['cantonese'], 'Religious Schools': ['religious school'], 'Bicycle Paths': ['bicycle path'], 'Bankruptcy Law': ['bankruptcy law'], 'Calligraphy': ['calligraphy'], 'Propane': ['propane'], 'Brewing Supplies': ['brewing supply'], 'Skate Parks': ['skate park'], 'Food Stands': ['food stand'], 'Commissioned Artists': ['commissioned artist'], 'Payroll Services': ['payroll service'], 'Watches': ['watch'], 'Home Organization': ['home organization'], 'Workers Compensation Law': ['workers compensation law'], 'Print Media': ['print media'], 'Lawn Services': ['lawn service'], 'Wildlife Hunting Ranges': ['wildlife hunting range'], 'Sushi Bars': ['sushi bar'], 'Basketball Courts': ['basketball court'], 'Art Supplies': ['art supply'], 'Generator Installation/Repair': ['generator installation', 'generator repair'], 'Alternative Medicine': ['alternative medicine'], 'Russian': ['russian'], 'Art Schools': ['art school'], 'Fondue': ['fondue'], 'Cannabis Tours': ['cannabis tour'], 'Shredding Services': ['shredding service'], 'Arts & Crafts': ['art', 'craft'], 'Water Suppliers': ['water supplier'], 'Racing Experience': ['racing experience'], 'Trophy Shops': ['trophy shop']}\n"
     ]
    }
   ],
   "source": [
    "substring_thresholds = [0.1, 0.3, 0.5, 0.7, 0.9]\n",
    "ratio_thresholds = [0.25, 0.50, 0.75]\n",
    "\n",
    "mapping_dict = dict()\n",
    "\n",
    "for i in substring_thresholds:\n",
    "    for j in ratio_thresholds:\n",
    "        mappings = get_class_mappings(substring_threshold=i, ratio_threshold=j)\n",
    "        print(f\"For thresholds {i, j}: a total of {len(mappings)} are found.\")\n",
    "\n",
    "        for key, value in mappings.items():\n",
    "            mapping_dict.setdefault(key, list()).append(value + f\" [{i}, {j}]\")"
   ]
  },
  {
   "cell_type": "code",
   "execution_count": null,
   "metadata": {
    "collapsed": false,
    "pycharm": {
     "is_executing": true,
     "name": "#%%\n"
    }
   },
   "outputs": [],
   "source": [
    "mapping_dict"
   ]
  },
  {
   "cell_type": "code",
   "execution_count": null,
   "metadata": {
    "collapsed": false,
    "pycharm": {
     "name": "#%%\n"
    }
   },
   "outputs": [],
   "source": []
  },
  {
   "cell_type": "code",
   "execution_count": 4,
   "metadata": {
    "collapsed": false,
    "pycharm": {
     "name": "#%%\n"
    }
   },
   "outputs": [
    {
     "name": "stdout",
     "output_type": "stream",
     "text": [
      "For thresholds (0.7, 0.5): a total of 91 are found.\n",
      "For thresholds (0.7, 0.75): a total of 53 are found.\n",
      "For thresholds (0.9, 0.5): a total of 27 are found.\n",
      "For thresholds (0.9, 0.75): a total of 11 are found.\n"
     ]
    }
   ],
   "source": [
    "substring_thresholds = [0.7, 0.9]\n",
    "ratio_thresholds = [0.50, 0.75]\n",
    "\n",
    "mapping_dict2 = dict()\n",
    "\n",
    "for i in substring_thresholds:\n",
    "    for j in ratio_thresholds:\n",
    "        mappings = get_class_mappings(substring_threshold=i, ratio_threshold=j)\n",
    "        print(f\"For thresholds {i, j}: a total of {len(mappings)} are found.\")\n",
    "\n",
    "        for key, value in mappings.items():\n",
    "            mapping_dict2.setdefault(key, list()).append(value + f\" [{i}, {j}]\")"
   ]
  },
  {
   "cell_type": "code",
   "execution_count": 5,
   "metadata": {
    "collapsed": false,
    "pycharm": {
     "name": "#%%\n"
    }
   },
   "outputs": [
    {
     "data": {
      "text/plain": [
       "{'Officiants': ['OfficialLegalValue [0.7, 0.5]'],\n",
       " 'Vegan': ['VeganDiet [0.7, 0.5]', 'VeganDiet [0.9, 0.5]'],\n",
       " 'Props': ['Property [0.7, 0.5]'],\n",
       " 'Airlines': ['Airline [0.7, 0.5]', 'Airline [0.7, 0.75]'],\n",
       " 'Hospitals': ['Hospital [0.7, 0.5]', 'Hospital [0.7, 0.75]'],\n",
       " 'Jewelry': ['JewelryStore [0.7, 0.5]', 'JewelryStore [0.9, 0.5]'],\n",
       " 'Courthouses': ['Courthouse [0.7, 0.5]',\n",
       "  'Courthouse [0.7, 0.75]',\n",
       "  'Courthouse [0.9, 0.5]',\n",
       "  'Courthouse [0.9, 0.75]'],\n",
       " 'Gastroenterologist': ['Gastroenterologic [0.7, 0.5]',\n",
       "  'Gastroenterologic [0.7, 0.75]'],\n",
       " 'Archery': ['Researcher [0.7, 0.5]'],\n",
       " 'Halal': ['HalalDiet [0.7, 0.5]', 'HalalDiet [0.9, 0.5]'],\n",
       " 'Painters': ['HousePainter [0.7, 0.5]'],\n",
       " 'Zoos': ['Zoo [0.7, 0.5]', 'Zoo [0.7, 0.75]'],\n",
       " 'Pubs': ['BarOrPub [0.7, 0.5]'],\n",
       " 'Taxis': ['Taxi [0.7, 0.5]', 'Taxi [0.7, 0.75]'],\n",
       " 'Optometrists': ['Optometric [0.7, 0.5]', 'Optometric [0.7, 0.75]'],\n",
       " 'Synagogues': ['Synagogue [0.7, 0.5]',\n",
       "  'Synagogue [0.7, 0.75]',\n",
       "  'Synagogue [0.9, 0.5]',\n",
       "  'Synagogue [0.9, 0.75]'],\n",
       " 'Eatertainment': ['AdultEntertainment [0.7, 0.5]'],\n",
       " 'Electricians': ['Electrician [0.7, 0.5]',\n",
       "  'Electrician [0.7, 0.75]',\n",
       "  'Electrician [0.9, 0.5]',\n",
       "  'Electrician [0.9, 0.75]'],\n",
       " 'Burgers': ['PlasticSurgery [0.7, 0.5]'],\n",
       " 'Restaurants': ['Restaurant [0.7, 0.5]',\n",
       "  'Restaurant [0.7, 0.75]',\n",
       "  'Restaurant [0.9, 0.5]',\n",
       "  'Restaurant [0.9, 0.75]'],\n",
       " 'Halotherapy': ['Physiotherapy [0.7, 0.5]', 'Physiotherapy [0.7, 0.75]'],\n",
       " 'Watches': ['WatchAction [0.7, 0.5]'],\n",
       " 'Dermatologists': ['Dermatologic [0.7, 0.5]', 'Dermatologic [0.7, 0.75]'],\n",
       " 'Pets': ['PetStore [0.7, 0.5]'],\n",
       " 'Cryotherapy': ['Physiotherapy [0.7, 0.5]', 'Physiotherapy [0.7, 0.75]'],\n",
       " 'Urologists': ['Urologic [0.7, 0.5]', 'Urologic [0.7, 0.75]'],\n",
       " 'Neurologist': ['Neurologic [0.7, 0.5]', 'Neurologic [0.7, 0.75]'],\n",
       " 'Education': ['EducationEvent [0.7, 0.5]', 'EducationEvent [0.9, 0.5]'],\n",
       " 'Apartments': ['Apartment [0.7, 0.5]',\n",
       "  'Apartment [0.7, 0.75]',\n",
       "  'Apartment [0.9, 0.5]',\n",
       "  'Apartment [0.9, 0.75]'],\n",
       " 'Mosques': ['Mosque [0.7, 0.5]', 'Mosque [0.7, 0.75]'],\n",
       " 'Parking': ['ParkingMap [0.7, 0.5]', 'ParkingMap [0.9, 0.5]'],\n",
       " 'Psychologists': ['PsychologicalTreatment [0.7, 0.5]'],\n",
       " 'Preschools': ['Preschool [0.7, 0.5]',\n",
       "  'Preschool [0.7, 0.75]',\n",
       "  'Preschool [0.9, 0.5]',\n",
       "  'Preschool [0.9, 0.75]'],\n",
       " 'Ramen': ['Ligament [0.7, 0.5]'],\n",
       " 'Psychics': ['Psychiatric [0.7, 0.5]'],\n",
       " 'Festivals': ['Festival [0.7, 0.5]', 'Festival [0.7, 0.75]'],\n",
       " 'Food': ['WPFooter [0.7, 0.5]'],\n",
       " 'Rheumatologists': ['Rheumatologic [0.7, 0.5]', 'Rheumatologic [0.7, 0.75]'],\n",
       " 'Trusts': ['UKTrust [0.7, 0.5]', 'UKTrust [0.7, 0.75]'],\n",
       " 'Tattoo': ['TattooParlor [0.7, 0.5]', 'TattooParlor [0.9, 0.5]'],\n",
       " 'Florists': ['Florist [0.7, 0.5]', 'Florist [0.7, 0.75]'],\n",
       " 'Distilleries': ['Distillery [0.7, 0.5]', 'Distillery [0.7, 0.75]'],\n",
       " 'Museums': ['Museum [0.7, 0.5]', 'Museum [0.7, 0.75]'],\n",
       " 'Massage': ['Message [0.7, 0.5]', 'Message [0.7, 0.75]'],\n",
       " 'Bicycles': ['MotorizedBicycle [0.7, 0.5]'],\n",
       " 'Tires': ['TireShop [0.7, 0.5]'],\n",
       " 'Beaches': ['Beach [0.7, 0.5]'],\n",
       " 'Grocery': ['GroceryStore [0.7, 0.5]', 'GroceryStore [0.9, 0.5]'],\n",
       " 'Airports': ['Airport [0.7, 0.5]', 'Airport [0.7, 0.75]'],\n",
       " 'Dentists': ['Dentistry [0.7, 0.5]', 'Dentistry [0.7, 0.75]'],\n",
       " 'Osteopaths': ['Osteopathic [0.7, 0.5]',\n",
       "  'Osteopathic [0.7, 0.75]',\n",
       "  'Osteopathic [0.9, 0.5]',\n",
       "  'Osteopathic [0.9, 0.75]'],\n",
       " 'Bars': ['Barcode [0.7, 0.5]'],\n",
       " 'Bikes': ['BikeStore [0.7, 0.5]'],\n",
       " 'Vegetarian': ['VegetarianDiet [0.7, 0.5]', 'VegetarianDiet [0.9, 0.5]'],\n",
       " 'Embassy': ['Embassy [0.7, 0.5]',\n",
       "  'Embassy [0.7, 0.75]',\n",
       "  'Embassy [0.9, 0.5]',\n",
       "  'Embassy [0.9, 0.75]'],\n",
       " 'Chiropractors': ['Chiropractic [0.7, 0.5]', 'Chiropractic [0.7, 0.75]'],\n",
       " 'Boating': ['Rating [0.7, 0.5]', 'Rating [0.7, 0.75]'],\n",
       " 'Electronics': ['ElectronicsStore [0.7, 0.5]', 'ElectronicsStore [0.9, 0.5]'],\n",
       " 'Trains': ['TrainTrip [0.7, 0.5]'],\n",
       " 'Pita': ['Hospital [0.7, 0.5]'],\n",
       " 'Photographers': ['PhotographAction [0.7, 0.5]',\n",
       "  'PhotographAction [0.7, 0.75]'],\n",
       " 'Resorts': ['Resort [0.7, 0.5]', 'Resort [0.7, 0.75]'],\n",
       " 'Churches': ['Church [0.7, 0.5]', 'Church [0.7, 0.75]'],\n",
       " 'Insurance': ['InsuranceAgency [0.7, 0.5]', 'InsuranceAgency [0.9, 0.5]'],\n",
       " 'Kosher': ['KosherDiet [0.7, 0.5]', 'KosherDiet [0.9, 0.5]'],\n",
       " 'Ayurveda': ['Ayurvedic [0.7, 0.5]', 'Ayurvedic [0.7, 0.75]'],\n",
       " 'Books': ['EBook [0.7, 0.5]', 'EBook [0.7, 0.75]'],\n",
       " 'Podiatrists': ['Podiatric [0.7, 0.5]', 'Podiatric [0.7, 0.75]'],\n",
       " 'Wholesalers': ['Wholesale [0.7, 0.5]', 'Wholesale [0.7, 0.75]'],\n",
       " 'Advertising': ['MinimumAdvertisedPrice [0.7, 0.5]'],\n",
       " 'Home Organization': ['SportsOrganization [0.7, 0.5]',\n",
       "  'SportsOrganization [0.7, 0.75]'],\n",
       " 'Aquariums': ['Aquarium [0.7, 0.5]', 'Aquarium [0.7, 0.75]'],\n",
       " 'Bowling': ['BowlingAlley [0.7, 0.5]', 'BowlingAlley [0.9, 0.5]'],\n",
       " 'Campgrounds': ['Campground [0.7, 0.5]',\n",
       "  'Campground [0.7, 0.75]',\n",
       "  'Campground [0.9, 0.5]',\n",
       "  'Campground [0.9, 0.75]'],\n",
       " 'Pharmacy': ['Pharmacy [0.7, 0.5]',\n",
       "  'Pharmacy [0.7, 0.75]',\n",
       "  'Pharmacy [0.9, 0.5]',\n",
       "  'Pharmacy [0.9, 0.75]'],\n",
       " 'Parks': ['RVPark [0.7, 0.5]', 'RVPark [0.7, 0.75]'],\n",
       " 'Employment Law': ['EmploymentAgency [0.7, 0.5]',\n",
       "  'EmploymentAgency [0.7, 0.75]'],\n",
       " 'Oncologist': ['Oncologic [0.7, 0.5]', 'Oncologic [0.7, 0.75]'],\n",
       " 'Shopping': ['ShoppingCenter [0.7, 0.5]', 'ShoppingCenter [0.9, 0.5]'],\n",
       " 'Playgrounds': ['Playground [0.7, 0.5]',\n",
       "  'Playground [0.7, 0.75]',\n",
       "  'Playground [0.9, 0.5]',\n",
       "  'Playground [0.9, 0.75]'],\n",
       " 'Hostels': ['Hostel [0.7, 0.5]', 'Hostel [0.7, 0.75]'],\n",
       " 'Automotive': ['AutomotiveBusiness [0.7, 0.5]',\n",
       "  'AutomotiveBusiness [0.9, 0.5]'],\n",
       " 'Disability Law': ['DisabilitySupport [0.7, 0.5]',\n",
       "  'DisabilitySupport [0.7, 0.75]'],\n",
       " 'Hotels': ['Hotel [0.7, 0.5]', 'Hotel [0.7, 0.75]'],\n",
       " 'Psychiatrists': ['Psychiatric [0.7, 0.5]', 'Psychiatric [0.7, 0.75]'],\n",
       " 'International': ['InternationalTrial [0.7, 0.5]',\n",
       "  'InternationalTrial [0.9, 0.5]'],\n",
       " 'Contractors': ['GeneralContractor [0.7, 0.5]',\n",
       "  'GeneralContractor [0.9, 0.5]'],\n",
       " 'Hospice': ['Hospital [0.7, 0.5]', 'Hospital [0.7, 0.75]'],\n",
       " 'Casinos': ['Casino [0.7, 0.5]', 'Casino [0.7, 0.75]'],\n",
       " 'Tours': ['Course [0.7, 0.5]', 'Course [0.7, 0.75]'],\n",
       " 'Computers': ['ComputerStore [0.7, 0.5]']}"
      ]
     },
     "execution_count": 5,
     "metadata": {},
     "output_type": "execute_result"
    }
   ],
   "source": [
    "mapping_dict2"
   ]
  },
  {
   "cell_type": "code",
   "execution_count": 5,
   "metadata": {
    "collapsed": false,
    "pycharm": {
     "name": "#%%\n"
    }
   },
   "outputs": [],
   "source": []
  }
 ],
 "metadata": {
  "kernelspec": {
   "display_name": "Python 3",
   "language": "python",
   "name": "python3"
  },
  "language_info": {
   "codemirror_mode": {
    "name": "ipython",
    "version": 2
   },
   "file_extension": ".py",
   "mimetype": "text/x-python",
   "name": "python",
   "nbconvert_exporter": "python",
   "pygments_lexer": "ipython2",
   "version": "2.7.6"
  }
 },
 "nbformat": 4,
 "nbformat_minor": 0
}
