{
 "cells": [
  {
   "cell_type": "markdown",
   "metadata": {
    "collapsed": false,
    "pycharm": {
     "name": "#%% md\n"
    }
   },
   "source": [
    "### Tests different threshold configurations when mapping Yelp categories to schema.org types."
   ]
  },
  {
   "cell_type": "code",
   "execution_count": 1,
   "metadata": {
    "collapsed": true
   },
   "outputs": [],
   "source": [
    "from Code.UtilityFunctions.schema_functions import get_class_mappings"
   ]
  },
  {
   "cell_type": "code",
   "execution_count": 3,
   "metadata": {
    "collapsed": false,
    "pycharm": {
     "is_executing": true,
     "name": "#%%\n"
    }
   },
   "outputs": [
    {
     "name": "stdout",
     "output_type": "stream",
     "text": [
      "For thresholds (0.5, 0.5): a total of 839 are found.\n",
      "For thresholds (0.5, 0.75): a total of 644 are found.\n",
      "For thresholds (0.7, 0.5): a total of 268 are found.\n",
      "For thresholds (0.7, 0.75): a total of 173 are found.\n",
      "For thresholds (0.9, 0.5): a total of 154 are found.\n",
      "For thresholds (0.9, 0.75): a total of 95 are found.\n",
      "Done\n"
     ]
    }
   ],
   "source": [
    "substring_thresholds = [0.50, 0.70, 0.90]\n",
    "ratio_thresholds = [0.50, 0.75]\n",
    "\n",
    "mapping_dict = dict()\n",
    "\n",
    "for i in substring_thresholds:\n",
    "    for j in ratio_thresholds:\n",
    "        mappings = get_class_mappings(substring_threshold=i, ratio_threshold=j)\n",
    "        print(f\"For thresholds {i, j}: a total of {len(mappings)} are found.\")\n",
    "\n",
    "        for key, value in mappings.items():\n",
    "            mapping_dict.setdefault(key, list()).append(value + f\" [{i}, {j}]\")\n",
    "\n",
    "print(\"Done\")"
   ]
  },
  {
   "cell_type": "code",
   "execution_count": null,
   "metadata": {
    "collapsed": false,
    "pycharm": {
     "is_executing": true,
     "name": "#%%\n"
    }
   },
   "outputs": [],
   "source": [
    "mapping_dict"
   ]
  },
  {
   "cell_type": "code",
   "execution_count": null,
   "metadata": {
    "collapsed": false,
    "pycharm": {
     "name": "#%%\n"
    }
   },
   "outputs": [],
   "source": []
  },
  {
   "cell_type": "code",
   "execution_count": null,
   "metadata": {
    "collapsed": false,
    "pycharm": {
     "name": "#%%\n"
    }
   },
   "outputs": [
    {
     "name": "stdout",
     "output_type": "stream",
     "text": [
      "For thresholds (0.7, 0.5): a total of 91 are found.\n",
      "For thresholds (0.7, 0.75): a total of 53 are found.\n",
      "For thresholds (0.9, 0.5): a total of 27 are found.\n",
      "For thresholds (0.9, 0.75): a total of 11 are found.\n"
     ]
    }
   ],
   "source": [
    "substring_thresholds = [0.7, 0.9]\n",
    "ratio_thresholds = [0.50, 0.75]\n",
    "\n",
    "mapping_dict2 = dict()\n",
    "\n",
    "for i in substring_thresholds:\n",
    "    for j in ratio_thresholds:\n",
    "        mappings = get_class_mappings(substring_threshold=i, ratio_threshold=j)\n",
    "        print(f\"For thresholds {i, j}: a total of {len(mappings)} are found.\")\n",
    "\n",
    "        for key, value in mappings.items():\n",
    "            mapping_dict2.setdefault(key, list()).append(value + f\" [{i}, {j}]\")"
   ]
  },
  {
   "cell_type": "code",
   "execution_count": 5,
   "metadata": {
    "collapsed": false,
    "pycharm": {
     "name": "#%%\n"
    }
   },
   "outputs": [
    {
     "data": {
      "text/plain": [
       "{'Officiants': ['OfficialLegalValue [0.7, 0.5]'],\n",
       " 'Vegan': ['VeganDiet [0.7, 0.5]', 'VeganDiet [0.9, 0.5]'],\n",
       " 'Props': ['Property [0.7, 0.5]'],\n",
       " 'Airlines': ['Airline [0.7, 0.5]', 'Airline [0.7, 0.75]'],\n",
       " 'Hospitals': ['Hospital [0.7, 0.5]', 'Hospital [0.7, 0.75]'],\n",
       " 'Jewelry': ['JewelryStore [0.7, 0.5]', 'JewelryStore [0.9, 0.5]'],\n",
       " 'Courthouses': ['Courthouse [0.7, 0.5]',\n",
       "  'Courthouse [0.7, 0.75]',\n",
       "  'Courthouse [0.9, 0.5]',\n",
       "  'Courthouse [0.9, 0.75]'],\n",
       " 'Gastroenterologist': ['Gastroenterologic [0.7, 0.5]',\n",
       "  'Gastroenterologic [0.7, 0.75]'],\n",
       " 'Archery': ['Researcher [0.7, 0.5]'],\n",
       " 'Halal': ['HalalDiet [0.7, 0.5]', 'HalalDiet [0.9, 0.5]'],\n",
       " 'Painters': ['HousePainter [0.7, 0.5]'],\n",
       " 'Zoos': ['Zoo [0.7, 0.5]', 'Zoo [0.7, 0.75]'],\n",
       " 'Pubs': ['BarOrPub [0.7, 0.5]'],\n",
       " 'Taxis': ['Taxi [0.7, 0.5]', 'Taxi [0.7, 0.75]'],\n",
       " 'Optometrists': ['Optometric [0.7, 0.5]', 'Optometric [0.7, 0.75]'],\n",
       " 'Synagogues': ['Synagogue [0.7, 0.5]',\n",
       "  'Synagogue [0.7, 0.75]',\n",
       "  'Synagogue [0.9, 0.5]',\n",
       "  'Synagogue [0.9, 0.75]'],\n",
       " 'Eatertainment': ['AdultEntertainment [0.7, 0.5]'],\n",
       " 'Electricians': ['Electrician [0.7, 0.5]',\n",
       "  'Electrician [0.7, 0.75]',\n",
       "  'Electrician [0.9, 0.5]',\n",
       "  'Electrician [0.9, 0.75]'],\n",
       " 'Burgers': ['PlasticSurgery [0.7, 0.5]'],\n",
       " 'Restaurants': ['Restaurant [0.7, 0.5]',\n",
       "  'Restaurant [0.7, 0.75]',\n",
       "  'Restaurant [0.9, 0.5]',\n",
       "  'Restaurant [0.9, 0.75]'],\n",
       " 'Halotherapy': ['Physiotherapy [0.7, 0.5]', 'Physiotherapy [0.7, 0.75]'],\n",
       " 'Watches': ['WatchAction [0.7, 0.5]'],\n",
       " 'Dermatologists': ['Dermatologic [0.7, 0.5]', 'Dermatologic [0.7, 0.75]'],\n",
       " 'Pets': ['PetStore [0.7, 0.5]'],\n",
       " 'Cryotherapy': ['Physiotherapy [0.7, 0.5]', 'Physiotherapy [0.7, 0.75]'],\n",
       " 'Urologists': ['Urologic [0.7, 0.5]', 'Urologic [0.7, 0.75]'],\n",
       " 'Neurologist': ['Neurologic [0.7, 0.5]', 'Neurologic [0.7, 0.75]'],\n",
       " 'Education': ['EducationEvent [0.7, 0.5]', 'EducationEvent [0.9, 0.5]'],\n",
       " 'Apartments': ['Apartment [0.7, 0.5]',\n",
       "  'Apartment [0.7, 0.75]',\n",
       "  'Apartment [0.9, 0.5]',\n",
       "  'Apartment [0.9, 0.75]'],\n",
       " 'Mosques': ['Mosque [0.7, 0.5]', 'Mosque [0.7, 0.75]'],\n",
       " 'Parking': ['ParkingMap [0.7, 0.5]', 'ParkingMap [0.9, 0.5]'],\n",
       " 'Psychologists': ['PsychologicalTreatment [0.7, 0.5]'],\n",
       " 'Preschools': ['Preschool [0.7, 0.5]',\n",
       "  'Preschool [0.7, 0.75]',\n",
       "  'Preschool [0.9, 0.5]',\n",
       "  'Preschool [0.9, 0.75]'],\n",
       " 'Ramen': ['Ligament [0.7, 0.5]'],\n",
       " 'Psychics': ['Psychiatric [0.7, 0.5]'],\n",
       " 'Festivals': ['Festival [0.7, 0.5]', 'Festival [0.7, 0.75]'],\n",
       " 'Food': ['WPFooter [0.7, 0.5]'],\n",
       " 'Rheumatologists': ['Rheumatologic [0.7, 0.5]', 'Rheumatologic [0.7, 0.75]'],\n",
       " 'Trusts': ['UKTrust [0.7, 0.5]', 'UKTrust [0.7, 0.75]'],\n",
       " 'Tattoo': ['TattooParlor [0.7, 0.5]', 'TattooParlor [0.9, 0.5]'],\n",
       " 'Florists': ['Florist [0.7, 0.5]', 'Florist [0.7, 0.75]'],\n",
       " 'Distilleries': ['Distillery [0.7, 0.5]', 'Distillery [0.7, 0.75]'],\n",
       " 'Museums': ['Museum [0.7, 0.5]', 'Museum [0.7, 0.75]'],\n",
       " 'Massage': ['Message [0.7, 0.5]', 'Message [0.7, 0.75]'],\n",
       " 'Bicycles': ['MotorizedBicycle [0.7, 0.5]'],\n",
       " 'Tires': ['TireShop [0.7, 0.5]'],\n",
       " 'Beaches': ['Beach [0.7, 0.5]'],\n",
       " 'Grocery': ['GroceryStore [0.7, 0.5]', 'GroceryStore [0.9, 0.5]'],\n",
       " 'Airports': ['Airport [0.7, 0.5]', 'Airport [0.7, 0.75]'],\n",
       " 'Dentists': ['Dentistry [0.7, 0.5]', 'Dentistry [0.7, 0.75]'],\n",
       " 'Osteopaths': ['Osteopathic [0.7, 0.5]',\n",
       "  'Osteopathic [0.7, 0.75]',\n",
       "  'Osteopathic [0.9, 0.5]',\n",
       "  'Osteopathic [0.9, 0.75]'],\n",
       " 'Bars': ['Barcode [0.7, 0.5]'],\n",
       " 'Bikes': ['BikeStore [0.7, 0.5]'],\n",
       " 'Vegetarian': ['VegetarianDiet [0.7, 0.5]', 'VegetarianDiet [0.9, 0.5]'],\n",
       " 'Embassy': ['Embassy [0.7, 0.5]',\n",
       "  'Embassy [0.7, 0.75]',\n",
       "  'Embassy [0.9, 0.5]',\n",
       "  'Embassy [0.9, 0.75]'],\n",
       " 'Chiropractors': ['Chiropractic [0.7, 0.5]', 'Chiropractic [0.7, 0.75]'],\n",
       " 'Boating': ['Rating [0.7, 0.5]', 'Rating [0.7, 0.75]'],\n",
       " 'Electronics': ['ElectronicsStore [0.7, 0.5]', 'ElectronicsStore [0.9, 0.5]'],\n",
       " 'Trains': ['TrainTrip [0.7, 0.5]'],\n",
       " 'Pita': ['Hospital [0.7, 0.5]'],\n",
       " 'Photographers': ['PhotographAction [0.7, 0.5]',\n",
       "  'PhotographAction [0.7, 0.75]'],\n",
       " 'Resorts': ['Resort [0.7, 0.5]', 'Resort [0.7, 0.75]'],\n",
       " 'Churches': ['Church [0.7, 0.5]', 'Church [0.7, 0.75]'],\n",
       " 'Insurance': ['InsuranceAgency [0.7, 0.5]', 'InsuranceAgency [0.9, 0.5]'],\n",
       " 'Kosher': ['KosherDiet [0.7, 0.5]', 'KosherDiet [0.9, 0.5]'],\n",
       " 'Ayurveda': ['Ayurvedic [0.7, 0.5]', 'Ayurvedic [0.7, 0.75]'],\n",
       " 'Books': ['EBook [0.7, 0.5]', 'EBook [0.7, 0.75]'],\n",
       " 'Podiatrists': ['Podiatric [0.7, 0.5]', 'Podiatric [0.7, 0.75]'],\n",
       " 'Wholesalers': ['Wholesale [0.7, 0.5]', 'Wholesale [0.7, 0.75]'],\n",
       " 'Advertising': ['MinimumAdvertisedPrice [0.7, 0.5]'],\n",
       " 'Home Organization': ['SportsOrganization [0.7, 0.5]',\n",
       "  'SportsOrganization [0.7, 0.75]'],\n",
       " 'Aquariums': ['Aquarium [0.7, 0.5]', 'Aquarium [0.7, 0.75]'],\n",
       " 'Bowling': ['BowlingAlley [0.7, 0.5]', 'BowlingAlley [0.9, 0.5]'],\n",
       " 'Campgrounds': ['Campground [0.7, 0.5]',\n",
       "  'Campground [0.7, 0.75]',\n",
       "  'Campground [0.9, 0.5]',\n",
       "  'Campground [0.9, 0.75]'],\n",
       " 'Pharmacy': ['Pharmacy [0.7, 0.5]',\n",
       "  'Pharmacy [0.7, 0.75]',\n",
       "  'Pharmacy [0.9, 0.5]',\n",
       "  'Pharmacy [0.9, 0.75]'],\n",
       " 'Parks': ['RVPark [0.7, 0.5]', 'RVPark [0.7, 0.75]'],\n",
       " 'Employment Law': ['EmploymentAgency [0.7, 0.5]',\n",
       "  'EmploymentAgency [0.7, 0.75]'],\n",
       " 'Oncologist': ['Oncologic [0.7, 0.5]', 'Oncologic [0.7, 0.75]'],\n",
       " 'Shopping': ['ShoppingCenter [0.7, 0.5]', 'ShoppingCenter [0.9, 0.5]'],\n",
       " 'Playgrounds': ['Playground [0.7, 0.5]',\n",
       "  'Playground [0.7, 0.75]',\n",
       "  'Playground [0.9, 0.5]',\n",
       "  'Playground [0.9, 0.75]'],\n",
       " 'Hostels': ['Hostel [0.7, 0.5]', 'Hostel [0.7, 0.75]'],\n",
       " 'Automotive': ['AutomotiveBusiness [0.7, 0.5]',\n",
       "  'AutomotiveBusiness [0.9, 0.5]'],\n",
       " 'Disability Law': ['DisabilitySupport [0.7, 0.5]',\n",
       "  'DisabilitySupport [0.7, 0.75]'],\n",
       " 'Hotels': ['Hotel [0.7, 0.5]', 'Hotel [0.7, 0.75]'],\n",
       " 'Psychiatrists': ['Psychiatric [0.7, 0.5]', 'Psychiatric [0.7, 0.75]'],\n",
       " 'International': ['InternationalTrial [0.7, 0.5]',\n",
       "  'InternationalTrial [0.9, 0.5]'],\n",
       " 'Contractors': ['GeneralContractor [0.7, 0.5]',\n",
       "  'GeneralContractor [0.9, 0.5]'],\n",
       " 'Hospice': ['Hospital [0.7, 0.5]', 'Hospital [0.7, 0.75]'],\n",
       " 'Casinos': ['Casino [0.7, 0.5]', 'Casino [0.7, 0.75]'],\n",
       " 'Tours': ['Course [0.7, 0.5]', 'Course [0.7, 0.75]'],\n",
       " 'Computers': ['ComputerStore [0.7, 0.5]']}"
      ]
     },
     "execution_count": 5,
     "metadata": {},
     "output_type": "execute_result"
    }
   ],
   "source": [
    "mapping_dict2"
   ]
  },
  {
   "cell_type": "code",
   "execution_count": 5,
   "metadata": {
    "collapsed": false,
    "pycharm": {
     "name": "#%%\n"
    }
   },
   "outputs": [],
   "source": []
  }
 ],
 "metadata": {
  "kernelspec": {
   "display_name": "Python 3.10.8 64-bit",
   "language": "python",
   "name": "python3"
  },
  "language_info": {
   "codemirror_mode": {
    "name": "ipython",
    "version": 3
   },
   "file_extension": ".py",
   "mimetype": "text/x-python",
   "name": "python",
   "nbconvert_exporter": "python",
   "pygments_lexer": "ipython3",
   "version": "3.10.8"
  },
  "vscode": {
   "interpreter": {
    "hash": "09544491c1524b6c5fb5b7f3495cc73fad8d873a98fc6c0c0a72b94c18acea93"
   }
  }
 },
 "nbformat": 4,
 "nbformat_minor": 0
}
