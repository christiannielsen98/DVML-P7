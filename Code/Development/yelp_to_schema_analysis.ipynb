{
 "cells": [
  {
   "cell_type": "markdown",
   "source": [
    "### Tests different threshold configurations when mapping Yelp categories to schema.org types."
   ],
   "metadata": {
    "collapsed": false,
    "pycharm": {
     "name": "#%% md\n"
    }
   }
  },
  {
   "cell_type": "code",
   "execution_count": 12,
   "metadata": {
    "collapsed": true
   },
   "outputs": [],
   "source": [
    "import pandas as pd\n",
    "from Code.UtilityFunctions.get_data_path import get_path\n",
    "from Code.UtilityFunctions.schema_functions import get_class_mappings\n",
    "from Code.UtilityFunctions.schema_functions import long_com_substring"
   ]
  },
  {
   "cell_type": "code",
   "execution_count": null,
   "outputs": [
    {
     "name": "stdout",
     "output_type": "stream",
     "text": [
      "For thresholds (0.1, 0.25): a total of 1311 are found.\n",
      "For thresholds (0.1, 0.5): a total of 1311 are found.\n",
      "For thresholds (0.1, 0.75): a total of 1310 are found.\n",
      "For thresholds (0.3, 0.25): a total of 1130 are found.\n"
     ]
    }
   ],
   "source": [
    "substring_thresholds = [0.1, 0.3, 0.5, 0.7, 0.9]\n",
    "ratio_thresholds = [0.25, 0.50, 0.75]\n",
    "\n",
    "mapping_dict = dict()\n",
    "\n",
    "for i in substring_thresholds:\n",
    "    for j in ratio_thresholds:\n",
    "        mappings = get_class_mappings(substring_threshold=i, ratio_thresold=j)\n",
    "        print(f\"For thresholds {i, j}: a total of {len(mappings)} are found.\")\n",
    "\n",
    "        for key, value in mappings.items():\n",
    "            mapping_dict.setdefault(key, list()).append(value + f\" [{i}, {j}]\")"
   ],
   "metadata": {
    "collapsed": false,
    "pycharm": {
     "name": "#%%\n",
     "is_executing": true
    }
   }
  },
  {
   "cell_type": "code",
   "execution_count": null,
   "outputs": [],
   "source": [
    "mapping_dict"
   ],
   "metadata": {
    "collapsed": false,
    "pycharm": {
     "name": "#%%\n",
     "is_executing": true
    }
   }
  },
  {
   "cell_type": "code",
   "execution_count": null,
   "outputs": [],
   "source": [
    "substring_thresholds = [0.7, 0.9]\n",
    "ratio_thresholds = [0.50, 0.75]\n",
    "\n",
    "mapping_dict2 = dict()\n",
    "\n",
    "for i in substring_thresholds:\n",
    "    for j in ratio_thresholds:\n",
    "        mappings = get_class_mappings(substring_threshold=i, ratio_thresold=j)\n",
    "        print(f\"For thresholds {i, j}: a total of {len(mappings)} are found.\")\n",
    "\n",
    "        for key, value in mappings.items():\n",
    "            mapping_dict2.setdefault(key, list()).append(value + f\" [{i}, {j}]\")"
   ],
   "metadata": {
    "collapsed": false,
    "pycharm": {
     "name": "#%%\n",
     "is_executing": true
    }
   }
  },
  {
   "cell_type": "code",
   "execution_count": null,
   "outputs": [],
   "source": [
    "mapping_dict2"
   ],
   "metadata": {
    "collapsed": false,
    "pycharm": {
     "name": "#%%\n",
     "is_executing": true
    }
   }
  },
  {
   "cell_type": "code",
   "execution_count": null,
   "outputs": [],
   "source": [],
   "metadata": {
    "collapsed": false,
    "pycharm": {
     "name": "#%%\n",
     "is_executing": true
    }
   }
  }
 ],
 "metadata": {
  "kernelspec": {
   "display_name": "Python 3",
   "language": "python",
   "name": "python3"
  },
  "language_info": {
   "codemirror_mode": {
    "name": "ipython",
    "version": 2
   },
   "file_extension": ".py",
   "mimetype": "text/x-python",
   "name": "python",
   "nbconvert_exporter": "python",
   "pygments_lexer": "ipython2",
   "version": "2.7.6"
  }
 },
 "nbformat": 4,
 "nbformat_minor": 0
}