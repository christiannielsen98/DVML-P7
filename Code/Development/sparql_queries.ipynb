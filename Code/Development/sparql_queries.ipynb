{
 "cells": [
  {
   "cell_type": "code",
   "execution_count": 1,
   "metadata": {},
   "outputs": [],
   "source": [
    "from Code.UtilityFunctions.run_query import run_query"
   ]
  },
  {
   "cell_type": "code",
   "execution_count": 2,
   "metadata": {},
   "outputs": [
    {
     "data": {
      "text/html": [
       "<div>\n",
       "<style scoped>\n",
       "    .dataframe tbody tr th:only-of-type {\n",
       "        vertical-align: middle;\n",
       "    }\n",
       "\n",
       "    .dataframe tbody tr th {\n",
       "        vertical-align: top;\n",
       "    }\n",
       "\n",
       "    .dataframe thead th {\n",
       "        text-align: right;\n",
       "    }\n",
       "</style>\n",
       "<table border=\"1\" class=\"dataframe\">\n",
       "  <thead>\n",
       "    <tr style=\"text-align: right;\">\n",
       "      <th></th>\n",
       "      <th>s.value</th>\n",
       "      <th>o.value</th>\n",
       "    </tr>\n",
       "  </thead>\n",
       "  <tbody>\n",
       "    <tr>\n",
       "      <th>0</th>\n",
       "      <td>https://example.org/review_id/-1DvOqVr2_HBUuZKRZCV9g</td>\n",
       "      <td>F3n0sB5Dqn-N2fAA5TgmFQ</td>\n",
       "    </tr>\n",
       "    <tr>\n",
       "      <th>1</th>\n",
       "      <td>https://example.org/review_id/-1JTtFmo0CIqdG2dkOYKVw</td>\n",
       "      <td>y3iKFTk_sgIXCT6fNcBn_Q</td>\n",
       "    </tr>\n",
       "    <tr>\n",
       "      <th>2</th>\n",
       "      <td>https://example.org/review_id/-1V3_r_S0PGIA28r8EDfqg</td>\n",
       "      <td>DsKzHnkLKnxZTVsFpts4oA</td>\n",
       "    </tr>\n",
       "    <tr>\n",
       "      <th>3</th>\n",
       "      <td>https://example.org/review_id/-1Vpb_hfA_0-kuemnMx8LA</td>\n",
       "      <td>j8JOZvfeHEfUWq3gEz6ABQ</td>\n",
       "    </tr>\n",
       "    <tr>\n",
       "      <th>4</th>\n",
       "      <td>https://example.org/review_id/-1jlYT99CT2y2dxXViV8_w</td>\n",
       "      <td>6p07zfmJWvytr0paqpyvbg</td>\n",
       "    </tr>\n",
       "    <tr>\n",
       "      <th>...</th>\n",
       "      <td>...</td>\n",
       "      <td>...</td>\n",
       "    </tr>\n",
       "    <tr>\n",
       "      <th>99995</th>\n",
       "      <td>https://example.org/review_id/Ca7aQICpeZvymuGcg50wJg</td>\n",
       "      <td>w0LzrzBFdRO1atLCyNOplQ</td>\n",
       "    </tr>\n",
       "    <tr>\n",
       "      <th>99996</th>\n",
       "      <td>https://example.org/review_id/CaWaC_uEiyI_Yzea5RQCQg</td>\n",
       "      <td>TDKBPcViJQDMrdUm6a9XZA</td>\n",
       "    </tr>\n",
       "    <tr>\n",
       "      <th>99997</th>\n",
       "      <td>https://example.org/review_id/CaudGRJ8tMRit5KZluBu4g</td>\n",
       "      <td>x2q2snVzsCnAc5RYE1litw</td>\n",
       "    </tr>\n",
       "    <tr>\n",
       "      <th>99998</th>\n",
       "      <td>https://example.org/review_id/Cb5mk-nojCH6VV34fjyDIw</td>\n",
       "      <td>X0yZMHwB1yUyzISAqRyYtQ</td>\n",
       "    </tr>\n",
       "    <tr>\n",
       "      <th>99999</th>\n",
       "      <td>https://example.org/review_id/CcGaOKOQb4w679b110PTkw</td>\n",
       "      <td>IKqsFOXFiY7-QgtJP2PKxg</td>\n",
       "    </tr>\n",
       "  </tbody>\n",
       "</table>\n",
       "<p>100000 rows × 2 columns</p>\n",
       "</div>"
      ],
      "text/plain": [
       "                                                    s.value  \\\n",
       "0      https://example.org/review_id/-1DvOqVr2_HBUuZKRZCV9g   \n",
       "1      https://example.org/review_id/-1JTtFmo0CIqdG2dkOYKVw   \n",
       "2      https://example.org/review_id/-1V3_r_S0PGIA28r8EDfqg   \n",
       "3      https://example.org/review_id/-1Vpb_hfA_0-kuemnMx8LA   \n",
       "4      https://example.org/review_id/-1jlYT99CT2y2dxXViV8_w   \n",
       "...                                                     ...   \n",
       "99995  https://example.org/review_id/Ca7aQICpeZvymuGcg50wJg   \n",
       "99996  https://example.org/review_id/CaWaC_uEiyI_Yzea5RQCQg   \n",
       "99997  https://example.org/review_id/CaudGRJ8tMRit5KZluBu4g   \n",
       "99998  https://example.org/review_id/Cb5mk-nojCH6VV34fjyDIw   \n",
       "99999  https://example.org/review_id/CcGaOKOQb4w679b110PTkw   \n",
       "\n",
       "                      o.value  \n",
       "0      F3n0sB5Dqn-N2fAA5TgmFQ  \n",
       "1      y3iKFTk_sgIXCT6fNcBn_Q  \n",
       "2      DsKzHnkLKnxZTVsFpts4oA  \n",
       "3      j8JOZvfeHEfUWq3gEz6ABQ  \n",
       "4      6p07zfmJWvytr0paqpyvbg  \n",
       "...                       ...  \n",
       "99995  w0LzrzBFdRO1atLCyNOplQ  \n",
       "99996  TDKBPcViJQDMrdUm6a9XZA  \n",
       "99997  x2q2snVzsCnAc5RYE1litw  \n",
       "99998  X0yZMHwB1yUyzISAqRyYtQ  \n",
       "99999  IKqsFOXFiY7-QgtJP2PKxg  \n",
       "\n",
       "[100000 rows x 2 columns]"
      ]
     },
     "execution_count": 2,
     "metadata": {},
     "output_type": "execute_result"
    }
   ],
   "source": [
    "query = \"\"\"\n",
    "SELECT ?s ?p ?o\n",
    "WHERE {\n",
    "    ?s rdfs:Class schema:UserReview .\n",
    "    ?s schema:about ?o\n",
    "}\n",
    "\"\"\"\n",
    "\n",
    "run_query(query, as_dataframe=True)"
   ]
  },
  {
   "cell_type": "code",
   "execution_count": null,
   "metadata": {},
   "outputs": [],
   "source": []
  }
 ],
 "metadata": {
  "kernelspec": {
   "display_name": "Python 3.10.6 64-bit",
   "language": "python",
   "name": "python3"
  },
  "language_info": {
   "codemirror_mode": {
    "name": "ipython",
    "version": 3
   },
   "file_extension": ".py",
   "mimetype": "text/x-python",
   "name": "python",
   "nbconvert_exporter": "python",
   "pygments_lexer": "ipython3",
   "version": "3.10.6"
  },
  "orig_nbformat": 4,
  "vscode": {
   "interpreter": {
    "hash": "7e1998ff7f8aa20ada591c520b972326324e5ea05489af9e422744c7c09f6dad"
   }
  }
 },
 "nbformat": 4,
 "nbformat_minor": 2
}
