{
 "cells": [
  {
   "cell_type": "code",
   "execution_count": null,
   "outputs": [],
   "source": [
    "def wikidata_query(sparql_query: str):\n",
    "    # From https://www.wikidata.org/wiki/Wikidata:SPARQL_query_service/queries/examples#Cats\n",
    "    user_agent = \"WDQS-example Python/%s.%s\" % (sys.version_info[0], sys.version_info[1])\n",
    "    sparql = SPARQLWrapper(\"https://query.wikidata.org/sparql\", agent=user_agent)\n",
    "    sparql.setQuery(sparql_query)\n",
    "    sparql.setReturnFormat(JSON)\n",
    "    results = sparql.query().convert()\n",
    "    results_df = pd.json_normalize(results['results']['bindings'])\n",
    "    return results_df"
   ],
   "metadata": {
    "collapsed": false,
    "pycharm": {
     "name": "#%%\n"
    }
   }
  },
  {
   "cell_type": "markdown",
   "source": [
    "# Cities in the USA"
   ],
   "metadata": {
    "collapsed": false
   }
  },
  {
   "cell_type": "code",
   "execution_count": null,
   "outputs": [],
   "source": [
    "# P131 located in the administrative territorial entity\n",
    "# P31 instance of\n",
    "# Q35657 U.S. state\n",
    "\n",
    "query_all_us_cities = \"\"\"\n",
    "SELECT ?city ?state ?population\n",
    "WHERE {\n",
    "    ?city wdt:P131 ?county .\n",
    "    ?county wdt:P131 ?state .\n",
    "    ?state wdt:P31 wd:Q35657 .\n",
    "    ?city wdt:P1082 ?population .\n",
    "}\n",
    "\"\"\"\n",
    "\n",
    "wikidata_query(query_all_us_cities)"
   ],
   "metadata": {
    "collapsed": false,
    "pycharm": {
     "name": "#%%\n"
    }
   }
  },
  {
   "cell_type": "markdown",
   "source": [
    "# States in the USA"
   ],
   "metadata": {
    "collapsed": false
   }
  },
  {
   "cell_type": "code",
   "execution_count": null,
   "outputs": [],
   "source": [
    "# States in US\n",
    "# P31 instance of\n",
    "# Q35657 U.S. state\n",
    "\n",
    "query_all_us_states = \"\"\"\n",
    "SELECT ?state\n",
    "WHERE {\n",
    "  ?state wdt:P31 wd:Q35657 .\n",
    "}\n",
    "\"\"\"\n",
    "\n",
    "wikidata_query(query_all_us_states)"
   ],
   "metadata": {
    "collapsed": false,
    "pycharm": {
     "name": "#%%\n"
    }
   }
  },
  {
   "cell_type": "markdown",
   "source": [
    "# Cities in Canada"
   ],
   "metadata": {
    "collapsed": false
   }
  },
  {
   "cell_type": "code",
   "execution_count": null,
   "outputs": [],
   "source": [
    "# Cities in Canada\n",
    "# P131 located in the administrative territorial entity\n",
    "# P17 country\n",
    "# Q16 Canada\n",
    "\n",
    "query_all_canada_cities = \"\"\"\n",
    "SELECT ?city ?province ?population\n",
    "WHERE {\n",
    "    {\n",
    "        ?city wdt:P131 ?county .\n",
    "        ?county wdt:P131 ?province .\n",
    "        ?province wdt:P31 wd:Q11828004 .\n",
    "    }\n",
    "    UNION\n",
    "    {\n",
    "        ?city wdt:P131 ?province .\n",
    "        ?province wdt:P31 wd:Q11828004 .\n",
    "    }\n",
    "  ?city wdt:P1082 ?population\n",
    "}\n",
    "\"\"\"\n",
    "\n",
    "wikidata_query(query_all_canada_cities)"
   ],
   "metadata": {
    "collapsed": false,
    "pycharm": {
     "name": "#%%\n"
    }
   }
  },
  {
   "cell_type": "markdown",
   "source": [
    "# Provinces of Canada"
   ],
   "metadata": {
    "collapsed": false,
    "pycharm": {
     "name": "#%% md\n"
    }
   }
  },
  {
   "cell_type": "code",
   "execution_count": null,
   "outputs": [],
   "source": [
    "# Provinces of Canada\n",
    "# P17 country\n",
    "# Q11828004 Canada\n",
    "\n",
    "query_all_canada_provinces = \"\"\"\n",
    "SELECT ?province\n",
    "WHERE {\n",
    "  ?province wdt:P31 wd:Q11828004 .\n",
    "}\n",
    "\"\"\"\n",
    "\n",
    "wikidata_query(query_all_canada_provinces)"
   ],
   "metadata": {
    "collapsed": false,
    "pycharm": {
     "name": "#%%\n"
    }
   }
  }
 ],
 "metadata": {
  "kernelspec": {
   "display_name": "Python 3",
   "language": "python",
   "name": "python3"
  },
  "language_info": {
   "codemirror_mode": {
    "name": "ipython",
    "version": 2
   },
   "file_extension": ".py",
   "mimetype": "text/x-python",
   "name": "python",
   "nbconvert_exporter": "python",
   "pygments_lexer": "ipython2",
   "version": "2.7.6"
  }
 },
 "nbformat": 4,
 "nbformat_minor": 0
}