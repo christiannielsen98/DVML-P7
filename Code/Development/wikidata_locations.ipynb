{
 "cells": [
  {
   "cell_type": "code",
   "execution_count": 12,
   "metadata": {},
   "outputs": [],
   "source": [
    "from SPARQLWrapper import SPARQLWrapper, JSON\n",
    "import pandas as pd\n",
    "\n",
    "from Code.UtilityFunctions.get_data_path import get_path"
   ]
  },
  {
   "cell_type": "code",
   "execution_count": 2,
   "metadata": {
    "collapsed": false,
    "pycharm": {
     "name": "#%%\n"
    }
   },
   "outputs": [],
   "source": [
    "def wikidata_query(sparql_query: str):\n",
    "    # From https://www.wikidata.org/wiki/Wikidata:SPARQL_query_service/queries/examples#Cats\n",
    "    user_agent = \"WDQS-example Python/%s.%s\" % (sys.version_info[0], sys.version_info[1])\n",
    "    sparql = SPARQLWrapper(\"https://query.wikidata.org/sparql\", agent=user_agent)\n",
    "    sparql.setQuery(sparql_query)\n",
    "    sparql.setReturnFormat(JSON)\n",
    "    results = sparql.query().convert()\n",
    "    results_df = pd.json_normalize(results['results']['bindings'])\n",
    "    return results_df"
   ]
  },
  {
   "cell_type": "markdown",
   "metadata": {
    "collapsed": false
   },
   "source": [
    "# Cities in the USA"
   ]
  },
  {
   "cell_type": "code",
   "execution_count": 32,
   "metadata": {
    "collapsed": false,
    "pycharm": {
     "name": "#%%\n"
    }
   },
   "outputs": [],
   "source": [
    "# P31 instance of\n",
    "# P131 located in the administrative territorial entity\n",
    "# P279 subclass of\n",
    "# P585 point in time\n",
    "# P1082 population\n",
    "# Q515 city\n",
    "# Q35657 U.S. state\n",
    "\n",
    "query_all_us_cities = \"\"\"\n",
    "SELECT DISTINCT ?city ?cityLabel ?state ?population\n",
    "WHERE {\n",
    "    ?city wdt:P31/wdt:P279* wd:Q515 .\n",
    "    ?city wdt:P131 ?county .\n",
    "    ?county wdt:P131 ?state .\n",
    "    ?state wdt:P31 wd:Q35657 .\n",
    "    ?city p:P1082 ?statement .\n",
    "    ?statement ps:P1082 ?population .\n",
    "    ?statement pq:P585 ?date .\n",
    "    FILTER NOT EXISTS {\n",
    "        ?city p:P1082/pq:P585 ?date2 .\n",
    "        FILTER(?date2 > ?date)\n",
    "    }\n",
    "    SERVICE wikibase:label { bd:serviceParam wikibase:language \"[AUTO_LANGUAGE],en\" . }\n",
    "}\n",
    "\"\"\"\n",
    "\n",
    "result_us_cities = wikidata_query(query_all_us_cities)"
   ]
  },
  {
   "cell_type": "code",
   "execution_count": null,
   "metadata": {},
   "outputs": [],
   "source": [
    "result_us_cities = result_us_cities[[\"city.value\", \"cityLabel.value\", \"state.value\", \"population.value\"]]\n",
    "us_city_renames = {\"city.value\": \"CityCode\", \"cityLabel.value\": \"City\", \"state.value\": \"StateCode\", \"population.value\": \"Population\"}\n",
    "result_us_cities.rename(columns=us_city_renames, inplace=True)"
   ]
  },
  {
   "cell_type": "code",
   "execution_count": null,
   "metadata": {},
   "outputs": [],
   "source": [
    "result_us_cities.to_csv(path_or_buf=get_path(\"usCities.csv\"), index=False)"
   ]
  },
  {
   "cell_type": "markdown",
   "metadata": {
    "collapsed": false
   },
   "source": [
    "# States in the USA"
   ]
  },
  {
   "cell_type": "code",
   "execution_count": 34,
   "metadata": {
    "collapsed": false,
    "pycharm": {
     "name": "#%%\n"
    }
   },
   "outputs": [],
   "source": [
    "# States in US\n",
    "# P31 instance of\n",
    "# Q35657 U.S. state\n",
    "\n",
    "query_all_us_states = \"\"\"\n",
    "SELECT ?state ?stateLabel\n",
    "WHERE {\n",
    "  ?state wdt:P31 wd:Q35657 .\n",
    "  SERVICE wikibase:label { bd:serviceParam wikibase:language \"[AUTO_LANGUAGE],en\" . }\n",
    "}\n",
    "\"\"\"\n",
    "\n",
    "result_us_states = wikidata_query(query_all_us_states)"
   ]
  },
  {
   "cell_type": "code",
   "execution_count": 35,
   "metadata": {},
   "outputs": [],
   "source": [
    "result_us_states = result_us_states[[\"state.value\", \"stateLabel.value\"]]\n",
    "us_state_renames = {\"state.value\": \"StateCode\", \"stateLabel.value\": \"State\"}\n",
    "result_us_states.rename(columns=us_state_renames, inplace=True)"
   ]
  },
  {
   "cell_type": "code",
   "execution_count": 36,
   "metadata": {},
   "outputs": [],
   "source": [
    "result_us_states.to_csv(path_or_buf=get_path(\"usStates.csv\"))"
   ]
  },
  {
   "cell_type": "markdown",
   "metadata": {
    "collapsed": false
   },
   "source": [
    "# Cities in Canada"
   ]
  },
  {
   "cell_type": "code",
   "execution_count": 37,
   "metadata": {
    "collapsed": false,
    "pycharm": {
     "name": "#%%\n"
    }
   },
   "outputs": [],
   "source": [
    "# Cities in Canada\n",
    "# P131 located in the administrative territorial entity\n",
    "# P17 country\n",
    "# Q16 Canada\n",
    "\n",
    "query_all_canada_cities = \"\"\"\n",
    "SELECT ?city ?cityLabel ?province ?population\n",
    "WHERE {\n",
    "    ?city wdt:P31/wdt:P279* wd:Q515 .\n",
    "    {\n",
    "        ?city wdt:P131 ?county .\n",
    "        ?county wdt:P131 ?province .\n",
    "        ?province wdt:P31 wd:Q11828004 .\n",
    "    }\n",
    "    UNION\n",
    "    {\n",
    "        ?city wdt:P131 ?province .\n",
    "        ?province wdt:P31 wd:Q11828004 .\n",
    "    }\n",
    "    ?city p:P1082 ?statement .\n",
    "    ?statement ps:P1082 ?population .\n",
    "    ?statement pq:P585 ?date .\n",
    "    FILTER NOT EXISTS {\n",
    "        ?city p:P1082/pq:P585 ?date2 .\n",
    "        FILTER(?date2 > ?date)\n",
    "    }\n",
    "    SERVICE wikibase:label { bd:serviceParam wikibase:language \"[AUTO_LANGUAGE],en\" . }\n",
    "}\n",
    "\"\"\"\n",
    "\n",
    "result_can_cities = wikidata_query(query_all_canada_cities)"
   ]
  },
  {
   "cell_type": "code",
   "execution_count": 38,
   "metadata": {},
   "outputs": [],
   "source": [
    "result_can_cities = result_can_cities[[\"city.value\", \"cityLabel.value\", \"province.value\", \"population.value\"]]\n",
    "can_city_renames = {\"city.value\": \"CityCode\", \"cityLabel.value\": \"City\", \"province.value\": \"ProvinceCode\", \"population.value\": \"Population\"}\n",
    "result_can_cities.rename(columns=can_city_renames, inplace=True)"
   ]
  },
  {
   "cell_type": "code",
   "execution_count": 39,
   "metadata": {},
   "outputs": [],
   "source": [
    "result_can_cities.to_csv(path_or_buf=get_path(\"canadaCities.csv\"))"
   ]
  },
  {
   "cell_type": "markdown",
   "metadata": {
    "collapsed": false,
    "pycharm": {
     "name": "#%% md\n"
    }
   },
   "source": [
    "# Provinces of Canada"
   ]
  },
  {
   "cell_type": "code",
   "execution_count": 40,
   "metadata": {
    "collapsed": false,
    "pycharm": {
     "name": "#%%\n"
    }
   },
   "outputs": [],
   "source": [
    "# Provinces of Canada\n",
    "# P17 country\n",
    "# Q11828004 Canada\n",
    "\n",
    "query_all_canada_provinces = \"\"\"\n",
    "SELECT ?province ?provinceLabel\n",
    "WHERE {\n",
    "  ?province wdt:P31 wd:Q11828004 .\n",
    "  SERVICE wikibase:label { bd:serviceParam wikibase:language \"[AUTO_LANGUAGE],en\" . }\n",
    "}\n",
    "\"\"\"\n",
    "\n",
    "result_can_provinces = wikidata_query(query_all_canada_provinces)"
   ]
  },
  {
   "cell_type": "code",
   "execution_count": 41,
   "metadata": {},
   "outputs": [],
   "source": [
    "result_can_provinces = result_can_provinces[[\"province.value\", \"provinceLabel.value\"]]\n",
    "can_province_renames = {\"province.value\": \"ProvinceCode\", \"provinceLabel.value\": \"Province\"}"
   ]
  },
  {
   "cell_type": "code",
   "execution_count": 42,
   "metadata": {},
   "outputs": [],
   "source": [
    "result_can_provinces.to_csv(path_or_buf=get_path(\"canadaProvinces.csv\"))"
   ]
  },
  {
   "cell_type": "code",
   "execution_count": null,
   "metadata": {},
   "outputs": [],
   "source": []
  }
 ],
 "metadata": {
  "kernelspec": {
   "display_name": "Python 3.11.0 64-bit",
   "language": "python",
   "name": "python3"
  },
  "language_info": {
   "codemirror_mode": {
    "name": "ipython",
    "version": 3
   },
   "file_extension": ".py",
   "mimetype": "text/x-python",
   "name": "python",
   "nbconvert_exporter": "python",
   "pygments_lexer": "ipython3",
   "version": "3.11.0"
  },
  "vscode": {
   "interpreter": {
    "hash": "be8902ab7f5be5b46344a1d32ed6f16ef4c7819a4242d8781571d048fd7d2288"
   }
  }
 },
 "nbformat": 4,
 "nbformat_minor": 0
}
