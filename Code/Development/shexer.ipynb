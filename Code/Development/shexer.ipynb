{
 "cells": [
  {
   "cell_type": "code",
   "execution_count": 1,
   "metadata": {},
   "outputs": [
    {
     "ename": "MemoryError",
     "evalue": "",
     "output_type": "error",
     "traceback": [
      "\u001B[1;31m---------------------------------------------------------------------------\u001B[0m",
      "\u001B[1;31mMemoryError\u001B[0m                               Traceback (most recent call last)",
      "Cell \u001B[1;32mIn [1], line 20\u001B[0m\n\u001B[0;32m     12\u001B[0m shaper \u001B[38;5;241m=\u001B[39m Shaper(target_classes\u001B[38;5;241m=\u001B[39mtarget_classes,\n\u001B[0;32m     13\u001B[0m                 graph_file_input\u001B[38;5;241m=\u001B[39minput_nt_file,\n\u001B[0;32m     14\u001B[0m                 input_format\u001B[38;5;241m=\u001B[39mNT,\n\u001B[0;32m     15\u001B[0m                 namespaces_dict\u001B[38;5;241m=\u001B[39mnamespaces_dict,  \u001B[38;5;66;03m# Default: no prefixes\u001B[39;00m\n\u001B[0;32m     16\u001B[0m                 instantiation_property\u001B[38;5;241m=\u001B[39m\u001B[38;5;124m\"\u001B[39m\u001B[38;5;124mhttp://www.w3.org/1999/02/22-rdf-syntax-ns#type\u001B[39m\u001B[38;5;124m\"\u001B[39m)  \u001B[38;5;66;03m# Default rdf:type\u001B[39;00m\n\u001B[0;32m     18\u001B[0m output_file \u001B[38;5;241m=\u001B[39m \u001B[38;5;124m\"\u001B[39m\u001B[38;5;124mshaper_example.ttl\u001B[39m\u001B[38;5;124m\"\u001B[39m\n\u001B[1;32m---> 20\u001B[0m \u001B[43mshaper\u001B[49m\u001B[38;5;241;43m.\u001B[39;49m\u001B[43mshex_graph\u001B[49m\u001B[43m(\u001B[49m\u001B[43moutput_file\u001B[49m\u001B[38;5;241;43m=\u001B[39;49m\u001B[43moutput_file\u001B[49m\u001B[43m,\u001B[49m\n\u001B[0;32m     21\u001B[0m \u001B[43m                  \u001B[49m\u001B[43macceptance_threshold\u001B[49m\u001B[38;5;241;43m=\u001B[39;49m\u001B[38;5;241;43m0.5\u001B[39;49m\u001B[43m,\u001B[49m\n\u001B[0;32m     22\u001B[0m \u001B[43m                  \u001B[49m\u001B[43moutput_format\u001B[49m\u001B[38;5;241;43m=\u001B[39;49m\u001B[43mSHACL_TURTLE\u001B[49m\u001B[43m)\u001B[49m\n\u001B[0;32m     24\u001B[0m \u001B[38;5;28mprint\u001B[39m(\u001B[38;5;124m\"\u001B[39m\u001B[38;5;124mDone!\u001B[39m\u001B[38;5;124m\"\u001B[39m)\n",
      "File \u001B[1;32mc:\\users\\magnu\\github\\dvml-p7\\venv\\lib\\site-packages\\shexer\\shaper.py:201\u001B[0m, in \u001B[0;36mShaper.shex_graph\u001B[1;34m(self, string_output, output_file, output_format, acceptance_threshold, verbose)\u001B[0m\n\u001B[0;32m    199\u001B[0m \u001B[38;5;28mself\u001B[39m\u001B[38;5;241m.\u001B[39m_check_aceptance_threshold(acceptance_threshold)\n\u001B[0;32m    200\u001B[0m \u001B[38;5;28;01mif\u001B[39;00m \u001B[38;5;28mself\u001B[39m\u001B[38;5;241m.\u001B[39m_target_classes_dict \u001B[38;5;129;01mis\u001B[39;00m \u001B[38;5;28;01mNone\u001B[39;00m:\n\u001B[1;32m--> 201\u001B[0m     \u001B[38;5;28;43mself\u001B[39;49m\u001B[38;5;241;43m.\u001B[39;49m\u001B[43m_launch_instance_tracker\u001B[49m\u001B[43m(\u001B[49m\u001B[43mverbose\u001B[49m\u001B[38;5;241;43m=\u001B[39;49m\u001B[43mverbose\u001B[49m\u001B[43m)\u001B[49m\n\u001B[0;32m    202\u001B[0m \u001B[38;5;28;01mif\u001B[39;00m \u001B[38;5;28mself\u001B[39m\u001B[38;5;241m.\u001B[39m_profile \u001B[38;5;129;01mis\u001B[39;00m \u001B[38;5;28;01mNone\u001B[39;00m:\n\u001B[0;32m    203\u001B[0m     \u001B[38;5;28mself\u001B[39m\u001B[38;5;241m.\u001B[39m_launch_class_profiler(verbose\u001B[38;5;241m=\u001B[39mverbose)\n",
      "File \u001B[1;32mc:\\users\\magnu\\github\\dvml-p7\\venv\\lib\\site-packages\\shexer\\shaper.py:233\u001B[0m, in \u001B[0;36mShaper._launch_instance_tracker\u001B[1;34m(self, verbose)\u001B[0m\n\u001B[0;32m    231\u001B[0m \u001B[38;5;28;01mif\u001B[39;00m \u001B[38;5;28mself\u001B[39m\u001B[38;5;241m.\u001B[39m_instance_tracker \u001B[38;5;129;01mis\u001B[39;00m \u001B[38;5;28;01mNone\u001B[39;00m:\n\u001B[0;32m    232\u001B[0m     \u001B[38;5;28mself\u001B[39m\u001B[38;5;241m.\u001B[39m_instance_tracker \u001B[38;5;241m=\u001B[39m \u001B[38;5;28mself\u001B[39m\u001B[38;5;241m.\u001B[39m_build_instance_tracker()\n\u001B[1;32m--> 233\u001B[0m \u001B[38;5;28mself\u001B[39m\u001B[38;5;241m.\u001B[39m_target_classes_dict \u001B[38;5;241m=\u001B[39m \u001B[38;5;28;43mself\u001B[39;49m\u001B[38;5;241;43m.\u001B[39;49m\u001B[43m_instance_tracker\u001B[49m\u001B[38;5;241;43m.\u001B[39;49m\u001B[43mtrack_instances\u001B[49m\u001B[43m(\u001B[49m\u001B[43mverbose\u001B[49m\u001B[38;5;241;43m=\u001B[39;49m\u001B[43mverbose\u001B[49m\u001B[43m)\u001B[49m\n",
      "File \u001B[1;32mc:\\users\\magnu\\github\\dvml-p7\\venv\\lib\\site-packages\\shexer\\core\\instances\\instance_tracker.py:59\u001B[0m, in \u001B[0;36mInstanceTracker.track_instances\u001B[1;34m(self, verbose)\u001B[0m\n\u001B[0;32m     56\u001B[0m log_msg(verbose\u001B[38;5;241m=\u001B[39mverbose,\n\u001B[0;32m     57\u001B[0m         msg\u001B[38;5;241m=\u001B[39m\u001B[38;5;124m\"\u001B[39m\u001B[38;5;124mStarting instance tracker...\u001B[39m\u001B[38;5;124m\"\u001B[39m)\n\u001B[0;32m     58\u001B[0m \u001B[38;5;28mself\u001B[39m\u001B[38;5;241m.\u001B[39m_reset_count()\n\u001B[1;32m---> 59\u001B[0m \u001B[38;5;28;01mfor\u001B[39;00m a_revelant_triple \u001B[38;5;129;01min\u001B[39;00m \u001B[38;5;28mself\u001B[39m\u001B[38;5;241m.\u001B[39m_yield_relevant_triples():\n\u001B[0;32m     60\u001B[0m     \u001B[38;5;28mself\u001B[39m\u001B[38;5;241m.\u001B[39m_annotator\u001B[38;5;241m.\u001B[39mannotate_triple(a_revelant_triple)\n\u001B[0;32m     61\u001B[0m \u001B[38;5;28mself\u001B[39m\u001B[38;5;241m.\u001B[39m_annotator\u001B[38;5;241m.\u001B[39mannotation_post_parsing()\n",
      "File \u001B[1;32mc:\\users\\magnu\\github\\dvml-p7\\venv\\lib\\site-packages\\shexer\\core\\instances\\instance_tracker.py:67\u001B[0m, in \u001B[0;36mInstanceTracker._yield_relevant_triples\u001B[1;34m(self)\u001B[0m\n\u001B[0;32m     66\u001B[0m \u001B[38;5;28;01mdef\u001B[39;00m \u001B[38;5;21m_yield_relevant_triples\u001B[39m(\u001B[38;5;28mself\u001B[39m):\n\u001B[1;32m---> 67\u001B[0m     \u001B[38;5;28;01mfor\u001B[39;00m a_triple \u001B[38;5;129;01min\u001B[39;00m \u001B[38;5;28mself\u001B[39m\u001B[38;5;241m.\u001B[39m_triples_yielder\u001B[38;5;241m.\u001B[39myield_triples():\n\u001B[0;32m     68\u001B[0m         \u001B[38;5;28;01mif\u001B[39;00m \u001B[38;5;28mself\u001B[39m\u001B[38;5;241m.\u001B[39m_annotator\u001B[38;5;241m.\u001B[39mis_relevant_triple(a_triple):\n\u001B[0;32m     69\u001B[0m             \u001B[38;5;28mself\u001B[39m\u001B[38;5;241m.\u001B[39m_relevant_triples \u001B[38;5;241m+\u001B[39m\u001B[38;5;241m=\u001B[39m \u001B[38;5;241m1\u001B[39m\n",
      "File \u001B[1;32mc:\\users\\magnu\\github\\dvml-p7\\venv\\lib\\site-packages\\shexer\\io\\graph\\yielder\\nt_triples_yielder.py:29\u001B[0m, in \u001B[0;36mNtTriplesYielder.yield_triples\u001B[1;34m(self)\u001B[0m\n\u001B[0;32m     27\u001B[0m \u001B[38;5;28mself\u001B[39m\u001B[38;5;241m.\u001B[39m_reset_count()\n\u001B[0;32m     28\u001B[0m \u001B[38;5;28;01mfor\u001B[39;00m a_line \u001B[38;5;129;01min\u001B[39;00m \u001B[38;5;28mself\u001B[39m\u001B[38;5;241m.\u001B[39m_line_reader\u001B[38;5;241m.\u001B[39mread_lines():\n\u001B[1;32m---> 29\u001B[0m     tokens \u001B[38;5;241m=\u001B[39m \u001B[38;5;28;43mself\u001B[39;49m\u001B[38;5;241;43m.\u001B[39;49m\u001B[43m_look_for_tokens\u001B[49m\u001B[43m(\u001B[49m\u001B[43ma_line\u001B[49m\u001B[38;5;241;43m.\u001B[39;49m\u001B[43mstrip\u001B[49m\u001B[43m(\u001B[49m\u001B[43m)\u001B[49m\u001B[43m)\u001B[49m\n\u001B[0;32m     30\u001B[0m     \u001B[38;5;28;01mif\u001B[39;00m \u001B[38;5;28mlen\u001B[39m(tokens) \u001B[38;5;241m!=\u001B[39m \u001B[38;5;241m3\u001B[39m:\n\u001B[0;32m     31\u001B[0m         \u001B[38;5;28mself\u001B[39m\u001B[38;5;241m.\u001B[39m_error_triples \u001B[38;5;241m+\u001B[39m\u001B[38;5;241m=\u001B[39m \u001B[38;5;241m1\u001B[39m\n",
      "File \u001B[1;32mc:\\users\\magnu\\github\\dvml-p7\\venv\\lib\\site-packages\\shexer\\io\\graph\\yielder\\nt_triples_yielder.py:55\u001B[0m, in \u001B[0;36mNtTriplesYielder._look_for_tokens\u001B[1;34m(self, str_line)\u001B[0m\n\u001B[0;32m     53\u001B[0m \u001B[38;5;28;01melif\u001B[39;00m str_line[current_first_index] \u001B[38;5;241m==\u001B[39m \u001B[38;5;124m'\u001B[39m\u001B[38;5;124m_\u001B[39m\u001B[38;5;124m'\u001B[39m:\n\u001B[0;32m     54\u001B[0m     last_index \u001B[38;5;241m=\u001B[39m \u001B[38;5;28mself\u001B[39m\u001B[38;5;241m.\u001B[39m_look_for_last_index_of_bnode_token(str_line, current_first_index)\n\u001B[1;32m---> 55\u001B[0m     \u001B[43mresult\u001B[49m\u001B[38;5;241;43m.\u001B[39;49m\u001B[43mappend\u001B[49m\u001B[43m(\u001B[49m\u001B[43mstr_line\u001B[49m\u001B[43m[\u001B[49m\u001B[43mcurrent_first_index\u001B[49m\u001B[43m:\u001B[49m\u001B[43mlast_index\u001B[49m\u001B[43m \u001B[49m\u001B[38;5;241;43m+\u001B[39;49m\u001B[43m \u001B[49m\u001B[38;5;241;43m1\u001B[39;49m\u001B[43m]\u001B[49m\u001B[43m)\u001B[49m\n\u001B[0;32m     56\u001B[0m     current_first_index \u001B[38;5;241m=\u001B[39m last_index \u001B[38;5;241m+\u001B[39m \u001B[38;5;241m1\u001B[39m\n\u001B[0;32m     57\u001B[0m \u001B[38;5;28;01melif\u001B[39;00m str_line[current_first_index] \u001B[38;5;241m==\u001B[39m \u001B[38;5;124m'\u001B[39m\u001B[38;5;124m.\u001B[39m\u001B[38;5;124m'\u001B[39m:\n",
      "\u001B[1;31mMemoryError\u001B[0m: "
     ]
    }
   ],
   "source": [
    "from shexer.shaper import Shaper\n",
    "from shexer.consts import NT, SHACL_TURTLE\n",
    "\n",
    "target_classes = [\n",
    "    \"https://schema.org/Restaurant\"\n",
    "]\n",
    "\n",
    "namespaces_dict = {\"https://example.org/\": \"ex\"}\n",
    "\n",
    "input_nt_file = \"C:/Users/magnu/Aalborg Universitet/Christian Fillip Pinderup Nielsen - DVML P7/Data/yelp_business.nt.gz\"\n",
    "\n",
    "shaper = Shaper(target_classes=target_classes,\n",
    "                graph_file_input=input_nt_file,\n",
    "                input_format=NT,\n",
    "                namespaces_dict=namespaces_dict,  # Default: no prefixes\n",
    "                instantiation_property=\"http://www.w3.org/1999/02/22-rdf-syntax-ns#type\")  # Default rdf:type\n",
    "\n",
    "output_file = \"shaper_example.ttl\"\n",
    "\n",
    "shaper.shex_graph(output_file=output_file,\n",
    "                  acceptance_threshold=0.5,\n",
    "                  output_format=SHACL_TURTLE)\n",
    "\n",
    "print(\"Done!\")\n"
   ]
  },
  {
   "cell_type": "code",
   "execution_count": null,
   "metadata": {},
   "outputs": [],
   "source": []
  }
 ],
 "metadata": {
  "kernelspec": {
   "display_name": "Python 3.10.6 64-bit",
   "language": "python",
   "name": "python3"
  },
  "language_info": {
   "codemirror_mode": {
    "name": "ipython",
    "version": 3
   },
   "file_extension": ".py",
   "mimetype": "text/x-python",
   "name": "python",
   "nbconvert_exporter": "python",
   "pygments_lexer": "ipython3",
   "version": "3.10.6"
  },
  "orig_nbformat": 4,
  "vscode": {
   "interpreter": {
    "hash": "7e1998ff7f8aa20ada591c520b972326324e5ea05489af9e422744c7c09f6dad"
   }
  }
 },
 "nbformat": 4,
 "nbformat_minor": 2
}