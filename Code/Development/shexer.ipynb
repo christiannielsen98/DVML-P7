{
 "cells": [
  {
   "cell_type": "code",
   "execution_count": 1,
   "metadata": {},
   "outputs": [
    {
     "ename": "KeyboardInterrupt",
     "evalue": "",
     "output_type": "error",
     "traceback": [
      "\u001b[0;31m---------------------------------------------------------------------------\u001b[0m",
      "\u001b[0;31mKeyboardInterrupt\u001b[0m                         Traceback (most recent call last)",
      "Cell \u001b[0;32mIn [1], line 20\u001b[0m\n\u001b[1;32m     12\u001b[0m shaper \u001b[39m=\u001b[39m Shaper(target_classes\u001b[39m=\u001b[39mtarget_classes,\n\u001b[1;32m     13\u001b[0m                 graph_file_input\u001b[39m=\u001b[39minput_nt_file,\n\u001b[1;32m     14\u001b[0m                 input_format\u001b[39m=\u001b[39mNT,\n\u001b[1;32m     15\u001b[0m                 namespaces_dict\u001b[39m=\u001b[39mnamespaces_dict,  \u001b[39m# Default: no prefixes\u001b[39;00m\n\u001b[1;32m     16\u001b[0m                 instantiation_property\u001b[39m=\u001b[39m\u001b[39m\"\u001b[39m\u001b[39mhttp://www.w3.org/1999/02/22-rdf-syntax-ns#type\u001b[39m\u001b[39m\"\u001b[39m)  \u001b[39m# Default rdf:type\u001b[39;00m\n\u001b[1;32m     18\u001b[0m output_file \u001b[39m=\u001b[39m \u001b[39m\"\u001b[39m\u001b[39mshaper_example.ttl\u001b[39m\u001b[39m\"\u001b[39m\n\u001b[0;32m---> 20\u001b[0m shaper\u001b[39m.\u001b[39;49mshex_graph(output_file\u001b[39m=\u001b[39;49moutput_file,\n\u001b[1;32m     21\u001b[0m                   acceptance_threshold\u001b[39m=\u001b[39;49m\u001b[39m0.5\u001b[39;49m,\n\u001b[1;32m     22\u001b[0m                   output_format\u001b[39m=\u001b[39;49mSHACL_TURTLE)\n\u001b[1;32m     24\u001b[0m \u001b[39mprint\u001b[39m(\u001b[39m\"\u001b[39m\u001b[39mDone!\u001b[39m\u001b[39m\"\u001b[39m)\n",
      "File \u001b[0;32m~/.local/lib/python3.10/site-packages/shexer/shaper.py:203\u001b[0m, in \u001b[0;36mShaper.shex_graph\u001b[0;34m(self, string_output, output_file, output_format, acceptance_threshold, verbose)\u001b[0m\n\u001b[1;32m    201\u001b[0m     \u001b[39mself\u001b[39m\u001b[39m.\u001b[39m_launch_instance_tracker(verbose\u001b[39m=\u001b[39mverbose)\n\u001b[1;32m    202\u001b[0m \u001b[39mif\u001b[39;00m \u001b[39mself\u001b[39m\u001b[39m.\u001b[39m_profile \u001b[39mis\u001b[39;00m \u001b[39mNone\u001b[39;00m:\n\u001b[0;32m--> 203\u001b[0m     \u001b[39mself\u001b[39;49m\u001b[39m.\u001b[39;49m_launch_class_profiler(verbose\u001b[39m=\u001b[39;49mverbose)\n\u001b[1;32m    204\u001b[0m \u001b[39mif\u001b[39;00m \u001b[39mself\u001b[39m\u001b[39m.\u001b[39m_shape_list \u001b[39mis\u001b[39;00m \u001b[39mNone\u001b[39;00m:\n\u001b[1;32m    205\u001b[0m     \u001b[39mself\u001b[39m\u001b[39m.\u001b[39m_launch_class_shexer(acceptance_threshold\u001b[39m=\u001b[39macceptance_threshold,\n\u001b[1;32m    206\u001b[0m                               verbose\u001b[39m=\u001b[39mverbose)\n",
      "File \u001b[0;32m~/.local/lib/python3.10/site-packages/shexer/shaper.py:222\u001b[0m, in \u001b[0;36mShaper._launch_class_profiler\u001b[0;34m(self, verbose)\u001b[0m\n\u001b[1;32m    220\u001b[0m \u001b[39mif\u001b[39;00m \u001b[39mself\u001b[39m\u001b[39m.\u001b[39m_class_profiler \u001b[39mis\u001b[39;00m \u001b[39mNone\u001b[39;00m:\n\u001b[1;32m    221\u001b[0m     \u001b[39mself\u001b[39m\u001b[39m.\u001b[39m_class_profiler \u001b[39m=\u001b[39m \u001b[39mself\u001b[39m\u001b[39m.\u001b[39m_build_class_profiler()\n\u001b[0;32m--> 222\u001b[0m \u001b[39mself\u001b[39m\u001b[39m.\u001b[39m_profile, \u001b[39mself\u001b[39m\u001b[39m.\u001b[39m_class_counts \u001b[39m=\u001b[39m \u001b[39mself\u001b[39;49m\u001b[39m.\u001b[39;49m_class_profiler\u001b[39m.\u001b[39;49mprofile_classes(verbose\u001b[39m=\u001b[39;49mverbose)\n",
      "File \u001b[0;32m~/.local/lib/python3.10/site-packages/shexer/core/profiling/class_profiler.py:45\u001b[0m, in \u001b[0;36mClassProfiler.profile_classes\u001b[0;34m(self, verbose)\u001b[0m\n\u001b[1;32m     42\u001b[0m log_msg(verbose\u001b[39m=\u001b[39mverbose,\n\u001b[1;32m     43\u001b[0m         msg\u001b[39m=\u001b[39m\u001b[39m\"\u001b[39m\u001b[39mInstance counts completed. Annotating instance features...\u001b[39m\u001b[39m\"\u001b[39m)\n\u001b[1;32m     44\u001b[0m \u001b[39mself\u001b[39m\u001b[39m.\u001b[39m_adapt_instances_dict()\n\u001b[0;32m---> 45\u001b[0m \u001b[39mself\u001b[39;49m\u001b[39m.\u001b[39;49m_build_shape_of_instances()\n\u001b[1;32m     46\u001b[0m log_msg(verbose\u001b[39m=\u001b[39mverbose,\n\u001b[1;32m     47\u001b[0m         msg\u001b[39m=\u001b[39m\u001b[39m\"\u001b[39m\u001b[39mInstance features annotated. Number of relevant triples computed: \u001b[39m\u001b[39m{}\u001b[39;00m\u001b[39m. \u001b[39m\u001b[39m\"\u001b[39m\n\u001b[1;32m     48\u001b[0m             \u001b[39m\"\u001b[39m\u001b[39mBuilding shape profiles...\u001b[39m\u001b[39m\"\u001b[39m\u001b[39m.\u001b[39mformat(\u001b[39mself\u001b[39m\u001b[39m.\u001b[39m_relevant_triples))\n\u001b[1;32m     50\u001b[0m \u001b[39mself\u001b[39m\u001b[39m.\u001b[39m_build_class_profile()\n",
      "File \u001b[0;32m~/.local/lib/python3.10/site-packages/shexer/core/profiling/class_profiler.py:129\u001b[0m, in \u001b[0;36mClassProfiler._build_shape_of_instances\u001b[0;34m(self)\u001b[0m\n\u001b[1;32m    128\u001b[0m \u001b[39mdef\u001b[39;00m \u001b[39m_build_shape_of_instances\u001b[39m(\u001b[39mself\u001b[39m):\n\u001b[0;32m--> 129\u001b[0m     \u001b[39mfor\u001b[39;00m a_triple \u001b[39min\u001b[39;00m \u001b[39mself\u001b[39m\u001b[39m.\u001b[39m_yield_relevant_triples():\n\u001b[1;32m    130\u001b[0m         \u001b[39mself\u001b[39m\u001b[39m.\u001b[39m_relevant_triples \u001b[39m+\u001b[39m\u001b[39m=\u001b[39m \u001b[39m1\u001b[39m\n\u001b[1;32m    131\u001b[0m         \u001b[39mself\u001b[39m\u001b[39m.\u001b[39m_annotate_feature_of_target_instance(a_triple)\n",
      "File \u001b[0;32m~/.local/lib/python3.10/site-packages/shexer/core/profiling/class_profiler.py:144\u001b[0m, in \u001b[0;36mClassProfiler._yield_relevant_triples\u001b[0;34m(self)\u001b[0m\n\u001b[1;32m    143\u001b[0m \u001b[39mdef\u001b[39;00m \u001b[39m_yield_relevant_triples\u001b[39m(\u001b[39mself\u001b[39m):\n\u001b[0;32m--> 144\u001b[0m     \u001b[39mfor\u001b[39;00m a_triple \u001b[39min\u001b[39;00m \u001b[39mself\u001b[39m\u001b[39m.\u001b[39m_triples_yielder\u001b[39m.\u001b[39myield_triples():\n\u001b[1;32m    145\u001b[0m         \u001b[39mif\u001b[39;00m \u001b[39mself\u001b[39m\u001b[39m.\u001b[39m_strategy\u001b[39m.\u001b[39mis_a_relevant_triple(a_triple):\n\u001b[1;32m    146\u001b[0m             \u001b[39myield\u001b[39;00m a_triple\n",
      "File \u001b[0;32m~/.local/lib/python3.10/site-packages/shexer/io/graph/yielder/nt_triples_yielder.py:36\u001b[0m, in \u001b[0;36mNtTriplesYielder.yield_triples\u001b[0;34m(self)\u001b[0m\n\u001b[1;32m     32\u001b[0m     log_to_error(msg\u001b[39m=\u001b[39m\u001b[39m\"\u001b[39m\u001b[39mThis line was discarded: \u001b[39m\u001b[39m\"\u001b[39m \u001b[39m+\u001b[39m a_line,\n\u001b[1;32m     33\u001b[0m                  source\u001b[39m=\u001b[39m\u001b[39mself\u001b[39m\u001b[39m.\u001b[39m_source_file)\n\u001b[1;32m     34\u001b[0m \u001b[39melse\u001b[39;00m:\n\u001b[1;32m     35\u001b[0m     \u001b[39myield\u001b[39;00m (tune_token(a_token\u001b[39m=\u001b[39mtokens[\u001b[39m0\u001b[39m]),\n\u001b[0;32m---> 36\u001b[0m            tune_prop(a_token\u001b[39m=\u001b[39;49mtokens[\u001b[39m1\u001b[39;49m]),\n\u001b[1;32m     37\u001b[0m            tune_token(a_token\u001b[39m=\u001b[39mtokens[\u001b[39m2\u001b[39m],\n\u001b[1;32m     38\u001b[0m                       allow_untyped_numbers\u001b[39m=\u001b[39m\u001b[39mself\u001b[39m\u001b[39m.\u001b[39m_allow_untyped_numbers))\n\u001b[1;32m     39\u001b[0m     \u001b[39mself\u001b[39m\u001b[39m.\u001b[39m_triples_count \u001b[39m+\u001b[39m\u001b[39m=\u001b[39m \u001b[39m1\u001b[39m\n",
      "File \u001b[0;32m~/.local/lib/python3.10/site-packages/shexer/utils/triple_yielders.py:75\u001b[0m, in \u001b[0;36mtune_prop\u001b[0;34m(a_token, raise_error_if_no_corners)\u001b[0m\n\u001b[1;32m     74\u001b[0m \u001b[39mdef\u001b[39;00m \u001b[39mtune_prop\u001b[39m(a_token, raise_error_if_no_corners\u001b[39m=\u001b[39m\u001b[39mTrue\u001b[39;00m):\n\u001b[0;32m---> 75\u001b[0m     \u001b[39mreturn\u001b[39;00m Property(remove_corners(a_uri\u001b[39m=\u001b[39;49ma_token,\n\u001b[1;32m     76\u001b[0m                                    raise_error_if_no_corners\u001b[39m=\u001b[39;49mraise_error_if_no_corners))\n",
      "File \u001b[0;32m~/.local/lib/python3.10/site-packages/shexer/utils/uri.py:26\u001b[0m, in \u001b[0;36mremove_corners\u001b[0;34m(a_uri, raise_error_if_no_corners)\u001b[0m\n\u001b[1;32m     25\u001b[0m \u001b[39mdef\u001b[39;00m \u001b[39mremove_corners\u001b[39m(a_uri, raise_error_if_no_corners\u001b[39m=\u001b[39m\u001b[39mTrue\u001b[39;00m):\n\u001b[0;32m---> 26\u001b[0m     \u001b[39mif\u001b[39;00m a_uri\u001b[39m.\u001b[39;49mstartswith(\u001b[39m\"\u001b[39;49m\u001b[39m<\u001b[39;49m\u001b[39m\"\u001b[39;49m) \u001b[39mand\u001b[39;00m a_uri\u001b[39m.\u001b[39mendswith(\u001b[39m\"\u001b[39m\u001b[39m>\u001b[39m\u001b[39m\"\u001b[39m):\n\u001b[1;32m     27\u001b[0m         \u001b[39mreturn\u001b[39;00m a_uri[\u001b[39m1\u001b[39m:\u001b[39m-\u001b[39m\u001b[39m1\u001b[39m]\n\u001b[1;32m     28\u001b[0m     \u001b[39mif\u001b[39;00m raise_error_if_no_corners:\n",
      "\u001b[0;31mKeyboardInterrupt\u001b[0m: "
     ]
    }
   ],
   "source": [
    "from shexer.shaper import Shaper\n",
    "from shexer.consts import NT, SHACL_TURTLE\n",
    "\n",
    "target_classes = [\n",
    "    \"https://schema.org/Restaurant\"\n",
    "]\n",
    "\n",
    "namespaces_dict = {\"https://example.org/\": \"ex\"}\n",
    "\n",
    "input_nt_file = \"/home/ubuntu/vol1/virtuoso/import/yelp_business.nt\"\n",
    "\n",
    "shaper = Shaper(target_classes=target_classes,\n",
    "                graph_file_input=input_nt_file,\n",
    "                input_format=NT,\n",
    "                namespaces_dict=namespaces_dict,  # Default: no prefixes\n",
    "                instantiation_property=\"http://www.w3.org/1999/02/22-rdf-syntax-ns#type\")  # Default rdf:type\n",
    "\n",
    "output_file = \"shaper_example.ttl\"\n",
    "\n",
    "shaper.shex_graph(output_file=output_file,\n",
    "                  acceptance_threshold=0.5,\n",
    "                  output_format=SHACL_TURTLE)\n",
    "\n",
    "print(\"Done!\")\n"
   ]
  },
  {
   "cell_type": "code",
   "execution_count": null,
   "metadata": {},
   "outputs": [],
   "source": []
  }
 ],
 "metadata": {
  "kernelspec": {
   "display_name": "Python 3.10.6 64-bit",
   "language": "python",
   "name": "python3"
  },
  "language_info": {
   "codemirror_mode": {
    "name": "ipython",
    "version": 3
   },
   "file_extension": ".py",
   "mimetype": "text/x-python",
   "name": "python",
   "nbconvert_exporter": "python",
   "pygments_lexer": "ipython3",
   "version": "3.10.6"
  },
  "orig_nbformat": 4,
  "vscode": {
   "interpreter": {
    "hash": "7e1998ff7f8aa20ada591c520b972326324e5ea05489af9e422744c7c09f6dad"
   }
  }
 },
 "nbformat": 4,
 "nbformat_minor": 2
}
