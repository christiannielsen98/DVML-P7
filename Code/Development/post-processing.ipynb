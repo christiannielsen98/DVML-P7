{
 "cells": [
  {
   "cell_type": "code",
   "execution_count": 6,
   "metadata": {
    "collapsed": true
   },
   "outputs": [],
   "source": [
    "prefix = []\n",
    "start_of_file = True\n",
    "\n",
    "with open(\"yelp_academic_dataset_review.ttl\", \"r\") as input_file:\n",
    "    with open(\"output.ttl\", \"w\") as output_file:\n",
    "        for line in input_file:\n",
    "            if start_of_file and line.startswith(\"@prefix\"):\n",
    "                prefix.append(line)\n",
    "                # output_file.write(line)\n",
    "            elif not start_of_file and line.startswith(\"@prefix\"):\n",
    "                ...\n",
    "            else:\n",
    "                start_of_file = False\n",
    "                line = line.replace(\"%3F\", \"?\").replace(\"%3D\", \"=\") # Replace\n",
    "                output_file.write(line)"
   ]
  },
  {
   "cell_type": "code",
   "execution_count": null,
   "outputs": [],
   "source": [],
   "metadata": {
    "collapsed": false,
    "pycharm": {
     "name": "#%%\n"
    }
   }
  }
 ],
 "metadata": {
  "kernelspec": {
   "display_name": "Python 3",
   "language": "python",
   "name": "python3"
  },
  "language_info": {
   "codemirror_mode": {
    "name": "ipython",
    "version": 2
   },
   "file_extension": ".py",
   "mimetype": "text/x-python",
   "name": "python",
   "nbconvert_exporter": "python",
   "pygments_lexer": "ipython2",
   "version": "2.7.6"
  }
 },
 "nbformat": 4,
 "nbformat_minor": 0
}