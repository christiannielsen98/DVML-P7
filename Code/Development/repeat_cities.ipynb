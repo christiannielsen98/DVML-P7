{
 "cells": [
  {
   "cell_type": "code",
   "execution_count": 2,
   "metadata": {},
   "outputs": [],
   "source": [
    "import pandas as pd\n",
    "\n",
    "from Code.UtilityFunctions.get_data_path import get_path"
   ]
  },
  {
   "cell_type": "code",
   "execution_count": 30,
   "metadata": {},
   "outputs": [],
   "source": [
    "# Read in the business data\n",
    "business_file = \"yelp_academic_dataset_business.json\"\n",
    "businesses = pd.read_json(path_or_buf=get_path(business_file), lines=True)"
   ]
  },
  {
   "cell_type": "code",
   "execution_count": 31,
   "metadata": {},
   "outputs": [],
   "source": [
    "businesses['city'] = businesses['city'].str.replace(\",\", \"\")\n",
    "pd.DataFrame(businesses[\"city\"].value_counts().sort_index()).to_csv(\"test_cities.csv\")"
   ]
  },
  {
   "cell_type": "markdown",
   "metadata": {},
   "source": [
    "### Turn the locations unique"
   ]
  },
  {
   "cell_type": "code",
   "execution_count": 48,
   "metadata": {},
   "outputs": [
    {
     "data": {
      "text/plain": [
       "city       180\n",
       "county     235\n",
       "state      239\n",
       "country    239\n",
       "dtype: int64"
      ]
     },
     "execution_count": 48,
     "metadata": {},
     "output_type": "execute_result"
    }
   ],
   "source": [
    "location_df = pd.read_csv(get_path(\"business_locations.csv\"))\n",
    "location_df[['city', 'county', 'state', 'country']].drop_duplicates().count()  # Simply to count number of cities"
   ]
  },
  {
   "cell_type": "code",
   "execution_count": 33,
   "metadata": {},
   "outputs": [],
   "source": [
    "location_df['neighbourhood'] = location_df['neighbourhood'] + '$' + location_df['city'] + '$' + location_df['county'] + '$' + location_df['state'] + '$' + location_df['country']\n",
    "location_df['city'] = location_df['city'] + '$' + location_df['county'] + '$' + location_df['state'] + '$' + location_df['country']\n",
    "location_df['county'] = location_df['county'] + '$' + location_df['state'] + '$' + location_df['country']\n",
    "location_df['state'] = location_df['state'] + '$' + location_df['country']"
   ]
  },
  {
   "cell_type": "code",
   "execution_count": 49,
   "metadata": {},
   "outputs": [
    {
     "data": {
      "text/plain": [
       "city       180\n",
       "county     235\n",
       "state      239\n",
       "country    239\n",
       "dtype: int64"
      ]
     },
     "execution_count": 49,
     "metadata": {},
     "output_type": "execute_result"
    }
   ],
   "source": [
    "location_df[['city', 'county', 'state', 'country']].drop_duplicates().count()"
   ]
  },
  {
   "cell_type": "code",
   "execution_count": 46,
   "metadata": {},
   "outputs": [
    {
     "name": "stdout",
     "output_type": "stream",
     "text": [
      "85,470 businesses of 150,346 have a city listed.\n"
     ]
    }
   ],
   "source": [
    "print(f\"{'{:,.0f}'.format(location_df['city'].count())} businesses of {'{:,.0f}'.format(location_df.shape[0])} have a city listed.\")"
   ]
  }
 ],
 "metadata": {
  "kernelspec": {
   "display_name": "Python 3.11.0 64-bit",
   "language": "python",
   "name": "python3"
  },
  "language_info": {
   "codemirror_mode": {
    "name": "ipython",
    "version": 3
   },
   "file_extension": ".py",
   "mimetype": "text/x-python",
   "name": "python",
   "nbconvert_exporter": "python",
   "pygments_lexer": "ipython3",
   "version": "3.11.0"
  },
  "orig_nbformat": 4,
  "vscode": {
   "interpreter": {
    "hash": "be8902ab7f5be5b46344a1d32ed6f16ef4c7819a4242d8781571d048fd7d2288"
   }
  }
 },
 "nbformat": 4,
 "nbformat_minor": 2
}
