{
 "cells": [
  {
   "cell_type": "code",
   "execution_count": 1,
   "metadata": {},
   "outputs": [],
   "source": [
    "import pandas as pd\n",
    "import sys\n",
    "sys.path.append(sys.path[0][:sys.path[0].find('DVML-P7') + len('DVML-P7')])\n",
    "\n",
    "from Code.UtilityFunctions.get_data_path import get_path"
   ]
  },
  {
   "cell_type": "code",
   "execution_count": 2,
   "metadata": {},
   "outputs": [],
   "source": [
    "# Read in the business data\n",
    "business_file = \"yelp_academic_dataset_business.json\"\n",
    "businesses = pd.read_json(path_or_buf=get_path(business_file), lines=True)"
   ]
  },
  {
   "cell_type": "markdown",
   "metadata": {},
   "source": [
    "### Turn the locations unique"
   ]
  },
  {
   "cell_type": "code",
   "execution_count": 3,
   "metadata": {},
   "outputs": [],
   "source": [
    "location_df = pd.read_csv(get_path(\"business_locations.csv\"))"
   ]
  },
  {
   "cell_type": "code",
   "execution_count": 4,
   "metadata": {},
   "outputs": [
    {
     "data": {
      "text/plain": "                   business_id neighbourhood postcode          city  \\\ncount                   150346         35461    93588         92032   \nunique                  150346           821      873           172   \ntop     Pns2l4eNsfO8kk83dixA6A    Waterfront    93102  Philadelphia   \nfreq                         1          1461     1461         14098   \n\n                     county         state        country  \ncount                137612        145401         145401  \nunique                   61            16              2  \ntop     Philadelphia County  Pennsylvania  United States  \nfreq                  14098         33185         140081  ",
      "text/html": "<div>\n<style scoped>\n    .dataframe tbody tr th:only-of-type {\n        vertical-align: middle;\n    }\n\n    .dataframe tbody tr th {\n        vertical-align: top;\n    }\n\n    .dataframe thead th {\n        text-align: right;\n    }\n</style>\n<table border=\"1\" class=\"dataframe\">\n  <thead>\n    <tr style=\"text-align: right;\">\n      <th></th>\n      <th>business_id</th>\n      <th>neighbourhood</th>\n      <th>postcode</th>\n      <th>city</th>\n      <th>county</th>\n      <th>state</th>\n      <th>country</th>\n    </tr>\n  </thead>\n  <tbody>\n    <tr>\n      <th>count</th>\n      <td>150346</td>\n      <td>35461</td>\n      <td>93588</td>\n      <td>92032</td>\n      <td>137612</td>\n      <td>145401</td>\n      <td>145401</td>\n    </tr>\n    <tr>\n      <th>unique</th>\n      <td>150346</td>\n      <td>821</td>\n      <td>873</td>\n      <td>172</td>\n      <td>61</td>\n      <td>16</td>\n      <td>2</td>\n    </tr>\n    <tr>\n      <th>top</th>\n      <td>Pns2l4eNsfO8kk83dixA6A</td>\n      <td>Waterfront</td>\n      <td>93102</td>\n      <td>Philadelphia</td>\n      <td>Philadelphia County</td>\n      <td>Pennsylvania</td>\n      <td>United States</td>\n    </tr>\n    <tr>\n      <th>freq</th>\n      <td>1</td>\n      <td>1461</td>\n      <td>1461</td>\n      <td>14098</td>\n      <td>14098</td>\n      <td>33185</td>\n      <td>140081</td>\n    </tr>\n  </tbody>\n</table>\n</div>"
     },
     "execution_count": 4,
     "metadata": {},
     "output_type": "execute_result"
    }
   ],
   "source": [
    "location_df.describe()"
   ]
  },
  {
   "cell_type": "code",
   "execution_count": 5,
   "metadata": {},
   "outputs": [
    {
     "data": {
      "text/plain": "                   business_id               neighbourhood postcode  \\\n2       tUFrWirKiKi_TAnsVWINQQ                         NaN      NaN   \n3       MTSW4McQd7CbVtyjqoe9mw                         NaN      NaN   \n6       n_0UpQx1hsNbnPUSlodU8w                         NaN      NaN   \n8       k0hlBqXX-Bt0vf1op7Jr1w                         NaN      NaN   \n13      jaxMSoInw8Poo3XeMJt8lQ                         NaN      NaN   \n...                        ...                         ...      ...   \n150338  fn3ybdsRSrIDpKZTsRuAWg                         NaN      NaN   \n150340  hn9Toz3s-Ei3uZPt7esExA                         NaN      NaN   \n150341  IUQopTMmYQG-qRtBk-8QnA  Strathcona Industrial Park      NaN   \n150342  c8GjPIOTGVmIemT7j5_SyQ                         NaN      NaN   \n150344  mtGm22y5c2UHNXDFAjaPNw                         NaN      NaN   \n\n                city               county         state        country  \n2             Tucson          Pima County       Arizona  United States  \n3       Philadelphia  Philadelphia County  Pennsylvania  United States  \n6                NaN   Saint Louis County      Missouri  United States  \n8                NaN   Saint Louis County      Missouri  United States  \n13        Clearwater      Pinellas County       Florida  United States  \n...              ...                  ...           ...            ...  \n150338  Indianapolis        Marion County       Indiana  United States  \n150340      Edmonton                  NaN       Alberta         Canada  \n150341           NaN                  NaN       Alberta         Canada  \n150342           NaN      Davidson County     Tennessee  United States  \n150344  Edwardsville       Madison County      Illinois  United States  \n\n[56758 rows x 7 columns]",
      "text/html": "<div>\n<style scoped>\n    .dataframe tbody tr th:only-of-type {\n        vertical-align: middle;\n    }\n\n    .dataframe tbody tr th {\n        vertical-align: top;\n    }\n\n    .dataframe thead th {\n        text-align: right;\n    }\n</style>\n<table border=\"1\" class=\"dataframe\">\n  <thead>\n    <tr style=\"text-align: right;\">\n      <th></th>\n      <th>business_id</th>\n      <th>neighbourhood</th>\n      <th>postcode</th>\n      <th>city</th>\n      <th>county</th>\n      <th>state</th>\n      <th>country</th>\n    </tr>\n  </thead>\n  <tbody>\n    <tr>\n      <th>2</th>\n      <td>tUFrWirKiKi_TAnsVWINQQ</td>\n      <td>NaN</td>\n      <td>NaN</td>\n      <td>Tucson</td>\n      <td>Pima County</td>\n      <td>Arizona</td>\n      <td>United States</td>\n    </tr>\n    <tr>\n      <th>3</th>\n      <td>MTSW4McQd7CbVtyjqoe9mw</td>\n      <td>NaN</td>\n      <td>NaN</td>\n      <td>Philadelphia</td>\n      <td>Philadelphia County</td>\n      <td>Pennsylvania</td>\n      <td>United States</td>\n    </tr>\n    <tr>\n      <th>6</th>\n      <td>n_0UpQx1hsNbnPUSlodU8w</td>\n      <td>NaN</td>\n      <td>NaN</td>\n      <td>NaN</td>\n      <td>Saint Louis County</td>\n      <td>Missouri</td>\n      <td>United States</td>\n    </tr>\n    <tr>\n      <th>8</th>\n      <td>k0hlBqXX-Bt0vf1op7Jr1w</td>\n      <td>NaN</td>\n      <td>NaN</td>\n      <td>NaN</td>\n      <td>Saint Louis County</td>\n      <td>Missouri</td>\n      <td>United States</td>\n    </tr>\n    <tr>\n      <th>13</th>\n      <td>jaxMSoInw8Poo3XeMJt8lQ</td>\n      <td>NaN</td>\n      <td>NaN</td>\n      <td>Clearwater</td>\n      <td>Pinellas County</td>\n      <td>Florida</td>\n      <td>United States</td>\n    </tr>\n    <tr>\n      <th>...</th>\n      <td>...</td>\n      <td>...</td>\n      <td>...</td>\n      <td>...</td>\n      <td>...</td>\n      <td>...</td>\n      <td>...</td>\n    </tr>\n    <tr>\n      <th>150338</th>\n      <td>fn3ybdsRSrIDpKZTsRuAWg</td>\n      <td>NaN</td>\n      <td>NaN</td>\n      <td>Indianapolis</td>\n      <td>Marion County</td>\n      <td>Indiana</td>\n      <td>United States</td>\n    </tr>\n    <tr>\n      <th>150340</th>\n      <td>hn9Toz3s-Ei3uZPt7esExA</td>\n      <td>NaN</td>\n      <td>NaN</td>\n      <td>Edmonton</td>\n      <td>NaN</td>\n      <td>Alberta</td>\n      <td>Canada</td>\n    </tr>\n    <tr>\n      <th>150341</th>\n      <td>IUQopTMmYQG-qRtBk-8QnA</td>\n      <td>Strathcona Industrial Park</td>\n      <td>NaN</td>\n      <td>NaN</td>\n      <td>NaN</td>\n      <td>Alberta</td>\n      <td>Canada</td>\n    </tr>\n    <tr>\n      <th>150342</th>\n      <td>c8GjPIOTGVmIemT7j5_SyQ</td>\n      <td>NaN</td>\n      <td>NaN</td>\n      <td>NaN</td>\n      <td>Davidson County</td>\n      <td>Tennessee</td>\n      <td>United States</td>\n    </tr>\n    <tr>\n      <th>150344</th>\n      <td>mtGm22y5c2UHNXDFAjaPNw</td>\n      <td>NaN</td>\n      <td>NaN</td>\n      <td>Edwardsville</td>\n      <td>Madison County</td>\n      <td>Illinois</td>\n      <td>United States</td>\n    </tr>\n  </tbody>\n</table>\n<p>56758 rows × 7 columns</p>\n</div>"
     },
     "execution_count": 5,
     "metadata": {},
     "output_type": "execute_result"
    }
   ],
   "source": [
    "location_df[location_df[\"postcode\"].isna() == True]"
   ]
  },
  {
   "cell_type": "code",
   "execution_count": 6,
   "metadata": {},
   "outputs": [
    {
     "data": {
      "text/plain": "16"
     },
     "execution_count": 6,
     "metadata": {},
     "output_type": "execute_result"
    }
   ],
   "source": [
    "location_df.state.drop_duplicates().count()"
   ]
  },
  {
   "cell_type": "code",
   "execution_count": 7,
   "metadata": {},
   "outputs": [
    {
     "data": {
      "text/plain": "172"
     },
     "execution_count": 7,
     "metadata": {},
     "output_type": "execute_result"
    }
   ],
   "source": [
    "location_df.city.drop_duplicates().count()"
   ]
  },
  {
   "cell_type": "code",
   "execution_count": 8,
   "metadata": {},
   "outputs": [
    {
     "data": {
      "text/plain": "city       180\ncounty     235\nstate      239\ncountry    239\ndtype: int64"
     },
     "execution_count": 8,
     "metadata": {},
     "output_type": "execute_result"
    }
   ],
   "source": [
    "location_df[['city', 'county', 'state', 'country']].drop_duplicates().count()  # Simply to count number of cities"
   ]
  },
  {
   "cell_type": "code",
   "execution_count": 9,
   "metadata": {},
   "outputs": [
    {
     "data": {
      "text/plain": "                   business_id               neighbourhood postcode  \\\n0       Pns2l4eNsfO8kk83dixA6A                    Westside    93101   \n1       mpf3x-BjTdTEA3yCZrAYPw                         NaN    63123   \n2       tUFrWirKiKi_TAnsVWINQQ                         NaN      NaN   \n3       MTSW4McQd7CbVtyjqoe9mw                         NaN      NaN   \n4       mWMc6_wTdE0EUBKIGXDVfA                         NaN    18074   \n...                        ...                         ...      ...   \n150341  IUQopTMmYQG-qRtBk-8QnA  Strathcona Industrial Park      NaN   \n150342  c8GjPIOTGVmIemT7j5_SyQ                         NaN      NaN   \n150343  _QAMST-NrQobXduilWEqSw                Allisonville    46250   \n150344  mtGm22y5c2UHNXDFAjaPNw                         NaN      NaN   \n150345  jV_XOycEzSlTx-65W906pg                         NaN    33572   \n\n                        city                county         state  \\\n0              Santa Barbara  Santa Barbara County    California   \n1                        NaN    Saint Louis County      Missouri   \n2                     Tucson           Pima County       Arizona   \n3               Philadelphia   Philadelphia County  Pennsylvania   \n4       Marlborough Township     Montgomery County  Pennsylvania   \n...                      ...                   ...           ...   \n150341                   NaN                   NaN       Alberta   \n150342                   NaN       Davidson County     Tennessee   \n150343          Indianapolis         Marion County       Indiana   \n150344          Edwardsville        Madison County      Illinois   \n150345                   NaN   Hillsborough County       Florida   \n\n              country  \n0       United States  \n1       United States  \n2       United States  \n3       United States  \n4       United States  \n...               ...  \n150341         Canada  \n150342  United States  \n150343  United States  \n150344  United States  \n150345  United States  \n\n[150346 rows x 7 columns]",
      "text/html": "<div>\n<style scoped>\n    .dataframe tbody tr th:only-of-type {\n        vertical-align: middle;\n    }\n\n    .dataframe tbody tr th {\n        vertical-align: top;\n    }\n\n    .dataframe thead th {\n        text-align: right;\n    }\n</style>\n<table border=\"1\" class=\"dataframe\">\n  <thead>\n    <tr style=\"text-align: right;\">\n      <th></th>\n      <th>business_id</th>\n      <th>neighbourhood</th>\n      <th>postcode</th>\n      <th>city</th>\n      <th>county</th>\n      <th>state</th>\n      <th>country</th>\n    </tr>\n  </thead>\n  <tbody>\n    <tr>\n      <th>0</th>\n      <td>Pns2l4eNsfO8kk83dixA6A</td>\n      <td>Westside</td>\n      <td>93101</td>\n      <td>Santa Barbara</td>\n      <td>Santa Barbara County</td>\n      <td>California</td>\n      <td>United States</td>\n    </tr>\n    <tr>\n      <th>1</th>\n      <td>mpf3x-BjTdTEA3yCZrAYPw</td>\n      <td>NaN</td>\n      <td>63123</td>\n      <td>NaN</td>\n      <td>Saint Louis County</td>\n      <td>Missouri</td>\n      <td>United States</td>\n    </tr>\n    <tr>\n      <th>2</th>\n      <td>tUFrWirKiKi_TAnsVWINQQ</td>\n      <td>NaN</td>\n      <td>NaN</td>\n      <td>Tucson</td>\n      <td>Pima County</td>\n      <td>Arizona</td>\n      <td>United States</td>\n    </tr>\n    <tr>\n      <th>3</th>\n      <td>MTSW4McQd7CbVtyjqoe9mw</td>\n      <td>NaN</td>\n      <td>NaN</td>\n      <td>Philadelphia</td>\n      <td>Philadelphia County</td>\n      <td>Pennsylvania</td>\n      <td>United States</td>\n    </tr>\n    <tr>\n      <th>4</th>\n      <td>mWMc6_wTdE0EUBKIGXDVfA</td>\n      <td>NaN</td>\n      <td>18074</td>\n      <td>Marlborough Township</td>\n      <td>Montgomery County</td>\n      <td>Pennsylvania</td>\n      <td>United States</td>\n    </tr>\n    <tr>\n      <th>...</th>\n      <td>...</td>\n      <td>...</td>\n      <td>...</td>\n      <td>...</td>\n      <td>...</td>\n      <td>...</td>\n      <td>...</td>\n    </tr>\n    <tr>\n      <th>150341</th>\n      <td>IUQopTMmYQG-qRtBk-8QnA</td>\n      <td>Strathcona Industrial Park</td>\n      <td>NaN</td>\n      <td>NaN</td>\n      <td>NaN</td>\n      <td>Alberta</td>\n      <td>Canada</td>\n    </tr>\n    <tr>\n      <th>150342</th>\n      <td>c8GjPIOTGVmIemT7j5_SyQ</td>\n      <td>NaN</td>\n      <td>NaN</td>\n      <td>NaN</td>\n      <td>Davidson County</td>\n      <td>Tennessee</td>\n      <td>United States</td>\n    </tr>\n    <tr>\n      <th>150343</th>\n      <td>_QAMST-NrQobXduilWEqSw</td>\n      <td>Allisonville</td>\n      <td>46250</td>\n      <td>Indianapolis</td>\n      <td>Marion County</td>\n      <td>Indiana</td>\n      <td>United States</td>\n    </tr>\n    <tr>\n      <th>150344</th>\n      <td>mtGm22y5c2UHNXDFAjaPNw</td>\n      <td>NaN</td>\n      <td>NaN</td>\n      <td>Edwardsville</td>\n      <td>Madison County</td>\n      <td>Illinois</td>\n      <td>United States</td>\n    </tr>\n    <tr>\n      <th>150345</th>\n      <td>jV_XOycEzSlTx-65W906pg</td>\n      <td>NaN</td>\n      <td>33572</td>\n      <td>NaN</td>\n      <td>Hillsborough County</td>\n      <td>Florida</td>\n      <td>United States</td>\n    </tr>\n  </tbody>\n</table>\n<p>150346 rows × 7 columns</p>\n</div>"
     },
     "execution_count": 9,
     "metadata": {},
     "output_type": "execute_result"
    }
   ],
   "source": [
    "location_df"
   ]
  },
  {
   "cell_type": "code",
   "execution_count": 10,
   "metadata": {},
   "outputs": [],
   "source": [
    "location_df['neighbourhood'] = location_df['neighbourhood'] + '$' + location_df['city'] + '$' + location_df['county'] + '$' + location_df['state'] + '$' + location_df['country']\n",
    "location_df['city'] = location_df['city'] + '$' + location_df['county'] + '$' + location_df['state'] + '$' + location_df['country']\n",
    "location_df['county'] = location_df['county'] + '$' + location_df['state'] + '$' + location_df['country']\n",
    "location_df['state'] = location_df['state'] + '$' + location_df['country']"
   ]
  },
  {
   "cell_type": "code",
   "execution_count": 14,
   "metadata": {},
   "outputs": [
    {
     "data": {
      "text/plain": "                   business_id  \\\ncount                   150346   \nunique                  150346   \ntop     Pns2l4eNsfO8kk83dixA6A   \nfreq                         1   \n\n                                            neighbourhood postcode  \\\ncount                                               26204    93588   \nunique                                                447      873   \ntop     Waterfront$Santa Barbara$Santa Barbara County$...    93102   \nfreq                                                 1461     1461   \n\n                                                     city  \\\ncount                                               85470   \nunique                                                178   \ntop     Philadelphia$Philadelphia County$Pennsylvania$...   \nfreq                                                14098   \n\n                                                county  \\\ncount                                           137612   \nunique                                              61   \ntop     Philadelphia County$Pennsylvania$United States   \nfreq                                             14098   \n\n                             state        country  \ncount                       145401         145401  \nunique                          16              2  \ntop     Pennsylvania$United States  United States  \nfreq                         33185         140081  ",
      "text/html": "<div>\n<style scoped>\n    .dataframe tbody tr th:only-of-type {\n        vertical-align: middle;\n    }\n\n    .dataframe tbody tr th {\n        vertical-align: top;\n    }\n\n    .dataframe thead th {\n        text-align: right;\n    }\n</style>\n<table border=\"1\" class=\"dataframe\">\n  <thead>\n    <tr style=\"text-align: right;\">\n      <th></th>\n      <th>business_id</th>\n      <th>neighbourhood</th>\n      <th>postcode</th>\n      <th>city</th>\n      <th>county</th>\n      <th>state</th>\n      <th>country</th>\n    </tr>\n  </thead>\n  <tbody>\n    <tr>\n      <th>count</th>\n      <td>150346</td>\n      <td>26204</td>\n      <td>93588</td>\n      <td>85470</td>\n      <td>137612</td>\n      <td>145401</td>\n      <td>145401</td>\n    </tr>\n    <tr>\n      <th>unique</th>\n      <td>150346</td>\n      <td>447</td>\n      <td>873</td>\n      <td>178</td>\n      <td>61</td>\n      <td>16</td>\n      <td>2</td>\n    </tr>\n    <tr>\n      <th>top</th>\n      <td>Pns2l4eNsfO8kk83dixA6A</td>\n      <td>Waterfront$Santa Barbara$Santa Barbara County$...</td>\n      <td>93102</td>\n      <td>Philadelphia$Philadelphia County$Pennsylvania$...</td>\n      <td>Philadelphia County$Pennsylvania$United States</td>\n      <td>Pennsylvania$United States</td>\n      <td>United States</td>\n    </tr>\n    <tr>\n      <th>freq</th>\n      <td>1</td>\n      <td>1461</td>\n      <td>1461</td>\n      <td>14098</td>\n      <td>14098</td>\n      <td>33185</td>\n      <td>140081</td>\n    </tr>\n  </tbody>\n</table>\n</div>"
     },
     "execution_count": 14,
     "metadata": {},
     "output_type": "execute_result"
    }
   ],
   "source": [
    "location_df.describe()"
   ]
  },
  {
   "cell_type": "code",
   "execution_count": 12,
   "metadata": {},
   "outputs": [
    {
     "name": "stdout",
     "output_type": "stream",
     "text": [
      "85,470 businesses of 150,346 have a city listed.\n"
     ]
    }
   ],
   "source": [
    "print(f\"{'{:,.0f}'.format(location_df['city'].count())} businesses of {'{:,.0f}'.format(location_df.shape[0])} have a city listed.\")"
   ]
  },
  {
   "cell_type": "code",
   "execution_count": 12,
   "metadata": {},
   "outputs": [],
   "source": []
  },
  {
   "cell_type": "code",
   "execution_count": null,
   "outputs": [],
   "source": [],
   "metadata": {
    "collapsed": false,
    "pycharm": {
     "name": "#%%\n"
    }
   }
  }
 ],
 "metadata": {
  "kernelspec": {
   "display_name": "Python 3.11.0 64-bit",
   "language": "python",
   "name": "python3"
  },
  "language_info": {
   "codemirror_mode": {
    "name": "ipython",
    "version": 3
   },
   "file_extension": ".py",
   "mimetype": "text/x-python",
   "name": "python",
   "nbconvert_exporter": "python",
   "pygments_lexer": "ipython3",
   "version": "3.11.0"
  },
  "orig_nbformat": 4,
  "vscode": {
   "interpreter": {
    "hash": "be8902ab7f5be5b46344a1d32ed6f16ef4c7819a4242d8781571d048fd7d2288"
   }
  }
 },
 "nbformat": 4,
 "nbformat_minor": 2
}