{
 "cells": [
  {
   "cell_type": "code",
   "execution_count": null,
   "metadata": {},
   "outputs": [],
   "source": [
    "# https://github.com/maxlath/wikibase-dump-filter\n",
    "# https://github.com/maxlath/wikibase-dump-filter/blob/main/docs/cli.md\n",
    "\n",
    "!cat latest-all.json.gz | gzip -d | wikibase-dump-filter --languages en --claim P31:Q515 --keep id,type,labels,claims -p > simplified_dump.ndjson\n"
   ]
  },
  {
   "cell_type": "code",
   "execution_count": null,
   "metadata": {},
   "outputs": [],
   "source": [
    "# https://linuxhint.com/bash_head_tail_command/\n",
    "!head -n 1 simplified_dump.ndjson > simpl.ndjson"
   ]
  },
  {
   "cell_type": "code",
   "execution_count": null,
   "metadata": {},
   "outputs": [],
   "source": [
    "# https://stedolan.github.io/jq/tutorial/\n",
    "# https://www.linode.com/docs/guides/using-jq-to-process-json-on-the-command-line/\n",
    "!jq '.' simpl.ndjson > simpl.json"
   ]
  }
 ],
 "metadata": {
  "kernelspec": {
   "display_name": "Python 3.10.7 64-bit",
   "language": "python",
   "name": "python3"
  },
  "language_info": {
   "codemirror_mode": {
    "name": "ipython",
    "version": 3
   },
   "file_extension": ".py",
   "mimetype": "text/x-python",
   "name": "python",
   "nbconvert_exporter": "python",
   "pygments_lexer": "ipython3",
   "version": "3.10.7"
  },
  "orig_nbformat": 4,
  "vscode": {
   "interpreter": {
    "hash": "aee8b7b246df8f9039afb4144a1f6fd8d2ca17a180786b69acc140d282b71a49"
   }
  }
 },
 "nbformat": 4,
 "nbformat_minor": 2
}
