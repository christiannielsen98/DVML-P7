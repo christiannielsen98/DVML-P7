{
 "cells": [
  {
   "cell_type": "code",
   "execution_count": 5,
   "metadata": {
    "collapsed": true
   },
   "outputs": [],
   "source": [
    "import json\n",
    "\n",
    "from UtilityFunctions.get_data_path import get_path"
   ]
  },
  {
   "cell_type": "code",
   "execution_count": 21,
   "outputs": [
    {
     "name": "stdout",
     "output_type": "stream",
     "text": [
      "The number of entities in <_io.TextIOWrapper name='C:/Users/magnu/Aalborg Universitet/Christian Fillip Pinderup Nielsen - DVML P7/Data/yelp_academic_dataset_business.json' mode='r' encoding='utf8'> is 150346\n",
      "The number of entities in <_io.TextIOWrapper name='C:/Users/magnu/Aalborg Universitet/Christian Fillip Pinderup Nielsen - DVML P7/Data/yelp_academic_dataset_checkin.json' mode='r' encoding='utf8'> is 131930\n"
     ]
    },
    {
     "ename": "OSError",
     "evalue": "[Errno 22] Invalid argument",
     "output_type": "error",
     "traceback": [
      "\u001B[1;31m---------------------------------------------------------------------------\u001B[0m",
      "\u001B[1;31mOSError\u001B[0m                                   Traceback (most recent call last)",
      "Cell \u001B[1;32mIn [21], line 7\u001B[0m\n\u001B[0;32m      5\u001B[0m file_path \u001B[38;5;241m=\u001B[39m get_path(_file)\n\u001B[0;32m      6\u001B[0m \u001B[38;5;28;01mwith\u001B[39;00m \u001B[38;5;28mopen\u001B[39m(file\u001B[38;5;241m=\u001B[39mfile_path, mode\u001B[38;5;241m=\u001B[39m\u001B[38;5;124m\"\u001B[39m\u001B[38;5;124mr\u001B[39m\u001B[38;5;124m\"\u001B[39m, encoding \u001B[38;5;241m=\u001B[39m \u001B[38;5;124m'\u001B[39m\u001B[38;5;124mutf8\u001B[39m\u001B[38;5;124m'\u001B[39m) \u001B[38;5;28;01mas\u001B[39;00m file:\n\u001B[1;32m----> 7\u001B[0m     \u001B[38;5;28;01mfor\u001B[39;00m line \u001B[38;5;129;01min\u001B[39;00m file:\n\u001B[0;32m      8\u001B[0m         data \u001B[38;5;241m=\u001B[39m json\u001B[38;5;241m.\u001B[39mloads(line)\n\u001B[0;32m      9\u001B[0m         counter \u001B[38;5;241m+\u001B[39m\u001B[38;5;241m=\u001B[39m \u001B[38;5;241m1\u001B[39m\n",
      "\u001B[1;31mOSError\u001B[0m: [Errno 22] Invalid argument"
     ]
    }
   ],
   "source": [
    "for _file in [\"yelp_academic_dataset_business.json\", \"yelp_academic_dataset_checkin.json\",\n",
    "             \"yelp_academic_dataset_review.json\", \"yelp_academic_dataset_user.json\",\n",
    "              \"yelp_academic_dataset_tip.json\"]:\n",
    "    counter = 0\n",
    "    file_path = get_path(_file)\n",
    "    with open(file=file_path, mode=\"r\", encoding = 'utf8') as file:\n",
    "        for line in file:\n",
    "            data = json.loads(line)\n",
    "            counter += 1\n",
    "\n",
    "    print(f\"The number of entities in {file} is {counter}\")"
   ],
   "metadata": {
    "collapsed": false,
    "pycharm": {
     "name": "#%%\n"
    }
   }
  }
 ],
 "metadata": {
  "kernelspec": {
   "display_name": "Python 3",
   "language": "python",
   "name": "python3"
  },
  "language_info": {
   "codemirror_mode": {
    "name": "ipython",
    "version": 2
   },
   "file_extension": ".py",
   "mimetype": "text/x-python",
   "name": "python",
   "nbconvert_exporter": "python",
   "pygments_lexer": "ipython2",
   "version": "2.7.6"
  }
 },
 "nbformat": 4,
 "nbformat_minor": 0
}