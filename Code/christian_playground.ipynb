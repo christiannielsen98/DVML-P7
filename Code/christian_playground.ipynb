{
 "cells": [
  {
   "cell_type": "code",
   "execution_count": 11,
   "metadata": {},
   "outputs": [],
   "source": [
    "import gzip\n",
    "import json\n",
    "\n",
    "import pandas as pd\n",
    "from rdflib import Namespace, Graph, URIRef, Literal, BNode\n",
    "from rdflib.namespace import RDFS\n",
    "from UtilityFunctions.dictionary_functions import flatten_dictionary\n",
    "from UtilityFunctions.get_data_path import get_path\n",
    "from UtilityFunctions.string_functions import split_words, turn_words_singular, split_words_inc_slash\n",
    "from UtilityFunctions.wikidata_functions import wikidata_query, retrieve_wikidata_claims, category_query, min_qid, get_all_wikidata_claims, compare_qids, categories_dict_singular\n",
    "from UtilityFunctions.schema_functions import get_schema_predicate, get_schema_type, get_class_mappings\n",
    "from UtilityFunctions.get_uri import get_uri"
   ]
  },
  {
   "cell_type": "code",
   "execution_count": 12,
   "metadata": {},
   "outputs": [],
   "source": [
    "class_mappings = pd.read_csv(get_path(\"class_mappings.csv\"))"
   ]
  },
  {
   "cell_type": "code",
   "execution_count": 13,
   "metadata": {},
   "outputs": [
    {
     "data": {
      "text/html": [
       "<div>\n",
       "<style scoped>\n",
       "    .dataframe tbody tr th:only-of-type {\n",
       "        vertical-align: middle;\n",
       "    }\n",
       "\n",
       "    .dataframe tbody tr th {\n",
       "        vertical-align: top;\n",
       "    }\n",
       "\n",
       "    .dataframe thead th {\n",
       "        text-align: right;\n",
       "    }\n",
       "</style>\n",
       "<table border=\"1\" class=\"dataframe\">\n",
       "  <thead>\n",
       "    <tr style=\"text-align: right;\">\n",
       "      <th></th>\n",
       "      <th>YelpCategory</th>\n",
       "      <th>SchemaType</th>\n",
       "    </tr>\n",
       "  </thead>\n",
       "  <tbody>\n",
       "    <tr>\n",
       "      <th>0</th>\n",
       "      <td>Airport</td>\n",
       "      <td>Airport</td>\n",
       "    </tr>\n",
       "    <tr>\n",
       "      <th>1</th>\n",
       "      <td>Osteopath</td>\n",
       "      <td>Osteopathic</td>\n",
       "    </tr>\n",
       "    <tr>\n",
       "      <th>2</th>\n",
       "      <td>Repair</td>\n",
       "      <td>AutoRepair</td>\n",
       "    </tr>\n",
       "    <tr>\n",
       "      <th>3</th>\n",
       "      <td>RadioStation</td>\n",
       "      <td>RadioStation</td>\n",
       "    </tr>\n",
       "    <tr>\n",
       "      <th>4</th>\n",
       "      <td>HardwareStore</td>\n",
       "      <td>HardwareStore</td>\n",
       "    </tr>\n",
       "    <tr>\n",
       "      <th>...</th>\n",
       "      <td>...</td>\n",
       "      <td>...</td>\n",
       "    </tr>\n",
       "    <tr>\n",
       "      <th>213</th>\n",
       "      <td>Hostel</td>\n",
       "      <td>Hostel</td>\n",
       "    </tr>\n",
       "    <tr>\n",
       "      <th>214</th>\n",
       "      <td>EmploymentLaw</td>\n",
       "      <td>EmploymentAgency</td>\n",
       "    </tr>\n",
       "    <tr>\n",
       "      <th>215</th>\n",
       "      <td>Supplement</td>\n",
       "      <td>DietarySupplement</td>\n",
       "    </tr>\n",
       "    <tr>\n",
       "      <th>216</th>\n",
       "      <td>Trust</td>\n",
       "      <td>UKTrust</td>\n",
       "    </tr>\n",
       "    <tr>\n",
       "      <th>217</th>\n",
       "      <td>PlasticSurgeon</td>\n",
       "      <td>PlasticSurgery</td>\n",
       "    </tr>\n",
       "  </tbody>\n",
       "</table>\n",
       "<p>218 rows × 2 columns</p>\n",
       "</div>"
      ],
      "text/plain": [
       "       YelpCategory         SchemaType\n",
       "0           Airport            Airport\n",
       "1         Osteopath        Osteopathic\n",
       "2            Repair         AutoRepair\n",
       "3      RadioStation       RadioStation\n",
       "4     HardwareStore      HardwareStore\n",
       "..              ...                ...\n",
       "213          Hostel             Hostel\n",
       "214   EmploymentLaw   EmploymentAgency\n",
       "215      Supplement  DietarySupplement\n",
       "216           Trust            UKTrust\n",
       "217  PlasticSurgeon     PlasticSurgery\n",
       "\n",
       "[218 rows x 2 columns]"
      ]
     },
     "execution_count": 13,
     "metadata": {},
     "output_type": "execute_result"
    }
   ],
   "source": [
    "class_mappings"
   ]
  },
  {
   "cell_type": "code",
   "execution_count": 6,
   "metadata": {},
   "outputs": [
    {
     "name": "stdout",
     "output_type": "stream",
     "text": [
      "Done!\n"
     ]
    }
   ],
   "source": [
    "from shexer.shaper import Shaper\n",
    "from shexer.consts import NT, SHEXC, SHACL_TURTLE\n",
    "\n",
    "target_classes = [\n",
    "    \"http://example.org/Person\",\n",
    "    \"http://example.org/Gender\"\n",
    "]\n",
    "\n",
    "namespaces_dict = {\"http://www.w3.org/1999/02/22-rdf-syntax-ns#\": \"rdf\",\n",
    "                   \"http://example.org/\": \"ex\",\n",
    "                   \"http://weso.es/shapes/\": \"\",\n",
    "                   \"http://www.w3.org/2001/XMLSchema#\": \"xsd\"\n",
    "                   }\n",
    "\n",
    "raw_graph = \"\"\"\n",
    "<http://example.org/sarah> <http://www.w3.org/1999/02/22-rdf-syntax-ns#type> <http://example.org/Person> .\n",
    "<http://example.org/sarah> <http://example.org/age> \"30\"^^<http://www.w3.org/2001/XMLSchema#int> .\n",
    "<http://example.org/sarah> <http://example.org/name> \"Sarah\" .\n",
    "<http://example.org/sarah> <http://example.org/gender> <http://example.org/Female> .\n",
    "<http://example.org/sarah> <http://example.org/occupation> <http://example.org/Doctor> .\n",
    "<http://example.org/sarah> <http://example.org/brother> <http://example.org/Jim> .\n",
    "\n",
    "<http://example.org/jim> <http://www.w3.org/1999/02/22-rdf-syntax-ns#type> <http://example.org/Person> .\n",
    "<http://example.org/jim> <http://example.org/age> \"28\"^^<http://www.w3.org/2001/XMLSchema#int> .\n",
    "<http://example.org/jim> <http://example.org/name> \"Jimbo\".\n",
    "<http://example.org/jim> <http://example.org/surname> \"Mendes\".\n",
    "<http://example.org/jim> <http://example.org/gender> <http://example.org/Male> .\n",
    "\n",
    "<http://example.org/Male> <http://www.w3.org/1999/02/22-rdf-syntax-ns#type> <http://example.org/Gender> .\n",
    "<http://example.org/Male> <http://www.w3.org/2000/01/rdf-schema#label> \"Male\" .\n",
    "<http://example.org/Female> <http://www.w3.org/1999/02/22-rdf-syntax-ns#type> <http://example.org/Gender> .\n",
    "<http://example.org/Female> <http://www.w3.org/2000/01/rdf-schema#label> \"Female\" .\n",
    "<http://example.org/Other> <http://www.w3.org/1999/02/22-rdf-syntax-ns#type> <http://example.org/Gender> .\n",
    "<http://example.org/Other> <http://www.w3.org/2000/01/rdf-schema#label> \"Other gender\" .\n",
    "\"\"\"\n",
    "\n",
    "\n",
    "\n",
    "input_nt_file = \"target_graph.nt\"\n",
    "\n",
    "shaper = Shaper(target_classes=target_classes,\n",
    "                raw_graph=raw_graph,\n",
    "                input_format=NT,\n",
    "                namespaces_dict=namespaces_dict,  # Default: no prefixes\n",
    "                instantiation_property=\"http://www.w3.org/1999/02/22-rdf-syntax-ns#type\")  # Default rdf:type\n",
    "\n",
    "output_file = \"shaper_example.shex\"\n",
    "\n",
    "shaper.shex_graph(output_file=output_file,\n",
    "                  acceptance_threshold=0.1,)\n",
    "\n",
    "print(\"Done!\")\n"
   ]
  },
  {
   "cell_type": "code",
   "execution_count": 16,
   "metadata": {},
   "outputs": [
    {
     "ename": "KeyboardInterrupt",
     "evalue": "",
     "output_type": "error",
     "traceback": [
      "\u001b[0;31m---------------------------------------------------------------------------\u001b[0m",
      "\u001b[0;31mKeyboardInterrupt\u001b[0m                         Traceback (most recent call last)",
      "Cell \u001b[0;32mIn [16], line 21\u001b[0m\n\u001b[1;32m     14\u001b[0m shaper \u001b[39m=\u001b[39m Shaper(target_classes\u001b[39m=\u001b[39mtarget_classes,\n\u001b[1;32m     15\u001b[0m                 raw_graph\u001b[39m=\u001b[39minput_nt_file,\n\u001b[1;32m     16\u001b[0m                 input_format\u001b[39m=\u001b[39mNT,\n\u001b[1;32m     17\u001b[0m                 instantiation_property\u001b[39m=\u001b[39m\u001b[39m\"\u001b[39m\u001b[39mhttp://www.w3.org/1999/02/22-rdf-syntax-ns#type\u001b[39m\u001b[39m\"\u001b[39m)  \u001b[39m# Default rdf:type\u001b[39;00m\n\u001b[1;32m     19\u001b[0m output_file \u001b[39m=\u001b[39m \u001b[39m\"\u001b[39m\u001b[39mshaper_example.shex\u001b[39m\u001b[39m\"\u001b[39m\n\u001b[0;32m---> 21\u001b[0m shaper\u001b[39m.\u001b[39;49mshex_graph(output_file\u001b[39m=\u001b[39;49moutput_file,\n\u001b[1;32m     22\u001b[0m                   acceptance_threshold\u001b[39m=\u001b[39;49m\u001b[39m0.1\u001b[39;49m,)\n\u001b[1;32m     24\u001b[0m \u001b[39mprint\u001b[39m(\u001b[39m\"\u001b[39m\u001b[39mDone!\u001b[39m\u001b[39m\"\u001b[39m)\n",
      "File \u001b[0;32m~/.local/lib/python3.10/site-packages/shexer/shaper.py:201\u001b[0m, in \u001b[0;36mShaper.shex_graph\u001b[0;34m(self, string_output, output_file, output_format, acceptance_threshold, verbose)\u001b[0m\n\u001b[1;32m    199\u001b[0m \u001b[39mself\u001b[39m\u001b[39m.\u001b[39m_check_aceptance_threshold(acceptance_threshold)\n\u001b[1;32m    200\u001b[0m \u001b[39mif\u001b[39;00m \u001b[39mself\u001b[39m\u001b[39m.\u001b[39m_target_classes_dict \u001b[39mis\u001b[39;00m \u001b[39mNone\u001b[39;00m:\n\u001b[0;32m--> 201\u001b[0m     \u001b[39mself\u001b[39;49m\u001b[39m.\u001b[39;49m_launch_instance_tracker(verbose\u001b[39m=\u001b[39;49mverbose)\n\u001b[1;32m    202\u001b[0m \u001b[39mif\u001b[39;00m \u001b[39mself\u001b[39m\u001b[39m.\u001b[39m_profile \u001b[39mis\u001b[39;00m \u001b[39mNone\u001b[39;00m:\n\u001b[1;32m    203\u001b[0m     \u001b[39mself\u001b[39m\u001b[39m.\u001b[39m_launch_class_profiler(verbose\u001b[39m=\u001b[39mverbose)\n",
      "File \u001b[0;32m~/.local/lib/python3.10/site-packages/shexer/shaper.py:233\u001b[0m, in \u001b[0;36mShaper._launch_instance_tracker\u001b[0;34m(self, verbose)\u001b[0m\n\u001b[1;32m    231\u001b[0m \u001b[39mif\u001b[39;00m \u001b[39mself\u001b[39m\u001b[39m.\u001b[39m_instance_tracker \u001b[39mis\u001b[39;00m \u001b[39mNone\u001b[39;00m:\n\u001b[1;32m    232\u001b[0m     \u001b[39mself\u001b[39m\u001b[39m.\u001b[39m_instance_tracker \u001b[39m=\u001b[39m \u001b[39mself\u001b[39m\u001b[39m.\u001b[39m_build_instance_tracker()\n\u001b[0;32m--> 233\u001b[0m \u001b[39mself\u001b[39m\u001b[39m.\u001b[39m_target_classes_dict \u001b[39m=\u001b[39m \u001b[39mself\u001b[39;49m\u001b[39m.\u001b[39;49m_instance_tracker\u001b[39m.\u001b[39;49mtrack_instances(verbose\u001b[39m=\u001b[39;49mverbose)\n",
      "File \u001b[0;32m~/.local/lib/python3.10/site-packages/shexer/core/instances/instance_tracker.py:59\u001b[0m, in \u001b[0;36mInstanceTracker.track_instances\u001b[0;34m(self, verbose)\u001b[0m\n\u001b[1;32m     56\u001b[0m log_msg(verbose\u001b[39m=\u001b[39mverbose,\n\u001b[1;32m     57\u001b[0m         msg\u001b[39m=\u001b[39m\u001b[39m\"\u001b[39m\u001b[39mStarting instance tracker...\u001b[39m\u001b[39m\"\u001b[39m)\n\u001b[1;32m     58\u001b[0m \u001b[39mself\u001b[39m\u001b[39m.\u001b[39m_reset_count()\n\u001b[0;32m---> 59\u001b[0m \u001b[39mfor\u001b[39;00m a_revelant_triple \u001b[39min\u001b[39;00m \u001b[39mself\u001b[39m\u001b[39m.\u001b[39m_yield_relevant_triples():\n\u001b[1;32m     60\u001b[0m     \u001b[39mself\u001b[39m\u001b[39m.\u001b[39m_annotator\u001b[39m.\u001b[39mannotate_triple(a_revelant_triple)\n\u001b[1;32m     61\u001b[0m \u001b[39mself\u001b[39m\u001b[39m.\u001b[39m_annotator\u001b[39m.\u001b[39mannotation_post_parsing()\n",
      "File \u001b[0;32m~/.local/lib/python3.10/site-packages/shexer/core/instances/instance_tracker.py:67\u001b[0m, in \u001b[0;36mInstanceTracker._yield_relevant_triples\u001b[0;34m(self)\u001b[0m\n\u001b[1;32m     66\u001b[0m \u001b[39mdef\u001b[39;00m \u001b[39m_yield_relevant_triples\u001b[39m(\u001b[39mself\u001b[39m):\n\u001b[0;32m---> 67\u001b[0m     \u001b[39mfor\u001b[39;00m a_triple \u001b[39min\u001b[39;00m \u001b[39mself\u001b[39m\u001b[39m.\u001b[39m_triples_yielder\u001b[39m.\u001b[39myield_triples():\n\u001b[1;32m     68\u001b[0m         \u001b[39mif\u001b[39;00m \u001b[39mself\u001b[39m\u001b[39m.\u001b[39m_annotator\u001b[39m.\u001b[39mis_relevant_triple(a_triple):\n\u001b[1;32m     69\u001b[0m             \u001b[39mself\u001b[39m\u001b[39m.\u001b[39m_relevant_triples \u001b[39m+\u001b[39m\u001b[39m=\u001b[39m \u001b[39m1\u001b[39m\n",
      "File \u001b[0;32m~/.local/lib/python3.10/site-packages/shexer/io/graph/yielder/nt_triples_yielder.py:29\u001b[0m, in \u001b[0;36mNtTriplesYielder.yield_triples\u001b[0;34m(self)\u001b[0m\n\u001b[1;32m     27\u001b[0m \u001b[39mself\u001b[39m\u001b[39m.\u001b[39m_reset_count()\n\u001b[1;32m     28\u001b[0m \u001b[39mfor\u001b[39;00m a_line \u001b[39min\u001b[39;00m \u001b[39mself\u001b[39m\u001b[39m.\u001b[39m_line_reader\u001b[39m.\u001b[39mread_lines():\n\u001b[0;32m---> 29\u001b[0m     tokens \u001b[39m=\u001b[39m \u001b[39mself\u001b[39;49m\u001b[39m.\u001b[39;49m_look_for_tokens(a_line\u001b[39m.\u001b[39;49mstrip())\n\u001b[1;32m     30\u001b[0m     \u001b[39mif\u001b[39;00m \u001b[39mlen\u001b[39m(tokens) \u001b[39m!=\u001b[39m \u001b[39m3\u001b[39m:\n\u001b[1;32m     31\u001b[0m         \u001b[39mself\u001b[39m\u001b[39m.\u001b[39m_error_triples \u001b[39m+\u001b[39m\u001b[39m=\u001b[39m \u001b[39m1\u001b[39m\n",
      "File \u001b[0;32m~/.local/lib/python3.10/site-packages/shexer/io/graph/yielder/nt_triples_yielder.py:62\u001b[0m, in \u001b[0;36mNtTriplesYielder._look_for_tokens\u001b[0;34m(self, str_line)\u001b[0m\n\u001b[1;32m     60\u001b[0m \u001b[39melif\u001b[39;00m str_line[current_first_index]\u001b[39m.\u001b[39misnumeric():\n\u001b[1;32m     61\u001b[0m     last_index \u001b[39m=\u001b[39m \u001b[39mself\u001b[39m\u001b[39m.\u001b[39m_look_for_last_index_of_unlabelled_number_token(str_line, current_first_index)\n\u001b[0;32m---> 62\u001b[0m     result\u001b[39m.\u001b[39;49mappend(str_line[current_first_index:last_index \u001b[39m+\u001b[39;49m \u001b[39m1\u001b[39;49m])\n\u001b[1;32m     63\u001b[0m     current_first_index \u001b[39m=\u001b[39m last_index \u001b[39m+\u001b[39m \u001b[39m1\u001b[39m\n\u001b[1;32m     64\u001b[0m \u001b[39melse\u001b[39;00m:\n",
      "\u001b[0;31mKeyboardInterrupt\u001b[0m: "
     ]
    }
   ],
   "source": [
    "from shexer.shaper import Shaper\n",
    "from shexer.consts import NT, SHEXC, SHACL_TURTLE\n",
    "\n",
    "target_classes = [\n",
    "    \"https://example.org/SchemaClass\",\n",
    "    \"https://example.org/YelpCategory\",\n",
    "    \"https://example.org/ExampleClass\",\n",
    "    \"https://schema.org/Restaurant\"\n",
    "]\n",
    "\n",
    "\n",
    "input_nt_file = \"/home/ubuntu/vol1/virtuoso/import/yelp_business.nt\"\n",
    "\n",
    "shaper = Shaper(target_classes=target_classes,\n",
    "                raw_graph=input_nt_file,\n",
    "                input_format=NT,\n",
    "                instantiation_property=\"http://www.w3.org/1999/02/22-rdf-syntax-ns#type\")  # Default rdf:type\n",
    "\n",
    "output_file = \"shaper_example.shex\"\n",
    "\n",
    "shaper.shex_graph(output_file=output_file,\n",
    "                  acceptance_threshold=0.1,)\n",
    "\n",
    "print(\"Done!\")\n"
   ]
  },
  {
   "cell_type": "code",
   "execution_count": null,
   "metadata": {},
   "outputs": [],
   "source": []
  }
 ],
 "metadata": {
  "kernelspec": {
   "display_name": "Python 3.10.6 64-bit",
   "language": "python",
   "name": "python3"
  },
  "language_info": {
   "codemirror_mode": {
    "name": "ipython",
    "version": 3
   },
   "file_extension": ".py",
   "mimetype": "text/x-python",
   "name": "python",
   "nbconvert_exporter": "python",
   "pygments_lexer": "ipython3",
   "version": "3.10.6"
  },
  "orig_nbformat": 4,
  "vscode": {
   "interpreter": {
    "hash": "7e1998ff7f8aa20ada591c520b972326324e5ea05489af9e422744c7c09f6dad"
   }
  }
 },
 "nbformat": 4,
 "nbformat_minor": 2
}
