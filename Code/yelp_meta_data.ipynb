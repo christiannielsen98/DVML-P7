{
 "cells": [
  {
   "cell_type": "code",
   "execution_count": 85,
   "metadata": {},
   "outputs": [],
   "source": [
    "from rdflib.namespace import OWL, RDF, RDFS, XSD, NamespaceManager\n",
    "from rdflib import Graph, Namespace, URIRef, Literal\n",
    "from rdflib.extras import infixowl"
   ]
  },
  {
   "cell_type": "code",
   "execution_count": 75,
   "metadata": {},
   "outputs": [],
   "source": [
    "schema = Namespace(\"https://schema.org/\")\n",
    "example = Namespace(\"https://example.org/\")"
   ]
  },
  {
   "cell_type": "code",
   "execution_count": 76,
   "metadata": {},
   "outputs": [],
   "source": [
    "G = Graph()\n",
    "# OWL.allValuesFrom(URIRef(schema + 'author'))"
   ]
  },
  {
   "cell_type": "code",
   "execution_count": 77,
   "metadata": {},
   "outputs": [
    {
     "data": {
      "text/plain": [
       "( ns1:LocalBusiness ONLY ns1:address )"
      ]
     },
     "execution_count": 77,
     "metadata": {},
     "output_type": "execute_result"
    }
   ],
   "source": [
    "G.add(triple=(URIRef(schema + 'LocalBusiness'), RDF.type, OWL.Class))\n",
    "\n",
    "business = infixowl.Class(URIRef(schema + 'LocalBusiness'), graph=G)\n",
    "\n",
    "infixowl.Restriction(schema['LocalBusiness'], graph=G, allValuesFrom=schema['address'])"
   ]
  },
  {
   "cell_type": "code",
   "execution_count": 78,
   "metadata": {},
   "outputs": [
    {
     "data": {
      "text/plain": [
       "<Graph identifier=Nfb72c4051a6e4aa3ac5d1c1360744905 (<class 'rdflib.graph.Graph'>)>"
      ]
     },
     "execution_count": 78,
     "metadata": {},
     "output_type": "execute_result"
    }
   ],
   "source": [
    "G.add(triple=(URIRef(example + 'christianBiz'), URIRef(schema + 'address'), Literal('Visionsvej 6', datatype=XSD.string)))"
   ]
  },
  {
   "cell_type": "code",
   "execution_count": 79,
   "metadata": {},
   "outputs": [
    {
     "data": {
      "text/plain": [
       "<Graph identifier=Nfb72c4051a6e4aa3ac5d1c1360744905 (<class 'rdflib.graph.Graph'>)>"
      ]
     },
     "execution_count": 79,
     "metadata": {},
     "output_type": "execute_result"
    }
   ],
   "source": [
    "G.serialize(format='ttl', destination='test.ttl')"
   ]
  },
  {
   "cell_type": "code",
   "execution_count": 80,
   "metadata": {},
   "outputs": [
    {
     "name": "stdout",
     "output_type": "stream",
     "text": [
      "(rdflib.term.Literal('0', datatype=rdflib.term.URIRef('http://www.w3.org/2001/XMLSchema#integer')),)\n"
     ]
    }
   ],
   "source": [
    "query = '''SELECT (COUNT(?s) AS ?totalNumberOfInstances)\n",
    "WHERE { ?s owl:Class ns1:LocalBusiness }'''\n",
    "results = G.query(query)\n",
    "for row in results:\n",
    "    print(row)"
   ]
  },
  {
   "cell_type": "code",
   "execution_count": 81,
   "metadata": {},
   "outputs": [
    {
     "name": "stdout",
     "output_type": "stream",
     "text": [
      "N700e53e6c3b84b0597c2bd1dd34d7807\n",
      "https://schema.org/LocalBusiness\n",
      "https://schema.org/address\n",
      "N700e53e6c3b84b0597c2bd1dd34d7807\n",
      "https://example.org/christianBiz\n",
      "N700e53e6c3b84b0597c2bd1dd34d7807\n"
     ]
    }
   ],
   "source": [
    "for s, p ,o in G.triples(triple=(None,None,None)):\n",
    "    print(s)"
   ]
  },
  {
   "cell_type": "code",
   "execution_count": 98,
   "metadata": {},
   "outputs": [
    {
     "data": {
      "text/plain": [
       "<Graph identifier=N379a87bf3fb247879a646cccaee11166 (<class 'rdflib.graph.Graph'>)>"
      ]
     },
     "execution_count": 98,
     "metadata": {},
     "output_type": "execute_result"
    }
   ],
   "source": [
    "exNs = Namespace('http://example.com/')\n",
    "namespace_manager = NamespaceManager(Graph())\n",
    "namespace_manager.bind('ex', exNs, override=False)\n",
    "namespace_manager.bind('owl', OWL, override=False)\n",
    "G = Graph()\n",
    "G.namespace_manager = namespace_manager\n",
    "\n",
    "a = infixowl.Class(exNs.Opera, graph=G)\n",
    "a.subClassOf = [exNs.MusicalWork]\n",
    "\n",
    "woman = infixowl.Class(exNs.Female, graph=G) & infixowl.Class(exNs.Human, graph=G)\n",
    "woman.identifier = exNs.Woman\n",
    "\n",
    "infixowl.Restriction(exNs.hasParent, graph=G, allValuesFrom=exNs.Human)\n",
    "\n",
    "G.add(triple=(URIRef(exNs + \"Mads\"), URIRef(exNs + \"hasParent\"), Literal(1, datatype=XSD.integer)))\n",
    "G.add(triple=(URIRef(exNs + \"Mads\"), OWL.Class, exNs.Human))\n",
    "\n",
    "G.serialize(destination='test.ttl')"
   ]
  },
  {
   "cell_type": "code",
   "execution_count": 106,
   "metadata": {},
   "outputs": [
    {
     "name": "stdout",
     "output_type": "stream",
     "text": [
      "(rdflib.term.Literal('0', datatype=rdflib.term.URIRef('http://www.w3.org/2001/XMLSchema#integer')),)\n"
     ]
    }
   ],
   "source": [
    "query = '''SELECT (COUNT(?s) AS ?totalNumberOfInstances)\n",
    "WHERE { ?s owl:Class ex:Human }'''\n",
    "results = G.query(query)\n",
    "for row in results:\n",
    "    print(row)"
   ]
  },
  {
   "cell_type": "code",
   "execution_count": 105,
   "metadata": {},
   "outputs": [
    {
     "data": {
      "text/plain": [
       "<Graph identifier=N0cecda3f1c8548ea99a558cced7447bb (<class 'rdflib.graph.Graph'>)>"
      ]
     },
     "execution_count": 105,
     "metadata": {},
     "output_type": "execute_result"
    }
   ],
   "source": [
    "G = Graph()\n",
    "G.parse('test.ttl')"
   ]
  },
  {
   "cell_type": "code",
   "execution_count": null,
   "metadata": {},
   "outputs": [],
   "source": []
  }
 ],
 "metadata": {
  "kernelspec": {
   "display_name": "Python 3.10.7 64-bit",
   "language": "python",
   "name": "python3"
  },
  "language_info": {
   "codemirror_mode": {
    "name": "ipython",
    "version": 3
   },
   "file_extension": ".py",
   "mimetype": "text/x-python",
   "name": "python",
   "nbconvert_exporter": "python",
   "pygments_lexer": "ipython3",
   "version": "3.10.7"
  },
  "orig_nbformat": 4,
  "vscode": {
   "interpreter": {
    "hash": "aee8b7b246df8f9039afb4144a1f6fd8d2ca17a180786b69acc140d282b71a49"
   }
  }
 },
 "nbformat": 4,
 "nbformat_minor": 2
}
