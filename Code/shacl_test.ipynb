{
 "cells": [
  {
   "cell_type": "code",
   "execution_count": 1,
   "metadata": {},
   "outputs": [],
   "source": [
    "import pyshacl\n",
    "from rdflib import Graph"
   ]
  },
  {
   "cell_type": "code",
   "execution_count": 2,
   "metadata": {},
   "outputs": [
    {
     "ename": "FileNotFoundError",
     "evalue": "[Errno 2] No such file or directory: '/home/ubuntu/vol1/yelp_checkin.nt'",
     "output_type": "error",
     "traceback": [
      "\u001b[0;31m---------------------------------------------------------------------------\u001b[0m",
      "\u001b[0;31mFileNotFoundError\u001b[0m                         Traceback (most recent call last)",
      "Cell \u001b[0;32mIn [2], line 1\u001b[0m\n\u001b[0;32m----> 1\u001b[0m biz_graph \u001b[39m=\u001b[39m Graph()\u001b[39m.\u001b[39;49mparse(\u001b[39m'\u001b[39;49m\u001b[39m/home/ubuntu/vol1/yelp_checkin.nt\u001b[39;49m\u001b[39m'\u001b[39;49m, \u001b[39mformat\u001b[39;49m\u001b[39m=\u001b[39;49m\u001b[39m'\u001b[39;49m\u001b[39mnt\u001b[39;49m\u001b[39m'\u001b[39;49m)\n\u001b[1;32m      2\u001b[0m shacl_graph \u001b[39m=\u001b[39m Graph()\u001b[39m.\u001b[39mparse(\u001b[39m'\u001b[39m\u001b[39mDVML-P7/Code/shacl.ttl\u001b[39m\u001b[39m'\u001b[39m)\n",
      "File \u001b[0;32m~/.local/lib/python3.10/site-packages/rdflib/graph.py:1306\u001b[0m, in \u001b[0;36mGraph.parse\u001b[0;34m(self, source, publicID, format, location, file, data, **args)\u001b[0m\n\u001b[1;32m   1223\u001b[0m \u001b[39mdef\u001b[39;00m \u001b[39mparse\u001b[39m(\n\u001b[1;32m   1224\u001b[0m     \u001b[39mself\u001b[39m,\n\u001b[1;32m   1225\u001b[0m     source: Optional[\n\u001b[0;32m   (...)\u001b[0m\n\u001b[1;32m   1233\u001b[0m     \u001b[39m*\u001b[39m\u001b[39m*\u001b[39margs,\n\u001b[1;32m   1234\u001b[0m ):\n\u001b[1;32m   1235\u001b[0m     \u001b[39m\"\"\"\u001b[39;00m\n\u001b[1;32m   1236\u001b[0m \u001b[39m    Parse an RDF source adding the resulting triples to the Graph.\u001b[39;00m\n\u001b[1;32m   1237\u001b[0m \n\u001b[0;32m   (...)\u001b[0m\n\u001b[1;32m   1303\u001b[0m \n\u001b[1;32m   1304\u001b[0m \u001b[39m    \"\"\"\u001b[39;00m\n\u001b[0;32m-> 1306\u001b[0m     source \u001b[39m=\u001b[39m create_input_source(\n\u001b[1;32m   1307\u001b[0m         source\u001b[39m=\u001b[39;49msource,\n\u001b[1;32m   1308\u001b[0m         publicID\u001b[39m=\u001b[39;49mpublicID,\n\u001b[1;32m   1309\u001b[0m         location\u001b[39m=\u001b[39;49mlocation,\n\u001b[1;32m   1310\u001b[0m         file\u001b[39m=\u001b[39;49mfile,\n\u001b[1;32m   1311\u001b[0m         data\u001b[39m=\u001b[39;49mdata,\n\u001b[1;32m   1312\u001b[0m         \u001b[39mformat\u001b[39;49m\u001b[39m=\u001b[39;49m\u001b[39mformat\u001b[39;49m,\n\u001b[1;32m   1313\u001b[0m     )\n\u001b[1;32m   1314\u001b[0m     \u001b[39mif\u001b[39;00m \u001b[39mformat\u001b[39m \u001b[39mis\u001b[39;00m \u001b[39mNone\u001b[39;00m:\n\u001b[1;32m   1315\u001b[0m         \u001b[39mformat\u001b[39m \u001b[39m=\u001b[39m source\u001b[39m.\u001b[39mcontent_type\n",
      "File \u001b[0;32m~/.local/lib/python3.10/site-packages/rdflib/parser.py:404\u001b[0m, in \u001b[0;36mcreate_input_source\u001b[0;34m(source, publicID, location, file, data, format)\u001b[0m\n\u001b[1;32m    396\u001b[0m auto_close \u001b[39m=\u001b[39m \u001b[39mFalse\u001b[39;00m  \u001b[39m# make sure we close all file handles we open\u001b[39;00m\n\u001b[1;32m    398\u001b[0m \u001b[39mif\u001b[39;00m location \u001b[39mis\u001b[39;00m \u001b[39mnot\u001b[39;00m \u001b[39mNone\u001b[39;00m:\n\u001b[1;32m    399\u001b[0m     (\n\u001b[1;32m    400\u001b[0m         absolute_location,\n\u001b[1;32m    401\u001b[0m         auto_close,\n\u001b[1;32m    402\u001b[0m         file,\n\u001b[1;32m    403\u001b[0m         input_source,\n\u001b[0;32m--> 404\u001b[0m     ) \u001b[39m=\u001b[39m _create_input_source_from_location(\n\u001b[1;32m    405\u001b[0m         file\u001b[39m=\u001b[39;49mfile,\n\u001b[1;32m    406\u001b[0m         \u001b[39mformat\u001b[39;49m\u001b[39m=\u001b[39;49m\u001b[39mformat\u001b[39;49m,\n\u001b[1;32m    407\u001b[0m         input_source\u001b[39m=\u001b[39;49minput_source,\n\u001b[1;32m    408\u001b[0m         location\u001b[39m=\u001b[39;49mlocation,\n\u001b[1;32m    409\u001b[0m     )\n\u001b[1;32m    411\u001b[0m \u001b[39mif\u001b[39;00m file \u001b[39mis\u001b[39;00m \u001b[39mnot\u001b[39;00m \u001b[39mNone\u001b[39;00m:\n\u001b[1;32m    412\u001b[0m     input_source \u001b[39m=\u001b[39m FileInputSource(file)\n",
      "File \u001b[0;32m~/.local/lib/python3.10/site-packages/rdflib/parser.py:456\u001b[0m, in \u001b[0;36m_create_input_source_from_location\u001b[0;34m(file, format, input_source, location)\u001b[0m\n\u001b[1;32m    454\u001b[0m \u001b[39mif\u001b[39;00m absolute_location\u001b[39m.\u001b[39mstartswith(\u001b[39m\"\u001b[39m\u001b[39mfile:///\u001b[39m\u001b[39m\"\u001b[39m):\n\u001b[1;32m    455\u001b[0m     filename \u001b[39m=\u001b[39m url2pathname(absolute_location\u001b[39m.\u001b[39mreplace(\u001b[39m\"\u001b[39m\u001b[39mfile:///\u001b[39m\u001b[39m\"\u001b[39m, \u001b[39m\"\u001b[39m\u001b[39m/\u001b[39m\u001b[39m\"\u001b[39m))\n\u001b[0;32m--> 456\u001b[0m     file \u001b[39m=\u001b[39m \u001b[39mopen\u001b[39;49m(filename, \u001b[39m\"\u001b[39;49m\u001b[39mrb\u001b[39;49m\u001b[39m\"\u001b[39;49m)\n\u001b[1;32m    457\u001b[0m \u001b[39melse\u001b[39;00m:\n\u001b[1;32m    458\u001b[0m     input_source \u001b[39m=\u001b[39m URLInputSource(absolute_location, \u001b[39mformat\u001b[39m)\n",
      "\u001b[0;31mFileNotFoundError\u001b[0m: [Errno 2] No such file or directory: '/home/ubuntu/vol1/yelp_checkin.nt'"
     ]
    }
   ],
   "source": [
    "biz_graph = Graph().parse('/home/ubuntu/vol1/yelp_business.nt', format='nt')\n",
    "shacl_graph = Graph().parse('DVML-P7/Code/shacl.ttl')"
   ]
  },
  {
   "cell_type": "code",
   "execution_count": null,
   "metadata": {},
   "outputs": [],
   "source": []
  }
 ],
 "metadata": {
  "kernelspec": {
   "display_name": "Python 3.10.7 64-bit",
   "language": "python",
   "name": "python3"
  },
  "language_info": {
   "codemirror_mode": {
    "name": "ipython",
    "version": 3
   },
   "file_extension": ".py",
   "mimetype": "text/x-python",
   "name": "python",
   "nbconvert_exporter": "python",
   "pygments_lexer": "ipython3",
   "version": "3.10.7"
  },
  "orig_nbformat": 4,
  "vscode": {
   "interpreter": {
    "hash": "97cc609b13305c559618ec78a438abc56230b9381f827f22d070313b9a1f3777"
   }
  }
 },
 "nbformat": 4,
 "nbformat_minor": 2
}
