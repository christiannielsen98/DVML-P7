{
 "cells": [
  {
   "cell_type": "code",
   "execution_count": 1,
   "metadata": {},
   "outputs": [],
   "source": [
    "from shexer.shaper import Shaper\n",
    "from shexer.consts import NT, SHEXC, SHACL_TURTLE\n",
    "\n",
    "target_classes = [\n",
    "    \"http://schema.org/Restaurant\"\n",
    "]\n",
    "\n",
    "namespaces_dict = {\"http://example.org/\": \"ex\"}\n",
    "\n",
    "input_nt_file = \"/home/ubuntu/vol1/virtuoso/import/yelp_business.nt.gz\"\n",
    "\n",
    "shaper = Shaper(target_classes=target_classes,\n",
    "                graph_file_input=input_nt_file,\n",
    "                input_format=NT,\n",
    "                namespaces_dict=namespaces_dict,  # Default: no prefixes\n",
    "                instantiation_property=\"http://www.w3.org/1999/02/22-rdf-syntax-ns#type\")  # Default rdf:type\n",
    "\n",
    "output_file = \"shaper_example.ttl\"\n",
    "\n",
    "shaper.shex_graph(output_file=output_file,\n",
    "                  acceptance_threshold=0.1,\n",
    "                  output_format=SHACL_TURTLE)\n",
    "\n",
    "print(\"Done!\")\n"
   ]
  },
  {
   "cell_type": "code",
   "execution_count": null,
   "metadata": {},
   "outputs": [],
   "source": []
  }
 ],
 "metadata": {
  "kernelspec": {
   "display_name": "Python 3.10.6 64-bit",
   "language": "python",
   "name": "python3"
  },
  "language_info": {
   "codemirror_mode": {
    "name": "ipython",
    "version": 3
   },
   "file_extension": ".py",
   "mimetype": "text/x-python",
   "name": "python",
   "nbconvert_exporter": "python",
   "pygments_lexer": "ipython3",
   "version": "3.10.6"
  },
  "orig_nbformat": 4,
  "vscode": {
   "interpreter": {
    "hash": "7e1998ff7f8aa20ada591c520b972326324e5ea05489af9e422744c7c09f6dad"
   }
  }
 },
 "nbformat": 4,
 "nbformat_minor": 2
}
