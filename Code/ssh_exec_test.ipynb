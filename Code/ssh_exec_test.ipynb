{
 "cells": [
  {
   "cell_type": "code",
   "execution_count": 4,
   "metadata": {},
   "outputs": [
    {
     "ename": "FileNotFoundError",
     "evalue": "[Errno 2] No such file or directory: '/Users/christiannielsen/Library/CloudStorage/OneDrive-AalborgUniversitet/DVML-P7/P7.pem'",
     "output_type": "error",
     "traceback": [
      "\u001b[0;31m---------------------------------------------------------------------------\u001b[0m",
      "\u001b[0;31mFileNotFoundError\u001b[0m                         Traceback (most recent call last)",
      "Cell \u001b[0;32mIn [4], line 9\u001b[0m\n\u001b[1;32m      7\u001b[0m cmd_to_execute \u001b[39m=\u001b[39m \u001b[39mf\u001b[39m\u001b[39m'\u001b[39m\u001b[39mdocker exec -i vos isql 1111 exec=\u001b[39m\u001b[39m\"\u001b[39m\u001b[39m{\u001b[39;00msparql_query\u001b[39m}\u001b[39;00m\u001b[39m\"\u001b[39m\u001b[39m'\u001b[39m\n\u001b[1;32m      8\u001b[0m ssh \u001b[39m=\u001b[39m paramiko\u001b[39m.\u001b[39mSSHClient()\n\u001b[0;32m----> 9\u001b[0m k \u001b[39m=\u001b[39m paramiko\u001b[39m.\u001b[39;49mRSAKey\u001b[39m.\u001b[39;49mfrom_private_key_file(keyfilename)\n\u001b[1;32m     11\u001b[0m ssh\u001b[39m.\u001b[39mset_missing_host_key_policy(paramiko\u001b[39m.\u001b[39mAutoAddPolicy())\n\u001b[1;32m     12\u001b[0m ssh\u001b[39m.\u001b[39mconnect(hostname\u001b[39m=\u001b[39mhost, username\u001b[39m=\u001b[39muser, pkey\u001b[39m=\u001b[39mk)\n",
      "File \u001b[0;32m~/.local/lib/python3.10/site-packages/paramiko/pkey.py:249\u001b[0m, in \u001b[0;36mPKey.from_private_key_file\u001b[0;34m(cls, filename, password)\u001b[0m\n\u001b[1;32m    228\u001b[0m \u001b[39m@classmethod\u001b[39m\n\u001b[1;32m    229\u001b[0m \u001b[39mdef\u001b[39;00m \u001b[39mfrom_private_key_file\u001b[39m(\u001b[39mcls\u001b[39m, filename, password\u001b[39m=\u001b[39m\u001b[39mNone\u001b[39;00m):\n\u001b[1;32m    230\u001b[0m     \u001b[39m\"\"\"\u001b[39;00m\n\u001b[1;32m    231\u001b[0m \u001b[39m    Create a key object by reading a private key file.  If the private\u001b[39;00m\n\u001b[1;32m    232\u001b[0m \u001b[39m    key is encrypted and ``password`` is not ``None``, the given password\u001b[39;00m\n\u001b[0;32m   (...)\u001b[0m\n\u001b[1;32m    247\u001b[0m \u001b[39m    :raises: `.SSHException` -- if the key file is invalid\u001b[39;00m\n\u001b[1;32m    248\u001b[0m \u001b[39m    \"\"\"\u001b[39;00m\n\u001b[0;32m--> 249\u001b[0m     key \u001b[39m=\u001b[39m \u001b[39mcls\u001b[39;49m(filename\u001b[39m=\u001b[39;49mfilename, password\u001b[39m=\u001b[39;49mpassword)\n\u001b[1;32m    250\u001b[0m     \u001b[39mreturn\u001b[39;00m key\n",
      "File \u001b[0;32m~/.local/lib/python3.10/site-packages/paramiko/rsakey.py:64\u001b[0m, in \u001b[0;36mRSAKey.__init__\u001b[0;34m(self, msg, data, filename, password, key, file_obj)\u001b[0m\n\u001b[1;32m     62\u001b[0m     \u001b[39mreturn\u001b[39;00m\n\u001b[1;32m     63\u001b[0m \u001b[39mif\u001b[39;00m filename \u001b[39mis\u001b[39;00m \u001b[39mnot\u001b[39;00m \u001b[39mNone\u001b[39;00m:\n\u001b[0;32m---> 64\u001b[0m     \u001b[39mself\u001b[39;49m\u001b[39m.\u001b[39;49m_from_private_key_file(filename, password)\n\u001b[1;32m     65\u001b[0m     \u001b[39mreturn\u001b[39;00m\n\u001b[1;32m     66\u001b[0m \u001b[39mif\u001b[39;00m (msg \u001b[39mis\u001b[39;00m \u001b[39mNone\u001b[39;00m) \u001b[39mand\u001b[39;00m (data \u001b[39mis\u001b[39;00m \u001b[39mnot\u001b[39;00m \u001b[39mNone\u001b[39;00m):\n",
      "File \u001b[0;32m~/.local/lib/python3.10/site-packages/paramiko/rsakey.py:194\u001b[0m, in \u001b[0;36mRSAKey._from_private_key_file\u001b[0;34m(self, filename, password)\u001b[0m\n\u001b[1;32m    193\u001b[0m \u001b[39mdef\u001b[39;00m \u001b[39m_from_private_key_file\u001b[39m(\u001b[39mself\u001b[39m, filename, password):\n\u001b[0;32m--> 194\u001b[0m     data \u001b[39m=\u001b[39m \u001b[39mself\u001b[39;49m\u001b[39m.\u001b[39;49m_read_private_key_file(\u001b[39m\"\u001b[39;49m\u001b[39mRSA\u001b[39;49m\u001b[39m\"\u001b[39;49m, filename, password)\n\u001b[1;32m    195\u001b[0m     \u001b[39mself\u001b[39m\u001b[39m.\u001b[39m_decode_key(data)\n",
      "File \u001b[0;32m~/.local/lib/python3.10/site-packages/paramiko/pkey.py:321\u001b[0m, in \u001b[0;36mPKey._read_private_key_file\u001b[0;34m(self, tag, filename, password)\u001b[0m\n\u001b[1;32m    300\u001b[0m \u001b[39mdef\u001b[39;00m \u001b[39m_read_private_key_file\u001b[39m(\u001b[39mself\u001b[39m, tag, filename, password\u001b[39m=\u001b[39m\u001b[39mNone\u001b[39;00m):\n\u001b[1;32m    301\u001b[0m     \u001b[39m\"\"\"\u001b[39;00m\n\u001b[1;32m    302\u001b[0m \u001b[39m    Read an SSH2-format private key file, looking for a string of the type\u001b[39;00m\n\u001b[1;32m    303\u001b[0m \u001b[39m    ``\"BEGIN xxx PRIVATE KEY\"`` for some ``xxx``, base64-decode the text we\u001b[39;00m\n\u001b[0;32m   (...)\u001b[0m\n\u001b[1;32m    319\u001b[0m \u001b[39m    :raises: `.SSHException` -- if the key file is invalid.\u001b[39;00m\n\u001b[1;32m    320\u001b[0m \u001b[39m    \"\"\"\u001b[39;00m\n\u001b[0;32m--> 321\u001b[0m     \u001b[39mwith\u001b[39;00m \u001b[39mopen\u001b[39;49m(filename, \u001b[39m\"\u001b[39;49m\u001b[39mr\u001b[39;49m\u001b[39m\"\u001b[39;49m) \u001b[39mas\u001b[39;00m f:\n\u001b[1;32m    322\u001b[0m         data \u001b[39m=\u001b[39m \u001b[39mself\u001b[39m\u001b[39m.\u001b[39m_read_private_key(tag, f, password)\n\u001b[1;32m    323\u001b[0m     \u001b[39mreturn\u001b[39;00m data\n",
      "\u001b[0;31mFileNotFoundError\u001b[0m: [Errno 2] No such file or directory: '/Users/christiannielsen/Library/CloudStorage/OneDrive-AalborgUniversitet/DVML-P7/P7.pem'"
     ]
    }
   ],
   "source": [
    "import paramiko\n",
    "# sparql_query='SPARQL SELECT * FROM <http://www.yelpkg.com/business> WHERE {  <https://schema.org/category> \"Health & Medical\" } LIMIT 10;'\n",
    "sparql_query = 'SPARQL SELECT ?s ?p ?o FROM <http://www.yelpkg.com/business> WHERE{?s ?p ?o } LIMIT 100;'\n",
    "host = '10.92.0.48'\n",
    "user = 'ubuntu'\n",
    "keyfilename = '/Users/christiannielsen/Library/CloudStorage/OneDrive-AalborgUniversitet/DVML-P7/P7.pem'\n",
    "cmd_to_execute = f'docker exec -i vos isql 1111 exec=\"{sparql_query}\"'\n",
    "ssh = paramiko.SSHClient()\n",
    "k = paramiko.RSAKey.from_private_key_file(keyfilename)\n",
    "\n",
    "ssh.set_missing_host_key_policy(paramiko.AutoAddPolicy())\n",
    "ssh.connect(hostname=host, username=user, pkey=k)\n",
    "ssh_stdin, ssh_stdout, ssh_stderr = ssh.exec_command(cmd_to_execute)\n",
    "print(f'STDOUT: {ssh_stdout.read().decode(\"utf8\")}')\n",
    "print(f'STDERR: {ssh_stderr.read().decode(\"utf8\")}')\n",
    "\n",
    "# Get return code from command (0 is default for success)\n",
    "print(f'Return code: {ssh_stdin.channel.recv_exit_status()}')"
   ]
  },
  {
   "cell_type": "code",
   "execution_count": null,
   "metadata": {},
   "outputs": [],
   "source": []
  }
 ],
 "metadata": {
  "kernelspec": {
   "display_name": "Python 3.10.7 64-bit",
   "language": "python",
   "name": "python3"
  },
  "language_info": {
   "codemirror_mode": {
    "name": "ipython",
    "version": 3
   },
   "file_extension": ".py",
   "mimetype": "text/x-python",
   "name": "python",
   "nbconvert_exporter": "python",
   "pygments_lexer": "ipython3",
   "version": "3.10.7"
  },
  "orig_nbformat": 4,
  "vscode": {
   "interpreter": {
    "hash": "97cc609b13305c559618ec78a438abc56230b9381f827f22d070313b9a1f3777"
   }
  }
 },
 "nbformat": 4,
 "nbformat_minor": 2
}
