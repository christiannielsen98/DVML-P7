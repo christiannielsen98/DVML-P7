{
 "cells": [
  {
   "cell_type": "code",
   "execution_count": 1,
   "metadata": {},
   "outputs": [],
   "source": [
    "#from UtilityFunctions.run_query import run_query\n",
    "from UtilityFunctions.exec_cmd_on_server import exec_cmd_on_server, exec_sparql_on_server"
   ]
  },
  {
   "cell_type": "code",
   "execution_count": 2,
   "metadata": {},
   "outputs": [
    {
     "name": "stdout",
     "output_type": "stream",
     "text": [
      "STDOUT: \n",
      "DVML-P7\n",
      "Desktop\n",
      "Documents\n",
      "Downloads\n",
      "Music\n",
      "OneDrive\n",
      "Pictures\n",
      "Public\n",
      "Python-3.10.6\n",
      "Templates\n",
      "Videos\n",
      "database\n",
      "import\n",
      "snap\n",
      "virtuoso.ini.example\n",
      "vol1\n",
      "\n",
      "STDERR: \n",
      "\n",
      "Return code: \n",
      "0\n"
     ]
    },
    {
     "data": {
      "text/plain": [
       "<paramiko.ChannelFile from <paramiko.Channel 0 (closed) -> <paramiko.Transport at 0x79acac0 (cipher aes128-ctr, 128 bits) (active; 0 open channel(s))>>>"
      ]
     },
     "execution_count": 2,
     "metadata": {},
     "output_type": "execute_result"
    }
   ],
   "source": [
    "exec_cmd_on_server(cmd_to_execute='ls')"
   ]
  },
  {
   "cell_type": "code",
   "execution_count": 4,
   "metadata": {},
   "outputs": [
    {
     "name": "stdout",
     "output_type": "stream",
     "text": [
      "STDOUT: \n",
      "s: https://example.org/business_id/-a7VXX0-V9LgWMFrq90iNA; p: http://www.w3.org/2000/01/rdf-schema#Class; o: https://schema.org/LocalBusiness\n",
      "s: https://example.org/business_id/0UqeZTDBdV0uY3wesbLvYQ; p: http://www.w3.org/2000/01/rdf-schema#Class; o: https://schema.org/LocalBusiness\n",
      "s: https://example.org/business_id/1jx1sfgjgVg0nM6n3p0xWA; p: http://www.w3.org/2000/01/rdf-schema#Class; o: https://schema.org/LocalBusiness\n",
      "s: https://example.org/business_id/2MAQeAqmD8enCT2ZYqUgIQ; p: http://www.w3.org/2000/01/rdf-schema#Class; o: https://schema.org/LocalBusiness\n",
      "s: https://example.org/business_id/2O2K6SXPWv56amqxCECd4w; p: http://www.w3.org/2000/01/rdf-schema#Class; o: https://schema.org/LocalBusiness\n",
      "s: https://example.org/business_id/5Z8iBpJMmOMz6G_7oVnzRA; p: http://www.w3.org/2000/01/rdf-schema#Class; o: https://schema.org/LocalBusiness\n",
      "s: https://example.org/business_id/7omkeqEv-kKMIn9kmOR6Lw; p: http://www.w3.org/2000/01/rdf-schema#Class; o: https://schema.org/LocalBusiness\n",
      "s: https://example.org/business_id/7xc84taj12pt-RtZhAfSkQ; p: http://www.w3.org/2000/01/rdf-schema#Class; o: https://schema.org/LocalBusiness\n",
      "s: https://example.org/business_id/8n93L-ilMAsvwUatarykSg; p: http://www.w3.org/2000/01/rdf-schema#Class; o: https://schema.org/LocalBusiness\n",
      "s: https://example.org/business_id/9RGR4_r4PJLTooNmscUE_A; p: http://www.w3.org/2000/01/rdf-schema#Class; o: https://schema.org/LocalBusiness\n",
      "\n",
      "STDERR: \n",
      "\n",
      "Return code: \n",
      "0\n"
     ]
    },
    {
     "data": {
      "text/plain": [
       "<paramiko.ChannelFile from <paramiko.Channel 0 (closed) -> <paramiko.Transport at 0x2721add0 (cipher aes128-ctr, 128 bits) (active; 0 open channel(s))>>>"
      ]
     },
     "execution_count": 4,
     "metadata": {},
     "output_type": "execute_result"
    }
   ],
   "source": [
    "# sparql_query='SELECT * FROM <http://www.yelpkg.com/business> WHERE { <https://schema.org/category> \"Health & Medical\" } LIMIT 10'\n",
    "sparql_query = 'SELECT ?s ?p ?o FROM <http://www.yelpkg.com/business> WHERE { ?s ?p ?o } LIMIT 10'\n",
    "exec_sparql_on_server(sparql_query=sparql_query)"
   ]
  },
  {
   "cell_type": "code",
   "execution_count": null,
   "metadata": {},
   "outputs": [],
   "source": []
  }
 ],
 "metadata": {
  "kernelspec": {
   "display_name": "Python 3.10.8 64-bit",
   "language": "python",
   "name": "python3"
  },
  "language_info": {
   "codemirror_mode": {
    "name": "ipython",
    "version": 3
   },
   "file_extension": ".py",
   "mimetype": "text/x-python",
   "name": "python",
   "nbconvert_exporter": "python",
   "pygments_lexer": "ipython3",
   "version": "3.10.8"
  },
  "orig_nbformat": 4,
  "vscode": {
   "interpreter": {
    "hash": "97cc609b13305c559618ec78a438abc56230b9381f827f22d070313b9a1f3777"
   }
  }
 },
 "nbformat": 4,
 "nbformat_minor": 2
}
