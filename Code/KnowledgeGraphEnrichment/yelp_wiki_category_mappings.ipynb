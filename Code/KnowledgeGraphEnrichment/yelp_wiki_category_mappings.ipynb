{
 "cells": [
  {
   "cell_type": "code",
   "execution_count": 17,
   "metadata": {},
   "outputs": [
    {
     "ename": "ModuleNotFoundError",
     "evalue": "No module named 'matplotlib'",
     "output_type": "error",
     "traceback": [
      "\u001b[0;31m---------------------------------------------------------------------------\u001b[0m",
      "\u001b[0;31mModuleNotFoundError\u001b[0m                       Traceback (most recent call last)",
      "Cell \u001b[0;32mIn [17], line 6\u001b[0m\n\u001b[1;32m      4\u001b[0m \u001b[39mfrom\u001b[39;00m \u001b[39mCode\u001b[39;00m\u001b[39m.\u001b[39;00m\u001b[39mUtilityFunctions\u001b[39;00m\u001b[39m.\u001b[39;00m\u001b[39mwikidata_functions\u001b[39;00m \u001b[39mimport\u001b[39;00m wikidata_query\n\u001b[1;32m      5\u001b[0m \u001b[39mimport\u001b[39;00m \u001b[39mpandas\u001b[39;00m \u001b[39mas\u001b[39;00m \u001b[39mpd\u001b[39;00m\n\u001b[0;32m----> 6\u001b[0m \u001b[39mimport\u001b[39;00m \u001b[39mmatplotlib\u001b[39;00m\u001b[39m.\u001b[39;00m\u001b[39mpyplot\u001b[39;00m \u001b[39mas\u001b[39;00m \u001b[39mplt\u001b[39;00m\n",
      "\u001b[0;31mModuleNotFoundError\u001b[0m: No module named 'matplotlib'"
     ]
    }
   ],
   "source": [
    "import sys\n",
    "sys.path.append(sys.path[0][:sys.path[0].find('DVML-P7') + len('DVML-P7')])\n",
    "from Code.UtilityFunctions.get_data_path import get_path\n",
    "from Code.UtilityFunctions.wikidata_functions import wikidata_query\n",
    "import pandas as pd"
   ]
  },
  {
   "cell_type": "code",
   "execution_count": 3,
   "metadata": {},
   "outputs": [],
   "source": [
    "yelp_wiki_category_mappings = pd.read_csv(get_path('yelp_wiki_schema_triples_df.csv'))"
   ]
  },
  {
   "cell_type": "code",
   "execution_count": 4,
   "metadata": {},
   "outputs": [
    {
     "data": {
      "text/html": [
       "<div>\n",
       "<style scoped>\n",
       "    .dataframe tbody tr th:only-of-type {\n",
       "        vertical-align: middle;\n",
       "    }\n",
       "\n",
       "    .dataframe tbody tr th {\n",
       "        vertical-align: top;\n",
       "    }\n",
       "\n",
       "    .dataframe thead th {\n",
       "        text-align: right;\n",
       "    }\n",
       "</style>\n",
       "<table border=\"1\" class=\"dataframe\">\n",
       "  <thead>\n",
       "    <tr style=\"text-align: right;\">\n",
       "      <th></th>\n",
       "      <th>subclassOf</th>\n",
       "      <th>subclassOf_label</th>\n",
       "      <th>qid</th>\n",
       "    </tr>\n",
       "  </thead>\n",
       "  <tbody>\n",
       "    <tr>\n",
       "      <th>0</th>\n",
       "      <td>Q41176</td>\n",
       "      <td>building</td>\n",
       "      <td>Q11707</td>\n",
       "    </tr>\n",
       "    <tr>\n",
       "      <th>1</th>\n",
       "      <td>Q41958</td>\n",
       "      <td>foodservice</td>\n",
       "      <td>Q11707</td>\n",
       "    </tr>\n",
       "    <tr>\n",
       "      <th>2</th>\n",
       "      <td>Q1431026</td>\n",
       "      <td>horeca</td>\n",
       "      <td>Q11707</td>\n",
       "    </tr>\n",
       "    <tr>\n",
       "      <th>3</th>\n",
       "      <td>Q62602544</td>\n",
       "      <td>eating and lodging</td>\n",
       "      <td>Q11707</td>\n",
       "    </tr>\n",
       "  </tbody>\n",
       "</table>\n",
       "</div>"
      ],
      "text/plain": [
       "  subclassOf    subclassOf_label     qid\n",
       "0     Q41176            building  Q11707\n",
       "1     Q41958         foodservice  Q11707\n",
       "2   Q1431026              horeca  Q11707\n",
       "3  Q62602544  eating and lodging  Q11707"
      ]
     },
     "execution_count": 4,
     "metadata": {},
     "output_type": "execute_result"
    }
   ],
   "source": [
    "def get_subclass_of_wikientity(qid):\n",
    "    try:\n",
    "        query = f\"\"\"SELECT ?item ?itemLabel \n",
    "                WHERE \n",
    "                    {{\n",
    "                    wd:{qid} wdt:P279 ?item .\n",
    "                    SERVICE wikibase:label {{ bd:serviceParam wikibase:language \"en\". }}\n",
    "                    }}\"\"\"\n",
    "        df = wikidata_query(query)[['item.value', 'itemLabel.value']]\n",
    "        df['item.value'] = df.apply(lambda x: x['item.value'][31:], axis=1)\n",
    "        df.rename(columns={'item.value': 'subclassOf', 'itemLabel.value': 'subclassOf_label'}, inplace=True)\n",
    "        df['qid'] = qid\n",
    "        return df\n",
    "    except:\n",
    "        pass\n",
    "get_subclass_of_wikientity('Q11707')"
   ]
  },
  {
   "cell_type": "code",
   "execution_count": 5,
   "metadata": {},
   "outputs": [],
   "source": [
    "df = yelp_wiki_category_mappings[['split_category', 'SchemaType', 'schema_or_yelp_category', 'qid', 'qid_label']].drop_duplicates()"
   ]
  },
  {
   "cell_type": "code",
   "execution_count": 6,
   "metadata": {},
   "outputs": [
    {
     "data": {
      "text/plain": [
       "0            Restaurant\n",
       "6                Retail\n",
       "7               Service\n",
       "8                DaySpa\n",
       "9                DaySpa\n",
       "             ...       \n",
       "1981        Osteopathic\n",
       "1983           CityHall\n",
       "1985      ReturnAtKiosk\n",
       "1986    ParkingFacility\n",
       "1989              Beach\n",
       "Name: SchemaType, Length: 431, dtype: object"
      ]
     },
     "execution_count": 6,
     "metadata": {},
     "output_type": "execute_result"
    }
   ],
   "source": [
    "df['SchemaType'].dropna()"
   ]
  },
  {
   "cell_type": "code",
   "execution_count": 7,
   "metadata": {},
   "outputs": [
    {
     "data": {
      "text/html": [
       "<div>\n",
       "<style scoped>\n",
       "    .dataframe tbody tr th:only-of-type {\n",
       "        vertical-align: middle;\n",
       "    }\n",
       "\n",
       "    .dataframe tbody tr th {\n",
       "        vertical-align: top;\n",
       "    }\n",
       "\n",
       "    .dataframe thead th {\n",
       "        text-align: right;\n",
       "    }\n",
       "</style>\n",
       "<table border=\"1\" class=\"dataframe\">\n",
       "  <thead>\n",
       "    <tr style=\"text-align: right;\">\n",
       "      <th></th>\n",
       "      <th>split_category</th>\n",
       "      <th>SchemaType</th>\n",
       "      <th>schema_or_yelp_category</th>\n",
       "      <th>qid</th>\n",
       "      <th>qid_label</th>\n",
       "    </tr>\n",
       "  </thead>\n",
       "  <tbody>\n",
       "    <tr>\n",
       "      <th>0</th>\n",
       "      <td>Restaurant</td>\n",
       "      <td>Restaurant</td>\n",
       "      <td>Restaurant</td>\n",
       "      <td>Q11707</td>\n",
       "      <td>restaurant</td>\n",
       "    </tr>\n",
       "    <tr>\n",
       "      <th>6</th>\n",
       "      <td>Shopping</td>\n",
       "      <td>Retail</td>\n",
       "      <td>Retail</td>\n",
       "      <td>Q126793</td>\n",
       "      <td>retail</td>\n",
       "    </tr>\n",
       "    <tr>\n",
       "      <th>7</th>\n",
       "      <td>HomeService</td>\n",
       "      <td>Service</td>\n",
       "      <td>Service</td>\n",
       "      <td>Q44127</td>\n",
       "      <td>server</td>\n",
       "    </tr>\n",
       "    <tr>\n",
       "      <th>8</th>\n",
       "      <td>Beauty</td>\n",
       "      <td>DaySpa</td>\n",
       "      <td>DaySpa</td>\n",
       "      <td>NaN</td>\n",
       "      <td>NaN</td>\n",
       "    </tr>\n",
       "    <tr>\n",
       "      <th>9</th>\n",
       "      <td>Spa</td>\n",
       "      <td>DaySpa</td>\n",
       "      <td>DaySpa</td>\n",
       "      <td>NaN</td>\n",
       "      <td>NaN</td>\n",
       "    </tr>\n",
       "    <tr>\n",
       "      <th>...</th>\n",
       "      <td>...</td>\n",
       "      <td>...</td>\n",
       "      <td>...</td>\n",
       "      <td>...</td>\n",
       "      <td>...</td>\n",
       "    </tr>\n",
       "    <tr>\n",
       "      <th>1981</th>\n",
       "      <td>Osteopath</td>\n",
       "      <td>Osteopathic</td>\n",
       "      <td>Osteopathic</td>\n",
       "      <td>NaN</td>\n",
       "      <td>NaN</td>\n",
       "    </tr>\n",
       "    <tr>\n",
       "      <th>1983</th>\n",
       "      <td>TownHall</td>\n",
       "      <td>CityHall</td>\n",
       "      <td>CityHall</td>\n",
       "      <td>Q35606</td>\n",
       "      <td>Victoria Jubilee Town Hall</td>\n",
       "    </tr>\n",
       "    <tr>\n",
       "      <th>1985</th>\n",
       "      <td>Kiosk</td>\n",
       "      <td>ReturnAtKiosk</td>\n",
       "      <td>ReturnAtKiosk</td>\n",
       "      <td>NaN</td>\n",
       "      <td>NaN</td>\n",
       "    </tr>\n",
       "    <tr>\n",
       "      <th>1986</th>\n",
       "      <td>BikeParking</td>\n",
       "      <td>ParkingFacility</td>\n",
       "      <td>ParkingFacility</td>\n",
       "      <td>Q6501349</td>\n",
       "      <td>parking lot</td>\n",
       "    </tr>\n",
       "    <tr>\n",
       "      <th>1989</th>\n",
       "      <td>BeachBar</td>\n",
       "      <td>Beach</td>\n",
       "      <td>Beach</td>\n",
       "      <td>Q40080</td>\n",
       "      <td>beach</td>\n",
       "    </tr>\n",
       "  </tbody>\n",
       "</table>\n",
       "<p>431 rows × 5 columns</p>\n",
       "</div>"
      ],
      "text/plain": [
       "     split_category       SchemaType schema_or_yelp_category       qid  \\\n",
       "0        Restaurant       Restaurant              Restaurant    Q11707   \n",
       "6          Shopping           Retail                  Retail   Q126793   \n",
       "7       HomeService          Service                 Service    Q44127   \n",
       "8            Beauty           DaySpa                  DaySpa       NaN   \n",
       "9               Spa           DaySpa                  DaySpa       NaN   \n",
       "...             ...              ...                     ...       ...   \n",
       "1981      Osteopath      Osteopathic             Osteopathic       NaN   \n",
       "1983       TownHall         CityHall                CityHall    Q35606   \n",
       "1985          Kiosk    ReturnAtKiosk           ReturnAtKiosk       NaN   \n",
       "1986    BikeParking  ParkingFacility         ParkingFacility  Q6501349   \n",
       "1989       BeachBar            Beach                   Beach    Q40080   \n",
       "\n",
       "                       qid_label  \n",
       "0                     restaurant  \n",
       "6                         retail  \n",
       "7                         server  \n",
       "8                            NaN  \n",
       "9                            NaN  \n",
       "...                          ...  \n",
       "1981                         NaN  \n",
       "1983  Victoria Jubilee Town Hall  \n",
       "1985                         NaN  \n",
       "1986                 parking lot  \n",
       "1989                       beach  \n",
       "\n",
       "[431 rows x 5 columns]"
      ]
     },
     "execution_count": 7,
     "metadata": {},
     "output_type": "execute_result"
    }
   ],
   "source": [
    "df[~df['SchemaType'].isna()]"
   ]
  },
  {
   "cell_type": "code",
   "execution_count": 8,
   "metadata": {},
   "outputs": [
    {
     "data": {
      "text/html": [
       "<div>\n",
       "<style scoped>\n",
       "    .dataframe tbody tr th:only-of-type {\n",
       "        vertical-align: middle;\n",
       "    }\n",
       "\n",
       "    .dataframe tbody tr th {\n",
       "        vertical-align: top;\n",
       "    }\n",
       "\n",
       "    .dataframe thead th {\n",
       "        text-align: right;\n",
       "    }\n",
       "</style>\n",
       "<table border=\"1\" class=\"dataframe\">\n",
       "  <thead>\n",
       "    <tr style=\"text-align: right;\">\n",
       "      <th></th>\n",
       "      <th>split_category</th>\n",
       "      <th>SchemaType</th>\n",
       "      <th>schema_or_yelp_category</th>\n",
       "      <th>qid</th>\n",
       "      <th>qid_label</th>\n",
       "    </tr>\n",
       "  </thead>\n",
       "  <tbody>\n",
       "    <tr>\n",
       "      <th>0</th>\n",
       "      <td>Restaurant</td>\n",
       "      <td>Restaurant</td>\n",
       "      <td>Restaurant</td>\n",
       "      <td>Q11707</td>\n",
       "      <td>restaurant</td>\n",
       "    </tr>\n",
       "    <tr>\n",
       "      <th>6</th>\n",
       "      <td>Shopping</td>\n",
       "      <td>Retail</td>\n",
       "      <td>Retail</td>\n",
       "      <td>Q126793</td>\n",
       "      <td>retail</td>\n",
       "    </tr>\n",
       "    <tr>\n",
       "      <th>7</th>\n",
       "      <td>HomeService</td>\n",
       "      <td>Service</td>\n",
       "      <td>Service</td>\n",
       "      <td>Q44127</td>\n",
       "      <td>server</td>\n",
       "    </tr>\n",
       "    <tr>\n",
       "      <th>8</th>\n",
       "      <td>Beauty</td>\n",
       "      <td>DaySpa</td>\n",
       "      <td>DaySpa</td>\n",
       "      <td>NaN</td>\n",
       "      <td>NaN</td>\n",
       "    </tr>\n",
       "    <tr>\n",
       "      <th>9</th>\n",
       "      <td>Spa</td>\n",
       "      <td>DaySpa</td>\n",
       "      <td>DaySpa</td>\n",
       "      <td>NaN</td>\n",
       "      <td>NaN</td>\n",
       "    </tr>\n",
       "    <tr>\n",
       "      <th>...</th>\n",
       "      <td>...</td>\n",
       "      <td>...</td>\n",
       "      <td>...</td>\n",
       "      <td>...</td>\n",
       "      <td>...</td>\n",
       "    </tr>\n",
       "    <tr>\n",
       "      <th>1981</th>\n",
       "      <td>Osteopath</td>\n",
       "      <td>Osteopathic</td>\n",
       "      <td>Osteopathic</td>\n",
       "      <td>NaN</td>\n",
       "      <td>NaN</td>\n",
       "    </tr>\n",
       "    <tr>\n",
       "      <th>1983</th>\n",
       "      <td>TownHall</td>\n",
       "      <td>CityHall</td>\n",
       "      <td>CityHall</td>\n",
       "      <td>Q35606</td>\n",
       "      <td>Victoria Jubilee Town Hall</td>\n",
       "    </tr>\n",
       "    <tr>\n",
       "      <th>1985</th>\n",
       "      <td>Kiosk</td>\n",
       "      <td>ReturnAtKiosk</td>\n",
       "      <td>ReturnAtKiosk</td>\n",
       "      <td>NaN</td>\n",
       "      <td>NaN</td>\n",
       "    </tr>\n",
       "    <tr>\n",
       "      <th>1986</th>\n",
       "      <td>BikeParking</td>\n",
       "      <td>ParkingFacility</td>\n",
       "      <td>ParkingFacility</td>\n",
       "      <td>Q6501349</td>\n",
       "      <td>parking lot</td>\n",
       "    </tr>\n",
       "    <tr>\n",
       "      <th>1989</th>\n",
       "      <td>BeachBar</td>\n",
       "      <td>Beach</td>\n",
       "      <td>Beach</td>\n",
       "      <td>Q40080</td>\n",
       "      <td>beach</td>\n",
       "    </tr>\n",
       "  </tbody>\n",
       "</table>\n",
       "<p>431 rows × 5 columns</p>\n",
       "</div>"
      ],
      "text/plain": [
       "     split_category       SchemaType schema_or_yelp_category       qid  \\\n",
       "0        Restaurant       Restaurant              Restaurant    Q11707   \n",
       "6          Shopping           Retail                  Retail   Q126793   \n",
       "7       HomeService          Service                 Service    Q44127   \n",
       "8            Beauty           DaySpa                  DaySpa       NaN   \n",
       "9               Spa           DaySpa                  DaySpa       NaN   \n",
       "...             ...              ...                     ...       ...   \n",
       "1981      Osteopath      Osteopathic             Osteopathic       NaN   \n",
       "1983       TownHall         CityHall                CityHall    Q35606   \n",
       "1985          Kiosk    ReturnAtKiosk           ReturnAtKiosk       NaN   \n",
       "1986    BikeParking  ParkingFacility         ParkingFacility  Q6501349   \n",
       "1989       BeachBar            Beach                   Beach    Q40080   \n",
       "\n",
       "                       qid_label  \n",
       "0                     restaurant  \n",
       "6                         retail  \n",
       "7                         server  \n",
       "8                            NaN  \n",
       "9                            NaN  \n",
       "...                          ...  \n",
       "1981                         NaN  \n",
       "1983  Victoria Jubilee Town Hall  \n",
       "1985                         NaN  \n",
       "1986                 parking lot  \n",
       "1989                       beach  \n",
       "\n",
       "[431 rows x 5 columns]"
      ]
     },
     "execution_count": 8,
     "metadata": {},
     "output_type": "execute_result"
    }
   ],
   "source": [
    "df[~df['SchemaType'].isna()]"
   ]
  },
  {
   "cell_type": "code",
   "execution_count": 9,
   "metadata": {},
   "outputs": [
    {
     "data": {
      "text/plain": [
       "(699,)"
      ]
     },
     "execution_count": 9,
     "metadata": {},
     "output_type": "execute_result"
    }
   ],
   "source": [
    "df['qid_label'].dropna().shape"
   ]
  },
  {
   "cell_type": "code",
   "execution_count": 10,
   "metadata": {},
   "outputs": [
    {
     "data": {
      "text/plain": [
       "(431,)"
      ]
     },
     "execution_count": 10,
     "metadata": {},
     "output_type": "execute_result"
    }
   ],
   "source": [
    "df.loc[~df['SchemaType'].isna(), 'qid_label'].shape"
   ]
  },
  {
   "cell_type": "code",
   "execution_count": null,
   "metadata": {},
   "outputs": [],
   "source": []
  },
  {
   "cell_type": "code",
   "execution_count": 11,
   "metadata": {},
   "outputs": [
    {
     "data": {
      "text/plain": [
       "(1239,)"
      ]
     },
     "execution_count": 11,
     "metadata": {},
     "output_type": "execute_result"
    }
   ],
   "source": [
    "df['schema_or_yelp_category'].unique().shape"
   ]
  },
  {
   "cell_type": "code",
   "execution_count": 12,
   "metadata": {},
   "outputs": [
    {
     "data": {
      "text/plain": [
       "(1239,)"
      ]
     },
     "execution_count": 12,
     "metadata": {},
     "output_type": "execute_result"
    }
   ],
   "source": [
    "yelp_wiki_category_mappings['schema_or_yelp_category'].unique().shape"
   ]
  },
  {
   "cell_type": "code",
   "execution_count": 13,
   "metadata": {},
   "outputs": [
    {
     "data": {
      "text/html": [
       "<div>\n",
       "<style scoped>\n",
       "    .dataframe tbody tr th:only-of-type {\n",
       "        vertical-align: middle;\n",
       "    }\n",
       "\n",
       "    .dataframe tbody tr th {\n",
       "        vertical-align: top;\n",
       "    }\n",
       "\n",
       "    .dataframe thead th {\n",
       "        text-align: right;\n",
       "    }\n",
       "</style>\n",
       "<table border=\"1\" class=\"dataframe\">\n",
       "  <thead>\n",
       "    <tr style=\"text-align: right;\">\n",
       "      <th></th>\n",
       "      <th>category</th>\n",
       "      <th>occurences</th>\n",
       "      <th>split_category</th>\n",
       "      <th>SchemaType</th>\n",
       "      <th>schema_or_yelp_category</th>\n",
       "      <th>qid</th>\n",
       "      <th>subclassOf</th>\n",
       "      <th>subclassOf_label</th>\n",
       "    </tr>\n",
       "    <tr>\n",
       "      <th>qid_label</th>\n",
       "      <th></th>\n",
       "      <th></th>\n",
       "      <th></th>\n",
       "      <th></th>\n",
       "      <th></th>\n",
       "      <th></th>\n",
       "      <th></th>\n",
       "      <th></th>\n",
       "    </tr>\n",
       "  </thead>\n",
       "  <tbody>\n",
       "    <tr>\n",
       "      <th>park</th>\n",
       "      <td>25</td>\n",
       "      <td>25</td>\n",
       "      <td>25</td>\n",
       "      <td>25</td>\n",
       "      <td>25</td>\n",
       "      <td>25</td>\n",
       "      <td>25</td>\n",
       "      <td>25</td>\n",
       "    </tr>\n",
       "    <tr>\n",
       "      <th>motorcycle</th>\n",
       "      <td>25</td>\n",
       "      <td>25</td>\n",
       "      <td>25</td>\n",
       "      <td>25</td>\n",
       "      <td>25</td>\n",
       "      <td>25</td>\n",
       "      <td>25</td>\n",
       "      <td>25</td>\n",
       "    </tr>\n",
       "    <tr>\n",
       "      <th>ski resort</th>\n",
       "      <td>25</td>\n",
       "      <td>25</td>\n",
       "      <td>25</td>\n",
       "      <td>25</td>\n",
       "      <td>25</td>\n",
       "      <td>25</td>\n",
       "      <td>25</td>\n",
       "      <td>25</td>\n",
       "    </tr>\n",
       "    <tr>\n",
       "      <th>dentist</th>\n",
       "      <td>21</td>\n",
       "      <td>21</td>\n",
       "      <td>21</td>\n",
       "      <td>21</td>\n",
       "      <td>21</td>\n",
       "      <td>21</td>\n",
       "      <td>21</td>\n",
       "      <td>21</td>\n",
       "    </tr>\n",
       "    <tr>\n",
       "      <th>car dealership</th>\n",
       "      <td>21</td>\n",
       "      <td>21</td>\n",
       "      <td>21</td>\n",
       "      <td>21</td>\n",
       "      <td>21</td>\n",
       "      <td>21</td>\n",
       "      <td>21</td>\n",
       "      <td>21</td>\n",
       "    </tr>\n",
       "    <tr>\n",
       "      <th>...</th>\n",
       "      <td>...</td>\n",
       "      <td>...</td>\n",
       "      <td>...</td>\n",
       "      <td>...</td>\n",
       "      <td>...</td>\n",
       "      <td>...</td>\n",
       "      <td>...</td>\n",
       "      <td>...</td>\n",
       "    </tr>\n",
       "    <tr>\n",
       "      <th>fondue</th>\n",
       "      <td>1</td>\n",
       "      <td>1</td>\n",
       "      <td>1</td>\n",
       "      <td>0</td>\n",
       "      <td>1</td>\n",
       "      <td>1</td>\n",
       "      <td>1</td>\n",
       "      <td>1</td>\n",
       "    </tr>\n",
       "    <tr>\n",
       "      <th>fishing</th>\n",
       "      <td>1</td>\n",
       "      <td>1</td>\n",
       "      <td>1</td>\n",
       "      <td>0</td>\n",
       "      <td>1</td>\n",
       "      <td>1</td>\n",
       "      <td>1</td>\n",
       "      <td>1</td>\n",
       "    </tr>\n",
       "    <tr>\n",
       "      <th>fertility</th>\n",
       "      <td>1</td>\n",
       "      <td>1</td>\n",
       "      <td>1</td>\n",
       "      <td>0</td>\n",
       "      <td>1</td>\n",
       "      <td>1</td>\n",
       "      <td>1</td>\n",
       "      <td>1</td>\n",
       "    </tr>\n",
       "    <tr>\n",
       "      <th>ferry ship</th>\n",
       "      <td>1</td>\n",
       "      <td>1</td>\n",
       "      <td>1</td>\n",
       "      <td>0</td>\n",
       "      <td>1</td>\n",
       "      <td>1</td>\n",
       "      <td>1</td>\n",
       "      <td>1</td>\n",
       "    </tr>\n",
       "    <tr>\n",
       "      <th>Újpesti TE</th>\n",
       "      <td>1</td>\n",
       "      <td>1</td>\n",
       "      <td>1</td>\n",
       "      <td>0</td>\n",
       "      <td>1</td>\n",
       "      <td>1</td>\n",
       "      <td>0</td>\n",
       "      <td>0</td>\n",
       "    </tr>\n",
       "  </tbody>\n",
       "</table>\n",
       "<p>570 rows × 8 columns</p>\n",
       "</div>"
      ],
      "text/plain": [
       "                category  occurences  split_category  SchemaType  \\\n",
       "qid_label                                                          \n",
       "park                  25          25              25          25   \n",
       "motorcycle            25          25              25          25   \n",
       "ski resort            25          25              25          25   \n",
       "dentist               21          21              21          21   \n",
       "car dealership        21          21              21          21   \n",
       "...                  ...         ...             ...         ...   \n",
       "fondue                 1           1               1           0   \n",
       "fishing                1           1               1           0   \n",
       "fertility              1           1               1           0   \n",
       "ferry ship             1           1               1           0   \n",
       "Újpesti TE             1           1               1           0   \n",
       "\n",
       "                schema_or_yelp_category  qid  subclassOf  subclassOf_label  \n",
       "qid_label                                                                   \n",
       "park                                 25   25          25                25  \n",
       "motorcycle                           25   25          25                25  \n",
       "ski resort                           25   25          25                25  \n",
       "dentist                              21   21          21                21  \n",
       "car dealership                       21   21          21                21  \n",
       "...                                 ...  ...         ...               ...  \n",
       "fondue                                1    1           1                 1  \n",
       "fishing                               1    1           1                 1  \n",
       "fertility                             1    1           1                 1  \n",
       "ferry ship                            1    1           1                 1  \n",
       "Újpesti TE                            1    1           0                 0  \n",
       "\n",
       "[570 rows x 8 columns]"
      ]
     },
     "execution_count": 13,
     "metadata": {},
     "output_type": "execute_result"
    }
   ],
   "source": [
    "yelp_wiki_category_mappings.groupby('qid_label').count().sort_values('qid', ascending=False)"
   ]
  },
  {
   "cell_type": "code",
   "execution_count": 18,
   "metadata": {},
   "outputs": [
    {
     "data": {
      "text/plain": [
       "Text(0, 0.5, 'Proportion of Entities')"
      ]
     },
     "execution_count": 18,
     "metadata": {},
     "output_type": "execute_result"
    },
    {
     "data": {
      "image/png": "[encoded data removed]",
      "text/plain": [
       "<Figure size 640x480 with 1 Axes>"
      ]
     },
     "metadata": {},
     "output_type": "display_data"
    }
   ],
   "source": [
    "data = yelp_wiki_category_mappings.groupby('qid_label').count().sort_values('qid', ascending=False)['subclassOf'].hist(bins=25, alpha=1, align='left', rwidth=0.9, density=True)\n",
    "data.set_xlabel(\"Amount of Immediate Superclasses\")\n",
    "data.set_ylabel(\"Proportion of Entities\")"
   ]
  },
  {
   "cell_type": "code",
   "execution_count": null,
   "metadata": {},
   "outputs": [
    {
     "data": {
      "text/plain": [
       "Text(0, 0.5, 'count')"
      ]
     },
     "execution_count": 11,
     "metadata": {},
     "output_type": "execute_result"
    },
    {
     "data": {
      "image/png": "[encoded data removed]",
      "text/plain": [
       "<Figure size 640x480 with 1 Axes>"
      ]
     },
     "metadata": {},
     "output_type": "display_data"
    }
   ],
   "source": [
    "import matplotlib.pyplot as plt\n",
    "data = yelp_wiki_category_mappings.groupby('schema_or_yelp_category').count().sort_values('qid', ascending=False)['subclassOf'].hist( bins=25, alpha=1, align='left', rwidth=0.9)\n",
    "data.set_xlabel(\"number of Yelp categories per mapped Wikidata entity\")\n",
    "data.set_ylabel(\"count\")"
   ]
  },
  {
   "cell_type": "code",
   "execution_count": 12,
   "metadata": {},
   "outputs": [
    {
     "data": {
      "text/plain": [
       "576"
      ]
     },
     "execution_count": 12,
     "metadata": {},
     "output_type": "execute_result"
    }
   ],
   "source": [
    "df['qid'].dropna().shape[0]"
   ]
  },
  {
   "cell_type": "code",
   "execution_count": null,
   "metadata": {},
   "outputs": [],
   "source": []
  }
 ],
 "metadata": {
  "kernelspec": {
   "display_name": "Python 3",
   "language": "python",
   "name": "python3"
  },
  "language_info": {
   "codemirror_mode": {
    "name": "ipython",
    "version": 3
   },
   "file_extension": ".py",
   "mimetype": "text/x-python",
   "name": "python",
   "nbconvert_exporter": "python",
   "pygments_lexer": "ipython3",
   "version": "3.10.6"
  },
  "orig_nbformat": 4,
  "vscode": {
   "interpreter": {
    "hash": "7e1998ff7f8aa20ada591c520b972326324e5ea05489af9e422744c7c09f6dad"
   }
  }
 },
 "nbformat": 4,
 "nbformat_minor": 2
}
