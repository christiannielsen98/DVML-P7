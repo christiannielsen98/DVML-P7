{
 "cells": [
  {
   "cell_type": "code",
   "execution_count": 2,
   "metadata": {},
   "outputs": [],
   "source": [
    "from SPARQLWrapper import SPARQLWrapper, JSON\n",
    "import pandas as pd\n",
    "import sys\n",
    "\n",
    "from Code.UtilityFunctions.get_data_path import get_path"
   ]
  },
  {
   "cell_type": "code",
   "execution_count": 3,
   "metadata": {
    "collapsed": false,
    "pycharm": {
     "name": "#%%\n"
    }
   },
   "outputs": [],
   "source": [
    "def wikidata_query(sparql_query: str):\n",
    "    # From https://www.wikidata.org/wiki/Wikidata:SPARQL_query_service/queries/examples#Cats\n",
    "    user_agent = f\"Location Information - USA & Canada/{sys.version_info[0]}.{sys.version_info[1]}\"\n",
    "    sparql = SPARQLWrapper(\"https://query.wikidata.org/sparql\", agent=user_agent)\n",
    "    sparql.setQuery(sparql_query)\n",
    "    sparql.setReturnFormat(JSON)\n",
    "    results = sparql.query().convert()\n",
    "    results_df = pd.json_normalize(results['results']['bindings'])\n",
    "    return results_df"
   ]
  },
  {
   "cell_type": "markdown",
   "metadata": {
    "collapsed": false
   },
   "source": [
    "# Cities in the USA"
   ]
  },
  {
   "cell_type": "code",
   "execution_count": 4,
   "metadata": {
    "collapsed": false,
    "pycharm": {
     "name": "#%%\n"
    }
   },
   "outputs": [],
   "source": [
    "# P31 instance of\n",
    "# P131 located in the administrative territorial entity\n",
    "# P279 subclass of\n",
    "# P585 point in time\n",
    "# P1082 population\n",
    "# Q515 city\n",
    "# Q35657 U.S. state\n",
    "\n",
    "query_us_cities = \"\"\"\n",
    "SELECT DISTINCT ?city ?cityLabel ?county ?population\n",
    "WHERE {\n",
    "    {?city wdt:P31/wdt:P279* wd:Q532}\n",
    "    UNION\n",
    "    {?city wdt:P31/wdt:P279* wd:Q515}\n",
    "\t?city wdt:P17 wd:Q30 .\n",
    "\tOPTIONAL { ?city wdt:P131 ?county . }\n",
    "\t?city p:P1082 ?statement .\n",
    "\t?statement ps:P1082 ?population .\n",
    "\t?statement pq:P585 ?date .\n",
    "\tFILTER NOT EXISTS {\n",
    "\t\t?city p:P1082/pq:P585 ?date2 .\n",
    "\t\tFILTER(?date2 > ?date)\n",
    "\t}\n",
    "\tSERVICE wikibase:label { bd:serviceParam wikibase:language \"[AUTO_LANGUAGE],en\" . }\n",
    "}\n",
    "\"\"\"\n",
    "\n",
    "result_us_cities = wikidata_query(query_us_cities)\n",
    "result_us_cities = result_us_cities[[\"city.value\", \"cityLabel.value\", \"county.value\", \"population.value\"]]\n",
    "us_city_renames = {\"city.value\": \"city_iri\", \"cityLabel.value\": \"city\", \"county.value\": \"county_iri\", \"population.value\": \"population\"}\n",
    "result_us_cities.rename(columns=us_city_renames, inplace=True)\n",
    "result_us_cities.to_csv(path_or_buf=get_path(\"USA_Cities.csv\"), index=False)"
   ]
  },
  {
   "cell_type": "markdown",
   "metadata": {},
   "source": [
    "# Counties in the USA"
   ]
  },
  {
   "cell_type": "code",
   "execution_count": 5,
   "metadata": {},
   "outputs": [],
   "source": [
    "query_us_counties = \"\"\"\n",
    "SELECT DISTINCT ?county ?countyLabel ?state\n",
    "WHERE {\n",
    "\t?county wdt:P31/wdt:P279* wd:Q47168 .\n",
    "\t?county wdt:P131 ?state .\n",
    "    SERVICE wikibase:label { bd:serviceParam wikibase:language \"[AUTO_LANGUAGE],en\" . }\n",
    "}\n",
    "\"\"\"\n",
    "\n",
    "result_us_counties = wikidata_query(query_us_counties)\n",
    "result_us_counties = result_us_counties[[\"county.value\", \"countyLabel.value\", \"state.value\"]]\n",
    "us_county_renames = {\"county.value\": \"county_iri\", \"countyLabel.value\": \"county\", \"state.value\": \"state_iri\"}\n",
    "result_us_counties.rename(columns=us_county_renames, inplace=True)\n",
    "result_us_counties.to_csv(path_or_buf=get_path(\"USA_Counties.csv\"), index=False)"
   ]
  },
  {
   "cell_type": "markdown",
   "metadata": {
    "collapsed": false
   },
   "source": [
    "# States in the USA"
   ]
  },
  {
   "cell_type": "code",
   "execution_count": 6,
   "metadata": {
    "collapsed": false,
    "pycharm": {
     "name": "#%%\n"
    }
   },
   "outputs": [],
   "source": [
    "# States in US\n",
    "# P31 instance of\n",
    "# Q35657 U.S. state\n",
    "\n",
    "query_all_us_states = \"\"\"\n",
    "SELECT DISTINCT ?state ?stateLabel ?country\n",
    "WHERE {\n",
    "  ?state wdt:P31 wd:Q35657 .\n",
    "  ?state wdt:P17 ?country .\n",
    "  SERVICE wikibase:label { bd:serviceParam wikibase:language \"[AUTO_LANGUAGE],en\" . }\n",
    "}\n",
    "\"\"\"\n",
    "\n",
    "result_us_states = wikidata_query(query_all_us_states)\n",
    "result_us_states = result_us_states[[\"state.value\", \"stateLabel.value\", \"country.value\"]]\n",
    "us_state_renames = {\"state.value\": \"state_iri\", \"stateLabel.value\": \"state\", \"country.value\": \"country_iri\"}\n",
    "result_us_states.rename(columns=us_state_renames, inplace=True)\n",
    "result_us_states.to_csv(path_or_buf=get_path(\"USA_States.csv\"), index=False)"
   ]
  },
  {
   "cell_type": "markdown",
   "metadata": {
    "collapsed": false
   },
   "source": [
    "# Cities in Canada"
   ]
  },
  {
   "cell_type": "code",
   "execution_count": 54,
   "metadata": {
    "collapsed": false,
    "pycharm": {
     "name": "#%%\n"
    }
   },
   "outputs": [],
   "source": [
    "def get_canada_city(location: str) -> str:\n",
    "    \"\"\"\n",
    "    Select all Canadian cities that are located in location.\n",
    "    :param location: string label of the location\n",
    "    :return: string representation of the query\n",
    "    P31 instance of; P279 subclass of; Q515 city; Q17366755 hamlet;\n",
    "    P17 country; Q16 Canada; P1082 population; P585 point in time;\n",
    "    P131 located in the administrative territorial entity\n",
    "    \"\"\"\n",
    "    query_canada_cities = f\"\"\"\n",
    "        SELECT DISTINCT ?city ?cityLabel ?province ?population\n",
    "        WHERE{{\n",
    "            ?city ?label \"{location}\"@en.\n",
    "            {{\n",
    "                ?city wdt:P17 wd:Q16 .\n",
    "                ?city wdt:P31/wdt:P279* wd:Q515 .\n",
    "            }}\n",
    "            UNION\n",
    "            {{\n",
    "                ?city wdt:P17 wd:Q16 .\n",
    "                ?city wdt:P31/wdt:P279* wd:Q17366755 .\n",
    "            }}\n",
    "            ?city p:P1082 ?statement .\n",
    "            ?statement ps:P1082 ?population .\n",
    "            ?statement pq:P585 ?date .\n",
    "            FILTER NOT EXISTS {{\n",
    "                ?city p:P1082/pq:P585 ?date2 .\n",
    "                FILTER(?date2 > ?date)\n",
    "            }}\n",
    "            ?city wdt:P131 ?province .\n",
    "            SERVICE wikibase:label {{ bd:serviceParam wikibase:language \"en\". }}\n",
    "        }}\n",
    "    \"\"\"\n",
    "    return query_canada_cities\n",
    "\n",
    "canada_locs = [\"Edmonton\", \"Sherwood Park\",\n",
    "                \"St. Albert\", \"Beaumont\",\n",
    "                \"Birch Hill Park\", \"ECN\"]\n",
    "canada_cities = pd.DataFrame()\n",
    "for location in canada_locs:\n",
    "    wiki_response = wikidata_query(get_canada_city(location=location))\n",
    "    canada_cities = pd.concat([canada_cities, wiki_response], axis=0)\n",
    "\n",
    "result_canada_cities = canada_cities[['city.value', 'cityLabel.value', 'province.value', 'population.value']]\n",
    "canada_city_renames = {\"city.value\": \"city_iri\", \"cityLabel.value\": \"city\", \"province.value\": \"state_iri\", 'population.value': 'population'}\n",
    "result_canada_cities = result_canada_cities.rename(columns=canada_city_renames)\n",
    "result_canada_cities.to_csv(path_or_buf=get_path(\"Canada_Cities.csv\"), index=False)"
   ]
  },
  {
   "cell_type": "markdown",
   "metadata": {
    "collapsed": false,
    "pycharm": {
     "name": "#%% md\n"
    }
   },
   "source": [
    "# Provinces of Canada"
   ]
  },
  {
   "cell_type": "code",
   "execution_count": 7,
   "metadata": {
    "collapsed": false,
    "pycharm": {
     "name": "#%%\n"
    }
   },
   "outputs": [],
   "source": [
    "# Provinces of Canada\n",
    "# P17 country\n",
    "# Q11828004 Canada\n",
    "\n",
    "query_all_canada_provinces = \"\"\"\n",
    "SELECT DISTINCT ?province ?provinceLabel ?country\n",
    "WHERE {\n",
    "  ?province wdt:P31 wd:Q11828004 .\n",
    "  ?province wdt:P17 ?country .\n",
    "  SERVICE wikibase:label { bd:serviceParam wikibase:language \"[AUTO_LANGUAGE],en\" . }\n",
    "}\n",
    "\"\"\"\n",
    "\n",
    "result_can_provinces = wikidata_query(query_all_canada_provinces)\n",
    "result_can_provinces = result_can_provinces[[\"province.value\", \"provinceLabel.value\", \"country.value\"]]\n",
    "can_province_renames = {\"province.value\": \"state_iri\", \"provinceLabel.value\": \"state\", \"country.value\": \"country_iri\"}\n",
    "result_can_provinces.rename(columns=can_province_renames, inplace=True)\n",
    "result_can_provinces.to_csv(path_or_buf=get_path(\"Canada_States.csv\"), index=False)"
   ]
  },
  {
   "cell_type": "code",
   "execution_count": null,
   "metadata": {},
   "outputs": [],
   "source": []
  }
 ],
 "metadata": {
  "kernelspec": {
   "display_name": "Python 3.10.6 64-bit",
   "language": "python",
   "name": "python3"
  },
  "language_info": {
   "codemirror_mode": {
    "name": "ipython",
    "version": 3
   },
   "file_extension": ".py",
   "mimetype": "text/x-python",
   "name": "python",
   "nbconvert_exporter": "python",
   "pygments_lexer": "ipython3",
   "version": "3.10.6 (main, Sep  5 2022, 08:14:40) [GCC 9.4.0]"
  },
  "vscode": {
   "interpreter": {
    "hash": "7e1998ff7f8aa20ada591c520b972326324e5ea05489af9e422744c7c09f6dad"
   }
  }
 },
 "nbformat": 4,
 "nbformat_minor": 0
}
