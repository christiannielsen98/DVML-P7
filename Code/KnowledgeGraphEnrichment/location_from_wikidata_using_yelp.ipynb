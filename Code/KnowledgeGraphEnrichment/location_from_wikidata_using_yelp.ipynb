{
 "cells": [
  {
   "cell_type": "code",
   "execution_count": 80,
   "metadata": {
    "collapsed": true
   },
   "outputs": [],
   "source": [
    "import json\n",
    "import requests\n",
    "\n",
    "import pandas as pd\n",
    "\n",
    "from Code.UtilityFunctions.wikidata_functions import wikidata_query\n",
    "from Code.UtilityFunctions.get_data_path import get_path"
   ]
  },
  {
   "cell_type": "code",
   "execution_count": 4,
   "outputs": [],
   "source": [
    "states = {\n",
    "    'AK': 'Alaska',\n",
    "    'AL': 'Alabama',\n",
    "    'AR': 'Arkansas',\n",
    "    'AS': 'American Samoa',\n",
    "    'AZ': 'Arizona',\n",
    "    'CA': 'California',\n",
    "    'CO': 'Colorado',\n",
    "    'CT': 'Connecticut',\n",
    "    'DC': 'District of Columbia',\n",
    "    'DE': 'Delaware',\n",
    "    'FL': 'Florida',\n",
    "    'GA': 'Georgia',\n",
    "    'GU': 'Guam',\n",
    "    'HI': 'Hawaii',\n",
    "    'IA': 'Iowa',\n",
    "    'ID': 'Idaho',\n",
    "    'IL': 'Illinois',\n",
    "    'IN': 'Indiana',\n",
    "    'KS': 'Kansas',\n",
    "    'KY': 'Kentucky',\n",
    "    'LA': 'Louisiana',\n",
    "    'MA': 'Massachusetts',\n",
    "    'MD': 'Maryland',\n",
    "    'ME': 'Maine',\n",
    "    'MI': 'Michigan',\n",
    "    'MN': 'Minnesota',\n",
    "    'MO': 'Missouri',\n",
    "    'MP': 'Northern Mariana Islands',\n",
    "    'MS': 'Mississippi',\n",
    "    'MT': 'Montana',\n",
    "    'NA': 'National',\n",
    "    'NC': 'North Carolina',\n",
    "    'ND': 'North Dakota',\n",
    "    'NE': 'Nebraska',\n",
    "    'NH': 'New Hampshire',\n",
    "    'NJ': 'New Jersey',\n",
    "    'NM': 'New Mexico',\n",
    "    'NV': 'Nevada',\n",
    "    'NY': 'New York',\n",
    "    'OH': 'Ohio',\n",
    "    'OK': 'Oklahoma',\n",
    "    'OR': 'Oregon',\n",
    "    'PA': 'Pennsylvania',\n",
    "    'PR': 'Puerto Rico',\n",
    "    'RI': 'Rhode Island',\n",
    "    'SC': 'South Carolina',\n",
    "    'SD': 'South Dakota',\n",
    "    'TN': 'Tennessee',\n",
    "    'TX': 'Texas',\n",
    "    'UT': 'Utah',\n",
    "    'VA': 'Virginia',\n",
    "    'VI': 'Virgin Islands',\n",
    "    'VT': 'Vermont',\n",
    "    'WA': 'Washington',\n",
    "    'WI': 'Wisconsin',\n",
    "    'WV': 'West Virginia',\n",
    "    'WY': 'Wyoming',\n",
    "    # CANADA\n",
    "    'AB': 'Alberta',\n",
    "    # Bad Naming\n",
    "    'XMS': 'Missouri',\n",
    "}"
   ],
   "metadata": {
    "collapsed": false,
    "pycharm": {
     "name": "#%%\n"
    }
   }
  },
  {
   "cell_type": "code",
   "execution_count": 81,
   "outputs": [],
   "source": [
    "q_codes = {\n",
    "    \"county\": \"Q28575\",\n",
    "    \"state\": \"Q7275\",\n",
    "    \"province\": \"Q11828004\",\n",
    "    \"country\": \"Q6256\"\n",
    "}"
   ],
   "metadata": {
    "collapsed": false,
    "pycharm": {
     "name": "#%%\n"
    }
   }
  },
  {
   "cell_type": "code",
   "execution_count": 82,
   "outputs": [],
   "source": [
    "biz = pd.read_json(get_path(\"yelp_academic_dataset_business.json\"), lines=True)"
   ],
   "metadata": {
    "collapsed": false,
    "pycharm": {
     "name": "#%%\n"
    }
   }
  },
  {
   "cell_type": "code",
   "execution_count": 59,
   "outputs": [],
   "source": [
    "biz[\"city_og\"] =  biz[\"city\"]\n",
    "biz[\"state_og\"] = biz[\"state\"]\n",
    "biz[\"city\"] =  biz[\"city\"].apply(lambda x: x.partition(\",\")[0])\n",
    "biz[\"state\"] = biz[\"state\"].apply(lambda x: states[x])"
   ],
   "metadata": {
    "collapsed": false,
    "pycharm": {
     "name": "#%%\n"
    }
   }
  },
  {
   "cell_type": "code",
   "execution_count": 44,
   "outputs": [],
   "source": [
    "city_state_keys = biz[[\"city\", \"state\", \"city_og\", \"state_og\"]].drop_duplicates()"
   ],
   "metadata": {
    "collapsed": false,
    "pycharm": {
     "name": "#%%\n"
    }
   }
  },
  {
   "cell_type": "code",
   "execution_count": 8,
   "outputs": [],
   "source": [
    "df = biz.groupby([\"city\", \"state\"])[[\"latitude\", \"longitude\"]].mean().reset_index()\n",
    "df[\"location\"] = df[\"longitude\"].round(decimals=2).astype(str) + \",\" + df[\"latitude\"].round(decimals=2).astype(str)"
   ],
   "metadata": {
    "collapsed": false,
    "pycharm": {
     "name": "#%%\n"
    }
   }
  },
  {
   "cell_type": "code",
   "execution_count": 9,
   "outputs": [],
   "source": [
    "df[\"search_string\"] = df.apply(lambda x: x[0] + \", \" + x[1], axis=1).str.replace(\" \", \"%20\")"
   ],
   "metadata": {
    "collapsed": false,
    "pycharm": {
     "name": "#%%\n"
    }
   }
  },
  {
   "cell_type": "code",
   "execution_count": 10,
   "outputs": [],
   "source": [
    "def return_city_q_ids(search_string):\n",
    "    url = f\"https://www.wikidata.org/w/api.php?action=wbsearchentities&format=json&language=en&type=item&continue=0&search={search_string}\"\n",
    "\n",
    "    response = requests.get(url)\n",
    "    data = json.loads(response.text)\n",
    "\n",
    "    q_ids = [Q[\"id\"] for Q in data[\"search\"]]\n",
    "\n",
    "    if not q_ids:  # Empty – no result given\n",
    "        url = f\"https://www.wikidata.org/w/api.php?action=wbsearchentities&format=json&language=en&type=item&continue=0&search={search_string.partition(',')[0]}\"\n",
    "\n",
    "        response = requests.get(url)\n",
    "        data = json.loads(response.text)\n",
    "\n",
    "        q_ids = [Q[\"id\"] for Q in data[\"search\"]]\n",
    "\n",
    "    str_q_ids = \" \".join([\"wd:\" + qid for qid in q_ids])\n",
    "\n",
    "    return str_q_ids"
   ],
   "metadata": {
    "collapsed": false,
    "pycharm": {
     "name": "#%%\n"
    }
   }
  },
  {
   "cell_type": "code",
   "execution_count": 11,
   "outputs": [],
   "source": [
    "df[\"city_q_ids\"] = df[\"search_string\"].apply(return_city_q_ids)"
   ],
   "metadata": {
    "collapsed": false,
    "pycharm": {
     "name": "#%%\n"
    }
   }
  },
  {
   "cell_type": "code",
   "execution_count": 12,
   "outputs": [],
   "source": [
    "def return_state_q_ids(search_string):\n",
    "    url = f\"https://www.wikidata.org/w/api.php?action=wbsearchentities&format=json&language=en&type=item&continue=0&search={search_string}\"\n",
    "\n",
    "    response = requests.get(url)\n",
    "    data = json.loads(response.text)\n",
    "\n",
    "    q_ids = [Q[\"id\"] for Q in data[\"search\"]]\n",
    "\n",
    "    str_q_ids = \" \".join([\"wd:\" + qid for qid in q_ids])\n",
    "\n",
    "    return str_q_ids"
   ],
   "metadata": {
    "collapsed": false,
    "pycharm": {
     "name": "#%%\n"
    }
   }
  },
  {
   "cell_type": "code",
   "execution_count": 13,
   "outputs": [],
   "source": [
    "df[\"state_q_ids\"] = df[\"state\"].apply(return_state_q_ids)"
   ],
   "metadata": {
    "collapsed": false,
    "pycharm": {
     "name": "#%%\n"
    }
   }
  },
  {
   "cell_type": "code",
   "execution_count": 14,
   "outputs": [
    {
     "data": {
      "text/plain": "             city         state   latitude   longitude       location  \\\n0     AB Edmonton       Alberta  53.541407 -113.491451  -113.49,53.54   \n1          AMBLER  Pennsylvania  40.153880  -75.223794   -75.22,40.15   \n2         ARDMORE  Pennsylvania  40.004962  -75.285838    -75.29,40.0   \n3            AVON       Indiana  39.764524  -86.380229   -86.38,39.76   \n4        Abington  Pennsylvania  40.124513  -75.123322   -75.12,40.12   \n...           ...           ...        ...         ...            ...   \n1440   wilmington      Delaware  39.737432  -75.554725   -75.55,39.74   \n1441      wimauma       Florida  27.712212  -82.298825    -82.3,27.71   \n1442     ​Clayton      Missouri  38.649840  -90.336491   -90.34,38.65   \n1443       ​Largo       Florida  27.918354  -82.760554   -82.76,27.92   \n1444      ​Lithia       Florida  27.851265  -82.260122   -82.26,27.85   \n\n                 search_string  \\\n0     AB%20Edmonton,%20Alberta   \n1       AMBLER,%20Pennsylvania   \n2      ARDMORE,%20Pennsylvania   \n3              AVON,%20Indiana   \n4     Abington,%20Pennsylvania   \n...                        ...   \n1440    wilmington,%20Delaware   \n1441        wimauma,%20Florida   \n1442      ​Clayton,%20Missouri   \n1443         ​Largo,%20Florida   \n1444        ​Lithia,%20Florida   \n\n                                             city_q_ids  \\\n0                                                         \n1                                            wd:Q372248   \n2                                           wd:Q1132213   \n3                                            wd:Q791269   \n4                                          wd:Q88491559   \n...                                                 ...   \n1440  wd:Q174224 wd:Q64156483 wd:Q64156489 wd:Q85815841   \n1441                                        wd:Q1843074   \n1442                                         wd:Q966922   \n1443                                         wd:Q932577   \n1444                                        wd:Q6647878   \n\n                                            state_q_ids  \n0     wd:Q1951 wd:Q687536 wd:Q1965138 wd:Q4063377 wd...  \n1     wd:Q1400 wd:Q2475732 wd:Q49117 wd:Q3960056 wd:...  \n2     wd:Q1400 wd:Q2475732 wd:Q49117 wd:Q3960056 wd:...  \n3     wd:Q1415 wd:Q1184769 wd:Q6023245 wd:Q141305 wd...  \n4     wd:Q1400 wd:Q2475732 wd:Q49117 wd:Q3960056 wd:...  \n...                                                 ...  \n1440  wd:Q1393 wd:Q986183 wd:Q82048 wd:Q622910 wd:Q2...  \n1441  wd:Q812 wd:Q842472 wd:Q643617 wd:Q2255913 wd:Q...  \n1442  wd:Q1581 wd:Q5419 wd:Q1939219 wd:Q111823126 wd...  \n1443  wd:Q812 wd:Q842472 wd:Q643617 wd:Q2255913 wd:Q...  \n1444  wd:Q812 wd:Q842472 wd:Q643617 wd:Q2255913 wd:Q...  \n\n[1445 rows x 8 columns]",
      "text/html": "<div>\n<style scoped>\n    .dataframe tbody tr th:only-of-type {\n        vertical-align: middle;\n    }\n\n    .dataframe tbody tr th {\n        vertical-align: top;\n    }\n\n    .dataframe thead th {\n        text-align: right;\n    }\n</style>\n<table border=\"1\" class=\"dataframe\">\n  <thead>\n    <tr style=\"text-align: right;\">\n      <th></th>\n      <th>city</th>\n      <th>state</th>\n      <th>latitude</th>\n      <th>longitude</th>\n      <th>location</th>\n      <th>search_string</th>\n      <th>city_q_ids</th>\n      <th>state_q_ids</th>\n    </tr>\n  </thead>\n  <tbody>\n    <tr>\n      <th>0</th>\n      <td>AB Edmonton</td>\n      <td>Alberta</td>\n      <td>53.541407</td>\n      <td>-113.491451</td>\n      <td>-113.49,53.54</td>\n      <td>AB%20Edmonton,%20Alberta</td>\n      <td></td>\n      <td>wd:Q1951 wd:Q687536 wd:Q1965138 wd:Q4063377 wd...</td>\n    </tr>\n    <tr>\n      <th>1</th>\n      <td>AMBLER</td>\n      <td>Pennsylvania</td>\n      <td>40.153880</td>\n      <td>-75.223794</td>\n      <td>-75.22,40.15</td>\n      <td>AMBLER,%20Pennsylvania</td>\n      <td>wd:Q372248</td>\n      <td>wd:Q1400 wd:Q2475732 wd:Q49117 wd:Q3960056 wd:...</td>\n    </tr>\n    <tr>\n      <th>2</th>\n      <td>ARDMORE</td>\n      <td>Pennsylvania</td>\n      <td>40.004962</td>\n      <td>-75.285838</td>\n      <td>-75.29,40.0</td>\n      <td>ARDMORE,%20Pennsylvania</td>\n      <td>wd:Q1132213</td>\n      <td>wd:Q1400 wd:Q2475732 wd:Q49117 wd:Q3960056 wd:...</td>\n    </tr>\n    <tr>\n      <th>3</th>\n      <td>AVON</td>\n      <td>Indiana</td>\n      <td>39.764524</td>\n      <td>-86.380229</td>\n      <td>-86.38,39.76</td>\n      <td>AVON,%20Indiana</td>\n      <td>wd:Q791269</td>\n      <td>wd:Q1415 wd:Q1184769 wd:Q6023245 wd:Q141305 wd...</td>\n    </tr>\n    <tr>\n      <th>4</th>\n      <td>Abington</td>\n      <td>Pennsylvania</td>\n      <td>40.124513</td>\n      <td>-75.123322</td>\n      <td>-75.12,40.12</td>\n      <td>Abington,%20Pennsylvania</td>\n      <td>wd:Q88491559</td>\n      <td>wd:Q1400 wd:Q2475732 wd:Q49117 wd:Q3960056 wd:...</td>\n    </tr>\n    <tr>\n      <th>...</th>\n      <td>...</td>\n      <td>...</td>\n      <td>...</td>\n      <td>...</td>\n      <td>...</td>\n      <td>...</td>\n      <td>...</td>\n      <td>...</td>\n    </tr>\n    <tr>\n      <th>1440</th>\n      <td>wilmington</td>\n      <td>Delaware</td>\n      <td>39.737432</td>\n      <td>-75.554725</td>\n      <td>-75.55,39.74</td>\n      <td>wilmington,%20Delaware</td>\n      <td>wd:Q174224 wd:Q64156483 wd:Q64156489 wd:Q85815841</td>\n      <td>wd:Q1393 wd:Q986183 wd:Q82048 wd:Q622910 wd:Q2...</td>\n    </tr>\n    <tr>\n      <th>1441</th>\n      <td>wimauma</td>\n      <td>Florida</td>\n      <td>27.712212</td>\n      <td>-82.298825</td>\n      <td>-82.3,27.71</td>\n      <td>wimauma,%20Florida</td>\n      <td>wd:Q1843074</td>\n      <td>wd:Q812 wd:Q842472 wd:Q643617 wd:Q2255913 wd:Q...</td>\n    </tr>\n    <tr>\n      <th>1442</th>\n      <td>​Clayton</td>\n      <td>Missouri</td>\n      <td>38.649840</td>\n      <td>-90.336491</td>\n      <td>-90.34,38.65</td>\n      <td>​Clayton,%20Missouri</td>\n      <td>wd:Q966922</td>\n      <td>wd:Q1581 wd:Q5419 wd:Q1939219 wd:Q111823126 wd...</td>\n    </tr>\n    <tr>\n      <th>1443</th>\n      <td>​Largo</td>\n      <td>Florida</td>\n      <td>27.918354</td>\n      <td>-82.760554</td>\n      <td>-82.76,27.92</td>\n      <td>​Largo,%20Florida</td>\n      <td>wd:Q932577</td>\n      <td>wd:Q812 wd:Q842472 wd:Q643617 wd:Q2255913 wd:Q...</td>\n    </tr>\n    <tr>\n      <th>1444</th>\n      <td>​Lithia</td>\n      <td>Florida</td>\n      <td>27.851265</td>\n      <td>-82.260122</td>\n      <td>-82.26,27.85</td>\n      <td>​Lithia,%20Florida</td>\n      <td>wd:Q6647878</td>\n      <td>wd:Q812 wd:Q842472 wd:Q643617 wd:Q2255913 wd:Q...</td>\n    </tr>\n  </tbody>\n</table>\n<p>1445 rows × 8 columns</p>\n</div>"
     },
     "execution_count": 14,
     "metadata": {},
     "output_type": "execute_result"
    }
   ],
   "source": [
    "df"
   ],
   "metadata": {
    "collapsed": false,
    "pycharm": {
     "name": "#%%\n"
    }
   }
  },
  {
   "cell_type": "markdown",
   "source": [
    "## Cities\n",
    "From Yelp cities"
   ],
   "metadata": {
    "collapsed": false
   }
  },
  {
   "cell_type": "code",
   "execution_count": 15,
   "outputs": [],
   "source": [
    "def city_query(q_ids, location):\n",
    "    query = f\"\"\"\n",
    "    SELECT DISTINCT ?qid ?qidLabel\n",
    "    WHERE {{\n",
    "        VALUES ?qid {{{q_ids}}}\n",
    "        {{?qid wdt:P31/wdt:P279* wd:Q486972.}} # Human Settlement\n",
    "        SERVICE wikibase:label {{ bd:serviceParam wikibase:language \"[AUTO_LANGUAGE],en\" }}\n",
    "\n",
    "        SERVICE wikibase:around {{\n",
    "            ?qid wdt:P625 ?location .\n",
    "            bd:serviceParam wikibase:center \"Point({location})\"^^geo:wktLiteral   .\n",
    "            bd:serviceParam wikibase:radius \"100\" .\n",
    "            bd:serviceParam wikibase:distance ?distance .}} .\n",
    "    }}\n",
    "    ORDER BY ?distance\n",
    "    LIMIT 1\n",
    "    \"\"\"\n",
    "    return query"
   ],
   "metadata": {
    "collapsed": false,
    "pycharm": {
     "name": "#%%\n"
    }
   }
  },
  {
   "cell_type": "code",
   "execution_count": 16,
   "outputs": [],
   "source": [
    "def qid_city(q_ids: str, location: str):\n",
    "    if not q_ids:\n",
    "        return None, None\n",
    "\n",
    "    returned = wikidata_query(city_query(q_ids, location))\n",
    "\n",
    "    if returned.empty:\n",
    "        returned_qid = None\n",
    "        returned_label = None\n",
    "    else:\n",
    "        returned_qid = returned[\"qid.value\"].str.removeprefix(\"http://www.wikidata.org/entity/\").values[0]\n",
    "        returned_label = returned[\"qidLabel.value\"].values[0]\n",
    "\n",
    "    return returned_qid, returned_label"
   ],
   "metadata": {
    "collapsed": false,
    "pycharm": {
     "name": "#%%\n"
    }
   }
  },
  {
   "cell_type": "code",
   "execution_count": 17,
   "outputs": [],
   "source": [
    "df[[\"city_qid\", \"city_label\"]] = df.apply(lambda x: qid_city(x[\"city_q_ids\"], x[\"location\"]), result_type='expand', axis=1)"
   ],
   "metadata": {
    "collapsed": false,
    "pycharm": {
     "name": "#%%\n"
    }
   }
  },
  {
   "cell_type": "code",
   "execution_count": 18,
   "outputs": [
    {
     "data": {
      "text/plain": "             city         state   latitude   longitude       location  \\\n0     AB Edmonton       Alberta  53.541407 -113.491451  -113.49,53.54   \n1          AMBLER  Pennsylvania  40.153880  -75.223794   -75.22,40.15   \n2         ARDMORE  Pennsylvania  40.004962  -75.285838    -75.29,40.0   \n3            AVON       Indiana  39.764524  -86.380229   -86.38,39.76   \n4        Abington  Pennsylvania  40.124513  -75.123322   -75.12,40.12   \n...           ...           ...        ...         ...            ...   \n1440   wilmington      Delaware  39.737432  -75.554725   -75.55,39.74   \n1441      wimauma       Florida  27.712212  -82.298825    -82.3,27.71   \n1442     ​Clayton      Missouri  38.649840  -90.336491   -90.34,38.65   \n1443       ​Largo       Florida  27.918354  -82.760554   -82.76,27.92   \n1444      ​Lithia       Florida  27.851265  -82.260122   -82.26,27.85   \n\n                 search_string  \\\n0     AB%20Edmonton,%20Alberta   \n1       AMBLER,%20Pennsylvania   \n2      ARDMORE,%20Pennsylvania   \n3              AVON,%20Indiana   \n4     Abington,%20Pennsylvania   \n...                        ...   \n1440    wilmington,%20Delaware   \n1441        wimauma,%20Florida   \n1442      ​Clayton,%20Missouri   \n1443         ​Largo,%20Florida   \n1444        ​Lithia,%20Florida   \n\n                                             city_q_ids  \\\n0                                                         \n1                                            wd:Q372248   \n2                                           wd:Q1132213   \n3                                            wd:Q791269   \n4                                          wd:Q88491559   \n...                                                 ...   \n1440  wd:Q174224 wd:Q64156483 wd:Q64156489 wd:Q85815841   \n1441                                        wd:Q1843074   \n1442                                         wd:Q966922   \n1443                                         wd:Q932577   \n1444                                        wd:Q6647878   \n\n                                            state_q_ids  city_qid  city_label  \n0     wd:Q1951 wd:Q687536 wd:Q1965138 wd:Q4063377 wd...      None        None  \n1     wd:Q1400 wd:Q2475732 wd:Q49117 wd:Q3960056 wd:...   Q372248      Ambler  \n2     wd:Q1400 wd:Q2475732 wd:Q49117 wd:Q3960056 wd:...  Q1132213     Ardmore  \n3     wd:Q1415 wd:Q1184769 wd:Q6023245 wd:Q141305 wd...   Q791269        Avon  \n4     wd:Q1400 wd:Q2475732 wd:Q49117 wd:Q3960056 wd:...      None        None  \n...                                                 ...       ...         ...  \n1440  wd:Q1393 wd:Q986183 wd:Q82048 wd:Q622910 wd:Q2...   Q174224  Wilmington  \n1441  wd:Q812 wd:Q842472 wd:Q643617 wd:Q2255913 wd:Q...  Q1843074     Wimauma  \n1442  wd:Q1581 wd:Q5419 wd:Q1939219 wd:Q111823126 wd...   Q966922     Clayton  \n1443  wd:Q812 wd:Q842472 wd:Q643617 wd:Q2255913 wd:Q...   Q932577       Largo  \n1444  wd:Q812 wd:Q842472 wd:Q643617 wd:Q2255913 wd:Q...  Q6647878      Lithia  \n\n[1445 rows x 10 columns]",
      "text/html": "<div>\n<style scoped>\n    .dataframe tbody tr th:only-of-type {\n        vertical-align: middle;\n    }\n\n    .dataframe tbody tr th {\n        vertical-align: top;\n    }\n\n    .dataframe thead th {\n        text-align: right;\n    }\n</style>\n<table border=\"1\" class=\"dataframe\">\n  <thead>\n    <tr style=\"text-align: right;\">\n      <th></th>\n      <th>city</th>\n      <th>state</th>\n      <th>latitude</th>\n      <th>longitude</th>\n      <th>location</th>\n      <th>search_string</th>\n      <th>city_q_ids</th>\n      <th>state_q_ids</th>\n      <th>city_qid</th>\n      <th>city_label</th>\n    </tr>\n  </thead>\n  <tbody>\n    <tr>\n      <th>0</th>\n      <td>AB Edmonton</td>\n      <td>Alberta</td>\n      <td>53.541407</td>\n      <td>-113.491451</td>\n      <td>-113.49,53.54</td>\n      <td>AB%20Edmonton,%20Alberta</td>\n      <td></td>\n      <td>wd:Q1951 wd:Q687536 wd:Q1965138 wd:Q4063377 wd...</td>\n      <td>None</td>\n      <td>None</td>\n    </tr>\n    <tr>\n      <th>1</th>\n      <td>AMBLER</td>\n      <td>Pennsylvania</td>\n      <td>40.153880</td>\n      <td>-75.223794</td>\n      <td>-75.22,40.15</td>\n      <td>AMBLER,%20Pennsylvania</td>\n      <td>wd:Q372248</td>\n      <td>wd:Q1400 wd:Q2475732 wd:Q49117 wd:Q3960056 wd:...</td>\n      <td>Q372248</td>\n      <td>Ambler</td>\n    </tr>\n    <tr>\n      <th>2</th>\n      <td>ARDMORE</td>\n      <td>Pennsylvania</td>\n      <td>40.004962</td>\n      <td>-75.285838</td>\n      <td>-75.29,40.0</td>\n      <td>ARDMORE,%20Pennsylvania</td>\n      <td>wd:Q1132213</td>\n      <td>wd:Q1400 wd:Q2475732 wd:Q49117 wd:Q3960056 wd:...</td>\n      <td>Q1132213</td>\n      <td>Ardmore</td>\n    </tr>\n    <tr>\n      <th>3</th>\n      <td>AVON</td>\n      <td>Indiana</td>\n      <td>39.764524</td>\n      <td>-86.380229</td>\n      <td>-86.38,39.76</td>\n      <td>AVON,%20Indiana</td>\n      <td>wd:Q791269</td>\n      <td>wd:Q1415 wd:Q1184769 wd:Q6023245 wd:Q141305 wd...</td>\n      <td>Q791269</td>\n      <td>Avon</td>\n    </tr>\n    <tr>\n      <th>4</th>\n      <td>Abington</td>\n      <td>Pennsylvania</td>\n      <td>40.124513</td>\n      <td>-75.123322</td>\n      <td>-75.12,40.12</td>\n      <td>Abington,%20Pennsylvania</td>\n      <td>wd:Q88491559</td>\n      <td>wd:Q1400 wd:Q2475732 wd:Q49117 wd:Q3960056 wd:...</td>\n      <td>None</td>\n      <td>None</td>\n    </tr>\n    <tr>\n      <th>...</th>\n      <td>...</td>\n      <td>...</td>\n      <td>...</td>\n      <td>...</td>\n      <td>...</td>\n      <td>...</td>\n      <td>...</td>\n      <td>...</td>\n      <td>...</td>\n      <td>...</td>\n    </tr>\n    <tr>\n      <th>1440</th>\n      <td>wilmington</td>\n      <td>Delaware</td>\n      <td>39.737432</td>\n      <td>-75.554725</td>\n      <td>-75.55,39.74</td>\n      <td>wilmington,%20Delaware</td>\n      <td>wd:Q174224 wd:Q64156483 wd:Q64156489 wd:Q85815841</td>\n      <td>wd:Q1393 wd:Q986183 wd:Q82048 wd:Q622910 wd:Q2...</td>\n      <td>Q174224</td>\n      <td>Wilmington</td>\n    </tr>\n    <tr>\n      <th>1441</th>\n      <td>wimauma</td>\n      <td>Florida</td>\n      <td>27.712212</td>\n      <td>-82.298825</td>\n      <td>-82.3,27.71</td>\n      <td>wimauma,%20Florida</td>\n      <td>wd:Q1843074</td>\n      <td>wd:Q812 wd:Q842472 wd:Q643617 wd:Q2255913 wd:Q...</td>\n      <td>Q1843074</td>\n      <td>Wimauma</td>\n    </tr>\n    <tr>\n      <th>1442</th>\n      <td>​Clayton</td>\n      <td>Missouri</td>\n      <td>38.649840</td>\n      <td>-90.336491</td>\n      <td>-90.34,38.65</td>\n      <td>​Clayton,%20Missouri</td>\n      <td>wd:Q966922</td>\n      <td>wd:Q1581 wd:Q5419 wd:Q1939219 wd:Q111823126 wd...</td>\n      <td>Q966922</td>\n      <td>Clayton</td>\n    </tr>\n    <tr>\n      <th>1443</th>\n      <td>​Largo</td>\n      <td>Florida</td>\n      <td>27.918354</td>\n      <td>-82.760554</td>\n      <td>-82.76,27.92</td>\n      <td>​Largo,%20Florida</td>\n      <td>wd:Q932577</td>\n      <td>wd:Q812 wd:Q842472 wd:Q643617 wd:Q2255913 wd:Q...</td>\n      <td>Q932577</td>\n      <td>Largo</td>\n    </tr>\n    <tr>\n      <th>1444</th>\n      <td>​Lithia</td>\n      <td>Florida</td>\n      <td>27.851265</td>\n      <td>-82.260122</td>\n      <td>-82.26,27.85</td>\n      <td>​Lithia,%20Florida</td>\n      <td>wd:Q6647878</td>\n      <td>wd:Q812 wd:Q842472 wd:Q643617 wd:Q2255913 wd:Q...</td>\n      <td>Q6647878</td>\n      <td>Lithia</td>\n    </tr>\n  </tbody>\n</table>\n<p>1445 rows × 10 columns</p>\n</div>"
     },
     "execution_count": 18,
     "metadata": {},
     "output_type": "execute_result"
    }
   ],
   "source": [
    "df"
   ],
   "metadata": {
    "collapsed": false,
    "pycharm": {
     "name": "#%%\n"
    }
   }
  },
  {
   "cell_type": "markdown",
   "source": [
    "## States\n",
    "From Yelp states"
   ],
   "metadata": {
    "collapsed": false
   }
  },
  {
   "cell_type": "code",
   "execution_count": 19,
   "outputs": [],
   "source": [
    "def state_query(q_ids):\n",
    "    query = f\"\"\"\n",
    "    SELECT ?qid ?qidLabel\n",
    "    WHERE\n",
    "    {{\n",
    "      VALUES ?Q {{{q_ids}}}\n",
    "\n",
    "      ?Q wdt:P131* ?qid .\n",
    "      {{?qid wdt:P31/wdt:P279* wd:{q_codes[\"state\"]}.}}\n",
    "      UNION\n",
    "      {{?qid wdt:P31/wdt:P279* wd:{q_codes[\"province\"]}.}}\n",
    "\n",
    "      FILTER NOT EXISTS {{\n",
    "        ?qid wdt:P31/wdt:P279* wd:{q_codes[\"country\"]}.\n",
    "      }}\n",
    "      SERVICE wikibase:label {{ bd:serviceParam wikibase:language \"[AUTO_LANGUAGE],en\" }}\n",
    "    }}\n",
    "    \"\"\"\n",
    "    return query"
   ],
   "metadata": {
    "collapsed": false,
    "pycharm": {
     "name": "#%%\n"
    }
   }
  },
  {
   "cell_type": "code",
   "execution_count": 24,
   "outputs": [],
   "source": [
    "# def qid_state(q_ids: str):\n",
    "#     if not q_ids:\n",
    "#         return None, None\n",
    "#\n",
    "#     returned = wikidata_query(state_query(q_ids))\n",
    "#\n",
    "#     if returned.empty:\n",
    "#         returned_qid = None\n",
    "#         returned_label = None\n",
    "#     else:\n",
    "#         returned_qid = returned[\"qid.value\"].str.removeprefix(\"http://www.wikidata.org/entity/\").values[0]\n",
    "#         returned_label = returned[\"qidLabel.value\"].values[0]\n",
    "#\n",
    "#     return returned_qid, returned_label\n",
    "#\n",
    "#\n",
    "# df[[\"state_qid\", \"state_label\"]] = df.apply(lambda x: qid_state(x[\"state_q_ids\"]), result_type='expand', axis=1) # 09:08\n",
    "def qid_state(row: str):\n",
    "    returned_table = wikidata_query(state_query(row[\"state_q_ids\"]))\n",
    "    q_ids_list = [x[3:] for x in row[\"state_q_ids\"].split(\" \")]\n",
    "    if returned_table.empty:\n",
    "        returned_qids = []\n",
    "    else:\n",
    "        returned_qids = returned_table[\"qid.value\"].str.removeprefix(\"http://www.wikidata.org/entity/\").tolist()\n",
    "\n",
    "    try:\n",
    "        first_common_qid = next(og_list for og_list in q_ids_list if og_list in returned_qids)\n",
    "    except StopIteration:\n",
    "        first_common_qid = None\n",
    "\n",
    "    returned_label = None if not first_common_qid else returned_table[returned_table[\"qid.value\"] == f\"http://www.wikidata.org/entity/{first_common_qid}\"][\"qidLabel.value\"].values[0]\n",
    "\n",
    "    return first_common_qid, returned_label"
   ],
   "metadata": {
    "collapsed": false,
    "pycharm": {
     "name": "#%%\n"
    }
   }
  },
  {
   "cell_type": "code",
   "execution_count": 25,
   "outputs": [],
   "source": [
    "df[[\"state_qid\", \"state_label\"]] = df.apply(qid_state, result_type='expand', axis=1)"
   ],
   "metadata": {
    "collapsed": false,
    "pycharm": {
     "name": "#%%\n"
    }
   }
  },
  {
   "cell_type": "code",
   "execution_count": 26,
   "outputs": [
    {
     "data": {
      "text/plain": "             city         state   latitude   longitude       location  \\\n0     AB Edmonton       Alberta  53.541407 -113.491451  -113.49,53.54   \n1          AMBLER  Pennsylvania  40.153880  -75.223794   -75.22,40.15   \n2         ARDMORE  Pennsylvania  40.004962  -75.285838    -75.29,40.0   \n3            AVON       Indiana  39.764524  -86.380229   -86.38,39.76   \n4        Abington  Pennsylvania  40.124513  -75.123322   -75.12,40.12   \n...           ...           ...        ...         ...            ...   \n1440   wilmington      Delaware  39.737432  -75.554725   -75.55,39.74   \n1441      wimauma       Florida  27.712212  -82.298825    -82.3,27.71   \n1442     ​Clayton      Missouri  38.649840  -90.336491   -90.34,38.65   \n1443       ​Largo       Florida  27.918354  -82.760554   -82.76,27.92   \n1444      ​Lithia       Florida  27.851265  -82.260122   -82.26,27.85   \n\n                 search_string  \\\n0     AB%20Edmonton,%20Alberta   \n1       AMBLER,%20Pennsylvania   \n2      ARDMORE,%20Pennsylvania   \n3              AVON,%20Indiana   \n4     Abington,%20Pennsylvania   \n...                        ...   \n1440    wilmington,%20Delaware   \n1441        wimauma,%20Florida   \n1442      ​Clayton,%20Missouri   \n1443         ​Largo,%20Florida   \n1444        ​Lithia,%20Florida   \n\n                                             city_q_ids  \\\n0                                                         \n1                                            wd:Q372248   \n2                                           wd:Q1132213   \n3                                            wd:Q791269   \n4                                          wd:Q88491559   \n...                                                 ...   \n1440  wd:Q174224 wd:Q64156483 wd:Q64156489 wd:Q85815841   \n1441                                        wd:Q1843074   \n1442                                         wd:Q966922   \n1443                                         wd:Q932577   \n1444                                        wd:Q6647878   \n\n                                            state_q_ids  city_qid  city_label  \\\n0     wd:Q1951 wd:Q687536 wd:Q1965138 wd:Q4063377 wd...      None        None   \n1     wd:Q1400 wd:Q2475732 wd:Q49117 wd:Q3960056 wd:...   Q372248      Ambler   \n2     wd:Q1400 wd:Q2475732 wd:Q49117 wd:Q3960056 wd:...  Q1132213     Ardmore   \n3     wd:Q1415 wd:Q1184769 wd:Q6023245 wd:Q141305 wd...   Q791269        Avon   \n4     wd:Q1400 wd:Q2475732 wd:Q49117 wd:Q3960056 wd:...      None        None   \n...                                                 ...       ...         ...   \n1440  wd:Q1393 wd:Q986183 wd:Q82048 wd:Q622910 wd:Q2...   Q174224  Wilmington   \n1441  wd:Q812 wd:Q842472 wd:Q643617 wd:Q2255913 wd:Q...  Q1843074     Wimauma   \n1442  wd:Q1581 wd:Q5419 wd:Q1939219 wd:Q111823126 wd...   Q966922     Clayton   \n1443  wd:Q812 wd:Q842472 wd:Q643617 wd:Q2255913 wd:Q...   Q932577       Largo   \n1444  wd:Q812 wd:Q842472 wd:Q643617 wd:Q2255913 wd:Q...  Q6647878      Lithia   \n\n     state_qid   state_label  \n0        Q1951       Alberta  \n1        Q1400  Pennsylvania  \n2        Q1400  Pennsylvania  \n3        Q1415       Indiana  \n4        Q1400  Pennsylvania  \n...        ...           ...  \n1440     Q1393      Delaware  \n1441      Q812       Florida  \n1442     Q1581      Missouri  \n1443      Q812       Florida  \n1444      Q812       Florida  \n\n[1445 rows x 12 columns]",
      "text/html": "<div>\n<style scoped>\n    .dataframe tbody tr th:only-of-type {\n        vertical-align: middle;\n    }\n\n    .dataframe tbody tr th {\n        vertical-align: top;\n    }\n\n    .dataframe thead th {\n        text-align: right;\n    }\n</style>\n<table border=\"1\" class=\"dataframe\">\n  <thead>\n    <tr style=\"text-align: right;\">\n      <th></th>\n      <th>city</th>\n      <th>state</th>\n      <th>latitude</th>\n      <th>longitude</th>\n      <th>location</th>\n      <th>search_string</th>\n      <th>city_q_ids</th>\n      <th>state_q_ids</th>\n      <th>city_qid</th>\n      <th>city_label</th>\n      <th>state_qid</th>\n      <th>state_label</th>\n    </tr>\n  </thead>\n  <tbody>\n    <tr>\n      <th>0</th>\n      <td>AB Edmonton</td>\n      <td>Alberta</td>\n      <td>53.541407</td>\n      <td>-113.491451</td>\n      <td>-113.49,53.54</td>\n      <td>AB%20Edmonton,%20Alberta</td>\n      <td></td>\n      <td>wd:Q1951 wd:Q687536 wd:Q1965138 wd:Q4063377 wd...</td>\n      <td>None</td>\n      <td>None</td>\n      <td>Q1951</td>\n      <td>Alberta</td>\n    </tr>\n    <tr>\n      <th>1</th>\n      <td>AMBLER</td>\n      <td>Pennsylvania</td>\n      <td>40.153880</td>\n      <td>-75.223794</td>\n      <td>-75.22,40.15</td>\n      <td>AMBLER,%20Pennsylvania</td>\n      <td>wd:Q372248</td>\n      <td>wd:Q1400 wd:Q2475732 wd:Q49117 wd:Q3960056 wd:...</td>\n      <td>Q372248</td>\n      <td>Ambler</td>\n      <td>Q1400</td>\n      <td>Pennsylvania</td>\n    </tr>\n    <tr>\n      <th>2</th>\n      <td>ARDMORE</td>\n      <td>Pennsylvania</td>\n      <td>40.004962</td>\n      <td>-75.285838</td>\n      <td>-75.29,40.0</td>\n      <td>ARDMORE,%20Pennsylvania</td>\n      <td>wd:Q1132213</td>\n      <td>wd:Q1400 wd:Q2475732 wd:Q49117 wd:Q3960056 wd:...</td>\n      <td>Q1132213</td>\n      <td>Ardmore</td>\n      <td>Q1400</td>\n      <td>Pennsylvania</td>\n    </tr>\n    <tr>\n      <th>3</th>\n      <td>AVON</td>\n      <td>Indiana</td>\n      <td>39.764524</td>\n      <td>-86.380229</td>\n      <td>-86.38,39.76</td>\n      <td>AVON,%20Indiana</td>\n      <td>wd:Q791269</td>\n      <td>wd:Q1415 wd:Q1184769 wd:Q6023245 wd:Q141305 wd...</td>\n      <td>Q791269</td>\n      <td>Avon</td>\n      <td>Q1415</td>\n      <td>Indiana</td>\n    </tr>\n    <tr>\n      <th>4</th>\n      <td>Abington</td>\n      <td>Pennsylvania</td>\n      <td>40.124513</td>\n      <td>-75.123322</td>\n      <td>-75.12,40.12</td>\n      <td>Abington,%20Pennsylvania</td>\n      <td>wd:Q88491559</td>\n      <td>wd:Q1400 wd:Q2475732 wd:Q49117 wd:Q3960056 wd:...</td>\n      <td>None</td>\n      <td>None</td>\n      <td>Q1400</td>\n      <td>Pennsylvania</td>\n    </tr>\n    <tr>\n      <th>...</th>\n      <td>...</td>\n      <td>...</td>\n      <td>...</td>\n      <td>...</td>\n      <td>...</td>\n      <td>...</td>\n      <td>...</td>\n      <td>...</td>\n      <td>...</td>\n      <td>...</td>\n      <td>...</td>\n      <td>...</td>\n    </tr>\n    <tr>\n      <th>1440</th>\n      <td>wilmington</td>\n      <td>Delaware</td>\n      <td>39.737432</td>\n      <td>-75.554725</td>\n      <td>-75.55,39.74</td>\n      <td>wilmington,%20Delaware</td>\n      <td>wd:Q174224 wd:Q64156483 wd:Q64156489 wd:Q85815841</td>\n      <td>wd:Q1393 wd:Q986183 wd:Q82048 wd:Q622910 wd:Q2...</td>\n      <td>Q174224</td>\n      <td>Wilmington</td>\n      <td>Q1393</td>\n      <td>Delaware</td>\n    </tr>\n    <tr>\n      <th>1441</th>\n      <td>wimauma</td>\n      <td>Florida</td>\n      <td>27.712212</td>\n      <td>-82.298825</td>\n      <td>-82.3,27.71</td>\n      <td>wimauma,%20Florida</td>\n      <td>wd:Q1843074</td>\n      <td>wd:Q812 wd:Q842472 wd:Q643617 wd:Q2255913 wd:Q...</td>\n      <td>Q1843074</td>\n      <td>Wimauma</td>\n      <td>Q812</td>\n      <td>Florida</td>\n    </tr>\n    <tr>\n      <th>1442</th>\n      <td>​Clayton</td>\n      <td>Missouri</td>\n      <td>38.649840</td>\n      <td>-90.336491</td>\n      <td>-90.34,38.65</td>\n      <td>​Clayton,%20Missouri</td>\n      <td>wd:Q966922</td>\n      <td>wd:Q1581 wd:Q5419 wd:Q1939219 wd:Q111823126 wd...</td>\n      <td>Q966922</td>\n      <td>Clayton</td>\n      <td>Q1581</td>\n      <td>Missouri</td>\n    </tr>\n    <tr>\n      <th>1443</th>\n      <td>​Largo</td>\n      <td>Florida</td>\n      <td>27.918354</td>\n      <td>-82.760554</td>\n      <td>-82.76,27.92</td>\n      <td>​Largo,%20Florida</td>\n      <td>wd:Q932577</td>\n      <td>wd:Q812 wd:Q842472 wd:Q643617 wd:Q2255913 wd:Q...</td>\n      <td>Q932577</td>\n      <td>Largo</td>\n      <td>Q812</td>\n      <td>Florida</td>\n    </tr>\n    <tr>\n      <th>1444</th>\n      <td>​Lithia</td>\n      <td>Florida</td>\n      <td>27.851265</td>\n      <td>-82.260122</td>\n      <td>-82.26,27.85</td>\n      <td>​Lithia,%20Florida</td>\n      <td>wd:Q6647878</td>\n      <td>wd:Q812 wd:Q842472 wd:Q643617 wd:Q2255913 wd:Q...</td>\n      <td>Q6647878</td>\n      <td>Lithia</td>\n      <td>Q812</td>\n      <td>Florida</td>\n    </tr>\n  </tbody>\n</table>\n<p>1445 rows × 12 columns</p>\n</div>"
     },
     "execution_count": 26,
     "metadata": {},
     "output_type": "execute_result"
    }
   ],
   "source": [
    "df"
   ],
   "metadata": {
    "collapsed": false,
    "pycharm": {
     "name": "#%%\n"
    }
   }
  },
  {
   "cell_type": "code",
   "execution_count": null,
   "outputs": [],
   "source": [],
   "metadata": {
    "collapsed": false,
    "pycharm": {
     "name": "#%%\n",
     "is_executing": true
    }
   }
  },
  {
   "cell_type": "markdown",
   "source": [
    "## Counties\n",
    "From cities"
   ],
   "metadata": {
    "collapsed": false
   }
  },
  {
   "cell_type": "code",
   "execution_count": 28,
   "outputs": [],
   "source": [
    "unique_cities = pd.Series(df[\"city_qid\"].unique())\n",
    "\n",
    "\n",
    "def county_query(q_id):\n",
    "    query = f\"\"\"\n",
    "    SELECT ?qid ?qidLabel\n",
    "    WHERE\n",
    "    {{\n",
    "      wd:{q_id} wdt:P131* ?qid .\n",
    "      ?qid wdt:P31/wdt:P279* wd:{q_codes[\"county\"]}.\n",
    "\n",
    "      FILTER NOT EXISTS {{\n",
    "        ?qid wdt:P31/wdt:P279* wd:{q_codes[\"state\"]}.\n",
    "      }}\n",
    "      FILTER NOT EXISTS {{\n",
    "        ?qid wdt:P31/wdt:P279* wd:{q_codes[\"country\"]}.\n",
    "      }}\n",
    "      FILTER NOT EXISTS {{\n",
    "        ?qid wdt:P31/wdt:P279* wd:Q3301053. # consolidated city-county\n",
    "      }}\n",
    "      SERVICE wikibase:label {{ bd:serviceParam wikibase:language \"[AUTO_LANGUAGE],en\" }}\n",
    "\n",
    "    }}\n",
    "    \"\"\"\n",
    "    return query\n",
    "\n",
    "\n",
    "def qid_return(q_id):\n",
    "    returned_qid = wikidata_query(county_query(q_id))\n",
    "    if returned_qid.empty:\n",
    "        return None, None\n",
    "    else:\n",
    "        return (returned_qid[\"qid.value\"][0].removeprefix(\"http://www.wikidata.org/entity/\"),\n",
    "                returned_qid[\"qidLabel.value\"][0])\n",
    "\n",
    "\n",
    "county_qids, county_labels = zip(*unique_cities.apply(qid_return))"
   ],
   "metadata": {
    "collapsed": false,
    "pycharm": {
     "name": "#%%\n"
    }
   }
  },
  {
   "cell_type": "code",
   "execution_count": 29,
   "outputs": [],
   "source": [
    "df = df.merge(pd.DataFrame(data={\"city_qid\": unique_cities,\n",
    "                                 \"county_qid\": county_qids,\n",
    "                                 \"county_label\": county_labels}), how=\"left\", on=\"city_qid\")"
   ],
   "metadata": {
    "collapsed": false,
    "pycharm": {
     "name": "#%%\n"
    }
   }
  },
  {
   "cell_type": "markdown",
   "source": [
    "## Countries\n",
    "From states"
   ],
   "metadata": {
    "collapsed": false
   }
  },
  {
   "cell_type": "code",
   "execution_count": 30,
   "outputs": [],
   "source": [
    "unique_states = pd.Series(df[\"state_qid\"].unique())\n",
    "\n",
    "\n",
    "def country_query(q_id):\n",
    "    query = f\"\"\"\n",
    "    SELECT ?qid ?qidLabel\n",
    "    WHERE\n",
    "    {{\n",
    "      wd:{q_id} wdt:P131* ?qid .\n",
    "      ?qid wdt:P31/wdt:P279* wd:{q_codes[\"country\"]}.\n",
    "\n",
    "      SERVICE wikibase:label {{ bd:serviceParam wikibase:language \"[AUTO_LANGUAGE],en\" }}\n",
    "    }}\n",
    "    \"\"\"\n",
    "    return query\n",
    "\n",
    "\n",
    "def qid_return(q_id):\n",
    "    returned_qid = wikidata_query(country_query(q_id))\n",
    "    if returned_qid.empty:\n",
    "        return None, None\n",
    "    else:\n",
    "        return (returned_qid[\"qid.value\"][0].removeprefix(\"http://www.wikidata.org/entity/\"),\n",
    "                returned_qid[\"qidLabel.value\"][0])\n",
    "\n",
    "\n",
    "country_qids, country_labels = zip(*unique_states.apply(qid_return))"
   ],
   "metadata": {
    "collapsed": false,
    "pycharm": {
     "name": "#%%\n"
    }
   }
  },
  {
   "cell_type": "code",
   "execution_count": 31,
   "outputs": [],
   "source": [
    "df = df.merge(pd.DataFrame(data={\"state_qid\": unique_states,\n",
    "                                 \"country_qid\": country_qids,\n",
    "                                 \"country_label\": country_labels}), how=\"left\", on=\"state_qid\")"
   ],
   "metadata": {
    "collapsed": false,
    "pycharm": {
     "name": "#%%\n"
    }
   }
  },
  {
   "cell_type": "code",
   "execution_count": 32,
   "outputs": [
    {
     "data": {
      "text/plain": "             city         state   latitude   longitude       location  \\\n0     AB Edmonton       Alberta  53.541407 -113.491451  -113.49,53.54   \n1          AMBLER  Pennsylvania  40.153880  -75.223794   -75.22,40.15   \n2         ARDMORE  Pennsylvania  40.004962  -75.285838    -75.29,40.0   \n3            AVON       Indiana  39.764524  -86.380229   -86.38,39.76   \n4        Abington  Pennsylvania  40.124513  -75.123322   -75.12,40.12   \n...           ...           ...        ...         ...            ...   \n1440   wilmington      Delaware  39.737432  -75.554725   -75.55,39.74   \n1441      wimauma       Florida  27.712212  -82.298825    -82.3,27.71   \n1442     ​Clayton      Missouri  38.649840  -90.336491   -90.34,38.65   \n1443       ​Largo       Florida  27.918354  -82.760554   -82.76,27.92   \n1444      ​Lithia       Florida  27.851265  -82.260122   -82.26,27.85   \n\n                 search_string  \\\n0     AB%20Edmonton,%20Alberta   \n1       AMBLER,%20Pennsylvania   \n2      ARDMORE,%20Pennsylvania   \n3              AVON,%20Indiana   \n4     Abington,%20Pennsylvania   \n...                        ...   \n1440    wilmington,%20Delaware   \n1441        wimauma,%20Florida   \n1442      ​Clayton,%20Missouri   \n1443         ​Largo,%20Florida   \n1444        ​Lithia,%20Florida   \n\n                                             city_q_ids  \\\n0                                                         \n1                                            wd:Q372248   \n2                                           wd:Q1132213   \n3                                            wd:Q791269   \n4                                          wd:Q88491559   \n...                                                 ...   \n1440  wd:Q174224 wd:Q64156483 wd:Q64156489 wd:Q85815841   \n1441                                        wd:Q1843074   \n1442                                         wd:Q966922   \n1443                                         wd:Q932577   \n1444                                        wd:Q6647878   \n\n                                            state_q_ids  city_qid  city_label  \\\n0     wd:Q1951 wd:Q687536 wd:Q1965138 wd:Q4063377 wd...      None        None   \n1     wd:Q1400 wd:Q2475732 wd:Q49117 wd:Q3960056 wd:...   Q372248      Ambler   \n2     wd:Q1400 wd:Q2475732 wd:Q49117 wd:Q3960056 wd:...  Q1132213     Ardmore   \n3     wd:Q1415 wd:Q1184769 wd:Q6023245 wd:Q141305 wd...   Q791269        Avon   \n4     wd:Q1400 wd:Q2475732 wd:Q49117 wd:Q3960056 wd:...      None        None   \n...                                                 ...       ...         ...   \n1440  wd:Q1393 wd:Q986183 wd:Q82048 wd:Q622910 wd:Q2...   Q174224  Wilmington   \n1441  wd:Q812 wd:Q842472 wd:Q643617 wd:Q2255913 wd:Q...  Q1843074     Wimauma   \n1442  wd:Q1581 wd:Q5419 wd:Q1939219 wd:Q111823126 wd...   Q966922     Clayton   \n1443  wd:Q812 wd:Q842472 wd:Q643617 wd:Q2255913 wd:Q...   Q932577       Largo   \n1444  wd:Q812 wd:Q842472 wd:Q643617 wd:Q2255913 wd:Q...  Q6647878      Lithia   \n\n     state_qid   state_label county_qid         county_label country_qid  \\\n0        Q1951       Alberta       None                 None         Q16   \n1        Q1400  Pennsylvania    Q378527    Montgomery County         Q30   \n2        Q1400  Pennsylvania    Q378527    Montgomery County         Q30   \n3        Q1415       Indiana    Q506489     Hendricks County         Q30   \n4        Q1400  Pennsylvania       None                 None         Q30   \n...        ...           ...        ...                  ...         ...   \n1440     Q1393      Delaware    Q156156    New Castle County         Q30   \n1441      Q812       Florida    Q488874  Hillsborough County         Q30   \n1442     Q1581      Missouri    Q498034     St. Louis County         Q30   \n1443      Q812       Florida    Q494556      Pinellas County         Q30   \n1444      Q812       Florida    Q488874  Hillsborough County         Q30   \n\n                 country_label  \n0                       Canada  \n1     United States of America  \n2     United States of America  \n3     United States of America  \n4     United States of America  \n...                        ...  \n1440  United States of America  \n1441  United States of America  \n1442  United States of America  \n1443  United States of America  \n1444  United States of America  \n\n[1445 rows x 16 columns]",
      "text/html": "<div>\n<style scoped>\n    .dataframe tbody tr th:only-of-type {\n        vertical-align: middle;\n    }\n\n    .dataframe tbody tr th {\n        vertical-align: top;\n    }\n\n    .dataframe thead th {\n        text-align: right;\n    }\n</style>\n<table border=\"1\" class=\"dataframe\">\n  <thead>\n    <tr style=\"text-align: right;\">\n      <th></th>\n      <th>city</th>\n      <th>state</th>\n      <th>latitude</th>\n      <th>longitude</th>\n      <th>location</th>\n      <th>search_string</th>\n      <th>city_q_ids</th>\n      <th>state_q_ids</th>\n      <th>city_qid</th>\n      <th>city_label</th>\n      <th>state_qid</th>\n      <th>state_label</th>\n      <th>county_qid</th>\n      <th>county_label</th>\n      <th>country_qid</th>\n      <th>country_label</th>\n    </tr>\n  </thead>\n  <tbody>\n    <tr>\n      <th>0</th>\n      <td>AB Edmonton</td>\n      <td>Alberta</td>\n      <td>53.541407</td>\n      <td>-113.491451</td>\n      <td>-113.49,53.54</td>\n      <td>AB%20Edmonton,%20Alberta</td>\n      <td></td>\n      <td>wd:Q1951 wd:Q687536 wd:Q1965138 wd:Q4063377 wd...</td>\n      <td>None</td>\n      <td>None</td>\n      <td>Q1951</td>\n      <td>Alberta</td>\n      <td>None</td>\n      <td>None</td>\n      <td>Q16</td>\n      <td>Canada</td>\n    </tr>\n    <tr>\n      <th>1</th>\n      <td>AMBLER</td>\n      <td>Pennsylvania</td>\n      <td>40.153880</td>\n      <td>-75.223794</td>\n      <td>-75.22,40.15</td>\n      <td>AMBLER,%20Pennsylvania</td>\n      <td>wd:Q372248</td>\n      <td>wd:Q1400 wd:Q2475732 wd:Q49117 wd:Q3960056 wd:...</td>\n      <td>Q372248</td>\n      <td>Ambler</td>\n      <td>Q1400</td>\n      <td>Pennsylvania</td>\n      <td>Q378527</td>\n      <td>Montgomery County</td>\n      <td>Q30</td>\n      <td>United States of America</td>\n    </tr>\n    <tr>\n      <th>2</th>\n      <td>ARDMORE</td>\n      <td>Pennsylvania</td>\n      <td>40.004962</td>\n      <td>-75.285838</td>\n      <td>-75.29,40.0</td>\n      <td>ARDMORE,%20Pennsylvania</td>\n      <td>wd:Q1132213</td>\n      <td>wd:Q1400 wd:Q2475732 wd:Q49117 wd:Q3960056 wd:...</td>\n      <td>Q1132213</td>\n      <td>Ardmore</td>\n      <td>Q1400</td>\n      <td>Pennsylvania</td>\n      <td>Q378527</td>\n      <td>Montgomery County</td>\n      <td>Q30</td>\n      <td>United States of America</td>\n    </tr>\n    <tr>\n      <th>3</th>\n      <td>AVON</td>\n      <td>Indiana</td>\n      <td>39.764524</td>\n      <td>-86.380229</td>\n      <td>-86.38,39.76</td>\n      <td>AVON,%20Indiana</td>\n      <td>wd:Q791269</td>\n      <td>wd:Q1415 wd:Q1184769 wd:Q6023245 wd:Q141305 wd...</td>\n      <td>Q791269</td>\n      <td>Avon</td>\n      <td>Q1415</td>\n      <td>Indiana</td>\n      <td>Q506489</td>\n      <td>Hendricks County</td>\n      <td>Q30</td>\n      <td>United States of America</td>\n    </tr>\n    <tr>\n      <th>4</th>\n      <td>Abington</td>\n      <td>Pennsylvania</td>\n      <td>40.124513</td>\n      <td>-75.123322</td>\n      <td>-75.12,40.12</td>\n      <td>Abington,%20Pennsylvania</td>\n      <td>wd:Q88491559</td>\n      <td>wd:Q1400 wd:Q2475732 wd:Q49117 wd:Q3960056 wd:...</td>\n      <td>None</td>\n      <td>None</td>\n      <td>Q1400</td>\n      <td>Pennsylvania</td>\n      <td>None</td>\n      <td>None</td>\n      <td>Q30</td>\n      <td>United States of America</td>\n    </tr>\n    <tr>\n      <th>...</th>\n      <td>...</td>\n      <td>...</td>\n      <td>...</td>\n      <td>...</td>\n      <td>...</td>\n      <td>...</td>\n      <td>...</td>\n      <td>...</td>\n      <td>...</td>\n      <td>...</td>\n      <td>...</td>\n      <td>...</td>\n      <td>...</td>\n      <td>...</td>\n      <td>...</td>\n      <td>...</td>\n    </tr>\n    <tr>\n      <th>1440</th>\n      <td>wilmington</td>\n      <td>Delaware</td>\n      <td>39.737432</td>\n      <td>-75.554725</td>\n      <td>-75.55,39.74</td>\n      <td>wilmington,%20Delaware</td>\n      <td>wd:Q174224 wd:Q64156483 wd:Q64156489 wd:Q85815841</td>\n      <td>wd:Q1393 wd:Q986183 wd:Q82048 wd:Q622910 wd:Q2...</td>\n      <td>Q174224</td>\n      <td>Wilmington</td>\n      <td>Q1393</td>\n      <td>Delaware</td>\n      <td>Q156156</td>\n      <td>New Castle County</td>\n      <td>Q30</td>\n      <td>United States of America</td>\n    </tr>\n    <tr>\n      <th>1441</th>\n      <td>wimauma</td>\n      <td>Florida</td>\n      <td>27.712212</td>\n      <td>-82.298825</td>\n      <td>-82.3,27.71</td>\n      <td>wimauma,%20Florida</td>\n      <td>wd:Q1843074</td>\n      <td>wd:Q812 wd:Q842472 wd:Q643617 wd:Q2255913 wd:Q...</td>\n      <td>Q1843074</td>\n      <td>Wimauma</td>\n      <td>Q812</td>\n      <td>Florida</td>\n      <td>Q488874</td>\n      <td>Hillsborough County</td>\n      <td>Q30</td>\n      <td>United States of America</td>\n    </tr>\n    <tr>\n      <th>1442</th>\n      <td>​Clayton</td>\n      <td>Missouri</td>\n      <td>38.649840</td>\n      <td>-90.336491</td>\n      <td>-90.34,38.65</td>\n      <td>​Clayton,%20Missouri</td>\n      <td>wd:Q966922</td>\n      <td>wd:Q1581 wd:Q5419 wd:Q1939219 wd:Q111823126 wd...</td>\n      <td>Q966922</td>\n      <td>Clayton</td>\n      <td>Q1581</td>\n      <td>Missouri</td>\n      <td>Q498034</td>\n      <td>St. Louis County</td>\n      <td>Q30</td>\n      <td>United States of America</td>\n    </tr>\n    <tr>\n      <th>1443</th>\n      <td>​Largo</td>\n      <td>Florida</td>\n      <td>27.918354</td>\n      <td>-82.760554</td>\n      <td>-82.76,27.92</td>\n      <td>​Largo,%20Florida</td>\n      <td>wd:Q932577</td>\n      <td>wd:Q812 wd:Q842472 wd:Q643617 wd:Q2255913 wd:Q...</td>\n      <td>Q932577</td>\n      <td>Largo</td>\n      <td>Q812</td>\n      <td>Florida</td>\n      <td>Q494556</td>\n      <td>Pinellas County</td>\n      <td>Q30</td>\n      <td>United States of America</td>\n    </tr>\n    <tr>\n      <th>1444</th>\n      <td>​Lithia</td>\n      <td>Florida</td>\n      <td>27.851265</td>\n      <td>-82.260122</td>\n      <td>-82.26,27.85</td>\n      <td>​Lithia,%20Florida</td>\n      <td>wd:Q6647878</td>\n      <td>wd:Q812 wd:Q842472 wd:Q643617 wd:Q2255913 wd:Q...</td>\n      <td>Q6647878</td>\n      <td>Lithia</td>\n      <td>Q812</td>\n      <td>Florida</td>\n      <td>Q488874</td>\n      <td>Hillsborough County</td>\n      <td>Q30</td>\n      <td>United States of America</td>\n    </tr>\n  </tbody>\n</table>\n<p>1445 rows × 16 columns</p>\n</div>"
     },
     "execution_count": 32,
     "metadata": {},
     "output_type": "execute_result"
    }
   ],
   "source": [
    "df"
   ],
   "metadata": {
    "collapsed": false,
    "pycharm": {
     "name": "#%%\n"
    }
   }
  },
  {
   "cell_type": "markdown",
   "source": [
    "# Population"
   ],
   "metadata": {
    "collapsed": false
   }
  },
  {
   "cell_type": "code",
   "execution_count": 33,
   "outputs": [],
   "source": [
    "def city_population_query(city_qid: str):\n",
    "    try:\n",
    "        city_population_query = f\"\"\"\n",
    "        SELECT DISTINCT ?population\n",
    "        WHERE {{\n",
    "            ?city p:P1082 ?statement .\n",
    "            VALUES ?city {{wd:{city_qid}}}\n",
    "            ?statement ps:P1082 ?population .\n",
    "            ?statement pq:P585 ?date .\n",
    "            FILTER NOT EXISTS {{\n",
    "                ?city p:P1082/pq:P585 ?date2 .\n",
    "                FILTER(?date2 > ?date)\n",
    "\t        }}\n",
    "        }}\n",
    "        \"\"\"\n",
    "        a = wikidata_query(city_population_query)\n",
    "        return int(a['population.value'][0])\n",
    "    except:\n",
    "        return None"
   ],
   "metadata": {
    "collapsed": false,
    "pycharm": {
     "name": "#%%\n"
    }
   }
  },
  {
   "cell_type": "code",
   "execution_count": 34,
   "outputs": [],
   "source": [
    "df[\"population\"] = df[\"city_qid\"].apply(city_population_query)"
   ],
   "metadata": {
    "collapsed": false,
    "pycharm": {
     "name": "#%%\n"
    }
   }
  },
  {
   "cell_type": "code",
   "execution_count": 35,
   "outputs": [
    {
     "data": {
      "text/plain": "             city         state   latitude   longitude       location  \\\n0     AB Edmonton       Alberta  53.541407 -113.491451  -113.49,53.54   \n1          AMBLER  Pennsylvania  40.153880  -75.223794   -75.22,40.15   \n2         ARDMORE  Pennsylvania  40.004962  -75.285838    -75.29,40.0   \n3            AVON       Indiana  39.764524  -86.380229   -86.38,39.76   \n4        Abington  Pennsylvania  40.124513  -75.123322   -75.12,40.12   \n...           ...           ...        ...         ...            ...   \n1440   wilmington      Delaware  39.737432  -75.554725   -75.55,39.74   \n1441      wimauma       Florida  27.712212  -82.298825    -82.3,27.71   \n1442     ​Clayton      Missouri  38.649840  -90.336491   -90.34,38.65   \n1443       ​Largo       Florida  27.918354  -82.760554   -82.76,27.92   \n1444      ​Lithia       Florida  27.851265  -82.260122   -82.26,27.85   \n\n                 search_string  \\\n0     AB%20Edmonton,%20Alberta   \n1       AMBLER,%20Pennsylvania   \n2      ARDMORE,%20Pennsylvania   \n3              AVON,%20Indiana   \n4     Abington,%20Pennsylvania   \n...                        ...   \n1440    wilmington,%20Delaware   \n1441        wimauma,%20Florida   \n1442      ​Clayton,%20Missouri   \n1443         ​Largo,%20Florida   \n1444        ​Lithia,%20Florida   \n\n                                             city_q_ids  \\\n0                                                         \n1                                            wd:Q372248   \n2                                           wd:Q1132213   \n3                                            wd:Q791269   \n4                                          wd:Q88491559   \n...                                                 ...   \n1440  wd:Q174224 wd:Q64156483 wd:Q64156489 wd:Q85815841   \n1441                                        wd:Q1843074   \n1442                                         wd:Q966922   \n1443                                         wd:Q932577   \n1444                                        wd:Q6647878   \n\n                                            state_q_ids  city_qid  city_label  \\\n0     wd:Q1951 wd:Q687536 wd:Q1965138 wd:Q4063377 wd...      None        None   \n1     wd:Q1400 wd:Q2475732 wd:Q49117 wd:Q3960056 wd:...   Q372248      Ambler   \n2     wd:Q1400 wd:Q2475732 wd:Q49117 wd:Q3960056 wd:...  Q1132213     Ardmore   \n3     wd:Q1415 wd:Q1184769 wd:Q6023245 wd:Q141305 wd...   Q791269        Avon   \n4     wd:Q1400 wd:Q2475732 wd:Q49117 wd:Q3960056 wd:...      None        None   \n...                                                 ...       ...         ...   \n1440  wd:Q1393 wd:Q986183 wd:Q82048 wd:Q622910 wd:Q2...   Q174224  Wilmington   \n1441  wd:Q812 wd:Q842472 wd:Q643617 wd:Q2255913 wd:Q...  Q1843074     Wimauma   \n1442  wd:Q1581 wd:Q5419 wd:Q1939219 wd:Q111823126 wd...   Q966922     Clayton   \n1443  wd:Q812 wd:Q842472 wd:Q643617 wd:Q2255913 wd:Q...   Q932577       Largo   \n1444  wd:Q812 wd:Q842472 wd:Q643617 wd:Q2255913 wd:Q...  Q6647878      Lithia   \n\n     state_qid   state_label county_qid         county_label country_qid  \\\n0        Q1951       Alberta       None                 None         Q16   \n1        Q1400  Pennsylvania    Q378527    Montgomery County         Q30   \n2        Q1400  Pennsylvania    Q378527    Montgomery County         Q30   \n3        Q1415       Indiana    Q506489     Hendricks County         Q30   \n4        Q1400  Pennsylvania       None                 None         Q30   \n...        ...           ...        ...                  ...         ...   \n1440     Q1393      Delaware    Q156156    New Castle County         Q30   \n1441      Q812       Florida    Q488874  Hillsborough County         Q30   \n1442     Q1581      Missouri    Q498034     St. Louis County         Q30   \n1443      Q812       Florida    Q494556      Pinellas County         Q30   \n1444      Q812       Florida    Q488874  Hillsborough County         Q30   \n\n                 country_label  population  \n0                       Canada         NaN  \n1     United States of America      6807.0  \n2     United States of America     13566.0  \n3     United States of America     21474.0  \n4     United States of America         NaN  \n...                        ...         ...  \n1440  United States of America     70898.0  \n1441  United States of America      9467.0  \n1442  United States of America     17355.0  \n1443  United States of America     82485.0  \n1444  United States of America         NaN  \n\n[1445 rows x 17 columns]",
      "text/html": "<div>\n<style scoped>\n    .dataframe tbody tr th:only-of-type {\n        vertical-align: middle;\n    }\n\n    .dataframe tbody tr th {\n        vertical-align: top;\n    }\n\n    .dataframe thead th {\n        text-align: right;\n    }\n</style>\n<table border=\"1\" class=\"dataframe\">\n  <thead>\n    <tr style=\"text-align: right;\">\n      <th></th>\n      <th>city</th>\n      <th>state</th>\n      <th>latitude</th>\n      <th>longitude</th>\n      <th>location</th>\n      <th>search_string</th>\n      <th>city_q_ids</th>\n      <th>state_q_ids</th>\n      <th>city_qid</th>\n      <th>city_label</th>\n      <th>state_qid</th>\n      <th>state_label</th>\n      <th>county_qid</th>\n      <th>county_label</th>\n      <th>country_qid</th>\n      <th>country_label</th>\n      <th>population</th>\n    </tr>\n  </thead>\n  <tbody>\n    <tr>\n      <th>0</th>\n      <td>AB Edmonton</td>\n      <td>Alberta</td>\n      <td>53.541407</td>\n      <td>-113.491451</td>\n      <td>-113.49,53.54</td>\n      <td>AB%20Edmonton,%20Alberta</td>\n      <td></td>\n      <td>wd:Q1951 wd:Q687536 wd:Q1965138 wd:Q4063377 wd...</td>\n      <td>None</td>\n      <td>None</td>\n      <td>Q1951</td>\n      <td>Alberta</td>\n      <td>None</td>\n      <td>None</td>\n      <td>Q16</td>\n      <td>Canada</td>\n      <td>NaN</td>\n    </tr>\n    <tr>\n      <th>1</th>\n      <td>AMBLER</td>\n      <td>Pennsylvania</td>\n      <td>40.153880</td>\n      <td>-75.223794</td>\n      <td>-75.22,40.15</td>\n      <td>AMBLER,%20Pennsylvania</td>\n      <td>wd:Q372248</td>\n      <td>wd:Q1400 wd:Q2475732 wd:Q49117 wd:Q3960056 wd:...</td>\n      <td>Q372248</td>\n      <td>Ambler</td>\n      <td>Q1400</td>\n      <td>Pennsylvania</td>\n      <td>Q378527</td>\n      <td>Montgomery County</td>\n      <td>Q30</td>\n      <td>United States of America</td>\n      <td>6807.0</td>\n    </tr>\n    <tr>\n      <th>2</th>\n      <td>ARDMORE</td>\n      <td>Pennsylvania</td>\n      <td>40.004962</td>\n      <td>-75.285838</td>\n      <td>-75.29,40.0</td>\n      <td>ARDMORE,%20Pennsylvania</td>\n      <td>wd:Q1132213</td>\n      <td>wd:Q1400 wd:Q2475732 wd:Q49117 wd:Q3960056 wd:...</td>\n      <td>Q1132213</td>\n      <td>Ardmore</td>\n      <td>Q1400</td>\n      <td>Pennsylvania</td>\n      <td>Q378527</td>\n      <td>Montgomery County</td>\n      <td>Q30</td>\n      <td>United States of America</td>\n      <td>13566.0</td>\n    </tr>\n    <tr>\n      <th>3</th>\n      <td>AVON</td>\n      <td>Indiana</td>\n      <td>39.764524</td>\n      <td>-86.380229</td>\n      <td>-86.38,39.76</td>\n      <td>AVON,%20Indiana</td>\n      <td>wd:Q791269</td>\n      <td>wd:Q1415 wd:Q1184769 wd:Q6023245 wd:Q141305 wd...</td>\n      <td>Q791269</td>\n      <td>Avon</td>\n      <td>Q1415</td>\n      <td>Indiana</td>\n      <td>Q506489</td>\n      <td>Hendricks County</td>\n      <td>Q30</td>\n      <td>United States of America</td>\n      <td>21474.0</td>\n    </tr>\n    <tr>\n      <th>4</th>\n      <td>Abington</td>\n      <td>Pennsylvania</td>\n      <td>40.124513</td>\n      <td>-75.123322</td>\n      <td>-75.12,40.12</td>\n      <td>Abington,%20Pennsylvania</td>\n      <td>wd:Q88491559</td>\n      <td>wd:Q1400 wd:Q2475732 wd:Q49117 wd:Q3960056 wd:...</td>\n      <td>None</td>\n      <td>None</td>\n      <td>Q1400</td>\n      <td>Pennsylvania</td>\n      <td>None</td>\n      <td>None</td>\n      <td>Q30</td>\n      <td>United States of America</td>\n      <td>NaN</td>\n    </tr>\n    <tr>\n      <th>...</th>\n      <td>...</td>\n      <td>...</td>\n      <td>...</td>\n      <td>...</td>\n      <td>...</td>\n      <td>...</td>\n      <td>...</td>\n      <td>...</td>\n      <td>...</td>\n      <td>...</td>\n      <td>...</td>\n      <td>...</td>\n      <td>...</td>\n      <td>...</td>\n      <td>...</td>\n      <td>...</td>\n      <td>...</td>\n    </tr>\n    <tr>\n      <th>1440</th>\n      <td>wilmington</td>\n      <td>Delaware</td>\n      <td>39.737432</td>\n      <td>-75.554725</td>\n      <td>-75.55,39.74</td>\n      <td>wilmington,%20Delaware</td>\n      <td>wd:Q174224 wd:Q64156483 wd:Q64156489 wd:Q85815841</td>\n      <td>wd:Q1393 wd:Q986183 wd:Q82048 wd:Q622910 wd:Q2...</td>\n      <td>Q174224</td>\n      <td>Wilmington</td>\n      <td>Q1393</td>\n      <td>Delaware</td>\n      <td>Q156156</td>\n      <td>New Castle County</td>\n      <td>Q30</td>\n      <td>United States of America</td>\n      <td>70898.0</td>\n    </tr>\n    <tr>\n      <th>1441</th>\n      <td>wimauma</td>\n      <td>Florida</td>\n      <td>27.712212</td>\n      <td>-82.298825</td>\n      <td>-82.3,27.71</td>\n      <td>wimauma,%20Florida</td>\n      <td>wd:Q1843074</td>\n      <td>wd:Q812 wd:Q842472 wd:Q643617 wd:Q2255913 wd:Q...</td>\n      <td>Q1843074</td>\n      <td>Wimauma</td>\n      <td>Q812</td>\n      <td>Florida</td>\n      <td>Q488874</td>\n      <td>Hillsborough County</td>\n      <td>Q30</td>\n      <td>United States of America</td>\n      <td>9467.0</td>\n    </tr>\n    <tr>\n      <th>1442</th>\n      <td>​Clayton</td>\n      <td>Missouri</td>\n      <td>38.649840</td>\n      <td>-90.336491</td>\n      <td>-90.34,38.65</td>\n      <td>​Clayton,%20Missouri</td>\n      <td>wd:Q966922</td>\n      <td>wd:Q1581 wd:Q5419 wd:Q1939219 wd:Q111823126 wd...</td>\n      <td>Q966922</td>\n      <td>Clayton</td>\n      <td>Q1581</td>\n      <td>Missouri</td>\n      <td>Q498034</td>\n      <td>St. Louis County</td>\n      <td>Q30</td>\n      <td>United States of America</td>\n      <td>17355.0</td>\n    </tr>\n    <tr>\n      <th>1443</th>\n      <td>​Largo</td>\n      <td>Florida</td>\n      <td>27.918354</td>\n      <td>-82.760554</td>\n      <td>-82.76,27.92</td>\n      <td>​Largo,%20Florida</td>\n      <td>wd:Q932577</td>\n      <td>wd:Q812 wd:Q842472 wd:Q643617 wd:Q2255913 wd:Q...</td>\n      <td>Q932577</td>\n      <td>Largo</td>\n      <td>Q812</td>\n      <td>Florida</td>\n      <td>Q494556</td>\n      <td>Pinellas County</td>\n      <td>Q30</td>\n      <td>United States of America</td>\n      <td>82485.0</td>\n    </tr>\n    <tr>\n      <th>1444</th>\n      <td>​Lithia</td>\n      <td>Florida</td>\n      <td>27.851265</td>\n      <td>-82.260122</td>\n      <td>-82.26,27.85</td>\n      <td>​Lithia,%20Florida</td>\n      <td>wd:Q6647878</td>\n      <td>wd:Q812 wd:Q842472 wd:Q643617 wd:Q2255913 wd:Q...</td>\n      <td>Q6647878</td>\n      <td>Lithia</td>\n      <td>Q812</td>\n      <td>Florida</td>\n      <td>Q488874</td>\n      <td>Hillsborough County</td>\n      <td>Q30</td>\n      <td>United States of America</td>\n      <td>NaN</td>\n    </tr>\n  </tbody>\n</table>\n<p>1445 rows × 17 columns</p>\n</div>"
     },
     "execution_count": 35,
     "metadata": {},
     "output_type": "execute_result"
    }
   ],
   "source": [
    "df"
   ],
   "metadata": {
    "collapsed": false,
    "pycharm": {
     "name": "#%%\n"
    }
   }
  },
  {
   "cell_type": "code",
   "execution_count": null,
   "outputs": [],
   "source": [
    "df = city_state_keys.merge(df, how=\"left\", on=[\"city\", \"state\"])\n",
    "df.drop(columns=[\"latitude\", \"longitude\", \"location\", \"search_string\", \"city_q_ids\", \"state_q_ids\", \"city\", \"state\"], inplace=True)\n",
    "df.rename(columns={\"city_og\": \"city\", \"state_og\": \"state\"}, inplace=True)"
   ],
   "metadata": {
    "collapsed": false,
    "pycharm": {
     "name": "#%%\n",
     "is_executing": true
    }
   }
  },
  {
   "cell_type": "code",
   "execution_count": 52,
   "outputs": [],
   "source": [
    "df.to_csv(path_or_buf=get_path('location_mappings_search_location.csv'), index=False)"
   ],
   "metadata": {
    "collapsed": false,
    "pycharm": {
     "name": "#%%\n"
    }
   }
  },
  {
   "cell_type": "code",
   "execution_count": 83,
   "outputs": [],
   "source": [
    "df = wikidata_df = pd.read_csv(get_path(\"location_mappings_search_location.csv\"))"
   ],
   "metadata": {
    "collapsed": false,
    "pycharm": {
     "name": "#%%\n"
    }
   }
  },
  {
   "cell_type": "code",
   "execution_count": 60,
   "outputs": [],
   "source": [
    "biz.drop(columns=[\"city\", \"state\"], inplace=True)\n",
    "biz.rename(columns={\"city_og\": \"city\", \"state_og\": \"state\"}, inplace=True)"
   ],
   "metadata": {
    "collapsed": false,
    "pycharm": {
     "name": "#%%\n"
    }
   }
  },
  {
   "cell_type": "code",
   "execution_count": 84,
   "outputs": [],
   "source": [
    "data = biz.merge(df, how=\"left\", on=[\"city\", \"state\"])"
   ],
   "metadata": {
    "collapsed": false,
    "pycharm": {
     "name": "#%%\n"
    }
   }
  },
  {
   "cell_type": "code",
   "execution_count": 85,
   "outputs": [
    {
     "data": {
      "text/plain": "                   business_id                      name  \\\n0       Pns2l4eNsfO8kk83dixA6A  Abby Rappoport, LAC, CMQ   \n1       mpf3x-BjTdTEA3yCZrAYPw             The UPS Store   \n2       tUFrWirKiKi_TAnsVWINQQ                    Target   \n3       MTSW4McQd7CbVtyjqoe9mw        St Honore Pastries   \n4       mWMc6_wTdE0EUBKIGXDVfA  Perkiomen Valley Brewery   \n...                        ...                       ...   \n150341  IUQopTMmYQG-qRtBk-8QnA              Binh's Nails   \n150342  c8GjPIOTGVmIemT7j5_SyQ      Wild Birds Unlimited   \n150343  _QAMST-NrQobXduilWEqSw         Claire's Boutique   \n150344  mtGm22y5c2UHNXDFAjaPNw  Cyclery & Fitness Center   \n150345  jV_XOycEzSlTx-65W906pg                   Sic Ink   \n\n                                address           city state postal_code  \\\n0                1616 Chapala St, Ste 2  Santa Barbara    CA       93101   \n1       87 Grasso Plaza Shopping Center         Affton    MO       63123   \n2                  5255 E Broadway Blvd         Tucson    AZ       85711   \n3                           935 Race St   Philadelphia    PA       19107   \n4                         101 Walnut St     Green Lane    PA       18054   \n...                                 ...            ...   ...         ...   \n150341                3388 Gateway Blvd       Edmonton    AB     T6J 5H2   \n150342               2813 Bransford Ave      Nashville    TN       37204   \n150343           6020 E 82nd St, Ste 46   Indianapolis    IN       46250   \n150344                     2472 Troy Rd   Edwardsville    IL       62025   \n150345            238 Apollo Beach Blvd   Apollo beach    FL       33572   \n\n         latitude   longitude  stars  review_count  ...  \\\n0       34.426679 -119.711197    5.0             7  ...   \n1       38.551126  -90.335695    3.0            15  ...   \n2       32.223236 -110.880452    3.5            22  ...   \n3       39.955505  -75.155564    4.0            80  ...   \n4       40.338183  -75.471659    4.5            13  ...   \n...           ...         ...    ...           ...  ...   \n150341  53.468419 -113.492054    3.0            13  ...   \n150342  36.115118  -86.766925    4.0             5  ...   \n150343  39.908707  -86.065088    3.5             8  ...   \n150344  38.782351  -89.950558    4.0            24  ...   \n150345  27.771002  -82.394910    4.5             9  ...   \n\n                                                    hours  city_qid  \\\n0                                                    None   Q159288   \n1       {'Monday': '0:0-0:0', 'Tuesday': '8:0-18:30', ...   Q382985   \n2       {'Monday': '8:0-22:0', 'Tuesday': '8:0-22:0', ...    Q18575   \n3       {'Monday': '7:0-20:0', 'Tuesday': '7:0-20:0', ...     Q1345   \n4       {'Wednesday': '14:0-22:0', 'Thursday': '16:0-2...  Q1183476   \n...                                                   ...       ...   \n150341  {'Monday': '10:0-19:30', 'Tuesday': '10:0-19:3...     Q2096   \n150342  {'Monday': '9:30-17:30', 'Tuesday': '9:30-17:3...    Q23197   \n150343                                               None     Q6346   \n150344  {'Monday': '9:0-20:0', 'Tuesday': '9:0-20:0', ...   Q577939   \n150345  {'Tuesday': '12:0-19:0', 'Wednesday': '12:0-19...   Q619101   \n\n           city_label state_qid   state_label county_qid  \\\n0       Santa Barbara       Q99    California    Q108106   \n1              Affton     Q1581      Missouri    Q498034   \n2              Tucson      Q816       Arizona     Q58688   \n3        Philadelphia     Q1400  Pennsylvania    Q496900   \n4          Green Lane     Q1400  Pennsylvania    Q378527   \n...               ...       ...           ...        ...   \n150341       Edmonton     Q1951       Alberta        NaN   \n150342      Nashville     Q1509     Tennessee   Q1177705   \n150343   Indianapolis     Q1415       Indiana    Q506230   \n150344   Edwardsville     Q1204      Illinois    Q486448   \n150345   Apollo Beach      Q812       Florida    Q488874   \n\n                county_label country_qid             country_label population  \n0       Santa Barbara County         Q30  United States of America    88665.0  \n1           St. Louis County         Q30  United States of America    20417.0  \n2                Pima County         Q30  United States of America   542629.0  \n3        Philadelphia County         Q30  United States of America  1603797.0  \n4          Montgomery County         Q30  United States of America      490.0  \n...                      ...         ...                       ...        ...  \n150341                   NaN         Q16                    Canada  1010899.0  \n150342       Davidson County         Q30  United States of America   684410.0  \n150343         Marion County         Q30  United States of America   887642.0  \n150344        Madison County         Q30  United States of America    26808.0  \n150345   Hillsborough County         Q30  United States of America    26002.0  \n\n[150346 rows x 23 columns]",
      "text/html": "<div>\n<style scoped>\n    .dataframe tbody tr th:only-of-type {\n        vertical-align: middle;\n    }\n\n    .dataframe tbody tr th {\n        vertical-align: top;\n    }\n\n    .dataframe thead th {\n        text-align: right;\n    }\n</style>\n<table border=\"1\" class=\"dataframe\">\n  <thead>\n    <tr style=\"text-align: right;\">\n      <th></th>\n      <th>business_id</th>\n      <th>name</th>\n      <th>address</th>\n      <th>city</th>\n      <th>state</th>\n      <th>postal_code</th>\n      <th>latitude</th>\n      <th>longitude</th>\n      <th>stars</th>\n      <th>review_count</th>\n      <th>...</th>\n      <th>hours</th>\n      <th>city_qid</th>\n      <th>city_label</th>\n      <th>state_qid</th>\n      <th>state_label</th>\n      <th>county_qid</th>\n      <th>county_label</th>\n      <th>country_qid</th>\n      <th>country_label</th>\n      <th>population</th>\n    </tr>\n  </thead>\n  <tbody>\n    <tr>\n      <th>0</th>\n      <td>Pns2l4eNsfO8kk83dixA6A</td>\n      <td>Abby Rappoport, LAC, CMQ</td>\n      <td>1616 Chapala St, Ste 2</td>\n      <td>Santa Barbara</td>\n      <td>CA</td>\n      <td>93101</td>\n      <td>34.426679</td>\n      <td>-119.711197</td>\n      <td>5.0</td>\n      <td>7</td>\n      <td>...</td>\n      <td>None</td>\n      <td>Q159288</td>\n      <td>Santa Barbara</td>\n      <td>Q99</td>\n      <td>California</td>\n      <td>Q108106</td>\n      <td>Santa Barbara County</td>\n      <td>Q30</td>\n      <td>United States of America</td>\n      <td>88665.0</td>\n    </tr>\n    <tr>\n      <th>1</th>\n      <td>mpf3x-BjTdTEA3yCZrAYPw</td>\n      <td>The UPS Store</td>\n      <td>87 Grasso Plaza Shopping Center</td>\n      <td>Affton</td>\n      <td>MO</td>\n      <td>63123</td>\n      <td>38.551126</td>\n      <td>-90.335695</td>\n      <td>3.0</td>\n      <td>15</td>\n      <td>...</td>\n      <td>{'Monday': '0:0-0:0', 'Tuesday': '8:0-18:30', ...</td>\n      <td>Q382985</td>\n      <td>Affton</td>\n      <td>Q1581</td>\n      <td>Missouri</td>\n      <td>Q498034</td>\n      <td>St. Louis County</td>\n      <td>Q30</td>\n      <td>United States of America</td>\n      <td>20417.0</td>\n    </tr>\n    <tr>\n      <th>2</th>\n      <td>tUFrWirKiKi_TAnsVWINQQ</td>\n      <td>Target</td>\n      <td>5255 E Broadway Blvd</td>\n      <td>Tucson</td>\n      <td>AZ</td>\n      <td>85711</td>\n      <td>32.223236</td>\n      <td>-110.880452</td>\n      <td>3.5</td>\n      <td>22</td>\n      <td>...</td>\n      <td>{'Monday': '8:0-22:0', 'Tuesday': '8:0-22:0', ...</td>\n      <td>Q18575</td>\n      <td>Tucson</td>\n      <td>Q816</td>\n      <td>Arizona</td>\n      <td>Q58688</td>\n      <td>Pima County</td>\n      <td>Q30</td>\n      <td>United States of America</td>\n      <td>542629.0</td>\n    </tr>\n    <tr>\n      <th>3</th>\n      <td>MTSW4McQd7CbVtyjqoe9mw</td>\n      <td>St Honore Pastries</td>\n      <td>935 Race St</td>\n      <td>Philadelphia</td>\n      <td>PA</td>\n      <td>19107</td>\n      <td>39.955505</td>\n      <td>-75.155564</td>\n      <td>4.0</td>\n      <td>80</td>\n      <td>...</td>\n      <td>{'Monday': '7:0-20:0', 'Tuesday': '7:0-20:0', ...</td>\n      <td>Q1345</td>\n      <td>Philadelphia</td>\n      <td>Q1400</td>\n      <td>Pennsylvania</td>\n      <td>Q496900</td>\n      <td>Philadelphia County</td>\n      <td>Q30</td>\n      <td>United States of America</td>\n      <td>1603797.0</td>\n    </tr>\n    <tr>\n      <th>4</th>\n      <td>mWMc6_wTdE0EUBKIGXDVfA</td>\n      <td>Perkiomen Valley Brewery</td>\n      <td>101 Walnut St</td>\n      <td>Green Lane</td>\n      <td>PA</td>\n      <td>18054</td>\n      <td>40.338183</td>\n      <td>-75.471659</td>\n      <td>4.5</td>\n      <td>13</td>\n      <td>...</td>\n      <td>{'Wednesday': '14:0-22:0', 'Thursday': '16:0-2...</td>\n      <td>Q1183476</td>\n      <td>Green Lane</td>\n      <td>Q1400</td>\n      <td>Pennsylvania</td>\n      <td>Q378527</td>\n      <td>Montgomery County</td>\n      <td>Q30</td>\n      <td>United States of America</td>\n      <td>490.0</td>\n    </tr>\n    <tr>\n      <th>...</th>\n      <td>...</td>\n      <td>...</td>\n      <td>...</td>\n      <td>...</td>\n      <td>...</td>\n      <td>...</td>\n      <td>...</td>\n      <td>...</td>\n      <td>...</td>\n      <td>...</td>\n      <td>...</td>\n      <td>...</td>\n      <td>...</td>\n      <td>...</td>\n      <td>...</td>\n      <td>...</td>\n      <td>...</td>\n      <td>...</td>\n      <td>...</td>\n      <td>...</td>\n      <td>...</td>\n    </tr>\n    <tr>\n      <th>150341</th>\n      <td>IUQopTMmYQG-qRtBk-8QnA</td>\n      <td>Binh's Nails</td>\n      <td>3388 Gateway Blvd</td>\n      <td>Edmonton</td>\n      <td>AB</td>\n      <td>T6J 5H2</td>\n      <td>53.468419</td>\n      <td>-113.492054</td>\n      <td>3.0</td>\n      <td>13</td>\n      <td>...</td>\n      <td>{'Monday': '10:0-19:30', 'Tuesday': '10:0-19:3...</td>\n      <td>Q2096</td>\n      <td>Edmonton</td>\n      <td>Q1951</td>\n      <td>Alberta</td>\n      <td>NaN</td>\n      <td>NaN</td>\n      <td>Q16</td>\n      <td>Canada</td>\n      <td>1010899.0</td>\n    </tr>\n    <tr>\n      <th>150342</th>\n      <td>c8GjPIOTGVmIemT7j5_SyQ</td>\n      <td>Wild Birds Unlimited</td>\n      <td>2813 Bransford Ave</td>\n      <td>Nashville</td>\n      <td>TN</td>\n      <td>37204</td>\n      <td>36.115118</td>\n      <td>-86.766925</td>\n      <td>4.0</td>\n      <td>5</td>\n      <td>...</td>\n      <td>{'Monday': '9:30-17:30', 'Tuesday': '9:30-17:3...</td>\n      <td>Q23197</td>\n      <td>Nashville</td>\n      <td>Q1509</td>\n      <td>Tennessee</td>\n      <td>Q1177705</td>\n      <td>Davidson County</td>\n      <td>Q30</td>\n      <td>United States of America</td>\n      <td>684410.0</td>\n    </tr>\n    <tr>\n      <th>150343</th>\n      <td>_QAMST-NrQobXduilWEqSw</td>\n      <td>Claire's Boutique</td>\n      <td>6020 E 82nd St, Ste 46</td>\n      <td>Indianapolis</td>\n      <td>IN</td>\n      <td>46250</td>\n      <td>39.908707</td>\n      <td>-86.065088</td>\n      <td>3.5</td>\n      <td>8</td>\n      <td>...</td>\n      <td>None</td>\n      <td>Q6346</td>\n      <td>Indianapolis</td>\n      <td>Q1415</td>\n      <td>Indiana</td>\n      <td>Q506230</td>\n      <td>Marion County</td>\n      <td>Q30</td>\n      <td>United States of America</td>\n      <td>887642.0</td>\n    </tr>\n    <tr>\n      <th>150344</th>\n      <td>mtGm22y5c2UHNXDFAjaPNw</td>\n      <td>Cyclery &amp; Fitness Center</td>\n      <td>2472 Troy Rd</td>\n      <td>Edwardsville</td>\n      <td>IL</td>\n      <td>62025</td>\n      <td>38.782351</td>\n      <td>-89.950558</td>\n      <td>4.0</td>\n      <td>24</td>\n      <td>...</td>\n      <td>{'Monday': '9:0-20:0', 'Tuesday': '9:0-20:0', ...</td>\n      <td>Q577939</td>\n      <td>Edwardsville</td>\n      <td>Q1204</td>\n      <td>Illinois</td>\n      <td>Q486448</td>\n      <td>Madison County</td>\n      <td>Q30</td>\n      <td>United States of America</td>\n      <td>26808.0</td>\n    </tr>\n    <tr>\n      <th>150345</th>\n      <td>jV_XOycEzSlTx-65W906pg</td>\n      <td>Sic Ink</td>\n      <td>238 Apollo Beach Blvd</td>\n      <td>Apollo beach</td>\n      <td>FL</td>\n      <td>33572</td>\n      <td>27.771002</td>\n      <td>-82.394910</td>\n      <td>4.5</td>\n      <td>9</td>\n      <td>...</td>\n      <td>{'Tuesday': '12:0-19:0', 'Wednesday': '12:0-19...</td>\n      <td>Q619101</td>\n      <td>Apollo Beach</td>\n      <td>Q812</td>\n      <td>Florida</td>\n      <td>Q488874</td>\n      <td>Hillsborough County</td>\n      <td>Q30</td>\n      <td>United States of America</td>\n      <td>26002.0</td>\n    </tr>\n  </tbody>\n</table>\n<p>150346 rows × 23 columns</p>\n</div>"
     },
     "execution_count": 85,
     "metadata": {},
     "output_type": "execute_result"
    }
   ],
   "source": [
    "data"
   ],
   "metadata": {
    "collapsed": false,
    "pycharm": {
     "name": "#%%\n"
    }
   }
  },
  {
   "cell_type": "code",
   "execution_count": 88,
   "outputs": [],
   "source": [
    "from rdflib import Namespace, Graph, URIRef, Literal, XSD\n",
    "from rdflib.namespace import RDFS"
   ],
   "metadata": {
    "collapsed": false,
    "pycharm": {
     "name": "#%%\n"
    }
   }
  },
  {
   "cell_type": "code",
   "execution_count": 89,
   "outputs": [],
   "source": [
    "# Define a namespace for your graph (optional)\n",
    "schema = Namespace(\"https://schema.org/\")\n",
    "skos = Namespace(\"https://www.w3.org/2004/02/skos/core#\")\n",
    "business_uri = Namespace(\"https://www.yelp.com/biz/\")\n",
    "user_uri = Namespace(\"https://www.yelp.com/user_details?userid=\")\n",
    "yelpcat = Namespace(\"https://purl.archive.org/purl/yelp/business_categories#\")\n",
    "yelpont = Namespace(\"https://purl.archive.org/purl/yelp/ontology#\")\n",
    "yelpent = Namespace(\"https://purl.archive.org/purl/yelp/yelp_entities#\")\n",
    "wiki = Namespace(\"https://www.wikidata.org/entity/\")\n",
    "population_predicate = wiki + \"P1082\"  # P1082 = population\n",
    "location_predicate = wiki + \"P131\"  # P131 = located in the administrative territorial entity\n",
    "instance_of_predicate = wiki + \"P31\"  # P31 = instance of"
   ],
   "metadata": {
    "collapsed": false,
    "pycharm": {
     "name": "#%%\n"
    }
   }
  },
  {
   "cell_type": "code",
   "execution_count": 95,
   "outputs": [
    {
     "data": {
      "text/plain": "                city state  city_qid               city_label state_qid  \\\n0      Santa Barbara    CA   Q159288            Santa Barbara       Q99   \n1             Affton    MO   Q382985                   Affton     Q1581   \n2             Tucson    AZ    Q18575                   Tucson      Q816   \n3       Philadelphia    PA     Q1345             Philadelphia     Q1400   \n4         Green Lane    PA  Q1183476               Green Lane     Q1400   \n...              ...   ...       ...                      ...       ...   \n1462         Slidell    LA   Q988156                  Slidell     Q1588   \n1463           Wales    PA       NaN                      NaN     Q1400   \n1464  UPPER MORELAND    PA  Q7898809  Upper Moreland Township     Q1400   \n1465           Aston    DE       NaN                      NaN     Q1393   \n1466    Apollo beach    FL   Q619101             Apollo Beach      Q812   \n\n       state_label county_qid          county_label country_qid  \\\n0       California    Q108106  Santa Barbara County         Q30   \n1         Missouri    Q498034      St. Louis County         Q30   \n2          Arizona     Q58688           Pima County         Q30   \n3     Pennsylvania    Q496900   Philadelphia County         Q30   \n4     Pennsylvania    Q378527     Montgomery County         Q30   \n...            ...        ...                   ...         ...   \n1462     Louisiana        NaN                   NaN         Q30   \n1463  Pennsylvania        NaN                   NaN         Q30   \n1464  Pennsylvania    Q378527     Montgomery County         Q30   \n1465      Delaware        NaN                   NaN         Q30   \n1466       Florida    Q488874   Hillsborough County         Q30   \n\n                 country_label  population  \n0     United States of America     88665.0  \n1     United States of America     20417.0  \n2     United States of America    542629.0  \n3     United States of America   1603797.0  \n4     United States of America       490.0  \n...                        ...         ...  \n1462  United States of America     28781.0  \n1463  United States of America         NaN  \n1464  United States of America     26116.0  \n1465  United States of America         NaN  \n1466  United States of America     26002.0  \n\n[1467 rows x 11 columns]",
      "text/html": "<div>\n<style scoped>\n    .dataframe tbody tr th:only-of-type {\n        vertical-align: middle;\n    }\n\n    .dataframe tbody tr th {\n        vertical-align: top;\n    }\n\n    .dataframe thead th {\n        text-align: right;\n    }\n</style>\n<table border=\"1\" class=\"dataframe\">\n  <thead>\n    <tr style=\"text-align: right;\">\n      <th></th>\n      <th>city</th>\n      <th>state</th>\n      <th>city_qid</th>\n      <th>city_label</th>\n      <th>state_qid</th>\n      <th>state_label</th>\n      <th>county_qid</th>\n      <th>county_label</th>\n      <th>country_qid</th>\n      <th>country_label</th>\n      <th>population</th>\n    </tr>\n  </thead>\n  <tbody>\n    <tr>\n      <th>0</th>\n      <td>Santa Barbara</td>\n      <td>CA</td>\n      <td>Q159288</td>\n      <td>Santa Barbara</td>\n      <td>Q99</td>\n      <td>California</td>\n      <td>Q108106</td>\n      <td>Santa Barbara County</td>\n      <td>Q30</td>\n      <td>United States of America</td>\n      <td>88665.0</td>\n    </tr>\n    <tr>\n      <th>1</th>\n      <td>Affton</td>\n      <td>MO</td>\n      <td>Q382985</td>\n      <td>Affton</td>\n      <td>Q1581</td>\n      <td>Missouri</td>\n      <td>Q498034</td>\n      <td>St. Louis County</td>\n      <td>Q30</td>\n      <td>United States of America</td>\n      <td>20417.0</td>\n    </tr>\n    <tr>\n      <th>2</th>\n      <td>Tucson</td>\n      <td>AZ</td>\n      <td>Q18575</td>\n      <td>Tucson</td>\n      <td>Q816</td>\n      <td>Arizona</td>\n      <td>Q58688</td>\n      <td>Pima County</td>\n      <td>Q30</td>\n      <td>United States of America</td>\n      <td>542629.0</td>\n    </tr>\n    <tr>\n      <th>3</th>\n      <td>Philadelphia</td>\n      <td>PA</td>\n      <td>Q1345</td>\n      <td>Philadelphia</td>\n      <td>Q1400</td>\n      <td>Pennsylvania</td>\n      <td>Q496900</td>\n      <td>Philadelphia County</td>\n      <td>Q30</td>\n      <td>United States of America</td>\n      <td>1603797.0</td>\n    </tr>\n    <tr>\n      <th>4</th>\n      <td>Green Lane</td>\n      <td>PA</td>\n      <td>Q1183476</td>\n      <td>Green Lane</td>\n      <td>Q1400</td>\n      <td>Pennsylvania</td>\n      <td>Q378527</td>\n      <td>Montgomery County</td>\n      <td>Q30</td>\n      <td>United States of America</td>\n      <td>490.0</td>\n    </tr>\n    <tr>\n      <th>...</th>\n      <td>...</td>\n      <td>...</td>\n      <td>...</td>\n      <td>...</td>\n      <td>...</td>\n      <td>...</td>\n      <td>...</td>\n      <td>...</td>\n      <td>...</td>\n      <td>...</td>\n      <td>...</td>\n    </tr>\n    <tr>\n      <th>1462</th>\n      <td>Slidell</td>\n      <td>LA</td>\n      <td>Q988156</td>\n      <td>Slidell</td>\n      <td>Q1588</td>\n      <td>Louisiana</td>\n      <td>NaN</td>\n      <td>NaN</td>\n      <td>Q30</td>\n      <td>United States of America</td>\n      <td>28781.0</td>\n    </tr>\n    <tr>\n      <th>1463</th>\n      <td>Wales</td>\n      <td>PA</td>\n      <td>NaN</td>\n      <td>NaN</td>\n      <td>Q1400</td>\n      <td>Pennsylvania</td>\n      <td>NaN</td>\n      <td>NaN</td>\n      <td>Q30</td>\n      <td>United States of America</td>\n      <td>NaN</td>\n    </tr>\n    <tr>\n      <th>1464</th>\n      <td>UPPER MORELAND</td>\n      <td>PA</td>\n      <td>Q7898809</td>\n      <td>Upper Moreland Township</td>\n      <td>Q1400</td>\n      <td>Pennsylvania</td>\n      <td>Q378527</td>\n      <td>Montgomery County</td>\n      <td>Q30</td>\n      <td>United States of America</td>\n      <td>26116.0</td>\n    </tr>\n    <tr>\n      <th>1465</th>\n      <td>Aston</td>\n      <td>DE</td>\n      <td>NaN</td>\n      <td>NaN</td>\n      <td>Q1393</td>\n      <td>Delaware</td>\n      <td>NaN</td>\n      <td>NaN</td>\n      <td>Q30</td>\n      <td>United States of America</td>\n      <td>NaN</td>\n    </tr>\n    <tr>\n      <th>1466</th>\n      <td>Apollo beach</td>\n      <td>FL</td>\n      <td>Q619101</td>\n      <td>Apollo Beach</td>\n      <td>Q812</td>\n      <td>Florida</td>\n      <td>Q488874</td>\n      <td>Hillsborough County</td>\n      <td>Q30</td>\n      <td>United States of America</td>\n      <td>26002.0</td>\n    </tr>\n  </tbody>\n</table>\n<p>1467 rows × 11 columns</p>\n</div>"
     },
     "execution_count": 95,
     "metadata": {},
     "output_type": "execute_result"
    }
   ],
   "source": [
    "df"
   ],
   "metadata": {
    "collapsed": false,
    "pycharm": {
     "name": "#%%\n"
    }
   }
  },
  {
   "cell_type": "code",
   "execution_count": 97,
   "outputs": [
    {
     "data": {
      "text/plain": "0         Q99\n1       Q1581\n2        Q816\n3       Q1400\n4       Q1400\n        ...  \n1462    Q1588\n1463    Q1400\n1464    Q1400\n1465    Q1393\n1466     Q812\nName: state_qid, Length: 1467, dtype: object"
     },
     "execution_count": 97,
     "metadata": {},
     "output_type": "execute_result"
    }
   ],
   "source": [
    "eval(f\"df.{'state'}_qid\")"
   ],
   "metadata": {
    "collapsed": false,
    "pycharm": {
     "name": "#%%\n"
    }
   }
  },
  {
   "cell_type": "code",
   "execution_count": 107,
   "outputs": [],
   "source": [
    "def add_to_graph(row, lower_level, higher_level, higher_instance):\n",
    "    graph = Graph()\n",
    "\n",
    "    G.add((URIRef(wiki[eval(f\"row.{lower_level}_qid\")]), URIRef(location_predicate), URIRef(wiki[eval(f\"row.{higher_level}_qid\")])))\n",
    "    G.add((URIRef(wiki[eval(f\"row.{higher_level}_qid\")]), URIRef(RDFS.label), Literal(eval(f\"row.{higher_level}_label\"), datatype=XSD.string)))\n",
    "    G.add((URIRef(wiki[eval(f\"row.{higher_level}_qid\")]), URIRef(instance_of_predicate), URIRef(wiki + higher_instance)))\n",
    "\n",
    "    return graph"
   ],
   "metadata": {
    "collapsed": false,
    "pycharm": {
     "name": "#%%\n"
    }
   }
  },
  {
   "cell_type": "code",
   "execution_count": 108,
   "outputs": [],
   "source": [
    "G = Graph()\n",
    "for row in data.itertuples():\n",
    "    if row.city_qid:\n",
    "        G.add((URIRef(yelpont[row.business_id]), URIRef(schema['location']), URIRef(wiki[row.city_qid])))\n",
    "        G.add((URIRef(wiki[row.city_qid]), URIRef(RDFS.label), Literal(row.city_label, datatype=XSD.string)))\n",
    "        if row.population:\n",
    "            G.add((URIRef(wiki[row.city_qid]), URIRef(population_predicate), Literal(row.population, datatype=XSD.integer)))\n",
    "\n",
    "        if row.county_qid:\n",
    "            G += add_to_graph(row, \"city\", \"county\", \"Q28575\")\n",
    "            if row.state_qid:\n",
    "                G += add_to_graph(row, \"county\", \"state\", \"Q7275\")\n",
    "                if row.country_qid:\n",
    "                    G += add_to_graph(row, \"state\", \"country\", \"Q6256\") # to state\n",
    "            elif row.country_qid:\n",
    "                G += add_to_graph(row, \"county\", \"country\", \"Q6256\") # to county\n",
    "        elif row.state_qid:\n",
    "            G += add_to_graph(row, \"city\", \"state\", \"Q7275\") # to city\n",
    "            if row.country_qid:\n",
    "                G += add_to_graph(row, \"state\", \"country\", \"Q6256\") # to state\n",
    "        elif row.country_qid:\n",
    "            G += add_to_graph(row, \"city\", \"country\", \"Q6256\") # to city\n",
    "    elif row.state_qid:\n",
    "        G.add((URIRef(yelpont[row.business_id]), URIRef(schema['location']), URIRef(wiki[row.state_qid])))\n",
    "        G.add((URIRef(wiki[row.state_qid]), URIRef(RDFS.label), Literal(row.state_label, datatype=XSD.string)))\n",
    "        G.add((URIRef(wiki[row.state_id]), URIRef(instance_of_predicate), URIRef(wiki[row.state_id])))\n",
    "        if row.country_qid:\n",
    "            G += add_to_graph(row, \"state\", \"country\", \"Q6256\") # to state"
   ],
   "metadata": {
    "collapsed": false,
    "pycharm": {
     "name": "#%%\n"
    }
   }
  },
  {
   "cell_type": "code",
   "execution_count": null,
   "outputs": [],
   "source": [],
   "metadata": {
    "collapsed": false,
    "pycharm": {
     "name": "#%%\n"
    }
   }
  }
 ],
 "metadata": {
  "kernelspec": {
   "display_name": "Python 3",
   "language": "python",
   "name": "python3"
  },
  "language_info": {
   "codemirror_mode": {
    "name": "ipython",
    "version": 2
   },
   "file_extension": ".py",
   "mimetype": "text/x-python",
   "name": "python",
   "nbconvert_exporter": "python",
   "pygments_lexer": "ipython2",
   "version": "2.7.6"
  }
 },
 "nbformat": 4,
 "nbformat_minor": 0
}