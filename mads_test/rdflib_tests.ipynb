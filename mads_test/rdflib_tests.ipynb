{
 "cells": [
  {
   "cell_type": "code",
   "execution_count": 141,
   "metadata": {
    "collapsed": true,
    "pycharm": {
     "name": "#%%\n"
    }
   },
   "outputs": [],
   "source": [
    "from rdflib import Graph, Literal, URIRef, BNode, Namespace\n",
    "from rdflib.namespace import FOAF, RDF, XSD, RDFS, OWL\n",
    "\n",
    "example_namespace = Namespace(\"http://example.org/\")  # Kan bruges som et alias til et namespace"
   ]
  },
  {
   "cell_type": "code",
   "execution_count": 142,
   "outputs": [
    {
     "data": {
      "text/plain": "<Graph identifier=Nba4abf17c35e41a0875c39d66de6522c (<class 'rdflib.graph.Graph'>)>"
     },
     "execution_count": 142,
     "metadata": {},
     "output_type": "execute_result"
    }
   ],
   "source": [
    "g = Graph()\n",
    "g.bind('foaf', FOAF)  # Angiver det, som aliasset for namespace skal kaldes. Hvis det ikke indstilles kaldes aliasser ns1, ns2, ...\n",
    "\n",
    "mads = URIRef(example_namespace.Mads)\n",
    "emma = BNode()\n",
    "\n",
    "name_mads = Literal(\"Mads\", datatype=XSD.string)\n",
    "age_mads = Literal(26, datatype=XSD.integer)\n",
    "phone_mads = Literal('+45 25144756', datatype=XSD.string)\n",
    "\n",
    "data_scientist = URIRef(example_namespace.DataScientist)\n",
    "\n",
    "g.add((data_scientist, RDFS.subClassOf, FOAF.Person))\n",
    "g.add((FOAF.knows, RDF.type, OWL.SymmetricProperty))  # Make the FOAF.knows predicate symmetric\n",
    "\n",
    "g.add((mads, RDF.type, data_scientist))  # g.add((subject, predicate, object))\n",
    "g.add((mads, FOAF.name, name_mads))\n",
    "g.add((mads, FOAF.age, age_mads))\n",
    "g.add((mads, FOAF.knows, emma))\n",
    "\n",
    "g.add((emma, RDF.type, FOAF.Person))\n",
    "g.add((emma, FOAF.name, Literal(\"Emma\", datatype=XSD.string)))\n",
    "g.add((mads, example_namespace.phone, phone_mads))"
   ],
   "metadata": {
    "collapsed": false,
    "pycharm": {
     "name": "#%%\n"
    }
   }
  },
  {
   "cell_type": "code",
   "execution_count": 143,
   "outputs": [
    {
     "name": "stdout",
     "output_type": "stream",
     "text": [
      "@prefix foaf: <http://xmlns.com/foaf/0.1/> .\n",
      "@prefix ns1: <http://example.org/> .\n",
      "@prefix owl: <http://www.w3.org/2002/07/owl#> .\n",
      "@prefix rdfs: <http://www.w3.org/2000/01/rdf-schema#> .\n",
      "@prefix xsd: <http://www.w3.org/2001/XMLSchema#> .\n",
      "\n",
      "ns1:Mads a ns1:DataScientist ;\n",
      "    ns1:phone \"+45 25144756\"^^xsd:string ;\n",
      "    foaf:age 26 ;\n",
      "    foaf:knows [ a foaf:Person ;\n",
      "            foaf:name \"Emma\"^^xsd:string ] ;\n",
      "    foaf:name \"Mads\"^^xsd:string .\n",
      "\n",
      "foaf:knows a owl:SymmetricProperty .\n",
      "\n",
      "ns1:DataScientist rdfs:subClassOf foaf:Person .\n",
      "\n",
      "\n"
     ]
    }
   ],
   "source": [
    "print(g.serialize())"
   ],
   "metadata": {
    "collapsed": false,
    "pycharm": {
     "name": "#%%\n"
    }
   }
  },
  {
   "cell_type": "code",
   "execution_count": 146,
   "outputs": [
    {
     "data": {
      "text/plain": "<Graph identifier=Nba4abf17c35e41a0875c39d66de6522c (<class 'rdflib.graph.Graph'>)>"
     },
     "execution_count": 146,
     "metadata": {},
     "output_type": "execute_result"
    }
   ],
   "source": [
    "g.serialize(destination=\"test_turtle.ttl\")"
   ],
   "metadata": {
    "collapsed": false,
    "pycharm": {
     "name": "#%%\n"
    }
   }
  },
  {
   "cell_type": "code",
   "execution_count": 144,
   "outputs": [
    {
     "name": "stdout",
     "output_type": "stream",
     "text": [
      "http://xmlns.com/foaf/0.1/knows is a http://www.w3.org/2002/07/owl#SymmetricProperty\n",
      "http://example.org/Mads is a http://example.org/DataScientist\n",
      "N850aece3497845a79553cdca5d2900fa is a http://xmlns.com/foaf/0.1/Person\n"
     ]
    }
   ],
   "source": [
    "for _subject, _predicate, _object in g.triples((None, RDF.type, None)):\n",
    "    print(f\"{_subject} is a {_object}\")"
   ],
   "metadata": {
    "collapsed": false,
    "pycharm": {
     "name": "#%%\n"
    }
   }
  },
  {
   "cell_type": "code",
   "execution_count": 145,
   "outputs": [
    {
     "name": "stdout",
     "output_type": "stream",
     "text": [
      "http://example.org/Mads knows N850aece3497845a79553cdca5d2900fa\n"
     ]
    }
   ],
   "source": [
    "for _subject, _predicate, _object in g.triples((None, FOAF.knows, None)):\n",
    "    print(f\"{_subject} knows {_object}\")"
   ],
   "metadata": {
    "collapsed": false,
    "pycharm": {
     "name": "#%%\n"
    }
   }
  }
 ],
 "metadata": {
  "kernelspec": {
   "display_name": "Python 3",
   "language": "python",
   "name": "python3"
  },
  "language_info": {
   "codemirror_mode": {
    "name": "ipython",
    "version": 2
   },
   "file_extension": ".py",
   "mimetype": "text/x-python",
   "name": "python",
   "nbconvert_exporter": "python",
   "pygments_lexer": "ipython2",
   "version": "2.7.6"
  }
 },
 "nbformat": 4,
 "nbformat_minor": 0
}